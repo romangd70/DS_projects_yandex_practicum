{
 "cells": [
  {
   "cell_type": "markdown",
   "metadata": {},
   "source": [
    "# Выбор локации для скважины"
   ]
  },
  {
   "cell_type": "markdown",
   "metadata": {},
   "source": [
    "Описание проекта: компания «ГлавРосГосНефть» должна выбрать, в каком регионе начать добывать нефть для того, чтобы максимизировать прибыль\n",
    "    \n",
    "Цель исследования: используя модель, которая предскажет объём запасов в новых скважинах, нужно выбрать скважины с самыми высокими оценками значений и определить регион с максимальной суммарной прибылью отобранных скважин.\n",
    "    \n",
    "Ход исследования:\n",
    "\n",
    "    Подготовка данных: загрузка и изучение общей информации из предоставленных датасетов\n",
    "    \n",
    "    Предобработка данных: обработка пропущенных значений, удаление дубликатов и т.д.\n",
    "    \n",
    "    Исследовательский анализ данных: статистический анализ всех признаков\n",
    "   \n",
    "    Корреляционный анализ данных: расчет коэффициентов корреляции для всех признаков\n",
    "    \n",
    "    Обучение модели: обучение модели линейной регрессии и её проверка на каждом регионе\n",
    "    \n",
    "    Расчет прибыли: расчет достаточного объёма сырья для безубыточной разработки новой скважины\n",
    "    \n",
    "    Расчет рисков и прибыли для каждого региона: применив технику Bootstrap, найти распределение прибыли, 95% доверительный интервал и риск убытков.\n",
    "    \n",
    "Общий вывод: резюмирование полученных результатов, формулировка ключевых выводов и рекомендаций: окончательный выбор региона для разработки скважины\n",
    " "
   ]
  },
  {
   "cell_type": "markdown",
   "metadata": {},
   "source": [
    "## Загрузка и подготовка данных"
   ]
  },
  {
   "cell_type": "code",
   "execution_count": 1,
   "metadata": {},
   "outputs": [],
   "source": [
    "TEST_SIZE=0.75\n",
    "RANDOM_STATE=42\n",
    "import pandas as pd\n",
    "import seaborn as sns\n",
    "import numpy as np\n",
    "import matplotlib.pyplot as plt\n",
    "from sklearn.model_selection import train_test_split\n",
    "from sklearn.linear_model import LinearRegression\n",
    "from sklearn.preprocessing import StandardScaler\n",
    "from sklearn.metrics import mean_squared_error\n",
    "import sys\n",
    "!\"{sys.executable}\" -m pip install phik -q\n",
    "import phik"
   ]
  },
  {
   "cell_type": "code",
   "execution_count": 2,
   "metadata": {
    "scrolled": true
   },
   "outputs": [
    {
     "data": {
      "text/html": [
       "<div>\n",
       "<style scoped>\n",
       "    .dataframe tbody tr th:only-of-type {\n",
       "        vertical-align: middle;\n",
       "    }\n",
       "\n",
       "    .dataframe tbody tr th {\n",
       "        vertical-align: top;\n",
       "    }\n",
       "\n",
       "    .dataframe thead th {\n",
       "        text-align: right;\n",
       "    }\n",
       "</style>\n",
       "<table border=\"1\" class=\"dataframe\">\n",
       "  <thead>\n",
       "    <tr style=\"text-align: right;\">\n",
       "      <th></th>\n",
       "      <th>id</th>\n",
       "      <th>f0</th>\n",
       "      <th>f1</th>\n",
       "      <th>f2</th>\n",
       "      <th>product</th>\n",
       "    </tr>\n",
       "  </thead>\n",
       "  <tbody>\n",
       "    <tr>\n",
       "      <th>0</th>\n",
       "      <td>txEyH</td>\n",
       "      <td>0.705745</td>\n",
       "      <td>-0.497823</td>\n",
       "      <td>1.221170</td>\n",
       "      <td>105.280062</td>\n",
       "    </tr>\n",
       "    <tr>\n",
       "      <th>1</th>\n",
       "      <td>2acmU</td>\n",
       "      <td>1.334711</td>\n",
       "      <td>-0.340164</td>\n",
       "      <td>4.365080</td>\n",
       "      <td>73.037750</td>\n",
       "    </tr>\n",
       "    <tr>\n",
       "      <th>2</th>\n",
       "      <td>409Wp</td>\n",
       "      <td>1.022732</td>\n",
       "      <td>0.151990</td>\n",
       "      <td>1.419926</td>\n",
       "      <td>85.265647</td>\n",
       "    </tr>\n",
       "    <tr>\n",
       "      <th>3</th>\n",
       "      <td>iJLyR</td>\n",
       "      <td>-0.032172</td>\n",
       "      <td>0.139033</td>\n",
       "      <td>2.978566</td>\n",
       "      <td>168.620776</td>\n",
       "    </tr>\n",
       "    <tr>\n",
       "      <th>4</th>\n",
       "      <td>Xdl7t</td>\n",
       "      <td>1.988431</td>\n",
       "      <td>0.155413</td>\n",
       "      <td>4.751769</td>\n",
       "      <td>154.036647</td>\n",
       "    </tr>\n",
       "    <tr>\n",
       "      <th>...</th>\n",
       "      <td>...</td>\n",
       "      <td>...</td>\n",
       "      <td>...</td>\n",
       "      <td>...</td>\n",
       "      <td>...</td>\n",
       "    </tr>\n",
       "    <tr>\n",
       "      <th>99995</th>\n",
       "      <td>DLsed</td>\n",
       "      <td>0.971957</td>\n",
       "      <td>0.370953</td>\n",
       "      <td>6.075346</td>\n",
       "      <td>110.744026</td>\n",
       "    </tr>\n",
       "    <tr>\n",
       "      <th>99996</th>\n",
       "      <td>QKivN</td>\n",
       "      <td>1.392429</td>\n",
       "      <td>-0.382606</td>\n",
       "      <td>1.273912</td>\n",
       "      <td>122.346843</td>\n",
       "    </tr>\n",
       "    <tr>\n",
       "      <th>99997</th>\n",
       "      <td>3rnvd</td>\n",
       "      <td>1.029585</td>\n",
       "      <td>0.018787</td>\n",
       "      <td>-1.348308</td>\n",
       "      <td>64.375443</td>\n",
       "    </tr>\n",
       "    <tr>\n",
       "      <th>99998</th>\n",
       "      <td>7kl59</td>\n",
       "      <td>0.998163</td>\n",
       "      <td>-0.528582</td>\n",
       "      <td>1.583869</td>\n",
       "      <td>74.040764</td>\n",
       "    </tr>\n",
       "    <tr>\n",
       "      <th>99999</th>\n",
       "      <td>1CWhH</td>\n",
       "      <td>1.764754</td>\n",
       "      <td>-0.266417</td>\n",
       "      <td>5.722849</td>\n",
       "      <td>149.633246</td>\n",
       "    </tr>\n",
       "  </tbody>\n",
       "</table>\n",
       "<p>100000 rows × 5 columns</p>\n",
       "</div>"
      ],
      "text/plain": [
       "          id        f0        f1        f2     product\n",
       "0      txEyH  0.705745 -0.497823  1.221170  105.280062\n",
       "1      2acmU  1.334711 -0.340164  4.365080   73.037750\n",
       "2      409Wp  1.022732  0.151990  1.419926   85.265647\n",
       "3      iJLyR -0.032172  0.139033  2.978566  168.620776\n",
       "4      Xdl7t  1.988431  0.155413  4.751769  154.036647\n",
       "...      ...       ...       ...       ...         ...\n",
       "99995  DLsed  0.971957  0.370953  6.075346  110.744026\n",
       "99996  QKivN  1.392429 -0.382606  1.273912  122.346843\n",
       "99997  3rnvd  1.029585  0.018787 -1.348308   64.375443\n",
       "99998  7kl59  0.998163 -0.528582  1.583869   74.040764\n",
       "99999  1CWhH  1.764754 -0.266417  5.722849  149.633246\n",
       "\n",
       "[100000 rows x 5 columns]"
      ]
     },
     "metadata": {},
     "output_type": "display_data"
    },
    {
     "name": "stdout",
     "output_type": "stream",
     "text": [
      "<class 'pandas.core.frame.DataFrame'>\n",
      "RangeIndex: 100000 entries, 0 to 99999\n",
      "Data columns (total 5 columns):\n",
      " #   Column   Non-Null Count   Dtype  \n",
      "---  ------   --------------   -----  \n",
      " 0   id       100000 non-null  object \n",
      " 1   f0       100000 non-null  float64\n",
      " 2   f1       100000 non-null  float64\n",
      " 3   f2       100000 non-null  float64\n",
      " 4   product  100000 non-null  float64\n",
      "dtypes: float64(4), object(1)\n",
      "memory usage: 3.8+ MB\n",
      "None\n"
     ]
    }
   ],
   "source": [
    "geo0=pd.read_csv('/datasets/geo_data_0.csv')\n",
    "display(geo0)\n",
    "print(geo0.info())"
   ]
  },
  {
   "cell_type": "code",
   "execution_count": 3,
   "metadata": {},
   "outputs": [
    {
     "data": {
      "text/html": [
       "<div>\n",
       "<style scoped>\n",
       "    .dataframe tbody tr th:only-of-type {\n",
       "        vertical-align: middle;\n",
       "    }\n",
       "\n",
       "    .dataframe tbody tr th {\n",
       "        vertical-align: top;\n",
       "    }\n",
       "\n",
       "    .dataframe thead th {\n",
       "        text-align: right;\n",
       "    }\n",
       "</style>\n",
       "<table border=\"1\" class=\"dataframe\">\n",
       "  <thead>\n",
       "    <tr style=\"text-align: right;\">\n",
       "      <th></th>\n",
       "      <th>id</th>\n",
       "      <th>f0</th>\n",
       "      <th>f1</th>\n",
       "      <th>f2</th>\n",
       "      <th>product</th>\n",
       "    </tr>\n",
       "  </thead>\n",
       "  <tbody>\n",
       "    <tr>\n",
       "      <th>0</th>\n",
       "      <td>kBEdx</td>\n",
       "      <td>-15.001348</td>\n",
       "      <td>-8.276000</td>\n",
       "      <td>-0.005876</td>\n",
       "      <td>3.179103</td>\n",
       "    </tr>\n",
       "    <tr>\n",
       "      <th>1</th>\n",
       "      <td>62mP7</td>\n",
       "      <td>14.272088</td>\n",
       "      <td>-3.475083</td>\n",
       "      <td>0.999183</td>\n",
       "      <td>26.953261</td>\n",
       "    </tr>\n",
       "    <tr>\n",
       "      <th>2</th>\n",
       "      <td>vyE1P</td>\n",
       "      <td>6.263187</td>\n",
       "      <td>-5.948386</td>\n",
       "      <td>5.001160</td>\n",
       "      <td>134.766305</td>\n",
       "    </tr>\n",
       "    <tr>\n",
       "      <th>3</th>\n",
       "      <td>KcrkZ</td>\n",
       "      <td>-13.081196</td>\n",
       "      <td>-11.506057</td>\n",
       "      <td>4.999415</td>\n",
       "      <td>137.945408</td>\n",
       "    </tr>\n",
       "    <tr>\n",
       "      <th>4</th>\n",
       "      <td>AHL4O</td>\n",
       "      <td>12.702195</td>\n",
       "      <td>-8.147433</td>\n",
       "      <td>5.004363</td>\n",
       "      <td>134.766305</td>\n",
       "    </tr>\n",
       "    <tr>\n",
       "      <th>...</th>\n",
       "      <td>...</td>\n",
       "      <td>...</td>\n",
       "      <td>...</td>\n",
       "      <td>...</td>\n",
       "      <td>...</td>\n",
       "    </tr>\n",
       "    <tr>\n",
       "      <th>99995</th>\n",
       "      <td>QywKC</td>\n",
       "      <td>9.535637</td>\n",
       "      <td>-6.878139</td>\n",
       "      <td>1.998296</td>\n",
       "      <td>53.906522</td>\n",
       "    </tr>\n",
       "    <tr>\n",
       "      <th>99996</th>\n",
       "      <td>ptvty</td>\n",
       "      <td>-10.160631</td>\n",
       "      <td>-12.558096</td>\n",
       "      <td>5.005581</td>\n",
       "      <td>137.945408</td>\n",
       "    </tr>\n",
       "    <tr>\n",
       "      <th>99997</th>\n",
       "      <td>09gWa</td>\n",
       "      <td>-7.378891</td>\n",
       "      <td>-3.084104</td>\n",
       "      <td>4.998651</td>\n",
       "      <td>137.945408</td>\n",
       "    </tr>\n",
       "    <tr>\n",
       "      <th>99998</th>\n",
       "      <td>rqwUm</td>\n",
       "      <td>0.665714</td>\n",
       "      <td>-6.152593</td>\n",
       "      <td>1.000146</td>\n",
       "      <td>30.132364</td>\n",
       "    </tr>\n",
       "    <tr>\n",
       "      <th>99999</th>\n",
       "      <td>relB0</td>\n",
       "      <td>-3.426139</td>\n",
       "      <td>-7.794274</td>\n",
       "      <td>-0.003299</td>\n",
       "      <td>3.179103</td>\n",
       "    </tr>\n",
       "  </tbody>\n",
       "</table>\n",
       "<p>100000 rows × 5 columns</p>\n",
       "</div>"
      ],
      "text/plain": [
       "          id         f0         f1        f2     product\n",
       "0      kBEdx -15.001348  -8.276000 -0.005876    3.179103\n",
       "1      62mP7  14.272088  -3.475083  0.999183   26.953261\n",
       "2      vyE1P   6.263187  -5.948386  5.001160  134.766305\n",
       "3      KcrkZ -13.081196 -11.506057  4.999415  137.945408\n",
       "4      AHL4O  12.702195  -8.147433  5.004363  134.766305\n",
       "...      ...        ...        ...       ...         ...\n",
       "99995  QywKC   9.535637  -6.878139  1.998296   53.906522\n",
       "99996  ptvty -10.160631 -12.558096  5.005581  137.945408\n",
       "99997  09gWa  -7.378891  -3.084104  4.998651  137.945408\n",
       "99998  rqwUm   0.665714  -6.152593  1.000146   30.132364\n",
       "99999  relB0  -3.426139  -7.794274 -0.003299    3.179103\n",
       "\n",
       "[100000 rows x 5 columns]"
      ]
     },
     "metadata": {},
     "output_type": "display_data"
    },
    {
     "name": "stdout",
     "output_type": "stream",
     "text": [
      "<class 'pandas.core.frame.DataFrame'>\n",
      "RangeIndex: 100000 entries, 0 to 99999\n",
      "Data columns (total 5 columns):\n",
      " #   Column   Non-Null Count   Dtype  \n",
      "---  ------   --------------   -----  \n",
      " 0   id       100000 non-null  object \n",
      " 1   f0       100000 non-null  float64\n",
      " 2   f1       100000 non-null  float64\n",
      " 3   f2       100000 non-null  float64\n",
      " 4   product  100000 non-null  float64\n",
      "dtypes: float64(4), object(1)\n",
      "memory usage: 3.8+ MB\n"
     ]
    }
   ],
   "source": [
    "geo1=pd.read_csv('/datasets/geo_data_1.csv')\n",
    "display(geo1)\n",
    "geo1.info()"
   ]
  },
  {
   "cell_type": "code",
   "execution_count": 4,
   "metadata": {},
   "outputs": [
    {
     "data": {
      "text/html": [
       "<div>\n",
       "<style scoped>\n",
       "    .dataframe tbody tr th:only-of-type {\n",
       "        vertical-align: middle;\n",
       "    }\n",
       "\n",
       "    .dataframe tbody tr th {\n",
       "        vertical-align: top;\n",
       "    }\n",
       "\n",
       "    .dataframe thead th {\n",
       "        text-align: right;\n",
       "    }\n",
       "</style>\n",
       "<table border=\"1\" class=\"dataframe\">\n",
       "  <thead>\n",
       "    <tr style=\"text-align: right;\">\n",
       "      <th></th>\n",
       "      <th>id</th>\n",
       "      <th>f0</th>\n",
       "      <th>f1</th>\n",
       "      <th>f2</th>\n",
       "      <th>product</th>\n",
       "    </tr>\n",
       "  </thead>\n",
       "  <tbody>\n",
       "    <tr>\n",
       "      <th>0</th>\n",
       "      <td>fwXo0</td>\n",
       "      <td>-1.146987</td>\n",
       "      <td>0.963328</td>\n",
       "      <td>-0.828965</td>\n",
       "      <td>27.758673</td>\n",
       "    </tr>\n",
       "    <tr>\n",
       "      <th>1</th>\n",
       "      <td>WJtFt</td>\n",
       "      <td>0.262778</td>\n",
       "      <td>0.269839</td>\n",
       "      <td>-2.530187</td>\n",
       "      <td>56.069697</td>\n",
       "    </tr>\n",
       "    <tr>\n",
       "      <th>2</th>\n",
       "      <td>ovLUW</td>\n",
       "      <td>0.194587</td>\n",
       "      <td>0.289035</td>\n",
       "      <td>-5.586433</td>\n",
       "      <td>62.871910</td>\n",
       "    </tr>\n",
       "    <tr>\n",
       "      <th>3</th>\n",
       "      <td>q6cA6</td>\n",
       "      <td>2.236060</td>\n",
       "      <td>-0.553760</td>\n",
       "      <td>0.930038</td>\n",
       "      <td>114.572842</td>\n",
       "    </tr>\n",
       "    <tr>\n",
       "      <th>4</th>\n",
       "      <td>WPMUX</td>\n",
       "      <td>-0.515993</td>\n",
       "      <td>1.716266</td>\n",
       "      <td>5.899011</td>\n",
       "      <td>149.600746</td>\n",
       "    </tr>\n",
       "    <tr>\n",
       "      <th>...</th>\n",
       "      <td>...</td>\n",
       "      <td>...</td>\n",
       "      <td>...</td>\n",
       "      <td>...</td>\n",
       "      <td>...</td>\n",
       "    </tr>\n",
       "    <tr>\n",
       "      <th>99995</th>\n",
       "      <td>4GxBu</td>\n",
       "      <td>-1.777037</td>\n",
       "      <td>1.125220</td>\n",
       "      <td>6.263374</td>\n",
       "      <td>172.327046</td>\n",
       "    </tr>\n",
       "    <tr>\n",
       "      <th>99996</th>\n",
       "      <td>YKFjq</td>\n",
       "      <td>-1.261523</td>\n",
       "      <td>-0.894828</td>\n",
       "      <td>2.524545</td>\n",
       "      <td>138.748846</td>\n",
       "    </tr>\n",
       "    <tr>\n",
       "      <th>99997</th>\n",
       "      <td>tKPY3</td>\n",
       "      <td>-1.199934</td>\n",
       "      <td>-2.957637</td>\n",
       "      <td>5.219411</td>\n",
       "      <td>157.080080</td>\n",
       "    </tr>\n",
       "    <tr>\n",
       "      <th>99998</th>\n",
       "      <td>nmxp2</td>\n",
       "      <td>-2.419896</td>\n",
       "      <td>2.417221</td>\n",
       "      <td>-5.548444</td>\n",
       "      <td>51.795253</td>\n",
       "    </tr>\n",
       "    <tr>\n",
       "      <th>99999</th>\n",
       "      <td>V9kWn</td>\n",
       "      <td>-2.551421</td>\n",
       "      <td>-2.025625</td>\n",
       "      <td>6.090891</td>\n",
       "      <td>102.775767</td>\n",
       "    </tr>\n",
       "  </tbody>\n",
       "</table>\n",
       "<p>100000 rows × 5 columns</p>\n",
       "</div>"
      ],
      "text/plain": [
       "          id        f0        f1        f2     product\n",
       "0      fwXo0 -1.146987  0.963328 -0.828965   27.758673\n",
       "1      WJtFt  0.262778  0.269839 -2.530187   56.069697\n",
       "2      ovLUW  0.194587  0.289035 -5.586433   62.871910\n",
       "3      q6cA6  2.236060 -0.553760  0.930038  114.572842\n",
       "4      WPMUX -0.515993  1.716266  5.899011  149.600746\n",
       "...      ...       ...       ...       ...         ...\n",
       "99995  4GxBu -1.777037  1.125220  6.263374  172.327046\n",
       "99996  YKFjq -1.261523 -0.894828  2.524545  138.748846\n",
       "99997  tKPY3 -1.199934 -2.957637  5.219411  157.080080\n",
       "99998  nmxp2 -2.419896  2.417221 -5.548444   51.795253\n",
       "99999  V9kWn -2.551421 -2.025625  6.090891  102.775767\n",
       "\n",
       "[100000 rows x 5 columns]"
      ]
     },
     "metadata": {},
     "output_type": "display_data"
    },
    {
     "name": "stdout",
     "output_type": "stream",
     "text": [
      "<class 'pandas.core.frame.DataFrame'>\n",
      "RangeIndex: 100000 entries, 0 to 99999\n",
      "Data columns (total 5 columns):\n",
      " #   Column   Non-Null Count   Dtype  \n",
      "---  ------   --------------   -----  \n",
      " 0   id       100000 non-null  object \n",
      " 1   f0       100000 non-null  float64\n",
      " 2   f1       100000 non-null  float64\n",
      " 3   f2       100000 non-null  float64\n",
      " 4   product  100000 non-null  float64\n",
      "dtypes: float64(4), object(1)\n",
      "memory usage: 3.8+ MB\n"
     ]
    }
   ],
   "source": [
    "geo2=pd.read_csv('/datasets/geo_data_2.csv')\n",
    "display(geo2)\n",
    "geo2.info()"
   ]
  },
  {
   "cell_type": "markdown",
   "metadata": {},
   "source": [
    "Теперь проверю данные на корректность"
   ]
  },
  {
   "cell_type": "code",
   "execution_count": 5,
   "metadata": {},
   "outputs": [
    {
     "name": "stdout",
     "output_type": "stream",
     "text": [
      "10\n",
      "4\n"
     ]
    },
    {
     "data": {
      "text/plain": [
       "4"
      ]
     },
     "execution_count": 5,
     "metadata": {},
     "output_type": "execute_result"
    }
   ],
   "source": [
    "print(geo0.duplicated(subset='id').sum())\n",
    "print(geo1.duplicated(subset='id').sum())\n",
    "geo2.duplicated(subset='id').sum()"
   ]
  },
  {
   "cell_type": "code",
   "execution_count": 6,
   "metadata": {},
   "outputs": [
    {
     "name": "stdout",
     "output_type": "stream",
     "text": [
      "0\n",
      "0\n"
     ]
    },
    {
     "data": {
      "text/plain": [
       "0"
      ]
     },
     "execution_count": 6,
     "metadata": {},
     "output_type": "execute_result"
    }
   ],
   "source": [
    "print(geo0.duplicated(subset=['id','product']).sum())\n",
    "print(geo1.duplicated(subset=['id','product']).sum())\n",
    "geo2.duplicated(subset=['id','product']).sum()"
   ]
  },
  {
   "cell_type": "markdown",
   "metadata": {},
   "source": [
    "Скорее всего, во всех трех регионах были скважины, которые раскапывались более одного раза, поэтому в датасет они попали более, чем единожды."
   ]
  },
  {
   "cell_type": "markdown",
   "metadata": {},
   "source": [
    "Проверю данные на наличие выбросов."
   ]
  },
  {
   "cell_type": "markdown",
   "metadata": {},
   "source": [
    "## Статистический анализ данных"
   ]
  },
  {
   "cell_type": "code",
   "execution_count": 7,
   "metadata": {},
   "outputs": [
    {
     "data": {
      "image/png": "[encoded data removed]",
      "text/plain": [
       "<Figure size 1080x720 with 9 Axes>"
      ]
     },
     "metadata": {
      "needs_background": "light"
     },
     "output_type": "display_data"
    }
   ],
   "source": [
    "fig, axes=plt.subplots(3,3,figsize=(15,10))\n",
    "axes = axes.flatten()\n",
    "j=0\n",
    "graphs=[geo0,geo1,geo2]\n",
    "names=['geo0','geo1','geo2']\n",
    "prizs=['f0','f1','f2']\n",
    "def graphik(data,x,axes,name):\n",
    "    sns.histplot(ax=axes,data=data,x=x,kde=True)\n",
    "    axes.set_title(name)\n",
    "i=0\n",
    "for feat in graphs:\n",
    "    for priz in prizs:\n",
    "        name='geo'+str(i)\n",
    "        graphik(feat,priz,axes[j],name)\n",
    "        j+=1\n",
    "    i+=1\n",
    "plt.tight_layout() \n",
    "plt.show()"
   ]
  },
  {
   "cell_type": "markdown",
   "metadata": {},
   "source": [
    "Замечу, что в 1 регионе 1 и 2 признак распределены мультимодально, а 3 нормально со смещением вправо\n",
    "\n",
    "Во 2 регионе 1 признак распределен бимодально, 2 признак распределен нормально, что касается 3 признака, значения очень близки к целым числам.\n",
    "\n",
    "В 3 регионе 1 и 2 признак распределены нормально, 3 признак распределен нормально со смещением вправо."
   ]
  },
  {
   "cell_type": "code",
   "execution_count": 8,
   "metadata": {},
   "outputs": [
    {
     "data": {
      "image/png": "[encoded data removed]",
      "text/plain": [
       "<Figure size 1080x360 with 3 Axes>"
      ]
     },
     "metadata": {
      "needs_background": "light"
     },
     "output_type": "display_data"
    }
   ],
   "source": [
    "fig, axes=plt.subplots(1,3,figsize=(15,5))\n",
    "axes = axes.flatten()\n",
    "i=0\n",
    "for feat in graphs:\n",
    "    name='geo'+str(i)\n",
    "    graphik(feat,'product',axes[i],name)\n",
    "    i+=1"
   ]
  },
  {
   "cell_type": "markdown",
   "metadata": {},
   "source": [
    "Что касается распределения целевого признака, в 1 и 3 регионе ситуация похожа: большинство скважин содержат от 25 до 175 тыс. баррелей. Во 2 регионе наблюдается странная ситуация: в большинстве скважин либо находят много нефти, либо не находят ничего."
   ]
  },
  {
   "cell_type": "markdown",
   "metadata": {},
   "source": [
    "## Корреляционный анализ данных"
   ]
  },
  {
   "cell_type": "code",
   "execution_count": 9,
   "metadata": {},
   "outputs": [
    {
     "data": {
      "image/png": "[encoded data removed]",
      "text/plain": [
       "<Figure size 360x360 with 2 Axes>"
      ]
     },
     "metadata": {
      "needs_background": "light"
     },
     "output_type": "display_data"
    }
   ],
   "source": [
    "def matr(geo):\n",
    "    matrix=(geo.sample(frac=0.1,replace=False,random_state=RANDOM_STATE).drop(columns='id').phik_matrix(interval_cols=['f0','f1','f2','product']))\n",
    "    plt.figure(figsize=(5,5))\n",
    "    sns.heatmap(matrix,annot=True)\n",
    "    plt.show()\n",
    "matr(geo0)"
   ]
  },
  {
   "cell_type": "markdown",
   "metadata": {},
   "source": [
    "В 1 регионе признаки f1 И f0 достаточно сильно коррелируют между собой, так что можно говорить о мультиколлинеарности.\n",
    "\n",
    "На целевой признак сильнее всего влияет f2 "
   ]
  },
  {
   "cell_type": "code",
   "execution_count": 10,
   "metadata": {},
   "outputs": [
    {
     "data": {
      "image/png": "[encoded data removed]",
      "text/plain": [
       "<Figure size 360x360 with 2 Axes>"
      ]
     },
     "metadata": {
      "needs_background": "light"
     },
     "output_type": "display_data"
    }
   ],
   "source": [
    "matr(geo1)"
   ]
  },
  {
   "cell_type": "markdown",
   "metadata": {},
   "source": [
    "На целевой признак сильнее всего влияет f2, видимо в большинстве случаев он и определяет, насколько большими запасами нефти будет обладать скважина "
   ]
  },
  {
   "cell_type": "code",
   "execution_count": 11,
   "metadata": {},
   "outputs": [
    {
     "data": {
      "image/png": "[encoded data removed]",
      "text/plain": [
       "<Figure size 360x360 with 2 Axes>"
      ]
     },
     "metadata": {
      "needs_background": "light"
     },
     "output_type": "display_data"
    }
   ],
   "source": [
    "matr(geo2)"
   ]
  },
  {
   "cell_type": "markdown",
   "metadata": {},
   "source": [
    "На целевой признак заметно влияет f2, мультиколлинеарности не обнаружено"
   ]
  },
  {
   "cell_type": "markdown",
   "metadata": {},
   "source": [
    "## Обучение и проверка модели"
   ]
  },
  {
   "cell_type": "markdown",
   "metadata": {},
   "source": [
    "Приступлю к обучению моделей"
   ]
  },
  {
   "cell_type": "markdown",
   "metadata": {},
   "source": [
    "### 1 регион"
   ]
  },
  {
   "cell_type": "code",
   "execution_count": 12,
   "metadata": {},
   "outputs": [],
   "source": [
    "def learn(geo):\n",
    "    scaler=StandardScaler()\n",
    "    X_train,X_valid,y_train,y_valid=train_test_split(\n",
    "    geo.drop(columns=['id','product']),\n",
    "    geo['product'],\n",
    "    test_size=TEST_SIZE,\n",
    "    random_state=RANDOM_STATE)\n",
    "    X_train=scaler.fit_transform(X_train)\n",
    "    X_valid=scaler.transform(X_valid)\n",
    "    model=LinearRegression()\n",
    "    model.fit(X_train,y_train)\n",
    "    meow=pd.DataFrame()\n",
    "    meow['product_true']=y_valid\n",
    "    y_pred=model.predict(X_valid)\n",
    "    meow['product_pred']=y_pred\n",
    "    return meow"
   ]
  },
  {
   "cell_type": "code",
   "execution_count": 13,
   "metadata": {},
   "outputs": [
    {
     "data": {
      "text/html": [
       "<div>\n",
       "<style scoped>\n",
       "    .dataframe tbody tr th:only-of-type {\n",
       "        vertical-align: middle;\n",
       "    }\n",
       "\n",
       "    .dataframe tbody tr th {\n",
       "        vertical-align: top;\n",
       "    }\n",
       "\n",
       "    .dataframe thead th {\n",
       "        text-align: right;\n",
       "    }\n",
       "</style>\n",
       "<table border=\"1\" class=\"dataframe\">\n",
       "  <thead>\n",
       "    <tr style=\"text-align: right;\">\n",
       "      <th></th>\n",
       "      <th>product_true</th>\n",
       "      <th>product_pred</th>\n",
       "    </tr>\n",
       "  </thead>\n",
       "  <tbody>\n",
       "    <tr>\n",
       "      <th>75721</th>\n",
       "      <td>122.073350</td>\n",
       "      <td>102.413620</td>\n",
       "    </tr>\n",
       "    <tr>\n",
       "      <th>80184</th>\n",
       "      <td>48.738540</td>\n",
       "      <td>78.428581</td>\n",
       "    </tr>\n",
       "    <tr>\n",
       "      <th>19864</th>\n",
       "      <td>131.338088</td>\n",
       "      <td>115.685353</td>\n",
       "    </tr>\n",
       "    <tr>\n",
       "      <th>76699</th>\n",
       "      <td>88.327757</td>\n",
       "      <td>105.745559</td>\n",
       "    </tr>\n",
       "    <tr>\n",
       "      <th>92991</th>\n",
       "      <td>36.959266</td>\n",
       "      <td>98.054345</td>\n",
       "    </tr>\n",
       "    <tr>\n",
       "      <th>...</th>\n",
       "      <td>...</td>\n",
       "      <td>...</td>\n",
       "    </tr>\n",
       "    <tr>\n",
       "      <th>56045</th>\n",
       "      <td>157.133687</td>\n",
       "      <td>90.156981</td>\n",
       "    </tr>\n",
       "    <tr>\n",
       "      <th>12170</th>\n",
       "      <td>19.072741</td>\n",
       "      <td>55.658625</td>\n",
       "    </tr>\n",
       "    <tr>\n",
       "      <th>51701</th>\n",
       "      <td>14.092068</td>\n",
       "      <td>65.511171</td>\n",
       "    </tr>\n",
       "    <tr>\n",
       "      <th>44541</th>\n",
       "      <td>157.436331</td>\n",
       "      <td>70.140292</td>\n",
       "    </tr>\n",
       "    <tr>\n",
       "      <th>96509</th>\n",
       "      <td>155.838758</td>\n",
       "      <td>128.871726</td>\n",
       "    </tr>\n",
       "  </tbody>\n",
       "</table>\n",
       "<p>75000 rows × 2 columns</p>\n",
       "</div>"
      ],
      "text/plain": [
       "       product_true  product_pred\n",
       "75721    122.073350    102.413620\n",
       "80184     48.738540     78.428581\n",
       "19864    131.338088    115.685353\n",
       "76699     88.327757    105.745559\n",
       "92991     36.959266     98.054345\n",
       "...             ...           ...\n",
       "56045    157.133687     90.156981\n",
       "12170     19.072741     55.658625\n",
       "51701     14.092068     65.511171\n",
       "44541    157.436331     70.140292\n",
       "96509    155.838758    128.871726\n",
       "\n",
       "[75000 rows x 2 columns]"
      ]
     },
     "execution_count": 13,
     "metadata": {},
     "output_type": "execute_result"
    }
   ],
   "source": [
    "meow=learn(geo0)\n",
    "meow"
   ]
  },
  {
   "cell_type": "code",
   "execution_count": 14,
   "metadata": {},
   "outputs": [
    {
     "name": "stdout",
     "output_type": "stream",
     "text": [
      "37.67473814181\n"
     ]
    },
    {
     "data": {
      "text/plain": [
       "92.5469799263037"
      ]
     },
     "execution_count": 14,
     "metadata": {},
     "output_type": "execute_result"
    }
   ],
   "source": [
    "y_pred=meow['product_pred']\n",
    "rmse=(mean_squared_error(meow['product_true'],y_pred)**0.5)\n",
    "print(rmse)\n",
    "y_pred.mean()"
   ]
  },
  {
   "cell_type": "markdown",
   "metadata": {},
   "source": [
    "Замечу, что корень средней квадратичной ошибки достаточно большой, модель в среднем отклоняется более, чем на треть от предсказанного значения."
   ]
  },
  {
   "cell_type": "markdown",
   "metadata": {},
   "source": [
    "### 2 регион"
   ]
  },
  {
   "cell_type": "code",
   "execution_count": 15,
   "metadata": {},
   "outputs": [
    {
     "data": {
      "text/html": [
       "<div>\n",
       "<style scoped>\n",
       "    .dataframe tbody tr th:only-of-type {\n",
       "        vertical-align: middle;\n",
       "    }\n",
       "\n",
       "    .dataframe tbody tr th {\n",
       "        vertical-align: top;\n",
       "    }\n",
       "\n",
       "    .dataframe thead th {\n",
       "        text-align: right;\n",
       "    }\n",
       "</style>\n",
       "<table border=\"1\" class=\"dataframe\">\n",
       "  <thead>\n",
       "    <tr style=\"text-align: right;\">\n",
       "      <th></th>\n",
       "      <th>product_true</th>\n",
       "      <th>product_pred</th>\n",
       "    </tr>\n",
       "  </thead>\n",
       "  <tbody>\n",
       "    <tr>\n",
       "      <th>75721</th>\n",
       "      <td>0.000000</td>\n",
       "      <td>0.837183</td>\n",
       "    </tr>\n",
       "    <tr>\n",
       "      <th>80184</th>\n",
       "      <td>53.906522</td>\n",
       "      <td>52.923509</td>\n",
       "    </tr>\n",
       "    <tr>\n",
       "      <th>19864</th>\n",
       "      <td>134.766305</td>\n",
       "      <td>135.115772</td>\n",
       "    </tr>\n",
       "    <tr>\n",
       "      <th>76699</th>\n",
       "      <td>107.813044</td>\n",
       "      <td>109.494296</td>\n",
       "    </tr>\n",
       "    <tr>\n",
       "      <th>92991</th>\n",
       "      <td>0.000000</td>\n",
       "      <td>-0.046416</td>\n",
       "    </tr>\n",
       "    <tr>\n",
       "      <th>...</th>\n",
       "      <td>...</td>\n",
       "      <td>...</td>\n",
       "    </tr>\n",
       "    <tr>\n",
       "      <th>56045</th>\n",
       "      <td>84.038886</td>\n",
       "      <td>83.593689</td>\n",
       "    </tr>\n",
       "    <tr>\n",
       "      <th>12170</th>\n",
       "      <td>137.945408</td>\n",
       "      <td>137.194363</td>\n",
       "    </tr>\n",
       "    <tr>\n",
       "      <th>51701</th>\n",
       "      <td>3.179103</td>\n",
       "      <td>2.452826</td>\n",
       "    </tr>\n",
       "    <tr>\n",
       "      <th>44541</th>\n",
       "      <td>0.000000</td>\n",
       "      <td>-1.066990</td>\n",
       "    </tr>\n",
       "    <tr>\n",
       "      <th>96509</th>\n",
       "      <td>53.906522</td>\n",
       "      <td>53.883658</td>\n",
       "    </tr>\n",
       "  </tbody>\n",
       "</table>\n",
       "<p>75000 rows × 2 columns</p>\n",
       "</div>"
      ],
      "text/plain": [
       "       product_true  product_pred\n",
       "75721      0.000000      0.837183\n",
       "80184     53.906522     52.923509\n",
       "19864    134.766305    135.115772\n",
       "76699    107.813044    109.494296\n",
       "92991      0.000000     -0.046416\n",
       "...             ...           ...\n",
       "56045     84.038886     83.593689\n",
       "12170    137.945408    137.194363\n",
       "51701      3.179103      2.452826\n",
       "44541      0.000000     -1.066990\n",
       "96509     53.906522     53.883658\n",
       "\n",
       "[75000 rows x 2 columns]"
      ]
     },
     "execution_count": 15,
     "metadata": {},
     "output_type": "execute_result"
    }
   ],
   "source": [
    "meow1=learn(geo1)\n",
    "meow1"
   ]
  },
  {
   "cell_type": "code",
   "execution_count": 16,
   "metadata": {},
   "outputs": [
    {
     "name": "stdout",
     "output_type": "stream",
     "text": [
      "0.8914134052552113\n"
     ]
    },
    {
     "data": {
      "text/plain": [
       "68.78870548209174"
      ]
     },
     "execution_count": 16,
     "metadata": {},
     "output_type": "execute_result"
    }
   ],
   "source": [
    "y_pred1=meow1['product_pred']\n",
    "rmse1=(mean_squared_error(meow1['product_true'],y_pred1)**0.5)\n",
    "print(rmse1)\n",
    "y_pred1.mean()"
   ]
  },
  {
   "cell_type": "markdown",
   "metadata": {},
   "source": [
    "Средняя ошибка в значениях у 2 региона значительно ниже. Это значит, что предсказать объемы запасов в этом регионе предсказать проще, чем в первом, признаки сильнее влияют на целевой, из-за чего модель успешно справляется с предсказаниями объемов. Однако среднее предсказанное значение запасов нефти уступает первому, скорее всего из-за того, что во 2 регионе очень много скважин без нефти."
   ]
  },
  {
   "cell_type": "markdown",
   "metadata": {},
   "source": [
    "### 3 регион "
   ]
  },
  {
   "cell_type": "code",
   "execution_count": 17,
   "metadata": {
    "scrolled": true
   },
   "outputs": [
    {
     "data": {
      "text/html": [
       "<div>\n",
       "<style scoped>\n",
       "    .dataframe tbody tr th:only-of-type {\n",
       "        vertical-align: middle;\n",
       "    }\n",
       "\n",
       "    .dataframe tbody tr th {\n",
       "        vertical-align: top;\n",
       "    }\n",
       "\n",
       "    .dataframe thead th {\n",
       "        text-align: right;\n",
       "    }\n",
       "</style>\n",
       "<table border=\"1\" class=\"dataframe\">\n",
       "  <thead>\n",
       "    <tr style=\"text-align: right;\">\n",
       "      <th></th>\n",
       "      <th>product_true</th>\n",
       "      <th>product_pred</th>\n",
       "    </tr>\n",
       "  </thead>\n",
       "  <tbody>\n",
       "    <tr>\n",
       "      <th>75721</th>\n",
       "      <td>117.441301</td>\n",
       "      <td>97.518850</td>\n",
       "    </tr>\n",
       "    <tr>\n",
       "      <th>80184</th>\n",
       "      <td>47.841249</td>\n",
       "      <td>101.556414</td>\n",
       "    </tr>\n",
       "    <tr>\n",
       "      <th>19864</th>\n",
       "      <td>45.883483</td>\n",
       "      <td>54.007357</td>\n",
       "    </tr>\n",
       "    <tr>\n",
       "      <th>76699</th>\n",
       "      <td>139.014608</td>\n",
       "      <td>109.967019</td>\n",
       "    </tr>\n",
       "    <tr>\n",
       "      <th>92991</th>\n",
       "      <td>84.004276</td>\n",
       "      <td>72.506744</td>\n",
       "    </tr>\n",
       "    <tr>\n",
       "      <th>...</th>\n",
       "      <td>...</td>\n",
       "      <td>...</td>\n",
       "    </tr>\n",
       "    <tr>\n",
       "      <th>56045</th>\n",
       "      <td>78.167883</td>\n",
       "      <td>65.065135</td>\n",
       "    </tr>\n",
       "    <tr>\n",
       "      <th>12170</th>\n",
       "      <td>7.058228</td>\n",
       "      <td>76.794704</td>\n",
       "    </tr>\n",
       "    <tr>\n",
       "      <th>51701</th>\n",
       "      <td>49.235687</td>\n",
       "      <td>59.599694</td>\n",
       "    </tr>\n",
       "    <tr>\n",
       "      <th>44541</th>\n",
       "      <td>112.772856</td>\n",
       "      <td>111.770079</td>\n",
       "    </tr>\n",
       "    <tr>\n",
       "      <th>96509</th>\n",
       "      <td>67.965645</td>\n",
       "      <td>67.430564</td>\n",
       "    </tr>\n",
       "  </tbody>\n",
       "</table>\n",
       "<p>75000 rows × 2 columns</p>\n",
       "</div>"
      ],
      "text/plain": [
       "       product_true  product_pred\n",
       "75721    117.441301     97.518850\n",
       "80184     47.841249    101.556414\n",
       "19864     45.883483     54.007357\n",
       "76699    139.014608    109.967019\n",
       "92991     84.004276     72.506744\n",
       "...             ...           ...\n",
       "56045     78.167883     65.065135\n",
       "12170      7.058228     76.794704\n",
       "51701     49.235687     59.599694\n",
       "44541    112.772856    111.770079\n",
       "96509     67.965645     67.430564\n",
       "\n",
       "[75000 rows x 2 columns]"
      ]
     },
     "execution_count": 17,
     "metadata": {},
     "output_type": "execute_result"
    }
   ],
   "source": [
    "meow2=learn(geo2)\n",
    "meow2"
   ]
  },
  {
   "cell_type": "code",
   "execution_count": 18,
   "metadata": {},
   "outputs": [
    {
     "name": "stdout",
     "output_type": "stream",
     "text": [
      "40.069264439586995\n"
     ]
    },
    {
     "data": {
      "text/plain": [
       "94.94337571696384"
      ]
     },
     "execution_count": 18,
     "metadata": {},
     "output_type": "execute_result"
    }
   ],
   "source": [
    "y_pred2=meow2['product_pred']\n",
    "rmse2=(mean_squared_error(meow2['product_true'],y_pred2))**0.5\n",
    "print(rmse2)\n",
    "y_pred2.mean()"
   ]
  },
  {
   "cell_type": "markdown",
   "metadata": {},
   "source": [
    "В 3 регионе ошибка еще больше, чем в первом, однако среднее предсказанное значение является наибольшим среди трех регионов, хотя и отличается несильно."
   ]
  },
  {
   "cell_type": "markdown",
   "metadata": {},
   "source": [
    "### Микровывод"
   ]
  },
  {
   "cell_type": "markdown",
   "metadata": {},
   "source": [
    "Наименее рискованными будут раскопки во 2 регионе, так как в нем модель по имеющимся признакам практически безошибочно может предсказать объемы запасов скважины. Что касается 1 и 3 регионов, в них вероятность ошибки гораздо выше, однако и шанс того, что тыс. баррелей в скважине окажется больше, чем во 2 регионе, гораздо выше"
   ]
  },
  {
   "cell_type": "markdown",
   "metadata": {},
   "source": [
    "## Подготовка к расчёту прибыли"
   ]
  },
  {
   "cell_type": "markdown",
   "metadata": {},
   "source": [
    "Создам константы для всех ключевых значений"
   ]
  },
  {
   "cell_type": "code",
   "execution_count": 19,
   "metadata": {},
   "outputs": [],
   "source": [
    "MONEY=10000000000\n",
    "COST=450000\n",
    "N_BEST=200\n",
    "bootstrap_samples = 1000\n",
    "state = np.random.RandomState(12345)"
   ]
  },
  {
   "cell_type": "markdown",
   "metadata": {},
   "source": [
    "Так как всего наш бюджет составляет 10 миллиардов, для разработки будет выбрано 200 скважин, а 1 единица в столбце product составляет 450 тыс. баррелей, то, чтобы расчитать безубыточное количество тыс. баррелей в скважине, необходимо разделить бюджет на кол-во скважин для разработки и на стоимость тыс. баррелей(общая формула: avg* COST *N_BEST=MONEY)"
   ]
  },
  {
   "cell_type": "code",
   "execution_count": 20,
   "metadata": {},
   "outputs": [
    {
     "name": "stdout",
     "output_type": "stream",
     "text": [
      "111.11111111111111 тыс.баррелей\n"
     ]
    }
   ],
   "source": [
    "avg=MONEY/COST/N_BEST\n",
    "print(avg,'тыс.баррелей')"
   ]
  },
  {
   "cell_type": "code",
   "execution_count": 21,
   "metadata": {},
   "outputs": [
    {
     "name": "stdout",
     "output_type": "stream",
     "text": [
      "92.50000000000001\n",
      "68.82500000000002\n"
     ]
    },
    {
     "data": {
      "text/plain": [
       "95.00000000000004"
      ]
     },
     "execution_count": 21,
     "metadata": {},
     "output_type": "execute_result"
    }
   ],
   "source": [
    "print(geo0['product'].mean())\n",
    "print(geo1['product'].mean())\n",
    "geo2['product'].mean()"
   ]
  },
  {
   "cell_type": "markdown",
   "metadata": {},
   "source": [
    "В каждом из 3 регионов среднее значение запасов в скважине меньше чем требуемое, во 2 регионе оно вообще меньше почти в 2 раза."
   ]
  },
  {
   "cell_type": "markdown",
   "metadata": {},
   "source": [
    "## Расчёт прибыли и рисков "
   ]
  },
  {
   "cell_type": "markdown",
   "metadata": {},
   "source": [
    "Напишу функцию для расчёта прибыли по выбранным скважинам и предсказаниям модели."
   ]
  },
  {
   "cell_type": "code",
   "execution_count": 22,
   "metadata": {},
   "outputs": [],
   "source": [
    "def revenue(meow):\n",
    "    meow=meow.sort_values(by='product_pred',ascending=False)\n",
    "    y_true=meow['product_true'].to_list()\n",
    "    return sum(y_true[:N_BEST])*COST-MONEY\n"
   ]
  },
  {
   "cell_type": "markdown",
   "metadata": {},
   "source": [
    "### Bootstrap 1 регион"
   ]
  },
  {
   "cell_type": "code",
   "execution_count": 23,
   "metadata": {
    "scrolled": true
   },
   "outputs": [
    {
     "name": "stdout",
     "output_type": "stream",
     "text": [
      "Средняя выручка: 432169600.81\n",
      "Доверительный интервал: [ -112795768.84 ; 917901345.27 ]\n",
      "Риск убытков: 5.3 %\n"
     ]
    }
   ],
   "source": [
    "values = []\n",
    "for i in range(bootstrap_samples):\n",
    "    subsample=meow.sample(n=500,replace=False,random_state=state)\n",
    "    values.append(revenue(subsample))\n",
    "avg_rev=round(sum(values)/len(values),2)\n",
    "values=pd.Series(values)\n",
    "loss_risk = (values < 0).sum()/len(values)*100\n",
    "lower = values.quantile(0.025).round(2)\n",
    "upper = values.quantile(0.975).round(2)\n",
    "print(\"Средняя выручка:\",avg_rev)\n",
    "print(\"Доверительный интервал:\",'[',lower,';',upper,']')\n",
    "print(\"Риск убытков:\",loss_risk,'%')"
   ]
  },
  {
   "cell_type": "code",
   "execution_count": 24,
   "metadata": {},
   "outputs": [
    {
     "data": {
      "image/png": "[encoded data removed]",
      "text/plain": [
       "<Figure size 432x288 with 1 Axes>"
      ]
     },
     "metadata": {
      "needs_background": "light"
     },
     "output_type": "display_data"
    }
   ],
   "source": [
    "plt.hist(values,bins=100)\n",
    "plt.axvline(x=lower, color='r', linestyle='--')\n",
    "plt.axvline(x=upper, color='r', linestyle='--')\n",
    "plt.title('Распределение прибыли в 1 регионе')\n",
    "plt.xlabel('млрд. рублей')\n",
    "plt.show()"
   ]
  },
  {
   "cell_type": "markdown",
   "metadata": {},
   "source": [
    "### Bootstrap 2 регион"
   ]
  },
  {
   "cell_type": "code",
   "execution_count": 25,
   "metadata": {},
   "outputs": [
    {
     "name": "stdout",
     "output_type": "stream",
     "text": [
      "Средняя выручка: 435813179.46\n",
      "Доверительный интервал: [ 60255438.49 ; 817387572.49 ]\n",
      "Риск убытков: 1.3 %\n"
     ]
    }
   ],
   "source": [
    "values = []\n",
    "for i in range(bootstrap_samples):\n",
    "    subsample=meow1.sample(n=500,replace=False,random_state=state)\n",
    "    values.append(revenue(subsample))\n",
    "avg_rev=round(sum(values)/len(values),2)\n",
    "values=pd.Series(values)\n",
    "loss_risk = (values < 0).sum()/len(values)*100\n",
    "lower = values.quantile(0.025).round(2)\n",
    "upper = values.quantile(0.975).round(2)\n",
    "print(\"Средняя выручка:\",avg_rev)\n",
    "print(\"Доверительный интервал:\",'[',lower,';',upper,']')\n",
    "print(\"Риск убытков:\",loss_risk,'%')"
   ]
  },
  {
   "cell_type": "code",
   "execution_count": 26,
   "metadata": {},
   "outputs": [
    {
     "data": {
      "image/png": "[encoded data removed]",
      "text/plain": [
       "<Figure size 432x288 with 1 Axes>"
      ]
     },
     "metadata": {
      "needs_background": "light"
     },
     "output_type": "display_data"
    }
   ],
   "source": [
    "plt.hist(values,bins=100)\n",
    "plt.axvline(x=lower, color='r', linestyle='--')\n",
    "plt.axvline(x=upper, color='r', linestyle='--')\n",
    "plt.title('Распределение прибыли во 2 регионе')\n",
    "plt.xlabel('млрд. рублей')\n",
    "plt.show()"
   ]
  },
  {
   "cell_type": "markdown",
   "metadata": {},
   "source": [
    "### Bootstrap 3 регион"
   ]
  },
  {
   "cell_type": "code",
   "execution_count": 27,
   "metadata": {},
   "outputs": [
    {
     "name": "stdout",
     "output_type": "stream",
     "text": [
      "Средняя выручка: 367701191.4\n",
      "Доверительный интервал: [ -158889038.08 ; 877355395.84 ]\n",
      "Риск убытков: 8.4 %\n"
     ]
    }
   ],
   "source": [
    "values = []\n",
    "for i in range(bootstrap_samples):\n",
    "    subsample=meow2.sample(n=500,replace=False,random_state=state)\n",
    "    values.append(revenue(subsample))\n",
    "avg_rev=round(sum(values)/len(values),2)\n",
    "values=pd.Series(values)\n",
    "loss_risk = (values < 0).sum()/len(values)*100\n",
    "lower = values.quantile(0.025).round(2)\n",
    "upper = values.quantile(0.975).round(2)\n",
    "print(\"Средняя выручка:\",avg_rev)\n",
    "print(\"Доверительный интервал:\",'[',lower,';',upper,']')\n",
    "print(\"Риск убытков:\",loss_risk,'%')"
   ]
  },
  {
   "cell_type": "code",
   "execution_count": 28,
   "metadata": {},
   "outputs": [
    {
     "data": {
      "image/png": "[encoded data removed]",
      "text/plain": [
       "<Figure size 432x288 with 1 Axes>"
      ]
     },
     "metadata": {
      "needs_background": "light"
     },
     "output_type": "display_data"
    }
   ],
   "source": [
    "plt.hist(values,bins=100)\n",
    "plt.axvline(x=lower, color='r', linestyle='--')\n",
    "plt.axvline(x=upper, color='r', linestyle='--')\n",
    "plt.title('Распределение прибыли в 3 регионе')\n",
    "plt.xlabel('млрд. рублей')\n",
    "plt.show()"
   ]
  },
  {
   "cell_type": "markdown",
   "metadata": {},
   "source": [
    "### Анализ результатов"
   ]
  },
  {
   "cell_type": "markdown",
   "metadata": {},
   "source": [
    "Из 3 регионов наибольшую выручку приносит 2 регион, однако, как можно было наблюдать на графике, такое возможно из-за того, что в регионе скважин с отсутствием и наоборот, с большим количеством нефти гораздо больше, чем со средним. Можно заметить, что нижняя граница 95% доверительного интервала очень низкая, из-за того, что шанс наткнуться на скважину без нефти очень большой. Риск убытков у этого региона также наибольший: в среднем около 1-2%, поэтому раскапывать новые скважины во 2 регионе не рекомендуется.\n",
    "\n",
    "Сравнивая 1 и 3 регионы, можно заметить, что у 1 региона больше средняя выручка и границы доверительного интервала, это значит, что диапазон значений выручки будет \"правее\", чем у 3 региона. Шанс того, что прибыль будет отрицательной, также меньше."
   ]
  },
  {
   "cell_type": "markdown",
   "metadata": {},
   "source": [
    "### Новый анализ результатов"
   ]
  },
  {
   "cell_type": "markdown",
   "metadata": {},
   "source": [
    "Судя по графикам, оптимальнее всего будет выбрать для раскопок 2 регион, поскольку он единственный, в котором 95% доверительный интервал целиком больше нуля- это значит, что с вероятностью 95% раскопки будут прибыльными и безубыточными. "
   ]
  }
 ],
 "metadata": {
  "ExecuteTimeLog": [
   {
    "duration": 404,
    "start_time": "2025-03-02T16:11:18.295Z"
   },
   {
    "duration": 4,
    "start_time": "2025-03-02T16:11:27.993Z"
   },
   {
    "duration": 166,
    "start_time": "2025-03-02T16:12:46.774Z"
   },
   {
    "duration": 408,
    "start_time": "2025-03-02T16:16:02.920Z"
   },
   {
    "duration": 460,
    "start_time": "2025-03-02T16:16:22.092Z"
   },
   {
    "duration": 492,
    "start_time": "2025-03-02T17:07:03.251Z"
   },
   {
    "duration": 156,
    "start_time": "2025-03-02T17:07:49.372Z"
   },
   {
    "duration": 85,
    "start_time": "2025-03-02T17:08:07.355Z"
   },
   {
    "duration": 175,
    "start_time": "2025-03-02T17:08:44.311Z"
   },
   {
    "duration": 153,
    "start_time": "2025-03-02T17:12:27.231Z"
   },
   {
    "duration": 6,
    "start_time": "2025-03-02T17:19:26.634Z"
   },
   {
    "duration": 45,
    "start_time": "2025-03-02T17:19:37.879Z"
   },
   {
    "duration": 55,
    "start_time": "2025-03-02T17:19:51.050Z"
   },
   {
    "duration": 51,
    "start_time": "2025-03-02T17:20:31.801Z"
   },
   {
    "duration": 21,
    "start_time": "2025-03-02T17:20:43.074Z"
   },
   {
    "duration": 72,
    "start_time": "2025-03-02T17:21:22.836Z"
   },
   {
    "duration": 25,
    "start_time": "2025-03-02T17:21:30.739Z"
   },
   {
    "duration": 52,
    "start_time": "2025-03-02T17:21:39.453Z"
   },
   {
    "duration": 67,
    "start_time": "2025-03-02T17:24:58.245Z"
   },
   {
    "duration": 72,
    "start_time": "2025-03-02T17:25:35.270Z"
   },
   {
    "duration": 71,
    "start_time": "2025-03-02T17:25:38.345Z"
   },
   {
    "duration": 71,
    "start_time": "2025-03-02T17:25:42.803Z"
   },
   {
    "duration": 1013,
    "start_time": "2025-03-02T17:30:56.217Z"
   },
   {
    "duration": 75,
    "start_time": "2025-03-02T17:59:07.779Z"
   },
   {
    "duration": 44,
    "start_time": "2025-03-02T18:00:25.489Z"
   },
   {
    "duration": 10,
    "start_time": "2025-03-02T18:00:41.604Z"
   },
   {
    "duration": 3,
    "start_time": "2025-03-02T18:01:14.212Z"
   },
   {
    "duration": 1494,
    "start_time": "2025-03-02T18:01:19.903Z"
   },
   {
    "duration": 2301,
    "start_time": "2025-03-02T18:01:39.696Z"
   },
   {
    "duration": 961,
    "start_time": "2025-03-02T18:13:55.095Z"
   },
   {
    "duration": 797,
    "start_time": "2025-03-02T18:14:19.286Z"
   },
   {
    "duration": 2451,
    "start_time": "2025-03-02T18:14:44.219Z"
   },
   {
    "duration": 11,
    "start_time": "2025-03-02T19:03:08.210Z"
   },
   {
    "duration": 22,
    "start_time": "2025-03-02T19:06:46.682Z"
   },
   {
    "duration": 27,
    "start_time": "2025-03-02T19:06:54.528Z"
   },
   {
    "duration": 423,
    "start_time": "2025-03-02T20:07:33.371Z"
   },
   {
    "duration": 18,
    "start_time": "2025-03-02T20:09:11.466Z"
   },
   {
    "duration": 3,
    "start_time": "2025-03-02T20:12:03.141Z"
   },
   {
    "duration": 18,
    "start_time": "2025-03-02T20:12:13.416Z"
   },
   {
    "duration": 92,
    "start_time": "2025-03-02T20:12:45.036Z"
   },
   {
    "duration": 12,
    "start_time": "2025-03-02T20:12:48.747Z"
   },
   {
    "duration": 21,
    "start_time": "2025-03-02T20:13:13.812Z"
   },
   {
    "duration": 31,
    "start_time": "2025-03-02T21:47:34.544Z"
   },
   {
    "duration": 34,
    "start_time": "2025-03-02T21:54:58.483Z"
   },
   {
    "duration": 4,
    "start_time": "2025-03-02T22:06:21.095Z"
   },
   {
    "duration": 21,
    "start_time": "2025-03-02T22:08:19.698Z"
   },
   {
    "duration": 28,
    "start_time": "2025-03-02T22:08:33.676Z"
   },
   {
    "duration": 1530,
    "start_time": "2025-03-03T10:33:16.303Z"
   },
   {
    "duration": 174,
    "start_time": "2025-03-03T10:33:17.835Z"
   },
   {
    "duration": 147,
    "start_time": "2025-03-03T10:33:18.010Z"
   },
   {
    "duration": 173,
    "start_time": "2025-03-03T10:33:18.159Z"
   },
   {
    "duration": 62,
    "start_time": "2025-03-03T10:33:18.334Z"
   },
   {
    "duration": 107,
    "start_time": "2025-03-03T10:33:18.397Z"
   },
   {
    "duration": 2290,
    "start_time": "2025-03-03T10:33:18.506Z"
   },
   {
    "duration": 139,
    "start_time": "2025-03-03T10:33:20.798Z"
   },
   {
    "duration": 29,
    "start_time": "2025-03-03T10:34:04.658Z"
   },
   {
    "duration": 32,
    "start_time": "2025-03-03T10:34:33.916Z"
   },
   {
    "duration": 15,
    "start_time": "2025-03-03T10:35:29.016Z"
   },
   {
    "duration": 14,
    "start_time": "2025-03-03T10:36:11.445Z"
   },
   {
    "duration": 64,
    "start_time": "2025-03-03T10:36:15.586Z"
   },
   {
    "duration": 11,
    "start_time": "2025-03-03T10:37:02.415Z"
   },
   {
    "duration": 3,
    "start_time": "2025-03-03T10:37:48.081Z"
   },
   {
    "duration": 281,
    "start_time": "2025-03-03T10:38:48.381Z"
   },
   {
    "duration": 9,
    "start_time": "2025-03-03T10:39:00.764Z"
   },
   {
    "duration": 5,
    "start_time": "2025-03-03T10:39:29.426Z"
   },
   {
    "duration": 7,
    "start_time": "2025-03-03T10:45:12.852Z"
   },
   {
    "duration": 17,
    "start_time": "2025-03-03T10:48:28.775Z"
   },
   {
    "duration": 91,
    "start_time": "2025-03-03T10:48:31.058Z"
   },
   {
    "duration": 6,
    "start_time": "2025-03-03T10:48:34.466Z"
   },
   {
    "duration": 23,
    "start_time": "2025-03-03T10:48:47.857Z"
   },
   {
    "duration": 92,
    "start_time": "2025-03-03T10:48:48.455Z"
   },
   {
    "duration": 6,
    "start_time": "2025-03-03T10:48:49.665Z"
   },
   {
    "duration": 21,
    "start_time": "2025-03-03T10:51:28.010Z"
   },
   {
    "duration": 112,
    "start_time": "2025-03-03T10:51:49.238Z"
   },
   {
    "duration": 5,
    "start_time": "2025-03-03T10:52:27.785Z"
   },
   {
    "duration": 22,
    "start_time": "2025-03-03T10:57:45.235Z"
   },
   {
    "duration": 94,
    "start_time": "2025-03-03T10:58:07.056Z"
   },
   {
    "duration": 6,
    "start_time": "2025-03-03T10:58:40.174Z"
   },
   {
    "duration": 2419,
    "start_time": "2025-03-03T11:03:01.703Z"
   },
   {
    "duration": 6426,
    "start_time": "2025-03-03T11:04:24.791Z"
   },
   {
    "duration": 6442,
    "start_time": "2025-03-03T11:07:32.915Z"
   },
   {
    "duration": 6815,
    "start_time": "2025-03-03T11:08:15.660Z"
   },
   {
    "duration": 6886,
    "start_time": "2025-03-03T11:11:01.895Z"
   },
   {
    "duration": 6995,
    "start_time": "2025-03-03T11:11:18.939Z"
   },
   {
    "duration": 3,
    "start_time": "2025-03-03T11:16:45.780Z"
   },
   {
    "duration": 10,
    "start_time": "2025-03-03T11:32:41.785Z"
   },
   {
    "duration": 8,
    "start_time": "2025-03-03T11:32:46.648Z"
   },
   {
    "duration": 2,
    "start_time": "2025-03-03T11:32:49.213Z"
   },
   {
    "duration": 3,
    "start_time": "2025-03-03T11:32:50.283Z"
   },
   {
    "duration": 4,
    "start_time": "2025-03-03T11:33:01.928Z"
   },
   {
    "duration": 4,
    "start_time": "2025-03-03T11:39:13.262Z"
   },
   {
    "duration": 7,
    "start_time": "2025-03-03T11:40:33.664Z"
   },
   {
    "duration": 3,
    "start_time": "2025-03-03T11:53:54.636Z"
   },
   {
    "duration": 22,
    "start_time": "2025-03-03T11:55:06.379Z"
   },
   {
    "duration": 27,
    "start_time": "2025-03-03T11:55:17.421Z"
   },
   {
    "duration": 6,
    "start_time": "2025-03-03T11:55:24.992Z"
   },
   {
    "duration": 11,
    "start_time": "2025-03-03T11:55:57.540Z"
   },
   {
    "duration": 24,
    "start_time": "2025-03-03T11:56:02.423Z"
   },
   {
    "duration": 23,
    "start_time": "2025-03-03T11:56:04.032Z"
   },
   {
    "duration": 6,
    "start_time": "2025-03-03T11:56:13.555Z"
   },
   {
    "duration": 15,
    "start_time": "2025-03-03T11:56:51.572Z"
   },
   {
    "duration": 13,
    "start_time": "2025-03-03T11:57:00.769Z"
   },
   {
    "duration": 15,
    "start_time": "2025-03-03T11:57:36.030Z"
   },
   {
    "duration": 22,
    "start_time": "2025-03-03T11:57:56.022Z"
   },
   {
    "duration": 13,
    "start_time": "2025-03-03T11:58:26.293Z"
   },
   {
    "duration": 5,
    "start_time": "2025-03-03T11:58:34.237Z"
   },
   {
    "duration": 8,
    "start_time": "2025-03-03T11:58:49.024Z"
   },
   {
    "duration": 5,
    "start_time": "2025-03-03T11:58:55.508Z"
   },
   {
    "duration": 9,
    "start_time": "2025-03-03T11:59:03.050Z"
   },
   {
    "duration": 10,
    "start_time": "2025-03-03T11:59:19.326Z"
   },
   {
    "duration": 10,
    "start_time": "2025-03-03T12:00:15.596Z"
   },
   {
    "duration": 10,
    "start_time": "2025-03-03T12:00:20.014Z"
   },
   {
    "duration": 10,
    "start_time": "2025-03-03T12:00:53.002Z"
   },
   {
    "duration": 10,
    "start_time": "2025-03-03T12:00:58.176Z"
   },
   {
    "duration": 12,
    "start_time": "2025-03-03T12:01:11.782Z"
   },
   {
    "duration": 11,
    "start_time": "2025-03-03T12:01:15.103Z"
   },
   {
    "duration": 9,
    "start_time": "2025-03-03T12:01:50.702Z"
   },
   {
    "duration": 6,
    "start_time": "2025-03-03T12:01:57.980Z"
   },
   {
    "duration": 8,
    "start_time": "2025-03-03T12:02:03.464Z"
   },
   {
    "duration": 5,
    "start_time": "2025-03-03T12:02:08.719Z"
   },
   {
    "duration": 10,
    "start_time": "2025-03-03T12:02:15.610Z"
   },
   {
    "duration": 13,
    "start_time": "2025-03-03T12:02:26.247Z"
   },
   {
    "duration": 43,
    "start_time": "2025-03-03T12:02:34.007Z"
   },
   {
    "duration": 7,
    "start_time": "2025-03-03T12:02:37.401Z"
   },
   {
    "duration": 28,
    "start_time": "2025-03-03T12:02:44.032Z"
   },
   {
    "duration": 38,
    "start_time": "2025-03-03T12:02:45.112Z"
   },
   {
    "duration": 6,
    "start_time": "2025-03-03T12:02:47.218Z"
   },
   {
    "duration": 11,
    "start_time": "2025-03-03T12:02:54.133Z"
   },
   {
    "duration": 11,
    "start_time": "2025-03-03T12:03:06.367Z"
   },
   {
    "duration": 16,
    "start_time": "2025-03-03T12:03:11.699Z"
   },
   {
    "duration": 5,
    "start_time": "2025-03-03T12:03:21.551Z"
   },
   {
    "duration": 10,
    "start_time": "2025-03-03T12:03:50.862Z"
   },
   {
    "duration": 11,
    "start_time": "2025-03-03T12:03:58.492Z"
   },
   {
    "duration": 25,
    "start_time": "2025-03-03T12:04:56.507Z"
   },
   {
    "duration": 27,
    "start_time": "2025-03-03T12:04:57.722Z"
   },
   {
    "duration": 6,
    "start_time": "2025-03-03T12:04:59.980Z"
   },
   {
    "duration": 27,
    "start_time": "2025-03-03T12:05:04.160Z"
   },
   {
    "duration": 19,
    "start_time": "2025-03-03T12:05:12.158Z"
   },
   {
    "duration": 20,
    "start_time": "2025-03-03T12:05:29.193Z"
   },
   {
    "duration": 21,
    "start_time": "2025-03-03T12:05:32.628Z"
   },
   {
    "duration": 21,
    "start_time": "2025-03-03T12:06:12.164Z"
   },
   {
    "duration": 23,
    "start_time": "2025-03-03T12:06:15.774Z"
   },
   {
    "duration": 20,
    "start_time": "2025-03-03T12:06:19.905Z"
   },
   {
    "duration": 18,
    "start_time": "2025-03-03T12:06:33.880Z"
   },
   {
    "duration": 19,
    "start_time": "2025-03-03T12:06:38.335Z"
   },
   {
    "duration": 5,
    "start_time": "2025-03-03T12:07:39.272Z"
   },
   {
    "duration": 22,
    "start_time": "2025-03-03T12:07:47.763Z"
   },
   {
    "duration": 23,
    "start_time": "2025-03-03T12:07:52.891Z"
   },
   {
    "duration": 34,
    "start_time": "2025-03-03T12:08:46.848Z"
   },
   {
    "duration": 21,
    "start_time": "2025-03-03T12:09:01.976Z"
   },
   {
    "duration": 20,
    "start_time": "2025-03-03T12:09:14.840Z"
   },
   {
    "duration": 24,
    "start_time": "2025-03-03T12:09:25.827Z"
   },
   {
    "duration": 25,
    "start_time": "2025-03-03T12:09:53.452Z"
   },
   {
    "duration": 3,
    "start_time": "2025-03-03T12:10:43.285Z"
   },
   {
    "duration": 5,
    "start_time": "2025-03-03T12:11:00.405Z"
   },
   {
    "duration": 4,
    "start_time": "2025-03-03T12:13:08.683Z"
   },
   {
    "duration": 12,
    "start_time": "2025-03-03T12:20:14.919Z"
   },
   {
    "duration": 11,
    "start_time": "2025-03-03T12:20:32.508Z"
   },
   {
    "duration": 4,
    "start_time": "2025-03-03T12:20:38.539Z"
   },
   {
    "duration": 4,
    "start_time": "2025-03-03T12:25:12.837Z"
   },
   {
    "duration": 10,
    "start_time": "2025-03-03T12:27:23.602Z"
   },
   {
    "duration": 10,
    "start_time": "2025-03-03T12:28:50.234Z"
   },
   {
    "duration": 11,
    "start_time": "2025-03-03T12:28:59.152Z"
   },
   {
    "duration": 11,
    "start_time": "2025-03-03T12:29:11.290Z"
   },
   {
    "duration": 10,
    "start_time": "2025-03-03T12:31:11.839Z"
   },
   {
    "duration": 12,
    "start_time": "2025-03-03T12:31:28.597Z"
   },
   {
    "duration": 323,
    "start_time": "2025-03-03T12:31:51.578Z"
   },
   {
    "duration": 310,
    "start_time": "2025-03-03T12:34:11.735Z"
   },
   {
    "duration": 24,
    "start_time": "2025-03-03T12:34:23.685Z"
   },
   {
    "duration": 87,
    "start_time": "2025-03-03T12:34:24.763Z"
   },
   {
    "duration": 5,
    "start_time": "2025-03-03T12:34:26.690Z"
   },
   {
    "duration": 11,
    "start_time": "2025-03-03T12:34:42.522Z"
   },
   {
    "duration": 16,
    "start_time": "2025-03-03T12:34:50.981Z"
   },
   {
    "duration": 18,
    "start_time": "2025-03-03T12:35:51.397Z"
   },
   {
    "duration": 19,
    "start_time": "2025-03-03T12:36:14.518Z"
   },
   {
    "duration": 19,
    "start_time": "2025-03-03T12:36:30.134Z"
   },
   {
    "duration": 16,
    "start_time": "2025-03-03T12:36:42.143Z"
   },
   {
    "duration": 28,
    "start_time": "2025-03-03T12:36:53.959Z"
   },
   {
    "duration": 55,
    "start_time": "2025-03-03T12:36:55.094Z"
   },
   {
    "duration": 17,
    "start_time": "2025-03-03T12:37:00.834Z"
   },
   {
    "duration": 18,
    "start_time": "2025-03-03T12:37:10.407Z"
   },
   {
    "duration": 23,
    "start_time": "2025-03-03T12:37:39.038Z"
   },
   {
    "duration": 63,
    "start_time": "2025-03-03T12:37:39.687Z"
   },
   {
    "duration": 18,
    "start_time": "2025-03-03T12:37:56.479Z"
   },
   {
    "duration": 1501,
    "start_time": "2025-03-03T12:38:12.380Z"
   },
   {
    "duration": 1570,
    "start_time": "2025-03-03T12:38:44.764Z"
   },
   {
    "duration": 1541,
    "start_time": "2025-03-03T12:41:47.488Z"
   },
   {
    "duration": 1517,
    "start_time": "2025-03-03T12:42:15.355Z"
   },
   {
    "duration": 1518,
    "start_time": "2025-03-03T12:43:01.984Z"
   },
   {
    "duration": 1494,
    "start_time": "2025-03-03T12:43:13.170Z"
   },
   {
    "duration": 1503,
    "start_time": "2025-03-03T12:46:19.817Z"
   },
   {
    "duration": 1564,
    "start_time": "2025-03-03T12:46:25.984Z"
   },
   {
    "duration": 1498,
    "start_time": "2025-03-03T12:46:36.701Z"
   },
   {
    "duration": 1513,
    "start_time": "2025-03-03T12:46:45.256Z"
   },
   {
    "duration": 1484,
    "start_time": "2025-03-03T12:46:56.434Z"
   },
   {
    "duration": 1504,
    "start_time": "2025-03-03T12:49:42.673Z"
   },
   {
    "duration": 1494,
    "start_time": "2025-03-03T12:49:56.590Z"
   },
   {
    "duration": 1517,
    "start_time": "2025-03-03T12:50:17.766Z"
   },
   {
    "duration": 1517,
    "start_time": "2025-03-03T12:50:34.366Z"
   },
   {
    "duration": 1515,
    "start_time": "2025-03-03T12:51:30.789Z"
   },
   {
    "duration": 1481,
    "start_time": "2025-03-03T12:51:41.737Z"
   },
   {
    "duration": 1491,
    "start_time": "2025-03-03T12:51:48.514Z"
   },
   {
    "duration": 1537,
    "start_time": "2025-03-03T12:51:57.890Z"
   },
   {
    "duration": 3,
    "start_time": "2025-03-03T12:52:17.907Z"
   },
   {
    "duration": 164,
    "start_time": "2025-03-03T12:52:17.912Z"
   },
   {
    "duration": 170,
    "start_time": "2025-03-03T12:52:18.078Z"
   },
   {
    "duration": 149,
    "start_time": "2025-03-03T12:52:18.251Z"
   },
   {
    "duration": 55,
    "start_time": "2025-03-03T12:52:18.402Z"
   },
   {
    "duration": 133,
    "start_time": "2025-03-03T12:52:18.459Z"
   },
   {
    "duration": 7267,
    "start_time": "2025-03-03T12:52:18.593Z"
   },
   {
    "duration": 21,
    "start_time": "2025-03-03T12:52:25.862Z"
   },
   {
    "duration": 164,
    "start_time": "2025-03-03T12:52:25.885Z"
   },
   {
    "duration": 99,
    "start_time": "2025-03-03T12:52:26.051Z"
   },
   {
    "duration": 23,
    "start_time": "2025-03-03T12:52:26.152Z"
   },
   {
    "duration": 74,
    "start_time": "2025-03-03T12:52:26.176Z"
   },
   {
    "duration": 97,
    "start_time": "2025-03-03T12:52:26.252Z"
   },
   {
    "duration": 22,
    "start_time": "2025-03-03T12:52:26.351Z"
   },
   {
    "duration": 76,
    "start_time": "2025-03-03T12:52:26.374Z"
   },
   {
    "duration": 97,
    "start_time": "2025-03-03T12:52:26.452Z"
   },
   {
    "duration": 89,
    "start_time": "2025-03-03T12:52:26.551Z"
   },
   {
    "duration": 9,
    "start_time": "2025-03-03T12:52:26.641Z"
   },
   {
    "duration": 27,
    "start_time": "2025-03-03T12:52:26.652Z"
   },
   {
    "duration": 18,
    "start_time": "2025-03-03T12:52:26.681Z"
   },
   {
    "duration": 1520,
    "start_time": "2025-03-03T12:52:26.701Z"
   },
   {
    "duration": 1525,
    "start_time": "2025-03-03T12:52:28.223Z"
   },
   {
    "duration": 1505,
    "start_time": "2025-03-03T12:52:58.972Z"
   },
   {
    "duration": 1499,
    "start_time": "2025-03-03T12:53:06.722Z"
   },
   {
    "duration": 1531,
    "start_time": "2025-03-03T12:53:11.122Z"
   },
   {
    "duration": 1507,
    "start_time": "2025-03-03T12:53:32.130Z"
   },
   {
    "duration": 1589,
    "start_time": "2025-03-03T12:53:47.844Z"
   },
   {
    "duration": 1591,
    "start_time": "2025-03-03T12:54:51.173Z"
   },
   {
    "duration": 1540,
    "start_time": "2025-03-03T12:55:14.730Z"
   },
   {
    "duration": 1553,
    "start_time": "2025-03-03T12:55:20.324Z"
   },
   {
    "duration": 1580,
    "start_time": "2025-03-03T12:55:25.237Z"
   },
   {
    "duration": 1505,
    "start_time": "2025-03-03T12:55:29.982Z"
   },
   {
    "duration": 1526,
    "start_time": "2025-03-03T12:55:49.066Z"
   },
   {
    "duration": 1561,
    "start_time": "2025-03-03T12:56:01.894Z"
   },
   {
    "duration": 1527,
    "start_time": "2025-03-03T12:56:21.086Z"
   },
   {
    "duration": 1537,
    "start_time": "2025-03-03T12:56:28.069Z"
   },
   {
    "duration": 1525,
    "start_time": "2025-03-03T12:56:32.443Z"
   },
   {
    "duration": 1520,
    "start_time": "2025-03-03T12:56:54.149Z"
   },
   {
    "duration": 1538,
    "start_time": "2025-03-03T12:57:03.635Z"
   },
   {
    "duration": 1517,
    "start_time": "2025-03-03T12:57:29.966Z"
   },
   {
    "duration": 1516,
    "start_time": "2025-03-03T12:57:37.315Z"
   },
   {
    "duration": 1520,
    "start_time": "2025-03-03T12:57:56.209Z"
   },
   {
    "duration": 1515,
    "start_time": "2025-03-03T12:58:05.243Z"
   },
   {
    "duration": 1534,
    "start_time": "2025-03-03T12:58:38.908Z"
   },
   {
    "duration": 1575,
    "start_time": "2025-03-03T12:58:44.769Z"
   },
   {
    "duration": 1524,
    "start_time": "2025-03-03T12:58:48.253Z"
   },
   {
    "duration": 1546,
    "start_time": "2025-03-03T12:58:52.086Z"
   },
   {
    "duration": 1534,
    "start_time": "2025-03-03T12:58:58.380Z"
   },
   {
    "duration": 1535,
    "start_time": "2025-03-03T12:59:04.375Z"
   },
   {
    "duration": 1551,
    "start_time": "2025-03-03T13:00:17.609Z"
   },
   {
    "duration": 1542,
    "start_time": "2025-03-03T13:00:59.516Z"
   },
   {
    "duration": 1546,
    "start_time": "2025-03-03T13:01:02.779Z"
   },
   {
    "duration": 1564,
    "start_time": "2025-03-03T13:01:10.455Z"
   },
   {
    "duration": 90,
    "start_time": "2025-03-03T13:02:11.301Z"
   },
   {
    "duration": 1532,
    "start_time": "2025-03-03T13:02:26.184Z"
   },
   {
    "duration": 1537,
    "start_time": "2025-03-03T13:02:48.234Z"
   },
   {
    "duration": 1537,
    "start_time": "2025-03-03T13:02:59.255Z"
   },
   {
    "duration": 1509,
    "start_time": "2025-03-03T13:03:40.842Z"
   },
   {
    "duration": 1515,
    "start_time": "2025-03-03T13:03:56.293Z"
   },
   {
    "duration": 1522,
    "start_time": "2025-03-03T13:04:04.397Z"
   },
   {
    "duration": 1541,
    "start_time": "2025-03-03T13:04:25.197Z"
   },
   {
    "duration": 1514,
    "start_time": "2025-03-03T13:04:33.144Z"
   },
   {
    "duration": 88,
    "start_time": "2025-03-03T13:05:19.624Z"
   },
   {
    "duration": 1552,
    "start_time": "2025-03-03T13:05:24.496Z"
   },
   {
    "duration": 1494,
    "start_time": "2025-03-03T13:05:50.384Z"
   },
   {
    "duration": 1517,
    "start_time": "2025-03-03T13:05:57.809Z"
   },
   {
    "duration": 1518,
    "start_time": "2025-03-03T13:06:12.145Z"
   },
   {
    "duration": 1556,
    "start_time": "2025-03-03T13:06:25.616Z"
   },
   {
    "duration": 1506,
    "start_time": "2025-03-03T13:08:50.097Z"
   },
   {
    "duration": 1840,
    "start_time": "2025-03-03T13:10:35.848Z"
   },
   {
    "duration": 1750,
    "start_time": "2025-03-03T13:14:31.385Z"
   },
   {
    "duration": 1719,
    "start_time": "2025-03-03T13:14:43.429Z"
   },
   {
    "duration": 1531,
    "start_time": "2025-03-03T13:17:34.267Z"
   },
   {
    "duration": 1561,
    "start_time": "2025-03-03T13:17:41.688Z"
   },
   {
    "duration": 1557,
    "start_time": "2025-03-03T13:20:58.206Z"
   },
   {
    "duration": 1543,
    "start_time": "2025-03-03T13:21:04.788Z"
   },
   {
    "duration": 1522,
    "start_time": "2025-03-03T13:21:09.377Z"
   },
   {
    "duration": 4,
    "start_time": "2025-03-03T13:22:16.818Z"
   },
   {
    "duration": 1528,
    "start_time": "2025-03-03T13:22:18.510Z"
   },
   {
    "duration": 1518,
    "start_time": "2025-03-03T13:22:23.372Z"
   },
   {
    "duration": 1531,
    "start_time": "2025-03-03T13:22:26.711Z"
   },
   {
    "duration": 1549,
    "start_time": "2025-03-03T13:22:31.062Z"
   },
   {
    "duration": 1536,
    "start_time": "2025-03-03T13:22:35.334Z"
   },
   {
    "duration": 1522,
    "start_time": "2025-03-03T13:22:40.313Z"
   },
   {
    "duration": 1568,
    "start_time": "2025-03-03T13:22:45.340Z"
   },
   {
    "duration": 1575,
    "start_time": "2025-03-03T13:22:48.108Z"
   },
   {
    "duration": 1550,
    "start_time": "2025-03-03T13:22:55.815Z"
   },
   {
    "duration": 1497,
    "start_time": "2025-03-03T13:23:23.153Z"
   },
   {
    "duration": 1516,
    "start_time": "2025-03-03T13:23:38.363Z"
   },
   {
    "duration": 1526,
    "start_time": "2025-03-03T13:23:42.424Z"
   },
   {
    "duration": 1555,
    "start_time": "2025-03-03T13:23:45.242Z"
   },
   {
    "duration": 1524,
    "start_time": "2025-03-03T13:23:47.793Z"
   },
   {
    "duration": 1559,
    "start_time": "2025-03-03T13:23:51.419Z"
   },
   {
    "duration": 1544,
    "start_time": "2025-03-03T13:23:54.734Z"
   },
   {
    "duration": 1526,
    "start_time": "2025-03-03T13:26:12.089Z"
   },
   {
    "duration": 1498,
    "start_time": "2025-03-03T13:26:16.326Z"
   },
   {
    "duration": 1530,
    "start_time": "2025-03-03T13:29:06.905Z"
   },
   {
    "duration": 1515,
    "start_time": "2025-03-03T13:29:12.257Z"
   },
   {
    "duration": 1506,
    "start_time": "2025-03-03T13:29:16.595Z"
   },
   {
    "duration": 1947,
    "start_time": "2025-03-03T13:34:14.635Z"
   },
   {
    "duration": 192,
    "start_time": "2025-03-03T13:34:16.584Z"
   },
   {
    "duration": 182,
    "start_time": "2025-03-03T13:34:16.778Z"
   },
   {
    "duration": 176,
    "start_time": "2025-03-03T13:34:16.962Z"
   },
   {
    "duration": 89,
    "start_time": "2025-03-03T13:34:17.141Z"
   },
   {
    "duration": 124,
    "start_time": "2025-03-03T13:34:17.232Z"
   },
   {
    "duration": 7966,
    "start_time": "2025-03-03T13:34:17.358Z"
   },
   {
    "duration": 2146,
    "start_time": "2025-03-03T13:34:25.326Z"
   },
   {
    "duration": 31,
    "start_time": "2025-03-03T13:34:27.474Z"
   },
   {
    "duration": 195,
    "start_time": "2025-03-03T13:34:27.582Z"
   },
   {
    "duration": 94,
    "start_time": "2025-03-03T13:34:27.780Z"
   },
   {
    "duration": 29,
    "start_time": "2025-03-03T13:34:27.876Z"
   },
   {
    "duration": 74,
    "start_time": "2025-03-03T13:34:27.907Z"
   },
   {
    "duration": 92,
    "start_time": "2025-03-03T13:34:27.984Z"
   },
   {
    "duration": 44,
    "start_time": "2025-03-03T13:34:28.078Z"
   },
   {
    "duration": 54,
    "start_time": "2025-03-03T13:34:28.124Z"
   },
   {
    "duration": 93,
    "start_time": "2025-03-03T13:34:28.181Z"
   },
   {
    "duration": 3,
    "start_time": "2025-03-03T13:34:28.276Z"
   },
   {
    "duration": 10,
    "start_time": "2025-03-03T13:34:28.281Z"
   },
   {
    "duration": 40,
    "start_time": "2025-03-03T13:34:28.293Z"
   },
   {
    "duration": 10,
    "start_time": "2025-03-03T13:34:28.335Z"
   },
   {
    "duration": 1893,
    "start_time": "2025-03-03T13:34:28.347Z"
   },
   {
    "duration": 1889,
    "start_time": "2025-03-03T13:34:30.242Z"
   },
   {
    "duration": 1854,
    "start_time": "2025-03-03T13:34:32.133Z"
   },
   {
    "duration": 789,
    "start_time": "2025-03-03T13:50:44.336Z"
   },
   {
    "duration": 17615,
    "start_time": "2025-03-03T13:51:02.589Z"
   },
   {
    "duration": 4,
    "start_time": "2025-03-03T13:51:33.078Z"
   },
   {
    "duration": 0,
    "start_time": "2025-03-03T13:52:26.750Z"
   },
   {
    "duration": 4,
    "start_time": "2025-03-03T13:53:11.044Z"
   },
   {
    "duration": 3,
    "start_time": "2025-03-03T13:54:02.155Z"
   },
   {
    "duration": 3313,
    "start_time": "2025-03-03T13:54:09.167Z"
   },
   {
    "duration": 3622,
    "start_time": "2025-03-03T13:54:27.237Z"
   },
   {
    "duration": 373,
    "start_time": "2025-03-03T13:55:44.168Z"
   },
   {
    "duration": 383,
    "start_time": "2025-03-03T13:58:49.070Z"
   },
   {
    "duration": 368,
    "start_time": "2025-03-03T14:06:19.880Z"
   },
   {
    "duration": 4,
    "start_time": "2025-03-03T14:09:08.406Z"
   },
   {
    "duration": 168,
    "start_time": "2025-03-03T14:09:10.383Z"
   },
   {
    "duration": 3,
    "start_time": "2025-03-03T14:11:58.645Z"
   },
   {
    "duration": 4,
    "start_time": "2025-03-03T14:12:18.582Z"
   },
   {
    "duration": 22,
    "start_time": "2025-03-03T14:12:31.282Z"
   },
   {
    "duration": 4,
    "start_time": "2025-03-03T14:12:58.109Z"
   },
   {
    "duration": 20,
    "start_time": "2025-03-03T14:12:59.862Z"
   },
   {
    "duration": 4,
    "start_time": "2025-03-03T14:14:06.397Z"
   },
   {
    "duration": 49,
    "start_time": "2025-03-03T14:14:07.602Z"
   },
   {
    "duration": 5,
    "start_time": "2025-03-03T14:14:22.318Z"
   },
   {
    "duration": 45,
    "start_time": "2025-03-03T14:14:23.006Z"
   },
   {
    "duration": 4,
    "start_time": "2025-03-03T14:15:12.185Z"
   },
   {
    "duration": 6,
    "start_time": "2025-03-03T14:15:15.822Z"
   },
   {
    "duration": 76,
    "start_time": "2025-03-03T14:15:16.374Z"
   },
   {
    "duration": 10,
    "start_time": "2025-03-03T14:15:23.684Z"
   },
   {
    "duration": 61,
    "start_time": "2025-03-03T14:15:43.389Z"
   },
   {
    "duration": 68,
    "start_time": "2025-03-03T14:16:19.686Z"
   },
   {
    "duration": 6,
    "start_time": "2025-03-03T14:16:23.265Z"
   },
   {
    "duration": 15,
    "start_time": "2025-03-03T14:17:05.944Z"
   },
   {
    "duration": 10,
    "start_time": "2025-03-03T14:17:12.458Z"
   },
   {
    "duration": 8,
    "start_time": "2025-03-03T14:17:31.543Z"
   },
   {
    "duration": 36,
    "start_time": "2025-03-03T14:17:34.620Z"
   },
   {
    "duration": 8,
    "start_time": "2025-03-03T14:17:36.156Z"
   },
   {
    "duration": 8,
    "start_time": "2025-03-03T14:17:46.419Z"
   },
   {
    "duration": 54,
    "start_time": "2025-03-03T14:17:50.898Z"
   },
   {
    "duration": 5,
    "start_time": "2025-03-03T14:17:53.466Z"
   },
   {
    "duration": 63,
    "start_time": "2025-03-03T14:17:54.490Z"
   },
   {
    "duration": 8,
    "start_time": "2025-03-03T14:17:56.543Z"
   },
   {
    "duration": 38,
    "start_time": "2025-03-03T14:17:59.021Z"
   },
   {
    "duration": 7,
    "start_time": "2025-03-03T14:18:01.100Z"
   },
   {
    "duration": 205,
    "start_time": "2025-03-03T14:19:25.344Z"
   },
   {
    "duration": 6,
    "start_time": "2025-03-03T14:19:48.311Z"
   },
   {
    "duration": 9,
    "start_time": "2025-03-03T14:19:56.919Z"
   },
   {
    "duration": 7,
    "start_time": "2025-03-03T14:20:31.508Z"
   },
   {
    "duration": 11,
    "start_time": "2025-03-03T14:20:40.140Z"
   },
   {
    "duration": 7,
    "start_time": "2025-03-03T14:20:48.117Z"
   },
   {
    "duration": 125,
    "start_time": "2025-03-03T14:20:52.025Z"
   },
   {
    "duration": 7,
    "start_time": "2025-03-03T14:20:53.714Z"
   },
   {
    "duration": 9,
    "start_time": "2025-03-03T14:21:01.660Z"
   },
   {
    "duration": 3,
    "start_time": "2025-03-03T14:21:44.741Z"
   },
   {
    "duration": 4,
    "start_time": "2025-03-03T14:21:48.193Z"
   },
   {
    "duration": 85,
    "start_time": "2025-03-03T14:23:07.184Z"
   },
   {
    "duration": 8,
    "start_time": "2025-03-03T14:23:18.911Z"
   },
   {
    "duration": 79,
    "start_time": "2025-03-03T14:23:49.540Z"
   },
   {
    "duration": 6,
    "start_time": "2025-03-03T14:23:53.121Z"
   },
   {
    "duration": 6,
    "start_time": "2025-03-03T14:24:13.297Z"
   },
   {
    "duration": 3,
    "start_time": "2025-03-03T14:26:17.844Z"
   },
   {
    "duration": 4,
    "start_time": "2025-03-03T14:33:19.263Z"
   },
   {
    "duration": 16,
    "start_time": "2025-03-03T14:33:26.808Z"
   },
   {
    "duration": 17,
    "start_time": "2025-03-03T14:33:29.587Z"
   },
   {
    "duration": 17,
    "start_time": "2025-03-03T14:33:32.285Z"
   },
   {
    "duration": 16,
    "start_time": "2025-03-03T14:33:48.945Z"
   },
   {
    "duration": 16,
    "start_time": "2025-03-03T14:33:51.937Z"
   },
   {
    "duration": 15,
    "start_time": "2025-03-03T14:33:54.286Z"
   },
   {
    "duration": 10,
    "start_time": "2025-03-03T14:34:08.312Z"
   },
   {
    "duration": 19,
    "start_time": "2025-03-03T14:34:16.699Z"
   },
   {
    "duration": 15,
    "start_time": "2025-03-03T14:34:32.020Z"
   },
   {
    "duration": 17,
    "start_time": "2025-03-03T14:34:59.852Z"
   },
   {
    "duration": 10,
    "start_time": "2025-03-03T14:35:11.123Z"
   },
   {
    "duration": 15,
    "start_time": "2025-03-03T14:35:21.772Z"
   },
   {
    "duration": 16,
    "start_time": "2025-03-03T14:35:24.276Z"
   },
   {
    "duration": 15,
    "start_time": "2025-03-03T14:35:26.777Z"
   },
   {
    "duration": 4,
    "start_time": "2025-03-03T14:35:36.938Z"
   },
   {
    "duration": 315,
    "start_time": "2025-03-03T14:35:40.907Z"
   },
   {
    "duration": 90,
    "start_time": "2025-03-03T14:36:10.265Z"
   },
   {
    "duration": 7,
    "start_time": "2025-03-03T14:36:12.741Z"
   },
   {
    "duration": 335,
    "start_time": "2025-03-03T14:36:19.686Z"
   },
   {
    "duration": 362,
    "start_time": "2025-03-03T14:39:23.831Z"
   },
   {
    "duration": 4,
    "start_time": "2025-03-03T14:39:30.751Z"
   },
   {
    "duration": 105,
    "start_time": "2025-03-03T14:39:31.344Z"
   },
   {
    "duration": 7,
    "start_time": "2025-03-03T14:39:32.630Z"
   },
   {
    "duration": 940,
    "start_time": "2025-03-03T14:39:36.821Z"
   },
   {
    "duration": 17,
    "start_time": "2025-03-03T14:39:51.778Z"
   },
   {
    "duration": 1643,
    "start_time": "2025-03-03T14:40:48.236Z"
   },
   {
    "duration": 1640,
    "start_time": "2025-03-03T14:40:53.440Z"
   },
   {
    "duration": 1645,
    "start_time": "2025-03-03T14:40:57.567Z"
   },
   {
    "duration": 1619,
    "start_time": "2025-03-03T14:42:04.019Z"
   },
   {
    "duration": 1634,
    "start_time": "2025-03-03T14:42:08.103Z"
   },
   {
    "duration": 1672,
    "start_time": "2025-03-03T14:42:13.054Z"
   },
   {
    "duration": 1617,
    "start_time": "2025-03-03T14:42:33.000Z"
   },
   {
    "duration": 1655,
    "start_time": "2025-03-03T14:42:36.735Z"
   },
   {
    "duration": 1630,
    "start_time": "2025-03-03T14:43:10.251Z"
   },
   {
    "duration": 1634,
    "start_time": "2025-03-03T14:43:13.285Z"
   },
   {
    "duration": 3,
    "start_time": "2025-03-03T14:43:50.825Z"
   },
   {
    "duration": 1663,
    "start_time": "2025-03-03T14:43:53.812Z"
   },
   {
    "duration": 1693,
    "start_time": "2025-03-03T14:44:00.782Z"
   },
   {
    "duration": 1625,
    "start_time": "2025-03-03T14:44:03.864Z"
   },
   {
    "duration": 1658,
    "start_time": "2025-03-03T14:44:10.754Z"
   },
   {
    "duration": 1618,
    "start_time": "2025-03-03T14:44:14.068Z"
   },
   {
    "duration": 1667,
    "start_time": "2025-03-03T14:44:17.999Z"
   },
   {
    "duration": 1662,
    "start_time": "2025-03-03T14:44:22.994Z"
   },
   {
    "duration": 1672,
    "start_time": "2025-03-03T14:44:28.867Z"
   },
   {
    "duration": 1623,
    "start_time": "2025-03-03T14:44:33.315Z"
   },
   {
    "duration": 1658,
    "start_time": "2025-03-03T14:44:35.102Z"
   },
   {
    "duration": 98,
    "start_time": "2025-03-03T14:48:44.715Z"
   },
   {
    "duration": 269,
    "start_time": "2025-03-03T14:48:57.304Z"
   },
   {
    "duration": 133,
    "start_time": "2025-03-03T14:49:42.853Z"
   },
   {
    "duration": 92,
    "start_time": "2025-03-03T14:51:04.464Z"
   },
   {
    "duration": 101,
    "start_time": "2025-03-03T14:51:31.617Z"
   },
   {
    "duration": 98,
    "start_time": "2025-03-03T14:51:47.090Z"
   },
   {
    "duration": 114,
    "start_time": "2025-03-03T14:56:39.668Z"
   },
   {
    "duration": 156,
    "start_time": "2025-03-03T14:56:48.270Z"
   },
   {
    "duration": 164,
    "start_time": "2025-03-03T14:56:52.474Z"
   },
   {
    "duration": 1371,
    "start_time": "2025-03-03T14:56:58.928Z"
   },
   {
    "duration": 220,
    "start_time": "2025-03-03T14:57:05.396Z"
   },
   {
    "duration": 346,
    "start_time": "2025-03-03T14:57:44.232Z"
   },
   {
    "duration": 619,
    "start_time": "2025-03-03T14:57:55.854Z"
   },
   {
    "duration": 341,
    "start_time": "2025-03-03T14:58:33.181Z"
   },
   {
    "duration": 359,
    "start_time": "2025-03-03T14:58:40.703Z"
   },
   {
    "duration": 338,
    "start_time": "2025-03-03T14:59:16.159Z"
   },
   {
    "duration": 358,
    "start_time": "2025-03-03T14:59:44.900Z"
   },
   {
    "duration": 1654,
    "start_time": "2025-03-03T14:59:48.702Z"
   },
   {
    "duration": 320,
    "start_time": "2025-03-03T14:59:50.359Z"
   },
   {
    "duration": 1728,
    "start_time": "2025-03-03T15:00:55.153Z"
   },
   {
    "duration": 561,
    "start_time": "2025-03-03T15:01:01.915Z"
   },
   {
    "duration": 369,
    "start_time": "2025-03-03T15:01:14.995Z"
   },
   {
    "duration": 1696,
    "start_time": "2025-03-03T15:01:18.959Z"
   },
   {
    "duration": 335,
    "start_time": "2025-03-03T15:01:20.656Z"
   },
   {
    "duration": 1768,
    "start_time": "2025-03-03T15:01:25.292Z"
   },
   {
    "duration": 1621,
    "start_time": "2025-03-03T15:02:48.550Z"
   },
   {
    "duration": 343,
    "start_time": "2025-03-03T15:02:50.172Z"
   },
   {
    "duration": 1697,
    "start_time": "2025-03-03T15:03:00.412Z"
   },
   {
    "duration": 351,
    "start_time": "2025-03-03T15:03:02.111Z"
   },
   {
    "duration": 46,
    "start_time": "2025-03-03T19:20:28.642Z"
   },
   {
    "duration": 5002,
    "start_time": "2025-03-03T19:20:32.936Z"
   },
   {
    "duration": 162,
    "start_time": "2025-03-03T19:20:37.941Z"
   },
   {
    "duration": 146,
    "start_time": "2025-03-03T19:20:38.105Z"
   },
   {
    "duration": 148,
    "start_time": "2025-03-03T19:20:38.253Z"
   },
   {
    "duration": 56,
    "start_time": "2025-03-03T19:20:38.403Z"
   },
   {
    "duration": 71,
    "start_time": "2025-03-03T19:20:38.460Z"
   },
   {
    "duration": 7092,
    "start_time": "2025-03-03T19:20:38.533Z"
   },
   {
    "duration": 1913,
    "start_time": "2025-03-03T19:20:45.630Z"
   },
   {
    "duration": 386,
    "start_time": "2025-03-03T19:20:47.545Z"
   },
   {
    "duration": 386,
    "start_time": "2025-03-03T19:20:47.932Z"
   },
   {
    "duration": 385,
    "start_time": "2025-03-03T19:20:48.320Z"
   },
   {
    "duration": 5,
    "start_time": "2025-03-03T19:20:48.707Z"
   },
   {
    "duration": 218,
    "start_time": "2025-03-03T19:20:48.714Z"
   },
   {
    "duration": 94,
    "start_time": "2025-03-03T19:20:48.936Z"
   },
   {
    "duration": 102,
    "start_time": "2025-03-03T19:20:49.031Z"
   },
   {
    "duration": 98,
    "start_time": "2025-03-03T19:20:49.135Z"
   },
   {
    "duration": 96,
    "start_time": "2025-03-03T19:20:49.235Z"
   },
   {
    "duration": 99,
    "start_time": "2025-03-03T19:20:49.333Z"
   },
   {
    "duration": 15,
    "start_time": "2025-03-03T19:20:49.434Z"
   },
   {
    "duration": 18,
    "start_time": "2025-03-03T19:20:49.451Z"
   },
   {
    "duration": 8,
    "start_time": "2025-03-03T19:20:49.471Z"
   },
   {
    "duration": 16,
    "start_time": "2025-03-03T19:20:49.481Z"
   },
   {
    "duration": 1695,
    "start_time": "2025-03-03T19:20:49.498Z"
   },
   {
    "duration": 387,
    "start_time": "2025-03-03T19:20:51.194Z"
   },
   {
    "duration": 1682,
    "start_time": "2025-03-03T19:20:51.583Z"
   },
   {
    "duration": 373,
    "start_time": "2025-03-03T19:20:53.266Z"
   },
   {
    "duration": 1663,
    "start_time": "2025-03-03T19:20:53.641Z"
   },
   {
    "duration": 346,
    "start_time": "2025-03-03T19:20:55.306Z"
   },
   {
    "duration": 8,
    "start_time": "2025-03-03T19:20:55.654Z"
   },
   {
    "duration": 4335,
    "start_time": "2025-09-01T16:54:46.098Z"
   },
   {
    "duration": 205,
    "start_time": "2025-09-01T16:54:50.436Z"
   },
   {
    "duration": 184,
    "start_time": "2025-09-01T16:54:50.643Z"
   },
   {
    "duration": 188,
    "start_time": "2025-09-01T16:54:50.829Z"
   },
   {
    "duration": 94,
    "start_time": "2025-09-01T16:54:51.021Z"
   },
   {
    "duration": 110,
    "start_time": "2025-09-01T16:54:51.118Z"
   },
   {
    "duration": 7711,
    "start_time": "2025-09-01T16:54:51.230Z"
   },
   {
    "duration": 2221,
    "start_time": "2025-09-01T16:54:58.944Z"
   },
   {
    "duration": 446,
    "start_time": "2025-09-01T16:55:01.168Z"
   },
   {
    "duration": 457,
    "start_time": "2025-09-01T16:55:01.617Z"
   },
   {
    "duration": 413,
    "start_time": "2025-09-01T16:55:02.076Z"
   },
   {
    "duration": 5,
    "start_time": "2025-09-01T16:55:02.491Z"
   },
   {
    "duration": 267,
    "start_time": "2025-09-01T16:55:02.498Z"
   },
   {
    "duration": 7,
    "start_time": "2025-09-01T16:55:02.768Z"
   },
   {
    "duration": 93,
    "start_time": "2025-09-01T16:55:02.776Z"
   },
   {
    "duration": 9,
    "start_time": "2025-09-01T16:55:02.961Z"
   },
   {
    "duration": 190,
    "start_time": "2025-09-01T16:55:02.972Z"
   },
   {
    "duration": 8,
    "start_time": "2025-09-01T16:55:03.164Z"
   },
   {
    "duration": 4,
    "start_time": "2025-09-01T16:55:03.175Z"
   },
   {
    "duration": 6,
    "start_time": "2025-09-01T16:55:03.181Z"
   },
   {
    "duration": 13,
    "start_time": "2025-09-01T16:55:03.189Z"
   },
   {
    "duration": 48,
    "start_time": "2025-09-01T16:55:03.204Z"
   },
   {
    "duration": 2082,
    "start_time": "2025-09-01T16:55:03.255Z"
   },
   {
    "duration": 405,
    "start_time": "2025-09-01T16:55:05.339Z"
   },
   {
    "duration": 2107,
    "start_time": "2025-09-01T16:55:05.748Z"
   },
   {
    "duration": 356,
    "start_time": "2025-09-01T16:55:07.860Z"
   },
   {
    "duration": 2098,
    "start_time": "2025-09-01T16:55:08.218Z"
   },
   {
    "duration": 401,
    "start_time": "2025-09-01T16:55:10.318Z"
   }
  ],
  "kernelspec": {
   "display_name": "Python 3 (ipykernel)",
   "language": "python",
   "name": "python3"
  },
  "language_info": {
   "codemirror_mode": {
    "name": "ipython",
    "version": 3
   },
   "file_extension": ".py",
   "mimetype": "text/x-python",
   "name": "python",
   "nbconvert_exporter": "python",
   "pygments_lexer": "ipython3",
   "version": "3.9.5"
  },
  "toc": {
   "base_numbering": 1,
   "nav_menu": {},
   "number_sections": true,
   "sideBar": true,
   "skip_h1_title": true,
   "title_cell": "Table of Contents",
   "title_sidebar": "Contents",
   "toc_cell": false,
   "toc_position": {},
   "toc_section_display": true,
   "toc_window_display": false
  }
 },
 "nbformat": 4,
 "nbformat_minor": 2
}
