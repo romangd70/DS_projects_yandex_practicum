{
 "cells": [
  {
   "cell_type": "markdown",
   "metadata": {},
   "source": [
    "# Определение стоимости автомобилей"
   ]
  },
  {
   "cell_type": "markdown",
   "metadata": {},
   "source": [
    "Описание проекта: cервис по продаже автомобилей с пробегом «Не бит, не крашен» разрабатывает приложение для привлечения новых клиентов. В нём можно быстро узнать рыночную стоимость своего автомобиля\n",
    "\n",
    "Цель исследования: нужно построить модель для определения стоимости автомобиля\n",
    "\n",
    "Ход исследования:\n",
    "\n",
    "Подготовка данных: загрузка и изучение общей информации из предоставленных датасетов\n",
    "\n",
    "Предобработка данных: обработка пропущенных значений, удаление дубликатов и т.д.\n",
    "\n",
    "Исследовательский анализ данных: статистический анализ всех признаков\n",
    "\n",
    "Корреляционный анализ данных: расчет коэффициентов корреляции для всех признаков\n",
    "\n",
    "Обучение моделей: обучение моделей пайплайном, выбор лучшей из них, обучение LightGBM\n",
    "\n",
    "Анализ моделей: анализ времени обучения, времени предсказания и качества моделей\n",
    "\n",
    "Вывод: резюмирование полученных результатов, формулировка ключевых выводов и рекомендаций"
   ]
  },
  {
   "cell_type": "markdown",
   "metadata": {},
   "source": [
    "## Подготовка данных"
   ]
  },
  {
   "cell_type": "code",
   "execution_count": 2,
   "metadata": {},
   "outputs": [],
   "source": [
    "import sys\n",
    "!pip install eli5 -q\n",
    "!pip install -U scikit-learn -q\n",
    "!\"{sys.executable}\" -m pip install phik -q"
   ]
  },
  {
   "cell_type": "code",
   "execution_count": 3,
   "metadata": {},
   "outputs": [],
   "source": [
    "RANDOM_STATE=42\n",
    "import warnings\n",
    "warnings.filterwarnings('ignore')\n",
    "import pandas as pd\n",
    "import numpy as np\n",
    "import seaborn as sns\n",
    "import matplotlib.pyplot as plt\n",
    "import phik\n",
    "from sklearn.model_selection import (\n",
    "    train_test_split,\n",
    "    RandomizedSearchCV,\n",
    "    GridSearchCV,\n",
    "    cross_val_score,\n",
    "    cross_validate\n",
    ")\n",
    "from sklearn.preprocessing import(\n",
    "    OneHotEncoder,\n",
    "    StandardScaler,\n",
    "    MinMaxScaler\n",
    ")\n",
    "from sklearn.pipeline import Pipeline\n",
    "from sklearn.compose import ColumnTransformer\n",
    "from sklearn.impute import SimpleImputer\n",
    "from sklearn.linear_model import LinearRegression\n",
    "from lightgbm import LGBMRegressor\n",
    "from sklearn.tree import DecisionTreeRegressor\n",
    "from sklearn.metrics import(\n",
    "    mean_squared_error\n",
    ")"
   ]
  },
  {
   "cell_type": "code",
   "execution_count": 4,
   "metadata": {},
   "outputs": [
    {
     "name": "stdout",
     "output_type": "stream",
     "text": [
      "<class 'pandas.core.frame.DataFrame'>\n",
      "RangeIndex: 354369 entries, 0 to 354368\n",
      "Data columns (total 16 columns):\n",
      " #   Column             Non-Null Count   Dtype \n",
      "---  ------             --------------   ----- \n",
      " 0   DateCrawled        354369 non-null  object\n",
      " 1   Price              354369 non-null  int64 \n",
      " 2   VehicleType        316879 non-null  object\n",
      " 3   RegistrationYear   354369 non-null  int64 \n",
      " 4   Gearbox            334536 non-null  object\n",
      " 5   Power              354369 non-null  int64 \n",
      " 6   Model              334664 non-null  object\n",
      " 7   Kilometer          354369 non-null  int64 \n",
      " 8   RegistrationMonth  354369 non-null  int64 \n",
      " 9   FuelType           321474 non-null  object\n",
      " 10  Brand              354369 non-null  object\n",
      " 11  Repaired           283215 non-null  object\n",
      " 12  DateCreated        354369 non-null  object\n",
      " 13  NumberOfPictures   354369 non-null  int64 \n",
      " 14  PostalCode         354369 non-null  int64 \n",
      " 15  LastSeen           354369 non-null  object\n",
      "dtypes: int64(7), object(9)\n",
      "memory usage: 43.3+ MB\n"
     ]
    },
    {
     "data": {
      "text/html": [
       "<div>\n",
       "<style scoped>\n",
       "    .dataframe tbody tr th:only-of-type {\n",
       "        vertical-align: middle;\n",
       "    }\n",
       "\n",
       "    .dataframe tbody tr th {\n",
       "        vertical-align: top;\n",
       "    }\n",
       "\n",
       "    .dataframe thead th {\n",
       "        text-align: right;\n",
       "    }\n",
       "</style>\n",
       "<table border=\"1\" class=\"dataframe\">\n",
       "  <thead>\n",
       "    <tr style=\"text-align: right;\">\n",
       "      <th></th>\n",
       "      <th>DateCrawled</th>\n",
       "      <th>Price</th>\n",
       "      <th>VehicleType</th>\n",
       "      <th>RegistrationYear</th>\n",
       "      <th>Gearbox</th>\n",
       "      <th>Power</th>\n",
       "      <th>Model</th>\n",
       "      <th>Kilometer</th>\n",
       "      <th>RegistrationMonth</th>\n",
       "      <th>FuelType</th>\n",
       "      <th>Brand</th>\n",
       "      <th>Repaired</th>\n",
       "      <th>DateCreated</th>\n",
       "      <th>NumberOfPictures</th>\n",
       "      <th>PostalCode</th>\n",
       "      <th>LastSeen</th>\n",
       "    </tr>\n",
       "  </thead>\n",
       "  <tbody>\n",
       "    <tr>\n",
       "      <th>0</th>\n",
       "      <td>2016-03-24 11:52:17</td>\n",
       "      <td>480</td>\n",
       "      <td>NaN</td>\n",
       "      <td>1993</td>\n",
       "      <td>manual</td>\n",
       "      <td>0</td>\n",
       "      <td>golf</td>\n",
       "      <td>150000</td>\n",
       "      <td>0</td>\n",
       "      <td>petrol</td>\n",
       "      <td>volkswagen</td>\n",
       "      <td>NaN</td>\n",
       "      <td>2016-03-24 00:00:00</td>\n",
       "      <td>0</td>\n",
       "      <td>70435</td>\n",
       "      <td>2016-04-07 03:16:57</td>\n",
       "    </tr>\n",
       "    <tr>\n",
       "      <th>1</th>\n",
       "      <td>2016-03-24 10:58:45</td>\n",
       "      <td>18300</td>\n",
       "      <td>coupe</td>\n",
       "      <td>2011</td>\n",
       "      <td>manual</td>\n",
       "      <td>190</td>\n",
       "      <td>NaN</td>\n",
       "      <td>125000</td>\n",
       "      <td>5</td>\n",
       "      <td>gasoline</td>\n",
       "      <td>audi</td>\n",
       "      <td>yes</td>\n",
       "      <td>2016-03-24 00:00:00</td>\n",
       "      <td>0</td>\n",
       "      <td>66954</td>\n",
       "      <td>2016-04-07 01:46:50</td>\n",
       "    </tr>\n",
       "    <tr>\n",
       "      <th>2</th>\n",
       "      <td>2016-03-14 12:52:21</td>\n",
       "      <td>9800</td>\n",
       "      <td>suv</td>\n",
       "      <td>2004</td>\n",
       "      <td>auto</td>\n",
       "      <td>163</td>\n",
       "      <td>grand</td>\n",
       "      <td>125000</td>\n",
       "      <td>8</td>\n",
       "      <td>gasoline</td>\n",
       "      <td>jeep</td>\n",
       "      <td>NaN</td>\n",
       "      <td>2016-03-14 00:00:00</td>\n",
       "      <td>0</td>\n",
       "      <td>90480</td>\n",
       "      <td>2016-04-05 12:47:46</td>\n",
       "    </tr>\n",
       "    <tr>\n",
       "      <th>3</th>\n",
       "      <td>2016-03-17 16:54:04</td>\n",
       "      <td>1500</td>\n",
       "      <td>small</td>\n",
       "      <td>2001</td>\n",
       "      <td>manual</td>\n",
       "      <td>75</td>\n",
       "      <td>golf</td>\n",
       "      <td>150000</td>\n",
       "      <td>6</td>\n",
       "      <td>petrol</td>\n",
       "      <td>volkswagen</td>\n",
       "      <td>no</td>\n",
       "      <td>2016-03-17 00:00:00</td>\n",
       "      <td>0</td>\n",
       "      <td>91074</td>\n",
       "      <td>2016-03-17 17:40:17</td>\n",
       "    </tr>\n",
       "    <tr>\n",
       "      <th>4</th>\n",
       "      <td>2016-03-31 17:25:20</td>\n",
       "      <td>3600</td>\n",
       "      <td>small</td>\n",
       "      <td>2008</td>\n",
       "      <td>manual</td>\n",
       "      <td>69</td>\n",
       "      <td>fabia</td>\n",
       "      <td>90000</td>\n",
       "      <td>7</td>\n",
       "      <td>gasoline</td>\n",
       "      <td>skoda</td>\n",
       "      <td>no</td>\n",
       "      <td>2016-03-31 00:00:00</td>\n",
       "      <td>0</td>\n",
       "      <td>60437</td>\n",
       "      <td>2016-04-06 10:17:21</td>\n",
       "    </tr>\n",
       "  </tbody>\n",
       "</table>\n",
       "</div>"
      ],
      "text/plain": [
       "           DateCrawled  Price VehicleType  RegistrationYear Gearbox  Power  \\\n",
       "0  2016-03-24 11:52:17    480         NaN              1993  manual      0   \n",
       "1  2016-03-24 10:58:45  18300       coupe              2011  manual    190   \n",
       "2  2016-03-14 12:52:21   9800         suv              2004    auto    163   \n",
       "3  2016-03-17 16:54:04   1500       small              2001  manual     75   \n",
       "4  2016-03-31 17:25:20   3600       small              2008  manual     69   \n",
       "\n",
       "   Model  Kilometer  RegistrationMonth  FuelType       Brand Repaired  \\\n",
       "0   golf     150000                  0    petrol  volkswagen      NaN   \n",
       "1    NaN     125000                  5  gasoline        audi      yes   \n",
       "2  grand     125000                  8  gasoline        jeep      NaN   \n",
       "3   golf     150000                  6    petrol  volkswagen       no   \n",
       "4  fabia      90000                  7  gasoline       skoda       no   \n",
       "\n",
       "           DateCreated  NumberOfPictures  PostalCode             LastSeen  \n",
       "0  2016-03-24 00:00:00                 0       70435  2016-04-07 03:16:57  \n",
       "1  2016-03-24 00:00:00                 0       66954  2016-04-07 01:46:50  \n",
       "2  2016-03-14 00:00:00                 0       90480  2016-04-05 12:47:46  \n",
       "3  2016-03-17 00:00:00                 0       91074  2016-03-17 17:40:17  \n",
       "4  2016-03-31 00:00:00                 0       60437  2016-04-06 10:17:21  "
      ]
     },
     "execution_count": 4,
     "metadata": {},
     "output_type": "execute_result"
    }
   ],
   "source": [
    "autos=pd.read_csv('/datasets/autos.csv')\n",
    "autos.info()\n",
    "autos.head()"
   ]
  },
  {
   "cell_type": "markdown",
   "metadata": {},
   "source": [
    "Замечу, что в столбцах FuelType, VehicleType и Repaired достаточно много пропусков, поэтому заполню их."
   ]
  },
  {
   "cell_type": "code",
   "execution_count": 5,
   "metadata": {},
   "outputs": [
    {
     "data": {
      "image/png": "[encoded data removed]",
      "text/plain": [
       "<Figure size 432x288 with 1 Axes>"
      ]
     },
     "metadata": {
      "needs_background": "light"
     },
     "output_type": "display_data"
    }
   ],
   "source": [
    "sns.countplot(x='VehicleType', data=autos)\n",
    "plt.title('VehicleType')\n",
    "plt.show()"
   ]
  },
  {
   "cell_type": "markdown",
   "metadata": {},
   "source": [
    "Поменяю пропуски в моделях на наименование бренда машины"
   ]
  },
  {
   "cell_type": "code",
   "execution_count": 6,
   "metadata": {
    "scrolled": true
   },
   "outputs": [],
   "source": [
    "autos['Model']=autos['Model'].fillna(autos['Brand'])"
   ]
  },
  {
   "cell_type": "markdown",
   "metadata": {},
   "source": [
    "Теперь заменю пропуски в типе двигателя на самый часто встречающийся тип у этой машины"
   ]
  },
  {
   "cell_type": "code",
   "execution_count": 7,
   "metadata": {},
   "outputs": [],
   "source": [
    "autos['VehicleType']=autos['VehicleType'].fillna(autos.groupby('Model')['VehicleType'].transform(lambda x: x.mode()[0] if not x.mode().empty else None))"
   ]
  },
  {
   "cell_type": "code",
   "execution_count": 8,
   "metadata": {},
   "outputs": [
    {
     "data": {
      "image/png": "[encoded data removed]",
      "text/plain": [
       "<Figure size 432x288 with 1 Axes>"
      ]
     },
     "metadata": {
      "needs_background": "light"
     },
     "output_type": "display_data"
    }
   ],
   "source": [
    "sns.countplot(x='FuelType', data=autos)\n",
    "plt.title('FuelType')\n",
    "plt.show()"
   ]
  },
  {
   "cell_type": "markdown",
   "metadata": {},
   "source": [
    "Аналогично поступлю с пропусками в столбцах Gearbox и FuelType"
   ]
  },
  {
   "cell_type": "code",
   "execution_count": 9,
   "metadata": {},
   "outputs": [],
   "source": [
    "autos['FuelType']=autos['FuelType'].fillna(autos.groupby('Model')['FuelType'].transform(lambda x: x.mode()[0] if not x.mode().empty else None))"
   ]
  },
  {
   "cell_type": "code",
   "execution_count": 10,
   "metadata": {},
   "outputs": [],
   "source": [
    "autos['Gearbox']=autos['Gearbox'].fillna(autos.groupby('Model')['Gearbox'].transform(lambda x: x.mode()[0] if not x.mode().empty else None))"
   ]
  },
  {
   "cell_type": "code",
   "execution_count": 11,
   "metadata": {},
   "outputs": [
    {
     "data": {
      "image/png": "[encoded data removed]",
      "text/plain": [
       "<Figure size 432x288 with 1 Axes>"
      ]
     },
     "metadata": {
      "needs_background": "light"
     },
     "output_type": "display_data"
    }
   ],
   "source": [
    "sns.countplot(x='Repaired', data=autos)\n",
    "plt.title('Repaired')\n",
    "plt.show()"
   ]
  },
  {
   "cell_type": "markdown",
   "metadata": {},
   "source": [
    "Поставлю заглушку вместо пропусков в столбец Repaired"
   ]
  },
  {
   "cell_type": "code",
   "execution_count": 12,
   "metadata": {},
   "outputs": [],
   "source": [
    "autos['Repaired']=autos['Repaired'].fillna('not_stated')"
   ]
  },
  {
   "cell_type": "code",
   "execution_count": 13,
   "metadata": {},
   "outputs": [
    {
     "name": "stdout",
     "output_type": "stream",
     "text": [
      "<class 'pandas.core.frame.DataFrame'>\n",
      "RangeIndex: 354369 entries, 0 to 354368\n",
      "Data columns (total 16 columns):\n",
      " #   Column             Non-Null Count   Dtype \n",
      "---  ------             --------------   ----- \n",
      " 0   DateCrawled        354369 non-null  object\n",
      " 1   Price              354369 non-null  int64 \n",
      " 2   VehicleType        354369 non-null  object\n",
      " 3   RegistrationYear   354369 non-null  int64 \n",
      " 4   Gearbox            354369 non-null  object\n",
      " 5   Power              354369 non-null  int64 \n",
      " 6   Model              354369 non-null  object\n",
      " 7   Kilometer          354369 non-null  int64 \n",
      " 8   RegistrationMonth  354369 non-null  int64 \n",
      " 9   FuelType           354369 non-null  object\n",
      " 10  Brand              354369 non-null  object\n",
      " 11  Repaired           354369 non-null  object\n",
      " 12  DateCreated        354369 non-null  object\n",
      " 13  NumberOfPictures   354369 non-null  int64 \n",
      " 14  PostalCode         354369 non-null  int64 \n",
      " 15  LastSeen           354369 non-null  object\n",
      "dtypes: int64(7), object(9)\n",
      "memory usage: 43.3+ MB\n"
     ]
    }
   ],
   "source": [
    "autos.info()"
   ]
  },
  {
   "cell_type": "markdown",
   "metadata": {},
   "source": [
    "Теперь проверю данные на дубликаты"
   ]
  },
  {
   "cell_type": "code",
   "execution_count": 14,
   "metadata": {},
   "outputs": [
    {
     "name": "stdout",
     "output_type": "stream",
     "text": [
      "4\n"
     ]
    },
    {
     "data": {
      "text/plain": [
       "0"
      ]
     },
     "execution_count": 14,
     "metadata": {},
     "output_type": "execute_result"
    }
   ],
   "source": [
    "print(sum(autos.duplicated()))\n",
    "autos=autos.drop_duplicates()\n",
    "sum(autos.duplicated())"
   ]
  },
  {
   "cell_type": "markdown",
   "metadata": {},
   "source": [
    "Удалю наименее информативные признаки: на мой взгляд, это DateCrawled, DateCreated, PostalCode, LastSeen, NumberOfPictures поскольку они не имеют никакого отношения к характеристикам самого автомобиля, а значит не должны влиять на его окончательную стоимость. Признак RegistrationMonth также кажется неинформативным, поскольку у нас уже есть признак RegistrationYear, дающий понять примерный \"возраст\" автомобиля."
   ]
  },
  {
   "cell_type": "markdown",
   "metadata": {},
   "source": [
    "Также необходимо убрать все объявления, в которых год регистрации больше года, в котором было выложено объявление  </div>"
   ]
  },
  {
   "cell_type": "code",
   "execution_count": 15,
   "metadata": {},
   "outputs": [
    {
     "name": "stdout",
     "output_type": "stream",
     "text": [
      "354365\n"
     ]
    },
    {
     "data": {
      "text/plain": [
       "306170"
      ]
     },
     "execution_count": 15,
     "metadata": {},
     "output_type": "execute_result"
    }
   ],
   "source": [
    "aw=pd.DatetimeIndex(autos['DateCreated']).year\n",
    "print(len(autos))\n",
    "autos=autos.query(\"RegistrationYear<=@aw\")\n",
    "autos=autos.query(\"RegistrationMonth>0 and RegistrationMonth<13\")\n",
    "len(autos)"
   ]
  },
  {
   "cell_type": "code",
   "execution_count": 16,
   "metadata": {},
   "outputs": [],
   "source": [
    "autos=autos.drop(['DateCrawled','DateCreated','PostalCode', 'LastSeen', 'NumberOfPictures','RegistrationMonth'],axis=1)"
   ]
  },
  {
   "cell_type": "markdown",
   "metadata": {},
   "source": [
    "Теперь обработаю аномалии"
   ]
  },
  {
   "cell_type": "markdown",
   "metadata": {},
   "source": [
    "## Статистический анализ данных"
   ]
  },
  {
   "cell_type": "code",
   "execution_count": 17,
   "metadata": {},
   "outputs": [
    {
     "data": {
      "image/png": "[encoded data removed]",
      "text/plain": [
       "<Figure size 432x288 with 1 Axes>"
      ]
     },
     "metadata": {
      "needs_background": "light"
     },
     "output_type": "display_data"
    }
   ],
   "source": [
    "sns.histplot(data=autos,x='Price')\n",
    "plt.title('Price distribution')\n",
    "plt.show()"
   ]
  },
  {
   "cell_type": "markdown",
   "metadata": {},
   "source": [
    "Не уверен, что корректно отдавать автомобиль менее, чем хотя бы за 100 евро, поэтому удалю все подобные объявления, так как для модели они особой ценности не несут."
   ]
  },
  {
   "cell_type": "code",
   "execution_count": 18,
   "metadata": {},
   "outputs": [
    {
     "name": "stdout",
     "output_type": "stream",
     "text": [
      "306170\n"
     ]
    },
    {
     "data": {
      "image/png": "[encoded data removed]",
      "text/plain": [
       "<Figure size 432x288 with 1 Axes>"
      ]
     },
     "metadata": {
      "needs_background": "light"
     },
     "output_type": "display_data"
    },
    {
     "data": {
      "text/plain": [
       "298518"
      ]
     },
     "execution_count": 18,
     "metadata": {},
     "output_type": "execute_result"
    }
   ],
   "source": [
    "print(len(autos))\n",
    "autos=autos.query(\"Price>100\")\n",
    "sns.histplot(data=autos,x='Price')\n",
    "plt.title('Price distribution')\n",
    "plt.show()\n",
    "len(autos)"
   ]
  },
  {
   "cell_type": "code",
   "execution_count": 19,
   "metadata": {},
   "outputs": [
    {
     "data": {
      "image/png": "[encoded data removed]",
      "text/plain": [
       "<Figure size 432x288 with 1 Axes>"
      ]
     },
     "metadata": {
      "needs_background": "light"
     },
     "output_type": "display_data"
    }
   ],
   "source": [
    "sns.boxplot(data=autos,x='RegistrationYear')\n",
    "plt.title('Spread of the years')\n",
    "plt.show()"
   ]
  },
  {
   "cell_type": "markdown",
   "metadata": {},
   "source": [
    "Осталвю все объявления с годом регистрации с 1990 по 2016 год"
   ]
  },
  {
   "cell_type": "code",
   "execution_count": 20,
   "metadata": {},
   "outputs": [
    {
     "name": "stdout",
     "output_type": "stream",
     "text": [
      "298518\n"
     ]
    },
    {
     "data": {
      "image/png": "[encoded data removed]",
      "text/plain": [
       "<Figure size 432x288 with 1 Axes>"
      ]
     },
     "metadata": {
      "needs_background": "light"
     },
     "output_type": "display_data"
    },
    {
     "data": {
      "text/plain": [
       "291284"
      ]
     },
     "execution_count": 20,
     "metadata": {},
     "output_type": "execute_result"
    }
   ],
   "source": [
    "print(len(autos))\n",
    "autos=autos.query(\"RegistrationYear>1989 and RegistrationYear<2017\")\n",
    "sns.histplot(data=autos,x='RegistrationYear')\n",
    "plt.title('Year distribution')\n",
    "plt.show()\n",
    "len(autos)"
   ]
  },
  {
   "cell_type": "code",
   "execution_count": 21,
   "metadata": {},
   "outputs": [
    {
     "data": {
      "image/png": "[encoded data removed]",
      "text/plain": [
       "<Figure size 432x288 with 1 Axes>"
      ]
     },
     "metadata": {
      "needs_background": "light"
     },
     "output_type": "display_data"
    }
   ],
   "source": [
    "sns.boxplot(data=autos,x='Power')\n",
    "plt.title('Power distribution')\n",
    "plt.show()"
   ]
  },
  {
   "cell_type": "markdown",
   "metadata": {},
   "source": [
    "Восстановлю значение мощности по медиане мощности модели машины"
   ]
  },
  {
   "cell_type": "code",
   "execution_count": 22,
   "metadata": {},
   "outputs": [
    {
     "name": "stdout",
     "output_type": "stream",
     "text": [
      "291284\n"
     ]
    },
    {
     "data": {
      "text/plain": [
       "291209"
      ]
     },
     "execution_count": 22,
     "metadata": {},
     "output_type": "execute_result"
    }
   ],
   "source": [
    "print(len(autos))\n",
    "autos=autos.query(\"Power<2200\")\n",
    "autos.loc[autos['Power']==0, 'Power']=autos.groupby('Model')['Power'].transform(lambda x: x.median())\n",
    "len(autos)"
   ]
  },
  {
   "cell_type": "code",
   "execution_count": 23,
   "metadata": {},
   "outputs": [
    {
     "data": {
      "image/png": "[encoded data removed]",
      "text/plain": [
       "<Figure size 432x288 with 1 Axes>"
      ]
     },
     "metadata": {
      "needs_background": "light"
     },
     "output_type": "display_data"
    }
   ],
   "source": [
    "sns.boxplot(data=autos,x='Power')\n",
    "plt.title('Power distribution')\n",
    "plt.show()"
   ]
  },
  {
   "cell_type": "code",
   "execution_count": 24,
   "metadata": {},
   "outputs": [
    {
     "data": {
      "image/png": "[encoded data removed]",
      "text/plain": [
       "<Figure size 432x288 with 1 Axes>"
      ]
     },
     "metadata": {
      "needs_background": "light"
     },
     "output_type": "display_data"
    }
   ],
   "source": [
    "sns.boxplot(data=autos,x='Kilometer')\n",
    "plt.title('Kilometer distribution')\n",
    "plt.show()"
   ]
  },
  {
   "cell_type": "markdown",
   "metadata": {},
   "source": [
    "С километрами все в порядке."
   ]
  },
  {
   "cell_type": "markdown",
   "metadata": {},
   "source": [
    "## Корреляционный анализ данных"
   ]
  },
  {
   "cell_type": "markdown",
   "metadata": {},
   "source": [
    "Теперь изучу корреляцию признаков с помощью матрицы phik"
   ]
  },
  {
   "cell_type": "code",
   "execution_count": 25,
   "metadata": {},
   "outputs": [
    {
     "data": {
      "image/png": "[encoded data removed]",
      "text/plain": [
       "<Figure size 720x720 with 2 Axes>"
      ]
     },
     "metadata": {
      "needs_background": "light"
     },
     "output_type": "display_data"
    }
   ],
   "source": [
    "matrix=(autos.phik_matrix(interval_cols=['Price','Kilometer','Power','RegistrationYear']))\n",
    "plt.figure(figsize=(10,10))\n",
    "sns.heatmap(matrix,annot=True)\n",
    "plt.show()"
   ]
  },
  {
   "cell_type": "markdown",
   "metadata": {},
   "source": [
    "Замечу, что признаки Model и Brand имеют корреляцию 1, поскольку у определенных брендов есть определенные модели. Model и VehicleType также очень сильно связаны, так как модели характеризуются определенными двигателями. Скоре всего, стоит удалить признак brand, поскольку признак model гораздо более информативен\n",
    "\n",
    "С целевым признаком высоко коррелирует признак RegistrationYear, что логично, потому что за более новые версии владельцы требуют больше. Также умеренно с Price коррелирует Brand, что тоже достаточно логично, существуют премиум бренды, но также есть и дешевый сегмент."
   ]
  },
  {
   "cell_type": "code",
   "execution_count": 26,
   "metadata": {},
   "outputs": [],
   "source": [
    "autos=autos.drop(['Brand'],axis=1)"
   ]
  },
  {
   "cell_type": "markdown",
   "metadata": {},
   "source": [
    "После избавления от аномалий мы лишились примерно 10% изначальных данных, что в целом терпимо, зато данные будут адекватными, что поможет модели лучше научиться предсказывать стоимость. Многие люди в объявлениях завышают год регистрации автомобиля, чтобы попытаться продать свою машину подороже. \n",
    "    \n",
    "По корреляции признаков можно сделать вывод, что на цену машины сильнее всего влияет бренд и год регистрации, следовательно люди больше всего ценят марку машины и её возраст. Также были обнаружена мультиколлинеарность между признаками(например, VehicleType и Model, а также Brand и Model)\n",
    "    \n",
    "Были удалены признаки DateCrawled, DateCreated, PostalCode, LastSeen, NumberOfPictures, RegistrationMonth, а также Brand для более продуктивного обучения моделей. "
   ]
  },
  {
   "cell_type": "markdown",
   "metadata": {},
   "source": [
    "## Обучение моделей"
   ]
  },
  {
   "cell_type": "code",
   "execution_count": 27,
   "metadata": {},
   "outputs": [],
   "source": [
    "y=autos['Price']\n",
    "X=autos.drop('Price',axis=1)\n",
    "ohe_pipe=Pipeline([\n",
    "    ('simpleImputerohe',SimpleImputer(missing_values=np.nan ,strategy='most_frequent')),\n",
    "    ('ohe',OneHotEncoder(drop='first',handle_unknown='ignore'))\n",
    "])\n",
    "num_cols=['RegistrationYear','Power','Kilometer']\n",
    "cat_cols=['VehicleType','Gearbox','FuelType','Model','Repaired']\n",
    "X_train,X_test,y_train,y_test=train_test_split(\n",
    "X,\n",
    "y,\n",
    "test_size=0.2,\n",
    "random_state=RANDOM_STATE)"
   ]
  },
  {
   "cell_type": "code",
   "execution_count": 28,
   "metadata": {},
   "outputs": [],
   "source": [
    "data_preprocessor=ColumnTransformer([\n",
    "    ('ohe',ohe_pipe,cat_cols),\n",
    "    ('num',StandardScaler(),num_cols)],\n",
    "    remainder='passthrough'\n",
    ")\n",
    "pipe_final=Pipeline([\n",
    "    ('preprocessor',data_preprocessor),\n",
    "    ('models',DecisionTreeRegressor())\n",
    "])\n",
    "param_distributions=[\n",
    "{\n",
    "    'models':[DecisionTreeRegressor()],\n",
    "    'models__max_depth':range(1,5)\n",
    "},\n",
    "{\n",
    "    'models':[LinearRegression()],\n",
    "    'preprocessor__num':[StandardScaler(),MinMaxScaler()]\n",
    "}]\n",
    "grid=GridSearchCV(\n",
    "    pipe_final,\n",
    "    param_distributions,\n",
    "    cv=5,\n",
    "    scoring='neg_mean_squared_error',\n",
    "    error_score='raise',\n",
    "    n_jobs=-1,\n",
    "    verbose=3,\n",
    "    refit='recall'\n",
    ")\n"
   ]
  },
  {
   "cell_type": "code",
   "execution_count": 29,
   "metadata": {},
   "outputs": [
    {
     "name": "stdout",
     "output_type": "stream",
     "text": [
      "Fitting 5 folds for each of 6 candidates, totalling 30 fits\n",
      "[CV 1/5] END models=DecisionTreeRegressor(), models__max_depth=1;, score=-13156247.480 total time=   0.7s\n",
      "[CV 2/5] END models=DecisionTreeRegressor(), models__max_depth=1;, score=-13041973.605 total time=   0.7s\n",
      "[CV 3/5] END models=DecisionTreeRegressor(), models__max_depth=1;, score=-13246257.839 total time=   0.7s\n",
      "[CV 4/5] END models=DecisionTreeRegressor(), models__max_depth=1;, score=-12893674.718 total time=   0.7s\n",
      "[CV 5/5] END models=DecisionTreeRegressor(), models__max_depth=1;, score=-12867284.200 total time=   0.7s\n",
      "[CV 1/5] END models=DecisionTreeRegressor(), models__max_depth=2;, score=-9914822.193 total time=   0.8s\n",
      "[CV 2/5] END models=DecisionTreeRegressor(), models__max_depth=2;, score=-9894182.401 total time=   0.8s\n",
      "[CV 3/5] END models=DecisionTreeRegressor(), models__max_depth=2;, score=-9973508.399 total time=   0.8s\n",
      "[CV 4/5] END models=DecisionTreeRegressor(), models__max_depth=2;, score=-9758740.471 total time=   0.7s\n",
      "[CV 5/5] END models=DecisionTreeRegressor(), models__max_depth=2;, score=-9745992.795 total time=   0.8s\n",
      "[CV 1/5] END models=DecisionTreeRegressor(), models__max_depth=3;, score=-8158736.327 total time=   0.8s\n",
      "[CV 2/5] END models=DecisionTreeRegressor(), models__max_depth=3;, score=-8215170.668 total time=   0.8s\n",
      "[CV 3/5] END models=DecisionTreeRegressor(), models__max_depth=3;, score=-8293833.805 total time=   0.9s\n",
      "[CV 4/5] END models=DecisionTreeRegressor(), models__max_depth=3;, score=-8165998.977 total time=   0.9s\n",
      "[CV 5/5] END models=DecisionTreeRegressor(), models__max_depth=3;, score=-7969392.552 total time=   0.8s\n",
      "[CV 1/5] END models=DecisionTreeRegressor(), models__max_depth=4;, score=-6443772.944 total time=   1.0s\n",
      "[CV 2/5] END models=DecisionTreeRegressor(), models__max_depth=4;, score=-6414991.412 total time=   1.0s\n",
      "[CV 3/5] END models=DecisionTreeRegressor(), models__max_depth=4;, score=-6467229.024 total time=   0.9s\n",
      "[CV 4/5] END models=DecisionTreeRegressor(), models__max_depth=4;, score=-6422924.167 total time=   0.9s\n",
      "[CV 5/5] END models=DecisionTreeRegressor(), models__max_depth=4;, score=-6241830.848 total time=   0.9s\n",
      "[CV 1/5] END models=LinearRegression(), preprocessor__num=StandardScaler();, score=-6382605.367 total time=  36.3s\n",
      "[CV 2/5] END models=LinearRegression(), preprocessor__num=StandardScaler();, score=-6338259.042 total time=  34.9s\n",
      "[CV 3/5] END models=LinearRegression(), preprocessor__num=StandardScaler();, score=-6663139.284 total time=  37.1s\n",
      "[CV 4/5] END models=LinearRegression(), preprocessor__num=StandardScaler();, score=-6421597.932 total time=  33.6s\n",
      "[CV 5/5] END models=LinearRegression(), preprocessor__num=StandardScaler();, score=-6240514.658 total time=  37.7s\n",
      "[CV 1/5] END models=LinearRegression(), preprocessor__num=MinMaxScaler();, score=-6382457.657 total time=  32.3s\n",
      "[CV 2/5] END models=LinearRegression(), preprocessor__num=MinMaxScaler();, score=-6338249.506 total time=  24.0s\n",
      "[CV 3/5] END models=LinearRegression(), preprocessor__num=MinMaxScaler();, score=-6663156.509 total time=  27.6s\n",
      "[CV 4/5] END models=LinearRegression(), preprocessor__num=MinMaxScaler();, score=-6421650.693 total time=  28.8s\n",
      "[CV 5/5] END models=LinearRegression(), preprocessor__num=MinMaxScaler();, score=-6240563.745 total time=  28.5s\n"
     ]
    },
    {
     "data": {
      "text/html": [
       "<style>#sk-container-id-1 {\n",
       "  /* Definition of color scheme common for light and dark mode */\n",
       "  --sklearn-color-text: #000;\n",
       "  --sklearn-color-text-muted: #666;\n",
       "  --sklearn-color-line: gray;\n",
       "  /* Definition of color scheme for unfitted estimators */\n",
       "  --sklearn-color-unfitted-level-0: #fff5e6;\n",
       "  --sklearn-color-unfitted-level-1: #f6e4d2;\n",
       "  --sklearn-color-unfitted-level-2: #ffe0b3;\n",
       "  --sklearn-color-unfitted-level-3: chocolate;\n",
       "  /* Definition of color scheme for fitted estimators */\n",
       "  --sklearn-color-fitted-level-0: #f0f8ff;\n",
       "  --sklearn-color-fitted-level-1: #d4ebff;\n",
       "  --sklearn-color-fitted-level-2: #b3dbfd;\n",
       "  --sklearn-color-fitted-level-3: cornflowerblue;\n",
       "\n",
       "  /* Specific color for light theme */\n",
       "  --sklearn-color-text-on-default-background: var(--sg-text-color, var(--theme-code-foreground, var(--jp-content-font-color1, black)));\n",
       "  --sklearn-color-background: var(--sg-background-color, var(--theme-background, var(--jp-layout-color0, white)));\n",
       "  --sklearn-color-border-box: var(--sg-text-color, var(--theme-code-foreground, var(--jp-content-font-color1, black)));\n",
       "  --sklearn-color-icon: #696969;\n",
       "\n",
       "  @media (prefers-color-scheme: dark) {\n",
       "    /* Redefinition of color scheme for dark theme */\n",
       "    --sklearn-color-text-on-default-background: var(--sg-text-color, var(--theme-code-foreground, var(--jp-content-font-color1, white)));\n",
       "    --sklearn-color-background: var(--sg-background-color, var(--theme-background, var(--jp-layout-color0, #111)));\n",
       "    --sklearn-color-border-box: var(--sg-text-color, var(--theme-code-foreground, var(--jp-content-font-color1, white)));\n",
       "    --sklearn-color-icon: #878787;\n",
       "  }\n",
       "}\n",
       "\n",
       "#sk-container-id-1 {\n",
       "  color: var(--sklearn-color-text);\n",
       "}\n",
       "\n",
       "#sk-container-id-1 pre {\n",
       "  padding: 0;\n",
       "}\n",
       "\n",
       "#sk-container-id-1 input.sk-hidden--visually {\n",
       "  border: 0;\n",
       "  clip: rect(1px 1px 1px 1px);\n",
       "  clip: rect(1px, 1px, 1px, 1px);\n",
       "  height: 1px;\n",
       "  margin: -1px;\n",
       "  overflow: hidden;\n",
       "  padding: 0;\n",
       "  position: absolute;\n",
       "  width: 1px;\n",
       "}\n",
       "\n",
       "#sk-container-id-1 div.sk-dashed-wrapped {\n",
       "  border: 1px dashed var(--sklearn-color-line);\n",
       "  margin: 0 0.4em 0.5em 0.4em;\n",
       "  box-sizing: border-box;\n",
       "  padding-bottom: 0.4em;\n",
       "  background-color: var(--sklearn-color-background);\n",
       "}\n",
       "\n",
       "#sk-container-id-1 div.sk-container {\n",
       "  /* jupyter's `normalize.less` sets `[hidden] { display: none; }`\n",
       "     but bootstrap.min.css set `[hidden] { display: none !important; }`\n",
       "     so we also need the `!important` here to be able to override the\n",
       "     default hidden behavior on the sphinx rendered scikit-learn.org.\n",
       "     See: https://github.com/scikit-learn/scikit-learn/issues/21755 */\n",
       "  display: inline-block !important;\n",
       "  position: relative;\n",
       "}\n",
       "\n",
       "#sk-container-id-1 div.sk-text-repr-fallback {\n",
       "  display: none;\n",
       "}\n",
       "\n",
       "div.sk-parallel-item,\n",
       "div.sk-serial,\n",
       "div.sk-item {\n",
       "  /* draw centered vertical line to link estimators */\n",
       "  background-image: linear-gradient(var(--sklearn-color-text-on-default-background), var(--sklearn-color-text-on-default-background));\n",
       "  background-size: 2px 100%;\n",
       "  background-repeat: no-repeat;\n",
       "  background-position: center center;\n",
       "}\n",
       "\n",
       "/* Parallel-specific style estimator block */\n",
       "\n",
       "#sk-container-id-1 div.sk-parallel-item::after {\n",
       "  content: \"\";\n",
       "  width: 100%;\n",
       "  border-bottom: 2px solid var(--sklearn-color-text-on-default-background);\n",
       "  flex-grow: 1;\n",
       "}\n",
       "\n",
       "#sk-container-id-1 div.sk-parallel {\n",
       "  display: flex;\n",
       "  align-items: stretch;\n",
       "  justify-content: center;\n",
       "  background-color: var(--sklearn-color-background);\n",
       "  position: relative;\n",
       "}\n",
       "\n",
       "#sk-container-id-1 div.sk-parallel-item {\n",
       "  display: flex;\n",
       "  flex-direction: column;\n",
       "}\n",
       "\n",
       "#sk-container-id-1 div.sk-parallel-item:first-child::after {\n",
       "  align-self: flex-end;\n",
       "  width: 50%;\n",
       "}\n",
       "\n",
       "#sk-container-id-1 div.sk-parallel-item:last-child::after {\n",
       "  align-self: flex-start;\n",
       "  width: 50%;\n",
       "}\n",
       "\n",
       "#sk-container-id-1 div.sk-parallel-item:only-child::after {\n",
       "  width: 0;\n",
       "}\n",
       "\n",
       "/* Serial-specific style estimator block */\n",
       "\n",
       "#sk-container-id-1 div.sk-serial {\n",
       "  display: flex;\n",
       "  flex-direction: column;\n",
       "  align-items: center;\n",
       "  background-color: var(--sklearn-color-background);\n",
       "  padding-right: 1em;\n",
       "  padding-left: 1em;\n",
       "}\n",
       "\n",
       "\n",
       "/* Toggleable style: style used for estimator/Pipeline/ColumnTransformer box that is\n",
       "clickable and can be expanded/collapsed.\n",
       "- Pipeline and ColumnTransformer use this feature and define the default style\n",
       "- Estimators will overwrite some part of the style using the `sk-estimator` class\n",
       "*/\n",
       "\n",
       "/* Pipeline and ColumnTransformer style (default) */\n",
       "\n",
       "#sk-container-id-1 div.sk-toggleable {\n",
       "  /* Default theme specific background. It is overwritten whether we have a\n",
       "  specific estimator or a Pipeline/ColumnTransformer */\n",
       "  background-color: var(--sklearn-color-background);\n",
       "}\n",
       "\n",
       "/* Toggleable label */\n",
       "#sk-container-id-1 label.sk-toggleable__label {\n",
       "  cursor: pointer;\n",
       "  display: flex;\n",
       "  width: 100%;\n",
       "  margin-bottom: 0;\n",
       "  padding: 0.5em;\n",
       "  box-sizing: border-box;\n",
       "  text-align: center;\n",
       "  align-items: start;\n",
       "  justify-content: space-between;\n",
       "  gap: 0.5em;\n",
       "}\n",
       "\n",
       "#sk-container-id-1 label.sk-toggleable__label .caption {\n",
       "  font-size: 0.6rem;\n",
       "  font-weight: lighter;\n",
       "  color: var(--sklearn-color-text-muted);\n",
       "}\n",
       "\n",
       "#sk-container-id-1 label.sk-toggleable__label-arrow:before {\n",
       "  /* Arrow on the left of the label */\n",
       "  content: \"▸\";\n",
       "  float: left;\n",
       "  margin-right: 0.25em;\n",
       "  color: var(--sklearn-color-icon);\n",
       "}\n",
       "\n",
       "#sk-container-id-1 label.sk-toggleable__label-arrow:hover:before {\n",
       "  color: var(--sklearn-color-text);\n",
       "}\n",
       "\n",
       "/* Toggleable content - dropdown */\n",
       "\n",
       "#sk-container-id-1 div.sk-toggleable__content {\n",
       "  max-height: 0;\n",
       "  max-width: 0;\n",
       "  overflow: hidden;\n",
       "  text-align: left;\n",
       "  /* unfitted */\n",
       "  background-color: var(--sklearn-color-unfitted-level-0);\n",
       "}\n",
       "\n",
       "#sk-container-id-1 div.sk-toggleable__content.fitted {\n",
       "  /* fitted */\n",
       "  background-color: var(--sklearn-color-fitted-level-0);\n",
       "}\n",
       "\n",
       "#sk-container-id-1 div.sk-toggleable__content pre {\n",
       "  margin: 0.2em;\n",
       "  border-radius: 0.25em;\n",
       "  color: var(--sklearn-color-text);\n",
       "  /* unfitted */\n",
       "  background-color: var(--sklearn-color-unfitted-level-0);\n",
       "}\n",
       "\n",
       "#sk-container-id-1 div.sk-toggleable__content.fitted pre {\n",
       "  /* unfitted */\n",
       "  background-color: var(--sklearn-color-fitted-level-0);\n",
       "}\n",
       "\n",
       "#sk-container-id-1 input.sk-toggleable__control:checked~div.sk-toggleable__content {\n",
       "  /* Expand drop-down */\n",
       "  max-height: 200px;\n",
       "  max-width: 100%;\n",
       "  overflow: auto;\n",
       "}\n",
       "\n",
       "#sk-container-id-1 input.sk-toggleable__control:checked~label.sk-toggleable__label-arrow:before {\n",
       "  content: \"▾\";\n",
       "}\n",
       "\n",
       "/* Pipeline/ColumnTransformer-specific style */\n",
       "\n",
       "#sk-container-id-1 div.sk-label input.sk-toggleable__control:checked~label.sk-toggleable__label {\n",
       "  color: var(--sklearn-color-text);\n",
       "  background-color: var(--sklearn-color-unfitted-level-2);\n",
       "}\n",
       "\n",
       "#sk-container-id-1 div.sk-label.fitted input.sk-toggleable__control:checked~label.sk-toggleable__label {\n",
       "  background-color: var(--sklearn-color-fitted-level-2);\n",
       "}\n",
       "\n",
       "/* Estimator-specific style */\n",
       "\n",
       "/* Colorize estimator box */\n",
       "#sk-container-id-1 div.sk-estimator input.sk-toggleable__control:checked~label.sk-toggleable__label {\n",
       "  /* unfitted */\n",
       "  background-color: var(--sklearn-color-unfitted-level-2);\n",
       "}\n",
       "\n",
       "#sk-container-id-1 div.sk-estimator.fitted input.sk-toggleable__control:checked~label.sk-toggleable__label {\n",
       "  /* fitted */\n",
       "  background-color: var(--sklearn-color-fitted-level-2);\n",
       "}\n",
       "\n",
       "#sk-container-id-1 div.sk-label label.sk-toggleable__label,\n",
       "#sk-container-id-1 div.sk-label label {\n",
       "  /* The background is the default theme color */\n",
       "  color: var(--sklearn-color-text-on-default-background);\n",
       "}\n",
       "\n",
       "/* On hover, darken the color of the background */\n",
       "#sk-container-id-1 div.sk-label:hover label.sk-toggleable__label {\n",
       "  color: var(--sklearn-color-text);\n",
       "  background-color: var(--sklearn-color-unfitted-level-2);\n",
       "}\n",
       "\n",
       "/* Label box, darken color on hover, fitted */\n",
       "#sk-container-id-1 div.sk-label.fitted:hover label.sk-toggleable__label.fitted {\n",
       "  color: var(--sklearn-color-text);\n",
       "  background-color: var(--sklearn-color-fitted-level-2);\n",
       "}\n",
       "\n",
       "/* Estimator label */\n",
       "\n",
       "#sk-container-id-1 div.sk-label label {\n",
       "  font-family: monospace;\n",
       "  font-weight: bold;\n",
       "  display: inline-block;\n",
       "  line-height: 1.2em;\n",
       "}\n",
       "\n",
       "#sk-container-id-1 div.sk-label-container {\n",
       "  text-align: center;\n",
       "}\n",
       "\n",
       "/* Estimator-specific */\n",
       "#sk-container-id-1 div.sk-estimator {\n",
       "  font-family: monospace;\n",
       "  border: 1px dotted var(--sklearn-color-border-box);\n",
       "  border-radius: 0.25em;\n",
       "  box-sizing: border-box;\n",
       "  margin-bottom: 0.5em;\n",
       "  /* unfitted */\n",
       "  background-color: var(--sklearn-color-unfitted-level-0);\n",
       "}\n",
       "\n",
       "#sk-container-id-1 div.sk-estimator.fitted {\n",
       "  /* fitted */\n",
       "  background-color: var(--sklearn-color-fitted-level-0);\n",
       "}\n",
       "\n",
       "/* on hover */\n",
       "#sk-container-id-1 div.sk-estimator:hover {\n",
       "  /* unfitted */\n",
       "  background-color: var(--sklearn-color-unfitted-level-2);\n",
       "}\n",
       "\n",
       "#sk-container-id-1 div.sk-estimator.fitted:hover {\n",
       "  /* fitted */\n",
       "  background-color: var(--sklearn-color-fitted-level-2);\n",
       "}\n",
       "\n",
       "/* Specification for estimator info (e.g. \"i\" and \"?\") */\n",
       "\n",
       "/* Common style for \"i\" and \"?\" */\n",
       "\n",
       ".sk-estimator-doc-link,\n",
       "a:link.sk-estimator-doc-link,\n",
       "a:visited.sk-estimator-doc-link {\n",
       "  float: right;\n",
       "  font-size: smaller;\n",
       "  line-height: 1em;\n",
       "  font-family: monospace;\n",
       "  background-color: var(--sklearn-color-background);\n",
       "  border-radius: 1em;\n",
       "  height: 1em;\n",
       "  width: 1em;\n",
       "  text-decoration: none !important;\n",
       "  margin-left: 0.5em;\n",
       "  text-align: center;\n",
       "  /* unfitted */\n",
       "  border: var(--sklearn-color-unfitted-level-1) 1pt solid;\n",
       "  color: var(--sklearn-color-unfitted-level-1);\n",
       "}\n",
       "\n",
       ".sk-estimator-doc-link.fitted,\n",
       "a:link.sk-estimator-doc-link.fitted,\n",
       "a:visited.sk-estimator-doc-link.fitted {\n",
       "  /* fitted */\n",
       "  border: var(--sklearn-color-fitted-level-1) 1pt solid;\n",
       "  color: var(--sklearn-color-fitted-level-1);\n",
       "}\n",
       "\n",
       "/* On hover */\n",
       "div.sk-estimator:hover .sk-estimator-doc-link:hover,\n",
       ".sk-estimator-doc-link:hover,\n",
       "div.sk-label-container:hover .sk-estimator-doc-link:hover,\n",
       ".sk-estimator-doc-link:hover {\n",
       "  /* unfitted */\n",
       "  background-color: var(--sklearn-color-unfitted-level-3);\n",
       "  color: var(--sklearn-color-background);\n",
       "  text-decoration: none;\n",
       "}\n",
       "\n",
       "div.sk-estimator.fitted:hover .sk-estimator-doc-link.fitted:hover,\n",
       ".sk-estimator-doc-link.fitted:hover,\n",
       "div.sk-label-container:hover .sk-estimator-doc-link.fitted:hover,\n",
       ".sk-estimator-doc-link.fitted:hover {\n",
       "  /* fitted */\n",
       "  background-color: var(--sklearn-color-fitted-level-3);\n",
       "  color: var(--sklearn-color-background);\n",
       "  text-decoration: none;\n",
       "}\n",
       "\n",
       "/* Span, style for the box shown on hovering the info icon */\n",
       ".sk-estimator-doc-link span {\n",
       "  display: none;\n",
       "  z-index: 9999;\n",
       "  position: relative;\n",
       "  font-weight: normal;\n",
       "  right: .2ex;\n",
       "  padding: .5ex;\n",
       "  margin: .5ex;\n",
       "  width: min-content;\n",
       "  min-width: 20ex;\n",
       "  max-width: 50ex;\n",
       "  color: var(--sklearn-color-text);\n",
       "  box-shadow: 2pt 2pt 4pt #999;\n",
       "  /* unfitted */\n",
       "  background: var(--sklearn-color-unfitted-level-0);\n",
       "  border: .5pt solid var(--sklearn-color-unfitted-level-3);\n",
       "}\n",
       "\n",
       ".sk-estimator-doc-link.fitted span {\n",
       "  /* fitted */\n",
       "  background: var(--sklearn-color-fitted-level-0);\n",
       "  border: var(--sklearn-color-fitted-level-3);\n",
       "}\n",
       "\n",
       ".sk-estimator-doc-link:hover span {\n",
       "  display: block;\n",
       "}\n",
       "\n",
       "/* \"?\"-specific style due to the `<a>` HTML tag */\n",
       "\n",
       "#sk-container-id-1 a.estimator_doc_link {\n",
       "  float: right;\n",
       "  font-size: 1rem;\n",
       "  line-height: 1em;\n",
       "  font-family: monospace;\n",
       "  background-color: var(--sklearn-color-background);\n",
       "  border-radius: 1rem;\n",
       "  height: 1rem;\n",
       "  width: 1rem;\n",
       "  text-decoration: none;\n",
       "  /* unfitted */\n",
       "  color: var(--sklearn-color-unfitted-level-1);\n",
       "  border: var(--sklearn-color-unfitted-level-1) 1pt solid;\n",
       "}\n",
       "\n",
       "#sk-container-id-1 a.estimator_doc_link.fitted {\n",
       "  /* fitted */\n",
       "  border: var(--sklearn-color-fitted-level-1) 1pt solid;\n",
       "  color: var(--sklearn-color-fitted-level-1);\n",
       "}\n",
       "\n",
       "/* On hover */\n",
       "#sk-container-id-1 a.estimator_doc_link:hover {\n",
       "  /* unfitted */\n",
       "  background-color: var(--sklearn-color-unfitted-level-3);\n",
       "  color: var(--sklearn-color-background);\n",
       "  text-decoration: none;\n",
       "}\n",
       "\n",
       "#sk-container-id-1 a.estimator_doc_link.fitted:hover {\n",
       "  /* fitted */\n",
       "  background-color: var(--sklearn-color-fitted-level-3);\n",
       "}\n",
       "</style><div id=\"sk-container-id-1\" class=\"sk-top-container\"><div class=\"sk-text-repr-fallback\"><pre>GridSearchCV(cv=5, error_score=&#x27;raise&#x27;,\n",
       "             estimator=Pipeline(steps=[(&#x27;preprocessor&#x27;,\n",
       "                                        ColumnTransformer(remainder=&#x27;passthrough&#x27;,\n",
       "                                                          transformers=[(&#x27;ohe&#x27;,\n",
       "                                                                         Pipeline(steps=[(&#x27;simpleImputerohe&#x27;,\n",
       "                                                                                          SimpleImputer(strategy=&#x27;most_frequent&#x27;)),\n",
       "                                                                                         (&#x27;ohe&#x27;,\n",
       "                                                                                          OneHotEncoder(drop=&#x27;first&#x27;,\n",
       "                                                                                                        handle_unknown=&#x27;ignore&#x27;))]),\n",
       "                                                                         [&#x27;VehicleType&#x27;,\n",
       "                                                                          &#x27;Gearbox&#x27;,\n",
       "                                                                          &#x27;FuelType&#x27;,\n",
       "                                                                          &#x27;Model&#x27;,\n",
       "                                                                          &#x27;Repaired&#x27;]),\n",
       "                                                                        (&#x27;num&#x27;,\n",
       "                                                                         StandardScaler(),\n",
       "                                                                         [&#x27;RegistrationYear&#x27;,\n",
       "                                                                          &#x27;Power&#x27;,\n",
       "                                                                          &#x27;Kilometer&#x27;])])),\n",
       "                                       (&#x27;models&#x27;, DecisionTreeRegressor())]),\n",
       "             n_jobs=-1,\n",
       "             param_grid=[{&#x27;models&#x27;: [DecisionTreeRegressor()],\n",
       "                          &#x27;models__max_depth&#x27;: range(1, 5)},\n",
       "                         {&#x27;models&#x27;: [LinearRegression()],\n",
       "                          &#x27;preprocessor__num&#x27;: [StandardScaler(),\n",
       "                                                MinMaxScaler()]}],\n",
       "             refit=&#x27;recall&#x27;, scoring=&#x27;neg_mean_squared_error&#x27;, verbose=3)</pre><b>In a Jupyter environment, please rerun this cell to show the HTML representation or trust the notebook. <br />On GitHub, the HTML representation is unable to render, please try loading this page with nbviewer.org.</b></div><div class=\"sk-container\" hidden><div class=\"sk-item sk-dashed-wrapped\"><div class=\"sk-label-container\"><div class=\"sk-label fitted sk-toggleable\"><input class=\"sk-toggleable__control sk-hidden--visually\" id=\"sk-estimator-id-1\" type=\"checkbox\" ><label for=\"sk-estimator-id-1\" class=\"sk-toggleable__label fitted sk-toggleable__label-arrow\"><div><div>GridSearchCV</div></div><div><a class=\"sk-estimator-doc-link fitted\" rel=\"noreferrer\" target=\"_blank\" href=\"https://scikit-learn.org/1.6/modules/generated/sklearn.model_selection.GridSearchCV.html\">?<span>Documentation for GridSearchCV</span></a><span class=\"sk-estimator-doc-link fitted\">i<span>Fitted</span></span></div></label><div class=\"sk-toggleable__content fitted\"><pre>GridSearchCV(cv=5, error_score=&#x27;raise&#x27;,\n",
       "             estimator=Pipeline(steps=[(&#x27;preprocessor&#x27;,\n",
       "                                        ColumnTransformer(remainder=&#x27;passthrough&#x27;,\n",
       "                                                          transformers=[(&#x27;ohe&#x27;,\n",
       "                                                                         Pipeline(steps=[(&#x27;simpleImputerohe&#x27;,\n",
       "                                                                                          SimpleImputer(strategy=&#x27;most_frequent&#x27;)),\n",
       "                                                                                         (&#x27;ohe&#x27;,\n",
       "                                                                                          OneHotEncoder(drop=&#x27;first&#x27;,\n",
       "                                                                                                        handle_unknown=&#x27;ignore&#x27;))]),\n",
       "                                                                         [&#x27;VehicleType&#x27;,\n",
       "                                                                          &#x27;Gearbox&#x27;,\n",
       "                                                                          &#x27;FuelType&#x27;,\n",
       "                                                                          &#x27;Model&#x27;,\n",
       "                                                                          &#x27;Repaired&#x27;]),\n",
       "                                                                        (&#x27;num&#x27;,\n",
       "                                                                         StandardScaler(),\n",
       "                                                                         [&#x27;RegistrationYear&#x27;,\n",
       "                                                                          &#x27;Power&#x27;,\n",
       "                                                                          &#x27;Kilometer&#x27;])])),\n",
       "                                       (&#x27;models&#x27;, DecisionTreeRegressor())]),\n",
       "             n_jobs=-1,\n",
       "             param_grid=[{&#x27;models&#x27;: [DecisionTreeRegressor()],\n",
       "                          &#x27;models__max_depth&#x27;: range(1, 5)},\n",
       "                         {&#x27;models&#x27;: [LinearRegression()],\n",
       "                          &#x27;preprocessor__num&#x27;: [StandardScaler(),\n",
       "                                                MinMaxScaler()]}],\n",
       "             refit=&#x27;recall&#x27;, scoring=&#x27;neg_mean_squared_error&#x27;, verbose=3)</pre></div> </div></div><div class=\"sk-parallel\"><div class=\"sk-parallel-item\"><div class=\"sk-item\"><div class=\"sk-label-container\"><div class=\"sk-label fitted sk-toggleable\"><input class=\"sk-toggleable__control sk-hidden--visually\" id=\"sk-estimator-id-2\" type=\"checkbox\" ><label for=\"sk-estimator-id-2\" class=\"sk-toggleable__label fitted sk-toggleable__label-arrow\"><div><div>best_estimator_: Pipeline</div></div></label><div class=\"sk-toggleable__content fitted\"><pre>Pipeline(steps=[(&#x27;preprocessor&#x27;,\n",
       "                 ColumnTransformer(remainder=&#x27;passthrough&#x27;,\n",
       "                                   transformers=[(&#x27;ohe&#x27;,\n",
       "                                                  Pipeline(steps=[(&#x27;simpleImputerohe&#x27;,\n",
       "                                                                   SimpleImputer(strategy=&#x27;most_frequent&#x27;)),\n",
       "                                                                  (&#x27;ohe&#x27;,\n",
       "                                                                   OneHotEncoder(drop=&#x27;first&#x27;,\n",
       "                                                                                 handle_unknown=&#x27;ignore&#x27;))]),\n",
       "                                                  [&#x27;VehicleType&#x27;, &#x27;Gearbox&#x27;,\n",
       "                                                   &#x27;FuelType&#x27;, &#x27;Model&#x27;,\n",
       "                                                   &#x27;Repaired&#x27;]),\n",
       "                                                 (&#x27;num&#x27;, StandardScaler(),\n",
       "                                                  [&#x27;RegistrationYear&#x27;, &#x27;Power&#x27;,\n",
       "                                                   &#x27;Kilometer&#x27;])])),\n",
       "                (&#x27;models&#x27;, DecisionTreeRegressor(max_depth=4))])</pre></div> </div></div><div class=\"sk-serial\"><div class=\"sk-item\"><div class=\"sk-serial\"><div class=\"sk-item sk-dashed-wrapped\"><div class=\"sk-label-container\"><div class=\"sk-label fitted sk-toggleable\"><input class=\"sk-toggleable__control sk-hidden--visually\" id=\"sk-estimator-id-3\" type=\"checkbox\" ><label for=\"sk-estimator-id-3\" class=\"sk-toggleable__label fitted sk-toggleable__label-arrow\"><div><div>preprocessor: ColumnTransformer</div></div><div><a class=\"sk-estimator-doc-link fitted\" rel=\"noreferrer\" target=\"_blank\" href=\"https://scikit-learn.org/1.6/modules/generated/sklearn.compose.ColumnTransformer.html\">?<span>Documentation for preprocessor: ColumnTransformer</span></a></div></label><div class=\"sk-toggleable__content fitted\"><pre>ColumnTransformer(remainder=&#x27;passthrough&#x27;,\n",
       "                  transformers=[(&#x27;ohe&#x27;,\n",
       "                                 Pipeline(steps=[(&#x27;simpleImputerohe&#x27;,\n",
       "                                                  SimpleImputer(strategy=&#x27;most_frequent&#x27;)),\n",
       "                                                 (&#x27;ohe&#x27;,\n",
       "                                                  OneHotEncoder(drop=&#x27;first&#x27;,\n",
       "                                                                handle_unknown=&#x27;ignore&#x27;))]),\n",
       "                                 [&#x27;VehicleType&#x27;, &#x27;Gearbox&#x27;, &#x27;FuelType&#x27;, &#x27;Model&#x27;,\n",
       "                                  &#x27;Repaired&#x27;]),\n",
       "                                (&#x27;num&#x27;, StandardScaler(),\n",
       "                                 [&#x27;RegistrationYear&#x27;, &#x27;Power&#x27;, &#x27;Kilometer&#x27;])])</pre></div> </div></div><div class=\"sk-parallel\"><div class=\"sk-parallel-item\"><div class=\"sk-item\"><div class=\"sk-label-container\"><div class=\"sk-label fitted sk-toggleable\"><input class=\"sk-toggleable__control sk-hidden--visually\" id=\"sk-estimator-id-4\" type=\"checkbox\" ><label for=\"sk-estimator-id-4\" class=\"sk-toggleable__label fitted sk-toggleable__label-arrow\"><div><div>ohe</div></div></label><div class=\"sk-toggleable__content fitted\"><pre>[&#x27;VehicleType&#x27;, &#x27;Gearbox&#x27;, &#x27;FuelType&#x27;, &#x27;Model&#x27;, &#x27;Repaired&#x27;]</pre></div> </div></div><div class=\"sk-serial\"><div class=\"sk-item\"><div class=\"sk-serial\"><div class=\"sk-item\"><div class=\"sk-estimator fitted sk-toggleable\"><input class=\"sk-toggleable__control sk-hidden--visually\" id=\"sk-estimator-id-5\" type=\"checkbox\" ><label for=\"sk-estimator-id-5\" class=\"sk-toggleable__label fitted sk-toggleable__label-arrow\"><div><div>SimpleImputer</div></div><div><a class=\"sk-estimator-doc-link fitted\" rel=\"noreferrer\" target=\"_blank\" href=\"https://scikit-learn.org/1.6/modules/generated/sklearn.impute.SimpleImputer.html\">?<span>Documentation for SimpleImputer</span></a></div></label><div class=\"sk-toggleable__content fitted\"><pre>SimpleImputer(strategy=&#x27;most_frequent&#x27;)</pre></div> </div></div><div class=\"sk-item\"><div class=\"sk-estimator fitted sk-toggleable\"><input class=\"sk-toggleable__control sk-hidden--visually\" id=\"sk-estimator-id-6\" type=\"checkbox\" ><label for=\"sk-estimator-id-6\" class=\"sk-toggleable__label fitted sk-toggleable__label-arrow\"><div><div>OneHotEncoder</div></div><div><a class=\"sk-estimator-doc-link fitted\" rel=\"noreferrer\" target=\"_blank\" href=\"https://scikit-learn.org/1.6/modules/generated/sklearn.preprocessing.OneHotEncoder.html\">?<span>Documentation for OneHotEncoder</span></a></div></label><div class=\"sk-toggleable__content fitted\"><pre>OneHotEncoder(drop=&#x27;first&#x27;, handle_unknown=&#x27;ignore&#x27;)</pre></div> </div></div></div></div></div></div></div><div class=\"sk-parallel-item\"><div class=\"sk-item\"><div class=\"sk-label-container\"><div class=\"sk-label fitted sk-toggleable\"><input class=\"sk-toggleable__control sk-hidden--visually\" id=\"sk-estimator-id-7\" type=\"checkbox\" ><label for=\"sk-estimator-id-7\" class=\"sk-toggleable__label fitted sk-toggleable__label-arrow\"><div><div>num</div></div></label><div class=\"sk-toggleable__content fitted\"><pre>[&#x27;RegistrationYear&#x27;, &#x27;Power&#x27;, &#x27;Kilometer&#x27;]</pre></div> </div></div><div class=\"sk-serial\"><div class=\"sk-item\"><div class=\"sk-estimator fitted sk-toggleable\"><input class=\"sk-toggleable__control sk-hidden--visually\" id=\"sk-estimator-id-8\" type=\"checkbox\" ><label for=\"sk-estimator-id-8\" class=\"sk-toggleable__label fitted sk-toggleable__label-arrow\"><div><div>StandardScaler</div></div><div><a class=\"sk-estimator-doc-link fitted\" rel=\"noreferrer\" target=\"_blank\" href=\"https://scikit-learn.org/1.6/modules/generated/sklearn.preprocessing.StandardScaler.html\">?<span>Documentation for StandardScaler</span></a></div></label><div class=\"sk-toggleable__content fitted\"><pre>StandardScaler()</pre></div> </div></div></div></div></div><div class=\"sk-parallel-item\"><div class=\"sk-item\"><div class=\"sk-label-container\"><div class=\"sk-label fitted sk-toggleable\"><input class=\"sk-toggleable__control sk-hidden--visually\" id=\"sk-estimator-id-9\" type=\"checkbox\" ><label for=\"sk-estimator-id-9\" class=\"sk-toggleable__label fitted sk-toggleable__label-arrow\"><div><div>remainder</div></div></label><div class=\"sk-toggleable__content fitted\"><pre>[]</pre></div> </div></div><div class=\"sk-serial\"><div class=\"sk-item\"><div class=\"sk-estimator fitted sk-toggleable\"><input class=\"sk-toggleable__control sk-hidden--visually\" id=\"sk-estimator-id-10\" type=\"checkbox\" ><label for=\"sk-estimator-id-10\" class=\"sk-toggleable__label fitted sk-toggleable__label-arrow\"><div><div>passthrough</div></div></label><div class=\"sk-toggleable__content fitted\"><pre>passthrough</pre></div> </div></div></div></div></div></div></div><div class=\"sk-item\"><div class=\"sk-estimator fitted sk-toggleable\"><input class=\"sk-toggleable__control sk-hidden--visually\" id=\"sk-estimator-id-11\" type=\"checkbox\" ><label for=\"sk-estimator-id-11\" class=\"sk-toggleable__label fitted sk-toggleable__label-arrow\"><div><div>DecisionTreeRegressor</div></div><div><a class=\"sk-estimator-doc-link fitted\" rel=\"noreferrer\" target=\"_blank\" href=\"https://scikit-learn.org/1.6/modules/generated/sklearn.tree.DecisionTreeRegressor.html\">?<span>Documentation for DecisionTreeRegressor</span></a></div></label><div class=\"sk-toggleable__content fitted\"><pre>DecisionTreeRegressor(max_depth=4)</pre></div> </div></div></div></div></div></div></div></div></div></div></div>"
      ],
      "text/plain": [
       "GridSearchCV(cv=5, error_score='raise',\n",
       "             estimator=Pipeline(steps=[('preprocessor',\n",
       "                                        ColumnTransformer(remainder='passthrough',\n",
       "                                                          transformers=[('ohe',\n",
       "                                                                         Pipeline(steps=[('simpleImputerohe',\n",
       "                                                                                          SimpleImputer(strategy='most_frequent')),\n",
       "                                                                                         ('ohe',\n",
       "                                                                                          OneHotEncoder(drop='first',\n",
       "                                                                                                        handle_unknown='ignore'))]),\n",
       "                                                                         ['VehicleType',\n",
       "                                                                          'Gearbox',\n",
       "                                                                          'FuelType',\n",
       "                                                                          'Model',\n",
       "                                                                          'Repaired']),\n",
       "                                                                        ('num',\n",
       "                                                                         StandardScaler(),\n",
       "                                                                         ['RegistrationYear',\n",
       "                                                                          'Power',\n",
       "                                                                          'Kilometer'])])),\n",
       "                                       ('models', DecisionTreeRegressor())]),\n",
       "             n_jobs=-1,\n",
       "             param_grid=[{'models': [DecisionTreeRegressor()],\n",
       "                          'models__max_depth': range(1, 5)},\n",
       "                         {'models': [LinearRegression()],\n",
       "                          'preprocessor__num': [StandardScaler(),\n",
       "                                                MinMaxScaler()]}],\n",
       "             refit='recall', scoring='neg_mean_squared_error', verbose=3)"
      ]
     },
     "execution_count": 29,
     "metadata": {},
     "output_type": "execute_result"
    }
   ],
   "source": [
    "grid.fit(X_train,y_train)"
   ]
  },
  {
   "cell_type": "code",
   "execution_count": 30,
   "metadata": {},
   "outputs": [
    {
     "name": "stdout",
     "output_type": "stream",
     "text": [
      "Лучшая модель и её параметры:\n",
      "\n",
      " Pipeline(steps=[('preprocessor',\n",
      "                 ColumnTransformer(remainder='passthrough',\n",
      "                                   transformers=[('ohe',\n",
      "                                                  Pipeline(steps=[('simpleImputerohe',\n",
      "                                                                   SimpleImputer(strategy='most_frequent')),\n",
      "                                                                  ('ohe',\n",
      "                                                                   OneHotEncoder(drop='first',\n",
      "                                                                                 handle_unknown='ignore'))]),\n",
      "                                                  ['VehicleType', 'Gearbox',\n",
      "                                                   'FuelType', 'Model',\n",
      "                                                   'Repaired']),\n",
      "                                                 ('num', StandardScaler(),\n",
      "                                                  ['RegistrationYear', 'Power',\n",
      "                                                   'Kilometer'])])),\n",
      "                ('models', DecisionTreeRegressor(max_depth=4))])\n",
      "Метрика лучшей модели на кросс-валидационной выборке: 2529.456399874178\n",
      "Среднее время обучения лучшей модели:  0.8441130161285401  сек\n",
      "Среднее время предсказания лучшей модели:  0.11549105644226074  сек\n"
     ]
    }
   ],
   "source": [
    "print('Лучшая модель и её параметры:\\n\\n', grid.best_estimator_) \n",
    "print ('Метрика лучшей модели на кросс-валидационной выборке:', (grid.best_score_*-1)**0.5)\n",
    "print('Среднее время обучения лучшей модели: ',grid.cv_results_['mean_fit_time'][grid.best_index_],' сек')\n",
    "print('Среднее время предсказания лучшей модели: ',grid.cv_results_['mean_score_time'][grid.best_index_],' сек')"
   ]
  },
  {
   "cell_type": "markdown",
   "metadata": {},
   "source": [
    "Теперь обучу модель градиентного бустинга LGBMRegressor"
   ]
  },
  {
   "cell_type": "code",
   "execution_count": 31,
   "metadata": {},
   "outputs": [],
   "source": [
    "for cat in cat_cols:\n",
    "    X_train[cat] = X_train[cat].astype('category')\n",
    "model = LGBMRegressor()"
   ]
  },
  {
   "cell_type": "code",
   "execution_count": 32,
   "metadata": {},
   "outputs": [
    {
     "name": "stdout",
     "output_type": "stream",
     "text": [
      "[CV] END ................................, score=-2512375.893 total time=   5.3s\n",
      "[CV] END ................................, score=-2473553.568 total time=   6.5s\n",
      "[CV] END ................................, score=-2532844.603 total time=   5.5s\n",
      "[CV] END ................................, score=-2469506.717 total time=   5.3s\n",
      "[CV] END ................................, score=-2443840.421 total time=   5.7s\n",
      "Среднее время обучения:  5.10620756149292  сек.\n",
      "Среднее время предсказания:  0.5437608242034913  сек.\n",
      "Средняя метрика RMSE:  1576.8075150873187\n"
     ]
    },
    {
     "name": "stderr",
     "output_type": "stream",
     "text": [
      "[Parallel(n_jobs=-1)]: Done   5 out of   5 | elapsed:   28.3s finished\n"
     ]
    }
   ],
   "source": [
    "cv_results=cross_validate(model,X_train,y_train,cv=5,n_jobs=-1,scoring='neg_mean_squared_error',verbose=3)\n",
    "print('Среднее время обучения: ',cv_results['fit_time'].mean(),' сек.')\n",
    "print('Среднее время предсказания: ',cv_results['score_time'].mean(),' сек.')\n",
    "cv_results['test_score']=(cv_results['test_score']*-1)**0.5\n",
    "print('Средняя метрика RMSE: ',cv_results['test_score'].mean())"
   ]
  },
  {
   "cell_type": "markdown",
   "metadata": {},
   "source": [
    "Сравнив результаты моделей на кросс-валидационной выборке, можно сказать, что лучшая из моделей, не использующая градиентный бустинг, справляется с предсказанием почти в два раза хуже, чем модель LGBMRegressor, однако последняя обучается гораздо дольше(0.8 сек против 5). Время предсказания у моделей отличается не так сильно и достаточно мало у обеих.\n",
    "    \n",
    "Поскольку предсказания LGBM модели гораздо точнее, то логично будет выбрать именно ее, ведь заказчику вряд ли понадобится часто промахивающаяся модель, пусть и быстро обучаемая."
   ]
  },
  {
   "cell_type": "code",
   "execution_count": 36,
   "metadata": {},
   "outputs": [
    {
     "name": "stdout",
     "output_type": "stream",
     "text": [
      "Метрика RMSE на тестовой выборке:  1559.5757820607655\n"
     ]
    }
   ],
   "source": [
    "model.fit(X_train, y_train, categorical_feature=cat_cols)\n",
    "for cat in cat_cols:\n",
    "    X_test[cat] = X_test[cat].astype('category')\n",
    "y_pred2=model.predict(X_test)\n",
    "print('Метрика RMSE на тестовой выборке: ',mean_squared_error(y_test,y_pred2)**0.5)"
   ]
  },
  {
   "cell_type": "code",
   "execution_count": 34,
   "metadata": {},
   "outputs": [
    {
     "data": {
      "image/png": "[encoded data removed]",
      "text/plain": [
       "<Figure size 432x288 with 1 Axes>"
      ]
     },
     "metadata": {
      "needs_background": "light"
     },
     "output_type": "display_data"
    }
   ],
   "source": [
    "residuals = y_test - y_pred2\n",
    "plt.hist(x=residuals,bins=20)\n",
    "plt.title('Гистограмма распределения остатков')\n",
    "plt.xlabel('Остатки')\n",
    "plt.show()"
   ]
  },
  {
   "cell_type": "code",
   "execution_count": 35,
   "metadata": {},
   "outputs": [
    {
     "name": "stdout",
     "output_type": "stream",
     "text": [
      "         true          pred\n",
      "268894    650    742.864667\n",
      "196203   2999   3245.353697\n",
      "179542   4500   3708.592622\n",
      "134693   5200   3784.646750\n",
      "34219    3790   4713.974823\n",
      "...       ...           ...\n",
      "99297    1500   1708.912599\n",
      "154760   9999  10732.002137\n",
      "173468    950   1662.148549\n",
      "111769   2800   2522.662641\n",
      "52759   18200  16917.447592\n",
      "\n",
      "[58242 rows x 2 columns]\n"
     ]
    },
    {
     "data": {
      "image/png": "[encoded data removed]",
      "text/plain": [
       "<Figure size 1080x720 with 1 Axes>"
      ]
     },
     "metadata": {
      "needs_background": "light"
     },
     "output_type": "display_data"
    }
   ],
   "source": [
    "meow=pd.DataFrame()\n",
    "meow['true']=y_test\n",
    "meow['pred']=y_pred2\n",
    "print(meow)\n",
    "plt.figure(figsize=(15,10))\n",
    "sns.scatterplot(x='true', y='pred', data=meow, color='blue', alpha=0.3)\n",
    "plt.title('True vs pred')\n",
    "max_value = max(meow['true'].max(), meow['pred'].max())\n",
    "plt.plot([0, max_value], [0, max_value], color='red', linestyle='--', linewidth=2)\n",
    "plt.show()"
   ]
  },
  {
   "cell_type": "markdown",
   "metadata": {},
   "source": [
    "## Анализ моделей"
   ]
  },
  {
   "cell_type": "markdown",
   "metadata": {},
   "source": [
    "Можно заметить, что модель LightGBMRegressor показывает лучшую метрику по сравнению с DecisionTreeRegressor. Время на предсказание у моделей почти одинаковое, а вот время обучения у модели с градиентным бустингом ощутимо больше: более 3 секунд по сравнению с 1 сек. Однако LightGBMRegressor все равно справляется с поставленной задачей гораздо лучше, а 3-5 секунд- это не такое большое время, которое могло бы быть, поэтому я считаю именно ее лучшей моделью"
   ]
  },
  {
   "cell_type": "markdown",
   "metadata": {},
   "source": [
    "Подводя итог, можно сделать вывод, что модель, использующая градиентный бустинг справляется с задачей лучше и имеет лучшую метрику. На этапе обработки пропусков пришлось заполнять их на основе значений других столбцов. Также необходимо было обработать аномалии и восстановить нормальные значения по другим столбцам. Некоторые признаки пришлось удалить ввиду их бесполезности для обучения модели.\n",
    "    \n",
    "Было обучено 3 модели:CatBoostRegressor, DecisionTreeRegressor и LinearRegression, из них наилучшую метрику RMSE имеет перва модель-1558 на тестовой выборке, гистограмма распределения остатков имеет нормальное распределение около 0, а график рассеяния таргета и предсказаний показывает, что модель часто занижает стоимость машины, особенно если машина стоит более 10000 евро"
   ]
  }
 ],
 "metadata": {
  "ExecuteTimeLog": [
   {
    "duration": 432,
    "start_time": "2025-04-12T09:37:23.360Z"
   },
   {
    "duration": 858,
    "start_time": "2025-04-12T09:37:43.471Z"
   },
   {
    "duration": 974,
    "start_time": "2025-04-12T09:37:55.517Z"
   },
   {
    "duration": 941,
    "start_time": "2025-04-12T09:38:05.895Z"
   },
   {
    "duration": 918,
    "start_time": "2025-04-12T09:38:25.190Z"
   },
   {
    "duration": 7,
    "start_time": "2025-04-12T09:41:14.609Z"
   },
   {
    "duration": 642,
    "start_time": "2025-04-12T09:41:29.196Z"
   },
   {
    "duration": 21,
    "start_time": "2025-04-12T09:41:47.524Z"
   },
   {
    "duration": 210,
    "start_time": "2025-04-12T09:42:10.090Z"
   },
   {
    "duration": 21,
    "start_time": "2025-04-12T09:42:24.769Z"
   },
   {
    "duration": 183,
    "start_time": "2025-04-12T09:44:01.503Z"
   },
   {
    "duration": 154,
    "start_time": "2025-04-12T09:44:10.846Z"
   },
   {
    "duration": 22,
    "start_time": "2025-04-12T10:15:52.301Z"
   },
   {
    "duration": 200,
    "start_time": "2025-04-12T10:16:26.992Z"
   },
   {
    "duration": 221,
    "start_time": "2025-04-12T10:18:00.309Z"
   },
   {
    "duration": 23,
    "start_time": "2025-04-12T10:18:56.583Z"
   },
   {
    "duration": 236,
    "start_time": "2025-04-12T10:19:22.457Z"
   },
   {
    "duration": 20,
    "start_time": "2025-04-12T10:36:01.254Z"
   },
   {
    "duration": 23,
    "start_time": "2025-04-12T10:36:21.348Z"
   },
   {
    "duration": 127,
    "start_time": "2025-04-12T10:36:47.188Z"
   },
   {
    "duration": 420,
    "start_time": "2025-04-12T10:36:52.018Z"
   },
   {
    "duration": 384,
    "start_time": "2025-04-12T10:36:59.126Z"
   },
   {
    "duration": 409,
    "start_time": "2025-04-12T10:37:03.687Z"
   },
   {
    "duration": 1233,
    "start_time": "2025-04-12T10:37:33.142Z"
   },
   {
    "duration": 23,
    "start_time": "2025-04-12T10:50:33.389Z"
   },
   {
    "duration": 710,
    "start_time": "2025-04-12T10:51:51.635Z"
   },
   {
    "duration": 17,
    "start_time": "2025-04-12T10:52:24.103Z"
   },
   {
    "duration": 923,
    "start_time": "2025-04-12T10:53:40.339Z"
   },
   {
    "duration": 170,
    "start_time": "2025-04-12T10:55:12.627Z"
   },
   {
    "duration": 1183,
    "start_time": "2025-04-12T10:56:24.588Z"
   },
   {
    "duration": 135,
    "start_time": "2025-04-12T10:56:34.801Z"
   },
   {
    "duration": 131,
    "start_time": "2025-04-12T10:56:49.978Z"
   },
   {
    "duration": 323,
    "start_time": "2025-04-12T10:57:37.177Z"
   },
   {
    "duration": 34,
    "start_time": "2025-04-12T11:02:54.519Z"
   },
   {
    "duration": 395,
    "start_time": "2025-04-12T11:03:07.473Z"
   },
   {
    "duration": 345,
    "start_time": "2025-04-12T11:03:59.562Z"
   },
   {
    "duration": 358,
    "start_time": "2025-04-12T11:14:54.012Z"
   },
   {
    "duration": 74,
    "start_time": "2025-04-12T11:15:43.847Z"
   },
   {
    "duration": 106,
    "start_time": "2025-04-12T11:15:47.708Z"
   },
   {
    "duration": 155,
    "start_time": "2025-04-12T11:17:40.612Z"
   },
   {
    "duration": 381,
    "start_time": "2025-04-12T11:18:00.290Z"
   },
   {
    "duration": 11671,
    "start_time": "2025-04-12T11:18:56.760Z"
   },
   {
    "duration": 117,
    "start_time": "2025-04-12T11:19:16.169Z"
   },
   {
    "duration": 147,
    "start_time": "2025-04-12T11:47:00.829Z"
   },
   {
    "duration": 163,
    "start_time": "2025-04-12T11:47:26.297Z"
   },
   {
    "duration": 2,
    "start_time": "2025-04-12T11:49:38.937Z"
   },
   {
    "duration": 138,
    "start_time": "2025-04-12T11:50:16.284Z"
   },
   {
    "duration": 3,
    "start_time": "2025-04-12T11:50:58.065Z"
   },
   {
    "duration": 22,
    "start_time": "2025-04-12T12:01:23.715Z"
   },
   {
    "duration": 73,
    "start_time": "2025-04-12T12:21:05.610Z"
   },
   {
    "duration": 101,
    "start_time": "2025-04-12T12:21:09.072Z"
   },
   {
    "duration": 24,
    "start_time": "2025-04-12T12:21:15.908Z"
   },
   {
    "duration": 12,
    "start_time": "2025-04-12T12:28:19.444Z"
   },
   {
    "duration": 9,
    "start_time": "2025-04-12T12:28:33.585Z"
   },
   {
    "duration": 10,
    "start_time": "2025-04-12T12:29:38.199Z"
   },
   {
    "duration": 3,
    "start_time": "2025-04-12T12:30:17.552Z"
   },
   {
    "duration": 55,
    "start_time": "2025-04-12T12:30:30.096Z"
   },
   {
    "duration": 39,
    "start_time": "2025-04-12T12:30:38.009Z"
   },
   {
    "duration": 1256,
    "start_time": "2025-04-12T12:30:47.625Z"
   },
   {
    "duration": 170,
    "start_time": "2025-04-12T12:33:44.163Z"
   },
   {
    "duration": 170,
    "start_time": "2025-04-12T12:33:51.229Z"
   },
   {
    "duration": 170,
    "start_time": "2025-04-12T12:34:14.154Z"
   },
   {
    "duration": 6792,
    "start_time": "2025-04-12T12:35:28.527Z"
   },
   {
    "duration": 222,
    "start_time": "2025-04-12T12:35:40.350Z"
   },
   {
    "duration": 180,
    "start_time": "2025-04-12T12:36:58.222Z"
   },
   {
    "duration": 3189,
    "start_time": "2025-04-12T12:37:05.357Z"
   },
   {
    "duration": 5838,
    "start_time": "2025-04-12T12:37:46.478Z"
   },
   {
    "duration": 77,
    "start_time": "2025-04-12T12:38:24.515Z"
   },
   {
    "duration": 72,
    "start_time": "2025-04-12T12:38:28.628Z"
   },
   {
    "duration": 104,
    "start_time": "2025-04-12T12:38:33.801Z"
   },
   {
    "duration": 78,
    "start_time": "2025-04-12T12:38:56.457Z"
   },
   {
    "duration": 1119,
    "start_time": "2025-04-12T12:39:03.431Z"
   },
   {
    "duration": 79,
    "start_time": "2025-04-12T12:39:35.288Z"
   },
   {
    "duration": 75,
    "start_time": "2025-04-12T12:39:40.424Z"
   },
   {
    "duration": 0,
    "start_time": "2025-04-12T12:39:40.501Z"
   },
   {
    "duration": 0,
    "start_time": "2025-04-12T12:39:40.503Z"
   },
   {
    "duration": 0,
    "start_time": "2025-04-12T12:39:40.504Z"
   },
   {
    "duration": 0,
    "start_time": "2025-04-12T12:39:40.505Z"
   },
   {
    "duration": 0,
    "start_time": "2025-04-12T12:39:40.506Z"
   },
   {
    "duration": 0,
    "start_time": "2025-04-12T12:39:40.507Z"
   },
   {
    "duration": 0,
    "start_time": "2025-04-12T12:39:40.507Z"
   },
   {
    "duration": 0,
    "start_time": "2025-04-12T12:39:40.509Z"
   },
   {
    "duration": 0,
    "start_time": "2025-04-12T12:39:40.509Z"
   },
   {
    "duration": 1,
    "start_time": "2025-04-12T12:39:40.510Z"
   },
   {
    "duration": 0,
    "start_time": "2025-04-12T12:39:40.511Z"
   },
   {
    "duration": 0,
    "start_time": "2025-04-12T12:39:40.512Z"
   },
   {
    "duration": 0,
    "start_time": "2025-04-12T12:39:40.513Z"
   },
   {
    "duration": 0,
    "start_time": "2025-04-12T12:39:40.514Z"
   },
   {
    "duration": 0,
    "start_time": "2025-04-12T12:39:40.515Z"
   },
   {
    "duration": 0,
    "start_time": "2025-04-12T12:39:40.517Z"
   },
   {
    "duration": 0,
    "start_time": "2025-04-12T12:39:40.518Z"
   },
   {
    "duration": 0,
    "start_time": "2025-04-12T12:39:40.519Z"
   },
   {
    "duration": 74,
    "start_time": "2025-04-12T12:39:56.220Z"
   },
   {
    "duration": 71,
    "start_time": "2025-04-12T12:40:37.347Z"
   },
   {
    "duration": 77,
    "start_time": "2025-04-12T12:40:42.146Z"
   },
   {
    "duration": 3180,
    "start_time": "2025-04-12T12:40:59.328Z"
   },
   {
    "duration": 5471,
    "start_time": "2025-04-12T12:41:31.325Z"
   },
   {
    "duration": 3023,
    "start_time": "2025-04-12T12:41:51.352Z"
   },
   {
    "duration": 334,
    "start_time": "2025-04-12T12:41:57.208Z"
   },
   {
    "duration": 249,
    "start_time": "2025-04-12T12:43:35.022Z"
   },
   {
    "duration": 5923,
    "start_time": "2025-04-12T12:46:52.678Z"
   },
   {
    "duration": 320,
    "start_time": "2025-04-12T12:47:06.802Z"
   },
   {
    "duration": 5813,
    "start_time": "2025-04-12T12:50:18.877Z"
   },
   {
    "duration": 1027,
    "start_time": "2025-04-12T12:50:24.693Z"
   },
   {
    "duration": 289,
    "start_time": "2025-04-12T12:50:25.723Z"
   },
   {
    "duration": 20,
    "start_time": "2025-04-12T12:50:26.014Z"
   },
   {
    "duration": 255,
    "start_time": "2025-04-12T12:50:26.037Z"
   },
   {
    "duration": 21,
    "start_time": "2025-04-12T12:50:26.294Z"
   },
   {
    "duration": 214,
    "start_time": "2025-04-12T12:50:26.316Z"
   },
   {
    "duration": 23,
    "start_time": "2025-04-12T12:50:26.532Z"
   },
   {
    "duration": 1363,
    "start_time": "2025-04-12T12:50:26.556Z"
   },
   {
    "duration": 25,
    "start_time": "2025-04-12T12:50:27.921Z"
   },
   {
    "duration": 391,
    "start_time": "2025-04-12T12:50:27.947Z"
   },
   {
    "duration": 376,
    "start_time": "2025-04-12T12:50:28.340Z"
   },
   {
    "duration": 124,
    "start_time": "2025-04-12T12:50:28.717Z"
   },
   {
    "duration": 379,
    "start_time": "2025-04-12T12:50:28.844Z"
   },
   {
    "duration": 132,
    "start_time": "2025-04-12T12:50:29.225Z"
   },
   {
    "duration": 130,
    "start_time": "2025-04-12T12:50:29.364Z"
   },
   {
    "duration": 187,
    "start_time": "2025-04-12T12:50:29.495Z"
   },
   {
    "duration": 91,
    "start_time": "2025-04-12T12:50:29.683Z"
   },
   {
    "duration": 0,
    "start_time": "2025-04-12T12:50:29.776Z"
   },
   {
    "duration": 171,
    "start_time": "2025-04-12T12:51:07.773Z"
   },
   {
    "duration": 88,
    "start_time": "2025-04-12T12:52:47.299Z"
   },
   {
    "duration": 558,
    "start_time": "2025-04-12T12:52:55.535Z"
   },
   {
    "duration": 303,
    "start_time": "2025-04-12T12:53:25.530Z"
   },
   {
    "duration": 517,
    "start_time": "2025-04-12T12:53:38.224Z"
   },
   {
    "duration": 466,
    "start_time": "2025-04-12T12:54:15.020Z"
   },
   {
    "duration": 21,
    "start_time": "2025-04-12T12:54:36.974Z"
   },
   {
    "duration": 516,
    "start_time": "2025-04-12T12:55:48.126Z"
   },
   {
    "duration": 512,
    "start_time": "2025-04-12T12:55:53.917Z"
   },
   {
    "duration": 21,
    "start_time": "2025-04-12T12:56:37.270Z"
   },
   {
    "duration": 5749,
    "start_time": "2025-04-12T12:59:14.081Z"
   },
   {
    "duration": 50,
    "start_time": "2025-04-12T13:00:54.842Z"
   },
   {
    "duration": 5688,
    "start_time": "2025-04-12T13:01:37.850Z"
   },
   {
    "duration": 5640,
    "start_time": "2025-04-12T13:02:16.432Z"
   },
   {
    "duration": 0,
    "start_time": "2025-04-12T13:02:22.075Z"
   },
   {
    "duration": 0,
    "start_time": "2025-04-12T13:02:22.076Z"
   },
   {
    "duration": 0,
    "start_time": "2025-04-12T13:02:22.078Z"
   },
   {
    "duration": 0,
    "start_time": "2025-04-12T13:02:22.079Z"
   },
   {
    "duration": 0,
    "start_time": "2025-04-12T13:02:22.081Z"
   },
   {
    "duration": 0,
    "start_time": "2025-04-12T13:02:22.082Z"
   },
   {
    "duration": 0,
    "start_time": "2025-04-12T13:02:22.084Z"
   },
   {
    "duration": 0,
    "start_time": "2025-04-12T13:02:22.085Z"
   },
   {
    "duration": 0,
    "start_time": "2025-04-12T13:02:22.088Z"
   },
   {
    "duration": 0,
    "start_time": "2025-04-12T13:02:22.090Z"
   },
   {
    "duration": 0,
    "start_time": "2025-04-12T13:02:22.092Z"
   },
   {
    "duration": 0,
    "start_time": "2025-04-12T13:02:22.093Z"
   },
   {
    "duration": 0,
    "start_time": "2025-04-12T13:02:22.095Z"
   },
   {
    "duration": 0,
    "start_time": "2025-04-12T13:02:22.097Z"
   },
   {
    "duration": 0,
    "start_time": "2025-04-12T13:02:22.098Z"
   },
   {
    "duration": 0,
    "start_time": "2025-04-12T13:02:22.099Z"
   },
   {
    "duration": 0,
    "start_time": "2025-04-12T13:02:22.101Z"
   },
   {
    "duration": 0,
    "start_time": "2025-04-12T13:02:22.103Z"
   },
   {
    "duration": 5738,
    "start_time": "2025-04-12T13:02:58.707Z"
   },
   {
    "duration": 5978,
    "start_time": "2025-04-12T13:03:20.781Z"
   },
   {
    "duration": 5843,
    "start_time": "2025-04-12T13:03:38.445Z"
   },
   {
    "duration": 7068,
    "start_time": "2025-04-12T13:04:50.509Z"
   },
   {
    "duration": 1132,
    "start_time": "2025-04-12T13:04:57.579Z"
   },
   {
    "duration": 258,
    "start_time": "2025-04-12T13:04:58.712Z"
   },
   {
    "duration": 33,
    "start_time": "2025-04-12T13:04:58.975Z"
   },
   {
    "duration": 267,
    "start_time": "2025-04-12T13:04:59.011Z"
   },
   {
    "duration": 25,
    "start_time": "2025-04-12T13:04:59.280Z"
   },
   {
    "duration": 213,
    "start_time": "2025-04-12T13:04:59.307Z"
   },
   {
    "duration": 26,
    "start_time": "2025-04-12T13:04:59.522Z"
   },
   {
    "duration": 1659,
    "start_time": "2025-04-12T13:04:59.560Z"
   },
   {
    "duration": 55,
    "start_time": "2025-04-12T13:05:01.221Z"
   },
   {
    "duration": 411,
    "start_time": "2025-04-12T13:05:01.278Z"
   },
   {
    "duration": 488,
    "start_time": "2025-04-12T13:05:01.691Z"
   },
   {
    "duration": 130,
    "start_time": "2025-04-12T13:05:02.180Z"
   },
   {
    "duration": 421,
    "start_time": "2025-04-12T13:05:02.312Z"
   },
   {
    "duration": 162,
    "start_time": "2025-04-12T13:05:02.735Z"
   },
   {
    "duration": 155,
    "start_time": "2025-04-12T13:05:02.899Z"
   },
   {
    "duration": 190,
    "start_time": "2025-04-12T13:05:03.055Z"
   },
   {
    "duration": 33,
    "start_time": "2025-04-12T13:05:03.247Z"
   },
   {
    "duration": 142,
    "start_time": "2025-04-12T13:05:03.282Z"
   },
   {
    "duration": 6025,
    "start_time": "2025-04-12T13:05:22.061Z"
   },
   {
    "duration": 5725,
    "start_time": "2025-04-12T13:05:33.310Z"
   },
   {
    "duration": 107,
    "start_time": "2025-04-12T13:05:49.170Z"
   },
   {
    "duration": 100,
    "start_time": "2025-04-12T13:06:27.129Z"
   },
   {
    "duration": 76,
    "start_time": "2025-04-12T13:08:16.768Z"
   },
   {
    "duration": 5681,
    "start_time": "2025-04-12T13:11:23.915Z"
   },
   {
    "duration": 11336,
    "start_time": "2025-04-12T21:12:29.175Z"
   },
   {
    "duration": 992,
    "start_time": "2025-04-12T21:12:40.513Z"
   },
   {
    "duration": 236,
    "start_time": "2025-04-12T21:12:41.507Z"
   },
   {
    "duration": 27,
    "start_time": "2025-04-12T21:12:41.745Z"
   },
   {
    "duration": 220,
    "start_time": "2025-04-12T21:12:41.775Z"
   },
   {
    "duration": 25,
    "start_time": "2025-04-12T21:12:41.996Z"
   },
   {
    "duration": 194,
    "start_time": "2025-04-12T21:12:42.023Z"
   },
   {
    "duration": 26,
    "start_time": "2025-04-12T21:12:42.218Z"
   },
   {
    "duration": 1450,
    "start_time": "2025-04-12T21:12:42.246Z"
   },
   {
    "duration": 36,
    "start_time": "2025-04-12T21:12:43.698Z"
   },
   {
    "duration": 340,
    "start_time": "2025-04-12T21:12:43.736Z"
   },
   {
    "duration": 420,
    "start_time": "2025-04-12T21:12:44.078Z"
   },
   {
    "duration": 112,
    "start_time": "2025-04-12T21:12:44.499Z"
   },
   {
    "duration": 324,
    "start_time": "2025-04-12T21:12:44.614Z"
   },
   {
    "duration": 130,
    "start_time": "2025-04-12T21:12:44.940Z"
   },
   {
    "duration": 139,
    "start_time": "2025-04-12T21:12:45.071Z"
   },
   {
    "duration": 181,
    "start_time": "2025-04-12T21:12:45.211Z"
   },
   {
    "duration": 35468,
    "start_time": "2025-04-12T21:12:45.393Z"
   },
   {
    "duration": 1001,
    "start_time": "2025-04-12T21:30:05.260Z"
   },
   {
    "duration": 995,
    "start_time": "2025-04-12T21:30:11.275Z"
   },
   {
    "duration": 957,
    "start_time": "2025-04-12T21:30:16.125Z"
   },
   {
    "duration": 1253,
    "start_time": "2025-04-12T21:30:21.025Z"
   },
   {
    "duration": 1246,
    "start_time": "2025-04-12T21:30:29.782Z"
   },
   {
    "duration": 1187,
    "start_time": "2025-04-12T21:58:08.511Z"
   },
   {
    "duration": 133,
    "start_time": "2025-04-12T21:58:27.267Z"
   },
   {
    "duration": 128,
    "start_time": "2025-04-12T21:58:32.840Z"
   },
   {
    "duration": 49,
    "start_time": "2025-04-13T10:24:53.878Z"
   },
   {
    "duration": 5582,
    "start_time": "2025-04-13T10:25:18.580Z"
   },
   {
    "duration": 1244,
    "start_time": "2025-04-13T10:25:24.165Z"
   },
   {
    "duration": 261,
    "start_time": "2025-04-13T10:25:25.412Z"
   },
   {
    "duration": 23,
    "start_time": "2025-04-13T10:25:25.674Z"
   },
   {
    "duration": 253,
    "start_time": "2025-04-13T10:25:25.699Z"
   },
   {
    "duration": 39,
    "start_time": "2025-04-13T10:25:25.954Z"
   },
   {
    "duration": 205,
    "start_time": "2025-04-13T10:25:25.994Z"
   },
   {
    "duration": 23,
    "start_time": "2025-04-13T10:25:26.201Z"
   },
   {
    "duration": 1761,
    "start_time": "2025-04-13T10:25:26.226Z"
   },
   {
    "duration": 43,
    "start_time": "2025-04-13T10:25:27.989Z"
   },
   {
    "duration": 386,
    "start_time": "2025-04-13T10:25:28.034Z"
   },
   {
    "duration": 502,
    "start_time": "2025-04-13T10:25:28.422Z"
   },
   {
    "duration": 120,
    "start_time": "2025-04-13T10:25:28.925Z"
   },
   {
    "duration": 377,
    "start_time": "2025-04-13T10:25:29.047Z"
   },
   {
    "duration": 132,
    "start_time": "2025-04-13T10:25:29.426Z"
   },
   {
    "duration": 154,
    "start_time": "2025-04-13T10:25:29.559Z"
   },
   {
    "duration": 179,
    "start_time": "2025-04-13T10:25:29.715Z"
   },
   {
    "duration": 1328,
    "start_time": "2025-04-13T10:25:29.896Z"
   },
   {
    "duration": 161,
    "start_time": "2025-04-13T10:25:31.226Z"
   },
   {
    "duration": 4,
    "start_time": "2025-04-13T10:25:31.388Z"
   },
   {
    "duration": 5561,
    "start_time": "2025-04-13T10:31:44.479Z"
   },
   {
    "duration": 95,
    "start_time": "2025-04-13T10:31:57.357Z"
   },
   {
    "duration": 81,
    "start_time": "2025-04-13T10:36:47.481Z"
   },
   {
    "duration": 5531,
    "start_time": "2025-04-13T10:36:59.407Z"
   },
   {
    "duration": 3583,
    "start_time": "2025-04-13T10:37:08.887Z"
   },
   {
    "duration": 404,
    "start_time": "2025-04-13T10:38:08.169Z"
   },
   {
    "duration": 389,
    "start_time": "2025-04-13T10:38:14.386Z"
   },
   {
    "duration": 146,
    "start_time": "2025-04-13T10:38:25.504Z"
   },
   {
    "duration": 134,
    "start_time": "2025-04-13T10:38:28.150Z"
   },
   {
    "duration": 3513,
    "start_time": "2025-04-13T10:38:30.687Z"
   },
   {
    "duration": 5663,
    "start_time": "2025-04-13T10:45:26.800Z"
   },
   {
    "duration": 382,
    "start_time": "2025-04-13T10:45:39.501Z"
   },
   {
    "duration": 5101,
    "start_time": "2025-04-13T10:45:43.597Z"
   },
   {
    "duration": 3230,
    "start_time": "2025-04-13T10:45:52.476Z"
   },
   {
    "duration": 1213,
    "start_time": "2025-04-13T10:46:09.820Z"
   },
   {
    "duration": 136,
    "start_time": "2025-04-13T10:46:14.149Z"
   },
   {
    "duration": 5614,
    "start_time": "2025-04-13T10:46:36.620Z"
   },
   {
    "duration": 1060,
    "start_time": "2025-04-13T10:46:42.236Z"
   },
   {
    "duration": 243,
    "start_time": "2025-04-13T10:46:43.298Z"
   },
   {
    "duration": 30,
    "start_time": "2025-04-13T10:46:43.543Z"
   },
   {
    "duration": 232,
    "start_time": "2025-04-13T10:46:43.575Z"
   },
   {
    "duration": 24,
    "start_time": "2025-04-13T10:46:43.809Z"
   },
   {
    "duration": 242,
    "start_time": "2025-04-13T10:46:43.835Z"
   },
   {
    "duration": 23,
    "start_time": "2025-04-13T10:46:44.079Z"
   },
   {
    "duration": 1430,
    "start_time": "2025-04-13T10:46:44.104Z"
   },
   {
    "duration": 38,
    "start_time": "2025-04-13T10:46:45.536Z"
   },
   {
    "duration": 484,
    "start_time": "2025-04-13T10:46:45.576Z"
   },
   {
    "duration": 367,
    "start_time": "2025-04-13T10:46:46.062Z"
   },
   {
    "duration": 115,
    "start_time": "2025-04-13T10:46:46.431Z"
   },
   {
    "duration": 351,
    "start_time": "2025-04-13T10:46:46.549Z"
   },
   {
    "duration": 132,
    "start_time": "2025-04-13T10:46:46.902Z"
   },
   {
    "duration": 136,
    "start_time": "2025-04-13T10:46:47.036Z"
   },
   {
    "duration": 182,
    "start_time": "2025-04-13T10:46:47.174Z"
   },
   {
    "duration": 1199,
    "start_time": "2025-04-13T10:46:47.358Z"
   },
   {
    "duration": 147,
    "start_time": "2025-04-13T10:46:48.559Z"
   },
   {
    "duration": 3387,
    "start_time": "2025-04-13T10:46:48.708Z"
   },
   {
    "duration": 383,
    "start_time": "2025-04-13T10:46:52.096Z"
   },
   {
    "duration": 55,
    "start_time": "2025-04-13T20:06:26.977Z"
   },
   {
    "duration": 13563,
    "start_time": "2025-04-13T20:06:31.509Z"
   },
   {
    "duration": 1261,
    "start_time": "2025-04-13T20:06:45.074Z"
   },
   {
    "duration": 78,
    "start_time": "2025-04-13T20:07:02.338Z"
   },
   {
    "duration": 91,
    "start_time": "2025-04-13T20:11:16.893Z"
   },
   {
    "duration": 13,
    "start_time": "2025-04-13T20:11:36.960Z"
   },
   {
    "duration": 11,
    "start_time": "2025-04-13T20:11:42.837Z"
   },
   {
    "duration": 67,
    "start_time": "2025-04-13T20:12:00.441Z"
   },
   {
    "duration": 68,
    "start_time": "2025-04-13T20:12:06.248Z"
   },
   {
    "duration": 62,
    "start_time": "2025-04-13T20:12:30.825Z"
   },
   {
    "duration": 13,
    "start_time": "2025-04-13T20:13:48.422Z"
   },
   {
    "duration": 172,
    "start_time": "2025-04-13T20:13:57.002Z"
   },
   {
    "duration": 317,
    "start_time": "2025-04-13T20:14:57.030Z"
   },
   {
    "duration": 59,
    "start_time": "2025-04-13T20:15:56.926Z"
   },
   {
    "duration": 12,
    "start_time": "2025-04-13T20:16:21.683Z"
   },
   {
    "duration": 6267,
    "start_time": "2025-04-13T20:16:45.777Z"
   },
   {
    "duration": 19,
    "start_time": "2025-04-13T20:22:21.870Z"
   },
   {
    "duration": 163,
    "start_time": "2025-04-13T20:22:31.548Z"
   },
   {
    "duration": 314,
    "start_time": "2025-04-13T20:35:26.543Z"
   },
   {
    "duration": 306,
    "start_time": "2025-04-13T20:35:40.803Z"
   },
   {
    "duration": 413,
    "start_time": "2025-04-13T20:36:11.136Z"
   },
   {
    "duration": 309,
    "start_time": "2025-04-13T20:36:42.196Z"
   },
   {
    "duration": 279,
    "start_time": "2025-04-13T20:37:01.093Z"
   },
   {
    "duration": 15,
    "start_time": "2025-04-13T20:42:13.306Z"
   },
   {
    "duration": 49,
    "start_time": "2025-04-13T20:42:21.476Z"
   },
   {
    "duration": 49,
    "start_time": "2025-04-13T20:42:26.698Z"
   },
   {
    "duration": 107,
    "start_time": "2025-04-13T20:42:44.752Z"
   },
   {
    "duration": 105,
    "start_time": "2025-04-13T20:43:32.494Z"
   },
   {
    "duration": 109,
    "start_time": "2025-04-13T20:43:38.152Z"
   },
   {
    "duration": 110,
    "start_time": "2025-04-13T20:44:10.685Z"
   },
   {
    "duration": 76,
    "start_time": "2025-04-13T20:44:49.418Z"
   },
   {
    "duration": 108,
    "start_time": "2025-04-13T20:45:25.953Z"
   },
   {
    "duration": 113,
    "start_time": "2025-04-13T20:45:43.149Z"
   },
   {
    "duration": 114,
    "start_time": "2025-04-13T20:46:54.470Z"
   },
   {
    "duration": 115,
    "start_time": "2025-04-13T20:47:00.766Z"
   },
   {
    "duration": 107,
    "start_time": "2025-04-13T20:47:05.215Z"
   },
   {
    "duration": 100,
    "start_time": "2025-04-13T20:54:37.563Z"
   },
   {
    "duration": 112,
    "start_time": "2025-04-13T20:54:48.330Z"
   },
   {
    "duration": 108,
    "start_time": "2025-04-13T20:54:51.745Z"
   },
   {
    "duration": 109,
    "start_time": "2025-04-13T20:57:04.532Z"
   },
   {
    "duration": 107,
    "start_time": "2025-04-13T20:57:09.756Z"
   },
   {
    "duration": 107,
    "start_time": "2025-04-13T20:57:33.889Z"
   },
   {
    "duration": 76,
    "start_time": "2025-04-13T21:04:09.880Z"
   },
   {
    "duration": 76,
    "start_time": "2025-04-13T21:04:23.947Z"
   },
   {
    "duration": 86,
    "start_time": "2025-04-13T21:04:33.960Z"
   },
   {
    "duration": 13,
    "start_time": "2025-04-13T21:05:14.241Z"
   },
   {
    "duration": 550,
    "start_time": "2025-04-13T21:05:24.617Z"
   },
   {
    "duration": 1109,
    "start_time": "2025-04-13T21:05:56.958Z"
   },
   {
    "duration": 564,
    "start_time": "2025-04-13T21:06:03.225Z"
   },
   {
    "duration": 85,
    "start_time": "2025-04-13T21:10:45.473Z"
   },
   {
    "duration": 489,
    "start_time": "2025-04-13T21:10:53.771Z"
   },
   {
    "duration": 576,
    "start_time": "2025-04-13T21:31:04.365Z"
   },
   {
    "duration": 565,
    "start_time": "2025-04-13T21:46:09.633Z"
   },
   {
    "duration": 21,
    "start_time": "2025-04-13T21:47:21.899Z"
   },
   {
    "duration": 24,
    "start_time": "2025-04-13T21:47:42.350Z"
   },
   {
    "duration": 586,
    "start_time": "2025-04-13T21:51:12.020Z"
   },
   {
    "duration": 671,
    "start_time": "2025-04-13T21:53:21.918Z"
   },
   {
    "duration": 650,
    "start_time": "2025-04-13T21:53:31.960Z"
   },
   {
    "duration": 1022,
    "start_time": "2025-04-13T21:55:23.953Z"
   },
   {
    "duration": 42,
    "start_time": "2025-04-13T21:55:27.401Z"
   },
   {
    "duration": 223,
    "start_time": "2025-04-13T21:55:35.361Z"
   },
   {
    "duration": 238,
    "start_time": "2025-04-13T21:55:38.879Z"
   },
   {
    "duration": 21,
    "start_time": "2025-04-13T21:56:36.538Z"
   },
   {
    "duration": 263,
    "start_time": "2025-04-13T21:56:38.666Z"
   },
   {
    "duration": 366,
    "start_time": "2025-04-13T21:58:04.735Z"
   },
   {
    "duration": 253,
    "start_time": "2025-04-13T21:58:24.927Z"
   },
   {
    "duration": 141,
    "start_time": "2025-04-13T21:59:52.469Z"
   },
   {
    "duration": 1291,
    "start_time": "2025-04-13T22:00:26.147Z"
   },
   {
    "duration": 273,
    "start_time": "2025-04-13T22:00:38.702Z"
   },
   {
    "duration": 23,
    "start_time": "2025-04-13T22:03:19.614Z"
   },
   {
    "duration": 144,
    "start_time": "2025-04-13T22:04:26.309Z"
   },
   {
    "duration": 158,
    "start_time": "2025-04-13T22:04:54.059Z"
   },
   {
    "duration": 137,
    "start_time": "2025-04-13T22:05:00.931Z"
   },
   {
    "duration": 5597,
    "start_time": "2025-04-13T22:05:04.619Z"
   },
   {
    "duration": 1056,
    "start_time": "2025-04-13T22:05:10.218Z"
   },
   {
    "duration": 314,
    "start_time": "2025-04-13T22:05:11.276Z"
   },
   {
    "duration": 2,
    "start_time": "2025-04-13T22:05:11.592Z"
   },
   {
    "duration": 23,
    "start_time": "2025-04-13T22:05:11.597Z"
   },
   {
    "duration": 271,
    "start_time": "2025-04-13T22:05:11.622Z"
   },
   {
    "duration": 296,
    "start_time": "2025-04-13T22:05:11.895Z"
   },
   {
    "duration": 2,
    "start_time": "2025-04-13T22:05:12.193Z"
   },
   {
    "duration": 305,
    "start_time": "2025-04-13T22:05:12.197Z"
   },
   {
    "duration": 247,
    "start_time": "2025-04-13T22:05:12.504Z"
   },
   {
    "duration": 278,
    "start_time": "2025-04-13T22:05:12.753Z"
   },
   {
    "duration": 3,
    "start_time": "2025-04-13T22:05:13.032Z"
   },
   {
    "duration": 34,
    "start_time": "2025-04-13T22:05:13.037Z"
   },
   {
    "duration": 139,
    "start_time": "2025-04-13T22:05:13.073Z"
   },
   {
    "duration": 342,
    "start_time": "2025-04-13T22:17:31.102Z"
   },
   {
    "duration": 241,
    "start_time": "2025-04-13T22:19:38.263Z"
   },
   {
    "duration": 76,
    "start_time": "2025-04-13T22:20:24.522Z"
   },
   {
    "duration": 129,
    "start_time": "2025-04-13T22:22:22.415Z"
   },
   {
    "duration": 65,
    "start_time": "2025-04-13T22:23:58.159Z"
   },
   {
    "duration": 112,
    "start_time": "2025-04-13T22:31:58.932Z"
   },
   {
    "duration": 118,
    "start_time": "2025-04-13T22:32:08.757Z"
   },
   {
    "duration": 107,
    "start_time": "2025-04-13T22:33:40.062Z"
   },
   {
    "duration": 111,
    "start_time": "2025-04-13T22:37:36.390Z"
   },
   {
    "duration": 249,
    "start_time": "2025-04-13T22:40:05.551Z"
   },
   {
    "duration": 152,
    "start_time": "2025-04-13T22:40:26.309Z"
   },
   {
    "duration": 353,
    "start_time": "2025-04-13T22:41:37.331Z"
   },
   {
    "duration": 6649,
    "start_time": "2025-04-13T22:42:43.513Z"
   },
   {
    "duration": 1314,
    "start_time": "2025-04-13T22:42:50.165Z"
   },
   {
    "duration": 385,
    "start_time": "2025-04-13T22:42:51.481Z"
   },
   {
    "duration": 3,
    "start_time": "2025-04-13T22:42:51.869Z"
   },
   {
    "duration": 29,
    "start_time": "2025-04-13T22:42:51.874Z"
   },
   {
    "duration": 312,
    "start_time": "2025-04-13T22:42:51.905Z"
   },
   {
    "duration": 362,
    "start_time": "2025-04-13T22:42:52.220Z"
   },
   {
    "duration": 3,
    "start_time": "2025-04-13T22:42:52.585Z"
   },
   {
    "duration": 315,
    "start_time": "2025-04-13T22:42:52.589Z"
   },
   {
    "duration": 302,
    "start_time": "2025-04-13T22:42:52.907Z"
   },
   {
    "duration": 332,
    "start_time": "2025-04-13T22:42:53.211Z"
   },
   {
    "duration": 4,
    "start_time": "2025-04-13T22:42:53.545Z"
   },
   {
    "duration": 40,
    "start_time": "2025-04-13T22:42:53.550Z"
   },
   {
    "duration": 170,
    "start_time": "2025-04-13T22:42:53.592Z"
   },
   {
    "duration": 1652,
    "start_time": "2025-04-13T22:42:53.771Z"
   },
   {
    "duration": 56,
    "start_time": "2025-04-13T22:42:55.425Z"
   },
   {
    "duration": 546,
    "start_time": "2025-04-13T22:42:55.483Z"
   },
   {
    "duration": 448,
    "start_time": "2025-04-13T22:42:56.031Z"
   },
   {
    "duration": 142,
    "start_time": "2025-04-13T22:42:56.482Z"
   },
   {
    "duration": 403,
    "start_time": "2025-04-13T22:42:56.626Z"
   },
   {
    "duration": 158,
    "start_time": "2025-04-13T22:42:57.032Z"
   },
   {
    "duration": 69,
    "start_time": "2025-04-13T22:42:57.192Z"
   },
   {
    "duration": 266,
    "start_time": "2025-04-13T22:43:01.507Z"
   },
   {
    "duration": 164,
    "start_time": "2025-04-13T22:43:31.858Z"
   },
   {
    "duration": 124,
    "start_time": "2025-04-13T22:43:33.595Z"
   },
   {
    "duration": 372,
    "start_time": "2025-04-13T22:45:35.564Z"
   },
   {
    "duration": 535,
    "start_time": "2025-04-13T22:49:09.565Z"
   },
   {
    "duration": 6804,
    "start_time": "2025-04-13T22:49:27.597Z"
   },
   {
    "duration": 1316,
    "start_time": "2025-04-13T22:49:34.404Z"
   },
   {
    "duration": 395,
    "start_time": "2025-04-13T22:49:35.722Z"
   },
   {
    "duration": 3,
    "start_time": "2025-04-13T22:49:36.119Z"
   },
   {
    "duration": 30,
    "start_time": "2025-04-13T22:49:36.125Z"
   },
   {
    "duration": 340,
    "start_time": "2025-04-13T22:49:36.171Z"
   },
   {
    "duration": 378,
    "start_time": "2025-04-13T22:49:36.513Z"
   },
   {
    "duration": 3,
    "start_time": "2025-04-13T22:49:36.893Z"
   },
   {
    "duration": 312,
    "start_time": "2025-04-13T22:49:36.898Z"
   },
   {
    "duration": 307,
    "start_time": "2025-04-13T22:49:37.212Z"
   },
   {
    "duration": 334,
    "start_time": "2025-04-13T22:49:37.521Z"
   },
   {
    "duration": 3,
    "start_time": "2025-04-13T22:49:37.857Z"
   },
   {
    "duration": 27,
    "start_time": "2025-04-13T22:49:37.871Z"
   },
   {
    "duration": 180,
    "start_time": "2025-04-13T22:49:37.901Z"
   },
   {
    "duration": 1721,
    "start_time": "2025-04-13T22:49:38.083Z"
   },
   {
    "duration": 41,
    "start_time": "2025-04-13T22:49:39.806Z"
   },
   {
    "duration": 433,
    "start_time": "2025-04-13T22:49:48.663Z"
   },
   {
    "duration": 406,
    "start_time": "2025-04-13T22:50:10.089Z"
   },
   {
    "duration": 6775,
    "start_time": "2025-04-13T22:50:13.498Z"
   },
   {
    "duration": 1295,
    "start_time": "2025-04-13T22:50:20.277Z"
   },
   {
    "duration": 384,
    "start_time": "2025-04-13T22:50:21.574Z"
   },
   {
    "duration": 11,
    "start_time": "2025-04-13T22:50:21.960Z"
   },
   {
    "duration": 28,
    "start_time": "2025-04-13T22:50:21.974Z"
   },
   {
    "duration": 531,
    "start_time": "2025-04-13T22:50:22.005Z"
   },
   {
    "duration": 364,
    "start_time": "2025-04-13T22:50:22.538Z"
   },
   {
    "duration": 2,
    "start_time": "2025-04-13T22:50:22.905Z"
   },
   {
    "duration": 307,
    "start_time": "2025-04-13T22:50:22.909Z"
   },
   {
    "duration": 295,
    "start_time": "2025-04-13T22:50:23.218Z"
   },
   {
    "duration": 332,
    "start_time": "2025-04-13T22:50:23.515Z"
   },
   {
    "duration": 3,
    "start_time": "2025-04-13T22:50:23.850Z"
   },
   {
    "duration": 29,
    "start_time": "2025-04-13T22:50:23.871Z"
   },
   {
    "duration": 183,
    "start_time": "2025-04-13T22:50:23.904Z"
   },
   {
    "duration": 1623,
    "start_time": "2025-04-13T22:50:24.089Z"
   },
   {
    "duration": 41,
    "start_time": "2025-04-13T22:50:25.714Z"
   },
   {
    "duration": 420,
    "start_time": "2025-04-13T22:50:25.770Z"
   },
   {
    "duration": 459,
    "start_time": "2025-04-13T22:50:26.192Z"
   },
   {
    "duration": 332,
    "start_time": "2025-04-13T23:00:12.515Z"
   },
   {
    "duration": 351,
    "start_time": "2025-04-13T23:00:26.330Z"
   },
   {
    "duration": 110,
    "start_time": "2025-04-13T23:14:05.092Z"
   },
   {
    "duration": 111,
    "start_time": "2025-04-13T23:15:49.374Z"
   },
   {
    "duration": 39,
    "start_time": "2025-04-13T23:18:10.989Z"
   },
   {
    "duration": 15,
    "start_time": "2025-04-13T23:19:25.400Z"
   },
   {
    "duration": 1336,
    "start_time": "2025-04-13T23:19:38.932Z"
   },
   {
    "duration": 1223,
    "start_time": "2025-04-13T23:22:19.103Z"
   },
   {
    "duration": 7191,
    "start_time": "2025-04-13T23:22:38.991Z"
   },
   {
    "duration": 1274,
    "start_time": "2025-04-13T23:22:46.186Z"
   },
   {
    "duration": 383,
    "start_time": "2025-04-13T23:22:47.462Z"
   },
   {
    "duration": 3,
    "start_time": "2025-04-13T23:22:47.848Z"
   },
   {
    "duration": 39,
    "start_time": "2025-04-13T23:22:47.853Z"
   },
   {
    "duration": 299,
    "start_time": "2025-04-13T23:22:47.894Z"
   },
   {
    "duration": 354,
    "start_time": "2025-04-13T23:22:48.194Z"
   },
   {
    "duration": 3,
    "start_time": "2025-04-13T23:22:48.550Z"
   },
   {
    "duration": 338,
    "start_time": "2025-04-13T23:22:48.555Z"
   },
   {
    "duration": 313,
    "start_time": "2025-04-13T23:22:48.897Z"
   },
   {
    "duration": 318,
    "start_time": "2025-04-13T23:22:49.212Z"
   },
   {
    "duration": 3,
    "start_time": "2025-04-13T23:22:49.532Z"
   },
   {
    "duration": 37,
    "start_time": "2025-04-13T23:22:49.537Z"
   },
   {
    "duration": 174,
    "start_time": "2025-04-13T23:22:49.576Z"
   },
   {
    "duration": 1598,
    "start_time": "2025-04-13T23:22:49.752Z"
   },
   {
    "duration": 120,
    "start_time": "2025-04-13T23:23:00.524Z"
   },
   {
    "duration": 6544,
    "start_time": "2025-04-13T23:23:22.406Z"
   },
   {
    "duration": 1265,
    "start_time": "2025-04-13T23:23:28.953Z"
   },
   {
    "duration": 390,
    "start_time": "2025-04-13T23:23:30.221Z"
   },
   {
    "duration": 3,
    "start_time": "2025-04-13T23:23:30.615Z"
   },
   {
    "duration": 39,
    "start_time": "2025-04-13T23:23:30.621Z"
   },
   {
    "duration": 317,
    "start_time": "2025-04-13T23:23:30.662Z"
   },
   {
    "duration": 365,
    "start_time": "2025-04-13T23:23:30.981Z"
   },
   {
    "duration": 3,
    "start_time": "2025-04-13T23:23:31.349Z"
   },
   {
    "duration": 310,
    "start_time": "2025-04-13T23:23:31.355Z"
   },
   {
    "duration": 315,
    "start_time": "2025-04-13T23:23:31.670Z"
   },
   {
    "duration": 331,
    "start_time": "2025-04-13T23:23:31.987Z"
   },
   {
    "duration": 3,
    "start_time": "2025-04-13T23:23:32.321Z"
   },
   {
    "duration": 45,
    "start_time": "2025-04-13T23:23:32.327Z"
   },
   {
    "duration": 166,
    "start_time": "2025-04-13T23:23:32.375Z"
   },
   {
    "duration": 1644,
    "start_time": "2025-04-13T23:23:32.544Z"
   },
   {
    "duration": 164,
    "start_time": "2025-04-13T23:24:00.112Z"
   },
   {
    "duration": 77,
    "start_time": "2025-04-14T16:37:47.820Z"
   },
   {
    "duration": 46,
    "start_time": "2025-04-14T16:37:54.299Z"
   },
   {
    "duration": 12176,
    "start_time": "2025-04-14T16:38:01.121Z"
   },
   {
    "duration": 1092,
    "start_time": "2025-04-14T16:38:13.299Z"
   },
   {
    "duration": 331,
    "start_time": "2025-04-14T16:38:14.393Z"
   },
   {
    "duration": 2,
    "start_time": "2025-04-14T16:38:14.726Z"
   },
   {
    "duration": 41,
    "start_time": "2025-04-14T16:38:14.730Z"
   },
   {
    "duration": 279,
    "start_time": "2025-04-14T16:38:14.773Z"
   },
   {
    "duration": 318,
    "start_time": "2025-04-14T16:38:15.054Z"
   },
   {
    "duration": 2,
    "start_time": "2025-04-14T16:38:15.374Z"
   },
   {
    "duration": 281,
    "start_time": "2025-04-14T16:38:15.378Z"
   },
   {
    "duration": 283,
    "start_time": "2025-04-14T16:38:15.661Z"
   },
   {
    "duration": 299,
    "start_time": "2025-04-14T16:38:15.946Z"
   },
   {
    "duration": 4,
    "start_time": "2025-04-14T16:38:16.248Z"
   },
   {
    "duration": 26,
    "start_time": "2025-04-14T16:38:16.270Z"
   },
   {
    "duration": 148,
    "start_time": "2025-04-14T16:38:16.299Z"
   },
   {
    "duration": 1587,
    "start_time": "2025-04-14T16:38:16.449Z"
   },
   {
    "duration": 243,
    "start_time": "2025-04-14T16:38:18.037Z"
   },
   {
    "duration": 35,
    "start_time": "2025-04-14T16:38:18.282Z"
   },
   {
    "duration": 370,
    "start_time": "2025-04-14T16:38:18.319Z"
   },
   {
    "duration": 397,
    "start_time": "2025-04-14T16:38:18.690Z"
   },
   {
    "duration": 121,
    "start_time": "2025-04-14T16:38:19.089Z"
   },
   {
    "duration": 130,
    "start_time": "2025-04-14T16:39:20.140Z"
   },
   {
    "duration": 93,
    "start_time": "2025-04-14T16:40:22.406Z"
   },
   {
    "duration": 136,
    "start_time": "2025-04-14T16:40:27.660Z"
   },
   {
    "duration": 131,
    "start_time": "2025-04-14T16:41:15.834Z"
   },
   {
    "duration": 138,
    "start_time": "2025-04-14T16:41:18.870Z"
   },
   {
    "duration": 327,
    "start_time": "2025-04-14T16:41:25.222Z"
   },
   {
    "duration": 291,
    "start_time": "2025-04-14T16:41:45.419Z"
   },
   {
    "duration": 157,
    "start_time": "2025-04-14T16:42:41.496Z"
   },
   {
    "duration": 111,
    "start_time": "2025-04-14T16:42:42.636Z"
   },
   {
    "duration": 5659,
    "start_time": "2025-04-14T16:42:49.312Z"
   },
   {
    "duration": 1070,
    "start_time": "2025-04-14T16:42:54.974Z"
   },
   {
    "duration": 362,
    "start_time": "2025-04-14T16:42:56.047Z"
   },
   {
    "duration": 4,
    "start_time": "2025-04-14T16:42:56.411Z"
   },
   {
    "duration": 23,
    "start_time": "2025-04-14T16:42:56.417Z"
   },
   {
    "duration": 277,
    "start_time": "2025-04-14T16:42:56.441Z"
   },
   {
    "duration": 315,
    "start_time": "2025-04-14T16:42:56.720Z"
   },
   {
    "duration": 2,
    "start_time": "2025-04-14T16:42:57.037Z"
   },
   {
    "duration": 269,
    "start_time": "2025-04-14T16:42:57.041Z"
   },
   {
    "duration": 263,
    "start_time": "2025-04-14T16:42:57.312Z"
   },
   {
    "duration": 279,
    "start_time": "2025-04-14T16:42:57.577Z"
   },
   {
    "duration": 2,
    "start_time": "2025-04-14T16:42:57.858Z"
   },
   {
    "duration": 23,
    "start_time": "2025-04-14T16:42:57.870Z"
   },
   {
    "duration": 158,
    "start_time": "2025-04-14T16:42:57.896Z"
   },
   {
    "duration": 1403,
    "start_time": "2025-04-14T16:42:58.056Z"
   },
   {
    "duration": 132,
    "start_time": "2025-04-14T16:42:59.460Z"
   },
   {
    "duration": 26,
    "start_time": "2025-04-14T16:42:59.594Z"
   },
   {
    "duration": 353,
    "start_time": "2025-04-14T16:42:59.622Z"
   },
   {
    "duration": 374,
    "start_time": "2025-04-14T16:42:59.977Z"
   },
   {
    "duration": 123,
    "start_time": "2025-04-14T16:43:00.352Z"
   },
   {
    "duration": 444,
    "start_time": "2025-04-14T16:43:00.477Z"
   },
   {
    "duration": 147,
    "start_time": "2025-04-14T16:43:00.923Z"
   },
   {
    "duration": 171,
    "start_time": "2025-04-14T16:43:01.072Z"
   },
   {
    "duration": 125,
    "start_time": "2025-04-14T16:43:01.245Z"
   },
   {
    "duration": 200,
    "start_time": "2025-04-14T16:43:01.372Z"
   },
   {
    "duration": 1485,
    "start_time": "2025-04-14T16:43:01.574Z"
   },
   {
    "duration": 186,
    "start_time": "2025-04-14T16:43:03.061Z"
   },
   {
    "duration": 4242,
    "start_time": "2025-04-14T16:43:03.249Z"
   },
   {
    "duration": 481,
    "start_time": "2025-04-14T16:43:07.493Z"
   },
   {
    "duration": 8891,
    "start_time": "2025-04-14T16:44:12.941Z"
   },
   {
    "duration": 92,
    "start_time": "2025-04-14T16:53:11.047Z"
   },
   {
    "duration": 8239,
    "start_time": "2025-04-14T16:54:17.175Z"
   },
   {
    "duration": 5912,
    "start_time": "2025-04-14T16:54:33.530Z"
   },
   {
    "duration": 5742,
    "start_time": "2025-04-14T16:54:55.586Z"
   },
   {
    "duration": 5993,
    "start_time": "2025-04-14T16:55:09.837Z"
   },
   {
    "duration": 5625,
    "start_time": "2025-04-14T16:55:22.814Z"
   },
   {
    "duration": 57,
    "start_time": "2025-04-14T21:20:08.768Z"
   },
   {
    "duration": 15474,
    "start_time": "2025-04-14T21:20:21.804Z"
   },
   {
    "duration": 1129,
    "start_time": "2025-04-14T21:20:37.280Z"
   },
   {
    "duration": 346,
    "start_time": "2025-04-14T21:20:38.411Z"
   },
   {
    "duration": 3,
    "start_time": "2025-04-14T21:20:38.758Z"
   },
   {
    "duration": 34,
    "start_time": "2025-04-14T21:20:38.773Z"
   },
   {
    "duration": 310,
    "start_time": "2025-04-14T21:20:38.809Z"
   },
   {
    "duration": 308,
    "start_time": "2025-04-14T21:20:39.121Z"
   },
   {
    "duration": 3,
    "start_time": "2025-04-14T21:20:39.430Z"
   },
   {
    "duration": 355,
    "start_time": "2025-04-14T21:20:39.435Z"
   },
   {
    "duration": 270,
    "start_time": "2025-04-14T21:20:39.792Z"
   },
   {
    "duration": 274,
    "start_time": "2025-04-14T21:20:40.064Z"
   },
   {
    "duration": 2,
    "start_time": "2025-04-14T21:20:40.340Z"
   },
   {
    "duration": 35,
    "start_time": "2025-04-14T21:20:40.344Z"
   },
   {
    "duration": 151,
    "start_time": "2025-04-14T21:20:40.382Z"
   },
   {
    "duration": 1606,
    "start_time": "2025-04-14T21:20:40.534Z"
   },
   {
    "duration": 166,
    "start_time": "2025-04-14T21:20:42.143Z"
   },
   {
    "duration": 27,
    "start_time": "2025-04-14T21:20:42.310Z"
   },
   {
    "duration": 387,
    "start_time": "2025-04-14T21:20:42.339Z"
   },
   {
    "duration": 389,
    "start_time": "2025-04-14T21:20:42.728Z"
   },
   {
    "duration": 126,
    "start_time": "2025-04-14T21:20:43.118Z"
   },
   {
    "duration": 331,
    "start_time": "2025-04-14T21:20:43.246Z"
   },
   {
    "duration": 138,
    "start_time": "2025-04-14T21:20:43.578Z"
   },
   {
    "duration": 282,
    "start_time": "2025-04-14T21:20:43.718Z"
   },
   {
    "duration": 118,
    "start_time": "2025-04-14T21:20:44.001Z"
   },
   {
    "duration": 189,
    "start_time": "2025-04-14T21:20:44.121Z"
   },
   {
    "duration": 9470,
    "start_time": "2025-04-14T21:24:29.032Z"
   },
   {
    "duration": 1117,
    "start_time": "2025-04-14T21:24:38.504Z"
   },
   {
    "duration": 331,
    "start_time": "2025-04-14T21:24:39.622Z"
   },
   {
    "duration": 3,
    "start_time": "2025-04-14T21:24:39.955Z"
   },
   {
    "duration": 33,
    "start_time": "2025-04-14T21:24:39.959Z"
   },
   {
    "duration": 298,
    "start_time": "2025-04-14T21:24:39.994Z"
   },
   {
    "duration": 308,
    "start_time": "2025-04-14T21:24:40.294Z"
   },
   {
    "duration": 3,
    "start_time": "2025-04-14T21:24:40.603Z"
   },
   {
    "duration": 391,
    "start_time": "2025-04-14T21:24:40.608Z"
   },
   {
    "duration": 283,
    "start_time": "2025-04-14T21:24:41.003Z"
   },
   {
    "duration": 294,
    "start_time": "2025-04-14T21:24:41.288Z"
   },
   {
    "duration": 3,
    "start_time": "2025-04-14T21:24:41.584Z"
   },
   {
    "duration": 26,
    "start_time": "2025-04-14T21:24:41.589Z"
   },
   {
    "duration": 170,
    "start_time": "2025-04-14T21:24:41.619Z"
   },
   {
    "duration": 1679,
    "start_time": "2025-04-14T21:24:41.791Z"
   },
   {
    "duration": 150,
    "start_time": "2025-04-14T21:24:43.473Z"
   },
   {
    "duration": 26,
    "start_time": "2025-04-14T21:24:43.625Z"
   },
   {
    "duration": 365,
    "start_time": "2025-04-14T21:24:43.652Z"
   },
   {
    "duration": 406,
    "start_time": "2025-04-14T21:24:44.019Z"
   },
   {
    "duration": 124,
    "start_time": "2025-04-14T21:24:44.426Z"
   },
   {
    "duration": 328,
    "start_time": "2025-04-14T21:24:44.551Z"
   },
   {
    "duration": 157,
    "start_time": "2025-04-14T21:24:44.881Z"
   },
   {
    "duration": 303,
    "start_time": "2025-04-14T21:24:45.040Z"
   },
   {
    "duration": 129,
    "start_time": "2025-04-14T21:24:45.344Z"
   },
   {
    "duration": 185,
    "start_time": "2025-04-14T21:24:45.475Z"
   },
   {
    "duration": 9386,
    "start_time": "2025-04-14T21:27:12.258Z"
   },
   {
    "duration": 1110,
    "start_time": "2025-04-14T21:27:21.646Z"
   },
   {
    "duration": 325,
    "start_time": "2025-04-14T21:27:22.758Z"
   },
   {
    "duration": 3,
    "start_time": "2025-04-14T21:27:23.084Z"
   },
   {
    "duration": 45,
    "start_time": "2025-04-14T21:27:23.089Z"
   },
   {
    "duration": 301,
    "start_time": "2025-04-14T21:27:23.135Z"
   },
   {
    "duration": 291,
    "start_time": "2025-04-14T21:27:23.438Z"
   },
   {
    "duration": 3,
    "start_time": "2025-04-14T21:27:23.730Z"
   },
   {
    "duration": 407,
    "start_time": "2025-04-14T21:27:23.734Z"
   },
   {
    "duration": 257,
    "start_time": "2025-04-14T21:27:24.143Z"
   },
   {
    "duration": 270,
    "start_time": "2025-04-14T21:27:24.402Z"
   },
   {
    "duration": 2,
    "start_time": "2025-04-14T21:27:24.675Z"
   },
   {
    "duration": 24,
    "start_time": "2025-04-14T21:27:24.679Z"
   },
   {
    "duration": 155,
    "start_time": "2025-04-14T21:27:24.706Z"
   },
   {
    "duration": 1604,
    "start_time": "2025-04-14T21:27:24.871Z"
   },
   {
    "duration": 148,
    "start_time": "2025-04-14T21:27:26.476Z"
   },
   {
    "duration": 3,
    "start_time": "2025-04-14T21:27:26.625Z"
   },
   {
    "duration": 366,
    "start_time": "2025-04-14T21:27:26.630Z"
   },
   {
    "duration": 418,
    "start_time": "2025-04-14T21:27:26.998Z"
   },
   {
    "duration": 128,
    "start_time": "2025-04-14T21:27:27.417Z"
   },
   {
    "duration": 353,
    "start_time": "2025-04-14T21:27:27.546Z"
   },
   {
    "duration": 132,
    "start_time": "2025-04-14T21:27:27.900Z"
   },
   {
    "duration": 313,
    "start_time": "2025-04-14T21:27:28.034Z"
   },
   {
    "duration": 114,
    "start_time": "2025-04-14T21:27:28.349Z"
   },
   {
    "duration": 179,
    "start_time": "2025-04-14T21:27:28.465Z"
   },
   {
    "duration": 25777,
    "start_time": "2025-04-14T21:27:28.646Z"
   },
   {
    "duration": 0,
    "start_time": "2025-04-14T21:27:54.424Z"
   },
   {
    "duration": 0,
    "start_time": "2025-04-14T21:27:54.426Z"
   },
   {
    "duration": 0,
    "start_time": "2025-04-14T21:27:54.427Z"
   },
   {
    "duration": 0,
    "start_time": "2025-04-14T21:27:54.428Z"
   },
   {
    "duration": 0,
    "start_time": "2025-04-14T21:27:54.429Z"
   },
   {
    "duration": 18,
    "start_time": "2025-04-14T21:29:34.484Z"
   },
   {
    "duration": 5571,
    "start_time": "2025-04-14T21:29:40.232Z"
   },
   {
    "duration": 24,
    "start_time": "2025-04-14T21:29:56.421Z"
   },
   {
    "duration": 4427,
    "start_time": "2025-04-14T21:29:59.286Z"
   },
   {
    "duration": 75,
    "start_time": "2025-04-14T21:38:13.482Z"
   },
   {
    "duration": 8220,
    "start_time": "2025-04-14T21:43:04.987Z"
   },
   {
    "duration": 55,
    "start_time": "2025-04-14T21:46:59.970Z"
   },
   {
    "duration": 215,
    "start_time": "2025-04-14T21:47:13.353Z"
   },
   {
    "duration": 90,
    "start_time": "2025-04-14T21:47:29.401Z"
   },
   {
    "duration": 76,
    "start_time": "2025-04-14T21:49:27.021Z"
   },
   {
    "duration": 4,
    "start_time": "2025-04-14T21:49:28.723Z"
   },
   {
    "duration": 9327,
    "start_time": "2025-04-14T21:51:37.764Z"
   },
   {
    "duration": 19,
    "start_time": "2025-04-14T21:55:23.098Z"
   },
   {
    "duration": 8326,
    "start_time": "2025-04-14T21:56:04.460Z"
   },
   {
    "duration": 5,
    "start_time": "2025-04-14T21:56:23.581Z"
   },
   {
    "duration": 21,
    "start_time": "2025-04-14T21:59:58.689Z"
   },
   {
    "duration": 9538,
    "start_time": "2025-04-14T22:03:36.362Z"
   },
   {
    "duration": 24,
    "start_time": "2025-04-14T22:04:30.015Z"
   },
   {
    "duration": 9422,
    "start_time": "2025-04-14T22:05:10.178Z"
   },
   {
    "duration": 8838,
    "start_time": "2025-04-14T22:06:30.309Z"
   },
   {
    "duration": 7,
    "start_time": "2025-04-14T22:06:58.132Z"
   },
   {
    "duration": 9482,
    "start_time": "2025-04-14T22:07:06.923Z"
   },
   {
    "duration": 16,
    "start_time": "2025-04-14T22:10:45.507Z"
   },
   {
    "duration": 9762,
    "start_time": "2025-04-14T22:11:30.344Z"
   },
   {
    "duration": 6,
    "start_time": "2025-04-14T22:11:46.211Z"
   },
   {
    "duration": 54,
    "start_time": "2025-04-14T22:11:53.088Z"
   },
   {
    "duration": 6,
    "start_time": "2025-04-14T22:12:37.373Z"
   },
   {
    "duration": 9653,
    "start_time": "2025-04-14T22:12:42.360Z"
   },
   {
    "duration": 7,
    "start_time": "2025-04-14T22:16:23.429Z"
   },
   {
    "duration": 9712,
    "start_time": "2025-04-14T22:16:29.441Z"
   },
   {
    "duration": 6,
    "start_time": "2025-04-14T22:17:24.716Z"
   },
   {
    "duration": 9201,
    "start_time": "2025-04-14T22:17:29.964Z"
   },
   {
    "duration": 83,
    "start_time": "2025-04-14T22:17:55.686Z"
   },
   {
    "duration": 20,
    "start_time": "2025-04-14T22:18:06.810Z"
   },
   {
    "duration": 93,
    "start_time": "2025-04-14T22:18:21.801Z"
   },
   {
    "duration": 5,
    "start_time": "2025-04-14T22:18:24.076Z"
   },
   {
    "duration": 23737,
    "start_time": "2025-04-14T22:18:30.306Z"
   },
   {
    "duration": 9967,
    "start_time": "2025-04-14T22:20:00.787Z"
   },
   {
    "duration": 1294,
    "start_time": "2025-04-14T22:20:10.756Z"
   },
   {
    "duration": 390,
    "start_time": "2025-04-14T22:20:12.052Z"
   },
   {
    "duration": 3,
    "start_time": "2025-04-14T22:20:12.444Z"
   },
   {
    "duration": 47,
    "start_time": "2025-04-14T22:20:12.449Z"
   },
   {
    "duration": 337,
    "start_time": "2025-04-14T22:20:12.498Z"
   },
   {
    "duration": 341,
    "start_time": "2025-04-14T22:20:12.837Z"
   },
   {
    "duration": 2,
    "start_time": "2025-04-14T22:20:13.180Z"
   },
   {
    "duration": 308,
    "start_time": "2025-04-14T22:20:13.184Z"
   },
   {
    "duration": 298,
    "start_time": "2025-04-14T22:20:13.496Z"
   },
   {
    "duration": 401,
    "start_time": "2025-04-14T22:20:13.796Z"
   },
   {
    "duration": 3,
    "start_time": "2025-04-14T22:20:14.199Z"
   },
   {
    "duration": 26,
    "start_time": "2025-04-14T22:20:14.204Z"
   },
   {
    "duration": 181,
    "start_time": "2025-04-14T22:20:14.232Z"
   },
   {
    "duration": 1817,
    "start_time": "2025-04-14T22:20:14.416Z"
   },
   {
    "duration": 180,
    "start_time": "2025-04-14T22:20:16.236Z"
   },
   {
    "duration": 52,
    "start_time": "2025-04-14T22:20:16.418Z"
   },
   {
    "duration": 402,
    "start_time": "2025-04-14T22:20:16.473Z"
   },
   {
    "duration": 423,
    "start_time": "2025-04-14T22:20:16.877Z"
   },
   {
    "duration": 140,
    "start_time": "2025-04-14T22:20:17.302Z"
   },
   {
    "duration": 365,
    "start_time": "2025-04-14T22:20:17.444Z"
   },
   {
    "duration": 154,
    "start_time": "2025-04-14T22:20:17.811Z"
   },
   {
    "duration": 198,
    "start_time": "2025-04-14T22:20:17.967Z"
   },
   {
    "duration": 137,
    "start_time": "2025-04-14T22:20:18.172Z"
   },
   {
    "duration": 340,
    "start_time": "2025-04-14T22:20:18.311Z"
   },
   {
    "duration": 6585,
    "start_time": "2025-04-14T22:20:18.654Z"
   },
   {
    "duration": 21,
    "start_time": "2025-04-14T22:20:25.242Z"
   },
   {
    "duration": 84,
    "start_time": "2025-04-14T22:20:25.267Z"
   },
   {
    "duration": 6,
    "start_time": "2025-04-14T22:20:25.353Z"
   },
   {
    "duration": 80949,
    "start_time": "2025-04-14T22:20:25.360Z"
   },
   {
    "duration": 0,
    "start_time": "2025-04-14T22:21:46.311Z"
   },
   {
    "duration": 0,
    "start_time": "2025-04-14T22:21:46.312Z"
   },
   {
    "duration": 0,
    "start_time": "2025-04-14T22:21:46.313Z"
   },
   {
    "duration": 0,
    "start_time": "2025-04-14T22:21:46.314Z"
   },
   {
    "duration": 5,
    "start_time": "2025-04-14T22:21:47.044Z"
   },
   {
    "duration": 54,
    "start_time": "2025-04-14T22:22:16.419Z"
   },
   {
    "duration": 10918,
    "start_time": "2025-04-14T22:22:22.105Z"
   },
   {
    "duration": 1167,
    "start_time": "2025-04-14T22:22:33.025Z"
   },
   {
    "duration": 344,
    "start_time": "2025-04-14T22:22:34.194Z"
   },
   {
    "duration": 3,
    "start_time": "2025-04-14T22:22:34.540Z"
   },
   {
    "duration": 44,
    "start_time": "2025-04-14T22:22:34.546Z"
   },
   {
    "duration": 308,
    "start_time": "2025-04-14T22:22:34.592Z"
   },
   {
    "duration": 322,
    "start_time": "2025-04-14T22:22:34.902Z"
   },
   {
    "duration": 4,
    "start_time": "2025-04-14T22:22:35.226Z"
   },
   {
    "duration": 308,
    "start_time": "2025-04-14T22:22:35.231Z"
   },
   {
    "duration": 285,
    "start_time": "2025-04-14T22:22:35.541Z"
   },
   {
    "duration": 400,
    "start_time": "2025-04-14T22:22:35.828Z"
   },
   {
    "duration": 4,
    "start_time": "2025-04-14T22:22:36.230Z"
   },
   {
    "duration": 38,
    "start_time": "2025-04-14T22:22:36.236Z"
   },
   {
    "duration": 195,
    "start_time": "2025-04-14T22:22:36.278Z"
   },
   {
    "duration": 1661,
    "start_time": "2025-04-14T22:22:36.475Z"
   },
   {
    "duration": 161,
    "start_time": "2025-04-14T22:22:38.137Z"
   },
   {
    "duration": 40,
    "start_time": "2025-04-14T22:22:38.300Z"
   },
   {
    "duration": 376,
    "start_time": "2025-04-14T22:22:38.342Z"
   },
   {
    "duration": 435,
    "start_time": "2025-04-14T22:22:38.720Z"
   },
   {
    "duration": 129,
    "start_time": "2025-04-14T22:22:39.157Z"
   },
   {
    "duration": 340,
    "start_time": "2025-04-14T22:22:39.288Z"
   },
   {
    "duration": 141,
    "start_time": "2025-04-14T22:22:39.630Z"
   },
   {
    "duration": 179,
    "start_time": "2025-04-14T22:22:39.772Z"
   },
   {
    "duration": 124,
    "start_time": "2025-04-14T22:22:39.953Z"
   },
   {
    "duration": 303,
    "start_time": "2025-04-14T22:22:40.079Z"
   },
   {
    "duration": 6039,
    "start_time": "2025-04-14T22:22:40.384Z"
   },
   {
    "duration": 19,
    "start_time": "2025-04-14T22:22:46.425Z"
   },
   {
    "duration": 78,
    "start_time": "2025-04-14T22:22:46.446Z"
   },
   {
    "duration": 6,
    "start_time": "2025-04-14T22:22:46.526Z"
   },
   {
    "duration": 436639,
    "start_time": "2025-04-14T22:22:46.534Z"
   },
   {
    "duration": 0,
    "start_time": "2025-04-14T22:30:03.175Z"
   },
   {
    "duration": 0,
    "start_time": "2025-04-14T22:30:03.177Z"
   },
   {
    "duration": 0,
    "start_time": "2025-04-14T22:30:03.178Z"
   },
   {
    "duration": 180,
    "start_time": "2025-04-14T22:30:08.457Z"
   },
   {
    "duration": 18,
    "start_time": "2025-04-14T22:30:16.119Z"
   },
   {
    "duration": 38,
    "start_time": "2025-04-14T22:31:11.513Z"
   },
   {
    "duration": 108,
    "start_time": "2025-04-14T22:31:25.840Z"
   },
   {
    "duration": 133,
    "start_time": "2025-04-14T22:31:44.317Z"
   },
   {
    "duration": 8716,
    "start_time": "2025-04-14T22:32:00.115Z"
   },
   {
    "duration": 1137,
    "start_time": "2025-04-14T22:32:08.834Z"
   },
   {
    "duration": 347,
    "start_time": "2025-04-14T22:32:09.973Z"
   },
   {
    "duration": 3,
    "start_time": "2025-04-14T22:32:10.322Z"
   },
   {
    "duration": 28,
    "start_time": "2025-04-14T22:32:10.327Z"
   },
   {
    "duration": 273,
    "start_time": "2025-04-14T22:32:10.371Z"
   },
   {
    "duration": 329,
    "start_time": "2025-04-14T22:32:10.646Z"
   },
   {
    "duration": 3,
    "start_time": "2025-04-14T22:32:10.977Z"
   },
   {
    "duration": 272,
    "start_time": "2025-04-14T22:32:10.981Z"
   },
   {
    "duration": 265,
    "start_time": "2025-04-14T22:32:11.256Z"
   },
   {
    "duration": 293,
    "start_time": "2025-04-14T22:32:11.522Z"
   },
   {
    "duration": 3,
    "start_time": "2025-04-14T22:32:11.816Z"
   },
   {
    "duration": 25,
    "start_time": "2025-04-14T22:32:11.821Z"
   },
   {
    "duration": 163,
    "start_time": "2025-04-14T22:32:11.848Z"
   },
   {
    "duration": 1405,
    "start_time": "2025-04-14T22:32:12.013Z"
   },
   {
    "duration": 140,
    "start_time": "2025-04-14T22:32:13.420Z"
   },
   {
    "duration": 26,
    "start_time": "2025-04-14T22:32:13.570Z"
   },
   {
    "duration": 378,
    "start_time": "2025-04-14T22:32:13.598Z"
   },
   {
    "duration": 388,
    "start_time": "2025-04-14T22:32:13.978Z"
   },
   {
    "duration": 125,
    "start_time": "2025-04-14T22:32:14.371Z"
   },
   {
    "duration": 463,
    "start_time": "2025-04-14T22:32:14.498Z"
   },
   {
    "duration": 144,
    "start_time": "2025-04-14T22:32:14.963Z"
   },
   {
    "duration": 180,
    "start_time": "2025-04-14T22:32:15.109Z"
   },
   {
    "duration": 126,
    "start_time": "2025-04-14T22:32:15.290Z"
   },
   {
    "duration": 196,
    "start_time": "2025-04-14T22:32:15.418Z"
   },
   {
    "duration": 6121,
    "start_time": "2025-04-14T22:32:15.616Z"
   },
   {
    "duration": 19,
    "start_time": "2025-04-14T22:32:21.740Z"
   },
   {
    "duration": 89,
    "start_time": "2025-04-14T22:33:32.693Z"
   },
   {
    "duration": 6,
    "start_time": "2025-04-14T22:33:34.310Z"
   },
   {
    "duration": 150,
    "start_time": "2025-04-14T22:33:41.986Z"
   },
   {
    "duration": 81,
    "start_time": "2025-04-14T22:39:37.186Z"
   },
   {
    "duration": 5,
    "start_time": "2025-04-14T22:39:44.465Z"
   },
   {
    "duration": 107418,
    "start_time": "2025-04-14T22:39:51.558Z"
   },
   {
    "duration": 0,
    "start_time": "2025-04-14T22:41:38.979Z"
   },
   {
    "duration": 11154,
    "start_time": "2025-04-14T22:41:56.732Z"
   },
   {
    "duration": 1319,
    "start_time": "2025-04-14T22:42:07.889Z"
   },
   {
    "duration": 387,
    "start_time": "2025-04-14T22:42:09.210Z"
   },
   {
    "duration": 3,
    "start_time": "2025-04-14T22:42:09.599Z"
   },
   {
    "duration": 37,
    "start_time": "2025-04-14T22:42:09.604Z"
   },
   {
    "duration": 337,
    "start_time": "2025-04-14T22:42:09.643Z"
   },
   {
    "duration": 344,
    "start_time": "2025-04-14T22:42:09.982Z"
   },
   {
    "duration": 2,
    "start_time": "2025-04-14T22:42:10.328Z"
   },
   {
    "duration": 313,
    "start_time": "2025-04-14T22:42:10.332Z"
   },
   {
    "duration": 308,
    "start_time": "2025-04-14T22:42:10.647Z"
   },
   {
    "duration": 401,
    "start_time": "2025-04-14T22:42:10.957Z"
   },
   {
    "duration": 11,
    "start_time": "2025-04-14T22:42:11.360Z"
   },
   {
    "duration": 26,
    "start_time": "2025-04-14T22:42:11.373Z"
   },
   {
    "duration": 172,
    "start_time": "2025-04-14T22:42:11.403Z"
   },
   {
    "duration": 1806,
    "start_time": "2025-04-14T22:42:11.576Z"
   },
   {
    "duration": 170,
    "start_time": "2025-04-14T22:42:13.384Z"
   },
   {
    "duration": 51,
    "start_time": "2025-04-14T22:42:13.556Z"
   },
   {
    "duration": 394,
    "start_time": "2025-04-14T22:42:13.609Z"
   },
   {
    "duration": 421,
    "start_time": "2025-04-14T22:42:14.005Z"
   },
   {
    "duration": 140,
    "start_time": "2025-04-14T22:42:14.428Z"
   },
   {
    "duration": 361,
    "start_time": "2025-04-14T22:42:14.571Z"
   },
   {
    "duration": 151,
    "start_time": "2025-04-14T22:42:14.934Z"
   },
   {
    "duration": 224,
    "start_time": "2025-04-14T22:42:15.087Z"
   },
   {
    "duration": 137,
    "start_time": "2025-04-14T22:42:15.313Z"
   },
   {
    "duration": 334,
    "start_time": "2025-04-14T22:42:15.452Z"
   },
   {
    "duration": 6507,
    "start_time": "2025-04-14T22:42:15.788Z"
   },
   {
    "duration": 28,
    "start_time": "2025-04-14T22:42:22.297Z"
   },
   {
    "duration": 97,
    "start_time": "2025-04-14T22:42:22.328Z"
   },
   {
    "duration": 5,
    "start_time": "2025-04-14T22:42:22.427Z"
   },
   {
    "duration": 97839,
    "start_time": "2025-04-14T22:42:22.435Z"
   },
   {
    "duration": 0,
    "start_time": "2025-04-14T22:44:00.276Z"
   },
   {
    "duration": 0,
    "start_time": "2025-04-14T22:44:00.278Z"
   },
   {
    "duration": 0,
    "start_time": "2025-04-14T22:44:00.279Z"
   },
   {
    "duration": 50,
    "start_time": "2025-04-14T22:44:10.000Z"
   },
   {
    "duration": 10649,
    "start_time": "2025-04-14T22:44:13.225Z"
   },
   {
    "duration": 1173,
    "start_time": "2025-04-14T22:44:23.876Z"
   },
   {
    "duration": 359,
    "start_time": "2025-04-14T22:44:25.051Z"
   },
   {
    "duration": 3,
    "start_time": "2025-04-14T22:44:25.413Z"
   },
   {
    "duration": 25,
    "start_time": "2025-04-14T22:44:25.418Z"
   },
   {
    "duration": 310,
    "start_time": "2025-04-14T22:44:25.445Z"
   },
   {
    "duration": 329,
    "start_time": "2025-04-14T22:44:25.757Z"
   },
   {
    "duration": 3,
    "start_time": "2025-04-14T22:44:26.088Z"
   },
   {
    "duration": 326,
    "start_time": "2025-04-14T22:44:26.093Z"
   },
   {
    "duration": 283,
    "start_time": "2025-04-14T22:44:26.421Z"
   },
   {
    "duration": 372,
    "start_time": "2025-04-14T22:44:26.706Z"
   },
   {
    "duration": 3,
    "start_time": "2025-04-14T22:44:27.080Z"
   },
   {
    "duration": 26,
    "start_time": "2025-04-14T22:44:27.084Z"
   },
   {
    "duration": 170,
    "start_time": "2025-04-14T22:44:27.113Z"
   },
   {
    "duration": 1734,
    "start_time": "2025-04-14T22:44:27.285Z"
   },
   {
    "duration": 163,
    "start_time": "2025-04-14T22:44:29.021Z"
   },
   {
    "duration": 43,
    "start_time": "2025-04-14T22:44:29.186Z"
   },
   {
    "duration": 385,
    "start_time": "2025-04-14T22:44:29.231Z"
   },
   {
    "duration": 398,
    "start_time": "2025-04-14T22:44:29.618Z"
   },
   {
    "duration": 127,
    "start_time": "2025-04-14T22:44:30.017Z"
   },
   {
    "duration": 339,
    "start_time": "2025-04-14T22:44:30.146Z"
   },
   {
    "duration": 147,
    "start_time": "2025-04-14T22:44:30.487Z"
   },
   {
    "duration": 179,
    "start_time": "2025-04-14T22:44:30.636Z"
   },
   {
    "duration": 124,
    "start_time": "2025-04-14T22:44:30.816Z"
   },
   {
    "duration": 298,
    "start_time": "2025-04-14T22:44:30.942Z"
   },
   {
    "duration": 5901,
    "start_time": "2025-04-14T22:44:31.242Z"
   },
   {
    "duration": 25,
    "start_time": "2025-04-14T22:44:37.145Z"
   },
   {
    "duration": 73,
    "start_time": "2025-04-14T22:44:37.172Z"
   },
   {
    "duration": 5,
    "start_time": "2025-04-14T22:44:37.247Z"
   },
   {
    "duration": 63693,
    "start_time": "2025-04-14T22:44:37.254Z"
   },
   {
    "duration": 0,
    "start_time": "2025-04-14T22:45:40.949Z"
   },
   {
    "duration": 0,
    "start_time": "2025-04-14T22:45:40.951Z"
   },
   {
    "duration": 0,
    "start_time": "2025-04-14T22:45:40.952Z"
   },
   {
    "duration": 5,
    "start_time": "2025-04-14T22:45:45.562Z"
   },
   {
    "duration": 141,
    "start_time": "2025-04-14T22:47:01.273Z"
   },
   {
    "duration": 9,
    "start_time": "2025-04-14T22:47:45.987Z"
   },
   {
    "duration": 10158,
    "start_time": "2025-04-14T22:48:07.826Z"
   },
   {
    "duration": 1163,
    "start_time": "2025-04-14T22:48:17.986Z"
   },
   {
    "duration": 342,
    "start_time": "2025-04-14T22:48:19.151Z"
   },
   {
    "duration": 3,
    "start_time": "2025-04-14T22:48:19.495Z"
   },
   {
    "duration": 30,
    "start_time": "2025-04-14T22:48:19.500Z"
   },
   {
    "duration": 318,
    "start_time": "2025-04-14T22:48:19.532Z"
   },
   {
    "duration": 327,
    "start_time": "2025-04-14T22:48:19.852Z"
   },
   {
    "duration": 2,
    "start_time": "2025-04-14T22:48:20.181Z"
   },
   {
    "duration": 315,
    "start_time": "2025-04-14T22:48:20.185Z"
   },
   {
    "duration": 287,
    "start_time": "2025-04-14T22:48:20.502Z"
   },
   {
    "duration": 375,
    "start_time": "2025-04-14T22:48:20.791Z"
   },
   {
    "duration": 3,
    "start_time": "2025-04-14T22:48:21.169Z"
   },
   {
    "duration": 26,
    "start_time": "2025-04-14T22:48:21.174Z"
   },
   {
    "duration": 171,
    "start_time": "2025-04-14T22:48:21.203Z"
   },
   {
    "duration": 1640,
    "start_time": "2025-04-14T22:48:21.376Z"
   },
   {
    "duration": 178,
    "start_time": "2025-04-14T22:48:23.018Z"
   },
   {
    "duration": 44,
    "start_time": "2025-04-14T22:48:23.197Z"
   },
   {
    "duration": 375,
    "start_time": "2025-04-14T22:48:23.243Z"
   },
   {
    "duration": 386,
    "start_time": "2025-04-14T22:48:23.620Z"
   },
   {
    "duration": 123,
    "start_time": "2025-04-14T22:48:24.008Z"
   },
   {
    "duration": 340,
    "start_time": "2025-04-14T22:48:24.133Z"
   },
   {
    "duration": 145,
    "start_time": "2025-04-14T22:48:24.475Z"
   },
   {
    "duration": 192,
    "start_time": "2025-04-14T22:48:24.622Z"
   },
   {
    "duration": 135,
    "start_time": "2025-04-14T22:48:24.816Z"
   },
   {
    "duration": 337,
    "start_time": "2025-04-14T22:48:24.954Z"
   },
   {
    "duration": 5998,
    "start_time": "2025-04-14T22:48:25.293Z"
   },
   {
    "duration": 20,
    "start_time": "2025-04-14T22:48:31.293Z"
   },
   {
    "duration": 83,
    "start_time": "2025-04-14T22:48:31.316Z"
   },
   {
    "duration": 7,
    "start_time": "2025-04-14T22:48:31.401Z"
   },
   {
    "duration": 299112,
    "start_time": "2025-04-14T22:48:31.410Z"
   },
   {
    "duration": 0,
    "start_time": "2025-04-14T22:53:30.524Z"
   },
   {
    "duration": 0,
    "start_time": "2025-04-14T22:53:30.526Z"
   },
   {
    "duration": 0,
    "start_time": "2025-04-14T22:53:30.527Z"
   },
   {
    "duration": 99,
    "start_time": "2025-04-14T22:53:35.217Z"
   },
   {
    "duration": 107,
    "start_time": "2025-04-14T22:53:44.240Z"
   },
   {
    "duration": 96,
    "start_time": "2025-04-14T22:54:00.146Z"
   },
   {
    "duration": 163,
    "start_time": "2025-04-14T22:54:02.934Z"
   },
   {
    "duration": 45,
    "start_time": "2025-04-14T22:55:56.398Z"
   },
   {
    "duration": 131,
    "start_time": "2025-04-14T22:56:04.903Z"
   },
   {
    "duration": 105,
    "start_time": "2025-04-14T22:56:16.041Z"
   },
   {
    "duration": 111,
    "start_time": "2025-04-14T22:58:18.295Z"
   },
   {
    "duration": 200,
    "start_time": "2025-04-14T22:59:05.023Z"
   },
   {
    "duration": 9179,
    "start_time": "2025-04-14T23:00:59.079Z"
   },
   {
    "duration": 12293,
    "start_time": "2025-04-14T23:01:14.123Z"
   },
   {
    "duration": 6777,
    "start_time": "2025-04-14T23:01:55.865Z"
   },
   {
    "duration": 687,
    "start_time": "2025-04-14T23:03:09.738Z"
   },
   {
    "duration": 5,
    "start_time": "2025-04-14T23:04:11.009Z"
   },
   {
    "duration": 725,
    "start_time": "2025-04-14T23:04:17.415Z"
   },
   {
    "duration": 13766,
    "start_time": "2025-04-14T23:06:47.242Z"
   },
   {
    "duration": 1282,
    "start_time": "2025-04-14T23:07:01.011Z"
   },
   {
    "duration": 357,
    "start_time": "2025-04-14T23:07:02.295Z"
   },
   {
    "duration": 3,
    "start_time": "2025-04-14T23:07:02.653Z"
   },
   {
    "duration": 35,
    "start_time": "2025-04-14T23:07:02.659Z"
   },
   {
    "duration": 311,
    "start_time": "2025-04-14T23:07:02.696Z"
   },
   {
    "duration": 337,
    "start_time": "2025-04-14T23:07:03.009Z"
   },
   {
    "duration": 3,
    "start_time": "2025-04-14T23:07:03.347Z"
   },
   {
    "duration": 384,
    "start_time": "2025-04-14T23:07:03.352Z"
   },
   {
    "duration": 294,
    "start_time": "2025-04-14T23:07:03.738Z"
   },
   {
    "duration": 309,
    "start_time": "2025-04-14T23:07:04.034Z"
   },
   {
    "duration": 3,
    "start_time": "2025-04-14T23:07:04.345Z"
   },
   {
    "duration": 41,
    "start_time": "2025-04-14T23:07:04.350Z"
   },
   {
    "duration": 177,
    "start_time": "2025-04-14T23:07:04.394Z"
   },
   {
    "duration": 1757,
    "start_time": "2025-04-14T23:07:04.573Z"
   },
   {
    "duration": 172,
    "start_time": "2025-04-14T23:07:06.332Z"
   },
   {
    "duration": 42,
    "start_time": "2025-04-14T23:07:06.506Z"
   },
   {
    "duration": 395,
    "start_time": "2025-04-14T23:07:06.550Z"
   },
   {
    "duration": 424,
    "start_time": "2025-04-14T23:07:06.947Z"
   },
   {
    "duration": 142,
    "start_time": "2025-04-14T23:07:07.374Z"
   },
   {
    "duration": 352,
    "start_time": "2025-04-14T23:07:07.517Z"
   },
   {
    "duration": 157,
    "start_time": "2025-04-14T23:07:07.871Z"
   },
   {
    "duration": 335,
    "start_time": "2025-04-14T23:07:08.030Z"
   },
   {
    "duration": 131,
    "start_time": "2025-04-14T23:07:08.370Z"
   },
   {
    "duration": 212,
    "start_time": "2025-04-14T23:07:08.502Z"
   },
   {
    "duration": 6539,
    "start_time": "2025-04-14T23:07:08.716Z"
   },
   {
    "duration": 26,
    "start_time": "2025-04-14T23:07:15.258Z"
   },
   {
    "duration": 101,
    "start_time": "2025-04-14T23:07:15.286Z"
   },
   {
    "duration": 6,
    "start_time": "2025-04-14T23:07:15.389Z"
   },
   {
    "duration": 788,
    "start_time": "2025-04-14T23:07:15.397Z"
   },
   {
    "duration": 14899,
    "start_time": "2025-04-14T23:07:16.187Z"
   },
   {
    "duration": 0,
    "start_time": "2025-04-14T23:07:31.088Z"
   },
   {
    "duration": 0,
    "start_time": "2025-04-14T23:07:31.090Z"
   },
   {
    "duration": 0,
    "start_time": "2025-04-14T23:07:31.091Z"
   },
   {
    "duration": 9559,
    "start_time": "2025-04-14T23:07:32.315Z"
   },
   {
    "duration": 12209,
    "start_time": "2025-04-14T23:08:57.941Z"
   },
   {
    "duration": 48325,
    "start_time": "2025-04-14T23:12:48.527Z"
   },
   {
    "duration": 49334,
    "start_time": "2025-04-14T23:15:32.407Z"
   },
   {
    "duration": 10502,
    "start_time": "2025-04-14T23:16:57.051Z"
   },
   {
    "duration": 48726,
    "start_time": "2025-04-14T23:17:24.644Z"
   },
   {
    "duration": 82,
    "start_time": "2025-04-14T23:18:29.078Z"
   },
   {
    "duration": 81,
    "start_time": "2025-04-14T23:18:32.634Z"
   },
   {
    "duration": 99,
    "start_time": "2025-04-14T23:20:26.222Z"
   },
   {
    "duration": 77,
    "start_time": "2025-04-14T23:20:33.177Z"
   },
   {
    "duration": 49208,
    "start_time": "2025-04-14T23:20:38.429Z"
   },
   {
    "duration": 14190,
    "start_time": "2025-04-14T23:22:29.009Z"
   },
   {
    "duration": 1247,
    "start_time": "2025-04-14T23:22:43.201Z"
   },
   {
    "duration": 374,
    "start_time": "2025-04-14T23:22:44.450Z"
   },
   {
    "duration": 3,
    "start_time": "2025-04-14T23:22:44.826Z"
   },
   {
    "duration": 47,
    "start_time": "2025-04-14T23:22:44.830Z"
   },
   {
    "duration": 331,
    "start_time": "2025-04-14T23:22:44.879Z"
   },
   {
    "duration": 346,
    "start_time": "2025-04-14T23:22:45.212Z"
   },
   {
    "duration": 11,
    "start_time": "2025-04-14T23:22:45.561Z"
   },
   {
    "duration": 396,
    "start_time": "2025-04-14T23:22:45.574Z"
   },
   {
    "duration": 299,
    "start_time": "2025-04-14T23:22:45.974Z"
   },
   {
    "duration": 302,
    "start_time": "2025-04-14T23:22:46.275Z"
   },
   {
    "duration": 3,
    "start_time": "2025-04-14T23:22:46.579Z"
   },
   {
    "duration": 29,
    "start_time": "2025-04-14T23:22:46.583Z"
   },
   {
    "duration": 168,
    "start_time": "2025-04-14T23:22:46.614Z"
   },
   {
    "duration": 1719,
    "start_time": "2025-04-14T23:22:46.784Z"
   },
   {
    "duration": 160,
    "start_time": "2025-04-14T23:22:48.505Z"
   },
   {
    "duration": 42,
    "start_time": "2025-04-14T23:22:48.672Z"
   },
   {
    "duration": 411,
    "start_time": "2025-04-14T23:22:48.716Z"
   },
   {
    "duration": 419,
    "start_time": "2025-04-14T23:22:49.129Z"
   },
   {
    "duration": 132,
    "start_time": "2025-04-14T23:22:49.550Z"
   },
   {
    "duration": 361,
    "start_time": "2025-04-14T23:22:49.684Z"
   },
   {
    "duration": 151,
    "start_time": "2025-04-14T23:22:50.048Z"
   },
   {
    "duration": 321,
    "start_time": "2025-04-14T23:22:50.201Z"
   },
   {
    "duration": 134,
    "start_time": "2025-04-14T23:22:50.524Z"
   },
   {
    "duration": 211,
    "start_time": "2025-04-14T23:22:50.660Z"
   },
   {
    "duration": 6202,
    "start_time": "2025-04-14T23:22:50.873Z"
   },
   {
    "duration": 19,
    "start_time": "2025-04-14T23:22:57.077Z"
   },
   {
    "duration": 96,
    "start_time": "2025-04-14T23:22:57.099Z"
   },
   {
    "duration": 5,
    "start_time": "2025-04-14T23:22:57.196Z"
   },
   {
    "duration": 0,
    "start_time": "2025-04-14T23:27:14.292Z"
   },
   {
    "duration": 0,
    "start_time": "2025-04-14T23:27:14.294Z"
   },
   {
    "duration": 0,
    "start_time": "2025-04-14T23:27:14.295Z"
   },
   {
    "duration": 0,
    "start_time": "2025-04-14T23:27:14.296Z"
   },
   {
    "duration": 0,
    "start_time": "2025-04-14T23:27:14.297Z"
   },
   {
    "duration": 5,
    "start_time": "2025-04-14T23:27:17.649Z"
   },
   {
    "duration": 55,
    "start_time": "2025-04-14T23:27:31.096Z"
   },
   {
    "duration": 12316,
    "start_time": "2025-04-14T23:29:50.943Z"
   },
   {
    "duration": 1088,
    "start_time": "2025-04-14T23:30:03.261Z"
   },
   {
    "duration": 324,
    "start_time": "2025-04-14T23:30:04.351Z"
   },
   {
    "duration": 2,
    "start_time": "2025-04-14T23:30:04.677Z"
   },
   {
    "duration": 35,
    "start_time": "2025-04-14T23:30:04.682Z"
   },
   {
    "duration": 291,
    "start_time": "2025-04-14T23:30:04.719Z"
   },
   {
    "duration": 307,
    "start_time": "2025-04-14T23:30:05.012Z"
   },
   {
    "duration": 3,
    "start_time": "2025-04-14T23:30:05.320Z"
   },
   {
    "duration": 379,
    "start_time": "2025-04-14T23:30:05.324Z"
   },
   {
    "duration": 258,
    "start_time": "2025-04-14T23:30:05.705Z"
   },
   {
    "duration": 279,
    "start_time": "2025-04-14T23:30:05.965Z"
   },
   {
    "duration": 2,
    "start_time": "2025-04-14T23:30:06.246Z"
   },
   {
    "duration": 36,
    "start_time": "2025-04-14T23:30:06.249Z"
   },
   {
    "duration": 137,
    "start_time": "2025-04-14T23:30:06.288Z"
   },
   {
    "duration": 1554,
    "start_time": "2025-04-14T23:30:06.427Z"
   },
   {
    "duration": 152,
    "start_time": "2025-04-14T23:30:07.983Z"
   },
   {
    "duration": 47,
    "start_time": "2025-04-14T23:30:08.137Z"
   },
   {
    "duration": 337,
    "start_time": "2025-04-14T23:30:08.186Z"
   },
   {
    "duration": 397,
    "start_time": "2025-04-14T23:30:08.524Z"
   },
   {
    "duration": 119,
    "start_time": "2025-04-14T23:30:08.922Z"
   },
   {
    "duration": 316,
    "start_time": "2025-04-14T23:30:09.043Z"
   },
   {
    "duration": 136,
    "start_time": "2025-04-14T23:30:09.361Z"
   },
   {
    "duration": 272,
    "start_time": "2025-04-14T23:30:09.499Z"
   },
   {
    "duration": 113,
    "start_time": "2025-04-14T23:30:09.773Z"
   },
   {
    "duration": 180,
    "start_time": "2025-04-14T23:30:09.887Z"
   },
   {
    "duration": 5456,
    "start_time": "2025-04-14T23:30:10.071Z"
   },
   {
    "duration": 17,
    "start_time": "2025-04-14T23:30:15.530Z"
   },
   {
    "duration": 82,
    "start_time": "2025-04-14T23:30:15.548Z"
   },
   {
    "duration": 4,
    "start_time": "2025-04-14T23:30:15.632Z"
   },
   {
    "duration": 102405,
    "start_time": "2025-04-14T23:30:15.638Z"
   },
   {
    "duration": 0,
    "start_time": "2025-04-14T23:31:58.045Z"
   },
   {
    "duration": 0,
    "start_time": "2025-04-14T23:31:58.047Z"
   },
   {
    "duration": 0,
    "start_time": "2025-04-14T23:31:58.048Z"
   },
   {
    "duration": 0,
    "start_time": "2025-04-14T23:31:58.049Z"
   },
   {
    "duration": 5,
    "start_time": "2025-04-14T23:31:59.233Z"
   },
   {
    "duration": 12480,
    "start_time": "2025-04-14T23:35:40.303Z"
   },
   {
    "duration": 1081,
    "start_time": "2025-04-14T23:35:52.785Z"
   },
   {
    "duration": 327,
    "start_time": "2025-04-14T23:35:53.870Z"
   },
   {
    "duration": 2,
    "start_time": "2025-04-14T23:35:54.199Z"
   },
   {
    "duration": 30,
    "start_time": "2025-04-14T23:35:54.204Z"
   },
   {
    "duration": 301,
    "start_time": "2025-04-14T23:35:54.236Z"
   },
   {
    "duration": 304,
    "start_time": "2025-04-14T23:35:54.539Z"
   },
   {
    "duration": 3,
    "start_time": "2025-04-14T23:35:54.844Z"
   },
   {
    "duration": 375,
    "start_time": "2025-04-14T23:35:54.849Z"
   },
   {
    "duration": 285,
    "start_time": "2025-04-14T23:35:55.226Z"
   },
   {
    "duration": 276,
    "start_time": "2025-04-14T23:35:55.513Z"
   },
   {
    "duration": 3,
    "start_time": "2025-04-14T23:35:55.790Z"
   },
   {
    "duration": 29,
    "start_time": "2025-04-14T23:35:55.795Z"
   },
   {
    "duration": 157,
    "start_time": "2025-04-14T23:35:55.827Z"
   },
   {
    "duration": 1609,
    "start_time": "2025-04-14T23:35:55.986Z"
   },
   {
    "duration": 149,
    "start_time": "2025-04-14T23:35:57.597Z"
   },
   {
    "duration": 47,
    "start_time": "2025-04-14T23:35:57.747Z"
   },
   {
    "duration": 342,
    "start_time": "2025-04-14T23:35:57.796Z"
   },
   {
    "duration": 360,
    "start_time": "2025-04-14T23:35:58.139Z"
   },
   {
    "duration": 118,
    "start_time": "2025-04-14T23:35:58.501Z"
   },
   {
    "duration": 338,
    "start_time": "2025-04-14T23:35:58.621Z"
   },
   {
    "duration": 135,
    "start_time": "2025-04-14T23:35:58.961Z"
   },
   {
    "duration": 282,
    "start_time": "2025-04-14T23:35:59.098Z"
   },
   {
    "duration": 112,
    "start_time": "2025-04-14T23:35:59.382Z"
   },
   {
    "duration": 181,
    "start_time": "2025-04-14T23:35:59.495Z"
   },
   {
    "duration": 5557,
    "start_time": "2025-04-14T23:35:59.678Z"
   },
   {
    "duration": 18,
    "start_time": "2025-04-14T23:36:05.237Z"
   },
   {
    "duration": 81,
    "start_time": "2025-04-14T23:36:05.257Z"
   },
   {
    "duration": 5,
    "start_time": "2025-04-14T23:36:05.340Z"
   },
   {
    "duration": 85001,
    "start_time": "2025-04-14T23:36:05.346Z"
   },
   {
    "duration": 0,
    "start_time": "2025-04-14T23:37:30.349Z"
   },
   {
    "duration": 0,
    "start_time": "2025-04-14T23:37:30.350Z"
   },
   {
    "duration": 0,
    "start_time": "2025-04-14T23:37:30.351Z"
   },
   {
    "duration": 42612,
    "start_time": "2025-04-14T23:37:42.786Z"
   },
   {
    "duration": 12,
    "start_time": "2025-04-14T23:41:07.833Z"
   },
   {
    "duration": 72,
    "start_time": "2025-04-14T23:41:21.124Z"
   },
   {
    "duration": 260,
    "start_time": "2025-04-14T23:41:25.399Z"
   },
   {
    "duration": 359,
    "start_time": "2025-04-14T23:41:38.025Z"
   },
   {
    "duration": 382,
    "start_time": "2025-04-14T23:44:38.670Z"
   },
   {
    "duration": 246,
    "start_time": "2025-04-14T23:46:21.071Z"
   },
   {
    "duration": 244,
    "start_time": "2025-04-14T23:46:26.413Z"
   },
   {
    "duration": 346,
    "start_time": "2025-04-14T23:46:31.268Z"
   },
   {
    "duration": 154,
    "start_time": "2025-04-14T23:46:38.420Z"
   },
   {
    "duration": 86,
    "start_time": "2025-04-14T23:49:48.616Z"
   },
   {
    "duration": 116,
    "start_time": "2025-04-14T23:50:05.929Z"
   },
   {
    "duration": 122,
    "start_time": "2025-04-14T23:50:14.478Z"
   },
   {
    "duration": 115,
    "start_time": "2025-04-14T23:50:23.579Z"
   },
   {
    "duration": 121,
    "start_time": "2025-04-14T23:50:32.157Z"
   },
   {
    "duration": 34,
    "start_time": "2025-04-14T23:50:58.378Z"
   },
   {
    "duration": 34,
    "start_time": "2025-04-14T23:51:38.540Z"
   },
   {
    "duration": 20,
    "start_time": "2025-04-14T23:52:34.213Z"
   },
   {
    "duration": 19,
    "start_time": "2025-04-14T23:52:55.690Z"
   },
   {
    "duration": 11,
    "start_time": "2025-04-14T23:53:03.841Z"
   },
   {
    "duration": 33,
    "start_time": "2025-04-14T23:53:32.762Z"
   },
   {
    "duration": 10355,
    "start_time": "2025-04-14T23:53:44.893Z"
   },
   {
    "duration": 1063,
    "start_time": "2025-04-14T23:53:55.250Z"
   },
   {
    "duration": 308,
    "start_time": "2025-04-14T23:53:56.314Z"
   },
   {
    "duration": 3,
    "start_time": "2025-04-14T23:53:56.624Z"
   },
   {
    "duration": 22,
    "start_time": "2025-04-14T23:53:56.629Z"
   },
   {
    "duration": 254,
    "start_time": "2025-04-14T23:53:56.653Z"
   },
   {
    "duration": 297,
    "start_time": "2025-04-14T23:53:56.909Z"
   },
   {
    "duration": 3,
    "start_time": "2025-04-14T23:53:57.207Z"
   },
   {
    "duration": 250,
    "start_time": "2025-04-14T23:53:57.211Z"
   },
   {
    "duration": 242,
    "start_time": "2025-04-14T23:53:57.463Z"
   },
   {
    "duration": 263,
    "start_time": "2025-04-14T23:53:57.707Z"
   },
   {
    "duration": 3,
    "start_time": "2025-04-14T23:53:57.972Z"
   },
   {
    "duration": 37,
    "start_time": "2025-04-14T23:53:57.976Z"
   },
   {
    "duration": 139,
    "start_time": "2025-04-14T23:53:58.016Z"
   },
   {
    "duration": 1407,
    "start_time": "2025-04-14T23:53:58.157Z"
   },
   {
    "duration": 138,
    "start_time": "2025-04-14T23:53:59.565Z"
   },
   {
    "duration": 27,
    "start_time": "2025-04-14T23:53:59.705Z"
   },
   {
    "duration": 465,
    "start_time": "2025-04-14T23:53:59.734Z"
   },
   {
    "duration": 360,
    "start_time": "2025-04-14T23:54:00.201Z"
   },
   {
    "duration": 114,
    "start_time": "2025-04-14T23:54:00.571Z"
   },
   {
    "duration": 310,
    "start_time": "2025-04-14T23:54:00.688Z"
   },
   {
    "duration": 133,
    "start_time": "2025-04-14T23:54:01.001Z"
   },
   {
    "duration": 173,
    "start_time": "2025-04-14T23:54:01.136Z"
   },
   {
    "duration": 116,
    "start_time": "2025-04-14T23:54:01.312Z"
   },
   {
    "duration": 189,
    "start_time": "2025-04-14T23:54:01.430Z"
   },
   {
    "duration": 5623,
    "start_time": "2025-04-14T23:54:01.621Z"
   },
   {
    "duration": 31,
    "start_time": "2025-04-14T23:54:07.246Z"
   },
   {
    "duration": 83,
    "start_time": "2025-04-14T23:54:07.279Z"
   },
   {
    "duration": 5,
    "start_time": "2025-04-14T23:54:07.371Z"
   },
   {
    "duration": 9233,
    "start_time": "2025-04-14T23:54:07.378Z"
   },
   {
    "duration": 0,
    "start_time": "2025-04-14T23:54:16.613Z"
   },
   {
    "duration": 0,
    "start_time": "2025-04-14T23:54:16.614Z"
   },
   {
    "duration": 0,
    "start_time": "2025-04-14T23:54:16.615Z"
   },
   {
    "duration": 0,
    "start_time": "2025-04-14T23:54:16.616Z"
   },
   {
    "duration": 0,
    "start_time": "2025-04-14T23:54:16.617Z"
   },
   {
    "duration": 104,
    "start_time": "2025-04-14T23:54:19.417Z"
   },
   {
    "duration": 42395,
    "start_time": "2025-04-14T23:54:23.592Z"
   },
   {
    "duration": 70,
    "start_time": "2025-04-14T23:55:10.433Z"
   },
   {
    "duration": 155,
    "start_time": "2025-04-14T23:55:13.199Z"
   },
   {
    "duration": 115,
    "start_time": "2025-04-14T23:55:14.020Z"
   },
   {
    "duration": 127,
    "start_time": "2025-04-14T23:55:22.073Z"
   },
   {
    "duration": 120,
    "start_time": "2025-04-14T23:55:37.062Z"
   },
   {
    "duration": 116,
    "start_time": "2025-04-14T23:55:45.734Z"
   },
   {
    "duration": 125,
    "start_time": "2025-04-14T23:56:41.959Z"
   },
   {
    "duration": 122,
    "start_time": "2025-04-14T23:56:54.556Z"
   },
   {
    "duration": 121,
    "start_time": "2025-04-14T23:57:19.951Z"
   },
   {
    "duration": 202,
    "start_time": "2025-04-15T00:00:34.636Z"
   },
   {
    "duration": 69,
    "start_time": "2025-04-15T00:01:11.736Z"
   },
   {
    "duration": 266,
    "start_time": "2025-04-15T00:01:14.602Z"
   },
   {
    "duration": 277,
    "start_time": "2025-04-15T00:01:22.939Z"
   },
   {
    "duration": 270,
    "start_time": "2025-04-15T00:02:02.352Z"
   },
   {
    "duration": 368,
    "start_time": "2025-04-15T00:03:52.787Z"
   },
   {
    "duration": 462,
    "start_time": "2025-04-15T00:07:44.199Z"
   },
   {
    "duration": 450,
    "start_time": "2025-04-15T00:08:21.181Z"
   },
   {
    "duration": 13590,
    "start_time": "2025-04-15T15:12:37.042Z"
   },
   {
    "duration": 199,
    "start_time": "2025-04-15T15:12:50.634Z"
   },
   {
    "duration": 13731,
    "start_time": "2025-04-15T15:13:14.920Z"
   },
   {
    "duration": 1033,
    "start_time": "2025-04-15T15:13:28.653Z"
   },
   {
    "duration": 2885,
    "start_time": "2025-04-15T15:15:24.208Z"
   },
   {
    "duration": 85,
    "start_time": "2025-04-15T15:15:42.156Z"
   },
   {
    "duration": 93,
    "start_time": "2025-04-15T15:16:21.856Z"
   },
   {
    "duration": 13091,
    "start_time": "2025-04-15T15:18:44.868Z"
   },
   {
    "duration": 2833,
    "start_time": "2025-04-15T15:18:57.961Z"
   },
   {
    "duration": 66,
    "start_time": "2025-04-15T15:19:23.782Z"
   },
   {
    "duration": 487972,
    "start_time": "2025-04-15T15:19:26.433Z"
   },
   {
    "duration": 13409,
    "start_time": "2025-04-15T15:28:01.343Z"
   },
   {
    "duration": 2762,
    "start_time": "2025-04-15T15:28:14.755Z"
   },
   {
    "duration": 92,
    "start_time": "2025-04-15T15:28:17.519Z"
   },
   {
    "duration": 5805,
    "start_time": "2025-04-15T15:28:19.400Z"
   },
   {
    "duration": 18615,
    "start_time": "2025-04-15T21:08:15.268Z"
   },
   {
    "duration": 2332,
    "start_time": "2025-04-15T21:09:05.063Z"
   },
   {
    "duration": 8,
    "start_time": "2025-04-15T21:10:09.675Z"
   },
   {
    "duration": 84,
    "start_time": "2025-04-15T21:12:08.277Z"
   },
   {
    "duration": 133,
    "start_time": "2025-04-15T21:15:54.432Z"
   },
   {
    "duration": 12091,
    "start_time": "2025-04-15T21:15:57.786Z"
   },
   {
    "duration": 6,
    "start_time": "2025-04-15T21:16:09.880Z"
   },
   {
    "duration": 1211,
    "start_time": "2025-04-15T21:16:09.888Z"
   },
   {
    "duration": 397,
    "start_time": "2025-04-15T21:16:11.101Z"
   },
   {
    "duration": 11,
    "start_time": "2025-04-15T21:16:11.499Z"
   },
   {
    "duration": 62,
    "start_time": "2025-04-15T21:16:11.512Z"
   },
   {
    "duration": 329,
    "start_time": "2025-04-15T21:16:11.576Z"
   },
   {
    "duration": 363,
    "start_time": "2025-04-15T21:16:11.909Z"
   },
   {
    "duration": 3,
    "start_time": "2025-04-15T21:16:12.273Z"
   },
   {
    "duration": 350,
    "start_time": "2025-04-15T21:16:12.278Z"
   },
   {
    "duration": 309,
    "start_time": "2025-04-15T21:16:12.630Z"
   },
   {
    "duration": 427,
    "start_time": "2025-04-15T21:16:12.941Z"
   },
   {
    "duration": 2,
    "start_time": "2025-04-15T21:16:13.370Z"
   },
   {
    "duration": 41,
    "start_time": "2025-04-15T21:16:13.374Z"
   },
   {
    "duration": 159,
    "start_time": "2025-04-15T21:16:13.423Z"
   },
   {
    "duration": 1657,
    "start_time": "2025-04-15T21:16:13.584Z"
   },
   {
    "duration": 225,
    "start_time": "2025-04-15T21:16:15.242Z"
   },
   {
    "duration": 41,
    "start_time": "2025-04-15T21:16:15.468Z"
   },
   {
    "duration": 372,
    "start_time": "2025-04-15T21:16:15.514Z"
   },
   {
    "duration": 443,
    "start_time": "2025-04-15T21:16:15.888Z"
   },
   {
    "duration": 141,
    "start_time": "2025-04-15T21:16:16.334Z"
   },
   {
    "duration": 373,
    "start_time": "2025-04-15T21:16:16.477Z"
   },
   {
    "duration": 151,
    "start_time": "2025-04-15T21:16:16.851Z"
   },
   {
    "duration": 183,
    "start_time": "2025-04-15T21:16:17.003Z"
   },
   {
    "duration": 141,
    "start_time": "2025-04-15T21:16:17.188Z"
   },
   {
    "duration": 212,
    "start_time": "2025-04-15T21:16:17.331Z"
   },
   {
    "duration": 6480,
    "start_time": "2025-04-15T21:16:17.545Z"
   },
   {
    "duration": 22,
    "start_time": "2025-04-15T21:16:24.029Z"
   },
   {
    "duration": 46,
    "start_time": "2025-04-15T21:16:24.052Z"
   },
   {
    "duration": 0,
    "start_time": "2025-04-15T21:16:24.099Z"
   },
   {
    "duration": 0,
    "start_time": "2025-04-15T21:16:24.100Z"
   },
   {
    "duration": 1,
    "start_time": "2025-04-15T21:16:24.101Z"
   },
   {
    "duration": 0,
    "start_time": "2025-04-15T21:16:24.103Z"
   },
   {
    "duration": 0,
    "start_time": "2025-04-15T21:16:24.104Z"
   },
   {
    "duration": 0,
    "start_time": "2025-04-15T21:16:24.105Z"
   },
   {
    "duration": 0,
    "start_time": "2025-04-15T21:16:24.107Z"
   },
   {
    "duration": 12070,
    "start_time": "2025-04-15T21:17:21.977Z"
   },
   {
    "duration": 18,
    "start_time": "2025-04-15T21:17:34.050Z"
   },
   {
    "duration": 0,
    "start_time": "2025-04-15T21:17:34.071Z"
   },
   {
    "duration": 0,
    "start_time": "2025-04-15T21:17:34.072Z"
   },
   {
    "duration": 0,
    "start_time": "2025-04-15T21:17:34.073Z"
   },
   {
    "duration": 0,
    "start_time": "2025-04-15T21:17:34.074Z"
   },
   {
    "duration": 0,
    "start_time": "2025-04-15T21:17:34.076Z"
   },
   {
    "duration": 0,
    "start_time": "2025-04-15T21:17:34.077Z"
   },
   {
    "duration": 0,
    "start_time": "2025-04-15T21:17:34.078Z"
   },
   {
    "duration": 0,
    "start_time": "2025-04-15T21:17:34.079Z"
   },
   {
    "duration": 0,
    "start_time": "2025-04-15T21:17:34.081Z"
   },
   {
    "duration": 0,
    "start_time": "2025-04-15T21:17:34.082Z"
   },
   {
    "duration": 0,
    "start_time": "2025-04-15T21:17:34.083Z"
   },
   {
    "duration": 0,
    "start_time": "2025-04-15T21:17:34.084Z"
   },
   {
    "duration": 0,
    "start_time": "2025-04-15T21:17:34.085Z"
   },
   {
    "duration": 0,
    "start_time": "2025-04-15T21:17:34.086Z"
   },
   {
    "duration": 0,
    "start_time": "2025-04-15T21:17:34.087Z"
   },
   {
    "duration": 0,
    "start_time": "2025-04-15T21:17:34.088Z"
   },
   {
    "duration": 0,
    "start_time": "2025-04-15T21:17:34.090Z"
   },
   {
    "duration": 0,
    "start_time": "2025-04-15T21:17:34.090Z"
   },
   {
    "duration": 0,
    "start_time": "2025-04-15T21:17:34.091Z"
   },
   {
    "duration": 0,
    "start_time": "2025-04-15T21:17:34.092Z"
   },
   {
    "duration": 0,
    "start_time": "2025-04-15T21:17:34.094Z"
   },
   {
    "duration": 0,
    "start_time": "2025-04-15T21:17:34.095Z"
   },
   {
    "duration": 0,
    "start_time": "2025-04-15T21:17:34.096Z"
   },
   {
    "duration": 0,
    "start_time": "2025-04-15T21:17:34.097Z"
   },
   {
    "duration": 0,
    "start_time": "2025-04-15T21:17:34.098Z"
   },
   {
    "duration": 0,
    "start_time": "2025-04-15T21:17:34.106Z"
   },
   {
    "duration": 0,
    "start_time": "2025-04-15T21:17:34.107Z"
   },
   {
    "duration": 0,
    "start_time": "2025-04-15T21:17:34.108Z"
   },
   {
    "duration": 0,
    "start_time": "2025-04-15T21:17:34.109Z"
   },
   {
    "duration": 0,
    "start_time": "2025-04-15T21:17:34.110Z"
   },
   {
    "duration": 0,
    "start_time": "2025-04-15T21:17:34.111Z"
   },
   {
    "duration": 0,
    "start_time": "2025-04-15T21:17:34.113Z"
   },
   {
    "duration": 0,
    "start_time": "2025-04-15T21:17:34.114Z"
   },
   {
    "duration": 0,
    "start_time": "2025-04-15T21:17:34.115Z"
   },
   {
    "duration": 12150,
    "start_time": "2025-04-15T21:21:09.173Z"
   },
   {
    "duration": 1527,
    "start_time": "2025-04-15T21:21:21.327Z"
   },
   {
    "duration": 1222,
    "start_time": "2025-04-15T21:21:22.860Z"
   },
   {
    "duration": 404,
    "start_time": "2025-04-15T21:21:24.084Z"
   },
   {
    "duration": 3,
    "start_time": "2025-04-15T21:21:24.490Z"
   },
   {
    "duration": 54,
    "start_time": "2025-04-15T21:21:24.495Z"
   },
   {
    "duration": 403,
    "start_time": "2025-04-15T21:21:24.550Z"
   },
   {
    "duration": 386,
    "start_time": "2025-04-15T21:21:24.956Z"
   },
   {
    "duration": 2,
    "start_time": "2025-04-15T21:21:25.345Z"
   },
   {
    "duration": 342,
    "start_time": "2025-04-15T21:21:25.348Z"
   },
   {
    "duration": 317,
    "start_time": "2025-04-15T21:21:25.692Z"
   },
   {
    "duration": 435,
    "start_time": "2025-04-15T21:21:26.010Z"
   },
   {
    "duration": 2,
    "start_time": "2025-04-15T21:21:26.447Z"
   },
   {
    "duration": 29,
    "start_time": "2025-04-15T21:21:26.451Z"
   },
   {
    "duration": 179,
    "start_time": "2025-04-15T21:21:26.482Z"
   },
   {
    "duration": 1604,
    "start_time": "2025-04-15T21:21:26.663Z"
   },
   {
    "duration": 229,
    "start_time": "2025-04-15T21:21:28.268Z"
   },
   {
    "duration": 44,
    "start_time": "2025-04-15T21:21:28.498Z"
   },
   {
    "duration": 427,
    "start_time": "2025-04-15T21:21:28.544Z"
   },
   {
    "duration": 428,
    "start_time": "2025-04-15T21:21:28.973Z"
   },
   {
    "duration": 151,
    "start_time": "2025-04-15T21:21:29.406Z"
   },
   {
    "duration": 385,
    "start_time": "2025-04-15T21:21:29.559Z"
   },
   {
    "duration": 155,
    "start_time": "2025-04-15T21:21:29.945Z"
   },
   {
    "duration": 185,
    "start_time": "2025-04-15T21:21:30.105Z"
   },
   {
    "duration": 141,
    "start_time": "2025-04-15T21:21:30.291Z"
   },
   {
    "duration": 216,
    "start_time": "2025-04-15T21:21:30.434Z"
   },
   {
    "duration": 6481,
    "start_time": "2025-04-15T21:21:30.653Z"
   },
   {
    "duration": 20,
    "start_time": "2025-04-15T21:21:37.136Z"
   },
   {
    "duration": 77,
    "start_time": "2025-04-15T21:21:37.158Z"
   },
   {
    "duration": 5,
    "start_time": "2025-04-15T21:21:37.237Z"
   },
   {
    "duration": 1401,
    "start_time": "2025-04-15T21:21:37.244Z"
   },
   {
    "duration": 0,
    "start_time": "2025-04-15T21:21:38.647Z"
   },
   {
    "duration": 0,
    "start_time": "2025-04-15T21:21:38.648Z"
   },
   {
    "duration": 0,
    "start_time": "2025-04-15T21:21:38.649Z"
   },
   {
    "duration": 0,
    "start_time": "2025-04-15T21:21:38.650Z"
   },
   {
    "duration": 0,
    "start_time": "2025-04-15T21:21:38.652Z"
   },
   {
    "duration": 80,
    "start_time": "2025-04-15T21:21:48.816Z"
   },
   {
    "duration": 4,
    "start_time": "2025-04-15T21:21:51.128Z"
   },
   {
    "duration": 38644,
    "start_time": "2025-04-15T21:21:53.778Z"
   },
   {
    "duration": 0,
    "start_time": "2025-04-15T21:22:32.424Z"
   },
   {
    "duration": 54,
    "start_time": "2025-04-15T21:23:30.725Z"
   },
   {
    "duration": 18,
    "start_time": "2025-04-15T21:24:33.903Z"
   },
   {
    "duration": 12005,
    "start_time": "2025-04-15T21:24:39.930Z"
   },
   {
    "duration": 2410,
    "start_time": "2025-04-15T21:24:51.938Z"
   },
   {
    "duration": 1313,
    "start_time": "2025-04-15T21:24:54.350Z"
   },
   {
    "duration": 372,
    "start_time": "2025-04-15T21:24:55.665Z"
   },
   {
    "duration": 3,
    "start_time": "2025-04-15T21:24:56.039Z"
   },
   {
    "duration": 74,
    "start_time": "2025-04-15T21:24:56.043Z"
   },
   {
    "duration": 323,
    "start_time": "2025-04-15T21:24:56.119Z"
   },
   {
    "duration": 373,
    "start_time": "2025-04-15T21:24:56.443Z"
   },
   {
    "duration": 2,
    "start_time": "2025-04-15T21:24:56.819Z"
   },
   {
    "duration": 314,
    "start_time": "2025-04-15T21:24:56.823Z"
   },
   {
    "duration": 306,
    "start_time": "2025-04-15T21:24:57.138Z"
   },
   {
    "duration": 406,
    "start_time": "2025-04-15T21:24:57.446Z"
   },
   {
    "duration": 3,
    "start_time": "2025-04-15T21:24:57.854Z"
   },
   {
    "duration": 42,
    "start_time": "2025-04-15T21:24:57.860Z"
   },
   {
    "duration": 182,
    "start_time": "2025-04-15T21:24:57.905Z"
   },
   {
    "duration": 1736,
    "start_time": "2025-04-15T21:24:58.089Z"
   },
   {
    "duration": 234,
    "start_time": "2025-04-15T21:24:59.827Z"
   },
   {
    "duration": 46,
    "start_time": "2025-04-15T21:25:00.062Z"
   },
   {
    "duration": 417,
    "start_time": "2025-04-15T21:25:00.114Z"
   },
   {
    "duration": 406,
    "start_time": "2025-04-15T21:25:00.532Z"
   },
   {
    "duration": 138,
    "start_time": "2025-04-15T21:25:00.940Z"
   },
   {
    "duration": 385,
    "start_time": "2025-04-15T21:25:01.079Z"
   },
   {
    "duration": 153,
    "start_time": "2025-04-15T21:25:01.465Z"
   },
   {
    "duration": 198,
    "start_time": "2025-04-15T21:25:01.621Z"
   },
   {
    "duration": 120,
    "start_time": "2025-04-15T21:25:01.821Z"
   },
   {
    "duration": 206,
    "start_time": "2025-04-15T21:25:01.943Z"
   },
   {
    "duration": 6620,
    "start_time": "2025-04-15T21:25:02.150Z"
   },
   {
    "duration": 22,
    "start_time": "2025-04-15T21:25:08.772Z"
   },
   {
    "duration": 78,
    "start_time": "2025-04-15T21:25:08.796Z"
   },
   {
    "duration": 5,
    "start_time": "2025-04-15T21:25:08.876Z"
   },
   {
    "duration": 17739,
    "start_time": "2025-04-15T21:25:08.882Z"
   },
   {
    "duration": 199,
    "start_time": "2025-04-15T21:25:26.623Z"
   },
   {
    "duration": 48385,
    "start_time": "2025-04-15T21:25:26.824Z"
   },
   {
    "duration": 73,
    "start_time": "2025-04-15T21:26:15.218Z"
   },
   {
    "duration": 179,
    "start_time": "2025-04-15T21:26:15.292Z"
   },
   {
    "duration": 477,
    "start_time": "2025-04-15T21:26:15.472Z"
   },
   {
    "duration": 4,
    "start_time": "2025-04-15T21:29:07.254Z"
   },
   {
    "duration": 656,
    "start_time": "2025-04-15T21:29:13.486Z"
   },
   {
    "duration": 10,
    "start_time": "2025-04-15T21:29:46.209Z"
   },
   {
    "duration": 43629,
    "start_time": "2025-04-15T21:29:49.621Z"
   },
   {
    "duration": 16,
    "start_time": "2025-04-15T21:32:22.702Z"
   },
   {
    "duration": 43857,
    "start_time": "2025-04-15T21:33:13.377Z"
   },
   {
    "duration": 101,
    "start_time": "2025-04-15T21:34:16.622Z"
   },
   {
    "duration": 12,
    "start_time": "2025-04-15T21:34:21.183Z"
   },
   {
    "duration": 13,
    "start_time": "2025-04-15T21:34:48.526Z"
   },
   {
    "duration": 13,
    "start_time": "2025-04-15T21:34:54.435Z"
   },
   {
    "duration": 7,
    "start_time": "2025-04-15T21:35:10.124Z"
   },
   {
    "duration": 12,
    "start_time": "2025-04-15T21:35:20.977Z"
   },
   {
    "duration": 5,
    "start_time": "2025-04-15T21:35:28.317Z"
   },
   {
    "duration": 298200,
    "start_time": "2025-04-15T21:35:31.762Z"
   },
   {
    "duration": 67,
    "start_time": "2025-04-15T21:40:29.964Z"
   },
   {
    "duration": 19,
    "start_time": "2025-04-15T21:41:59.404Z"
   },
   {
    "duration": 4,
    "start_time": "2025-04-15T21:42:05.893Z"
   },
   {
    "duration": 9,
    "start_time": "2025-04-15T21:42:12.712Z"
   },
   {
    "duration": 6,
    "start_time": "2025-04-15T21:42:25.786Z"
   },
   {
    "duration": 5,
    "start_time": "2025-04-15T21:43:03.623Z"
   },
   {
    "duration": 5,
    "start_time": "2025-04-15T21:43:41.393Z"
   },
   {
    "duration": 4,
    "start_time": "2025-04-15T21:44:02.369Z"
   },
   {
    "duration": 5,
    "start_time": "2025-04-15T21:44:35.123Z"
   },
   {
    "duration": 9,
    "start_time": "2025-04-15T21:45:46.403Z"
   },
   {
    "duration": 13,
    "start_time": "2025-04-15T21:46:04.115Z"
   },
   {
    "duration": 10,
    "start_time": "2025-04-15T21:46:12.690Z"
   },
   {
    "duration": 34,
    "start_time": "2025-04-15T21:46:54.792Z"
   },
   {
    "duration": 19,
    "start_time": "2025-04-15T21:47:42.849Z"
   },
   {
    "duration": 20,
    "start_time": "2025-04-15T21:48:23.352Z"
   },
   {
    "duration": 71,
    "start_time": "2025-04-15T21:49:19.386Z"
   },
   {
    "duration": 12275,
    "start_time": "2025-04-15T21:49:26.070Z"
   },
   {
    "duration": 6,
    "start_time": "2025-04-15T21:49:38.348Z"
   },
   {
    "duration": 1165,
    "start_time": "2025-04-15T21:49:38.356Z"
   },
   {
    "duration": 371,
    "start_time": "2025-04-15T21:49:39.523Z"
   },
   {
    "duration": 17,
    "start_time": "2025-04-15T21:49:39.896Z"
   },
   {
    "duration": 66,
    "start_time": "2025-04-15T21:49:39.917Z"
   },
   {
    "duration": 287,
    "start_time": "2025-04-15T21:49:39.985Z"
   },
   {
    "duration": 365,
    "start_time": "2025-04-15T21:49:40.274Z"
   },
   {
    "duration": 3,
    "start_time": "2025-04-15T21:49:40.641Z"
   },
   {
    "duration": 303,
    "start_time": "2025-04-15T21:49:40.645Z"
   },
   {
    "duration": 299,
    "start_time": "2025-04-15T21:49:40.950Z"
   },
   {
    "duration": 326,
    "start_time": "2025-04-15T21:49:41.251Z"
   },
   {
    "duration": 3,
    "start_time": "2025-04-15T21:49:41.578Z"
   },
   {
    "duration": 48,
    "start_time": "2025-04-15T21:49:41.584Z"
   },
   {
    "duration": 165,
    "start_time": "2025-04-15T21:49:41.634Z"
   },
   {
    "duration": 1525,
    "start_time": "2025-04-15T21:49:41.805Z"
   },
   {
    "duration": 202,
    "start_time": "2025-04-15T21:49:43.331Z"
   },
   {
    "duration": 23,
    "start_time": "2025-04-15T21:49:43.535Z"
   },
   {
    "duration": 520,
    "start_time": "2025-04-15T21:49:43.560Z"
   },
   {
    "duration": 422,
    "start_time": "2025-04-15T21:49:44.082Z"
   },
   {
    "duration": 127,
    "start_time": "2025-04-15T21:49:44.518Z"
   },
   {
    "duration": 399,
    "start_time": "2025-04-15T21:49:44.646Z"
   },
   {
    "duration": 153,
    "start_time": "2025-04-15T21:49:45.048Z"
   },
   {
    "duration": 189,
    "start_time": "2025-04-15T21:49:45.204Z"
   },
   {
    "duration": 147,
    "start_time": "2025-04-15T21:49:45.395Z"
   },
   {
    "duration": 217,
    "start_time": "2025-04-15T21:49:45.544Z"
   },
   {
    "duration": 6451,
    "start_time": "2025-04-15T21:49:45.762Z"
   },
   {
    "duration": 16,
    "start_time": "2025-04-15T21:49:52.219Z"
   },
   {
    "duration": 93,
    "start_time": "2025-04-15T21:49:52.237Z"
   },
   {
    "duration": 14,
    "start_time": "2025-04-15T21:49:52.332Z"
   },
   {
    "duration": 0,
    "start_time": "2025-04-15T21:49:52.347Z"
   },
   {
    "duration": 0,
    "start_time": "2025-04-15T21:49:52.349Z"
   },
   {
    "duration": 0,
    "start_time": "2025-04-15T21:49:52.350Z"
   },
   {
    "duration": 0,
    "start_time": "2025-04-15T21:49:52.351Z"
   },
   {
    "duration": 0,
    "start_time": "2025-04-15T21:49:52.352Z"
   },
   {
    "duration": 0,
    "start_time": "2025-04-15T21:49:52.353Z"
   },
   {
    "duration": 0,
    "start_time": "2025-04-15T21:49:52.354Z"
   },
   {
    "duration": 5,
    "start_time": "2025-04-15T21:50:08.074Z"
   },
   {
    "duration": 277217,
    "start_time": "2025-04-15T21:50:13.325Z"
   },
   {
    "duration": 19,
    "start_time": "2025-04-15T21:54:56.347Z"
   },
   {
    "duration": 145,
    "start_time": "2025-04-15T22:01:23.398Z"
   },
   {
    "duration": 140,
    "start_time": "2025-04-15T22:02:08.921Z"
   },
   {
    "duration": 145,
    "start_time": "2025-04-15T22:02:41.334Z"
   },
   {
    "duration": 1706,
    "start_time": "2025-04-15T22:03:18.319Z"
   },
   {
    "duration": 19885,
    "start_time": "2025-04-15T22:04:36.931Z"
   },
   {
    "duration": 6,
    "start_time": "2025-04-15T22:05:58.250Z"
   },
   {
    "duration": 90061,
    "start_time": "2025-04-15T22:06:01.346Z"
   },
   {
    "duration": 12,
    "start_time": "2025-04-15T22:12:14.586Z"
   },
   {
    "duration": 17542,
    "start_time": "2025-04-15T22:12:50.590Z"
   },
   {
    "duration": 17,
    "start_time": "2025-04-15T22:13:24.055Z"
   },
   {
    "duration": 68,
    "start_time": "2025-04-15T22:13:39.984Z"
   },
   {
    "duration": 17,
    "start_time": "2025-04-15T22:13:47.166Z"
   },
   {
    "duration": 26,
    "start_time": "2025-04-15T22:16:39.269Z"
   },
   {
    "duration": 24,
    "start_time": "2025-04-15T22:16:54.636Z"
   },
   {
    "duration": 97,
    "start_time": "2025-04-15T22:17:02.765Z"
   },
   {
    "duration": 20655,
    "start_time": "2025-04-15T22:17:05.671Z"
   },
   {
    "duration": 61,
    "start_time": "2025-04-15T22:19:25.736Z"
   },
   {
    "duration": 100,
    "start_time": "2025-04-15T22:19:31.218Z"
   },
   {
    "duration": 19994,
    "start_time": "2025-04-15T22:19:33.844Z"
   },
   {
    "duration": 21,
    "start_time": "2025-04-15T22:20:12.492Z"
   },
   {
    "duration": 23935,
    "start_time": "2025-04-15T22:20:19.497Z"
   },
   {
    "duration": 19798,
    "start_time": "2025-04-15T22:20:57.118Z"
   },
   {
    "duration": 181,
    "start_time": "2025-04-15T22:21:26.985Z"
   },
   {
    "duration": 461,
    "start_time": "2025-04-15T22:21:29.905Z"
   },
   {
    "duration": 12091,
    "start_time": "2025-04-15T22:24:31.325Z"
   },
   {
    "duration": 1558,
    "start_time": "2025-04-15T22:24:43.422Z"
   },
   {
    "duration": 1256,
    "start_time": "2025-04-15T22:24:44.982Z"
   },
   {
    "duration": 394,
    "start_time": "2025-04-15T22:24:46.240Z"
   },
   {
    "duration": 2,
    "start_time": "2025-04-15T22:24:46.636Z"
   },
   {
    "duration": 35,
    "start_time": "2025-04-15T22:24:46.640Z"
   },
   {
    "duration": 347,
    "start_time": "2025-04-15T22:24:46.677Z"
   },
   {
    "duration": 337,
    "start_time": "2025-04-15T22:24:47.026Z"
   },
   {
    "duration": 2,
    "start_time": "2025-04-15T22:24:47.365Z"
   },
   {
    "duration": 312,
    "start_time": "2025-04-15T22:24:47.369Z"
   },
   {
    "duration": 309,
    "start_time": "2025-04-15T22:24:47.683Z"
   },
   {
    "duration": 413,
    "start_time": "2025-04-15T22:24:47.993Z"
   },
   {
    "duration": 3,
    "start_time": "2025-04-15T22:24:48.408Z"
   },
   {
    "duration": 34,
    "start_time": "2025-04-15T22:24:48.416Z"
   },
   {
    "duration": 184,
    "start_time": "2025-04-15T22:24:48.452Z"
   },
   {
    "duration": 1689,
    "start_time": "2025-04-15T22:24:48.638Z"
   },
   {
    "duration": 236,
    "start_time": "2025-04-15T22:24:50.329Z"
   },
   {
    "duration": 48,
    "start_time": "2025-04-15T22:24:50.567Z"
   },
   {
    "duration": 400,
    "start_time": "2025-04-15T22:24:50.620Z"
   },
   {
    "duration": 410,
    "start_time": "2025-04-15T22:24:51.022Z"
   },
   {
    "duration": 130,
    "start_time": "2025-04-15T22:24:51.434Z"
   },
   {
    "duration": 371,
    "start_time": "2025-04-15T22:24:51.566Z"
   },
   {
    "duration": 148,
    "start_time": "2025-04-15T22:24:51.938Z"
   },
   {
    "duration": 185,
    "start_time": "2025-04-15T22:24:52.088Z"
   },
   {
    "duration": 129,
    "start_time": "2025-04-15T22:24:52.274Z"
   },
   {
    "duration": 214,
    "start_time": "2025-04-15T22:24:52.404Z"
   },
   {
    "duration": 6440,
    "start_time": "2025-04-15T22:24:52.621Z"
   },
   {
    "duration": 22,
    "start_time": "2025-04-15T22:24:59.062Z"
   },
   {
    "duration": 77,
    "start_time": "2025-04-15T22:24:59.086Z"
   },
   {
    "duration": 6,
    "start_time": "2025-04-15T22:24:59.164Z"
   },
   {
    "duration": 288611,
    "start_time": "2025-04-15T22:24:59.171Z"
   },
   {
    "duration": 38,
    "start_time": "2025-04-15T22:29:47.784Z"
   },
   {
    "duration": 110,
    "start_time": "2025-04-15T22:29:47.824Z"
   },
   {
    "duration": 82184,
    "start_time": "2025-04-15T22:29:47.936Z"
   },
   {
    "duration": 20399,
    "start_time": "2025-04-15T22:31:10.123Z"
   },
   {
    "duration": 212,
    "start_time": "2025-04-15T22:31:30.526Z"
   },
   {
    "duration": 458,
    "start_time": "2025-04-15T22:31:30.740Z"
   },
   {
    "duration": 67,
    "start_time": "2025-09-01T17:35:16.732Z"
   },
   {
    "duration": 9630,
    "start_time": "2025-09-01T17:46:31.328Z"
   },
   {
    "duration": 1549,
    "start_time": "2025-09-01T17:46:40.962Z"
   },
   {
    "duration": 1312,
    "start_time": "2025-09-01T17:46:42.513Z"
   },
   {
    "duration": 370,
    "start_time": "2025-09-01T17:46:43.828Z"
   },
   {
    "duration": 25,
    "start_time": "2025-09-01T17:46:44.201Z"
   },
   {
    "duration": 306,
    "start_time": "2025-09-01T17:46:44.228Z"
   },
   {
    "duration": 341,
    "start_time": "2025-09-01T17:46:44.536Z"
   },
   {
    "duration": 317,
    "start_time": "2025-09-01T17:46:44.879Z"
   },
   {
    "duration": 287,
    "start_time": "2025-09-01T17:46:45.198Z"
   },
   {
    "duration": 343,
    "start_time": "2025-09-01T17:46:45.487Z"
   },
   {
    "duration": 34,
    "start_time": "2025-09-01T17:46:45.832Z"
   },
   {
    "duration": 158,
    "start_time": "2025-09-01T17:46:45.868Z"
   },
   {
    "duration": 1700,
    "start_time": "2025-09-01T17:46:46.028Z"
   },
   {
    "duration": 319,
    "start_time": "2025-09-01T17:46:47.731Z"
   },
   {
    "duration": 32,
    "start_time": "2025-09-01T17:46:48.060Z"
   },
   {
    "duration": 360,
    "start_time": "2025-09-01T17:46:48.094Z"
   },
   {
    "duration": 413,
    "start_time": "2025-09-01T17:46:48.460Z"
   },
   {
    "duration": 148,
    "start_time": "2025-09-01T17:46:48.876Z"
   },
   {
    "duration": 383,
    "start_time": "2025-09-01T17:46:49.027Z"
   },
   {
    "duration": 153,
    "start_time": "2025-09-01T17:46:49.413Z"
   },
   {
    "duration": 250,
    "start_time": "2025-09-01T17:46:49.568Z"
   },
   {
    "duration": 140,
    "start_time": "2025-09-01T17:46:49.821Z"
   },
   {
    "duration": 215,
    "start_time": "2025-09-01T17:46:49.964Z"
   },
   {
    "duration": 6204,
    "start_time": "2025-09-01T17:46:50.181Z"
   },
   {
    "duration": 24,
    "start_time": "2025-09-01T17:46:56.387Z"
   },
   {
    "duration": 84,
    "start_time": "2025-09-01T17:46:56.413Z"
   },
   {
    "duration": 6,
    "start_time": "2025-09-01T17:46:56.499Z"
   },
   {
    "duration": 338545,
    "start_time": "2025-09-01T17:46:56.507Z"
   },
   {
    "duration": 23,
    "start_time": "2025-09-01T17:52:35.054Z"
   },
   {
    "duration": 112,
    "start_time": "2025-09-01T17:52:35.079Z"
   },
   {
    "duration": 28271,
    "start_time": "2025-09-01T17:52:35.193Z"
   },
   {
    "duration": 32724,
    "start_time": "2025-09-01T17:53:03.466Z"
   },
   {
    "duration": 226,
    "start_time": "2025-09-01T17:53:36.191Z"
   },
   {
    "duration": 448,
    "start_time": "2025-09-01T17:53:36.419Z"
   },
   {
    "duration": 36158,
    "start_time": "2025-09-01T17:55:44.112Z"
   }
  ],
  "kernelspec": {
   "display_name": "Python 3 (ipykernel)",
   "language": "python",
   "name": "python3"
  },
  "language_info": {
   "codemirror_mode": {
    "name": "ipython",
    "version": 3
   },
   "file_extension": ".py",
   "mimetype": "text/x-python",
   "name": "python",
   "nbconvert_exporter": "python",
   "pygments_lexer": "ipython3",
   "version": "3.9.5"
  },
  "toc": {
   "base_numbering": 1,
   "nav_menu": {},
   "number_sections": true,
   "sideBar": true,
   "skip_h1_title": true,
   "title_cell": "Table of Contents",
   "title_sidebar": "Contents",
   "toc_cell": false,
   "toc_position": {},
   "toc_section_display": true,
   "toc_window_display": false
  }
 },
 "nbformat": 4,
 "nbformat_minor": 2
}
