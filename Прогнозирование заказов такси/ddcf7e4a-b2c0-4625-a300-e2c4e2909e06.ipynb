{
 "cells": [
  {
   "cell_type": "markdown",
   "metadata": {
    "toc": true
   },
   "source": [
    "<h1>Содержание<span class=\"tocSkip\"></span></h1>\n",
    "<div class=\"toc\"><ul class=\"toc-item\"><li><span><a href=\"#Подготовка\" data-toc-modified-id=\"Подготовка-1\"><span class=\"toc-item-num\">1&nbsp;&nbsp;</span>Подготовка</a></span></li><li><span><a href=\"#Анализ\" data-toc-modified-id=\"Анализ-2\"><span class=\"toc-item-num\">2&nbsp;&nbsp;</span>Анализ</a></span></li><li><span><a href=\"#Обучение\" data-toc-modified-id=\"Обучение-3\"><span class=\"toc-item-num\">3&nbsp;&nbsp;</span>Обучение</a></span></li><li><span><a href=\"#Тестирование\" data-toc-modified-id=\"Тестирование-4\"><span class=\"toc-item-num\">4&nbsp;&nbsp;</span>Тестирование</a></span></li></ul></div>"
   ]
  },
  {
   "cell_type": "markdown",
   "metadata": {},
   "source": [
    "#  Прогнозирование заказов такси"
   ]
  },
  {
   "cell_type": "markdown",
   "metadata": {},
   "source": [
    "Описание проекта: компания \"Чётенькое такси\" стремится соответствовать названию, для того, чтобы клиенты были довольны, необходимо правильно предсказывать нагрузку у аэропортов, ведь иногда водителей может понадобиться больше, чем существует заказов на данный момент.\n",
    "    \n",
    "Цель исследования: построить модель для предсказания количества заказов на следующий час \n",
    "    \n",
    "Ход исследования:\n",
    "\n",
    "    Подготовка данных: загрузка и изучение общей информации из предоставленных датасетов\n",
    "    \n",
    "    Предобработка данных: обработка пропущенных значений, удаление дубликатов и т.д.\n",
    "    \n",
    "    Исследовательский анализ данных: изучение количества заказов, тренда и сезонности на графике\n",
    "    \n",
    "    Выбор лучшей модели: обучение моделей и выбор лучшей из них по метрике RMSE\n",
    "    \n",
    "    Общий вывод: резюмирование полученных результатов, формулировка ключевых выводов."
   ]
  },
  {
   "cell_type": "markdown",
   "metadata": {},
   "source": [
    "## Подготовка"
   ]
  },
  {
   "cell_type": "code",
   "execution_count": 1,
   "metadata": {},
   "outputs": [],
   "source": [
    "import sys\n",
    "!pip install eli5 -q\n",
    "!pip install -U scikit-learn -q\n",
    "!\"{sys.executable}\" -m pip install phik -q"
   ]
  },
  {
   "cell_type": "code",
   "execution_count": 2,
   "metadata": {},
   "outputs": [],
   "source": [
    "RANDOM_STATE=42\n",
    "import warnings\n",
    "warnings.filterwarnings('ignore')\n",
    "import pandas as pd\n",
    "import numpy as np\n",
    "import seaborn as sns\n",
    "import matplotlib.pyplot as plt\n",
    "import phik\n",
    "from sklearn.model_selection import (\n",
    "    train_test_split,\n",
    "    RandomizedSearchCV,\n",
    "    GridSearchCV,\n",
    "    cross_val_score,\n",
    "    cross_validate,\n",
    "    TimeSeriesSplit\n",
    ")\n",
    "from sklearn.preprocessing import (\n",
    "    StandardScaler,\n",
    "    OneHotEncoder,\n",
    "    MinMaxScaler\n",
    ")\n",
    "from sklearn.compose import ColumnTransformer\n",
    "from sklearn.pipeline import Pipeline\n",
    "from sklearn.neighbors import KNeighborsRegressor\n",
    "from sklearn.tree import DecisionTreeRegressor\n",
    "from catboost import CatBoostRegressor\n",
    "from sklearn.linear_model import LinearRegression, Ridge, Lasso\n",
    "from sklearn.metrics import(\n",
    "    mean_squared_error\n",
    ")\n",
    "import statsmodels.api as sm"
   ]
  },
  {
   "cell_type": "markdown",
   "metadata": {},
   "source": [
    "Выполню загрузку данных"
   ]
  },
  {
   "cell_type": "code",
   "execution_count": 3,
   "metadata": {},
   "outputs": [
    {
     "data": {
      "text/html": [
       "<div>\n",
       "<style scoped>\n",
       "    .dataframe tbody tr th:only-of-type {\n",
       "        vertical-align: middle;\n",
       "    }\n",
       "\n",
       "    .dataframe tbody tr th {\n",
       "        vertical-align: top;\n",
       "    }\n",
       "\n",
       "    .dataframe thead th {\n",
       "        text-align: right;\n",
       "    }\n",
       "</style>\n",
       "<table border=\"1\" class=\"dataframe\">\n",
       "  <thead>\n",
       "    <tr style=\"text-align: right;\">\n",
       "      <th></th>\n",
       "      <th>datetime</th>\n",
       "      <th>num_orders</th>\n",
       "    </tr>\n",
       "  </thead>\n",
       "  <tbody>\n",
       "    <tr>\n",
       "      <th>0</th>\n",
       "      <td>2018-03-01 00:00:00</td>\n",
       "      <td>9</td>\n",
       "    </tr>\n",
       "    <tr>\n",
       "      <th>1</th>\n",
       "      <td>2018-03-01 00:10:00</td>\n",
       "      <td>14</td>\n",
       "    </tr>\n",
       "    <tr>\n",
       "      <th>2</th>\n",
       "      <td>2018-03-01 00:20:00</td>\n",
       "      <td>28</td>\n",
       "    </tr>\n",
       "    <tr>\n",
       "      <th>3</th>\n",
       "      <td>2018-03-01 00:30:00</td>\n",
       "      <td>20</td>\n",
       "    </tr>\n",
       "    <tr>\n",
       "      <th>4</th>\n",
       "      <td>2018-03-01 00:40:00</td>\n",
       "      <td>32</td>\n",
       "    </tr>\n",
       "  </tbody>\n",
       "</table>\n",
       "</div>"
      ],
      "text/plain": [
       "              datetime  num_orders\n",
       "0  2018-03-01 00:00:00           9\n",
       "1  2018-03-01 00:10:00          14\n",
       "2  2018-03-01 00:20:00          28\n",
       "3  2018-03-01 00:30:00          20\n",
       "4  2018-03-01 00:40:00          32"
      ]
     },
     "execution_count": 3,
     "metadata": {},
     "output_type": "execute_result"
    }
   ],
   "source": [
    "taxi=pd.read_csv('/datasets/taxi.csv')\n",
    "taxi.head()"
   ]
  },
  {
   "cell_type": "markdown",
   "metadata": {},
   "source": [
    "Проверю данные на пропуски"
   ]
  },
  {
   "cell_type": "code",
   "execution_count": 4,
   "metadata": {},
   "outputs": [
    {
     "name": "stdout",
     "output_type": "stream",
     "text": [
      "<class 'pandas.core.frame.DataFrame'>\n",
      "RangeIndex: 26496 entries, 0 to 26495\n",
      "Data columns (total 2 columns):\n",
      " #   Column      Non-Null Count  Dtype \n",
      "---  ------      --------------  ----- \n",
      " 0   datetime    26496 non-null  object\n",
      " 1   num_orders  26496 non-null  int64 \n",
      "dtypes: int64(1), object(1)\n",
      "memory usage: 414.1+ KB\n"
     ]
    }
   ],
   "source": [
    "taxi.info()"
   ]
  },
  {
   "cell_type": "markdown",
   "metadata": {},
   "source": [
    "Теперь изучу данные на наличие дубликатов"
   ]
  },
  {
   "cell_type": "code",
   "execution_count": 5,
   "metadata": {},
   "outputs": [
    {
     "data": {
      "text/plain": [
       "0"
      ]
     },
     "execution_count": 5,
     "metadata": {},
     "output_type": "execute_result"
    }
   ],
   "source": [
    "sum(taxi.duplicated())"
   ]
  },
  {
   "cell_type": "markdown",
   "metadata": {},
   "source": [
    "Ресемплирую данные по 1 часу и построю график"
   ]
  },
  {
   "cell_type": "code",
   "execution_count": 6,
   "metadata": {},
   "outputs": [],
   "source": [
    "taxi['datetime']=taxi['datetime'].astype('datetime64')\n",
    "taxi=taxi.set_index('datetime')\n",
    "taxi.sort_index(inplace=True)"
   ]
  },
  {
   "cell_type": "code",
   "execution_count": 7,
   "metadata": {
    "scrolled": true
   },
   "outputs": [
    {
     "data": {
      "image/png": "[encoded data removed]",
      "text/plain": [
       "<Figure size 432x288 with 1 Axes>"
      ]
     },
     "metadata": {
      "needs_background": "light"
     },
     "output_type": "display_data"
    }
   ],
   "source": [
    "res=taxi.resample('1H').mean()\n",
    "res['sum'] = res['num_orders'].rolling(50).sum()\n",
    "res['sum'].plot()\n",
    "plt.title('Number of orders by the hour')\n",
    "plt.show()"
   ]
  },
  {
   "cell_type": "code",
   "execution_count": 8,
   "metadata": {},
   "outputs": [
    {
     "data": {
      "image/png": "[encoded data removed]",
      "text/plain": [
       "<Figure size 432x288 with 1 Axes>"
      ]
     },
     "metadata": {
      "needs_background": "light"
     },
     "output_type": "display_data"
    }
   ],
   "source": [
    "decomposition = sm.tsa.seasonal_decompose(taxi,period=100)\n",
    "decomposition.trend.plot()\n",
    "plt.title('Trend')\n",
    "plt.show()"
   ]
  },
  {
   "cell_type": "code",
   "execution_count": 9,
   "metadata": {},
   "outputs": [
    {
     "data": {
      "image/png": "[encoded data removed]",
      "text/plain": [
       "<Figure size 432x288 with 1 Axes>"
      ]
     },
     "metadata": {
      "needs_background": "light"
     },
     "output_type": "display_data"
    }
   ],
   "source": [
    "decomposition2 = sm.tsa.seasonal_decompose(taxi['2018-03-11':'2018-03-12'],period=24)\n",
    "decomposition2.seasonal.plot()\n",
    "plt.title('Seasonal')\n",
    "plt.show()"
   ]
  },
  {
   "cell_type": "code",
   "execution_count": 10,
   "metadata": {},
   "outputs": [
    {
     "data": {
      "image/png": "[encoded data removed]",
      "text/plain": [
       "<Figure size 432x288 with 1 Axes>"
      ]
     },
     "metadata": {
      "needs_background": "light"
     },
     "output_type": "display_data"
    }
   ],
   "source": [
    "decomposition2 = sm.tsa.seasonal_decompose(taxi['2018-03-01':'2018-03-31'],period=168)\n",
    "decomposition2.seasonal.plot()\n",
    "plt.title('Seasonal')\n",
    "plt.show()"
   ]
  },
  {
   "cell_type": "markdown",
   "metadata": {},
   "source": [
    "Как можно увидеть на графиках, линия тренда показывает, что количество заказов увеличивается к осени, а сезонности не наблюдается"
   ]
  },
  {
   "cell_type": "markdown",
   "metadata": {},
   "source": [
    "Визуализирую конкретный день(11 марта) и конкретный месяц(март 2018 года)"
   ]
  },
  {
   "cell_type": "code",
   "execution_count": 11,
   "metadata": {
    "scrolled": true
   },
   "outputs": [
    {
     "data": {
      "image/png": "[encoded data removed]",
      "text/plain": [
       "<Figure size 432x288 with 1 Axes>"
      ]
     },
     "metadata": {
      "needs_background": "light"
     },
     "output_type": "display_data"
    }
   ],
   "source": [
    "day=taxi['2018-03-11':'2018-03-12']\n",
    "day.plot()\n",
    "plt.title('Num_orders')\n",
    "plt.show()"
   ]
  },
  {
   "cell_type": "markdown",
   "metadata": {},
   "source": [
    "Можно заметить, что самое популярное время наступает ближе к вечеру, однако уже после 00:00 заказов становится гораздо меньше, наблюдается тренд"
   ]
  },
  {
   "cell_type": "markdown",
   "metadata": {},
   "source": [
    "## Анализ"
   ]
  },
  {
   "cell_type": "markdown",
   "metadata": {},
   "source": [
    "Пропусков в данных не обнаружено, среднее количество заказов колеблется от 10 до 20, однако ближе к осени среднее количество заказов растет- наблюдается тренд, также гораздо больше заказов вечером."
   ]
  },
  {
   "cell_type": "markdown",
   "metadata": {},
   "source": [
    "## Обучение"
   ]
  },
  {
   "cell_type": "markdown",
   "metadata": {},
   "source": [
    "Напишу функцию для создания признаков."
   ]
  },
  {
   "cell_type": "code",
   "execution_count": 12,
   "metadata": {},
   "outputs": [],
   "source": [
    "def make_features(data, max_lag, rolling_mean_size):\n",
    "    data['day'] = data.index.day\n",
    "    data['dayofweek'] = data.index.dayofweek\n",
    "    data['hour']=data.index.hour\n",
    "    for lag in range(1, max_lag + 1):\n",
    "        data['lag_{}'.format(lag)] = data['num_orders'].shift(lag)\n",
    "    \n",
    "    data['rolling_mean']=data['num_orders'].shift().rolling(rolling_mean_size).mean()"
   ]
  },
  {
   "cell_type": "code",
   "execution_count": 13,
   "metadata": {},
   "outputs": [],
   "source": [
    "taxi=taxi.resample('1H').sum()"
   ]
  },
  {
   "cell_type": "code",
   "execution_count": 14,
   "metadata": {},
   "outputs": [],
   "source": [
    "make_features(taxi,5,50)\n",
    "taxi=taxi.dropna()\n",
    "y=taxi['num_orders']\n",
    "X=taxi.drop('num_orders',axis=1)\n",
    "X_train,X_test,y_train,y_test=train_test_split(X,y,shuffle=False,test_size=0.1)"
   ]
  },
  {
   "cell_type": "code",
   "execution_count": 15,
   "metadata": {},
   "outputs": [],
   "source": [
    "num_cols=['lag_1', 'lag_2','lag_3','lag_4', 'lag_5','rolling_mean']\n",
    "ohe_cols=['hour','day','dayofweek']\n",
    "ohe_pipe = Pipeline([\n",
    "        ('ohe',OneHotEncoder(drop='first',handle_unknown='error'))])\n",
    "preprocessing=ColumnTransformer([\n",
    "    ('ohe',ohe_pipe,ohe_cols),\n",
    "    ('num',StandardScaler(),num_cols)\n",
    "],remainder='passthrough')\n",
    "pipe_final=Pipeline([\n",
    "    ('preprocessor',preprocessing),\n",
    "    ('models',DecisionTreeRegressor())\n",
    "])\n",
    "param_distributions=[\n",
    "{\n",
    "    'models':[DecisionTreeRegressor()],\n",
    "    'models__max_depth':range(1,10)\n",
    "},\n",
    "{\n",
    "    'models':[LinearRegression()],\n",
    "    'preprocessor__num':[StandardScaler(),MinMaxScaler(),'passthrough'],\n",
    "    'models__fit_intercept': [True, False],\n",
    "    'models__copy_X': [True,False],\n",
    "    'models__n_jobs' : [1,5,10,15,None]\n",
    "}\n",
    "]\n",
    "tscv = TimeSeriesSplit(n_splits=4)\n",
    "grid=GridSearchCV(\n",
    "    pipe_final,\n",
    "    param_distributions,\n",
    "    cv=tscv,\n",
    "    scoring='neg_mean_squared_error',\n",
    "    error_score='raise',\n",
    "    n_jobs=-1,\n",
    "    verbose=3,\n",
    "    refit='recall'\n",
    ")"
   ]
  },
  {
   "cell_type": "code",
   "execution_count": 16,
   "metadata": {},
   "outputs": [
    {
     "name": "stdout",
     "output_type": "stream",
     "text": [
      "Fitting 4 folds for each of 69 candidates, totalling 276 fits\n",
      "[CV 1/4] END models=DecisionTreeRegressor(), models__max_depth=1;, score=-929.155 total time=   0.0s\n",
      "[CV 2/4] END models=DecisionTreeRegressor(), models__max_depth=1;, score=-1124.953 total time=   0.0s\n",
      "[CV 3/4] END models=DecisionTreeRegressor(), models__max_depth=1;, score=-1286.176 total time=   0.0s\n",
      "[CV 4/4] END models=DecisionTreeRegressor(), models__max_depth=1;, score=-2339.130 total time=   0.0s\n",
      "[CV 1/4] END models=DecisionTreeRegressor(), models__max_depth=2;, score=-810.402 total time=   0.0s\n",
      "[CV 2/4] END models=DecisionTreeRegressor(), models__max_depth=2;, score=-990.885 total time=   0.0s\n",
      "[CV 3/4] END models=DecisionTreeRegressor(), models__max_depth=2;, score=-1077.042 total time=   0.0s\n",
      "[CV 4/4] END models=DecisionTreeRegressor(), models__max_depth=2;, score=-2013.706 total time=   0.0s\n",
      "[CV 1/4] END models=DecisionTreeRegressor(), models__max_depth=3;, score=-753.663 total time=   0.0s\n",
      "[CV 2/4] END models=DecisionTreeRegressor(), models__max_depth=3;, score=-931.914 total time=   0.0s\n",
      "[CV 3/4] END models=DecisionTreeRegressor(), models__max_depth=3;, score=-1075.148 total time=   0.0s\n",
      "[CV 4/4] END models=DecisionTreeRegressor(), models__max_depth=3;, score=-1818.539 total time=   0.0s\n",
      "[CV 1/4] END models=DecisionTreeRegressor(), models__max_depth=4;, score=-701.751 total time=   0.0s\n",
      "[CV 2/4] END models=DecisionTreeRegressor(), models__max_depth=4;, score=-950.469 total time=   0.0s\n",
      "[CV 3/4] END models=DecisionTreeRegressor(), models__max_depth=4;, score=-1027.845 total time=   0.0s\n",
      "[CV 4/4] END models=DecisionTreeRegressor(), models__max_depth=4;, score=-1700.445 total time=   0.0s\n",
      "[CV 1/4] END models=DecisionTreeRegressor(), models__max_depth=5;, score=-752.403 total time=   0.0s\n",
      "[CV 2/4] END models=DecisionTreeRegressor(), models__max_depth=5;, score=-875.107 total time=   0.0s\n",
      "[CV 3/4] END models=DecisionTreeRegressor(), models__max_depth=5;, score=-1147.510 total time=   0.0s\n",
      "[CV 4/4] END models=DecisionTreeRegressor(), models__max_depth=5;, score=-1606.737 total time=   0.0s\n",
      "[CV 1/4] END models=DecisionTreeRegressor(), models__max_depth=6;, score=-906.036 total time=   0.0s\n",
      "[CV 2/4] END models=DecisionTreeRegressor(), models__max_depth=6;, score=-876.184 total time=   0.0s\n",
      "[CV 3/4] END models=DecisionTreeRegressor(), models__max_depth=6;, score=-1093.217 total time=   0.0s\n",
      "[CV 4/4] END models=DecisionTreeRegressor(), models__max_depth=6;, score=-1485.024 total time=   0.0s\n",
      "[CV 1/4] END models=DecisionTreeRegressor(), models__max_depth=7;, score=-799.998 total time=   0.0s\n",
      "[CV 2/4] END models=DecisionTreeRegressor(), models__max_depth=7;, score=-923.974 total time=   0.0s\n",
      "[CV 3/4] END models=DecisionTreeRegressor(), models__max_depth=7;, score=-1129.473 total time=   0.0s\n",
      "[CV 4/4] END models=DecisionTreeRegressor(), models__max_depth=7;, score=-1384.048 total time=   0.0s\n",
      "[CV 1/4] END models=DecisionTreeRegressor(), models__max_depth=8;, score=-938.589 total time=   0.0s\n",
      "[CV 2/4] END models=DecisionTreeRegressor(), models__max_depth=8;, score=-907.113 total time=   0.0s\n",
      "[CV 3/4] END models=DecisionTreeRegressor(), models__max_depth=8;, score=-1183.070 total time=   0.0s\n",
      "[CV 4/4] END models=DecisionTreeRegressor(), models__max_depth=8;, score=-1399.786 total time=   0.0s\n",
      "[CV 1/4] END models=DecisionTreeRegressor(), models__max_depth=9;, score=-989.258 total time=   0.0s\n",
      "[CV 2/4] END models=DecisionTreeRegressor(), models__max_depth=9;, score=-1006.819 total time=   0.0s\n",
      "[CV 3/4] END models=DecisionTreeRegressor(), models__max_depth=9;, score=-1092.385 total time=   0.0s\n",
      "[CV 4/4] END models=DecisionTreeRegressor(), models__max_depth=9;, score=-1368.763 total time=   0.0s\n",
      "[CV 1/4] END models=LinearRegression(), models__copy_X=True, models__fit_intercept=True, models__n_jobs=1, preprocessor__num=StandardScaler();, score=-836.391 total time=   0.0s\n",
      "[CV 2/4] END models=LinearRegression(), models__copy_X=True, models__fit_intercept=True, models__n_jobs=1, preprocessor__num=StandardScaler();, score=-612.757 total time=   0.0s\n",
      "[CV 3/4] END models=LinearRegression(), models__copy_X=True, models__fit_intercept=True, models__n_jobs=1, preprocessor__num=StandardScaler();, score=-611.448 total time=   0.0s\n",
      "[CV 4/4] END models=LinearRegression(), models__copy_X=True, models__fit_intercept=True, models__n_jobs=1, preprocessor__num=StandardScaler();, score=-955.342 total time=   0.0s\n",
      "[CV 1/4] END models=LinearRegression(), models__copy_X=True, models__fit_intercept=True, models__n_jobs=1, preprocessor__num=MinMaxScaler();, score=-836.399 total time=   0.0s\n",
      "[CV 2/4] END models=LinearRegression(), models__copy_X=True, models__fit_intercept=True, models__n_jobs=1, preprocessor__num=MinMaxScaler();, score=-612.756 total time=   0.0s\n",
      "[CV 3/4] END models=LinearRegression(), models__copy_X=True, models__fit_intercept=True, models__n_jobs=1, preprocessor__num=MinMaxScaler();, score=-611.448 total time=   0.0s\n",
      "[CV 4/4] END models=LinearRegression(), models__copy_X=True, models__fit_intercept=True, models__n_jobs=1, preprocessor__num=MinMaxScaler();, score=-955.342 total time=   0.0s\n",
      "[CV 1/4] END models=LinearRegression(), models__copy_X=True, models__fit_intercept=True, models__n_jobs=1, preprocessor__num=passthrough;, score=-837.261 total time=   0.1s\n",
      "[CV 2/4] END models=LinearRegression(), models__copy_X=True, models__fit_intercept=True, models__n_jobs=1, preprocessor__num=passthrough;, score=-612.762 total time=   0.0s\n",
      "[CV 3/4] END models=LinearRegression(), models__copy_X=True, models__fit_intercept=True, models__n_jobs=1, preprocessor__num=passthrough;, score=-611.444 total time=   0.0s\n",
      "[CV 4/4] END models=LinearRegression(), models__copy_X=True, models__fit_intercept=True, models__n_jobs=1, preprocessor__num=passthrough;, score=-955.316 total time=   0.0s\n",
      "[CV 1/4] END models=LinearRegression(), models__copy_X=True, models__fit_intercept=True, models__n_jobs=5, preprocessor__num=StandardScaler();, score=-836.391 total time=   0.0s\n",
      "[CV 2/4] END models=LinearRegression(), models__copy_X=True, models__fit_intercept=True, models__n_jobs=5, preprocessor__num=StandardScaler();, score=-612.757 total time=   0.0s\n",
      "[CV 3/4] END models=LinearRegression(), models__copy_X=True, models__fit_intercept=True, models__n_jobs=5, preprocessor__num=StandardScaler();, score=-611.448 total time=   0.0s\n",
      "[CV 4/4] END models=LinearRegression(), models__copy_X=True, models__fit_intercept=True, models__n_jobs=5, preprocessor__num=StandardScaler();, score=-955.342 total time=   0.0s\n",
      "[CV 1/4] END models=LinearRegression(), models__copy_X=True, models__fit_intercept=True, models__n_jobs=5, preprocessor__num=MinMaxScaler();, score=-836.399 total time=   0.0s\n",
      "[CV 2/4] END models=LinearRegression(), models__copy_X=True, models__fit_intercept=True, models__n_jobs=5, preprocessor__num=MinMaxScaler();, score=-612.756 total time=   0.0s\n",
      "[CV 3/4] END models=LinearRegression(), models__copy_X=True, models__fit_intercept=True, models__n_jobs=5, preprocessor__num=MinMaxScaler();, score=-611.448 total time=   0.0s\n",
      "[CV 4/4] END models=LinearRegression(), models__copy_X=True, models__fit_intercept=True, models__n_jobs=5, preprocessor__num=MinMaxScaler();, score=-955.342 total time=   0.0s\n",
      "[CV 1/4] END models=LinearRegression(), models__copy_X=True, models__fit_intercept=True, models__n_jobs=5, preprocessor__num=passthrough;, score=-837.261 total time=   0.0s\n",
      "[CV 2/4] END models=LinearRegression(), models__copy_X=True, models__fit_intercept=True, models__n_jobs=5, preprocessor__num=passthrough;, score=-612.762 total time=   0.0s\n",
      "[CV 3/4] END models=LinearRegression(), models__copy_X=True, models__fit_intercept=True, models__n_jobs=5, preprocessor__num=passthrough;, score=-611.444 total time=   0.0s\n",
      "[CV 4/4] END models=LinearRegression(), models__copy_X=True, models__fit_intercept=True, models__n_jobs=5, preprocessor__num=passthrough;, score=-955.316 total time=   0.0s\n",
      "[CV 1/4] END models=LinearRegression(), models__copy_X=True, models__fit_intercept=True, models__n_jobs=10, preprocessor__num=StandardScaler();, score=-836.391 total time=   0.0s\n",
      "[CV 2/4] END models=LinearRegression(), models__copy_X=True, models__fit_intercept=True, models__n_jobs=10, preprocessor__num=StandardScaler();, score=-612.757 total time=   0.0s\n",
      "[CV 3/4] END models=LinearRegression(), models__copy_X=True, models__fit_intercept=True, models__n_jobs=10, preprocessor__num=StandardScaler();, score=-611.448 total time=   0.0s\n",
      "[CV 4/4] END models=LinearRegression(), models__copy_X=True, models__fit_intercept=True, models__n_jobs=10, preprocessor__num=StandardScaler();, score=-955.342 total time=   0.0s\n",
      "[CV 1/4] END models=LinearRegression(), models__copy_X=True, models__fit_intercept=True, models__n_jobs=10, preprocessor__num=MinMaxScaler();, score=-836.399 total time=   0.0s\n",
      "[CV 2/4] END models=LinearRegression(), models__copy_X=True, models__fit_intercept=True, models__n_jobs=10, preprocessor__num=MinMaxScaler();, score=-612.756 total time=   0.0s\n",
      "[CV 3/4] END models=LinearRegression(), models__copy_X=True, models__fit_intercept=True, models__n_jobs=10, preprocessor__num=MinMaxScaler();, score=-611.448 total time=   0.0s\n",
      "[CV 4/4] END models=LinearRegression(), models__copy_X=True, models__fit_intercept=True, models__n_jobs=10, preprocessor__num=MinMaxScaler();, score=-955.342 total time=   0.0s\n",
      "[CV 1/4] END models=LinearRegression(), models__copy_X=True, models__fit_intercept=True, models__n_jobs=10, preprocessor__num=passthrough;, score=-837.261 total time=   0.0s\n",
      "[CV 2/4] END models=LinearRegression(), models__copy_X=True, models__fit_intercept=True, models__n_jobs=10, preprocessor__num=passthrough;, score=-612.762 total time=   0.0s\n",
      "[CV 3/4] END models=LinearRegression(), models__copy_X=True, models__fit_intercept=True, models__n_jobs=10, preprocessor__num=passthrough;, score=-611.444 total time=   0.0s\n",
      "[CV 4/4] END models=LinearRegression(), models__copy_X=True, models__fit_intercept=True, models__n_jobs=10, preprocessor__num=passthrough;, score=-955.316 total time=   0.0s\n",
      "[CV 1/4] END models=LinearRegression(), models__copy_X=True, models__fit_intercept=True, models__n_jobs=15, preprocessor__num=StandardScaler();, score=-836.391 total time=   0.0s\n",
      "[CV 2/4] END models=LinearRegression(), models__copy_X=True, models__fit_intercept=True, models__n_jobs=15, preprocessor__num=StandardScaler();, score=-612.757 total time=   0.0s\n",
      "[CV 3/4] END models=LinearRegression(), models__copy_X=True, models__fit_intercept=True, models__n_jobs=15, preprocessor__num=StandardScaler();, score=-611.448 total time=   0.0s\n",
      "[CV 4/4] END models=LinearRegression(), models__copy_X=True, models__fit_intercept=True, models__n_jobs=15, preprocessor__num=StandardScaler();, score=-955.342 total time=   0.0s\n",
      "[CV 1/4] END models=LinearRegression(), models__copy_X=True, models__fit_intercept=True, models__n_jobs=15, preprocessor__num=MinMaxScaler();, score=-836.399 total time=   0.0s\n",
      "[CV 2/4] END models=LinearRegression(), models__copy_X=True, models__fit_intercept=True, models__n_jobs=15, preprocessor__num=MinMaxScaler();, score=-612.756 total time=   0.0s\n",
      "[CV 3/4] END models=LinearRegression(), models__copy_X=True, models__fit_intercept=True, models__n_jobs=15, preprocessor__num=MinMaxScaler();, score=-611.448 total time=   0.0s\n",
      "[CV 4/4] END models=LinearRegression(), models__copy_X=True, models__fit_intercept=True, models__n_jobs=15, preprocessor__num=MinMaxScaler();, score=-955.342 total time=   0.0s\n",
      "[CV 1/4] END models=LinearRegression(), models__copy_X=True, models__fit_intercept=True, models__n_jobs=15, preprocessor__num=passthrough;, score=-837.261 total time=   0.0s\n",
      "[CV 2/4] END models=LinearRegression(), models__copy_X=True, models__fit_intercept=True, models__n_jobs=15, preprocessor__num=passthrough;, score=-612.762 total time=   0.0s\n",
      "[CV 3/4] END models=LinearRegression(), models__copy_X=True, models__fit_intercept=True, models__n_jobs=15, preprocessor__num=passthrough;, score=-611.444 total time=   0.0s\n",
      "[CV 4/4] END models=LinearRegression(), models__copy_X=True, models__fit_intercept=True, models__n_jobs=15, preprocessor__num=passthrough;, score=-955.316 total time=   0.0s\n",
      "[CV 1/4] END models=LinearRegression(), models__copy_X=True, models__fit_intercept=True, models__n_jobs=None, preprocessor__num=StandardScaler();, score=-836.391 total time=   0.0s\n",
      "[CV 2/4] END models=LinearRegression(), models__copy_X=True, models__fit_intercept=True, models__n_jobs=None, preprocessor__num=StandardScaler();, score=-612.757 total time=   0.0s\n",
      "[CV 3/4] END models=LinearRegression(), models__copy_X=True, models__fit_intercept=True, models__n_jobs=None, preprocessor__num=StandardScaler();, score=-611.448 total time=   0.0s\n",
      "[CV 4/4] END models=LinearRegression(), models__copy_X=True, models__fit_intercept=True, models__n_jobs=None, preprocessor__num=StandardScaler();, score=-955.342 total time=   0.0s\n",
      "[CV 1/4] END models=LinearRegression(), models__copy_X=True, models__fit_intercept=True, models__n_jobs=None, preprocessor__num=MinMaxScaler();, score=-836.399 total time=   0.0s\n",
      "[CV 2/4] END models=LinearRegression(), models__copy_X=True, models__fit_intercept=True, models__n_jobs=None, preprocessor__num=MinMaxScaler();, score=-612.756 total time=   0.0s\n",
      "[CV 3/4] END models=LinearRegression(), models__copy_X=True, models__fit_intercept=True, models__n_jobs=None, preprocessor__num=MinMaxScaler();, score=-611.448 total time=   0.0s\n",
      "[CV 4/4] END models=LinearRegression(), models__copy_X=True, models__fit_intercept=True, models__n_jobs=None, preprocessor__num=MinMaxScaler();, score=-955.342 total time=   0.0s\n",
      "[CV 1/4] END models=LinearRegression(), models__copy_X=True, models__fit_intercept=True, models__n_jobs=None, preprocessor__num=passthrough;, score=-837.261 total time=   0.0s\n",
      "[CV 2/4] END models=LinearRegression(), models__copy_X=True, models__fit_intercept=True, models__n_jobs=None, preprocessor__num=passthrough;, score=-612.762 total time=   0.0s\n",
      "[CV 3/4] END models=LinearRegression(), models__copy_X=True, models__fit_intercept=True, models__n_jobs=None, preprocessor__num=passthrough;, score=-611.444 total time=   0.0s\n",
      "[CV 4/4] END models=LinearRegression(), models__copy_X=True, models__fit_intercept=True, models__n_jobs=None, preprocessor__num=passthrough;, score=-955.316 total time=   0.0s\n",
      "[CV 1/4] END models=LinearRegression(), models__copy_X=True, models__fit_intercept=False, models__n_jobs=1, preprocessor__num=StandardScaler();, score=-3220.953 total time=   0.0s\n",
      "[CV 2/4] END models=LinearRegression(), models__copy_X=True, models__fit_intercept=False, models__n_jobs=1, preprocessor__num=StandardScaler();, score=-862.716 total time=   0.0s\n",
      "[CV 3/4] END models=LinearRegression(), models__copy_X=True, models__fit_intercept=False, models__n_jobs=1, preprocessor__num=StandardScaler();, score=-855.479 total time=   0.0s\n",
      "[CV 4/4] END models=LinearRegression(), models__copy_X=True, models__fit_intercept=False, models__n_jobs=1, preprocessor__num=StandardScaler();, score=-1312.608 total time=   0.0s\n",
      "[CV 1/4] END models=LinearRegression(), models__copy_X=True, models__fit_intercept=False, models__n_jobs=1, preprocessor__num=MinMaxScaler();, score=-2919.619 total time=   0.0s\n",
      "[CV 2/4] END models=LinearRegression(), models__copy_X=True, models__fit_intercept=False, models__n_jobs=1, preprocessor__num=MinMaxScaler();, score=-691.995 total time=   0.0s\n",
      "[CV 3/4] END models=LinearRegression(), models__copy_X=True, models__fit_intercept=False, models__n_jobs=1, preprocessor__num=MinMaxScaler();, score=-694.982 total time=   0.0s\n",
      "[CV 4/4] END models=LinearRegression(), models__copy_X=True, models__fit_intercept=False, models__n_jobs=1, preprocessor__num=MinMaxScaler();, score=-1119.531 total time=   0.0s\n",
      "[CV 1/4] END models=LinearRegression(), models__copy_X=True, models__fit_intercept=False, models__n_jobs=1, preprocessor__num=passthrough;, score=-6005.091 total time=   0.0s\n",
      "[CV 2/4] END models=LinearRegression(), models__copy_X=True, models__fit_intercept=False, models__n_jobs=1, preprocessor__num=passthrough;, score=-655.169 total time=   0.0s\n",
      "[CV 3/4] END models=LinearRegression(), models__copy_X=True, models__fit_intercept=False, models__n_jobs=1, preprocessor__num=passthrough;, score=-662.337 total time=   0.0s\n",
      "[CV 4/4] END models=LinearRegression(), models__copy_X=True, models__fit_intercept=False, models__n_jobs=1, preprocessor__num=passthrough;, score=-1034.025 total time=   0.0s\n",
      "[CV 1/4] END models=LinearRegression(), models__copy_X=True, models__fit_intercept=False, models__n_jobs=5, preprocessor__num=StandardScaler();, score=-3220.953 total time=   0.0s\n",
      "[CV 2/4] END models=LinearRegression(), models__copy_X=True, models__fit_intercept=False, models__n_jobs=5, preprocessor__num=StandardScaler();, score=-862.716 total time=   0.0s\n",
      "[CV 3/4] END models=LinearRegression(), models__copy_X=True, models__fit_intercept=False, models__n_jobs=5, preprocessor__num=StandardScaler();, score=-855.479 total time=   0.0s\n",
      "[CV 4/4] END models=LinearRegression(), models__copy_X=True, models__fit_intercept=False, models__n_jobs=5, preprocessor__num=StandardScaler();, score=-1312.608 total time=   0.0s\n",
      "[CV 1/4] END models=LinearRegression(), models__copy_X=True, models__fit_intercept=False, models__n_jobs=5, preprocessor__num=MinMaxScaler();, score=-2919.619 total time=   0.0s\n",
      "[CV 2/4] END models=LinearRegression(), models__copy_X=True, models__fit_intercept=False, models__n_jobs=5, preprocessor__num=MinMaxScaler();, score=-691.995 total time=   0.0s\n",
      "[CV 3/4] END models=LinearRegression(), models__copy_X=True, models__fit_intercept=False, models__n_jobs=5, preprocessor__num=MinMaxScaler();, score=-694.982 total time=   0.0s\n",
      "[CV 4/4] END models=LinearRegression(), models__copy_X=True, models__fit_intercept=False, models__n_jobs=5, preprocessor__num=MinMaxScaler();, score=-1119.531 total time=   0.0s\n",
      "[CV 1/4] END models=LinearRegression(), models__copy_X=True, models__fit_intercept=False, models__n_jobs=5, preprocessor__num=passthrough;, score=-6005.091 total time=   0.0s\n",
      "[CV 2/4] END models=LinearRegression(), models__copy_X=True, models__fit_intercept=False, models__n_jobs=5, preprocessor__num=passthrough;, score=-655.169 total time=   0.0s\n",
      "[CV 3/4] END models=LinearRegression(), models__copy_X=True, models__fit_intercept=False, models__n_jobs=5, preprocessor__num=passthrough;, score=-662.337 total time=   0.0s\n",
      "[CV 4/4] END models=LinearRegression(), models__copy_X=True, models__fit_intercept=False, models__n_jobs=5, preprocessor__num=passthrough;, score=-1034.025 total time=   0.0s\n",
      "[CV 1/4] END models=LinearRegression(), models__copy_X=True, models__fit_intercept=False, models__n_jobs=10, preprocessor__num=StandardScaler();, score=-3220.953 total time=   0.0s\n",
      "[CV 2/4] END models=LinearRegression(), models__copy_X=True, models__fit_intercept=False, models__n_jobs=10, preprocessor__num=StandardScaler();, score=-862.716 total time=   0.0s\n",
      "[CV 3/4] END models=LinearRegression(), models__copy_X=True, models__fit_intercept=False, models__n_jobs=10, preprocessor__num=StandardScaler();, score=-855.479 total time=   0.0s\n",
      "[CV 4/4] END models=LinearRegression(), models__copy_X=True, models__fit_intercept=False, models__n_jobs=10, preprocessor__num=StandardScaler();, score=-1312.608 total time=   0.0s\n",
      "[CV 1/4] END models=LinearRegression(), models__copy_X=True, models__fit_intercept=False, models__n_jobs=10, preprocessor__num=MinMaxScaler();, score=-2919.619 total time=   0.0s\n",
      "[CV 2/4] END models=LinearRegression(), models__copy_X=True, models__fit_intercept=False, models__n_jobs=10, preprocessor__num=MinMaxScaler();, score=-691.995 total time=   0.0s\n",
      "[CV 3/4] END models=LinearRegression(), models__copy_X=True, models__fit_intercept=False, models__n_jobs=10, preprocessor__num=MinMaxScaler();, score=-694.982 total time=   0.0s\n",
      "[CV 4/4] END models=LinearRegression(), models__copy_X=True, models__fit_intercept=False, models__n_jobs=10, preprocessor__num=MinMaxScaler();, score=-1119.531 total time=   0.0s\n",
      "[CV 1/4] END models=LinearRegression(), models__copy_X=True, models__fit_intercept=False, models__n_jobs=10, preprocessor__num=passthrough;, score=-6005.091 total time=   0.0s\n",
      "[CV 2/4] END models=LinearRegression(), models__copy_X=True, models__fit_intercept=False, models__n_jobs=10, preprocessor__num=passthrough;, score=-655.169 total time=   0.0s\n",
      "[CV 3/4] END models=LinearRegression(), models__copy_X=True, models__fit_intercept=False, models__n_jobs=10, preprocessor__num=passthrough;, score=-662.337 total time=   0.0s\n",
      "[CV 4/4] END models=LinearRegression(), models__copy_X=True, models__fit_intercept=False, models__n_jobs=10, preprocessor__num=passthrough;, score=-1034.025 total time=   0.0s\n",
      "[CV 1/4] END models=LinearRegression(), models__copy_X=True, models__fit_intercept=False, models__n_jobs=15, preprocessor__num=StandardScaler();, score=-3220.953 total time=   0.0s\n",
      "[CV 2/4] END models=LinearRegression(), models__copy_X=True, models__fit_intercept=False, models__n_jobs=15, preprocessor__num=StandardScaler();, score=-862.716 total time=   0.0s\n",
      "[CV 3/4] END models=LinearRegression(), models__copy_X=True, models__fit_intercept=False, models__n_jobs=15, preprocessor__num=StandardScaler();, score=-855.479 total time=   0.0s\n",
      "[CV 4/4] END models=LinearRegression(), models__copy_X=True, models__fit_intercept=False, models__n_jobs=15, preprocessor__num=StandardScaler();, score=-1312.608 total time=   0.0s\n",
      "[CV 1/4] END models=LinearRegression(), models__copy_X=True, models__fit_intercept=False, models__n_jobs=15, preprocessor__num=MinMaxScaler();, score=-2919.619 total time=   0.0s\n",
      "[CV 2/4] END models=LinearRegression(), models__copy_X=True, models__fit_intercept=False, models__n_jobs=15, preprocessor__num=MinMaxScaler();, score=-691.995 total time=   0.0s\n",
      "[CV 3/4] END models=LinearRegression(), models__copy_X=True, models__fit_intercept=False, models__n_jobs=15, preprocessor__num=MinMaxScaler();, score=-694.982 total time=   0.0s\n",
      "[CV 4/4] END models=LinearRegression(), models__copy_X=True, models__fit_intercept=False, models__n_jobs=15, preprocessor__num=MinMaxScaler();, score=-1119.531 total time=   0.0s\n",
      "[CV 1/4] END models=LinearRegression(), models__copy_X=True, models__fit_intercept=False, models__n_jobs=15, preprocessor__num=passthrough;, score=-6005.091 total time=   0.0s\n",
      "[CV 2/4] END models=LinearRegression(), models__copy_X=True, models__fit_intercept=False, models__n_jobs=15, preprocessor__num=passthrough;, score=-655.169 total time=   0.0s\n",
      "[CV 3/4] END models=LinearRegression(), models__copy_X=True, models__fit_intercept=False, models__n_jobs=15, preprocessor__num=passthrough;, score=-662.337 total time=   0.0s\n",
      "[CV 4/4] END models=LinearRegression(), models__copy_X=True, models__fit_intercept=False, models__n_jobs=15, preprocessor__num=passthrough;, score=-1034.025 total time=   0.0s\n",
      "[CV 1/4] END models=LinearRegression(), models__copy_X=True, models__fit_intercept=False, models__n_jobs=None, preprocessor__num=StandardScaler();, score=-3220.953 total time=   0.0s\n",
      "[CV 2/4] END models=LinearRegression(), models__copy_X=True, models__fit_intercept=False, models__n_jobs=None, preprocessor__num=StandardScaler();, score=-862.716 total time=   0.0s\n",
      "[CV 3/4] END models=LinearRegression(), models__copy_X=True, models__fit_intercept=False, models__n_jobs=None, preprocessor__num=StandardScaler();, score=-855.479 total time=   0.0s\n",
      "[CV 4/4] END models=LinearRegression(), models__copy_X=True, models__fit_intercept=False, models__n_jobs=None, preprocessor__num=StandardScaler();, score=-1312.608 total time=   0.0s\n",
      "[CV 1/4] END models=LinearRegression(), models__copy_X=True, models__fit_intercept=False, models__n_jobs=None, preprocessor__num=MinMaxScaler();, score=-2919.619 total time=   0.0s\n",
      "[CV 2/4] END models=LinearRegression(), models__copy_X=True, models__fit_intercept=False, models__n_jobs=None, preprocessor__num=MinMaxScaler();, score=-691.995 total time=   0.0s\n",
      "[CV 3/4] END models=LinearRegression(), models__copy_X=True, models__fit_intercept=False, models__n_jobs=None, preprocessor__num=MinMaxScaler();, score=-694.982 total time=   0.0s\n",
      "[CV 4/4] END models=LinearRegression(), models__copy_X=True, models__fit_intercept=False, models__n_jobs=None, preprocessor__num=MinMaxScaler();, score=-1119.531 total time=   0.0s\n",
      "[CV 1/4] END models=LinearRegression(), models__copy_X=True, models__fit_intercept=False, models__n_jobs=None, preprocessor__num=passthrough;, score=-6005.091 total time=   0.0s\n",
      "[CV 2/4] END models=LinearRegression(), models__copy_X=True, models__fit_intercept=False, models__n_jobs=None, preprocessor__num=passthrough;, score=-655.169 total time=   0.0s\n",
      "[CV 3/4] END models=LinearRegression(), models__copy_X=True, models__fit_intercept=False, models__n_jobs=None, preprocessor__num=passthrough;, score=-662.337 total time=   0.0s\n",
      "[CV 4/4] END models=LinearRegression(), models__copy_X=True, models__fit_intercept=False, models__n_jobs=None, preprocessor__num=passthrough;, score=-1034.025 total time=   0.0s\n",
      "[CV 1/4] END models=LinearRegression(), models__copy_X=False, models__fit_intercept=True, models__n_jobs=1, preprocessor__num=StandardScaler();, score=-836.391 total time=   0.0s\n",
      "[CV 2/4] END models=LinearRegression(), models__copy_X=False, models__fit_intercept=True, models__n_jobs=1, preprocessor__num=StandardScaler();, score=-612.757 total time=   0.0s\n",
      "[CV 3/4] END models=LinearRegression(), models__copy_X=False, models__fit_intercept=True, models__n_jobs=1, preprocessor__num=StandardScaler();, score=-611.448 total time=   0.0s\n",
      "[CV 4/4] END models=LinearRegression(), models__copy_X=False, models__fit_intercept=True, models__n_jobs=1, preprocessor__num=StandardScaler();, score=-955.342 total time=   0.0s\n",
      "[CV 1/4] END models=LinearRegression(), models__copy_X=False, models__fit_intercept=True, models__n_jobs=1, preprocessor__num=MinMaxScaler();, score=-836.399 total time=   0.0s\n",
      "[CV 2/4] END models=LinearRegression(), models__copy_X=False, models__fit_intercept=True, models__n_jobs=1, preprocessor__num=MinMaxScaler();, score=-612.756 total time=   0.0s\n",
      "[CV 3/4] END models=LinearRegression(), models__copy_X=False, models__fit_intercept=True, models__n_jobs=1, preprocessor__num=MinMaxScaler();, score=-611.448 total time=   0.0s\n",
      "[CV 4/4] END models=LinearRegression(), models__copy_X=False, models__fit_intercept=True, models__n_jobs=1, preprocessor__num=MinMaxScaler();, score=-955.342 total time=   0.0s\n",
      "[CV 1/4] END models=LinearRegression(), models__copy_X=False, models__fit_intercept=True, models__n_jobs=1, preprocessor__num=passthrough;, score=-837.261 total time=   0.0s\n",
      "[CV 2/4] END models=LinearRegression(), models__copy_X=False, models__fit_intercept=True, models__n_jobs=1, preprocessor__num=passthrough;, score=-612.762 total time=   0.0s\n",
      "[CV 3/4] END models=LinearRegression(), models__copy_X=False, models__fit_intercept=True, models__n_jobs=1, preprocessor__num=passthrough;, score=-611.444 total time=   0.0s\n",
      "[CV 4/4] END models=LinearRegression(), models__copy_X=False, models__fit_intercept=True, models__n_jobs=1, preprocessor__num=passthrough;, score=-955.316 total time=   0.0s\n",
      "[CV 1/4] END models=LinearRegression(), models__copy_X=False, models__fit_intercept=True, models__n_jobs=5, preprocessor__num=StandardScaler();, score=-836.391 total time=   0.0s\n",
      "[CV 2/4] END models=LinearRegression(), models__copy_X=False, models__fit_intercept=True, models__n_jobs=5, preprocessor__num=StandardScaler();, score=-612.757 total time=   0.0s\n",
      "[CV 3/4] END models=LinearRegression(), models__copy_X=False, models__fit_intercept=True, models__n_jobs=5, preprocessor__num=StandardScaler();, score=-611.448 total time=   0.0s\n",
      "[CV 4/4] END models=LinearRegression(), models__copy_X=False, models__fit_intercept=True, models__n_jobs=5, preprocessor__num=StandardScaler();, score=-955.342 total time=   0.0s\n",
      "[CV 1/4] END models=LinearRegression(), models__copy_X=False, models__fit_intercept=True, models__n_jobs=5, preprocessor__num=MinMaxScaler();, score=-836.399 total time=   0.0s\n",
      "[CV 2/4] END models=LinearRegression(), models__copy_X=False, models__fit_intercept=True, models__n_jobs=5, preprocessor__num=MinMaxScaler();, score=-612.756 total time=   0.0s\n",
      "[CV 3/4] END models=LinearRegression(), models__copy_X=False, models__fit_intercept=True, models__n_jobs=5, preprocessor__num=MinMaxScaler();, score=-611.448 total time=   0.0s\n",
      "[CV 4/4] END models=LinearRegression(), models__copy_X=False, models__fit_intercept=True, models__n_jobs=5, preprocessor__num=MinMaxScaler();, score=-955.342 total time=   0.0s\n",
      "[CV 1/4] END models=LinearRegression(), models__copy_X=False, models__fit_intercept=True, models__n_jobs=5, preprocessor__num=passthrough;, score=-837.261 total time=   0.0s\n",
      "[CV 2/4] END models=LinearRegression(), models__copy_X=False, models__fit_intercept=True, models__n_jobs=5, preprocessor__num=passthrough;, score=-612.762 total time=   0.0s\n",
      "[CV 3/4] END models=LinearRegression(), models__copy_X=False, models__fit_intercept=True, models__n_jobs=5, preprocessor__num=passthrough;, score=-611.444 total time=   0.0s\n",
      "[CV 4/4] END models=LinearRegression(), models__copy_X=False, models__fit_intercept=True, models__n_jobs=5, preprocessor__num=passthrough;, score=-955.316 total time=   0.0s\n",
      "[CV 1/4] END models=LinearRegression(), models__copy_X=False, models__fit_intercept=True, models__n_jobs=10, preprocessor__num=StandardScaler();, score=-836.391 total time=   0.0s\n",
      "[CV 2/4] END models=LinearRegression(), models__copy_X=False, models__fit_intercept=True, models__n_jobs=10, preprocessor__num=StandardScaler();, score=-612.757 total time=   0.0s\n",
      "[CV 3/4] END models=LinearRegression(), models__copy_X=False, models__fit_intercept=True, models__n_jobs=10, preprocessor__num=StandardScaler();, score=-611.448 total time=   0.0s\n",
      "[CV 4/4] END models=LinearRegression(), models__copy_X=False, models__fit_intercept=True, models__n_jobs=10, preprocessor__num=StandardScaler();, score=-955.342 total time=   0.0s\n",
      "[CV 1/4] END models=LinearRegression(), models__copy_X=False, models__fit_intercept=True, models__n_jobs=10, preprocessor__num=MinMaxScaler();, score=-836.399 total time=   0.0s\n",
      "[CV 2/4] END models=LinearRegression(), models__copy_X=False, models__fit_intercept=True, models__n_jobs=10, preprocessor__num=MinMaxScaler();, score=-612.756 total time=   0.0s\n",
      "[CV 3/4] END models=LinearRegression(), models__copy_X=False, models__fit_intercept=True, models__n_jobs=10, preprocessor__num=MinMaxScaler();, score=-611.448 total time=   0.0s\n",
      "[CV 4/4] END models=LinearRegression(), models__copy_X=False, models__fit_intercept=True, models__n_jobs=10, preprocessor__num=MinMaxScaler();, score=-955.342 total time=   0.0s\n",
      "[CV 1/4] END models=LinearRegression(), models__copy_X=False, models__fit_intercept=True, models__n_jobs=10, preprocessor__num=passthrough;, score=-837.261 total time=   0.0s\n",
      "[CV 2/4] END models=LinearRegression(), models__copy_X=False, models__fit_intercept=True, models__n_jobs=10, preprocessor__num=passthrough;, score=-612.762 total time=   0.0s\n",
      "[CV 3/4] END models=LinearRegression(), models__copy_X=False, models__fit_intercept=True, models__n_jobs=10, preprocessor__num=passthrough;, score=-611.444 total time=   0.0s\n",
      "[CV 4/4] END models=LinearRegression(), models__copy_X=False, models__fit_intercept=True, models__n_jobs=10, preprocessor__num=passthrough;, score=-955.316 total time=   0.0s\n",
      "[CV 1/4] END models=LinearRegression(), models__copy_X=False, models__fit_intercept=True, models__n_jobs=15, preprocessor__num=StandardScaler();, score=-836.391 total time=   0.0s\n",
      "[CV 2/4] END models=LinearRegression(), models__copy_X=False, models__fit_intercept=True, models__n_jobs=15, preprocessor__num=StandardScaler();, score=-612.757 total time=   0.0s\n",
      "[CV 3/4] END models=LinearRegression(), models__copy_X=False, models__fit_intercept=True, models__n_jobs=15, preprocessor__num=StandardScaler();, score=-611.448 total time=   0.0s\n",
      "[CV 4/4] END models=LinearRegression(), models__copy_X=False, models__fit_intercept=True, models__n_jobs=15, preprocessor__num=StandardScaler();, score=-955.342 total time=   0.0s\n",
      "[CV 1/4] END models=LinearRegression(), models__copy_X=False, models__fit_intercept=True, models__n_jobs=15, preprocessor__num=MinMaxScaler();, score=-836.399 total time=   0.0s\n",
      "[CV 2/4] END models=LinearRegression(), models__copy_X=False, models__fit_intercept=True, models__n_jobs=15, preprocessor__num=MinMaxScaler();, score=-612.756 total time=   0.1s\n",
      "[CV 3/4] END models=LinearRegression(), models__copy_X=False, models__fit_intercept=True, models__n_jobs=15, preprocessor__num=MinMaxScaler();, score=-611.448 total time=   0.0s\n",
      "[CV 4/4] END models=LinearRegression(), models__copy_X=False, models__fit_intercept=True, models__n_jobs=15, preprocessor__num=MinMaxScaler();, score=-955.342 total time=   0.0s\n",
      "[CV 1/4] END models=LinearRegression(), models__copy_X=False, models__fit_intercept=True, models__n_jobs=15, preprocessor__num=passthrough;, score=-837.261 total time=   0.0s\n",
      "[CV 2/4] END models=LinearRegression(), models__copy_X=False, models__fit_intercept=True, models__n_jobs=15, preprocessor__num=passthrough;, score=-612.762 total time=   0.0s\n",
      "[CV 3/4] END models=LinearRegression(), models__copy_X=False, models__fit_intercept=True, models__n_jobs=15, preprocessor__num=passthrough;, score=-611.444 total time=   0.0s\n",
      "[CV 4/4] END models=LinearRegression(), models__copy_X=False, models__fit_intercept=True, models__n_jobs=15, preprocessor__num=passthrough;, score=-955.316 total time=   0.0s\n",
      "[CV 1/4] END models=LinearRegression(), models__copy_X=False, models__fit_intercept=True, models__n_jobs=None, preprocessor__num=StandardScaler();, score=-836.391 total time=   0.0s\n",
      "[CV 2/4] END models=LinearRegression(), models__copy_X=False, models__fit_intercept=True, models__n_jobs=None, preprocessor__num=StandardScaler();, score=-612.757 total time=   0.0s\n",
      "[CV 3/4] END models=LinearRegression(), models__copy_X=False, models__fit_intercept=True, models__n_jobs=None, preprocessor__num=StandardScaler();, score=-611.448 total time=   0.0s\n",
      "[CV 4/4] END models=LinearRegression(), models__copy_X=False, models__fit_intercept=True, models__n_jobs=None, preprocessor__num=StandardScaler();, score=-955.342 total time=   0.0s\n",
      "[CV 1/4] END models=LinearRegression(), models__copy_X=False, models__fit_intercept=True, models__n_jobs=None, preprocessor__num=MinMaxScaler();, score=-836.399 total time=   0.0s\n",
      "[CV 2/4] END models=LinearRegression(), models__copy_X=False, models__fit_intercept=True, models__n_jobs=None, preprocessor__num=MinMaxScaler();, score=-612.756 total time=   0.0s\n",
      "[CV 3/4] END models=LinearRegression(), models__copy_X=False, models__fit_intercept=True, models__n_jobs=None, preprocessor__num=MinMaxScaler();, score=-611.448 total time=   0.1s\n",
      "[CV 4/4] END models=LinearRegression(), models__copy_X=False, models__fit_intercept=True, models__n_jobs=None, preprocessor__num=MinMaxScaler();, score=-955.342 total time=   0.0s\n",
      "[CV 1/4] END models=LinearRegression(), models__copy_X=False, models__fit_intercept=True, models__n_jobs=None, preprocessor__num=passthrough;, score=-837.261 total time=   0.0s\n",
      "[CV 2/4] END models=LinearRegression(), models__copy_X=False, models__fit_intercept=True, models__n_jobs=None, preprocessor__num=passthrough;, score=-612.762 total time=   0.0s\n",
      "[CV 3/4] END models=LinearRegression(), models__copy_X=False, models__fit_intercept=True, models__n_jobs=None, preprocessor__num=passthrough;, score=-611.444 total time=   0.0s\n",
      "[CV 4/4] END models=LinearRegression(), models__copy_X=False, models__fit_intercept=True, models__n_jobs=None, preprocessor__num=passthrough;, score=-955.316 total time=   0.0s\n",
      "[CV 1/4] END models=LinearRegression(), models__copy_X=False, models__fit_intercept=False, models__n_jobs=1, preprocessor__num=StandardScaler();, score=-3220.953 total time=   0.0s\n",
      "[CV 2/4] END models=LinearRegression(), models__copy_X=False, models__fit_intercept=False, models__n_jobs=1, preprocessor__num=StandardScaler();, score=-862.716 total time=   0.0s\n",
      "[CV 3/4] END models=LinearRegression(), models__copy_X=False, models__fit_intercept=False, models__n_jobs=1, preprocessor__num=StandardScaler();, score=-855.479 total time=   0.0s\n",
      "[CV 4/4] END models=LinearRegression(), models__copy_X=False, models__fit_intercept=False, models__n_jobs=1, preprocessor__num=StandardScaler();, score=-1312.608 total time=   0.0s\n",
      "[CV 1/4] END models=LinearRegression(), models__copy_X=False, models__fit_intercept=False, models__n_jobs=1, preprocessor__num=MinMaxScaler();, score=-2919.619 total time=   0.0s\n",
      "[CV 2/4] END models=LinearRegression(), models__copy_X=False, models__fit_intercept=False, models__n_jobs=1, preprocessor__num=MinMaxScaler();, score=-691.995 total time=   0.0s\n",
      "[CV 3/4] END models=LinearRegression(), models__copy_X=False, models__fit_intercept=False, models__n_jobs=1, preprocessor__num=MinMaxScaler();, score=-694.982 total time=   0.0s\n",
      "[CV 4/4] END models=LinearRegression(), models__copy_X=False, models__fit_intercept=False, models__n_jobs=1, preprocessor__num=MinMaxScaler();, score=-1119.531 total time=   0.0s\n",
      "[CV 1/4] END models=LinearRegression(), models__copy_X=False, models__fit_intercept=False, models__n_jobs=1, preprocessor__num=passthrough;, score=-6005.091 total time=   0.0s\n",
      "[CV 2/4] END models=LinearRegression(), models__copy_X=False, models__fit_intercept=False, models__n_jobs=1, preprocessor__num=passthrough;, score=-655.169 total time=   0.0s\n",
      "[CV 3/4] END models=LinearRegression(), models__copy_X=False, models__fit_intercept=False, models__n_jobs=1, preprocessor__num=passthrough;, score=-662.337 total time=   0.0s\n",
      "[CV 4/4] END models=LinearRegression(), models__copy_X=False, models__fit_intercept=False, models__n_jobs=1, preprocessor__num=passthrough;, score=-1034.025 total time=   0.0s\n",
      "[CV 1/4] END models=LinearRegression(), models__copy_X=False, models__fit_intercept=False, models__n_jobs=5, preprocessor__num=StandardScaler();, score=-3220.953 total time=   0.0s\n",
      "[CV 2/4] END models=LinearRegression(), models__copy_X=False, models__fit_intercept=False, models__n_jobs=5, preprocessor__num=StandardScaler();, score=-862.716 total time=   0.0s\n",
      "[CV 3/4] END models=LinearRegression(), models__copy_X=False, models__fit_intercept=False, models__n_jobs=5, preprocessor__num=StandardScaler();, score=-855.479 total time=   0.0s\n",
      "[CV 4/4] END models=LinearRegression(), models__copy_X=False, models__fit_intercept=False, models__n_jobs=5, preprocessor__num=StandardScaler();, score=-1312.608 total time=   0.0s\n",
      "[CV 1/4] END models=LinearRegression(), models__copy_X=False, models__fit_intercept=False, models__n_jobs=5, preprocessor__num=MinMaxScaler();, score=-2919.619 total time=   0.0s\n",
      "[CV 2/4] END models=LinearRegression(), models__copy_X=False, models__fit_intercept=False, models__n_jobs=5, preprocessor__num=MinMaxScaler();, score=-691.995 total time=   0.0s\n",
      "[CV 3/4] END models=LinearRegression(), models__copy_X=False, models__fit_intercept=False, models__n_jobs=5, preprocessor__num=MinMaxScaler();, score=-694.982 total time=   0.0s\n",
      "[CV 4/4] END models=LinearRegression(), models__copy_X=False, models__fit_intercept=False, models__n_jobs=5, preprocessor__num=MinMaxScaler();, score=-1119.531 total time=   0.0s\n",
      "[CV 1/4] END models=LinearRegression(), models__copy_X=False, models__fit_intercept=False, models__n_jobs=5, preprocessor__num=passthrough;, score=-6005.091 total time=   0.0s\n",
      "[CV 2/4] END models=LinearRegression(), models__copy_X=False, models__fit_intercept=False, models__n_jobs=5, preprocessor__num=passthrough;, score=-655.169 total time=   0.0s\n",
      "[CV 3/4] END models=LinearRegression(), models__copy_X=False, models__fit_intercept=False, models__n_jobs=5, preprocessor__num=passthrough;, score=-662.337 total time=   0.0s\n",
      "[CV 4/4] END models=LinearRegression(), models__copy_X=False, models__fit_intercept=False, models__n_jobs=5, preprocessor__num=passthrough;, score=-1034.025 total time=   0.0s\n",
      "[CV 1/4] END models=LinearRegression(), models__copy_X=False, models__fit_intercept=False, models__n_jobs=10, preprocessor__num=StandardScaler();, score=-3220.953 total time=   0.0s\n",
      "[CV 2/4] END models=LinearRegression(), models__copy_X=False, models__fit_intercept=False, models__n_jobs=10, preprocessor__num=StandardScaler();, score=-862.716 total time=   0.0s\n",
      "[CV 3/4] END models=LinearRegression(), models__copy_X=False, models__fit_intercept=False, models__n_jobs=10, preprocessor__num=StandardScaler();, score=-855.479 total time=   0.0s\n",
      "[CV 4/4] END models=LinearRegression(), models__copy_X=False, models__fit_intercept=False, models__n_jobs=10, preprocessor__num=StandardScaler();, score=-1312.608 total time=   0.0s\n",
      "[CV 1/4] END models=LinearRegression(), models__copy_X=False, models__fit_intercept=False, models__n_jobs=10, preprocessor__num=MinMaxScaler();, score=-2919.619 total time=   0.0s\n",
      "[CV 2/4] END models=LinearRegression(), models__copy_X=False, models__fit_intercept=False, models__n_jobs=10, preprocessor__num=MinMaxScaler();, score=-691.995 total time=   0.0s\n",
      "[CV 3/4] END models=LinearRegression(), models__copy_X=False, models__fit_intercept=False, models__n_jobs=10, preprocessor__num=MinMaxScaler();, score=-694.982 total time=   0.0s\n",
      "[CV 4/4] END models=LinearRegression(), models__copy_X=False, models__fit_intercept=False, models__n_jobs=10, preprocessor__num=MinMaxScaler();, score=-1119.531 total time=   0.0s\n",
      "[CV 1/4] END models=LinearRegression(), models__copy_X=False, models__fit_intercept=False, models__n_jobs=10, preprocessor__num=passthrough;, score=-6005.091 total time=   0.0s\n",
      "[CV 2/4] END models=LinearRegression(), models__copy_X=False, models__fit_intercept=False, models__n_jobs=10, preprocessor__num=passthrough;, score=-655.169 total time=   0.0s\n",
      "[CV 3/4] END models=LinearRegression(), models__copy_X=False, models__fit_intercept=False, models__n_jobs=10, preprocessor__num=passthrough;, score=-662.337 total time=   0.0s\n",
      "[CV 4/4] END models=LinearRegression(), models__copy_X=False, models__fit_intercept=False, models__n_jobs=10, preprocessor__num=passthrough;, score=-1034.025 total time=   0.0s\n",
      "[CV 1/4] END models=LinearRegression(), models__copy_X=False, models__fit_intercept=False, models__n_jobs=15, preprocessor__num=StandardScaler();, score=-3220.953 total time=   0.0s\n",
      "[CV 2/4] END models=LinearRegression(), models__copy_X=False, models__fit_intercept=False, models__n_jobs=15, preprocessor__num=StandardScaler();, score=-862.716 total time=   0.0s\n",
      "[CV 3/4] END models=LinearRegression(), models__copy_X=False, models__fit_intercept=False, models__n_jobs=15, preprocessor__num=StandardScaler();, score=-855.479 total time=   0.0s\n",
      "[CV 4/4] END models=LinearRegression(), models__copy_X=False, models__fit_intercept=False, models__n_jobs=15, preprocessor__num=StandardScaler();, score=-1312.608 total time=   0.0s\n",
      "[CV 1/4] END models=LinearRegression(), models__copy_X=False, models__fit_intercept=False, models__n_jobs=15, preprocessor__num=MinMaxScaler();, score=-2919.619 total time=   0.0s\n",
      "[CV 2/4] END models=LinearRegression(), models__copy_X=False, models__fit_intercept=False, models__n_jobs=15, preprocessor__num=MinMaxScaler();, score=-691.995 total time=   0.0s\n",
      "[CV 3/4] END models=LinearRegression(), models__copy_X=False, models__fit_intercept=False, models__n_jobs=15, preprocessor__num=MinMaxScaler();, score=-694.982 total time=   0.0s\n",
      "[CV 4/4] END models=LinearRegression(), models__copy_X=False, models__fit_intercept=False, models__n_jobs=15, preprocessor__num=MinMaxScaler();, score=-1119.531 total time=   0.0s\n",
      "[CV 1/4] END models=LinearRegression(), models__copy_X=False, models__fit_intercept=False, models__n_jobs=15, preprocessor__num=passthrough;, score=-6005.091 total time=   0.0s\n",
      "[CV 2/4] END models=LinearRegression(), models__copy_X=False, models__fit_intercept=False, models__n_jobs=15, preprocessor__num=passthrough;, score=-655.169 total time=   0.0s\n",
      "[CV 3/4] END models=LinearRegression(), models__copy_X=False, models__fit_intercept=False, models__n_jobs=15, preprocessor__num=passthrough;, score=-662.337 total time=   0.0s\n",
      "[CV 4/4] END models=LinearRegression(), models__copy_X=False, models__fit_intercept=False, models__n_jobs=15, preprocessor__num=passthrough;, score=-1034.025 total time=   0.0s\n",
      "[CV 1/4] END models=LinearRegression(), models__copy_X=False, models__fit_intercept=False, models__n_jobs=None, preprocessor__num=StandardScaler();, score=-3220.953 total time=   0.0s\n",
      "[CV 2/4] END models=LinearRegression(), models__copy_X=False, models__fit_intercept=False, models__n_jobs=None, preprocessor__num=StandardScaler();, score=-862.716 total time=   0.0s\n",
      "[CV 3/4] END models=LinearRegression(), models__copy_X=False, models__fit_intercept=False, models__n_jobs=None, preprocessor__num=StandardScaler();, score=-855.479 total time=   0.0s\n",
      "[CV 4/4] END models=LinearRegression(), models__copy_X=False, models__fit_intercept=False, models__n_jobs=None, preprocessor__num=StandardScaler();, score=-1312.608 total time=   0.0s\n",
      "[CV 1/4] END models=LinearRegression(), models__copy_X=False, models__fit_intercept=False, models__n_jobs=None, preprocessor__num=MinMaxScaler();, score=-2919.619 total time=   0.0s\n",
      "[CV 2/4] END models=LinearRegression(), models__copy_X=False, models__fit_intercept=False, models__n_jobs=None, preprocessor__num=MinMaxScaler();, score=-691.995 total time=   0.0s\n",
      "[CV 3/4] END models=LinearRegression(), models__copy_X=False, models__fit_intercept=False, models__n_jobs=None, preprocessor__num=MinMaxScaler();, score=-694.982 total time=   0.0s\n",
      "[CV 4/4] END models=LinearRegression(), models__copy_X=False, models__fit_intercept=False, models__n_jobs=None, preprocessor__num=MinMaxScaler();, score=-1119.531 total time=   0.0s\n",
      "[CV 1/4] END models=LinearRegression(), models__copy_X=False, models__fit_intercept=False, models__n_jobs=None, preprocessor__num=passthrough;, score=-6005.091 total time=   0.0s\n",
      "[CV 2/4] END models=LinearRegression(), models__copy_X=False, models__fit_intercept=False, models__n_jobs=None, preprocessor__num=passthrough;, score=-655.169 total time=   0.0s\n",
      "[CV 3/4] END models=LinearRegression(), models__copy_X=False, models__fit_intercept=False, models__n_jobs=None, preprocessor__num=passthrough;, score=-662.337 total time=   0.0s\n",
      "[CV 4/4] END models=LinearRegression(), models__copy_X=False, models__fit_intercept=False, models__n_jobs=None, preprocessor__num=passthrough;, score=-1034.025 total time=   0.0s\n"
     ]
    },
    {
     "data": {
      "text/html": [
       "<style>#sk-container-id-1 {\n",
       "  /* Definition of color scheme common for light and dark mode */\n",
       "  --sklearn-color-text: #000;\n",
       "  --sklearn-color-text-muted: #666;\n",
       "  --sklearn-color-line: gray;\n",
       "  /* Definition of color scheme for unfitted estimators */\n",
       "  --sklearn-color-unfitted-level-0: #fff5e6;\n",
       "  --sklearn-color-unfitted-level-1: #f6e4d2;\n",
       "  --sklearn-color-unfitted-level-2: #ffe0b3;\n",
       "  --sklearn-color-unfitted-level-3: chocolate;\n",
       "  /* Definition of color scheme for fitted estimators */\n",
       "  --sklearn-color-fitted-level-0: #f0f8ff;\n",
       "  --sklearn-color-fitted-level-1: #d4ebff;\n",
       "  --sklearn-color-fitted-level-2: #b3dbfd;\n",
       "  --sklearn-color-fitted-level-3: cornflowerblue;\n",
       "\n",
       "  /* Specific color for light theme */\n",
       "  --sklearn-color-text-on-default-background: var(--sg-text-color, var(--theme-code-foreground, var(--jp-content-font-color1, black)));\n",
       "  --sklearn-color-background: var(--sg-background-color, var(--theme-background, var(--jp-layout-color0, white)));\n",
       "  --sklearn-color-border-box: var(--sg-text-color, var(--theme-code-foreground, var(--jp-content-font-color1, black)));\n",
       "  --sklearn-color-icon: #696969;\n",
       "\n",
       "  @media (prefers-color-scheme: dark) {\n",
       "    /* Redefinition of color scheme for dark theme */\n",
       "    --sklearn-color-text-on-default-background: var(--sg-text-color, var(--theme-code-foreground, var(--jp-content-font-color1, white)));\n",
       "    --sklearn-color-background: var(--sg-background-color, var(--theme-background, var(--jp-layout-color0, #111)));\n",
       "    --sklearn-color-border-box: var(--sg-text-color, var(--theme-code-foreground, var(--jp-content-font-color1, white)));\n",
       "    --sklearn-color-icon: #878787;\n",
       "  }\n",
       "}\n",
       "\n",
       "#sk-container-id-1 {\n",
       "  color: var(--sklearn-color-text);\n",
       "}\n",
       "\n",
       "#sk-container-id-1 pre {\n",
       "  padding: 0;\n",
       "}\n",
       "\n",
       "#sk-container-id-1 input.sk-hidden--visually {\n",
       "  border: 0;\n",
       "  clip: rect(1px 1px 1px 1px);\n",
       "  clip: rect(1px, 1px, 1px, 1px);\n",
       "  height: 1px;\n",
       "  margin: -1px;\n",
       "  overflow: hidden;\n",
       "  padding: 0;\n",
       "  position: absolute;\n",
       "  width: 1px;\n",
       "}\n",
       "\n",
       "#sk-container-id-1 div.sk-dashed-wrapped {\n",
       "  border: 1px dashed var(--sklearn-color-line);\n",
       "  margin: 0 0.4em 0.5em 0.4em;\n",
       "  box-sizing: border-box;\n",
       "  padding-bottom: 0.4em;\n",
       "  background-color: var(--sklearn-color-background);\n",
       "}\n",
       "\n",
       "#sk-container-id-1 div.sk-container {\n",
       "  /* jupyter's `normalize.less` sets `[hidden] { display: none; }`\n",
       "     but bootstrap.min.css set `[hidden] { display: none !important; }`\n",
       "     so we also need the `!important` here to be able to override the\n",
       "     default hidden behavior on the sphinx rendered scikit-learn.org.\n",
       "     See: https://github.com/scikit-learn/scikit-learn/issues/21755 */\n",
       "  display: inline-block !important;\n",
       "  position: relative;\n",
       "}\n",
       "\n",
       "#sk-container-id-1 div.sk-text-repr-fallback {\n",
       "  display: none;\n",
       "}\n",
       "\n",
       "div.sk-parallel-item,\n",
       "div.sk-serial,\n",
       "div.sk-item {\n",
       "  /* draw centered vertical line to link estimators */\n",
       "  background-image: linear-gradient(var(--sklearn-color-text-on-default-background), var(--sklearn-color-text-on-default-background));\n",
       "  background-size: 2px 100%;\n",
       "  background-repeat: no-repeat;\n",
       "  background-position: center center;\n",
       "}\n",
       "\n",
       "/* Parallel-specific style estimator block */\n",
       "\n",
       "#sk-container-id-1 div.sk-parallel-item::after {\n",
       "  content: \"\";\n",
       "  width: 100%;\n",
       "  border-bottom: 2px solid var(--sklearn-color-text-on-default-background);\n",
       "  flex-grow: 1;\n",
       "}\n",
       "\n",
       "#sk-container-id-1 div.sk-parallel {\n",
       "  display: flex;\n",
       "  align-items: stretch;\n",
       "  justify-content: center;\n",
       "  background-color: var(--sklearn-color-background);\n",
       "  position: relative;\n",
       "}\n",
       "\n",
       "#sk-container-id-1 div.sk-parallel-item {\n",
       "  display: flex;\n",
       "  flex-direction: column;\n",
       "}\n",
       "\n",
       "#sk-container-id-1 div.sk-parallel-item:first-child::after {\n",
       "  align-self: flex-end;\n",
       "  width: 50%;\n",
       "}\n",
       "\n",
       "#sk-container-id-1 div.sk-parallel-item:last-child::after {\n",
       "  align-self: flex-start;\n",
       "  width: 50%;\n",
       "}\n",
       "\n",
       "#sk-container-id-1 div.sk-parallel-item:only-child::after {\n",
       "  width: 0;\n",
       "}\n",
       "\n",
       "/* Serial-specific style estimator block */\n",
       "\n",
       "#sk-container-id-1 div.sk-serial {\n",
       "  display: flex;\n",
       "  flex-direction: column;\n",
       "  align-items: center;\n",
       "  background-color: var(--sklearn-color-background);\n",
       "  padding-right: 1em;\n",
       "  padding-left: 1em;\n",
       "}\n",
       "\n",
       "\n",
       "/* Toggleable style: style used for estimator/Pipeline/ColumnTransformer box that is\n",
       "clickable and can be expanded/collapsed.\n",
       "- Pipeline and ColumnTransformer use this feature and define the default style\n",
       "- Estimators will overwrite some part of the style using the `sk-estimator` class\n",
       "*/\n",
       "\n",
       "/* Pipeline and ColumnTransformer style (default) */\n",
       "\n",
       "#sk-container-id-1 div.sk-toggleable {\n",
       "  /* Default theme specific background. It is overwritten whether we have a\n",
       "  specific estimator or a Pipeline/ColumnTransformer */\n",
       "  background-color: var(--sklearn-color-background);\n",
       "}\n",
       "\n",
       "/* Toggleable label */\n",
       "#sk-container-id-1 label.sk-toggleable__label {\n",
       "  cursor: pointer;\n",
       "  display: flex;\n",
       "  width: 100%;\n",
       "  margin-bottom: 0;\n",
       "  padding: 0.5em;\n",
       "  box-sizing: border-box;\n",
       "  text-align: center;\n",
       "  align-items: start;\n",
       "  justify-content: space-between;\n",
       "  gap: 0.5em;\n",
       "}\n",
       "\n",
       "#sk-container-id-1 label.sk-toggleable__label .caption {\n",
       "  font-size: 0.6rem;\n",
       "  font-weight: lighter;\n",
       "  color: var(--sklearn-color-text-muted);\n",
       "}\n",
       "\n",
       "#sk-container-id-1 label.sk-toggleable__label-arrow:before {\n",
       "  /* Arrow on the left of the label */\n",
       "  content: \"▸\";\n",
       "  float: left;\n",
       "  margin-right: 0.25em;\n",
       "  color: var(--sklearn-color-icon);\n",
       "}\n",
       "\n",
       "#sk-container-id-1 label.sk-toggleable__label-arrow:hover:before {\n",
       "  color: var(--sklearn-color-text);\n",
       "}\n",
       "\n",
       "/* Toggleable content - dropdown */\n",
       "\n",
       "#sk-container-id-1 div.sk-toggleable__content {\n",
       "  max-height: 0;\n",
       "  max-width: 0;\n",
       "  overflow: hidden;\n",
       "  text-align: left;\n",
       "  /* unfitted */\n",
       "  background-color: var(--sklearn-color-unfitted-level-0);\n",
       "}\n",
       "\n",
       "#sk-container-id-1 div.sk-toggleable__content.fitted {\n",
       "  /* fitted */\n",
       "  background-color: var(--sklearn-color-fitted-level-0);\n",
       "}\n",
       "\n",
       "#sk-container-id-1 div.sk-toggleable__content pre {\n",
       "  margin: 0.2em;\n",
       "  border-radius: 0.25em;\n",
       "  color: var(--sklearn-color-text);\n",
       "  /* unfitted */\n",
       "  background-color: var(--sklearn-color-unfitted-level-0);\n",
       "}\n",
       "\n",
       "#sk-container-id-1 div.sk-toggleable__content.fitted pre {\n",
       "  /* unfitted */\n",
       "  background-color: var(--sklearn-color-fitted-level-0);\n",
       "}\n",
       "\n",
       "#sk-container-id-1 input.sk-toggleable__control:checked~div.sk-toggleable__content {\n",
       "  /* Expand drop-down */\n",
       "  max-height: 200px;\n",
       "  max-width: 100%;\n",
       "  overflow: auto;\n",
       "}\n",
       "\n",
       "#sk-container-id-1 input.sk-toggleable__control:checked~label.sk-toggleable__label-arrow:before {\n",
       "  content: \"▾\";\n",
       "}\n",
       "\n",
       "/* Pipeline/ColumnTransformer-specific style */\n",
       "\n",
       "#sk-container-id-1 div.sk-label input.sk-toggleable__control:checked~label.sk-toggleable__label {\n",
       "  color: var(--sklearn-color-text);\n",
       "  background-color: var(--sklearn-color-unfitted-level-2);\n",
       "}\n",
       "\n",
       "#sk-container-id-1 div.sk-label.fitted input.sk-toggleable__control:checked~label.sk-toggleable__label {\n",
       "  background-color: var(--sklearn-color-fitted-level-2);\n",
       "}\n",
       "\n",
       "/* Estimator-specific style */\n",
       "\n",
       "/* Colorize estimator box */\n",
       "#sk-container-id-1 div.sk-estimator input.sk-toggleable__control:checked~label.sk-toggleable__label {\n",
       "  /* unfitted */\n",
       "  background-color: var(--sklearn-color-unfitted-level-2);\n",
       "}\n",
       "\n",
       "#sk-container-id-1 div.sk-estimator.fitted input.sk-toggleable__control:checked~label.sk-toggleable__label {\n",
       "  /* fitted */\n",
       "  background-color: var(--sklearn-color-fitted-level-2);\n",
       "}\n",
       "\n",
       "#sk-container-id-1 div.sk-label label.sk-toggleable__label,\n",
       "#sk-container-id-1 div.sk-label label {\n",
       "  /* The background is the default theme color */\n",
       "  color: var(--sklearn-color-text-on-default-background);\n",
       "}\n",
       "\n",
       "/* On hover, darken the color of the background */\n",
       "#sk-container-id-1 div.sk-label:hover label.sk-toggleable__label {\n",
       "  color: var(--sklearn-color-text);\n",
       "  background-color: var(--sklearn-color-unfitted-level-2);\n",
       "}\n",
       "\n",
       "/* Label box, darken color on hover, fitted */\n",
       "#sk-container-id-1 div.sk-label.fitted:hover label.sk-toggleable__label.fitted {\n",
       "  color: var(--sklearn-color-text);\n",
       "  background-color: var(--sklearn-color-fitted-level-2);\n",
       "}\n",
       "\n",
       "/* Estimator label */\n",
       "\n",
       "#sk-container-id-1 div.sk-label label {\n",
       "  font-family: monospace;\n",
       "  font-weight: bold;\n",
       "  display: inline-block;\n",
       "  line-height: 1.2em;\n",
       "}\n",
       "\n",
       "#sk-container-id-1 div.sk-label-container {\n",
       "  text-align: center;\n",
       "}\n",
       "\n",
       "/* Estimator-specific */\n",
       "#sk-container-id-1 div.sk-estimator {\n",
       "  font-family: monospace;\n",
       "  border: 1px dotted var(--sklearn-color-border-box);\n",
       "  border-radius: 0.25em;\n",
       "  box-sizing: border-box;\n",
       "  margin-bottom: 0.5em;\n",
       "  /* unfitted */\n",
       "  background-color: var(--sklearn-color-unfitted-level-0);\n",
       "}\n",
       "\n",
       "#sk-container-id-1 div.sk-estimator.fitted {\n",
       "  /* fitted */\n",
       "  background-color: var(--sklearn-color-fitted-level-0);\n",
       "}\n",
       "\n",
       "/* on hover */\n",
       "#sk-container-id-1 div.sk-estimator:hover {\n",
       "  /* unfitted */\n",
       "  background-color: var(--sklearn-color-unfitted-level-2);\n",
       "}\n",
       "\n",
       "#sk-container-id-1 div.sk-estimator.fitted:hover {\n",
       "  /* fitted */\n",
       "  background-color: var(--sklearn-color-fitted-level-2);\n",
       "}\n",
       "\n",
       "/* Specification for estimator info (e.g. \"i\" and \"?\") */\n",
       "\n",
       "/* Common style for \"i\" and \"?\" */\n",
       "\n",
       ".sk-estimator-doc-link,\n",
       "a:link.sk-estimator-doc-link,\n",
       "a:visited.sk-estimator-doc-link {\n",
       "  float: right;\n",
       "  font-size: smaller;\n",
       "  line-height: 1em;\n",
       "  font-family: monospace;\n",
       "  background-color: var(--sklearn-color-background);\n",
       "  border-radius: 1em;\n",
       "  height: 1em;\n",
       "  width: 1em;\n",
       "  text-decoration: none !important;\n",
       "  margin-left: 0.5em;\n",
       "  text-align: center;\n",
       "  /* unfitted */\n",
       "  border: var(--sklearn-color-unfitted-level-1) 1pt solid;\n",
       "  color: var(--sklearn-color-unfitted-level-1);\n",
       "}\n",
       "\n",
       ".sk-estimator-doc-link.fitted,\n",
       "a:link.sk-estimator-doc-link.fitted,\n",
       "a:visited.sk-estimator-doc-link.fitted {\n",
       "  /* fitted */\n",
       "  border: var(--sklearn-color-fitted-level-1) 1pt solid;\n",
       "  color: var(--sklearn-color-fitted-level-1);\n",
       "}\n",
       "\n",
       "/* On hover */\n",
       "div.sk-estimator:hover .sk-estimator-doc-link:hover,\n",
       ".sk-estimator-doc-link:hover,\n",
       "div.sk-label-container:hover .sk-estimator-doc-link:hover,\n",
       ".sk-estimator-doc-link:hover {\n",
       "  /* unfitted */\n",
       "  background-color: var(--sklearn-color-unfitted-level-3);\n",
       "  color: var(--sklearn-color-background);\n",
       "  text-decoration: none;\n",
       "}\n",
       "\n",
       "div.sk-estimator.fitted:hover .sk-estimator-doc-link.fitted:hover,\n",
       ".sk-estimator-doc-link.fitted:hover,\n",
       "div.sk-label-container:hover .sk-estimator-doc-link.fitted:hover,\n",
       ".sk-estimator-doc-link.fitted:hover {\n",
       "  /* fitted */\n",
       "  background-color: var(--sklearn-color-fitted-level-3);\n",
       "  color: var(--sklearn-color-background);\n",
       "  text-decoration: none;\n",
       "}\n",
       "\n",
       "/* Span, style for the box shown on hovering the info icon */\n",
       ".sk-estimator-doc-link span {\n",
       "  display: none;\n",
       "  z-index: 9999;\n",
       "  position: relative;\n",
       "  font-weight: normal;\n",
       "  right: .2ex;\n",
       "  padding: .5ex;\n",
       "  margin: .5ex;\n",
       "  width: min-content;\n",
       "  min-width: 20ex;\n",
       "  max-width: 50ex;\n",
       "  color: var(--sklearn-color-text);\n",
       "  box-shadow: 2pt 2pt 4pt #999;\n",
       "  /* unfitted */\n",
       "  background: var(--sklearn-color-unfitted-level-0);\n",
       "  border: .5pt solid var(--sklearn-color-unfitted-level-3);\n",
       "}\n",
       "\n",
       ".sk-estimator-doc-link.fitted span {\n",
       "  /* fitted */\n",
       "  background: var(--sklearn-color-fitted-level-0);\n",
       "  border: var(--sklearn-color-fitted-level-3);\n",
       "}\n",
       "\n",
       ".sk-estimator-doc-link:hover span {\n",
       "  display: block;\n",
       "}\n",
       "\n",
       "/* \"?\"-specific style due to the `<a>` HTML tag */\n",
       "\n",
       "#sk-container-id-1 a.estimator_doc_link {\n",
       "  float: right;\n",
       "  font-size: 1rem;\n",
       "  line-height: 1em;\n",
       "  font-family: monospace;\n",
       "  background-color: var(--sklearn-color-background);\n",
       "  border-radius: 1rem;\n",
       "  height: 1rem;\n",
       "  width: 1rem;\n",
       "  text-decoration: none;\n",
       "  /* unfitted */\n",
       "  color: var(--sklearn-color-unfitted-level-1);\n",
       "  border: var(--sklearn-color-unfitted-level-1) 1pt solid;\n",
       "}\n",
       "\n",
       "#sk-container-id-1 a.estimator_doc_link.fitted {\n",
       "  /* fitted */\n",
       "  border: var(--sklearn-color-fitted-level-1) 1pt solid;\n",
       "  color: var(--sklearn-color-fitted-level-1);\n",
       "}\n",
       "\n",
       "/* On hover */\n",
       "#sk-container-id-1 a.estimator_doc_link:hover {\n",
       "  /* unfitted */\n",
       "  background-color: var(--sklearn-color-unfitted-level-3);\n",
       "  color: var(--sklearn-color-background);\n",
       "  text-decoration: none;\n",
       "}\n",
       "\n",
       "#sk-container-id-1 a.estimator_doc_link.fitted:hover {\n",
       "  /* fitted */\n",
       "  background-color: var(--sklearn-color-fitted-level-3);\n",
       "}\n",
       "</style><div id=\"sk-container-id-1\" class=\"sk-top-container\"><div class=\"sk-text-repr-fallback\"><pre>GridSearchCV(cv=TimeSeriesSplit(gap=0, max_train_size=None, n_splits=4, test_size=None),\n",
       "             error_score=&#x27;raise&#x27;,\n",
       "             estimator=Pipeline(steps=[(&#x27;preprocessor&#x27;,\n",
       "                                        ColumnTransformer(remainder=&#x27;passthrough&#x27;,\n",
       "                                                          transformers=[(&#x27;ohe&#x27;,\n",
       "                                                                         Pipeline(steps=[(&#x27;ohe&#x27;,\n",
       "                                                                                          OneHotEncoder(drop=&#x27;first&#x27;))]),\n",
       "                                                                         [&#x27;hour&#x27;,\n",
       "                                                                          &#x27;day&#x27;,\n",
       "                                                                          &#x27;dayofweek&#x27;]),\n",
       "                                                                        (&#x27;num&#x27;,\n",
       "                                                                         StandardScaler(),\n",
       "                                                                         [&#x27;lag_1&#x27;,\n",
       "                                                                          &#x27;lag_2&#x27;,\n",
       "                                                                          &#x27;lag_3&#x27;,\n",
       "                                                                          &#x27;lag_4&#x27;,\n",
       "                                                                          &#x27;...\n",
       "             n_jobs=-1,\n",
       "             param_grid=[{&#x27;models&#x27;: [DecisionTreeRegressor()],\n",
       "                          &#x27;models__max_depth&#x27;: range(1, 10)},\n",
       "                         {&#x27;models&#x27;: [LinearRegression()],\n",
       "                          &#x27;models__copy_X&#x27;: [True, False],\n",
       "                          &#x27;models__fit_intercept&#x27;: [True, False],\n",
       "                          &#x27;models__n_jobs&#x27;: [1, 5, 10, 15, None],\n",
       "                          &#x27;preprocessor__num&#x27;: [StandardScaler(),\n",
       "                                                MinMaxScaler(),\n",
       "                                                &#x27;passthrough&#x27;]}],\n",
       "             refit=&#x27;recall&#x27;, scoring=&#x27;neg_mean_squared_error&#x27;, verbose=3)</pre><b>In a Jupyter environment, please rerun this cell to show the HTML representation or trust the notebook. <br />On GitHub, the HTML representation is unable to render, please try loading this page with nbviewer.org.</b></div><div class=\"sk-container\" hidden><div class=\"sk-item sk-dashed-wrapped\"><div class=\"sk-label-container\"><div class=\"sk-label fitted sk-toggleable\"><input class=\"sk-toggleable__control sk-hidden--visually\" id=\"sk-estimator-id-1\" type=\"checkbox\" ><label for=\"sk-estimator-id-1\" class=\"sk-toggleable__label fitted sk-toggleable__label-arrow\"><div><div>GridSearchCV</div></div><div><a class=\"sk-estimator-doc-link fitted\" rel=\"noreferrer\" target=\"_blank\" href=\"https://scikit-learn.org/1.6/modules/generated/sklearn.model_selection.GridSearchCV.html\">?<span>Documentation for GridSearchCV</span></a><span class=\"sk-estimator-doc-link fitted\">i<span>Fitted</span></span></div></label><div class=\"sk-toggleable__content fitted\"><pre>GridSearchCV(cv=TimeSeriesSplit(gap=0, max_train_size=None, n_splits=4, test_size=None),\n",
       "             error_score=&#x27;raise&#x27;,\n",
       "             estimator=Pipeline(steps=[(&#x27;preprocessor&#x27;,\n",
       "                                        ColumnTransformer(remainder=&#x27;passthrough&#x27;,\n",
       "                                                          transformers=[(&#x27;ohe&#x27;,\n",
       "                                                                         Pipeline(steps=[(&#x27;ohe&#x27;,\n",
       "                                                                                          OneHotEncoder(drop=&#x27;first&#x27;))]),\n",
       "                                                                         [&#x27;hour&#x27;,\n",
       "                                                                          &#x27;day&#x27;,\n",
       "                                                                          &#x27;dayofweek&#x27;]),\n",
       "                                                                        (&#x27;num&#x27;,\n",
       "                                                                         StandardScaler(),\n",
       "                                                                         [&#x27;lag_1&#x27;,\n",
       "                                                                          &#x27;lag_2&#x27;,\n",
       "                                                                          &#x27;lag_3&#x27;,\n",
       "                                                                          &#x27;lag_4&#x27;,\n",
       "                                                                          &#x27;...\n",
       "             n_jobs=-1,\n",
       "             param_grid=[{&#x27;models&#x27;: [DecisionTreeRegressor()],\n",
       "                          &#x27;models__max_depth&#x27;: range(1, 10)},\n",
       "                         {&#x27;models&#x27;: [LinearRegression()],\n",
       "                          &#x27;models__copy_X&#x27;: [True, False],\n",
       "                          &#x27;models__fit_intercept&#x27;: [True, False],\n",
       "                          &#x27;models__n_jobs&#x27;: [1, 5, 10, 15, None],\n",
       "                          &#x27;preprocessor__num&#x27;: [StandardScaler(),\n",
       "                                                MinMaxScaler(),\n",
       "                                                &#x27;passthrough&#x27;]}],\n",
       "             refit=&#x27;recall&#x27;, scoring=&#x27;neg_mean_squared_error&#x27;, verbose=3)</pre></div> </div></div><div class=\"sk-parallel\"><div class=\"sk-parallel-item\"><div class=\"sk-item\"><div class=\"sk-label-container\"><div class=\"sk-label fitted sk-toggleable\"><input class=\"sk-toggleable__control sk-hidden--visually\" id=\"sk-estimator-id-2\" type=\"checkbox\" ><label for=\"sk-estimator-id-2\" class=\"sk-toggleable__label fitted sk-toggleable__label-arrow\"><div><div>best_estimator_: Pipeline</div></div></label><div class=\"sk-toggleable__content fitted\"><pre>Pipeline(steps=[(&#x27;preprocessor&#x27;,\n",
       "                 ColumnTransformer(remainder=&#x27;passthrough&#x27;,\n",
       "                                   transformers=[(&#x27;ohe&#x27;,\n",
       "                                                  Pipeline(steps=[(&#x27;ohe&#x27;,\n",
       "                                                                   OneHotEncoder(drop=&#x27;first&#x27;))]),\n",
       "                                                  [&#x27;hour&#x27;, &#x27;day&#x27;, &#x27;dayofweek&#x27;]),\n",
       "                                                 (&#x27;num&#x27;, StandardScaler(),\n",
       "                                                  [&#x27;lag_1&#x27;, &#x27;lag_2&#x27;, &#x27;lag_3&#x27;,\n",
       "                                                   &#x27;lag_4&#x27;, &#x27;lag_5&#x27;,\n",
       "                                                   &#x27;rolling_mean&#x27;])])),\n",
       "                (&#x27;models&#x27;, LinearRegression(n_jobs=1))])</pre></div> </div></div><div class=\"sk-serial\"><div class=\"sk-item\"><div class=\"sk-serial\"><div class=\"sk-item sk-dashed-wrapped\"><div class=\"sk-label-container\"><div class=\"sk-label fitted sk-toggleable\"><input class=\"sk-toggleable__control sk-hidden--visually\" id=\"sk-estimator-id-3\" type=\"checkbox\" ><label for=\"sk-estimator-id-3\" class=\"sk-toggleable__label fitted sk-toggleable__label-arrow\"><div><div>preprocessor: ColumnTransformer</div></div><div><a class=\"sk-estimator-doc-link fitted\" rel=\"noreferrer\" target=\"_blank\" href=\"https://scikit-learn.org/1.6/modules/generated/sklearn.compose.ColumnTransformer.html\">?<span>Documentation for preprocessor: ColumnTransformer</span></a></div></label><div class=\"sk-toggleable__content fitted\"><pre>ColumnTransformer(remainder=&#x27;passthrough&#x27;,\n",
       "                  transformers=[(&#x27;ohe&#x27;,\n",
       "                                 Pipeline(steps=[(&#x27;ohe&#x27;,\n",
       "                                                  OneHotEncoder(drop=&#x27;first&#x27;))]),\n",
       "                                 [&#x27;hour&#x27;, &#x27;day&#x27;, &#x27;dayofweek&#x27;]),\n",
       "                                (&#x27;num&#x27;, StandardScaler(),\n",
       "                                 [&#x27;lag_1&#x27;, &#x27;lag_2&#x27;, &#x27;lag_3&#x27;, &#x27;lag_4&#x27;, &#x27;lag_5&#x27;,\n",
       "                                  &#x27;rolling_mean&#x27;])])</pre></div> </div></div><div class=\"sk-parallel\"><div class=\"sk-parallel-item\"><div class=\"sk-item\"><div class=\"sk-label-container\"><div class=\"sk-label fitted sk-toggleable\"><input class=\"sk-toggleable__control sk-hidden--visually\" id=\"sk-estimator-id-4\" type=\"checkbox\" ><label for=\"sk-estimator-id-4\" class=\"sk-toggleable__label fitted sk-toggleable__label-arrow\"><div><div>ohe</div></div></label><div class=\"sk-toggleable__content fitted\"><pre>[&#x27;hour&#x27;, &#x27;day&#x27;, &#x27;dayofweek&#x27;]</pre></div> </div></div><div class=\"sk-serial\"><div class=\"sk-item\"><div class=\"sk-serial\"><div class=\"sk-item\"><div class=\"sk-estimator fitted sk-toggleable\"><input class=\"sk-toggleable__control sk-hidden--visually\" id=\"sk-estimator-id-5\" type=\"checkbox\" ><label for=\"sk-estimator-id-5\" class=\"sk-toggleable__label fitted sk-toggleable__label-arrow\"><div><div>OneHotEncoder</div></div><div><a class=\"sk-estimator-doc-link fitted\" rel=\"noreferrer\" target=\"_blank\" href=\"https://scikit-learn.org/1.6/modules/generated/sklearn.preprocessing.OneHotEncoder.html\">?<span>Documentation for OneHotEncoder</span></a></div></label><div class=\"sk-toggleable__content fitted\"><pre>OneHotEncoder(drop=&#x27;first&#x27;)</pre></div> </div></div></div></div></div></div></div><div class=\"sk-parallel-item\"><div class=\"sk-item\"><div class=\"sk-label-container\"><div class=\"sk-label fitted sk-toggleable\"><input class=\"sk-toggleable__control sk-hidden--visually\" id=\"sk-estimator-id-6\" type=\"checkbox\" ><label for=\"sk-estimator-id-6\" class=\"sk-toggleable__label fitted sk-toggleable__label-arrow\"><div><div>num</div></div></label><div class=\"sk-toggleable__content fitted\"><pre>[&#x27;lag_1&#x27;, &#x27;lag_2&#x27;, &#x27;lag_3&#x27;, &#x27;lag_4&#x27;, &#x27;lag_5&#x27;, &#x27;rolling_mean&#x27;]</pre></div> </div></div><div class=\"sk-serial\"><div class=\"sk-item\"><div class=\"sk-estimator fitted sk-toggleable\"><input class=\"sk-toggleable__control sk-hidden--visually\" id=\"sk-estimator-id-7\" type=\"checkbox\" ><label for=\"sk-estimator-id-7\" class=\"sk-toggleable__label fitted sk-toggleable__label-arrow\"><div><div>StandardScaler</div></div><div><a class=\"sk-estimator-doc-link fitted\" rel=\"noreferrer\" target=\"_blank\" href=\"https://scikit-learn.org/1.6/modules/generated/sklearn.preprocessing.StandardScaler.html\">?<span>Documentation for StandardScaler</span></a></div></label><div class=\"sk-toggleable__content fitted\"><pre>StandardScaler()</pre></div> </div></div></div></div></div><div class=\"sk-parallel-item\"><div class=\"sk-item\"><div class=\"sk-label-container\"><div class=\"sk-label fitted sk-toggleable\"><input class=\"sk-toggleable__control sk-hidden--visually\" id=\"sk-estimator-id-8\" type=\"checkbox\" ><label for=\"sk-estimator-id-8\" class=\"sk-toggleable__label fitted sk-toggleable__label-arrow\"><div><div>remainder</div></div></label><div class=\"sk-toggleable__content fitted\"><pre>[]</pre></div> </div></div><div class=\"sk-serial\"><div class=\"sk-item\"><div class=\"sk-estimator fitted sk-toggleable\"><input class=\"sk-toggleable__control sk-hidden--visually\" id=\"sk-estimator-id-9\" type=\"checkbox\" ><label for=\"sk-estimator-id-9\" class=\"sk-toggleable__label fitted sk-toggleable__label-arrow\"><div><div>passthrough</div></div></label><div class=\"sk-toggleable__content fitted\"><pre>passthrough</pre></div> </div></div></div></div></div></div></div><div class=\"sk-item\"><div class=\"sk-estimator fitted sk-toggleable\"><input class=\"sk-toggleable__control sk-hidden--visually\" id=\"sk-estimator-id-10\" type=\"checkbox\" ><label for=\"sk-estimator-id-10\" class=\"sk-toggleable__label fitted sk-toggleable__label-arrow\"><div><div>LinearRegression</div></div><div><a class=\"sk-estimator-doc-link fitted\" rel=\"noreferrer\" target=\"_blank\" href=\"https://scikit-learn.org/1.6/modules/generated/sklearn.linear_model.LinearRegression.html\">?<span>Documentation for LinearRegression</span></a></div></label><div class=\"sk-toggleable__content fitted\"><pre>LinearRegression(n_jobs=1)</pre></div> </div></div></div></div></div></div></div></div></div></div></div>"
      ],
      "text/plain": [
       "GridSearchCV(cv=TimeSeriesSplit(gap=0, max_train_size=None, n_splits=4, test_size=None),\n",
       "             error_score='raise',\n",
       "             estimator=Pipeline(steps=[('preprocessor',\n",
       "                                        ColumnTransformer(remainder='passthrough',\n",
       "                                                          transformers=[('ohe',\n",
       "                                                                         Pipeline(steps=[('ohe',\n",
       "                                                                                          OneHotEncoder(drop='first'))]),\n",
       "                                                                         ['hour',\n",
       "                                                                          'day',\n",
       "                                                                          'dayofweek']),\n",
       "                                                                        ('num',\n",
       "                                                                         StandardScaler(),\n",
       "                                                                         ['lag_1',\n",
       "                                                                          'lag_2',\n",
       "                                                                          'lag_3',\n",
       "                                                                          'lag_4',\n",
       "                                                                          '...\n",
       "             n_jobs=-1,\n",
       "             param_grid=[{'models': [DecisionTreeRegressor()],\n",
       "                          'models__max_depth': range(1, 10)},\n",
       "                         {'models': [LinearRegression()],\n",
       "                          'models__copy_X': [True, False],\n",
       "                          'models__fit_intercept': [True, False],\n",
       "                          'models__n_jobs': [1, 5, 10, 15, None],\n",
       "                          'preprocessor__num': [StandardScaler(),\n",
       "                                                MinMaxScaler(),\n",
       "                                                'passthrough']}],\n",
       "             refit='recall', scoring='neg_mean_squared_error', verbose=3)"
      ]
     },
     "execution_count": 16,
     "metadata": {},
     "output_type": "execute_result"
    }
   ],
   "source": [
    "grid.fit(X_train,y_train)"
   ]
  },
  {
   "cell_type": "code",
   "execution_count": 17,
   "metadata": {},
   "outputs": [
    {
     "name": "stdout",
     "output_type": "stream",
     "text": [
      "Лучшая модель и её параметры:\n",
      "\n",
      " Pipeline(steps=[('preprocessor',\n",
      "                 ColumnTransformer(remainder='passthrough',\n",
      "                                   transformers=[('ohe',\n",
      "                                                  Pipeline(steps=[('ohe',\n",
      "                                                                   OneHotEncoder(drop='first'))]),\n",
      "                                                  ['hour', 'day', 'dayofweek']),\n",
      "                                                 ('num', StandardScaler(),\n",
      "                                                  ['lag_1', 'lag_2', 'lag_3',\n",
      "                                                   'lag_4', 'lag_5',\n",
      "                                                   'rolling_mean'])])),\n",
      "                ('models', LinearRegression(n_jobs=1))])\n",
      "Метрика лучшей модели на кросс-валидационной выборке: 27.45877806677511\n"
     ]
    }
   ],
   "source": [
    "print('Лучшая модель и её параметры:\\n\\n', grid.best_estimator_) \n",
    "print ('Метрика лучшей модели на кросс-валидационной выборке:', (grid.best_score_*-1)**0.5)"
   ]
  },
  {
   "cell_type": "markdown",
   "metadata": {},
   "source": [
    "## Тестирование"
   ]
  },
  {
   "cell_type": "code",
   "execution_count": 18,
   "metadata": {
    "scrolled": true
   },
   "outputs": [
    {
     "data": {
      "text/plain": [
       "42.160367382869815"
      ]
     },
     "execution_count": 18,
     "metadata": {},
     "output_type": "execute_result"
    }
   ],
   "source": [
    "preds=grid.best_estimator_.predict(X_test)\n",
    "mean_squared_error(preds,y_test)**0.5"
   ]
  },
  {
   "cell_type": "markdown",
   "metadata": {},
   "source": [
    "Проверив 3 модели: KNeighborsRegressor, DecisionTreeRegressor и CatBoostRegressor, можно сделать вывод, что лучшая модель- LinearRegression, предсказывает хорошо, на тестовой метрике получена метрика ~42."
   ]
  },
  {
   "cell_type": "markdown",
   "metadata": {},
   "source": [
    "Были проанализированы графики количества заказов, в ходе которых был выявлен тренд: увеличение заказов осенью, также количество заказов стремительно падает ночью, а затем растет на протяжении дня. Потом были созданы дополнительные признаки, помогающие обучить модель, в их число входят: час, число, день недели, количество заказов за каждый из последующих после текущего 5 часов, а также скользящее среднее за 50 часов. На этих признаках с помощью пайплайна была выбрана лучшая модель- LinearRegression, достигшая метрики 42.16 на тестовой выборке"
   ]
  }
 ],
 "metadata": {
  "ExecuteTimeLog": [
   {
    "duration": 14989,
    "start_time": "2025-04-18T09:33:29.244Z"
   },
   {
    "duration": 1478,
    "start_time": "2025-04-18T09:34:18.016Z"
   },
   {
    "duration": 117,
    "start_time": "2025-04-18T09:35:03.113Z"
   },
   {
    "duration": 50,
    "start_time": "2025-04-18T09:35:10.620Z"
   },
   {
    "duration": 42,
    "start_time": "2025-04-18T09:35:26.578Z"
   },
   {
    "duration": 14,
    "start_time": "2025-04-18T09:37:38.289Z"
   },
   {
    "duration": 12,
    "start_time": "2025-04-18T09:37:46.029Z"
   },
   {
    "duration": 14,
    "start_time": "2025-04-18T09:39:18.024Z"
   },
   {
    "duration": 5,
    "start_time": "2025-04-18T09:39:59.070Z"
   },
   {
    "duration": 12,
    "start_time": "2025-04-18T09:40:03.411Z"
   },
   {
    "duration": 8,
    "start_time": "2025-04-18T09:40:09.121Z"
   },
   {
    "duration": 10,
    "start_time": "2025-04-18T09:40:58.058Z"
   },
   {
    "duration": 19,
    "start_time": "2025-04-18T09:41:13.710Z"
   },
   {
    "duration": 13,
    "start_time": "2025-04-18T09:41:44.110Z"
   },
   {
    "duration": 1448,
    "start_time": "2025-04-18T09:43:44.412Z"
   },
   {
    "duration": 8267,
    "start_time": "2025-04-18T09:44:02.561Z"
   },
   {
    "duration": 6,
    "start_time": "2025-04-18T09:44:10.831Z"
   },
   {
    "duration": 56,
    "start_time": "2025-04-18T09:44:10.838Z"
   },
   {
    "duration": 12,
    "start_time": "2025-04-18T09:44:10.895Z"
   },
   {
    "duration": 15,
    "start_time": "2025-04-18T09:44:10.910Z"
   },
   {
    "duration": 37,
    "start_time": "2025-04-18T09:44:10.926Z"
   },
   {
    "duration": 258,
    "start_time": "2025-04-18T09:52:34.563Z"
   },
   {
    "duration": 1465,
    "start_time": "2025-04-18T09:54:34.696Z"
   },
   {
    "duration": 230,
    "start_time": "2025-04-18T09:55:02.403Z"
   },
   {
    "duration": 23,
    "start_time": "2025-04-18T09:57:18.379Z"
   },
   {
    "duration": 25,
    "start_time": "2025-04-18T09:57:54.745Z"
   },
   {
    "duration": 365,
    "start_time": "2025-04-18T10:01:03.603Z"
   },
   {
    "duration": 280,
    "start_time": "2025-04-18T10:01:17.391Z"
   },
   {
    "duration": 283,
    "start_time": "2025-04-18T10:01:32.062Z"
   },
   {
    "duration": 308,
    "start_time": "2025-04-18T10:01:54.789Z"
   },
   {
    "duration": 102,
    "start_time": "2025-04-18T10:03:32.789Z"
   },
   {
    "duration": 19,
    "start_time": "2025-04-18T10:04:18.975Z"
   },
   {
    "duration": 4,
    "start_time": "2025-04-18T10:05:02.154Z"
   },
   {
    "duration": 16,
    "start_time": "2025-04-18T10:05:11.326Z"
   },
   {
    "duration": 4,
    "start_time": "2025-04-18T10:08:44.706Z"
   },
   {
    "duration": 1492,
    "start_time": "2025-04-18T10:09:13.694Z"
   },
   {
    "duration": 4,
    "start_time": "2025-04-18T10:09:43.121Z"
   },
   {
    "duration": 20,
    "start_time": "2025-04-18T10:09:44.952Z"
   },
   {
    "duration": 22,
    "start_time": "2025-04-18T10:11:08.189Z"
   },
   {
    "duration": 29,
    "start_time": "2025-04-18T10:11:19.047Z"
   },
   {
    "duration": 22,
    "start_time": "2025-04-18T10:11:40.400Z"
   },
   {
    "duration": 28,
    "start_time": "2025-04-18T10:26:27.235Z"
   },
   {
    "duration": 27,
    "start_time": "2025-04-18T10:28:19.742Z"
   },
   {
    "duration": 26,
    "start_time": "2025-04-18T10:28:29.516Z"
   },
   {
    "duration": 26,
    "start_time": "2025-04-18T10:28:35.924Z"
   },
   {
    "duration": 36,
    "start_time": "2025-04-18T10:28:51.104Z"
   },
   {
    "duration": 22,
    "start_time": "2025-04-18T10:30:33.701Z"
   },
   {
    "duration": 11,
    "start_time": "2025-04-18T10:31:35.072Z"
   },
   {
    "duration": 15,
    "start_time": "2025-04-18T10:31:40.216Z"
   },
   {
    "duration": 11,
    "start_time": "2025-04-18T10:31:49.077Z"
   },
   {
    "duration": 12,
    "start_time": "2025-04-18T10:32:17.190Z"
   },
   {
    "duration": 5,
    "start_time": "2025-04-18T10:32:31.519Z"
   },
   {
    "duration": 4,
    "start_time": "2025-04-18T10:35:30.621Z"
   },
   {
    "duration": 4,
    "start_time": "2025-04-18T10:35:34.512Z"
   },
   {
    "duration": 12649,
    "start_time": "2025-04-18T10:35:54.922Z"
   },
   {
    "duration": 6,
    "start_time": "2025-04-18T10:38:23.419Z"
   },
   {
    "duration": 8,
    "start_time": "2025-04-18T10:38:55.696Z"
   },
   {
    "duration": 3,
    "start_time": "2025-04-18T10:44:49.823Z"
   },
   {
    "duration": 4751,
    "start_time": "2025-04-18T10:45:09.823Z"
   },
   {
    "duration": 10,
    "start_time": "2025-04-18T10:46:40.727Z"
   },
   {
    "duration": 12,
    "start_time": "2025-04-18T10:50:11.011Z"
   },
   {
    "duration": 12,
    "start_time": "2025-04-18T10:51:57.859Z"
   },
   {
    "duration": 5,
    "start_time": "2025-04-18T10:52:04.158Z"
   },
   {
    "duration": 58043,
    "start_time": "2025-04-18T10:52:06.250Z"
   },
   {
    "duration": 5,
    "start_time": "2025-04-18T10:54:47.256Z"
   },
   {
    "duration": 75627,
    "start_time": "2025-04-18T10:54:48.941Z"
   },
   {
    "duration": 9,
    "start_time": "2025-04-18T10:56:13.170Z"
   },
   {
    "duration": 4,
    "start_time": "2025-04-18T10:56:59.148Z"
   },
   {
    "duration": 655,
    "start_time": "2025-04-18T10:59:25.937Z"
   },
   {
    "duration": 4,
    "start_time": "2025-04-18T10:59:39.725Z"
   },
   {
    "duration": 13,
    "start_time": "2025-04-18T10:59:40.794Z"
   },
   {
    "duration": 35723,
    "start_time": "2025-04-18T10:59:43.564Z"
   },
   {
    "duration": 4,
    "start_time": "2025-04-18T11:01:10.006Z"
   },
   {
    "duration": 7,
    "start_time": "2025-04-18T11:01:14.083Z"
   },
   {
    "duration": 4,
    "start_time": "2025-04-18T11:01:46.588Z"
   },
   {
    "duration": 14350,
    "start_time": "2025-04-18T20:43:50.264Z"
   },
   {
    "duration": 1718,
    "start_time": "2025-04-18T20:44:04.618Z"
   },
   {
    "duration": 92,
    "start_time": "2025-04-18T20:44:06.337Z"
   },
   {
    "duration": 14,
    "start_time": "2025-04-18T20:44:06.431Z"
   },
   {
    "duration": 27,
    "start_time": "2025-04-18T20:44:06.447Z"
   },
   {
    "duration": 12,
    "start_time": "2025-04-18T20:44:06.476Z"
   },
   {
    "duration": 353,
    "start_time": "2025-04-18T20:44:06.490Z"
   },
   {
    "duration": 4,
    "start_time": "2025-04-18T20:44:06.845Z"
   },
   {
    "duration": 112,
    "start_time": "2025-04-18T20:44:06.851Z"
   },
   {
    "duration": 31,
    "start_time": "2025-04-18T20:44:06.966Z"
   },
   {
    "duration": 80741,
    "start_time": "2025-04-18T20:44:06.998Z"
   },
   {
    "duration": 5,
    "start_time": "2025-04-18T20:45:27.740Z"
   },
   {
    "duration": 11,
    "start_time": "2025-04-18T20:45:27.746Z"
   },
   {
    "duration": 45,
    "start_time": "2025-04-19T09:58:02.369Z"
   },
   {
    "duration": 6,
    "start_time": "2025-04-19T09:58:07.857Z"
   },
   {
    "duration": 13539,
    "start_time": "2025-04-19T09:58:12.870Z"
   },
   {
    "duration": 1456,
    "start_time": "2025-04-19T09:58:26.411Z"
   },
   {
    "duration": 51,
    "start_time": "2025-04-19T09:58:27.869Z"
   },
   {
    "duration": 13,
    "start_time": "2025-04-19T09:58:27.922Z"
   },
   {
    "duration": 13,
    "start_time": "2025-04-19T09:58:27.937Z"
   },
   {
    "duration": 14,
    "start_time": "2025-04-19T09:58:27.952Z"
   },
   {
    "duration": 264,
    "start_time": "2025-04-19T09:58:27.968Z"
   },
   {
    "duration": 255,
    "start_time": "2025-04-19T09:59:22.332Z"
   },
   {
    "duration": 95,
    "start_time": "2025-04-19T09:59:51.719Z"
   },
   {
    "duration": 11,
    "start_time": "2025-04-19T09:59:57.791Z"
   },
   {
    "duration": 12,
    "start_time": "2025-04-19T10:00:13.419Z"
   },
   {
    "duration": 12,
    "start_time": "2025-04-19T10:00:28.652Z"
   },
   {
    "duration": 4,
    "start_time": "2025-04-19T10:02:06.436Z"
   },
   {
    "duration": 12,
    "start_time": "2025-04-19T10:02:36.408Z"
   },
   {
    "duration": 25,
    "start_time": "2025-04-19T10:02:52.857Z"
   },
   {
    "duration": 21,
    "start_time": "2025-04-19T10:04:31.506Z"
   },
   {
    "duration": 14,
    "start_time": "2025-04-19T10:05:34.351Z"
   },
   {
    "duration": 26,
    "start_time": "2025-04-19T10:05:43.811Z"
   },
   {
    "duration": 14,
    "start_time": "2025-04-19T10:06:00.847Z"
   },
   {
    "duration": 13,
    "start_time": "2025-04-19T10:07:29.528Z"
   },
   {
    "duration": 4,
    "start_time": "2025-04-19T10:08:15.536Z"
   },
   {
    "duration": 14,
    "start_time": "2025-04-19T10:08:33.597Z"
   },
   {
    "duration": 16,
    "start_time": "2025-04-19T10:08:42.199Z"
   },
   {
    "duration": 14,
    "start_time": "2025-04-19T10:08:57.416Z"
   },
   {
    "duration": 14,
    "start_time": "2025-04-19T10:09:01.167Z"
   },
   {
    "duration": 574,
    "start_time": "2025-04-19T10:09:25.358Z"
   },
   {
    "duration": 633,
    "start_time": "2025-04-19T10:09:35.048Z"
   },
   {
    "duration": 535,
    "start_time": "2025-04-19T10:09:46.686Z"
   },
   {
    "duration": 540,
    "start_time": "2025-04-19T10:10:49.271Z"
   },
   {
    "duration": 641,
    "start_time": "2025-04-19T10:10:58.711Z"
   },
   {
    "duration": 557,
    "start_time": "2025-04-19T10:11:10.078Z"
   },
   {
    "duration": 565,
    "start_time": "2025-04-19T10:12:13.638Z"
   },
   {
    "duration": 669,
    "start_time": "2025-04-19T10:12:25.638Z"
   },
   {
    "duration": 538,
    "start_time": "2025-04-19T10:12:32.891Z"
   },
   {
    "duration": 558,
    "start_time": "2025-04-19T10:12:48.720Z"
   },
   {
    "duration": 9,
    "start_time": "2025-04-19T10:13:16.226Z"
   },
   {
    "duration": 763,
    "start_time": "2025-04-19T10:13:29.363Z"
   },
   {
    "duration": 709,
    "start_time": "2025-04-19T10:16:17.634Z"
   },
   {
    "duration": 570,
    "start_time": "2025-04-19T10:16:21.108Z"
   },
   {
    "duration": 521,
    "start_time": "2025-04-19T10:17:23.752Z"
   },
   {
    "duration": 635,
    "start_time": "2025-04-19T10:17:39.109Z"
   },
   {
    "duration": 626,
    "start_time": "2025-04-19T10:17:43.882Z"
   },
   {
    "duration": 688,
    "start_time": "2025-04-19T10:17:52.175Z"
   },
   {
    "duration": 580,
    "start_time": "2025-04-19T10:17:58.682Z"
   },
   {
    "duration": 1249,
    "start_time": "2025-04-19T10:18:10.898Z"
   },
   {
    "duration": 535,
    "start_time": "2025-04-19T10:18:16.495Z"
   },
   {
    "duration": 507,
    "start_time": "2025-04-19T10:18:29.273Z"
   },
   {
    "duration": 1158,
    "start_time": "2025-04-19T10:18:59.355Z"
   },
   {
    "duration": 12,
    "start_time": "2025-04-19T10:19:06.753Z"
   },
   {
    "duration": 11,
    "start_time": "2025-04-19T10:19:21.915Z"
   },
   {
    "duration": 1345,
    "start_time": "2025-04-19T10:19:31.344Z"
   },
   {
    "duration": 757,
    "start_time": "2025-04-19T10:19:42.678Z"
   },
   {
    "duration": 242,
    "start_time": "2025-04-19T10:20:07.043Z"
   },
   {
    "duration": 8,
    "start_time": "2025-04-19T10:36:33.678Z"
   },
   {
    "duration": 15,
    "start_time": "2025-04-19T10:36:34.841Z"
   },
   {
    "duration": 11,
    "start_time": "2025-04-19T10:36:58.303Z"
   },
   {
    "duration": 7665,
    "start_time": "2025-04-19T10:37:04.922Z"
   },
   {
    "duration": 4,
    "start_time": "2025-04-19T10:37:12.590Z"
   },
   {
    "duration": 53,
    "start_time": "2025-04-19T10:37:12.596Z"
   },
   {
    "duration": 12,
    "start_time": "2025-04-19T10:37:12.651Z"
   },
   {
    "duration": 14,
    "start_time": "2025-04-19T10:37:12.665Z"
   },
   {
    "duration": 10,
    "start_time": "2025-04-19T10:37:12.680Z"
   },
   {
    "duration": 269,
    "start_time": "2025-04-19T10:37:12.691Z"
   },
   {
    "duration": 531,
    "start_time": "2025-04-19T10:37:12.962Z"
   },
   {
    "duration": 656,
    "start_time": "2025-04-19T10:37:13.495Z"
   },
   {
    "duration": 8,
    "start_time": "2025-04-19T10:37:14.153Z"
   },
   {
    "duration": 19,
    "start_time": "2025-04-19T10:37:14.162Z"
   },
   {
    "duration": 18,
    "start_time": "2025-04-19T10:39:57.844Z"
   },
   {
    "duration": 8,
    "start_time": "2025-04-19T10:44:18.544Z"
   },
   {
    "duration": 5,
    "start_time": "2025-04-19T10:44:44.802Z"
   },
   {
    "duration": 7,
    "start_time": "2025-04-19T10:45:16.332Z"
   },
   {
    "duration": 74,
    "start_time": "2025-04-19T10:45:32.209Z"
   },
   {
    "duration": 4,
    "start_time": "2025-04-19T10:49:52.500Z"
   },
   {
    "duration": 5,
    "start_time": "2025-04-19T10:58:14.269Z"
   },
   {
    "duration": 5,
    "start_time": "2025-04-19T11:21:50.667Z"
   },
   {
    "duration": 40,
    "start_time": "2025-04-19T11:22:06.399Z"
   },
   {
    "duration": 6,
    "start_time": "2025-04-19T11:35:25.380Z"
   },
   {
    "duration": 35,
    "start_time": "2025-04-19T11:35:29.025Z"
   },
   {
    "duration": 6,
    "start_time": "2025-04-19T11:39:02.174Z"
   },
   {
    "duration": 1437,
    "start_time": "2025-04-19T11:39:06.425Z"
   },
   {
    "duration": 5,
    "start_time": "2025-04-19T11:39:42.776Z"
   },
   {
    "duration": 5,
    "start_time": "2025-04-19T11:40:10.552Z"
   },
   {
    "duration": 28929,
    "start_time": "2025-04-19T11:40:13.320Z"
   },
   {
    "duration": 7,
    "start_time": "2025-04-19T11:40:50.963Z"
   },
   {
    "duration": 23,
    "start_time": "2025-04-19T11:40:56.014Z"
   },
   {
    "duration": 17,
    "start_time": "2025-04-19T11:49:03.184Z"
   },
   {
    "duration": 18,
    "start_time": "2025-04-19T11:49:34.992Z"
   },
   {
    "duration": 7903,
    "start_time": "2025-04-19T11:53:41.764Z"
   },
   {
    "duration": 1528,
    "start_time": "2025-04-19T11:53:49.669Z"
   },
   {
    "duration": 43,
    "start_time": "2025-04-19T11:53:51.199Z"
   },
   {
    "duration": 32,
    "start_time": "2025-04-19T11:53:51.244Z"
   },
   {
    "duration": 71,
    "start_time": "2025-04-19T11:53:51.278Z"
   },
   {
    "duration": 75,
    "start_time": "2025-04-19T11:53:51.351Z"
   },
   {
    "duration": 348,
    "start_time": "2025-04-19T11:53:51.428Z"
   },
   {
    "duration": 554,
    "start_time": "2025-04-19T11:53:51.778Z"
   },
   {
    "duration": 673,
    "start_time": "2025-04-19T11:53:52.334Z"
   },
   {
    "duration": 4,
    "start_time": "2025-04-19T11:53:53.009Z"
   },
   {
    "duration": 15,
    "start_time": "2025-04-19T11:53:53.014Z"
   },
   {
    "duration": 17,
    "start_time": "2025-04-19T11:53:53.031Z"
   },
   {
    "duration": 115,
    "start_time": "2025-04-19T11:53:53.050Z"
   },
   {
    "duration": 28474,
    "start_time": "2025-04-19T11:53:53.166Z"
   },
   {
    "duration": 7,
    "start_time": "2025-04-19T11:54:21.642Z"
   },
   {
    "duration": 31,
    "start_time": "2025-04-19T11:54:21.651Z"
   },
   {
    "duration": 53,
    "start_time": "2025-04-20T08:14:34.904Z"
   },
   {
    "duration": 15037,
    "start_time": "2025-04-20T08:14:38.948Z"
   },
   {
    "duration": 2063,
    "start_time": "2025-04-20T08:14:53.988Z"
   },
   {
    "duration": 56,
    "start_time": "2025-04-20T08:14:56.055Z"
   },
   {
    "duration": 16,
    "start_time": "2025-04-20T08:14:56.113Z"
   },
   {
    "duration": 22,
    "start_time": "2025-04-20T08:14:56.132Z"
   },
   {
    "duration": 29,
    "start_time": "2025-04-20T08:14:56.156Z"
   },
   {
    "duration": 315,
    "start_time": "2025-04-20T08:14:56.187Z"
   },
   {
    "duration": 637,
    "start_time": "2025-04-20T08:14:56.504Z"
   },
   {
    "duration": 861,
    "start_time": "2025-04-20T08:14:57.143Z"
   },
   {
    "duration": 5,
    "start_time": "2025-04-20T08:14:58.005Z"
   },
   {
    "duration": 29,
    "start_time": "2025-04-20T08:14:58.012Z"
   },
   {
    "duration": 37,
    "start_time": "2025-04-20T08:16:04.765Z"
   },
   {
    "duration": 314,
    "start_time": "2025-04-20T08:16:14.631Z"
   },
   {
    "duration": 52,
    "start_time": "2025-04-20T09:05:39.534Z"
   },
   {
    "duration": 15073,
    "start_time": "2025-04-20T09:06:05.713Z"
   },
   {
    "duration": 1941,
    "start_time": "2025-04-20T09:06:20.788Z"
   },
   {
    "duration": 45,
    "start_time": "2025-04-20T09:06:22.731Z"
   },
   {
    "duration": 43,
    "start_time": "2025-04-20T09:06:22.778Z"
   },
   {
    "duration": 92,
    "start_time": "2025-04-20T09:06:22.823Z"
   },
   {
    "duration": 52,
    "start_time": "2025-04-20T09:06:22.916Z"
   },
   {
    "duration": 387,
    "start_time": "2025-04-20T09:06:22.969Z"
   },
   {
    "duration": 619,
    "start_time": "2025-04-20T09:06:23.361Z"
   },
   {
    "duration": 715,
    "start_time": "2025-04-20T09:06:23.982Z"
   },
   {
    "duration": 4,
    "start_time": "2025-04-20T09:06:24.699Z"
   },
   {
    "duration": 23,
    "start_time": "2025-04-20T09:06:24.705Z"
   },
   {
    "duration": 20,
    "start_time": "2025-04-20T09:06:24.730Z"
   },
   {
    "duration": 122,
    "start_time": "2025-04-20T09:06:24.752Z"
   },
   {
    "duration": 37819,
    "start_time": "2025-04-20T09:06:24.877Z"
   },
   {
    "duration": 6,
    "start_time": "2025-04-20T09:07:02.698Z"
   },
   {
    "duration": 79,
    "start_time": "2025-04-20T09:07:02.706Z"
   },
   {
    "duration": 213,
    "start_time": "2025-04-20T09:07:24.462Z"
   },
   {
    "duration": 150,
    "start_time": "2025-04-20T09:11:27.326Z"
   },
   {
    "duration": 45,
    "start_time": "2025-04-20T09:11:40.308Z"
   },
   {
    "duration": 8669,
    "start_time": "2025-04-20T09:12:56.161Z"
   },
   {
    "duration": 6,
    "start_time": "2025-04-20T09:13:04.833Z"
   },
   {
    "duration": 54,
    "start_time": "2025-04-20T09:13:04.841Z"
   },
   {
    "duration": 14,
    "start_time": "2025-04-20T09:13:04.897Z"
   },
   {
    "duration": 29,
    "start_time": "2025-04-20T09:13:04.914Z"
   },
   {
    "duration": 17,
    "start_time": "2025-04-20T09:13:04.944Z"
   },
   {
    "duration": 259,
    "start_time": "2025-04-20T09:13:04.962Z"
   },
   {
    "duration": 633,
    "start_time": "2025-04-20T09:13:05.223Z"
   },
   {
    "duration": 832,
    "start_time": "2025-04-20T09:13:05.861Z"
   },
   {
    "duration": 68,
    "start_time": "2025-04-20T09:13:06.696Z"
   },
   {
    "duration": 0,
    "start_time": "2025-04-20T09:13:06.767Z"
   },
   {
    "duration": 0,
    "start_time": "2025-04-20T09:13:06.768Z"
   },
   {
    "duration": 0,
    "start_time": "2025-04-20T09:13:06.770Z"
   },
   {
    "duration": 0,
    "start_time": "2025-04-20T09:13:06.772Z"
   },
   {
    "duration": 1,
    "start_time": "2025-04-20T09:13:06.774Z"
   },
   {
    "duration": 0,
    "start_time": "2025-04-20T09:13:06.776Z"
   },
   {
    "duration": 0,
    "start_time": "2025-04-20T09:13:06.778Z"
   },
   {
    "duration": 704,
    "start_time": "2025-04-20T09:13:56.570Z"
   },
   {
    "duration": 29,
    "start_time": "2025-04-20T09:14:03.310Z"
   },
   {
    "duration": 292,
    "start_time": "2025-04-20T09:14:25.727Z"
   },
   {
    "duration": 15,
    "start_time": "2025-04-20T09:14:45.018Z"
   },
   {
    "duration": 385,
    "start_time": "2025-04-20T09:14:52.312Z"
   },
   {
    "duration": 587,
    "start_time": "2025-04-20T09:14:57.469Z"
   },
   {
    "duration": 468,
    "start_time": "2025-04-20T09:15:09.685Z"
   },
   {
    "duration": 453,
    "start_time": "2025-04-20T09:15:22.422Z"
   },
   {
    "duration": 485,
    "start_time": "2025-04-20T09:15:29.555Z"
   },
   {
    "duration": 544,
    "start_time": "2025-04-20T09:15:36.595Z"
   },
   {
    "duration": 287,
    "start_time": "2025-04-20T09:16:37.654Z"
   },
   {
    "duration": 6,
    "start_time": "2025-04-20T09:17:44.428Z"
   },
   {
    "duration": 21,
    "start_time": "2025-04-20T09:20:04.374Z"
   },
   {
    "duration": 6,
    "start_time": "2025-04-20T09:20:07.622Z"
   },
   {
    "duration": 8476,
    "start_time": "2025-04-20T09:28:21.960Z"
   },
   {
    "duration": 1640,
    "start_time": "2025-04-20T09:28:30.439Z"
   },
   {
    "duration": 44,
    "start_time": "2025-04-20T09:28:32.081Z"
   },
   {
    "duration": 16,
    "start_time": "2025-04-20T09:28:32.127Z"
   },
   {
    "duration": 33,
    "start_time": "2025-04-20T09:28:32.145Z"
   },
   {
    "duration": 32,
    "start_time": "2025-04-20T09:28:32.179Z"
   },
   {
    "duration": 326,
    "start_time": "2025-04-20T09:28:32.213Z"
   },
   {
    "duration": 617,
    "start_time": "2025-04-20T09:28:32.541Z"
   },
   {
    "duration": 311,
    "start_time": "2025-04-20T09:28:33.160Z"
   },
   {
    "duration": 4,
    "start_time": "2025-04-20T09:28:33.474Z"
   },
   {
    "duration": 37,
    "start_time": "2025-04-20T09:28:33.480Z"
   },
   {
    "duration": 28,
    "start_time": "2025-04-20T09:28:33.518Z"
   },
   {
    "duration": 29,
    "start_time": "2025-04-20T09:28:33.547Z"
   },
   {
    "duration": 20694,
    "start_time": "2025-04-20T09:28:33.579Z"
   },
   {
    "duration": 8,
    "start_time": "2025-04-20T09:28:54.274Z"
   },
   {
    "duration": 18,
    "start_time": "2025-04-20T09:28:54.283Z"
   },
   {
    "duration": 8,
    "start_time": "2025-04-20T09:29:07.177Z"
   },
   {
    "duration": 11,
    "start_time": "2025-04-20T09:29:10.237Z"
   },
   {
    "duration": 9,
    "start_time": "2025-04-20T09:33:20.702Z"
   },
   {
    "duration": 5,
    "start_time": "2025-04-20T09:33:31.427Z"
   },
   {
    "duration": 21353,
    "start_time": "2025-04-20T09:33:33.400Z"
   },
   {
    "duration": 12,
    "start_time": "2025-04-20T09:34:08.290Z"
   },
   {
    "duration": 9177,
    "start_time": "2025-04-20T09:35:07.079Z"
   },
   {
    "duration": 1707,
    "start_time": "2025-04-20T09:35:16.259Z"
   },
   {
    "duration": 46,
    "start_time": "2025-04-20T09:35:17.967Z"
   },
   {
    "duration": 36,
    "start_time": "2025-04-20T09:35:18.015Z"
   },
   {
    "duration": 16,
    "start_time": "2025-04-20T09:35:18.054Z"
   },
   {
    "duration": 11,
    "start_time": "2025-04-20T09:35:18.072Z"
   },
   {
    "duration": 339,
    "start_time": "2025-04-20T09:35:18.085Z"
   },
   {
    "duration": 627,
    "start_time": "2025-04-20T09:35:18.427Z"
   },
   {
    "duration": 308,
    "start_time": "2025-04-20T09:35:19.056Z"
   },
   {
    "duration": 4,
    "start_time": "2025-04-20T09:35:19.366Z"
   },
   {
    "duration": 60,
    "start_time": "2025-04-20T09:35:19.372Z"
   },
   {
    "duration": 27,
    "start_time": "2025-04-20T09:35:19.434Z"
   },
   {
    "duration": 23,
    "start_time": "2025-04-20T09:35:19.463Z"
   },
   {
    "duration": 26668,
    "start_time": "2025-04-20T09:35:19.489Z"
   },
   {
    "duration": 7,
    "start_time": "2025-04-20T09:35:46.158Z"
   },
   {
    "duration": 29,
    "start_time": "2025-04-20T09:35:46.167Z"
   },
   {
    "duration": 6,
    "start_time": "2025-04-20T09:36:57.340Z"
   },
   {
    "duration": 177,
    "start_time": "2025-04-20T09:37:04.812Z"
   },
   {
    "duration": 7,
    "start_time": "2025-04-20T09:37:41.230Z"
   },
   {
    "duration": 98413,
    "start_time": "2025-04-20T09:37:43.451Z"
   },
   {
    "duration": 29,
    "start_time": "2025-04-20T09:39:21.866Z"
   },
   {
    "duration": 5,
    "start_time": "2025-04-20T09:40:21.582Z"
   },
   {
    "duration": 31391,
    "start_time": "2025-04-20T09:40:24.071Z"
   },
   {
    "duration": 28682,
    "start_time": "2025-04-20T09:41:06.780Z"
   },
   {
    "duration": 6,
    "start_time": "2025-04-20T09:41:47.775Z"
   },
   {
    "duration": 10,
    "start_time": "2025-04-20T09:41:54.270Z"
   },
   {
    "duration": 5,
    "start_time": "2025-04-20T09:43:25.467Z"
   },
   {
    "duration": 41161,
    "start_time": "2025-04-20T09:43:28.410Z"
   },
   {
    "duration": 8,
    "start_time": "2025-04-20T09:44:16.252Z"
   },
   {
    "duration": 28,
    "start_time": "2025-04-20T09:44:19.723Z"
   },
   {
    "duration": 6,
    "start_time": "2025-04-20T09:45:43.564Z"
   },
   {
    "duration": 19318,
    "start_time": "2025-04-20T09:45:48.796Z"
   },
   {
    "duration": 7,
    "start_time": "2025-04-20T09:46:24.298Z"
   },
   {
    "duration": 27,
    "start_time": "2025-04-20T09:46:27.458Z"
   },
   {
    "duration": 17,
    "start_time": "2025-04-20T09:47:16.528Z"
   },
   {
    "duration": 6,
    "start_time": "2025-04-20T09:47:39.770Z"
   },
   {
    "duration": 22486,
    "start_time": "2025-04-20T09:47:44.410Z"
   },
   {
    "duration": 7,
    "start_time": "2025-04-20T09:48:15.088Z"
   },
   {
    "duration": 44,
    "start_time": "2025-04-20T09:48:19.538Z"
   },
   {
    "duration": 6,
    "start_time": "2025-04-20T09:48:40.617Z"
   },
   {
    "duration": 87425,
    "start_time": "2025-04-20T09:48:42.977Z"
   },
   {
    "duration": 8,
    "start_time": "2025-04-20T09:50:30.742Z"
   },
   {
    "duration": 41,
    "start_time": "2025-04-20T09:50:33.384Z"
   },
   {
    "duration": 4,
    "start_time": "2025-04-20T09:55:54.908Z"
   },
   {
    "duration": 44,
    "start_time": "2025-04-20T09:56:03.078Z"
   },
   {
    "duration": 7,
    "start_time": "2025-04-20T09:56:07.866Z"
   },
   {
    "duration": 77,
    "start_time": "2025-04-20T10:03:32.217Z"
   },
   {
    "duration": 6,
    "start_time": "2025-04-20T10:03:35.998Z"
   },
   {
    "duration": 784,
    "start_time": "2025-04-20T10:04:02.407Z"
   },
   {
    "duration": 6,
    "start_time": "2025-04-20T10:05:59.379Z"
   },
   {
    "duration": 19,
    "start_time": "2025-04-20T10:06:21.197Z"
   },
   {
    "duration": 7,
    "start_time": "2025-04-20T10:06:30.568Z"
   },
   {
    "duration": 13,
    "start_time": "2025-04-20T10:07:27.191Z"
   },
   {
    "duration": 12,
    "start_time": "2025-04-20T10:07:34.444Z"
   },
   {
    "duration": 88545,
    "start_time": "2025-04-20T10:08:18.053Z"
   },
   {
    "duration": 8,
    "start_time": "2025-04-20T10:10:05.725Z"
   },
   {
    "duration": 15,
    "start_time": "2025-04-20T10:11:39.071Z"
   },
   {
    "duration": 5,
    "start_time": "2025-04-20T10:11:41.370Z"
   },
   {
    "duration": 80918,
    "start_time": "2025-04-20T10:11:43.893Z"
   },
   {
    "duration": 7,
    "start_time": "2025-04-20T10:13:14.445Z"
   },
   {
    "duration": 11,
    "start_time": "2025-04-20T10:13:17.759Z"
   },
   {
    "duration": 14,
    "start_time": "2025-04-20T10:13:52.534Z"
   },
   {
    "duration": 6,
    "start_time": "2025-04-20T10:14:39.710Z"
   },
   {
    "duration": 54,
    "start_time": "2025-04-20T10:16:42.306Z"
   },
   {
    "duration": 9800,
    "start_time": "2025-04-20T10:16:52.286Z"
   },
   {
    "duration": 1644,
    "start_time": "2025-04-20T10:17:02.089Z"
   },
   {
    "duration": 44,
    "start_time": "2025-04-20T10:17:03.735Z"
   },
   {
    "duration": 41,
    "start_time": "2025-04-20T10:17:03.781Z"
   },
   {
    "duration": 45,
    "start_time": "2025-04-20T10:17:03.823Z"
   },
   {
    "duration": 17,
    "start_time": "2025-04-20T10:17:03.870Z"
   },
   {
    "duration": 388,
    "start_time": "2025-04-20T10:17:03.889Z"
   },
   {
    "duration": 611,
    "start_time": "2025-04-20T10:17:04.279Z"
   },
   {
    "duration": 294,
    "start_time": "2025-04-20T10:17:04.892Z"
   },
   {
    "duration": 4,
    "start_time": "2025-04-20T10:17:05.188Z"
   },
   {
    "duration": 40,
    "start_time": "2025-04-20T10:17:05.194Z"
   },
   {
    "duration": 72,
    "start_time": "2025-04-20T10:17:05.235Z"
   },
   {
    "duration": 109,
    "start_time": "2025-04-20T10:17:05.309Z"
   },
   {
    "duration": 0,
    "start_time": "2025-04-20T10:17:05.420Z"
   },
   {
    "duration": 0,
    "start_time": "2025-04-20T10:17:05.421Z"
   },
   {
    "duration": 0,
    "start_time": "2025-04-20T10:17:05.422Z"
   },
   {
    "duration": 6,
    "start_time": "2025-04-20T10:20:01.267Z"
   },
   {
    "duration": 72915,
    "start_time": "2025-04-20T10:20:06.477Z"
   },
   {
    "duration": 8,
    "start_time": "2025-04-20T10:21:26.677Z"
   },
   {
    "duration": 12,
    "start_time": "2025-04-20T10:21:30.038Z"
   },
   {
    "duration": 8890,
    "start_time": "2025-04-20T10:21:41.886Z"
   },
   {
    "duration": 1524,
    "start_time": "2025-04-20T10:21:50.778Z"
   },
   {
    "duration": 45,
    "start_time": "2025-04-20T10:21:52.304Z"
   },
   {
    "duration": 14,
    "start_time": "2025-04-20T10:21:52.351Z"
   },
   {
    "duration": 35,
    "start_time": "2025-04-20T10:21:52.367Z"
   },
   {
    "duration": 10,
    "start_time": "2025-04-20T10:21:52.404Z"
   },
   {
    "duration": 333,
    "start_time": "2025-04-20T10:21:52.416Z"
   },
   {
    "duration": 616,
    "start_time": "2025-04-20T10:21:52.750Z"
   },
   {
    "duration": 300,
    "start_time": "2025-04-20T10:21:53.368Z"
   },
   {
    "duration": 4,
    "start_time": "2025-04-20T10:21:53.672Z"
   },
   {
    "duration": 22,
    "start_time": "2025-04-20T10:21:53.678Z"
   },
   {
    "duration": 38,
    "start_time": "2025-04-20T10:21:53.701Z"
   },
   {
    "duration": 54,
    "start_time": "2025-04-20T10:21:53.741Z"
   },
   {
    "duration": 72564,
    "start_time": "2025-04-20T10:21:53.797Z"
   },
   {
    "duration": 7,
    "start_time": "2025-04-20T10:23:06.362Z"
   },
   {
    "duration": 42,
    "start_time": "2025-04-20T10:23:06.371Z"
   },
   {
    "duration": 8,
    "start_time": "2025-04-20T10:23:14.320Z"
   },
   {
    "duration": 10,
    "start_time": "2025-04-20T10:23:17.600Z"
   },
   {
    "duration": 5,
    "start_time": "2025-04-20T10:25:29.727Z"
   },
   {
    "duration": 48363,
    "start_time": "2025-04-20T10:25:31.634Z"
   },
   {
    "duration": 6,
    "start_time": "2025-04-20T10:26:24.716Z"
   },
   {
    "duration": 10,
    "start_time": "2025-04-20T10:26:27.286Z"
   },
   {
    "duration": 10,
    "start_time": "2025-04-20T10:26:31.747Z"
   },
   {
    "duration": 5,
    "start_time": "2025-04-20T10:26:53.262Z"
   },
   {
    "duration": 9842,
    "start_time": "2025-04-20T10:29:27.513Z"
   },
   {
    "duration": 1576,
    "start_time": "2025-04-20T10:29:37.358Z"
   },
   {
    "duration": 55,
    "start_time": "2025-04-20T10:29:38.936Z"
   },
   {
    "duration": 15,
    "start_time": "2025-04-20T10:29:38.994Z"
   },
   {
    "duration": 19,
    "start_time": "2025-04-20T10:29:39.010Z"
   },
   {
    "duration": 33,
    "start_time": "2025-04-20T10:29:39.031Z"
   },
   {
    "duration": 316,
    "start_time": "2025-04-20T10:29:39.066Z"
   },
   {
    "duration": 611,
    "start_time": "2025-04-20T10:29:39.384Z"
   },
   {
    "duration": 322,
    "start_time": "2025-04-20T10:29:39.997Z"
   },
   {
    "duration": 4,
    "start_time": "2025-04-20T10:29:40.323Z"
   },
   {
    "duration": 38,
    "start_time": "2025-04-20T10:29:40.329Z"
   },
   {
    "duration": 27,
    "start_time": "2025-04-20T10:29:40.369Z"
   },
   {
    "duration": 12,
    "start_time": "2025-04-20T10:29:40.398Z"
   },
   {
    "duration": 173308,
    "start_time": "2025-04-20T10:29:40.411Z"
   },
   {
    "duration": 8,
    "start_time": "2025-04-20T10:32:33.720Z"
   },
   {
    "duration": 40,
    "start_time": "2025-04-20T10:32:33.729Z"
   },
   {
    "duration": 7,
    "start_time": "2025-04-20T10:32:37.920Z"
   },
   {
    "duration": 10,
    "start_time": "2025-04-20T10:32:42.318Z"
   },
   {
    "duration": 5,
    "start_time": "2025-04-20T10:33:08.967Z"
   },
   {
    "duration": 52670,
    "start_time": "2025-04-20T10:33:11.672Z"
   },
   {
    "duration": 7,
    "start_time": "2025-04-20T10:34:11.528Z"
   },
   {
    "duration": 26,
    "start_time": "2025-04-20T10:34:14.198Z"
   },
   {
    "duration": 6,
    "start_time": "2025-04-20T10:35:01.012Z"
   },
   {
    "duration": 95230,
    "start_time": "2025-04-20T10:35:03.441Z"
   },
   {
    "duration": 7,
    "start_time": "2025-04-20T10:36:43.880Z"
   },
   {
    "duration": 25,
    "start_time": "2025-04-20T10:36:47.084Z"
   },
   {
    "duration": 6,
    "start_time": "2025-04-20T10:37:08.964Z"
   },
   {
    "duration": 6,
    "start_time": "2025-04-20T10:37:26.243Z"
   },
   {
    "duration": 1639,
    "start_time": "2025-04-20T10:37:28.752Z"
   },
   {
    "duration": 15,
    "start_time": "2025-04-20T10:37:42.617Z"
   },
   {
    "duration": 5,
    "start_time": "2025-04-20T10:37:44.560Z"
   },
   {
    "duration": 53,
    "start_time": "2025-04-21T11:37:38.880Z"
   },
   {
    "duration": 15155,
    "start_time": "2025-04-21T11:37:41.946Z"
   },
   {
    "duration": 1783,
    "start_time": "2025-04-21T11:37:57.103Z"
   },
   {
    "duration": 56,
    "start_time": "2025-04-21T11:37:58.887Z"
   },
   {
    "duration": 18,
    "start_time": "2025-04-21T11:37:58.947Z"
   },
   {
    "duration": 24,
    "start_time": "2025-04-21T11:37:58.967Z"
   },
   {
    "duration": 36,
    "start_time": "2025-04-21T11:37:58.994Z"
   },
   {
    "duration": 332,
    "start_time": "2025-04-21T11:37:59.031Z"
   },
   {
    "duration": 624,
    "start_time": "2025-04-21T11:37:59.365Z"
   },
   {
    "duration": 120,
    "start_time": "2025-04-21T11:37:59.991Z"
   },
   {
    "duration": 0,
    "start_time": "2025-04-21T11:38:00.113Z"
   },
   {
    "duration": 0,
    "start_time": "2025-04-21T11:38:00.114Z"
   },
   {
    "duration": 0,
    "start_time": "2025-04-21T11:38:00.116Z"
   },
   {
    "duration": 0,
    "start_time": "2025-04-21T11:38:00.117Z"
   },
   {
    "duration": 0,
    "start_time": "2025-04-21T11:38:00.118Z"
   },
   {
    "duration": 0,
    "start_time": "2025-04-21T11:38:00.119Z"
   },
   {
    "duration": 0,
    "start_time": "2025-04-21T11:38:00.136Z"
   },
   {
    "duration": 180,
    "start_time": "2025-04-21T11:38:32.683Z"
   },
   {
    "duration": 483,
    "start_time": "2025-04-21T11:38:52.883Z"
   },
   {
    "duration": 400,
    "start_time": "2025-04-21T11:39:44.427Z"
   },
   {
    "duration": 8467,
    "start_time": "2025-04-21T11:40:51.582Z"
   },
   {
    "duration": 6,
    "start_time": "2025-04-21T11:41:00.052Z"
   },
   {
    "duration": 68,
    "start_time": "2025-04-21T11:41:00.059Z"
   },
   {
    "duration": 52,
    "start_time": "2025-04-21T11:41:00.129Z"
   },
   {
    "duration": 33,
    "start_time": "2025-04-21T11:41:00.183Z"
   },
   {
    "duration": 124,
    "start_time": "2025-04-21T11:41:00.218Z"
   },
   {
    "duration": 266,
    "start_time": "2025-04-21T11:41:00.343Z"
   },
   {
    "duration": 618,
    "start_time": "2025-04-21T11:41:00.611Z"
   },
   {
    "duration": 191,
    "start_time": "2025-04-21T11:41:01.230Z"
   },
   {
    "duration": 316,
    "start_time": "2025-04-21T11:41:01.423Z"
   },
   {
    "duration": 4,
    "start_time": "2025-04-21T11:41:01.741Z"
   },
   {
    "duration": 71,
    "start_time": "2025-04-21T11:41:01.747Z"
   },
   {
    "duration": 49,
    "start_time": "2025-04-21T11:41:01.820Z"
   },
   {
    "duration": 19,
    "start_time": "2025-04-21T11:41:01.871Z"
   },
   {
    "duration": 393498,
    "start_time": "2025-04-21T11:41:01.892Z"
   },
   {
    "duration": 7,
    "start_time": "2025-04-21T11:47:35.392Z"
   },
   {
    "duration": 14,
    "start_time": "2025-04-21T11:47:35.400Z"
   },
   {
    "duration": 10,
    "start_time": "2025-04-21T11:48:54.813Z"
   },
   {
    "duration": 6,
    "start_time": "2025-04-21T11:48:57.060Z"
   },
   {
    "duration": 4,
    "start_time": "2025-04-21T11:49:45.545Z"
   },
   {
    "duration": 4,
    "start_time": "2025-04-21T11:50:09.831Z"
   },
   {
    "duration": 20,
    "start_time": "2025-04-21T11:51:14.872Z"
   },
   {
    "duration": 8,
    "start_time": "2025-04-21T11:51:22.143Z"
   },
   {
    "duration": 2309,
    "start_time": "2025-04-21T11:51:24.952Z"
   },
   {
    "duration": 6,
    "start_time": "2025-04-21T11:51:32.326Z"
   },
   {
    "duration": 8,
    "start_time": "2025-04-21T11:51:34.783Z"
   },
   {
    "duration": 90,
    "start_time": "2025-04-21T11:52:05.055Z"
   },
   {
    "duration": 5,
    "start_time": "2025-04-21T11:52:18.350Z"
   },
   {
    "duration": 3265,
    "start_time": "2025-04-21T11:52:20.787Z"
   },
   {
    "duration": 6,
    "start_time": "2025-04-21T11:52:30.790Z"
   },
   {
    "duration": 35,
    "start_time": "2025-04-21T11:52:33.809Z"
   },
   {
    "duration": 5,
    "start_time": "2025-04-21T11:53:28.158Z"
   },
   {
    "duration": 3704,
    "start_time": "2025-04-21T11:53:30.659Z"
   },
   {
    "duration": 7,
    "start_time": "2025-04-21T11:53:37.223Z"
   },
   {
    "duration": 11,
    "start_time": "2025-04-21T11:53:39.278Z"
   },
   {
    "duration": 20,
    "start_time": "2025-04-21T11:53:49.983Z"
   },
   {
    "duration": 5,
    "start_time": "2025-04-21T11:53:57.054Z"
   },
   {
    "duration": 3413,
    "start_time": "2025-04-21T11:54:04.053Z"
   },
   {
    "duration": 6,
    "start_time": "2025-04-21T11:54:12.033Z"
   },
   {
    "duration": 11,
    "start_time": "2025-04-21T11:54:14.359Z"
   },
   {
    "duration": 5,
    "start_time": "2025-04-21T11:56:12.355Z"
   },
   {
    "duration": 4701,
    "start_time": "2025-04-21T11:56:14.966Z"
   },
   {
    "duration": 6,
    "start_time": "2025-04-21T11:56:27.834Z"
   },
   {
    "duration": 8,
    "start_time": "2025-04-21T11:56:30.200Z"
   },
   {
    "duration": 5,
    "start_time": "2025-04-21T11:58:20.442Z"
   },
   {
    "duration": 6,
    "start_time": "2025-04-21T11:59:09.654Z"
   },
   {
    "duration": 7710,
    "start_time": "2025-04-21T11:59:11.747Z"
   },
   {
    "duration": 5,
    "start_time": "2025-04-21T11:59:24.196Z"
   },
   {
    "duration": 8,
    "start_time": "2025-04-21T11:59:26.667Z"
   },
   {
    "duration": 6,
    "start_time": "2025-04-21T12:00:29.894Z"
   },
   {
    "duration": 13372,
    "start_time": "2025-04-21T12:00:32.483Z"
   },
   {
    "duration": 8,
    "start_time": "2025-04-21T12:00:49.239Z"
   },
   {
    "duration": 9,
    "start_time": "2025-04-21T12:00:51.757Z"
   },
   {
    "duration": 13,
    "start_time": "2025-04-21T12:01:04.813Z"
   },
   {
    "duration": 6,
    "start_time": "2025-04-21T12:01:11.651Z"
   },
   {
    "duration": 13160,
    "start_time": "2025-04-21T12:01:13.579Z"
   },
   {
    "duration": 7,
    "start_time": "2025-04-21T12:01:29.408Z"
   },
   {
    "duration": 12,
    "start_time": "2025-04-21T12:01:31.801Z"
   },
   {
    "duration": 12,
    "start_time": "2025-04-21T12:02:22.346Z"
   },
   {
    "duration": 6,
    "start_time": "2025-04-21T12:02:24.288Z"
   },
   {
    "duration": 13239,
    "start_time": "2025-04-21T12:02:29.612Z"
   },
   {
    "duration": 7,
    "start_time": "2025-04-21T12:02:45.845Z"
   },
   {
    "duration": 11,
    "start_time": "2025-04-21T12:02:50.278Z"
   },
   {
    "duration": 12,
    "start_time": "2025-04-21T12:03:00.930Z"
   },
   {
    "duration": 6,
    "start_time": "2025-04-21T12:03:07.093Z"
   },
   {
    "duration": 13390,
    "start_time": "2025-04-21T12:03:09.376Z"
   },
   {
    "duration": 6,
    "start_time": "2025-04-21T12:03:25.232Z"
   },
   {
    "duration": 11,
    "start_time": "2025-04-21T12:03:27.298Z"
   },
   {
    "duration": 13,
    "start_time": "2025-04-21T12:03:37.765Z"
   },
   {
    "duration": 6,
    "start_time": "2025-04-21T12:03:40.091Z"
   },
   {
    "duration": 13394,
    "start_time": "2025-04-21T12:03:43.545Z"
   },
   {
    "duration": 7,
    "start_time": "2025-04-21T12:04:37.620Z"
   },
   {
    "duration": 10,
    "start_time": "2025-04-21T12:04:41.364Z"
   },
   {
    "duration": 12,
    "start_time": "2025-04-21T12:04:54.001Z"
   },
   {
    "duration": 6,
    "start_time": "2025-04-21T12:05:05.304Z"
   },
   {
    "duration": 1530,
    "start_time": "2025-04-21T12:05:08.010Z"
   },
   {
    "duration": 7,
    "start_time": "2025-04-21T12:05:17.669Z"
   },
   {
    "duration": 13220,
    "start_time": "2025-04-21T12:05:19.744Z"
   },
   {
    "duration": 8,
    "start_time": "2025-04-21T12:05:39.767Z"
   },
   {
    "duration": 11,
    "start_time": "2025-04-21T12:05:42.105Z"
   },
   {
    "duration": 6,
    "start_time": "2025-04-21T12:05:50.988Z"
   },
   {
    "duration": 12,
    "start_time": "2025-04-21T12:05:57.730Z"
   },
   {
    "duration": 6,
    "start_time": "2025-04-21T12:06:00.432Z"
   },
   {
    "duration": 13594,
    "start_time": "2025-04-21T12:06:02.254Z"
   },
   {
    "duration": 7,
    "start_time": "2025-04-21T12:06:18.590Z"
   },
   {
    "duration": 11,
    "start_time": "2025-04-21T12:06:20.680Z"
   },
   {
    "duration": 12,
    "start_time": "2025-04-21T12:06:33.714Z"
   },
   {
    "duration": 6,
    "start_time": "2025-04-21T12:06:35.839Z"
   },
   {
    "duration": 13109,
    "start_time": "2025-04-21T12:06:38.427Z"
   },
   {
    "duration": 8,
    "start_time": "2025-04-21T12:06:55.641Z"
   },
   {
    "duration": 11,
    "start_time": "2025-04-21T12:06:58.334Z"
   },
   {
    "duration": 12,
    "start_time": "2025-04-21T12:07:07.405Z"
   },
   {
    "duration": 6,
    "start_time": "2025-04-21T12:07:09.616Z"
   },
   {
    "duration": 13151,
    "start_time": "2025-04-21T12:07:11.391Z"
   },
   {
    "duration": 6,
    "start_time": "2025-04-21T12:07:29.668Z"
   },
   {
    "duration": 9,
    "start_time": "2025-04-21T12:07:31.763Z"
   },
   {
    "duration": 12,
    "start_time": "2025-04-21T12:07:42.212Z"
   },
   {
    "duration": 5,
    "start_time": "2025-04-21T12:07:44.786Z"
   },
   {
    "duration": 13125,
    "start_time": "2025-04-21T12:07:47.012Z"
   },
   {
    "duration": 7,
    "start_time": "2025-04-21T12:08:03.035Z"
   },
   {
    "duration": 12,
    "start_time": "2025-04-21T12:08:05.598Z"
   },
   {
    "duration": 14,
    "start_time": "2025-04-21T12:08:16.248Z"
   },
   {
    "duration": 6,
    "start_time": "2025-04-21T12:08:18.026Z"
   },
   {
    "duration": 13428,
    "start_time": "2025-04-21T12:08:21.038Z"
   },
   {
    "duration": 7,
    "start_time": "2025-04-21T12:08:49.223Z"
   },
   {
    "duration": 12,
    "start_time": "2025-04-21T12:08:51.254Z"
   },
   {
    "duration": 12,
    "start_time": "2025-04-21T12:08:59.518Z"
   },
   {
    "duration": 6,
    "start_time": "2025-04-21T12:09:02.334Z"
   },
   {
    "duration": 13280,
    "start_time": "2025-04-21T12:09:04.863Z"
   },
   {
    "duration": 7,
    "start_time": "2025-04-21T12:09:20.291Z"
   },
   {
    "duration": 11,
    "start_time": "2025-04-21T12:09:23.110Z"
   },
   {
    "duration": 13,
    "start_time": "2025-04-21T12:09:34.862Z"
   },
   {
    "duration": 6,
    "start_time": "2025-04-21T12:09:46.496Z"
   },
   {
    "duration": 12853,
    "start_time": "2025-04-21T12:09:48.408Z"
   },
   {
    "duration": 7,
    "start_time": "2025-04-21T12:10:03.790Z"
   },
   {
    "duration": 10,
    "start_time": "2025-04-21T12:10:06.236Z"
   },
   {
    "duration": 13,
    "start_time": "2025-04-21T12:10:15.046Z"
   },
   {
    "duration": 6,
    "start_time": "2025-04-21T12:10:28.399Z"
   },
   {
    "duration": 12670,
    "start_time": "2025-04-21T12:10:30.296Z"
   },
   {
    "duration": 7,
    "start_time": "2025-04-21T12:10:45.661Z"
   },
   {
    "duration": 9,
    "start_time": "2025-04-21T12:10:48.154Z"
   },
   {
    "duration": 6,
    "start_time": "2025-04-21T12:11:00.257Z"
   },
   {
    "duration": 6136,
    "start_time": "2025-04-21T12:11:02.202Z"
   },
   {
    "duration": 7,
    "start_time": "2025-04-21T12:11:13.313Z"
   },
   {
    "duration": 24,
    "start_time": "2025-04-21T12:11:15.298Z"
   },
   {
    "duration": 6,
    "start_time": "2025-04-21T12:11:33.599Z"
   },
   {
    "duration": 15379,
    "start_time": "2025-04-21T12:11:35.473Z"
   },
   {
    "duration": 7,
    "start_time": "2025-04-21T12:11:59.075Z"
   },
   {
    "duration": 10,
    "start_time": "2025-04-21T12:12:01.716Z"
   },
   {
    "duration": 12,
    "start_time": "2025-04-21T12:12:10.247Z"
   },
   {
    "duration": 6,
    "start_time": "2025-04-21T12:12:19.247Z"
   },
   {
    "duration": 16160,
    "start_time": "2025-04-21T12:12:21.093Z"
   },
   {
    "duration": 7,
    "start_time": "2025-04-21T12:12:43.994Z"
   },
   {
    "duration": 11,
    "start_time": "2025-04-21T12:12:46.741Z"
   },
   {
    "duration": 6,
    "start_time": "2025-04-21T12:13:29.251Z"
   },
   {
    "duration": 12,
    "start_time": "2025-04-21T12:13:36.552Z"
   },
   {
    "duration": 6,
    "start_time": "2025-04-21T12:13:42.443Z"
   },
   {
    "duration": 6,
    "start_time": "2025-04-21T12:13:54.473Z"
   },
   {
    "duration": 13144,
    "start_time": "2025-04-21T12:13:56.698Z"
   },
   {
    "duration": 7,
    "start_time": "2025-04-21T12:14:13.235Z"
   },
   {
    "duration": 10,
    "start_time": "2025-04-21T12:14:15.617Z"
   },
   {
    "duration": 11,
    "start_time": "2025-04-21T12:14:27.396Z"
   },
   {
    "duration": 5,
    "start_time": "2025-04-21T12:14:33.360Z"
   },
   {
    "duration": 13029,
    "start_time": "2025-04-21T12:14:35.514Z"
   },
   {
    "duration": 7,
    "start_time": "2025-04-21T12:14:53.024Z"
   },
   {
    "duration": 11,
    "start_time": "2025-04-21T12:14:55.811Z"
   },
   {
    "duration": 12,
    "start_time": "2025-04-21T12:15:10.133Z"
   },
   {
    "duration": 5,
    "start_time": "2025-04-21T12:15:18.106Z"
   },
   {
    "duration": 13267,
    "start_time": "2025-04-21T12:15:20.475Z"
   },
   {
    "duration": 11,
    "start_time": "2025-04-21T12:15:39.588Z"
   },
   {
    "duration": 6,
    "start_time": "2025-04-21T12:15:57.561Z"
   },
   {
    "duration": 13050,
    "start_time": "2025-04-21T12:15:59.989Z"
   },
   {
    "duration": 8,
    "start_time": "2025-04-21T12:16:15.663Z"
   },
   {
    "duration": 11,
    "start_time": "2025-04-21T12:16:17.943Z"
   },
   {
    "duration": 13,
    "start_time": "2025-04-21T12:16:35.096Z"
   },
   {
    "duration": 5,
    "start_time": "2025-04-21T12:16:44.041Z"
   },
   {
    "duration": 13124,
    "start_time": "2025-04-21T12:16:46.214Z"
   },
   {
    "duration": 8,
    "start_time": "2025-04-21T12:17:06.942Z"
   },
   {
    "duration": 14,
    "start_time": "2025-04-21T12:17:08.996Z"
   },
   {
    "duration": 13,
    "start_time": "2025-04-21T12:17:18.934Z"
   },
   {
    "duration": 6,
    "start_time": "2025-04-21T12:17:21.164Z"
   },
   {
    "duration": 13450,
    "start_time": "2025-04-21T12:17:30.093Z"
   },
   {
    "duration": 8,
    "start_time": "2025-04-21T12:17:46.431Z"
   },
   {
    "duration": 11,
    "start_time": "2025-04-21T12:17:48.441Z"
   },
   {
    "duration": 11,
    "start_time": "2025-04-21T12:17:57.558Z"
   },
   {
    "duration": 6,
    "start_time": "2025-04-21T12:18:02.104Z"
   },
   {
    "duration": 13311,
    "start_time": "2025-04-21T12:18:04.148Z"
   },
   {
    "duration": 7,
    "start_time": "2025-04-21T12:18:20.017Z"
   },
   {
    "duration": 10,
    "start_time": "2025-04-21T12:18:22.003Z"
   },
   {
    "duration": 9578,
    "start_time": "2025-04-21T12:18:29.038Z"
   },
   {
    "duration": 1673,
    "start_time": "2025-04-21T12:18:38.619Z"
   },
   {
    "duration": 59,
    "start_time": "2025-04-21T12:18:40.293Z"
   },
   {
    "duration": 14,
    "start_time": "2025-04-21T12:18:40.355Z"
   },
   {
    "duration": 16,
    "start_time": "2025-04-21T12:18:40.371Z"
   },
   {
    "duration": 11,
    "start_time": "2025-04-21T12:18:40.389Z"
   },
   {
    "duration": 364,
    "start_time": "2025-04-21T12:18:40.402Z"
   },
   {
    "duration": 674,
    "start_time": "2025-04-21T12:18:40.768Z"
   },
   {
    "duration": 225,
    "start_time": "2025-04-21T12:18:41.444Z"
   },
   {
    "duration": 301,
    "start_time": "2025-04-21T12:18:41.672Z"
   },
   {
    "duration": 5,
    "start_time": "2025-04-21T12:18:41.975Z"
   },
   {
    "duration": 9,
    "start_time": "2025-04-21T12:18:41.982Z"
   },
   {
    "duration": 31,
    "start_time": "2025-04-21T12:18:41.992Z"
   },
   {
    "duration": 11,
    "start_time": "2025-04-21T12:18:42.025Z"
   },
   {
    "duration": 3232,
    "start_time": "2025-04-21T12:18:42.038Z"
   },
   {
    "duration": 9,
    "start_time": "2025-04-21T12:18:45.272Z"
   },
   {
    "duration": 11,
    "start_time": "2025-04-21T12:18:45.337Z"
   },
   {
    "duration": 15,
    "start_time": "2025-04-21T12:19:08.278Z"
   },
   {
    "duration": 6,
    "start_time": "2025-04-21T12:19:20.482Z"
   },
   {
    "duration": 13218,
    "start_time": "2025-04-21T12:19:34.758Z"
   },
   {
    "duration": 1630,
    "start_time": "2025-04-21T12:19:47.978Z"
   },
   {
    "duration": 45,
    "start_time": "2025-04-21T12:19:49.610Z"
   },
   {
    "duration": 91,
    "start_time": "2025-04-21T12:19:49.658Z"
   },
   {
    "duration": 35,
    "start_time": "2025-04-21T12:19:49.751Z"
   },
   {
    "duration": 14,
    "start_time": "2025-04-21T12:19:49.788Z"
   },
   {
    "duration": 344,
    "start_time": "2025-04-21T12:19:49.804Z"
   },
   {
    "duration": 619,
    "start_time": "2025-04-21T12:19:50.150Z"
   },
   {
    "duration": 3827,
    "start_time": "2025-04-21T12:19:50.771Z"
   },
   {
    "duration": 353,
    "start_time": "2025-04-21T12:19:54.601Z"
   },
   {
    "duration": 4,
    "start_time": "2025-04-21T12:19:54.956Z"
   },
   {
    "duration": 13,
    "start_time": "2025-04-21T12:19:54.961Z"
   },
   {
    "duration": 17,
    "start_time": "2025-04-21T12:19:54.976Z"
   },
   {
    "duration": 10,
    "start_time": "2025-04-21T12:19:54.995Z"
   },
   {
    "duration": 13032,
    "start_time": "2025-04-21T12:19:55.006Z"
   },
   {
    "duration": 8,
    "start_time": "2025-04-21T12:20:08.040Z"
   },
   {
    "duration": 22,
    "start_time": "2025-04-21T12:20:08.049Z"
   },
   {
    "duration": 6,
    "start_time": "2025-04-21T12:20:41.891Z"
   },
   {
    "duration": 8406,
    "start_time": "2025-04-21T12:20:51.435Z"
   },
   {
    "duration": 1567,
    "start_time": "2025-04-21T12:20:59.844Z"
   },
   {
    "duration": 52,
    "start_time": "2025-04-21T12:21:01.412Z"
   },
   {
    "duration": 14,
    "start_time": "2025-04-21T12:21:01.466Z"
   },
   {
    "duration": 32,
    "start_time": "2025-04-21T12:21:01.482Z"
   },
   {
    "duration": 15,
    "start_time": "2025-04-21T12:21:01.516Z"
   },
   {
    "duration": 318,
    "start_time": "2025-04-21T12:21:01.533Z"
   },
   {
    "duration": 623,
    "start_time": "2025-04-21T12:21:01.853Z"
   },
   {
    "duration": 188,
    "start_time": "2025-04-21T12:21:02.478Z"
   },
   {
    "duration": 301,
    "start_time": "2025-04-21T12:21:02.667Z"
   },
   {
    "duration": 4,
    "start_time": "2025-04-21T12:21:02.970Z"
   },
   {
    "duration": 64,
    "start_time": "2025-04-21T12:21:02.976Z"
   },
   {
    "duration": 49,
    "start_time": "2025-04-21T12:21:03.042Z"
   },
   {
    "duration": 6,
    "start_time": "2025-04-21T12:21:03.093Z"
   },
   {
    "duration": 13235,
    "start_time": "2025-04-21T12:21:03.101Z"
   },
   {
    "duration": 7,
    "start_time": "2025-04-21T12:21:16.338Z"
   },
   {
    "duration": 21,
    "start_time": "2025-04-21T12:21:16.347Z"
   },
   {
    "duration": 12,
    "start_time": "2025-04-21T12:21:42.914Z"
   },
   {
    "duration": 6,
    "start_time": "2025-04-21T12:21:44.654Z"
   },
   {
    "duration": 9114,
    "start_time": "2025-04-21T12:21:49.524Z"
   },
   {
    "duration": 1613,
    "start_time": "2025-04-21T12:21:58.640Z"
   },
   {
    "duration": 48,
    "start_time": "2025-04-21T12:22:00.255Z"
   },
   {
    "duration": 116,
    "start_time": "2025-04-21T12:22:00.305Z"
   },
   {
    "duration": 88,
    "start_time": "2025-04-21T12:22:00.423Z"
   },
   {
    "duration": 141,
    "start_time": "2025-04-21T12:22:00.513Z"
   },
   {
    "duration": 353,
    "start_time": "2025-04-21T12:22:00.657Z"
   },
   {
    "duration": 633,
    "start_time": "2025-04-21T12:22:01.012Z"
   },
   {
    "duration": 187,
    "start_time": "2025-04-21T12:22:01.647Z"
   },
   {
    "duration": 296,
    "start_time": "2025-04-21T12:22:01.837Z"
   },
   {
    "duration": 4,
    "start_time": "2025-04-21T12:22:02.137Z"
   },
   {
    "duration": 69,
    "start_time": "2025-04-21T12:22:02.143Z"
   },
   {
    "duration": 17,
    "start_time": "2025-04-21T12:22:02.214Z"
   },
   {
    "duration": 6,
    "start_time": "2025-04-21T12:22:02.234Z"
   },
   {
    "duration": 12894,
    "start_time": "2025-04-21T12:22:02.242Z"
   },
   {
    "duration": 8,
    "start_time": "2025-04-21T12:22:15.139Z"
   },
   {
    "duration": 27,
    "start_time": "2025-04-21T12:22:15.149Z"
   },
   {
    "duration": 8523,
    "start_time": "2025-04-21T12:24:32.952Z"
   },
   {
    "duration": 1501,
    "start_time": "2025-04-21T12:24:41.477Z"
   },
   {
    "duration": 44,
    "start_time": "2025-04-21T12:24:42.980Z"
   },
   {
    "duration": 14,
    "start_time": "2025-04-21T12:24:43.026Z"
   },
   {
    "duration": 14,
    "start_time": "2025-04-21T12:24:43.042Z"
   },
   {
    "duration": 14,
    "start_time": "2025-04-21T12:24:43.058Z"
   },
   {
    "duration": 329,
    "start_time": "2025-04-21T12:24:43.073Z"
   },
   {
    "duration": 601,
    "start_time": "2025-04-21T12:24:43.404Z"
   },
   {
    "duration": 180,
    "start_time": "2025-04-21T12:24:44.007Z"
   },
   {
    "duration": 327,
    "start_time": "2025-04-21T12:24:44.189Z"
   },
   {
    "duration": 4,
    "start_time": "2025-04-21T12:24:44.518Z"
   },
   {
    "duration": 42,
    "start_time": "2025-04-21T12:24:44.524Z"
   },
   {
    "duration": 27,
    "start_time": "2025-04-21T12:24:44.568Z"
   },
   {
    "duration": 20,
    "start_time": "2025-04-21T12:24:44.598Z"
   },
   {
    "duration": 12716,
    "start_time": "2025-04-21T12:24:44.620Z"
   },
   {
    "duration": 8,
    "start_time": "2025-04-21T12:24:57.338Z"
   },
   {
    "duration": 17,
    "start_time": "2025-04-21T12:24:57.348Z"
   },
   {
    "duration": 8415,
    "start_time": "2025-04-21T12:25:13.040Z"
   },
   {
    "duration": 1558,
    "start_time": "2025-04-21T12:25:21.458Z"
   },
   {
    "duration": 43,
    "start_time": "2025-04-21T12:25:23.018Z"
   },
   {
    "duration": 13,
    "start_time": "2025-04-21T12:25:23.064Z"
   },
   {
    "duration": 22,
    "start_time": "2025-04-21T12:25:23.079Z"
   },
   {
    "duration": 19,
    "start_time": "2025-04-21T12:25:23.102Z"
   },
   {
    "duration": 327,
    "start_time": "2025-04-21T12:25:23.122Z"
   },
   {
    "duration": 628,
    "start_time": "2025-04-21T12:25:23.450Z"
   },
   {
    "duration": 189,
    "start_time": "2025-04-21T12:25:24.080Z"
   },
   {
    "duration": 321,
    "start_time": "2025-04-21T12:25:24.271Z"
   },
   {
    "duration": 4,
    "start_time": "2025-04-21T12:25:24.593Z"
   },
   {
    "duration": 10,
    "start_time": "2025-04-21T12:25:24.599Z"
   },
   {
    "duration": 32,
    "start_time": "2025-04-21T12:25:24.610Z"
   },
   {
    "duration": 6,
    "start_time": "2025-04-21T12:25:24.643Z"
   },
   {
    "duration": 12506,
    "start_time": "2025-04-21T12:25:24.651Z"
   },
   {
    "duration": 7,
    "start_time": "2025-04-21T12:25:37.160Z"
   },
   {
    "duration": 14,
    "start_time": "2025-04-21T12:25:37.169Z"
   },
   {
    "duration": 6,
    "start_time": "2025-04-21T12:26:21.273Z"
   },
   {
    "duration": 15290,
    "start_time": "2025-04-21T12:26:23.175Z"
   },
   {
    "duration": 7,
    "start_time": "2025-04-21T12:26:42.085Z"
   },
   {
    "duration": 10,
    "start_time": "2025-04-21T12:26:43.843Z"
   },
   {
    "duration": 6,
    "start_time": "2025-04-21T12:27:35.332Z"
   },
   {
    "duration": 8432,
    "start_time": "2025-04-21T12:28:42.071Z"
   },
   {
    "duration": 1674,
    "start_time": "2025-04-21T12:28:50.506Z"
   },
   {
    "duration": 44,
    "start_time": "2025-04-21T12:28:52.182Z"
   },
   {
    "duration": 13,
    "start_time": "2025-04-21T12:28:52.228Z"
   },
   {
    "duration": 14,
    "start_time": "2025-04-21T12:28:52.243Z"
   },
   {
    "duration": 14,
    "start_time": "2025-04-21T12:28:52.258Z"
   },
   {
    "duration": 358,
    "start_time": "2025-04-21T12:28:52.273Z"
   },
   {
    "duration": 603,
    "start_time": "2025-04-21T12:28:52.633Z"
   },
   {
    "duration": 183,
    "start_time": "2025-04-21T12:28:53.239Z"
   },
   {
    "duration": 289,
    "start_time": "2025-04-21T12:28:53.424Z"
   },
   {
    "duration": 4,
    "start_time": "2025-04-21T12:28:53.715Z"
   },
   {
    "duration": 47,
    "start_time": "2025-04-21T12:28:53.720Z"
   },
   {
    "duration": 23,
    "start_time": "2025-04-21T12:28:53.769Z"
   },
   {
    "duration": 6,
    "start_time": "2025-04-21T12:28:53.794Z"
   },
   {
    "duration": 4448,
    "start_time": "2025-04-21T12:28:53.802Z"
   },
   {
    "duration": 9,
    "start_time": "2025-04-21T12:28:58.252Z"
   },
   {
    "duration": 78,
    "start_time": "2025-04-21T12:28:58.263Z"
   },
   {
    "duration": 8268,
    "start_time": "2025-04-21T12:29:41.778Z"
   },
   {
    "duration": 1529,
    "start_time": "2025-04-21T12:29:50.049Z"
   },
   {
    "duration": 45,
    "start_time": "2025-04-21T12:29:51.581Z"
   },
   {
    "duration": 16,
    "start_time": "2025-04-21T12:29:51.629Z"
   },
   {
    "duration": 93,
    "start_time": "2025-04-21T12:29:51.647Z"
   },
   {
    "duration": 38,
    "start_time": "2025-04-21T12:29:51.742Z"
   },
   {
    "duration": 324,
    "start_time": "2025-04-21T12:29:51.782Z"
   },
   {
    "duration": 610,
    "start_time": "2025-04-21T12:29:52.109Z"
   },
   {
    "duration": 189,
    "start_time": "2025-04-21T12:29:52.721Z"
   },
   {
    "duration": 298,
    "start_time": "2025-04-21T12:29:52.913Z"
   },
   {
    "duration": 5,
    "start_time": "2025-04-21T12:29:53.213Z"
   },
   {
    "duration": 27,
    "start_time": "2025-04-21T12:29:53.220Z"
   },
   {
    "duration": 42,
    "start_time": "2025-04-21T12:29:53.249Z"
   },
   {
    "duration": 7,
    "start_time": "2025-04-21T12:29:53.293Z"
   },
   {
    "duration": 3544,
    "start_time": "2025-04-21T12:29:53.302Z"
   },
   {
    "duration": 6,
    "start_time": "2025-04-21T12:29:56.848Z"
   },
   {
    "duration": 76,
    "start_time": "2025-04-21T12:29:56.856Z"
   },
   {
    "duration": 8593,
    "start_time": "2025-04-21T12:30:23.871Z"
   },
   {
    "duration": 1538,
    "start_time": "2025-04-21T12:30:32.466Z"
   },
   {
    "duration": 44,
    "start_time": "2025-04-21T12:30:34.005Z"
   },
   {
    "duration": 14,
    "start_time": "2025-04-21T12:30:34.051Z"
   },
   {
    "duration": 42,
    "start_time": "2025-04-21T12:30:34.066Z"
   },
   {
    "duration": 11,
    "start_time": "2025-04-21T12:30:34.110Z"
   },
   {
    "duration": 341,
    "start_time": "2025-04-21T12:30:34.122Z"
   },
   {
    "duration": 618,
    "start_time": "2025-04-21T12:30:34.465Z"
   },
   {
    "duration": 181,
    "start_time": "2025-04-21T12:30:35.084Z"
   },
   {
    "duration": 299,
    "start_time": "2025-04-21T12:30:35.268Z"
   },
   {
    "duration": 3,
    "start_time": "2025-04-21T12:30:35.569Z"
   },
   {
    "duration": 34,
    "start_time": "2025-04-21T12:30:35.574Z"
   },
   {
    "duration": 64,
    "start_time": "2025-04-21T12:30:35.610Z"
   },
   {
    "duration": 107,
    "start_time": "2025-04-21T12:30:35.676Z"
   },
   {
    "duration": 1755,
    "start_time": "2025-04-21T12:30:35.785Z"
   },
   {
    "duration": 0,
    "start_time": "2025-04-21T12:30:37.542Z"
   },
   {
    "duration": 0,
    "start_time": "2025-04-21T12:30:37.544Z"
   },
   {
    "duration": 8363,
    "start_time": "2025-04-21T12:30:50.818Z"
   },
   {
    "duration": 1591,
    "start_time": "2025-04-21T12:30:59.184Z"
   },
   {
    "duration": 47,
    "start_time": "2025-04-21T12:31:00.776Z"
   },
   {
    "duration": 27,
    "start_time": "2025-04-21T12:31:00.824Z"
   },
   {
    "duration": 55,
    "start_time": "2025-04-21T12:31:00.853Z"
   },
   {
    "duration": 31,
    "start_time": "2025-04-21T12:31:00.910Z"
   },
   {
    "duration": 359,
    "start_time": "2025-04-21T12:31:00.943Z"
   },
   {
    "duration": 632,
    "start_time": "2025-04-21T12:31:01.304Z"
   },
   {
    "duration": 181,
    "start_time": "2025-04-21T12:31:01.938Z"
   },
   {
    "duration": 305,
    "start_time": "2025-04-21T12:31:02.120Z"
   },
   {
    "duration": 12,
    "start_time": "2025-04-21T12:31:02.427Z"
   },
   {
    "duration": 82,
    "start_time": "2025-04-21T12:31:02.441Z"
   },
   {
    "duration": 90,
    "start_time": "2025-04-21T12:31:02.525Z"
   },
   {
    "duration": 58,
    "start_time": "2025-04-21T12:31:02.618Z"
   },
   {
    "duration": 3361,
    "start_time": "2025-04-21T12:31:02.677Z"
   },
   {
    "duration": 6,
    "start_time": "2025-04-21T12:31:06.041Z"
   },
   {
    "duration": 50,
    "start_time": "2025-04-21T12:31:06.050Z"
   },
   {
    "duration": 9354,
    "start_time": "2025-04-21T12:31:50.218Z"
   },
   {
    "duration": 1607,
    "start_time": "2025-04-21T12:31:59.575Z"
   },
   {
    "duration": 56,
    "start_time": "2025-04-21T12:32:01.184Z"
   },
   {
    "duration": 15,
    "start_time": "2025-04-21T12:32:01.243Z"
   },
   {
    "duration": 33,
    "start_time": "2025-04-21T12:32:01.260Z"
   },
   {
    "duration": 39,
    "start_time": "2025-04-21T12:32:01.295Z"
   },
   {
    "duration": 331,
    "start_time": "2025-04-21T12:32:01.336Z"
   },
   {
    "duration": 634,
    "start_time": "2025-04-21T12:32:01.669Z"
   },
   {
    "duration": 187,
    "start_time": "2025-04-21T12:32:02.305Z"
   },
   {
    "duration": 301,
    "start_time": "2025-04-21T12:32:02.495Z"
   },
   {
    "duration": 3,
    "start_time": "2025-04-21T12:32:02.798Z"
   },
   {
    "duration": 197,
    "start_time": "2025-04-21T12:32:02.803Z"
   },
   {
    "duration": 69,
    "start_time": "2025-04-21T12:32:03.001Z"
   },
   {
    "duration": 21,
    "start_time": "2025-04-21T12:32:03.072Z"
   },
   {
    "duration": 2608,
    "start_time": "2025-04-21T12:32:03.095Z"
   },
   {
    "duration": 0,
    "start_time": "2025-04-21T12:32:05.706Z"
   },
   {
    "duration": 0,
    "start_time": "2025-04-21T12:32:05.707Z"
   },
   {
    "duration": 8400,
    "start_time": "2025-04-21T12:32:26.193Z"
   },
   {
    "duration": 1506,
    "start_time": "2025-04-21T12:32:34.595Z"
   },
   {
    "duration": 57,
    "start_time": "2025-04-21T12:32:36.102Z"
   },
   {
    "duration": 13,
    "start_time": "2025-04-21T12:32:36.161Z"
   },
   {
    "duration": 68,
    "start_time": "2025-04-21T12:32:36.176Z"
   },
   {
    "duration": 12,
    "start_time": "2025-04-21T12:32:36.245Z"
   },
   {
    "duration": 334,
    "start_time": "2025-04-21T12:32:36.258Z"
   },
   {
    "duration": 608,
    "start_time": "2025-04-21T12:32:36.594Z"
   },
   {
    "duration": 186,
    "start_time": "2025-04-21T12:32:37.203Z"
   },
   {
    "duration": 300,
    "start_time": "2025-04-21T12:32:37.392Z"
   },
   {
    "duration": 4,
    "start_time": "2025-04-21T12:32:37.693Z"
   },
   {
    "duration": 109,
    "start_time": "2025-04-21T12:32:37.699Z"
   },
   {
    "duration": 62,
    "start_time": "2025-04-21T12:32:37.810Z"
   },
   {
    "duration": 29,
    "start_time": "2025-04-21T12:32:37.874Z"
   },
   {
    "duration": 3152,
    "start_time": "2025-04-21T12:32:37.905Z"
   },
   {
    "duration": 6,
    "start_time": "2025-04-21T12:32:41.059Z"
   },
   {
    "duration": 15,
    "start_time": "2025-04-21T12:32:41.136Z"
   },
   {
    "duration": 4,
    "start_time": "2025-04-21T12:33:10.075Z"
   },
   {
    "duration": 8433,
    "start_time": "2025-04-21T12:33:17.178Z"
   },
   {
    "duration": 1594,
    "start_time": "2025-04-21T12:33:25.614Z"
   },
   {
    "duration": 45,
    "start_time": "2025-04-21T12:33:27.209Z"
   },
   {
    "duration": 14,
    "start_time": "2025-04-21T12:33:27.255Z"
   },
   {
    "duration": 17,
    "start_time": "2025-04-21T12:33:27.271Z"
   },
   {
    "duration": 10,
    "start_time": "2025-04-21T12:33:27.290Z"
   },
   {
    "duration": 342,
    "start_time": "2025-04-21T12:33:27.301Z"
   },
   {
    "duration": 627,
    "start_time": "2025-04-21T12:33:27.645Z"
   },
   {
    "duration": 183,
    "start_time": "2025-04-21T12:33:28.274Z"
   },
   {
    "duration": 303,
    "start_time": "2025-04-21T12:33:28.458Z"
   },
   {
    "duration": 5,
    "start_time": "2025-04-21T12:33:28.762Z"
   },
   {
    "duration": 81,
    "start_time": "2025-04-21T12:33:28.768Z"
   },
   {
    "duration": 58,
    "start_time": "2025-04-21T12:33:28.851Z"
   },
   {
    "duration": 6,
    "start_time": "2025-04-21T12:33:28.912Z"
   },
   {
    "duration": 3533,
    "start_time": "2025-04-21T12:33:28.920Z"
   },
   {
    "duration": 9,
    "start_time": "2025-04-21T12:33:32.456Z"
   },
   {
    "duration": 11,
    "start_time": "2025-04-21T12:33:32.538Z"
   },
   {
    "duration": 4,
    "start_time": "2025-04-21T12:34:42.196Z"
   },
   {
    "duration": 8394,
    "start_time": "2025-04-21T12:34:53.681Z"
   },
   {
    "duration": 1514,
    "start_time": "2025-04-21T12:35:02.078Z"
   },
   {
    "duration": 44,
    "start_time": "2025-04-21T12:35:03.594Z"
   },
   {
    "duration": 14,
    "start_time": "2025-04-21T12:35:03.640Z"
   },
   {
    "duration": 18,
    "start_time": "2025-04-21T12:35:03.656Z"
   },
   {
    "duration": 36,
    "start_time": "2025-04-21T12:35:03.675Z"
   },
   {
    "duration": 332,
    "start_time": "2025-04-21T12:35:03.713Z"
   },
   {
    "duration": 638,
    "start_time": "2025-04-21T12:35:04.046Z"
   },
   {
    "duration": 187,
    "start_time": "2025-04-21T12:35:04.686Z"
   },
   {
    "duration": 300,
    "start_time": "2025-04-21T12:35:04.876Z"
   },
   {
    "duration": 4,
    "start_time": "2025-04-21T12:35:05.178Z"
   },
   {
    "duration": 16,
    "start_time": "2025-04-21T12:35:05.183Z"
   },
   {
    "duration": 39,
    "start_time": "2025-04-21T12:35:05.200Z"
   },
   {
    "duration": 42,
    "start_time": "2025-04-21T12:35:05.241Z"
   },
   {
    "duration": 3357,
    "start_time": "2025-04-21T12:35:05.285Z"
   },
   {
    "duration": 6,
    "start_time": "2025-04-21T12:35:08.645Z"
   },
   {
    "duration": 11,
    "start_time": "2025-04-21T12:35:08.653Z"
   },
   {
    "duration": 8315,
    "start_time": "2025-04-21T12:36:16.693Z"
   },
   {
    "duration": 1612,
    "start_time": "2025-04-21T12:36:25.010Z"
   },
   {
    "duration": 46,
    "start_time": "2025-04-21T12:36:26.623Z"
   },
   {
    "duration": 13,
    "start_time": "2025-04-21T12:36:26.672Z"
   },
   {
    "duration": 15,
    "start_time": "2025-04-21T12:36:26.686Z"
   },
   {
    "duration": 10,
    "start_time": "2025-04-21T12:36:26.702Z"
   },
   {
    "duration": 337,
    "start_time": "2025-04-21T12:36:26.714Z"
   },
   {
    "duration": 611,
    "start_time": "2025-04-21T12:36:27.053Z"
   },
   {
    "duration": 188,
    "start_time": "2025-04-21T12:36:27.666Z"
   },
   {
    "duration": 298,
    "start_time": "2025-04-21T12:36:27.857Z"
   },
   {
    "duration": 4,
    "start_time": "2025-04-21T12:36:28.158Z"
   },
   {
    "duration": 13,
    "start_time": "2025-04-21T12:36:28.164Z"
   },
   {
    "duration": 18,
    "start_time": "2025-04-21T12:36:28.178Z"
   },
   {
    "duration": 5,
    "start_time": "2025-04-21T12:36:28.198Z"
   },
   {
    "duration": 3145,
    "start_time": "2025-04-21T12:36:28.205Z"
   },
   {
    "duration": 8,
    "start_time": "2025-04-21T12:36:31.353Z"
   },
   {
    "duration": 8,
    "start_time": "2025-04-21T12:36:31.437Z"
   },
   {
    "duration": 8409,
    "start_time": "2025-04-21T12:37:27.644Z"
   },
   {
    "duration": 1535,
    "start_time": "2025-04-21T12:37:36.055Z"
   },
   {
    "duration": 45,
    "start_time": "2025-04-21T12:37:37.591Z"
   },
   {
    "duration": 14,
    "start_time": "2025-04-21T12:37:37.638Z"
   },
   {
    "duration": 36,
    "start_time": "2025-04-21T12:37:37.655Z"
   },
   {
    "duration": 14,
    "start_time": "2025-04-21T12:37:37.693Z"
   },
   {
    "duration": 322,
    "start_time": "2025-04-21T12:37:37.709Z"
   },
   {
    "duration": 602,
    "start_time": "2025-04-21T12:37:38.036Z"
   },
   {
    "duration": 183,
    "start_time": "2025-04-21T12:37:38.640Z"
   },
   {
    "duration": 321,
    "start_time": "2025-04-21T12:37:38.824Z"
   },
   {
    "duration": 3,
    "start_time": "2025-04-21T12:37:39.147Z"
   },
   {
    "duration": 13,
    "start_time": "2025-04-21T12:37:39.152Z"
   },
   {
    "duration": 24,
    "start_time": "2025-04-21T12:37:39.166Z"
   },
   {
    "duration": 6,
    "start_time": "2025-04-21T12:37:39.192Z"
   },
   {
    "duration": 3449,
    "start_time": "2025-04-21T12:37:39.200Z"
   },
   {
    "duration": 7,
    "start_time": "2025-04-21T12:37:42.650Z"
   },
   {
    "duration": 83,
    "start_time": "2025-04-21T12:37:42.659Z"
   },
   {
    "duration": 8698,
    "start_time": "2025-04-21T12:39:56.426Z"
   },
   {
    "duration": 2031,
    "start_time": "2025-04-21T12:40:05.127Z"
   },
   {
    "duration": 89,
    "start_time": "2025-04-21T12:40:07.160Z"
   },
   {
    "duration": 15,
    "start_time": "2025-04-21T12:40:07.251Z"
   },
   {
    "duration": 81,
    "start_time": "2025-04-21T12:40:07.267Z"
   },
   {
    "duration": 24,
    "start_time": "2025-04-21T12:40:07.350Z"
   },
   {
    "duration": 580,
    "start_time": "2025-04-21T12:40:07.376Z"
   },
   {
    "duration": 618,
    "start_time": "2025-04-21T12:40:07.958Z"
   },
   {
    "duration": 185,
    "start_time": "2025-04-21T12:40:08.578Z"
   },
   {
    "duration": 324,
    "start_time": "2025-04-21T12:40:08.766Z"
   },
   {
    "duration": 4,
    "start_time": "2025-04-21T12:40:09.092Z"
   },
   {
    "duration": 29,
    "start_time": "2025-04-21T12:40:09.097Z"
   },
   {
    "duration": 31,
    "start_time": "2025-04-21T12:40:09.128Z"
   },
   {
    "duration": 7,
    "start_time": "2025-04-21T12:40:09.160Z"
   },
   {
    "duration": 14471,
    "start_time": "2025-04-21T12:40:09.168Z"
   },
   {
    "duration": 7,
    "start_time": "2025-04-21T12:40:23.641Z"
   },
   {
    "duration": 11,
    "start_time": "2025-04-21T12:40:23.649Z"
   },
   {
    "duration": 6,
    "start_time": "2025-04-21T12:40:55.222Z"
   },
   {
    "duration": 8485,
    "start_time": "2025-04-21T12:41:22.145Z"
   },
   {
    "duration": 1634,
    "start_time": "2025-04-21T12:41:30.632Z"
   },
   {
    "duration": 45,
    "start_time": "2025-04-21T12:41:32.268Z"
   },
   {
    "duration": 15,
    "start_time": "2025-04-21T12:41:32.316Z"
   },
   {
    "duration": 100,
    "start_time": "2025-04-21T12:41:32.332Z"
   },
   {
    "duration": 16,
    "start_time": "2025-04-21T12:41:32.434Z"
   },
   {
    "duration": 357,
    "start_time": "2025-04-21T12:41:32.451Z"
   },
   {
    "duration": 637,
    "start_time": "2025-04-21T12:41:32.809Z"
   },
   {
    "duration": 190,
    "start_time": "2025-04-21T12:41:33.448Z"
   },
   {
    "duration": 302,
    "start_time": "2025-04-21T12:41:33.642Z"
   },
   {
    "duration": 4,
    "start_time": "2025-04-21T12:41:33.946Z"
   },
   {
    "duration": 44,
    "start_time": "2025-04-21T12:41:33.952Z"
   },
   {
    "duration": 27,
    "start_time": "2025-04-21T12:41:33.997Z"
   },
   {
    "duration": 21,
    "start_time": "2025-04-21T12:41:34.026Z"
   },
   {
    "duration": 3616,
    "start_time": "2025-04-21T12:41:34.049Z"
   },
   {
    "duration": 9,
    "start_time": "2025-04-21T12:41:37.667Z"
   },
   {
    "duration": 9,
    "start_time": "2025-04-21T12:41:37.737Z"
   },
   {
    "duration": 8560,
    "start_time": "2025-04-21T12:41:57.860Z"
   },
   {
    "duration": 1614,
    "start_time": "2025-04-21T12:42:06.422Z"
   },
   {
    "duration": 44,
    "start_time": "2025-04-21T12:42:08.038Z"
   },
   {
    "duration": 36,
    "start_time": "2025-04-21T12:42:08.084Z"
   },
   {
    "duration": 14,
    "start_time": "2025-04-21T12:42:08.121Z"
   },
   {
    "duration": 10,
    "start_time": "2025-04-21T12:42:08.137Z"
   },
   {
    "duration": 329,
    "start_time": "2025-04-21T12:42:08.148Z"
   },
   {
    "duration": 623,
    "start_time": "2025-04-21T12:42:08.479Z"
   },
   {
    "duration": 189,
    "start_time": "2025-04-21T12:42:09.104Z"
   },
   {
    "duration": 294,
    "start_time": "2025-04-21T12:42:09.295Z"
   },
   {
    "duration": 4,
    "start_time": "2025-04-21T12:42:09.591Z"
   },
   {
    "duration": 7,
    "start_time": "2025-04-21T12:42:09.597Z"
   },
   {
    "duration": 34,
    "start_time": "2025-04-21T12:42:09.606Z"
   },
   {
    "duration": 6,
    "start_time": "2025-04-21T12:42:09.641Z"
   },
   {
    "duration": 3389,
    "start_time": "2025-04-21T12:42:09.649Z"
   },
   {
    "duration": 5,
    "start_time": "2025-04-21T12:42:13.040Z"
   },
   {
    "duration": 10,
    "start_time": "2025-04-21T12:42:13.047Z"
   },
   {
    "duration": 8457,
    "start_time": "2025-04-21T12:42:33.086Z"
   },
   {
    "duration": 1611,
    "start_time": "2025-04-21T12:42:41.545Z"
   },
   {
    "duration": 44,
    "start_time": "2025-04-21T12:42:43.157Z"
   },
   {
    "duration": 13,
    "start_time": "2025-04-21T12:42:43.203Z"
   },
   {
    "duration": 41,
    "start_time": "2025-04-21T12:42:43.217Z"
   },
   {
    "duration": 11,
    "start_time": "2025-04-21T12:42:43.260Z"
   },
   {
    "duration": 311,
    "start_time": "2025-04-21T12:42:43.272Z"
   },
   {
    "duration": 591,
    "start_time": "2025-04-21T12:42:43.585Z"
   },
   {
    "duration": 187,
    "start_time": "2025-04-21T12:42:44.178Z"
   },
   {
    "duration": 322,
    "start_time": "2025-04-21T12:42:44.367Z"
   },
   {
    "duration": 3,
    "start_time": "2025-04-21T12:42:44.691Z"
   },
   {
    "duration": 12,
    "start_time": "2025-04-21T12:42:44.696Z"
   },
   {
    "duration": 27,
    "start_time": "2025-04-21T12:42:44.709Z"
   },
   {
    "duration": 6,
    "start_time": "2025-04-21T12:42:44.738Z"
   },
   {
    "duration": 3438,
    "start_time": "2025-04-21T12:42:44.746Z"
   },
   {
    "duration": 56,
    "start_time": "2025-04-21T12:42:48.185Z"
   },
   {
    "duration": 20,
    "start_time": "2025-04-21T12:42:48.243Z"
   },
   {
    "duration": 8343,
    "start_time": "2025-04-21T12:43:04.273Z"
   },
   {
    "duration": 1561,
    "start_time": "2025-04-21T12:43:12.618Z"
   },
   {
    "duration": 45,
    "start_time": "2025-04-21T12:43:14.180Z"
   },
   {
    "duration": 13,
    "start_time": "2025-04-21T12:43:14.227Z"
   },
   {
    "duration": 14,
    "start_time": "2025-04-21T12:43:14.242Z"
   },
   {
    "duration": 11,
    "start_time": "2025-04-21T12:43:14.257Z"
   },
   {
    "duration": 355,
    "start_time": "2025-04-21T12:43:14.269Z"
   },
   {
    "duration": 604,
    "start_time": "2025-04-21T12:43:14.625Z"
   },
   {
    "duration": 183,
    "start_time": "2025-04-21T12:43:15.230Z"
   },
   {
    "duration": 295,
    "start_time": "2025-04-21T12:43:15.415Z"
   },
   {
    "duration": 4,
    "start_time": "2025-04-21T12:43:15.712Z"
   },
   {
    "duration": 77,
    "start_time": "2025-04-21T12:43:15.717Z"
   },
   {
    "duration": 16,
    "start_time": "2025-04-21T12:43:15.796Z"
   },
   {
    "duration": 9,
    "start_time": "2025-04-21T12:43:15.813Z"
   },
   {
    "duration": 3338,
    "start_time": "2025-04-21T12:43:15.823Z"
   },
   {
    "duration": 78,
    "start_time": "2025-04-21T12:43:19.163Z"
   },
   {
    "duration": 15,
    "start_time": "2025-04-21T12:43:19.242Z"
   },
   {
    "duration": 11,
    "start_time": "2025-04-21T12:43:57.712Z"
   },
   {
    "duration": 8268,
    "start_time": "2025-04-21T12:44:03.550Z"
   },
   {
    "duration": 1549,
    "start_time": "2025-04-21T12:44:11.821Z"
   },
   {
    "duration": 45,
    "start_time": "2025-04-21T12:44:13.372Z"
   },
   {
    "duration": 13,
    "start_time": "2025-04-21T12:44:13.419Z"
   },
   {
    "duration": 15,
    "start_time": "2025-04-21T12:44:13.436Z"
   },
   {
    "duration": 11,
    "start_time": "2025-04-21T12:44:13.453Z"
   },
   {
    "duration": 333,
    "start_time": "2025-04-21T12:44:13.465Z"
   },
   {
    "duration": 619,
    "start_time": "2025-04-21T12:44:13.800Z"
   },
   {
    "duration": 187,
    "start_time": "2025-04-21T12:44:14.422Z"
   },
   {
    "duration": 312,
    "start_time": "2025-04-21T12:44:14.612Z"
   },
   {
    "duration": 4,
    "start_time": "2025-04-21T12:44:14.925Z"
   },
   {
    "duration": 46,
    "start_time": "2025-04-21T12:44:14.937Z"
   },
   {
    "duration": 21,
    "start_time": "2025-04-21T12:44:14.985Z"
   },
   {
    "duration": 51,
    "start_time": "2025-04-21T12:44:15.008Z"
   },
   {
    "duration": 3494,
    "start_time": "2025-04-21T12:44:15.061Z"
   },
   {
    "duration": 7,
    "start_time": "2025-04-21T12:44:18.557Z"
   },
   {
    "duration": 13,
    "start_time": "2025-04-21T12:44:18.637Z"
   },
   {
    "duration": 8445,
    "start_time": "2025-04-21T12:44:30.769Z"
   },
   {
    "duration": 1778,
    "start_time": "2025-04-21T12:44:39.217Z"
   },
   {
    "duration": 44,
    "start_time": "2025-04-21T12:44:40.997Z"
   },
   {
    "duration": 14,
    "start_time": "2025-04-21T12:44:41.043Z"
   },
   {
    "duration": 41,
    "start_time": "2025-04-21T12:44:41.059Z"
   },
   {
    "duration": 17,
    "start_time": "2025-04-21T12:44:41.102Z"
   },
   {
    "duration": 398,
    "start_time": "2025-04-21T12:44:41.120Z"
   },
   {
    "duration": 619,
    "start_time": "2025-04-21T12:44:41.519Z"
   },
   {
    "duration": 181,
    "start_time": "2025-04-21T12:44:42.141Z"
   },
   {
    "duration": 294,
    "start_time": "2025-04-21T12:44:42.335Z"
   },
   {
    "duration": 6,
    "start_time": "2025-04-21T12:44:42.631Z"
   },
   {
    "duration": 31,
    "start_time": "2025-04-21T12:44:42.639Z"
   },
   {
    "duration": 29,
    "start_time": "2025-04-21T12:44:42.671Z"
   },
   {
    "duration": 14,
    "start_time": "2025-04-21T12:44:42.701Z"
   },
   {
    "duration": 3637,
    "start_time": "2025-04-21T12:44:42.718Z"
   },
   {
    "duration": 6,
    "start_time": "2025-04-21T12:44:46.437Z"
   },
   {
    "duration": 28,
    "start_time": "2025-04-21T12:44:46.445Z"
   },
   {
    "duration": 8503,
    "start_time": "2025-04-21T12:45:24.456Z"
   },
   {
    "duration": 1604,
    "start_time": "2025-04-21T12:45:32.962Z"
   },
   {
    "duration": 56,
    "start_time": "2025-04-21T12:45:34.568Z"
   },
   {
    "duration": 56,
    "start_time": "2025-04-21T12:45:34.626Z"
   },
   {
    "duration": 15,
    "start_time": "2025-04-21T12:45:34.684Z"
   },
   {
    "duration": 11,
    "start_time": "2025-04-21T12:45:34.701Z"
   },
   {
    "duration": 326,
    "start_time": "2025-04-21T12:45:34.713Z"
   },
   {
    "duration": 802,
    "start_time": "2025-04-21T12:45:35.041Z"
   },
   {
    "duration": 332,
    "start_time": "2025-04-21T12:45:35.845Z"
   },
   {
    "duration": 658,
    "start_time": "2025-04-21T12:45:36.180Z"
   },
   {
    "duration": 4,
    "start_time": "2025-04-21T12:45:36.840Z"
   },
   {
    "duration": 142,
    "start_time": "2025-04-21T12:45:36.845Z"
   },
   {
    "duration": 24,
    "start_time": "2025-04-21T12:45:36.989Z"
   },
   {
    "duration": 23,
    "start_time": "2025-04-21T12:45:37.014Z"
   },
   {
    "duration": 5799,
    "start_time": "2025-04-21T12:45:37.039Z"
   },
   {
    "duration": 7,
    "start_time": "2025-04-21T12:45:42.840Z"
   },
   {
    "duration": 10,
    "start_time": "2025-04-21T12:45:42.849Z"
   },
   {
    "duration": 5,
    "start_time": "2025-04-21T12:46:44.594Z"
   },
   {
    "duration": 9231,
    "start_time": "2025-04-21T12:46:55.511Z"
   },
   {
    "duration": 1676,
    "start_time": "2025-04-21T12:47:04.745Z"
   },
   {
    "duration": 44,
    "start_time": "2025-04-21T12:47:06.423Z"
   },
   {
    "duration": 14,
    "start_time": "2025-04-21T12:47:06.470Z"
   },
   {
    "duration": 27,
    "start_time": "2025-04-21T12:47:06.485Z"
   },
   {
    "duration": 19,
    "start_time": "2025-04-21T12:47:06.514Z"
   },
   {
    "duration": 322,
    "start_time": "2025-04-21T12:47:06.536Z"
   },
   {
    "duration": 608,
    "start_time": "2025-04-21T12:47:06.860Z"
   },
   {
    "duration": 191,
    "start_time": "2025-04-21T12:47:07.470Z"
   },
   {
    "duration": 358,
    "start_time": "2025-04-21T12:47:07.664Z"
   },
   {
    "duration": 4,
    "start_time": "2025-04-21T12:47:08.023Z"
   },
   {
    "duration": 13,
    "start_time": "2025-04-21T12:47:08.036Z"
   },
   {
    "duration": 29,
    "start_time": "2025-04-21T12:47:08.051Z"
   },
   {
    "duration": 87,
    "start_time": "2025-04-21T12:47:08.081Z"
   },
   {
    "duration": 5481,
    "start_time": "2025-04-21T12:47:08.170Z"
   },
   {
    "duration": 7,
    "start_time": "2025-04-21T12:47:13.653Z"
   },
   {
    "duration": 76,
    "start_time": "2025-04-21T12:47:13.662Z"
   },
   {
    "duration": 8634,
    "start_time": "2025-04-21T12:47:43.710Z"
   },
   {
    "duration": 1651,
    "start_time": "2025-04-21T12:47:52.346Z"
   },
   {
    "duration": 45,
    "start_time": "2025-04-21T12:47:53.999Z"
   },
   {
    "duration": 13,
    "start_time": "2025-04-21T12:47:54.046Z"
   },
   {
    "duration": 16,
    "start_time": "2025-04-21T12:47:54.062Z"
   },
   {
    "duration": 68,
    "start_time": "2025-04-21T12:47:54.080Z"
   },
   {
    "duration": 370,
    "start_time": "2025-04-21T12:47:54.150Z"
   },
   {
    "duration": 625,
    "start_time": "2025-04-21T12:47:54.522Z"
   },
   {
    "duration": 184,
    "start_time": "2025-04-21T12:47:55.149Z"
   },
   {
    "duration": 303,
    "start_time": "2025-04-21T12:47:55.336Z"
   },
   {
    "duration": 5,
    "start_time": "2025-04-21T12:47:55.641Z"
   },
   {
    "duration": 42,
    "start_time": "2025-04-21T12:47:55.648Z"
   },
   {
    "duration": 32,
    "start_time": "2025-04-21T12:47:55.693Z"
   },
   {
    "duration": 87,
    "start_time": "2025-04-21T12:47:55.727Z"
   },
   {
    "duration": 5745,
    "start_time": "2025-04-21T12:47:55.816Z"
   },
   {
    "duration": 76,
    "start_time": "2025-04-21T12:48:01.564Z"
   },
   {
    "duration": 67,
    "start_time": "2025-04-21T12:48:01.642Z"
   },
   {
    "duration": 8592,
    "start_time": "2025-04-21T12:48:41.550Z"
   },
   {
    "duration": 1668,
    "start_time": "2025-04-21T12:48:50.144Z"
   },
   {
    "duration": 45,
    "start_time": "2025-04-21T12:48:51.813Z"
   },
   {
    "duration": 14,
    "start_time": "2025-04-21T12:48:51.861Z"
   },
   {
    "duration": 25,
    "start_time": "2025-04-21T12:48:51.877Z"
   },
   {
    "duration": 16,
    "start_time": "2025-04-21T12:48:51.904Z"
   },
   {
    "duration": 321,
    "start_time": "2025-04-21T12:48:51.922Z"
   },
   {
    "duration": 604,
    "start_time": "2025-04-21T12:48:52.245Z"
   },
   {
    "duration": 189,
    "start_time": "2025-04-21T12:48:52.851Z"
   },
   {
    "duration": 305,
    "start_time": "2025-04-21T12:48:53.042Z"
   },
   {
    "duration": 4,
    "start_time": "2025-04-21T12:48:53.349Z"
   },
   {
    "duration": 19,
    "start_time": "2025-04-21T12:48:53.354Z"
   },
   {
    "duration": 23,
    "start_time": "2025-04-21T12:48:53.374Z"
   },
   {
    "duration": 6,
    "start_time": "2025-04-21T12:48:53.399Z"
   },
   {
    "duration": 4531,
    "start_time": "2025-04-21T12:48:53.407Z"
   },
   {
    "duration": 7,
    "start_time": "2025-04-21T12:48:57.939Z"
   },
   {
    "duration": 10,
    "start_time": "2025-04-21T12:48:57.947Z"
   },
   {
    "duration": 7,
    "start_time": "2025-04-21T12:50:31.420Z"
   },
   {
    "duration": 7,
    "start_time": "2025-04-21T12:51:11.255Z"
   },
   {
    "duration": 8614,
    "start_time": "2025-04-21T12:51:17.266Z"
   },
   {
    "duration": 1570,
    "start_time": "2025-04-21T12:51:25.883Z"
   },
   {
    "duration": 45,
    "start_time": "2025-04-21T12:51:27.454Z"
   },
   {
    "duration": 13,
    "start_time": "2025-04-21T12:51:27.502Z"
   },
   {
    "duration": 28,
    "start_time": "2025-04-21T12:51:27.517Z"
   },
   {
    "duration": 12,
    "start_time": "2025-04-21T12:51:27.546Z"
   },
   {
    "duration": 394,
    "start_time": "2025-04-21T12:51:27.560Z"
   },
   {
    "duration": 640,
    "start_time": "2025-04-21T12:51:27.956Z"
   },
   {
    "duration": 194,
    "start_time": "2025-04-21T12:51:28.598Z"
   },
   {
    "duration": 349,
    "start_time": "2025-04-21T12:51:28.797Z"
   },
   {
    "duration": 6,
    "start_time": "2025-04-21T12:51:29.148Z"
   },
   {
    "duration": 24,
    "start_time": "2025-04-21T12:51:29.155Z"
   },
   {
    "duration": 18,
    "start_time": "2025-04-21T12:51:29.181Z"
   },
   {
    "duration": 25,
    "start_time": "2025-04-21T12:51:29.201Z"
   },
   {
    "duration": 8619,
    "start_time": "2025-04-21T12:51:29.228Z"
   },
   {
    "duration": 7,
    "start_time": "2025-04-21T12:51:37.849Z"
   },
   {
    "duration": 44,
    "start_time": "2025-04-21T12:51:37.857Z"
   },
   {
    "duration": 8859,
    "start_time": "2025-04-21T12:52:01.494Z"
   },
   {
    "duration": 1613,
    "start_time": "2025-04-21T12:52:10.356Z"
   },
   {
    "duration": 44,
    "start_time": "2025-04-21T12:52:11.971Z"
   },
   {
    "duration": 19,
    "start_time": "2025-04-21T12:52:12.017Z"
   },
   {
    "duration": 34,
    "start_time": "2025-04-21T12:52:12.038Z"
   },
   {
    "duration": 23,
    "start_time": "2025-04-21T12:52:12.074Z"
   },
   {
    "duration": 408,
    "start_time": "2025-04-21T12:52:12.098Z"
   },
   {
    "duration": 604,
    "start_time": "2025-04-21T12:52:12.508Z"
   },
   {
    "duration": 186,
    "start_time": "2025-04-21T12:52:13.114Z"
   },
   {
    "duration": 299,
    "start_time": "2025-04-21T12:52:13.302Z"
   },
   {
    "duration": 5,
    "start_time": "2025-04-21T12:52:13.603Z"
   },
   {
    "duration": 9,
    "start_time": "2025-04-21T12:52:13.610Z"
   },
   {
    "duration": 24,
    "start_time": "2025-04-21T12:52:13.637Z"
   },
   {
    "duration": 7,
    "start_time": "2025-04-21T12:52:13.663Z"
   },
   {
    "duration": 13879,
    "start_time": "2025-04-21T12:52:13.672Z"
   },
   {
    "duration": 6,
    "start_time": "2025-04-21T12:52:27.553Z"
   },
   {
    "duration": 14,
    "start_time": "2025-04-21T12:52:27.561Z"
   },
   {
    "duration": 8421,
    "start_time": "2025-04-21T12:54:32.465Z"
   },
   {
    "duration": 1608,
    "start_time": "2025-04-21T12:54:40.889Z"
   },
   {
    "duration": 45,
    "start_time": "2025-04-21T12:54:42.499Z"
   },
   {
    "duration": 15,
    "start_time": "2025-04-21T12:54:42.546Z"
   },
   {
    "duration": 20,
    "start_time": "2025-04-21T12:54:42.563Z"
   },
   {
    "duration": 11,
    "start_time": "2025-04-21T12:54:42.585Z"
   },
   {
    "duration": 342,
    "start_time": "2025-04-21T12:54:42.598Z"
   },
   {
    "duration": 625,
    "start_time": "2025-04-21T12:54:42.942Z"
   },
   {
    "duration": 190,
    "start_time": "2025-04-21T12:54:43.569Z"
   },
   {
    "duration": 314,
    "start_time": "2025-04-21T12:54:43.761Z"
   },
   {
    "duration": 5,
    "start_time": "2025-04-21T12:54:44.077Z"
   },
   {
    "duration": 10,
    "start_time": "2025-04-21T12:54:44.084Z"
   },
   {
    "duration": 16,
    "start_time": "2025-04-21T12:54:44.095Z"
   },
   {
    "duration": 23,
    "start_time": "2025-04-21T12:54:44.114Z"
   },
   {
    "duration": 4498,
    "start_time": "2025-04-21T12:54:44.140Z"
   },
   {
    "duration": 6,
    "start_time": "2025-04-21T12:54:48.640Z"
   },
   {
    "duration": 51,
    "start_time": "2025-04-21T12:54:48.647Z"
   },
   {
    "duration": 13579,
    "start_time": "2025-04-22T19:01:02.683Z"
   },
   {
    "duration": 2358,
    "start_time": "2025-04-22T19:01:16.265Z"
   },
   {
    "duration": 42,
    "start_time": "2025-04-22T19:01:18.625Z"
   },
   {
    "duration": 13,
    "start_time": "2025-04-22T19:01:18.668Z"
   },
   {
    "duration": 14,
    "start_time": "2025-04-22T19:01:18.683Z"
   },
   {
    "duration": 9,
    "start_time": "2025-04-22T19:01:18.698Z"
   },
   {
    "duration": 301,
    "start_time": "2025-04-22T19:01:18.709Z"
   },
   {
    "duration": 537,
    "start_time": "2025-04-22T19:01:19.011Z"
   },
   {
    "duration": 165,
    "start_time": "2025-04-22T19:01:19.550Z"
   },
   {
    "duration": 260,
    "start_time": "2025-04-22T19:01:19.718Z"
   },
   {
    "duration": 175,
    "start_time": "2025-04-22T19:01:19.979Z"
   },
   {
    "duration": 4,
    "start_time": "2025-04-22T19:01:20.155Z"
   },
   {
    "duration": 13,
    "start_time": "2025-04-22T19:01:20.160Z"
   },
   {
    "duration": 16,
    "start_time": "2025-04-22T19:01:20.174Z"
   },
   {
    "duration": 6,
    "start_time": "2025-04-22T19:01:20.192Z"
   },
   {
    "duration": 4465,
    "start_time": "2025-04-22T19:01:20.200Z"
   },
   {
    "duration": 76,
    "start_time": "2025-04-22T19:01:24.667Z"
   },
   {
    "duration": 27,
    "start_time": "2025-04-22T19:01:24.745Z"
   },
   {
    "duration": 9078,
    "start_time": "2025-04-22T19:04:31.913Z"
   },
   {
    "duration": 1484,
    "start_time": "2025-04-22T19:04:40.994Z"
   },
   {
    "duration": 43,
    "start_time": "2025-04-22T19:04:42.480Z"
   },
   {
    "duration": 23,
    "start_time": "2025-04-22T19:04:42.525Z"
   },
   {
    "duration": 22,
    "start_time": "2025-04-22T19:04:42.552Z"
   },
   {
    "duration": 10,
    "start_time": "2025-04-22T19:04:42.576Z"
   },
   {
    "duration": 340,
    "start_time": "2025-04-22T19:04:42.587Z"
   },
   {
    "duration": 606,
    "start_time": "2025-04-22T19:04:42.929Z"
   },
   {
    "duration": 176,
    "start_time": "2025-04-22T19:04:43.537Z"
   },
   {
    "duration": 298,
    "start_time": "2025-04-22T19:04:43.714Z"
   },
   {
    "duration": 193,
    "start_time": "2025-04-22T19:04:44.013Z"
   },
   {
    "duration": 4,
    "start_time": "2025-04-22T19:04:44.207Z"
   },
   {
    "duration": 39,
    "start_time": "2025-04-22T19:04:44.212Z"
   },
   {
    "duration": 23,
    "start_time": "2025-04-22T19:04:44.254Z"
   },
   {
    "duration": 143,
    "start_time": "2025-04-22T19:04:44.278Z"
   },
   {
    "duration": 0,
    "start_time": "2025-04-22T19:04:44.423Z"
   },
   {
    "duration": 0,
    "start_time": "2025-04-22T19:04:44.424Z"
   },
   {
    "duration": 0,
    "start_time": "2025-04-22T19:04:44.425Z"
   },
   {
    "duration": 6,
    "start_time": "2025-04-22T19:05:44.079Z"
   },
   {
    "duration": 6458,
    "start_time": "2025-04-22T19:05:48.324Z"
   },
   {
    "duration": 10,
    "start_time": "2025-04-22T19:06:00.209Z"
   },
   {
    "duration": 12,
    "start_time": "2025-04-22T19:06:02.969Z"
   },
   {
    "duration": 8087,
    "start_time": "2025-04-22T19:06:53.098Z"
   },
   {
    "duration": 1543,
    "start_time": "2025-04-22T19:07:01.188Z"
   },
   {
    "duration": 52,
    "start_time": "2025-04-22T19:07:02.733Z"
   },
   {
    "duration": 12,
    "start_time": "2025-04-22T19:07:02.787Z"
   },
   {
    "duration": 69,
    "start_time": "2025-04-22T19:07:02.800Z"
   },
   {
    "duration": 11,
    "start_time": "2025-04-22T19:07:02.870Z"
   },
   {
    "duration": 314,
    "start_time": "2025-04-22T19:07:02.883Z"
   },
   {
    "duration": 615,
    "start_time": "2025-04-22T19:07:03.199Z"
   },
   {
    "duration": 175,
    "start_time": "2025-04-22T19:07:03.816Z"
   },
   {
    "duration": 287,
    "start_time": "2025-04-22T19:07:03.994Z"
   },
   {
    "duration": 189,
    "start_time": "2025-04-22T19:07:04.283Z"
   },
   {
    "duration": 4,
    "start_time": "2025-04-22T19:07:04.474Z"
   },
   {
    "duration": 31,
    "start_time": "2025-04-22T19:07:04.479Z"
   },
   {
    "duration": 56,
    "start_time": "2025-04-22T19:07:04.511Z"
   },
   {
    "duration": 16,
    "start_time": "2025-04-22T19:07:04.569Z"
   },
   {
    "duration": 7189,
    "start_time": "2025-04-22T19:07:04.587Z"
   },
   {
    "duration": 11,
    "start_time": "2025-04-22T19:07:11.778Z"
   },
   {
    "duration": 130,
    "start_time": "2025-04-22T19:07:11.791Z"
   },
   {
    "duration": 6,
    "start_time": "2025-04-22T19:10:14.694Z"
   },
   {
    "duration": 3545,
    "start_time": "2025-04-22T19:10:17.067Z"
   },
   {
    "duration": 11,
    "start_time": "2025-04-22T19:10:33.407Z"
   },
   {
    "duration": 13,
    "start_time": "2025-04-22T19:10:36.116Z"
   },
   {
    "duration": 8,
    "start_time": "2025-04-22T19:10:49.971Z"
   },
   {
    "duration": 7887,
    "start_time": "2025-04-22T19:10:55.223Z"
   },
   {
    "duration": 2056,
    "start_time": "2025-04-22T19:11:03.112Z"
   },
   {
    "duration": 87,
    "start_time": "2025-04-22T19:11:05.170Z"
   },
   {
    "duration": 15,
    "start_time": "2025-04-22T19:11:05.259Z"
   },
   {
    "duration": 78,
    "start_time": "2025-04-22T19:11:05.276Z"
   },
   {
    "duration": 19,
    "start_time": "2025-04-22T19:11:05.356Z"
   },
   {
    "duration": 464,
    "start_time": "2025-04-22T19:11:05.377Z"
   },
   {
    "duration": 581,
    "start_time": "2025-04-22T19:11:05.843Z"
   },
   {
    "duration": 185,
    "start_time": "2025-04-22T19:11:06.426Z"
   },
   {
    "duration": 272,
    "start_time": "2025-04-22T19:11:06.615Z"
   },
   {
    "duration": 175,
    "start_time": "2025-04-22T19:11:06.889Z"
   },
   {
    "duration": 4,
    "start_time": "2025-04-22T19:11:07.066Z"
   },
   {
    "duration": 8,
    "start_time": "2025-04-22T19:11:07.072Z"
   },
   {
    "duration": 17,
    "start_time": "2025-04-22T19:11:07.082Z"
   },
   {
    "duration": 17,
    "start_time": "2025-04-22T19:11:07.101Z"
   },
   {
    "duration": 1961,
    "start_time": "2025-04-22T19:11:07.120Z"
   },
   {
    "duration": 12,
    "start_time": "2025-04-22T19:11:09.084Z"
   },
   {
    "duration": 13,
    "start_time": "2025-04-22T19:11:09.098Z"
   },
   {
    "duration": 8121,
    "start_time": "2025-04-22T19:15:10.464Z"
   },
   {
    "duration": 1429,
    "start_time": "2025-04-22T19:15:18.587Z"
   },
   {
    "duration": 41,
    "start_time": "2025-04-22T19:15:20.018Z"
   },
   {
    "duration": 17,
    "start_time": "2025-04-22T19:15:20.061Z"
   },
   {
    "duration": 22,
    "start_time": "2025-04-22T19:15:20.080Z"
   },
   {
    "duration": 15,
    "start_time": "2025-04-22T19:15:20.104Z"
   },
   {
    "duration": 338,
    "start_time": "2025-04-22T19:15:20.121Z"
   },
   {
    "duration": 581,
    "start_time": "2025-04-22T19:15:20.460Z"
   },
   {
    "duration": 166,
    "start_time": "2025-04-22T19:15:21.042Z"
   },
   {
    "duration": 271,
    "start_time": "2025-04-22T19:15:21.210Z"
   },
   {
    "duration": 174,
    "start_time": "2025-04-22T19:15:21.483Z"
   },
   {
    "duration": 4,
    "start_time": "2025-04-22T19:15:21.658Z"
   },
   {
    "duration": 39,
    "start_time": "2025-04-22T19:15:21.663Z"
   },
   {
    "duration": 36,
    "start_time": "2025-04-22T19:15:21.705Z"
   },
   {
    "duration": 19,
    "start_time": "2025-04-22T19:15:21.742Z"
   },
   {
    "duration": 1800,
    "start_time": "2025-04-22T19:15:21.763Z"
   },
   {
    "duration": 12,
    "start_time": "2025-04-22T19:15:23.565Z"
   },
   {
    "duration": 35,
    "start_time": "2025-04-22T19:15:23.579Z"
   },
   {
    "duration": 7772,
    "start_time": "2025-04-22T19:16:10.375Z"
   },
   {
    "duration": 1480,
    "start_time": "2025-04-22T19:16:18.150Z"
   },
   {
    "duration": 43,
    "start_time": "2025-04-22T19:16:19.632Z"
   },
   {
    "duration": 14,
    "start_time": "2025-04-22T19:16:19.676Z"
   },
   {
    "duration": 13,
    "start_time": "2025-04-22T19:16:19.692Z"
   },
   {
    "duration": 10,
    "start_time": "2025-04-22T19:16:19.706Z"
   },
   {
    "duration": 300,
    "start_time": "2025-04-22T19:16:19.739Z"
   },
   {
    "duration": 617,
    "start_time": "2025-04-22T19:16:20.040Z"
   },
   {
    "duration": 175,
    "start_time": "2025-04-22T19:16:20.658Z"
   },
   {
    "duration": 297,
    "start_time": "2025-04-22T19:16:20.838Z"
   },
   {
    "duration": 172,
    "start_time": "2025-04-22T19:16:21.139Z"
   },
   {
    "duration": 4,
    "start_time": "2025-04-22T19:16:21.313Z"
   },
   {
    "duration": 22,
    "start_time": "2025-04-22T19:16:21.319Z"
   },
   {
    "duration": 28,
    "start_time": "2025-04-22T19:16:21.344Z"
   },
   {
    "duration": 7,
    "start_time": "2025-04-22T19:16:21.374Z"
   },
   {
    "duration": 2796,
    "start_time": "2025-04-22T19:16:21.383Z"
   },
   {
    "duration": 10,
    "start_time": "2025-04-22T19:16:24.181Z"
   },
   {
    "duration": 13,
    "start_time": "2025-04-22T19:16:24.193Z"
   },
   {
    "duration": 7829,
    "start_time": "2025-04-22T19:17:01.393Z"
   },
   {
    "duration": 1516,
    "start_time": "2025-04-22T19:17:09.225Z"
   },
   {
    "duration": 42,
    "start_time": "2025-04-22T19:17:10.742Z"
   },
   {
    "duration": 14,
    "start_time": "2025-04-22T19:17:10.786Z"
   },
   {
    "duration": 15,
    "start_time": "2025-04-22T19:17:10.802Z"
   },
   {
    "duration": 23,
    "start_time": "2025-04-22T19:17:10.819Z"
   },
   {
    "duration": 324,
    "start_time": "2025-04-22T19:17:10.843Z"
   },
   {
    "duration": 588,
    "start_time": "2025-04-22T19:17:11.169Z"
   },
   {
    "duration": 175,
    "start_time": "2025-04-22T19:17:11.759Z"
   },
   {
    "duration": 271,
    "start_time": "2025-04-22T19:17:11.936Z"
   },
   {
    "duration": 173,
    "start_time": "2025-04-22T19:17:12.209Z"
   },
   {
    "duration": 4,
    "start_time": "2025-04-22T19:17:12.384Z"
   },
   {
    "duration": 11,
    "start_time": "2025-04-22T19:17:12.389Z"
   },
   {
    "duration": 42,
    "start_time": "2025-04-22T19:17:12.403Z"
   },
   {
    "duration": 9,
    "start_time": "2025-04-22T19:17:12.447Z"
   },
   {
    "duration": 2812,
    "start_time": "2025-04-22T19:17:12.458Z"
   },
   {
    "duration": 16,
    "start_time": "2025-04-22T19:17:15.272Z"
   },
   {
    "duration": 32,
    "start_time": "2025-04-22T19:17:15.290Z"
   },
   {
    "duration": 7717,
    "start_time": "2025-04-22T19:17:45.265Z"
   },
   {
    "duration": 1464,
    "start_time": "2025-04-22T19:17:52.985Z"
   },
   {
    "duration": 43,
    "start_time": "2025-04-22T19:17:54.451Z"
   },
   {
    "duration": 14,
    "start_time": "2025-04-22T19:17:54.496Z"
   },
   {
    "duration": 33,
    "start_time": "2025-04-22T19:17:54.512Z"
   },
   {
    "duration": 24,
    "start_time": "2025-04-22T19:17:54.547Z"
   },
   {
    "duration": 326,
    "start_time": "2025-04-22T19:17:54.573Z"
   },
   {
    "duration": 580,
    "start_time": "2025-04-22T19:17:54.901Z"
   },
   {
    "duration": 171,
    "start_time": "2025-04-22T19:17:55.483Z"
   },
   {
    "duration": 283,
    "start_time": "2025-04-22T19:17:55.656Z"
   },
   {
    "duration": 202,
    "start_time": "2025-04-22T19:17:55.941Z"
   },
   {
    "duration": 3,
    "start_time": "2025-04-22T19:17:56.145Z"
   },
   {
    "duration": 24,
    "start_time": "2025-04-22T19:17:56.150Z"
   },
   {
    "duration": 55,
    "start_time": "2025-04-22T19:17:56.177Z"
   },
   {
    "duration": 5,
    "start_time": "2025-04-22T19:17:56.234Z"
   },
   {
    "duration": 1709,
    "start_time": "2025-04-22T19:17:56.241Z"
   },
   {
    "duration": 11,
    "start_time": "2025-04-22T19:17:57.951Z"
   },
   {
    "duration": 31,
    "start_time": "2025-04-22T19:17:57.964Z"
   },
   {
    "duration": 7855,
    "start_time": "2025-04-22T19:19:02.192Z"
   },
   {
    "duration": 1605,
    "start_time": "2025-04-22T19:19:10.050Z"
   },
   {
    "duration": 44,
    "start_time": "2025-04-22T19:19:11.657Z"
   },
   {
    "duration": 17,
    "start_time": "2025-04-22T19:19:11.703Z"
   },
   {
    "duration": 22,
    "start_time": "2025-04-22T19:19:11.722Z"
   },
   {
    "duration": 10,
    "start_time": "2025-04-22T19:19:11.746Z"
   },
   {
    "duration": 327,
    "start_time": "2025-04-22T19:19:11.758Z"
   },
   {
    "duration": 597,
    "start_time": "2025-04-22T19:19:12.087Z"
   },
   {
    "duration": 174,
    "start_time": "2025-04-22T19:19:12.686Z"
   },
   {
    "duration": 310,
    "start_time": "2025-04-22T19:19:12.862Z"
   },
   {
    "duration": 179,
    "start_time": "2025-04-22T19:19:13.174Z"
   },
   {
    "duration": 4,
    "start_time": "2025-04-22T19:19:13.355Z"
   },
   {
    "duration": 20,
    "start_time": "2025-04-22T19:19:13.361Z"
   },
   {
    "duration": 16,
    "start_time": "2025-04-22T19:19:13.383Z"
   },
   {
    "duration": 5,
    "start_time": "2025-04-22T19:19:13.401Z"
   },
   {
    "duration": 1909,
    "start_time": "2025-04-22T19:19:13.407Z"
   },
   {
    "duration": 11,
    "start_time": "2025-04-22T19:19:15.318Z"
   },
   {
    "duration": 25,
    "start_time": "2025-04-22T19:19:15.338Z"
   },
   {
    "duration": 8255,
    "start_time": "2025-04-22T19:20:14.296Z"
   },
   {
    "duration": 1678,
    "start_time": "2025-04-22T19:20:22.555Z"
   },
   {
    "duration": 51,
    "start_time": "2025-04-22T19:20:24.235Z"
   },
   {
    "duration": 15,
    "start_time": "2025-04-22T19:20:24.287Z"
   },
   {
    "duration": 22,
    "start_time": "2025-04-22T19:20:24.304Z"
   },
   {
    "duration": 13,
    "start_time": "2025-04-22T19:20:24.327Z"
   },
   {
    "duration": 297,
    "start_time": "2025-04-22T19:20:24.342Z"
   },
   {
    "duration": 552,
    "start_time": "2025-04-22T19:20:24.640Z"
   },
   {
    "duration": 163,
    "start_time": "2025-04-22T19:20:25.194Z"
   },
   {
    "duration": 291,
    "start_time": "2025-04-22T19:20:25.358Z"
   },
   {
    "duration": 172,
    "start_time": "2025-04-22T19:20:25.651Z"
   },
   {
    "duration": 4,
    "start_time": "2025-04-22T19:20:25.825Z"
   },
   {
    "duration": 39,
    "start_time": "2025-04-22T19:20:25.839Z"
   },
   {
    "duration": 25,
    "start_time": "2025-04-22T19:20:25.881Z"
   },
   {
    "duration": 19,
    "start_time": "2025-04-22T19:20:25.908Z"
   },
   {
    "duration": 227,
    "start_time": "2025-04-22T19:20:25.929Z"
   },
   {
    "duration": 0,
    "start_time": "2025-04-22T19:20:26.158Z"
   },
   {
    "duration": 0,
    "start_time": "2025-04-22T19:20:26.159Z"
   },
   {
    "duration": 6,
    "start_time": "2025-04-22T19:21:32.880Z"
   },
   {
    "duration": 1884,
    "start_time": "2025-04-22T19:21:35.519Z"
   },
   {
    "duration": 12,
    "start_time": "2025-04-22T19:21:45.248Z"
   },
   {
    "duration": 13,
    "start_time": "2025-04-22T19:21:48.207Z"
   },
   {
    "duration": 7980,
    "start_time": "2025-04-22T19:22:18.294Z"
   },
   {
    "duration": 1501,
    "start_time": "2025-04-22T19:22:26.276Z"
   },
   {
    "duration": 41,
    "start_time": "2025-04-22T19:22:27.778Z"
   },
   {
    "duration": 19,
    "start_time": "2025-04-22T19:22:27.821Z"
   },
   {
    "duration": 13,
    "start_time": "2025-04-22T19:22:27.842Z"
   },
   {
    "duration": 10,
    "start_time": "2025-04-22T19:22:27.857Z"
   },
   {
    "duration": 339,
    "start_time": "2025-04-22T19:22:27.868Z"
   },
   {
    "duration": 551,
    "start_time": "2025-04-22T19:22:28.209Z"
   },
   {
    "duration": 177,
    "start_time": "2025-04-22T19:22:28.762Z"
   },
   {
    "duration": 267,
    "start_time": "2025-04-22T19:22:28.940Z"
   },
   {
    "duration": 175,
    "start_time": "2025-04-22T19:22:29.209Z"
   },
   {
    "duration": 3,
    "start_time": "2025-04-22T19:22:29.386Z"
   },
   {
    "duration": 11,
    "start_time": "2025-04-22T19:22:29.391Z"
   },
   {
    "duration": 37,
    "start_time": "2025-04-22T19:22:29.405Z"
   },
   {
    "duration": 6,
    "start_time": "2025-04-22T19:22:29.443Z"
   },
   {
    "duration": 1836,
    "start_time": "2025-04-22T19:22:29.451Z"
   },
   {
    "duration": 11,
    "start_time": "2025-04-22T19:22:31.288Z"
   },
   {
    "duration": 49,
    "start_time": "2025-04-22T19:22:31.301Z"
   },
   {
    "duration": 80,
    "start_time": "2025-04-22T19:26:15.761Z"
   },
   {
    "duration": 8,
    "start_time": "2025-04-22T19:26:24.053Z"
   },
   {
    "duration": 2276,
    "start_time": "2025-04-22T19:26:27.043Z"
   },
   {
    "duration": 11,
    "start_time": "2025-04-22T19:26:42.188Z"
   },
   {
    "duration": 12,
    "start_time": "2025-04-22T19:26:44.816Z"
   },
   {
    "duration": 79,
    "start_time": "2025-04-22T19:27:13.264Z"
   },
   {
    "duration": 8,
    "start_time": "2025-04-22T19:27:17.511Z"
   },
   {
    "duration": 7648,
    "start_time": "2025-04-22T19:27:23.854Z"
   },
   {
    "duration": 2327,
    "start_time": "2025-04-22T19:27:31.504Z"
   },
   {
    "duration": 46,
    "start_time": "2025-04-22T19:27:33.833Z"
   },
   {
    "duration": 14,
    "start_time": "2025-04-22T19:27:33.881Z"
   },
   {
    "duration": 24,
    "start_time": "2025-04-22T19:27:33.897Z"
   },
   {
    "duration": 9,
    "start_time": "2025-04-22T19:27:33.923Z"
   },
   {
    "duration": 297,
    "start_time": "2025-04-22T19:27:33.939Z"
   },
   {
    "duration": 552,
    "start_time": "2025-04-22T19:27:34.239Z"
   },
   {
    "duration": 168,
    "start_time": "2025-04-22T19:27:34.792Z"
   },
   {
    "duration": 279,
    "start_time": "2025-04-22T19:27:34.961Z"
   },
   {
    "duration": 175,
    "start_time": "2025-04-22T19:27:35.242Z"
   },
   {
    "duration": 4,
    "start_time": "2025-04-22T19:27:35.419Z"
   },
   {
    "duration": 19,
    "start_time": "2025-04-22T19:27:35.424Z"
   },
   {
    "duration": 25,
    "start_time": "2025-04-22T19:27:35.446Z"
   },
   {
    "duration": 6,
    "start_time": "2025-04-22T19:27:35.473Z"
   },
   {
    "duration": 8368,
    "start_time": "2025-04-22T19:27:35.480Z"
   },
   {
    "duration": 12,
    "start_time": "2025-04-22T19:27:43.850Z"
   },
   {
    "duration": 16,
    "start_time": "2025-04-22T19:27:43.864Z"
   },
   {
    "duration": 3,
    "start_time": "2025-04-22T19:28:44.268Z"
   },
   {
    "duration": 7577,
    "start_time": "2025-04-22T19:28:55.296Z"
   },
   {
    "duration": 1477,
    "start_time": "2025-04-22T19:29:02.875Z"
   },
   {
    "duration": 41,
    "start_time": "2025-04-22T19:29:04.354Z"
   },
   {
    "duration": 13,
    "start_time": "2025-04-22T19:29:04.397Z"
   },
   {
    "duration": 29,
    "start_time": "2025-04-22T19:29:04.411Z"
   },
   {
    "duration": 11,
    "start_time": "2025-04-22T19:29:04.441Z"
   },
   {
    "duration": 304,
    "start_time": "2025-04-22T19:29:04.453Z"
   },
   {
    "duration": 543,
    "start_time": "2025-04-22T19:29:04.759Z"
   },
   {
    "duration": 169,
    "start_time": "2025-04-22T19:29:05.303Z"
   },
   {
    "duration": 280,
    "start_time": "2025-04-22T19:29:05.474Z"
   },
   {
    "duration": 172,
    "start_time": "2025-04-22T19:29:05.756Z"
   },
   {
    "duration": 4,
    "start_time": "2025-04-22T19:29:05.939Z"
   },
   {
    "duration": 9,
    "start_time": "2025-04-22T19:29:05.944Z"
   },
   {
    "duration": 16,
    "start_time": "2025-04-22T19:29:05.954Z"
   },
   {
    "duration": 6,
    "start_time": "2025-04-22T19:29:05.972Z"
   },
   {
    "duration": 8931,
    "start_time": "2025-04-22T19:29:05.980Z"
   },
   {
    "duration": 11,
    "start_time": "2025-04-22T19:29:14.913Z"
   },
   {
    "duration": 18,
    "start_time": "2025-04-22T19:29:14.938Z"
   },
   {
    "duration": 294,
    "start_time": "2025-04-22T19:34:06.109Z"
   },
   {
    "duration": 273,
    "start_time": "2025-04-22T19:34:34.577Z"
   },
   {
    "duration": 7732,
    "start_time": "2025-04-22T19:36:17.063Z"
   },
   {
    "duration": 1418,
    "start_time": "2025-04-22T19:36:24.797Z"
   },
   {
    "duration": 51,
    "start_time": "2025-04-22T19:36:26.216Z"
   },
   {
    "duration": 12,
    "start_time": "2025-04-22T19:36:26.269Z"
   },
   {
    "duration": 14,
    "start_time": "2025-04-22T19:36:26.283Z"
   },
   {
    "duration": 9,
    "start_time": "2025-04-22T19:36:26.298Z"
   },
   {
    "duration": 333,
    "start_time": "2025-04-22T19:36:26.309Z"
   },
   {
    "duration": 578,
    "start_time": "2025-04-22T19:36:26.644Z"
   },
   {
    "duration": 168,
    "start_time": "2025-04-22T19:36:27.224Z"
   },
   {
    "duration": 316,
    "start_time": "2025-04-22T19:36:27.394Z"
   },
   {
    "duration": 175,
    "start_time": "2025-04-22T19:36:27.712Z"
   },
   {
    "duration": 4,
    "start_time": "2025-04-22T19:36:27.889Z"
   },
   {
    "duration": 8,
    "start_time": "2025-04-22T19:36:27.894Z"
   },
   {
    "duration": 34,
    "start_time": "2025-04-22T19:36:27.905Z"
   },
   {
    "duration": 6,
    "start_time": "2025-04-22T19:36:27.940Z"
   },
   {
    "duration": 8426,
    "start_time": "2025-04-22T19:36:27.948Z"
   },
   {
    "duration": 11,
    "start_time": "2025-04-22T19:36:36.376Z"
   },
   {
    "duration": 13,
    "start_time": "2025-04-22T19:36:36.388Z"
   }
  ],
  "kernelspec": {
   "display_name": "Python 3 (ipykernel)",
   "language": "python",
   "name": "python3"
  },
  "language_info": {
   "codemirror_mode": {
    "name": "ipython",
    "version": 3
   },
   "file_extension": ".py",
   "mimetype": "text/x-python",
   "name": "python",
   "nbconvert_exporter": "python",
   "pygments_lexer": "ipython3",
   "version": "3.9.5"
  },
  "toc": {
   "base_numbering": 1,
   "nav_menu": {},
   "number_sections": true,
   "sideBar": true,
   "skip_h1_title": true,
   "title_cell": "Содержание",
   "title_sidebar": "Contents",
   "toc_cell": true,
   "toc_position": {
    "height": "calc(100% - 180px)",
    "left": "10px",
    "top": "150px",
    "width": "258px"
   },
   "toc_section_display": true,
   "toc_window_display": true
  }
 },
 "nbformat": 4,
 "nbformat_minor": 2
}
