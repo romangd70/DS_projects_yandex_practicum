{
  {
   "cell_type": "markdown",
   "metadata": {},
   "source": [
    "# Классификация комментариев на обычные и токсичные"
   ]
  },
  {
   "cell_type": "markdown",
   "metadata": {},
   "source": [
    "Описание проекта: Интернет-магазин «Викишоп» запускает новый сервис. Теперь пользователи могут редактировать и дополнять описания товаров, как в вики-сообществах. То есть клиенты предлагают свои правки и комментируют изменения других. Магазину нужен инструмент, который будет искать токсичные комментарии и отправлять их на модерацию. \n",
    "    \n",
    "Цель исследования: обучить модель классифицировать комментарии на позитивные и негативные\n",
    "\n",
    "Ход исследования:\n",
    "\n",
    "    Подготовка данных: загрузка и изучение общей информации из предоставленных датасетов\n",
    "    \n",
    "    Предобработка данных: обработка пропущенных значений, удаление дубликатов, очистка от мусорных символов, лемматизация\n",
    "    \n",
    "    Выбор лучшей модели: обучение моделей и выбор лучшей из них по метрике F1\n",
    "    \n",
    "    Общий вывод: резюмирование полученных результатов, формулировка ключевых выводов."
   ]
  },
  {
   "cell_type": "markdown",
   "metadata": {},
   "source": [
    "## Подготовка"
   ]
  },
  {
   "cell_type": "code",
   "execution_count": 1,
   "metadata": {},
   "outputs": [
    {
     "name": "stdout",
     "output_type": "stream",
     "text": [
      "Requirement already satisfied: pip in /opt/conda/lib/python3.9/site-packages (25.1.1)\n",
      "\u001b[33mWARNING: Error parsing dependencies of ipykernel: Expected matching RIGHT_PARENTHESIS for LEFT_PARENTHESIS, after version specifier\n",
      "    matplotlib-inline (<0.2.0appnope,>=0.1.0) ; platform_system == \"Darwin\"\n",
      "                      ~~~~~~~~^\u001b[0m\u001b[33m\n",
      "\u001b[0mRequirement already satisfied: nltk in /opt/conda/lib/python3.9/site-packages (3.9.1)\n",
      "Requirement already satisfied: click in /opt/conda/lib/python3.9/site-packages (from nltk) (8.1.3)\n",
      "Requirement already satisfied: joblib in /opt/conda/lib/python3.9/site-packages (from nltk) (1.5.0)\n",
      "Requirement already satisfied: regex>=2021.8.3 in /opt/conda/lib/python3.9/site-packages (from nltk) (2022.8.17)\n",
      "Requirement already satisfied: tqdm in /opt/conda/lib/python3.9/site-packages (from nltk) (4.61.2)\n",
      "\u001b[33mWARNING: Error parsing dependencies of ipykernel: Expected matching RIGHT_PARENTHESIS for LEFT_PARENTHESIS, after version specifier\n",
      "    matplotlib-inline (<0.2.0appnope,>=0.1.0) ; platform_system == \"Darwin\"\n",
      "                      ~~~~~~~~^\u001b[0m\u001b[33m\n",
      "\u001b[0mRequirement already satisfied: imbalanced-learn in /opt/conda/lib/python3.9/site-packages (0.12.4)\n",
      "Requirement already satisfied: numpy>=1.17.3 in /opt/conda/lib/python3.9/site-packages (from imbalanced-learn) (1.20.1)\n",
      "Requirement already satisfied: scipy>=1.5.0 in /opt/conda/lib/python3.9/site-packages (from imbalanced-learn) (1.9.1)\n",
      "Requirement already satisfied: scikit-learn>=1.0.2 in /opt/conda/lib/python3.9/site-packages (from imbalanced-learn) (1.6.1)\n",
      "Requirement already satisfied: joblib>=1.1.1 in /opt/conda/lib/python3.9/site-packages (from imbalanced-learn) (1.5.0)\n",
      "Requirement already satisfied: threadpoolctl>=2.0.0 in /opt/conda/lib/python3.9/site-packages (from imbalanced-learn) (3.1.0)\n",
      "\u001b[33mWARNING: Error parsing dependencies of ipykernel: Expected matching RIGHT_PARENTHESIS for LEFT_PARENTHESIS, after version specifier\n",
      "    matplotlib-inline (<0.2.0appnope,>=0.1.0) ; platform_system == \"Darwin\"\n",
      "                      ~~~~~~~~^\u001b[0m\u001b[33m\n",
      "\u001b[0m"
     ]
    }
   ],
   "source": [
    "import pandas as pd\n",
    "import re\n",
    "import seaborn as sns\n",
    "!pip install --upgrade pip\n",
    "!pip install --upgrade nltk\n",
    "from sklearn.metrics import f1_score\n",
    "from sklearn.feature_extraction.text import TfidfVectorizer\n",
    "import nltk\n",
    "from nltk.corpus import stopwords as nltk_stopwords\n",
    "from nltk.tokenize import word_tokenize\n",
    "from imblearn.over_sampling import RandomOverSampler\n",
    "from nltk.stem import WordNetLemmatizer\n",
    "from nltk.corpus import wordnet\n",
    "from sklearn.model_selection import (\n",
    "    train_test_split,\n",
    "    GridSearchCV\n",
    ")"
   ]
  },
  {
   "cell_type": "code",
   "execution_count": 2,
   "metadata": {},
   "outputs": [],
   "source": [
    "from sklearn.pipeline import Pipeline\n",
    "from sklearn.preprocessing import StandardScaler\n",
    "from sklearn.preprocessing import MinMaxScaler\n",
    "from sklearn.compose import ColumnTransformer\n",
    "from sklearn.linear_model import LogisticRegression\n",
    "from sklearn.tree import DecisionTreeClassifier\n",
    "from sklearn.svm import SVC"
   ]
  },
  {
   "cell_type": "markdown",
   "metadata": {},
   "source": [
    "Сперва загружу данные и проверю их на наличие пропусков"
   ]
  },
  {
   "cell_type": "code",
   "execution_count": 3,
   "metadata": {},
   "outputs": [
    {
     "data": {
      "text/html": [
       "<div>\n",
       "<style scoped>\n",
       "    .dataframe tbody tr th:only-of-type {\n",
       "        vertical-align: middle;\n",
       "    }\n",
       "\n",
       "    .dataframe tbody tr th {\n",
       "        vertical-align: top;\n",
       "    }\n",
       "\n",
       "    .dataframe thead th {\n",
       "        text-align: right;\n",
       "    }\n",
       "</style>\n",
       "<table border=\"1\" class=\"dataframe\">\n",
       "  <thead>\n",
       "    <tr style=\"text-align: right;\">\n",
       "      <th></th>\n",
       "      <th>Unnamed: 0</th>\n",
       "      <th>text</th>\n",
       "      <th>toxic</th>\n",
       "    </tr>\n",
       "  </thead>\n",
       "  <tbody>\n",
       "    <tr>\n",
       "      <th>0</th>\n",
       "      <td>0</td>\n",
       "      <td>Explanation\\nWhy the edits made under my usern...</td>\n",
       "      <td>0</td>\n",
       "    </tr>\n",
       "    <tr>\n",
       "      <th>1</th>\n",
       "      <td>1</td>\n",
       "      <td>D'aww! He matches this background colour I'm s...</td>\n",
       "      <td>0</td>\n",
       "    </tr>\n",
       "    <tr>\n",
       "      <th>2</th>\n",
       "      <td>2</td>\n",
       "      <td>Hey man, I'm really not trying to edit war. It...</td>\n",
       "      <td>0</td>\n",
       "    </tr>\n",
       "    <tr>\n",
       "      <th>3</th>\n",
       "      <td>3</td>\n",
       "      <td>\"\\nMore\\nI can't make any real suggestions on ...</td>\n",
       "      <td>0</td>\n",
       "    </tr>\n",
       "    <tr>\n",
       "      <th>4</th>\n",
       "      <td>4</td>\n",
       "      <td>You, sir, are my hero. Any chance you remember...</td>\n",
       "      <td>0</td>\n",
       "    </tr>\n",
       "  </tbody>\n",
       "</table>\n",
       "</div>"
      ],
      "text/plain": [
       "   Unnamed: 0                                               text  toxic\n",
       "0           0  Explanation\\nWhy the edits made under my usern...      0\n",
       "1           1  D'aww! He matches this background colour I'm s...      0\n",
       "2           2  Hey man, I'm really not trying to edit war. It...      0\n",
       "3           3  \"\\nMore\\nI can't make any real suggestions on ...      0\n",
       "4           4  You, sir, are my hero. Any chance you remember...      0"
      ]
     },
     "metadata": {},
     "output_type": "display_data"
    },
    {
     "name": "stdout",
     "output_type": "stream",
     "text": [
      "<class 'pandas.core.frame.DataFrame'>\n",
      "RangeIndex: 159292 entries, 0 to 159291\n",
      "Data columns (total 3 columns):\n",
      " #   Column      Non-Null Count   Dtype \n",
      "---  ------      --------------   ----- \n",
      " 0   Unnamed: 0  159292 non-null  int64 \n",
      " 1   text        159292 non-null  object\n",
      " 2   toxic       159292 non-null  int64 \n",
      "dtypes: int64(2), object(1)\n",
      "memory usage: 3.6+ MB\n"
     ]
    }
   ],
   "source": [
    "toxic=pd.read_csv('/datasets/toxic_comments.csv')\n",
    "display(toxic.head())\n",
    "toxic.info()"
   ]
  },
  {
   "cell_type": "markdown",
   "metadata": {},
   "source": [
    "Возьму 30% значений от датасета, чтобы обработка не проходила слишком долго"
   ]
  },
  {
   "cell_type": "code",
   "execution_count": 4,
   "metadata": {},
   "outputs": [],
   "source": [
    "toxic = toxic.sample(frac=0.3)"
   ]
  },
  {
   "cell_type": "markdown",
   "metadata": {},
   "source": [
    "Пропусков не обнаружено, проверю теперь данные на наличие дубликатов "
   ]
  },
  {
   "cell_type": "code",
   "execution_count": 5,
   "metadata": {},
   "outputs": [
    {
     "data": {
      "text/plain": [
       "0"
      ]
     },
     "execution_count": 5,
     "metadata": {},
     "output_type": "execute_result"
    }
   ],
   "source": [
    "sum(toxic.duplicated())"
   ]
  },
  {
   "cell_type": "code",
   "execution_count": 6,
   "metadata": {},
   "outputs": [
    {
     "data": {
      "image/png": "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\n",
      "text/plain": [
       "<Figure size 432x288 with 1 Axes>"
      ]
     },
     "metadata": {
      "needs_background": "light"
     },
     "output_type": "display_data"
    }
   ],
   "source": [
    "sns.countplot(data=toxic,x='toxic')\n",
    "plt.show()"
   ]
  },
  {
   "cell_type": "markdown",
   "metadata": {},
   "source": [
    "## Очистка от \"мусора\" и лемматизация"
   ]
  },
  {
   "cell_type": "code",
   "execution_count": 8,
   "metadata": {},
   "outputs": [
    {
     "name": "stderr",
     "output_type": "stream",
     "text": [
      "[nltk_data] Downloading package averaged_perceptron_tagger to\n",
      "[nltk_data]     /home/jovyan/nltk_data...\n",
      "[nltk_data]   Package averaged_perceptron_tagger is already up-to-\n",
      "[nltk_data]       date!\n",
      "[nltk_data] Downloading package averaged_perceptron_tagger_eng to\n",
      "[nltk_data]     /home/jovyan/nltk_data...\n",
      "[nltk_data]   Package averaged_perceptron_tagger_eng is already up-to-\n",
      "[nltk_data]       date!\n",
      "[nltk_data] Downloading package wordnet to /home/jovyan/nltk_data...\n",
      "[nltk_data]   Package wordnet is already up-to-date!\n",
      "[nltk_data] Downloading package punkt_tab to /home/jovyan/nltk_data...\n",
      "[nltk_data]   Package punkt_tab is already up-to-date!\n"
     ]
    }
   ],
   "source": [
    "nltk.download('averaged_perceptron_tagger')\n",
    "nltk.download('averaged_perceptron_tagger_eng')\n",
    "nltk.download('wordnet')\n",
    "nltk.download('punkt_tab')\n",
    "def get_wordnet_pos(treebank_tag):\n",
    "    if treebank_tag.startswith('J'):\n",
    "        return wordnet.ADJ\n",
    "    elif treebank_tag.startswith('V'):\n",
    "        return wordnet.VERB\n",
    "    elif treebank_tag.startswith('N'):\n",
    "        return wordnet.NOUN\n",
    "    elif treebank_tag.startswith('R'):\n",
    "        return wordnet.ADV\n",
    "    else:\n",
    "        return None\n",
    "def lemmatize(text):\n",
    "    wnl = WordNetLemmatizer()\n",
    "    pos_tagged= nltk.pos_tag(word_tokenize(text))\n",
    "    lemmatized_sentence=[]\n",
    "    for word, tag in pos_tagged:\n",
    "        wordnet_pos = get_wordnet_pos(tag)\n",
    "        if wordnet_pos is None:\n",
    "            lemmatized_word = wnl.lemmatize(word)\n",
    "        else:\n",
    "            lemmatized_sentence.append(wnl.lemmatize(word, pos=wordnet_pos))\n",
    "    return ' '.join(lemmatized_sentence)\n",
    "\n",
    "def clear_text(text):\n",
    "    text=re.sub(r'[^a-zA-z ]', ' ', str(text)) \n",
    "    return \" \".join(text.split())\n",
    "\n",
    "toxic['lemmatized_text'] = toxic['text'].apply(lambda x: clear_text(x))\n",
    "toxic['lemmatized_text'] = toxic['lemmatized_text'].apply(lambda x: lemmatize(x))"
   ]
  },
  {
   "cell_type": "code",
   "execution_count": 9,
   "metadata": {},
   "outputs": [
    {
     "data": {
      "text/html": [
       "<div>\n",
       "<style scoped>\n",
       "    .dataframe tbody tr th:only-of-type {\n",
       "        vertical-align: middle;\n",
       "    }\n",
       "\n",
       "    .dataframe tbody tr th {\n",
       "        vertical-align: top;\n",
       "    }\n",
       "\n",
       "    .dataframe thead th {\n",
       "        text-align: right;\n",
       "    }\n",
       "</style>\n",
       "<table border=\"1\" class=\"dataframe\">\n",
       "  <thead>\n",
       "    <tr style=\"text-align: right;\">\n",
       "      <th></th>\n",
       "      <th>Unnamed: 0</th>\n",
       "      <th>text</th>\n",
       "      <th>toxic</th>\n",
       "      <th>lemmatized_text</th>\n",
       "    </tr>\n",
       "  </thead>\n",
       "  <tbody>\n",
       "    <tr>\n",
       "      <th>10888</th>\n",
       "      <td>10901</td>\n",
       "      <td>\"\\nI could ask this on the project talk page, ...</td>\n",
       "      <td>0</td>\n",
       "      <td>ask project talk page m probably just misisng ...</td>\n",
       "    </tr>\n",
       "    <tr>\n",
       "      <th>157742</th>\n",
       "      <td>157901</td>\n",
       "      <td>you will block me you filthy coward who thinks...</td>\n",
       "      <td>1</td>\n",
       "      <td>block filthy coward think wikipedia be britann...</td>\n",
       "    </tr>\n",
       "    <tr>\n",
       "      <th>81145</th>\n",
       "      <td>81221</td>\n",
       "      <td>push comes to shove is not in the disog</td>\n",
       "      <td>0</td>\n",
       "      <td>push come shove be not disog</td>\n",
       "    </tr>\n",
       "    <tr>\n",
       "      <th>43923</th>\n",
       "      <td>43976</td>\n",
       "      <td>You think you can tell me what to do?</td>\n",
       "      <td>0</td>\n",
       "      <td>think tell do</td>\n",
       "    </tr>\n",
       "    <tr>\n",
       "      <th>79496</th>\n",
       "      <td>79572</td>\n",
       "      <td>\"\\n\\nFair use rationale for Image:Losmejorescd...</td>\n",
       "      <td>0</td>\n",
       "      <td>Fair use rationale Image Losmejorescd jpg Than...</td>\n",
       "    </tr>\n",
       "  </tbody>\n",
       "</table>\n",
       "</div>"
      ],
      "text/plain": [
       "        Unnamed: 0                                               text  toxic  \\\n",
       "10888        10901  \"\\nI could ask this on the project talk page, ...      0   \n",
       "157742      157901  you will block me you filthy coward who thinks...      1   \n",
       "81145        81221            push comes to shove is not in the disog      0   \n",
       "43923        43976              You think you can tell me what to do?      0   \n",
       "79496        79572  \"\\n\\nFair use rationale for Image:Losmejorescd...      0   \n",
       "\n",
       "                                          lemmatized_text  \n",
       "10888   ask project talk page m probably just misisng ...  \n",
       "157742  block filthy coward think wikipedia be britann...  \n",
       "81145                        push come shove be not disog  \n",
       "43923                                       think tell do  \n",
       "79496   Fair use rationale Image Losmejorescd jpg Than...  "
      ]
     },
     "execution_count": 9,
     "metadata": {},
     "output_type": "execute_result"
    }
   ],
   "source": [
    "toxic.head()"
   ]
  },
  {
   "cell_type": "markdown",
   "metadata": {},
   "source": [
    "Приступлю к подготовке данных"
   ]
  },
  {
   "cell_type": "markdown",
   "metadata": {},
   "source": [
    "Поменяю русские слова на английские"
   ]
  },
  {
   "cell_type": "code",
   "execution_count": 11,
   "metadata": {},
   "outputs": [],
   "source": [
    "X=toxic['lemmatized_text']\n",
    "y=toxic['toxic']\n",
    "X_train,X_test,y_train,y_test=train_test_split(X,y,random_state=42,stratify=y)"
   ]
  },
  {
   "cell_type": "code",
   "execution_count": 12,
   "metadata": {},
   "outputs": [
    {
     "name": "stderr",
     "output_type": "stream",
     "text": [
      "[nltk_data] Downloading package stopwords to /home/jovyan/nltk_data...\n",
      "[nltk_data]   Package stopwords is already up-to-date!\n"
     ]
    }
   ],
   "source": [
    "nltk.download('stopwords')\n",
    "stopwords = set(nltk_stopwords.words('english'))"
   ]
  },
  {
   "cell_type": "markdown",
   "metadata": {},
   "source": [
    "## Обучение"
   ]
  },
  {
   "cell_type": "code",
   "execution_count": 14,
   "metadata": {},
   "outputs": [],
   "source": [
    "tf_scaled_pipe = Pipeline([\n",
    "    ('tf', TfidfVectorizer(stop_words=list(stopwords)))\n",
    "])\n",
    "pipe_final = Pipeline([\n",
    "    ('preprocessor', tf_scaled_pipe), \n",
    "    ('models', DecisionTreeClassifier()) \n",
    "])\n",
    "param_distributions=[{\n",
    "    'models':[DecisionTreeClassifier(random_state=42,class_weight='balanced')],\n",
    "    'models__max_depth':range(5,10)\n",
    "},\n",
    "{\n",
    "    'models':[LogisticRegression(random_state=42,class_weight='balanced',max_iter=1000)],\n",
    "    'models__C':[0.1,0.5,1,10],\n",
    "    \n",
    "}\n",
    "]\n",
    "grid=GridSearchCV(\n",
    "    pipe_final,\n",
    "    param_distributions,\n",
    "    cv=5,\n",
    "    scoring='f1',\n",
    "    error_score='raise',\n",
    "    n_jobs=-1,\n",
    "    verbose=3,\n",
    "    refit='recall'\n",
    ")"
   ]
  },
  {
   "cell_type": "code",
   "execution_count": 15,
   "metadata": {
    "scrolled": true
   },
   "outputs": [
    {
     "name": "stdout",
     "output_type": "stream",
     "text": [
      "Fitting 5 folds for each of 9 candidates, totalling 45 fits\n",
      "[CV 1/5] END models=DecisionTreeClassifier(class_weight='balanced', random_state=42), models__max_depth=5;, score=0.455 total time=   2.1s\n",
      "[CV 2/5] END models=DecisionTreeClassifier(class_weight='balanced', random_state=42), models__max_depth=5;, score=0.454 total time=   2.1s\n",
      "[CV 3/5] END models=DecisionTreeClassifier(class_weight='balanced', random_state=42), models__max_depth=5;, score=0.491 total time=   2.1s\n",
      "[CV 4/5] END models=DecisionTreeClassifier(class_weight='balanced', random_state=42), models__max_depth=5;, score=0.463 total time=   2.1s\n",
      "[CV 5/5] END models=DecisionTreeClassifier(class_weight='balanced', random_state=42), models__max_depth=5;, score=0.492 total time=   2.2s\n",
      "[CV 1/5] END models=DecisionTreeClassifier(class_weight='balanced', random_state=42), models__max_depth=6;, score=0.477 total time=   2.2s\n",
      "[CV 2/5] END models=DecisionTreeClassifier(class_weight='balanced', random_state=42), models__max_depth=6;, score=0.476 total time=   2.2s\n",
      "[CV 3/5] END models=DecisionTreeClassifier(class_weight='balanced', random_state=42), models__max_depth=6;, score=0.516 total time=   2.2s\n",
      "[CV 4/5] END models=DecisionTreeClassifier(class_weight='balanced', random_state=42), models__max_depth=6;, score=0.501 total time=   2.3s\n",
      "[CV 5/5] END models=DecisionTreeClassifier(class_weight='balanced', random_state=42), models__max_depth=6;, score=0.518 total time=   2.2s\n",
      "[CV 1/5] END models=DecisionTreeClassifier(class_weight='balanced', random_state=42), models__max_depth=7;, score=0.504 total time=   2.4s\n",
      "[CV 2/5] END models=DecisionTreeClassifier(class_weight='balanced', random_state=42), models__max_depth=7;, score=0.514 total time=   2.4s\n",
      "[CV 3/5] END models=DecisionTreeClassifier(class_weight='balanced', random_state=42), models__max_depth=7;, score=0.515 total time=   2.4s\n",
      "[CV 4/5] END models=DecisionTreeClassifier(class_weight='balanced', random_state=42), models__max_depth=7;, score=0.517 total time=   2.4s\n",
      "[CV 5/5] END models=DecisionTreeClassifier(class_weight='balanced', random_state=42), models__max_depth=7;, score=0.537 total time=   2.4s\n",
      "[CV 1/5] END models=DecisionTreeClassifier(class_weight='balanced', random_state=42), models__max_depth=8;, score=0.532 total time=   2.6s\n",
      "[CV 2/5] END models=DecisionTreeClassifier(class_weight='balanced', random_state=42), models__max_depth=8;, score=0.537 total time=   2.6s\n",
      "[CV 3/5] END models=DecisionTreeClassifier(class_weight='balanced', random_state=42), models__max_depth=8;, score=0.541 total time=   2.6s\n",
      "[CV 4/5] END models=DecisionTreeClassifier(class_weight='balanced', random_state=42), models__max_depth=8;, score=0.554 total time=   2.6s\n",
      "[CV 5/5] END models=DecisionTreeClassifier(class_weight='balanced', random_state=42), models__max_depth=8;, score=0.557 total time=   2.5s\n",
      "[CV 1/5] END models=DecisionTreeClassifier(class_weight='balanced', random_state=42), models__max_depth=9;, score=0.547 total time=   2.8s\n",
      "[CV 2/5] END models=DecisionTreeClassifier(class_weight='balanced', random_state=42), models__max_depth=9;, score=0.522 total time=   2.7s\n",
      "[CV 3/5] END models=DecisionTreeClassifier(class_weight='balanced', random_state=42), models__max_depth=9;, score=0.572 total time=   2.7s\n",
      "[CV 4/5] END models=DecisionTreeClassifier(class_weight='balanced', random_state=42), models__max_depth=9;, score=0.552 total time=   2.7s\n",
      "[CV 5/5] END models=DecisionTreeClassifier(class_weight='balanced', random_state=42), models__max_depth=9;, score=0.564 total time=   2.8s\n",
      "[CV 1/5] END models=LogisticRegression(class_weight='balanced', max_iter=1000, random_state=42), models__C=0.1;, score=0.697 total time=   5.3s\n",
      "[CV 2/5] END models=LogisticRegression(class_weight='balanced', max_iter=1000, random_state=42), models__C=0.1;, score=0.681 total time=   5.5s\n",
      "[CV 3/5] END models=LogisticRegression(class_weight='balanced', max_iter=1000, random_state=42), models__C=0.1;, score=0.685 total time=   3.9s\n",
      "[CV 4/5] END models=LogisticRegression(class_weight='balanced', max_iter=1000, random_state=42), models__C=0.1;, score=0.689 total time=   4.7s\n",
      "[CV 5/5] END models=LogisticRegression(class_weight='balanced', max_iter=1000, random_state=42), models__C=0.1;, score=0.681 total time=   4.6s\n",
      "[CV 1/5] END models=LogisticRegression(class_weight='balanced', max_iter=1000, random_state=42), models__C=0.5;, score=0.733 total time=   7.0s\n",
      "[CV 2/5] END models=LogisticRegression(class_weight='balanced', max_iter=1000, random_state=42), models__C=0.5;, score=0.694 total time=   4.9s\n",
      "[CV 3/5] END models=LogisticRegression(class_weight='balanced', max_iter=1000, random_state=42), models__C=0.5;, score=0.718 total time=   5.4s\n",
      "[CV 4/5] END models=LogisticRegression(class_weight='balanced', max_iter=1000, random_state=42), models__C=0.5;, score=0.718 total time=   5.5s\n",
      "[CV 5/5] END models=LogisticRegression(class_weight='balanced', max_iter=1000, random_state=42), models__C=0.5;, score=0.706 total time=   5.2s\n",
      "[CV 1/5] END models=LogisticRegression(class_weight='balanced', max_iter=1000, random_state=42), models__C=1;, score=0.744 total time=   6.5s\n",
      "[CV 2/5] END models=LogisticRegression(class_weight='balanced', max_iter=1000, random_state=42), models__C=1;, score=0.708 total time=   6.3s\n",
      "[CV 3/5] END models=LogisticRegression(class_weight='balanced', max_iter=1000, random_state=42), models__C=1;, score=0.734 total time=   5.4s\n",
      "[CV 4/5] END models=LogisticRegression(class_weight='balanced', max_iter=1000, random_state=42), models__C=1;, score=0.733 total time=   6.1s\n",
      "[CV 5/5] END models=LogisticRegression(class_weight='balanced', max_iter=1000, random_state=42), models__C=1;, score=0.715 total time=   5.1s\n",
      "[CV 1/5] END models=LogisticRegression(class_weight='balanced', max_iter=1000, random_state=42), models__C=10;, score=0.767 total time=   7.7s\n",
      "[CV 2/5] END models=LogisticRegression(class_weight='balanced', max_iter=1000, random_state=42), models__C=10;, score=0.735 total time=   6.7s\n",
      "[CV 3/5] END models=LogisticRegression(class_weight='balanced', max_iter=1000, random_state=42), models__C=10;, score=0.745 total time=   7.3s\n",
      "[CV 4/5] END models=LogisticRegression(class_weight='balanced', max_iter=1000, random_state=42), models__C=10;, score=0.744 total time=   5.2s\n",
      "[CV 5/5] END models=LogisticRegression(class_weight='balanced', max_iter=1000, random_state=42), models__C=10;, score=0.735 total time=   7.1s\n"
     ]
    },
    {
     "data": {
      "text/html": [
       "<style>#sk-container-id-1 {\n",
       "  /* Definition of color scheme common for light and dark mode */\n",
       "  --sklearn-color-text: #000;\n",
       "  --sklearn-color-text-muted: #666;\n",
       "  --sklearn-color-line: gray;\n",
       "  /* Definition of color scheme for unfitted estimators */\n",
       "  --sklearn-color-unfitted-level-0: #fff5e6;\n",
       "  --sklearn-color-unfitted-level-1: #f6e4d2;\n",
       "  --sklearn-color-unfitted-level-2: #ffe0b3;\n",
       "  --sklearn-color-unfitted-level-3: chocolate;\n",
       "  /* Definition of color scheme for fitted estimators */\n",
       "  --sklearn-color-fitted-level-0: #f0f8ff;\n",
       "  --sklearn-color-fitted-level-1: #d4ebff;\n",
       "  --sklearn-color-fitted-level-2: #b3dbfd;\n",
       "  --sklearn-color-fitted-level-3: cornflowerblue;\n",
       "\n",
       "  /* Specific color for light theme */\n",
       "  --sklearn-color-text-on-default-background: var(--sg-text-color, var(--theme-code-foreground, var(--jp-content-font-color1, black)));\n",
       "  --sklearn-color-background: var(--sg-background-color, var(--theme-background, var(--jp-layout-color0, white)));\n",
       "  --sklearn-color-border-box: var(--sg-text-color, var(--theme-code-foreground, var(--jp-content-font-color1, black)));\n",
       "  --sklearn-color-icon: #696969;\n",
       "\n",
       "  @media (prefers-color-scheme: dark) {\n",
       "    /* Redefinition of color scheme for dark theme */\n",
       "    --sklearn-color-text-on-default-background: var(--sg-text-color, var(--theme-code-foreground, var(--jp-content-font-color1, white)));\n",
       "    --sklearn-color-background: var(--sg-background-color, var(--theme-background, var(--jp-layout-color0, #111)));\n",
       "    --sklearn-color-border-box: var(--sg-text-color, var(--theme-code-foreground, var(--jp-content-font-color1, white)));\n",
       "    --sklearn-color-icon: #878787;\n",
       "  }\n",
       "}\n",
       "\n",
       "#sk-container-id-1 {\n",
       "  color: var(--sklearn-color-text);\n",
       "}\n",
       "\n",
       "#sk-container-id-1 pre {\n",
       "  padding: 0;\n",
       "}\n",
       "\n",
       "#sk-container-id-1 input.sk-hidden--visually {\n",
       "  border: 0;\n",
       "  clip: rect(1px 1px 1px 1px);\n",
       "  clip: rect(1px, 1px, 1px, 1px);\n",
       "  height: 1px;\n",
       "  margin: -1px;\n",
       "  overflow: hidden;\n",
       "  padding: 0;\n",
       "  position: absolute;\n",
       "  width: 1px;\n",
       "}\n",
       "\n",
       "#sk-container-id-1 div.sk-dashed-wrapped {\n",
       "  border: 1px dashed var(--sklearn-color-line);\n",
       "  margin: 0 0.4em 0.5em 0.4em;\n",
       "  box-sizing: border-box;\n",
       "  padding-bottom: 0.4em;\n",
       "  background-color: var(--sklearn-color-background);\n",
       "}\n",
       "\n",
       "#sk-container-id-1 div.sk-container {\n",
       "  /* jupyter's `normalize.less` sets `[hidden] { display: none; }`\n",
       "     but bootstrap.min.css set `[hidden] { display: none !important; }`\n",
       "     so we also need the `!important` here to be able to override the\n",
       "     default hidden behavior on the sphinx rendered scikit-learn.org.\n",
       "     See: https://github.com/scikit-learn/scikit-learn/issues/21755 */\n",
       "  display: inline-block !important;\n",
       "  position: relative;\n",
       "}\n",
       "\n",
       "#sk-container-id-1 div.sk-text-repr-fallback {\n",
       "  display: none;\n",
       "}\n",
       "\n",
       "div.sk-parallel-item,\n",
       "div.sk-serial,\n",
       "div.sk-item {\n",
       "  /* draw centered vertical line to link estimators */\n",
       "  background-image: linear-gradient(var(--sklearn-color-text-on-default-background), var(--sklearn-color-text-on-default-background));\n",
       "  background-size: 2px 100%;\n",
       "  background-repeat: no-repeat;\n",
       "  background-position: center center;\n",
       "}\n",
       "\n",
       "/* Parallel-specific style estimator block */\n",
       "\n",
       "#sk-container-id-1 div.sk-parallel-item::after {\n",
       "  content: \"\";\n",
       "  width: 100%;\n",
       "  border-bottom: 2px solid var(--sklearn-color-text-on-default-background);\n",
       "  flex-grow: 1;\n",
       "}\n",
       "\n",
       "#sk-container-id-1 div.sk-parallel {\n",
       "  display: flex;\n",
       "  align-items: stretch;\n",
       "  justify-content: center;\n",
       "  background-color: var(--sklearn-color-background);\n",
       "  position: relative;\n",
       "}\n",
       "\n",
       "#sk-container-id-1 div.sk-parallel-item {\n",
       "  display: flex;\n",
       "  flex-direction: column;\n",
       "}\n",
       "\n",
       "#sk-container-id-1 div.sk-parallel-item:first-child::after {\n",
       "  align-self: flex-end;\n",
       "  width: 50%;\n",
       "}\n",
       "\n",
       "#sk-container-id-1 div.sk-parallel-item:last-child::after {\n",
       "  align-self: flex-start;\n",
       "  width: 50%;\n",
       "}\n",
       "\n",
       "#sk-container-id-1 div.sk-parallel-item:only-child::after {\n",
       "  width: 0;\n",
       "}\n",
       "\n",
       "/* Serial-specific style estimator block */\n",
       "\n",
       "#sk-container-id-1 div.sk-serial {\n",
       "  display: flex;\n",
       "  flex-direction: column;\n",
       "  align-items: center;\n",
       "  background-color: var(--sklearn-color-background);\n",
       "  padding-right: 1em;\n",
       "  padding-left: 1em;\n",
       "}\n",
       "\n",
       "\n",
       "/* Toggleable style: style used for estimator/Pipeline/ColumnTransformer box that is\n",
       "clickable and can be expanded/collapsed.\n",
       "- Pipeline and ColumnTransformer use this feature and define the default style\n",
       "- Estimators will overwrite some part of the style using the `sk-estimator` class\n",
       "*/\n",
       "\n",
       "/* Pipeline and ColumnTransformer style (default) */\n",
       "\n",
       "#sk-container-id-1 div.sk-toggleable {\n",
       "  /* Default theme specific background. It is overwritten whether we have a\n",
       "  specific estimator or a Pipeline/ColumnTransformer */\n",
       "  background-color: var(--sklearn-color-background);\n",
       "}\n",
       "\n",
       "/* Toggleable label */\n",
       "#sk-container-id-1 label.sk-toggleable__label {\n",
       "  cursor: pointer;\n",
       "  display: flex;\n",
       "  width: 100%;\n",
       "  margin-bottom: 0;\n",
       "  padding: 0.5em;\n",
       "  box-sizing: border-box;\n",
       "  text-align: center;\n",
       "  align-items: start;\n",
       "  justify-content: space-between;\n",
       "  gap: 0.5em;\n",
       "}\n",
       "\n",
       "#sk-container-id-1 label.sk-toggleable__label .caption {\n",
       "  font-size: 0.6rem;\n",
       "  font-weight: lighter;\n",
       "  color: var(--sklearn-color-text-muted);\n",
       "}\n",
       "\n",
       "#sk-container-id-1 label.sk-toggleable__label-arrow:before {\n",
       "  /* Arrow on the left of the label */\n",
       "  content: \"▸\";\n",
       "  float: left;\n",
       "  margin-right: 0.25em;\n",
       "  color: var(--sklearn-color-icon);\n",
       "}\n",
       "\n",
       "#sk-container-id-1 label.sk-toggleable__label-arrow:hover:before {\n",
       "  color: var(--sklearn-color-text);\n",
       "}\n",
       "\n",
       "/* Toggleable content - dropdown */\n",
       "\n",
       "#sk-container-id-1 div.sk-toggleable__content {\n",
       "  max-height: 0;\n",
       "  max-width: 0;\n",
       "  overflow: hidden;\n",
       "  text-align: left;\n",
       "  /* unfitted */\n",
       "  background-color: var(--sklearn-color-unfitted-level-0);\n",
       "}\n",
       "\n",
       "#sk-container-id-1 div.sk-toggleable__content.fitted {\n",
       "  /* fitted */\n",
       "  background-color: var(--sklearn-color-fitted-level-0);\n",
       "}\n",
       "\n",
       "#sk-container-id-1 div.sk-toggleable__content pre {\n",
       "  margin: 0.2em;\n",
       "  border-radius: 0.25em;\n",
       "  color: var(--sklearn-color-text);\n",
       "  /* unfitted */\n",
       "  background-color: var(--sklearn-color-unfitted-level-0);\n",
       "}\n",
       "\n",
       "#sk-container-id-1 div.sk-toggleable__content.fitted pre {\n",
       "  /* unfitted */\n",
       "  background-color: var(--sklearn-color-fitted-level-0);\n",
       "}\n",
       "\n",
       "#sk-container-id-1 input.sk-toggleable__control:checked~div.sk-toggleable__content {\n",
       "  /* Expand drop-down */\n",
       "  max-height: 200px;\n",
       "  max-width: 100%;\n",
       "  overflow: auto;\n",
       "}\n",
       "\n",
       "#sk-container-id-1 input.sk-toggleable__control:checked~label.sk-toggleable__label-arrow:before {\n",
       "  content: \"▾\";\n",
       "}\n",
       "\n",
       "/* Pipeline/ColumnTransformer-specific style */\n",
       "\n",
       "#sk-container-id-1 div.sk-label input.sk-toggleable__control:checked~label.sk-toggleable__label {\n",
       "  color: var(--sklearn-color-text);\n",
       "  background-color: var(--sklearn-color-unfitted-level-2);\n",
       "}\n",
       "\n",
       "#sk-container-id-1 div.sk-label.fitted input.sk-toggleable__control:checked~label.sk-toggleable__label {\n",
       "  background-color: var(--sklearn-color-fitted-level-2);\n",
       "}\n",
       "\n",
       "/* Estimator-specific style */\n",
       "\n",
       "/* Colorize estimator box */\n",
       "#sk-container-id-1 div.sk-estimator input.sk-toggleable__control:checked~label.sk-toggleable__label {\n",
       "  /* unfitted */\n",
       "  background-color: var(--sklearn-color-unfitted-level-2);\n",
       "}\n",
       "\n",
       "#sk-container-id-1 div.sk-estimator.fitted input.sk-toggleable__control:checked~label.sk-toggleable__label {\n",
       "  /* fitted */\n",
       "  background-color: var(--sklearn-color-fitted-level-2);\n",
       "}\n",
       "\n",
       "#sk-container-id-1 div.sk-label label.sk-toggleable__label,\n",
       "#sk-container-id-1 div.sk-label label {\n",
       "  /* The background is the default theme color */\n",
       "  color: var(--sklearn-color-text-on-default-background);\n",
       "}\n",
       "\n",
       "/* On hover, darken the color of the background */\n",
       "#sk-container-id-1 div.sk-label:hover label.sk-toggleable__label {\n",
       "  color: var(--sklearn-color-text);\n",
       "  background-color: var(--sklearn-color-unfitted-level-2);\n",
       "}\n",
       "\n",
       "/* Label box, darken color on hover, fitted */\n",
       "#sk-container-id-1 div.sk-label.fitted:hover label.sk-toggleable__label.fitted {\n",
       "  color: var(--sklearn-color-text);\n",
       "  background-color: var(--sklearn-color-fitted-level-2);\n",
       "}\n",
       "\n",
       "/* Estimator label */\n",
       "\n",
       "#sk-container-id-1 div.sk-label label {\n",
       "  font-family: monospace;\n",
       "  font-weight: bold;\n",
       "  display: inline-block;\n",
       "  line-height: 1.2em;\n",
       "}\n",
       "\n",
       "#sk-container-id-1 div.sk-label-container {\n",
       "  text-align: center;\n",
       "}\n",
       "\n",
       "/* Estimator-specific */\n",
       "#sk-container-id-1 div.sk-estimator {\n",
       "  font-family: monospace;\n",
       "  border: 1px dotted var(--sklearn-color-border-box);\n",
       "  border-radius: 0.25em;\n",
       "  box-sizing: border-box;\n",
       "  margin-bottom: 0.5em;\n",
       "  /* unfitted */\n",
       "  background-color: var(--sklearn-color-unfitted-level-0);\n",
       "}\n",
       "\n",
       "#sk-container-id-1 div.sk-estimator.fitted {\n",
       "  /* fitted */\n",
       "  background-color: var(--sklearn-color-fitted-level-0);\n",
       "}\n",
       "\n",
       "/* on hover */\n",
       "#sk-container-id-1 div.sk-estimator:hover {\n",
       "  /* unfitted */\n",
       "  background-color: var(--sklearn-color-unfitted-level-2);\n",
       "}\n",
       "\n",
       "#sk-container-id-1 div.sk-estimator.fitted:hover {\n",
       "  /* fitted */\n",
       "  background-color: var(--sklearn-color-fitted-level-2);\n",
       "}\n",
       "\n",
       "/* Specification for estimator info (e.g. \"i\" and \"?\") */\n",
       "\n",
       "/* Common style for \"i\" and \"?\" */\n",
       "\n",
       ".sk-estimator-doc-link,\n",
       "a:link.sk-estimator-doc-link,\n",
       "a:visited.sk-estimator-doc-link {\n",
       "  float: right;\n",
       "  font-size: smaller;\n",
       "  line-height: 1em;\n",
       "  font-family: monospace;\n",
       "  background-color: var(--sklearn-color-background);\n",
       "  border-radius: 1em;\n",
       "  height: 1em;\n",
       "  width: 1em;\n",
       "  text-decoration: none !important;\n",
       "  margin-left: 0.5em;\n",
       "  text-align: center;\n",
       "  /* unfitted */\n",
       "  border: var(--sklearn-color-unfitted-level-1) 1pt solid;\n",
       "  color: var(--sklearn-color-unfitted-level-1);\n",
       "}\n",
       "\n",
       ".sk-estimator-doc-link.fitted,\n",
       "a:link.sk-estimator-doc-link.fitted,\n",
       "a:visited.sk-estimator-doc-link.fitted {\n",
       "  /* fitted */\n",
       "  border: var(--sklearn-color-fitted-level-1) 1pt solid;\n",
       "  color: var(--sklearn-color-fitted-level-1);\n",
       "}\n",
       "\n",
       "/* On hover */\n",
       "div.sk-estimator:hover .sk-estimator-doc-link:hover,\n",
       ".sk-estimator-doc-link:hover,\n",
       "div.sk-label-container:hover .sk-estimator-doc-link:hover,\n",
       ".sk-estimator-doc-link:hover {\n",
       "  /* unfitted */\n",
       "  background-color: var(--sklearn-color-unfitted-level-3);\n",
       "  color: var(--sklearn-color-background);\n",
       "  text-decoration: none;\n",
       "}\n",
       "\n",
       "div.sk-estimator.fitted:hover .sk-estimator-doc-link.fitted:hover,\n",
       ".sk-estimator-doc-link.fitted:hover,\n",
       "div.sk-label-container:hover .sk-estimator-doc-link.fitted:hover,\n",
       ".sk-estimator-doc-link.fitted:hover {\n",
       "  /* fitted */\n",
       "  background-color: var(--sklearn-color-fitted-level-3);\n",
       "  color: var(--sklearn-color-background);\n",
       "  text-decoration: none;\n",
       "}\n",
       "\n",
       "/* Span, style for the box shown on hovering the info icon */\n",
       ".sk-estimator-doc-link span {\n",
       "  display: none;\n",
       "  z-index: 9999;\n",
       "  position: relative;\n",
       "  font-weight: normal;\n",
       "  right: .2ex;\n",
       "  padding: .5ex;\n",
       "  margin: .5ex;\n",
       "  width: min-content;\n",
       "  min-width: 20ex;\n",
       "  max-width: 50ex;\n",
       "  color: var(--sklearn-color-text);\n",
       "  box-shadow: 2pt 2pt 4pt #999;\n",
       "  /* unfitted */\n",
       "  background: var(--sklearn-color-unfitted-level-0);\n",
       "  border: .5pt solid var(--sklearn-color-unfitted-level-3);\n",
       "}\n",
       "\n",
       ".sk-estimator-doc-link.fitted span {\n",
       "  /* fitted */\n",
       "  background: var(--sklearn-color-fitted-level-0);\n",
       "  border: var(--sklearn-color-fitted-level-3);\n",
       "}\n",
       "\n",
       ".sk-estimator-doc-link:hover span {\n",
       "  display: block;\n",
       "}\n",
       "\n",
       "/* \"?\"-specific style due to the `<a>` HTML tag */\n",
       "\n",
       "#sk-container-id-1 a.estimator_doc_link {\n",
       "  float: right;\n",
       "  font-size: 1rem;\n",
       "  line-height: 1em;\n",
       "  font-family: monospace;\n",
       "  background-color: var(--sklearn-color-background);\n",
       "  border-radius: 1rem;\n",
       "  height: 1rem;\n",
       "  width: 1rem;\n",
       "  text-decoration: none;\n",
       "  /* unfitted */\n",
       "  color: var(--sklearn-color-unfitted-level-1);\n",
       "  border: var(--sklearn-color-unfitted-level-1) 1pt solid;\n",
       "}\n",
       "\n",
       "#sk-container-id-1 a.estimator_doc_link.fitted {\n",
       "  /* fitted */\n",
       "  border: var(--sklearn-color-fitted-level-1) 1pt solid;\n",
       "  color: var(--sklearn-color-fitted-level-1);\n",
       "}\n",
       "\n",
       "/* On hover */\n",
       "#sk-container-id-1 a.estimator_doc_link:hover {\n",
       "  /* unfitted */\n",
       "  background-color: var(--sklearn-color-unfitted-level-3);\n",
       "  color: var(--sklearn-color-background);\n",
       "  text-decoration: none;\n",
       "}\n",
       "\n",
       "#sk-container-id-1 a.estimator_doc_link.fitted:hover {\n",
       "  /* fitted */\n",
       "  background-color: var(--sklearn-color-fitted-level-3);\n",
       "}\n",
       "</style><div id=\"sk-container-id-1\" class=\"sk-top-container\"><div class=\"sk-text-repr-fallback\"><pre>GridSearchCV(cv=5, error_score=&#x27;raise&#x27;,\n",
       "             estimator=Pipeline(steps=[(&#x27;preprocessor&#x27;,\n",
       "                                        Pipeline(steps=[(&#x27;tf&#x27;,\n",
       "                                                         TfidfVectorizer(stop_words=[&#x27;as&#x27;,\n",
       "                                                                                     &quot;mightn&#x27;t&quot;,\n",
       "                                                                                     &#x27;before&#x27;,\n",
       "                                                                                     &#x27;we&#x27;,\n",
       "                                                                                     &#x27;d&#x27;,\n",
       "                                                                                     &#x27;ain&#x27;,\n",
       "                                                                                     &#x27;there&#x27;,\n",
       "                                                                                     &quot;he&#x27;s&quot;,\n",
       "                                                                                     &quot;i&#x27;d&quot;,\n",
       "                                                                                     &#x27;that&#x27;,\n",
       "                                                                                     &#x27;only&#x27;,\n",
       "                                                                                     &#x27;have&#x27;,\n",
       "                                                                                     &#x27;where&#x27;,\n",
       "                                                                                     &#x27;ours&#x27;,\n",
       "                                                                                     &#x27;this&#x27;,\n",
       "                                                                                     &#x27;other&#x27;,\n",
       "                                                                                     &#x27;the&#x27;,\n",
       "                                                                                     &#x27;shan&#x27;,\n",
       "                                                                                     &quot;weren&#x27;t&quot;,\n",
       "                                                                                     &#x27;any&#x27;,\n",
       "                                                                                     &#x27;theirs&#x27;,\n",
       "                                                                                     &#x27;does&#x27;,\n",
       "                                                                                     &#x27;few&#x27;,\n",
       "                                                                                     &#x27;than&#x27;,\n",
       "                                                                                     &#x27;ourselves&#x27;,\n",
       "                                                                                     &#x27;him&#x27;,\n",
       "                                                                                     &quot;isn&#x27;t&quot;,\n",
       "                                                                                     &#x27;when&#x27;,\n",
       "                                                                                     &#x27;such&#x27;,\n",
       "                                                                                     &#x27;those&#x27;, ...]))])),\n",
       "                                       (&#x27;models&#x27;, DecisionTreeClassifier())]),\n",
       "             n_jobs=-1,\n",
       "             param_grid=[{&#x27;models&#x27;: [DecisionTreeClassifier(class_weight=&#x27;balanced&#x27;,\n",
       "                                                            random_state=42)],\n",
       "                          &#x27;models__max_depth&#x27;: range(5, 10)},\n",
       "                         {&#x27;models&#x27;: [LogisticRegression(class_weight=&#x27;balanced&#x27;,\n",
       "                                                        max_iter=1000,\n",
       "                                                        random_state=42)],\n",
       "                          &#x27;models__C&#x27;: [0.1, 0.5, 1, 10]}],\n",
       "             refit=&#x27;recall&#x27;, scoring=&#x27;f1&#x27;, verbose=3)</pre><b>In a Jupyter environment, please rerun this cell to show the HTML representation or trust the notebook. <br />On GitHub, the HTML representation is unable to render, please try loading this page with nbviewer.org.</b></div><div class=\"sk-container\" hidden><div class=\"sk-item sk-dashed-wrapped\"><div class=\"sk-label-container\"><div class=\"sk-label fitted sk-toggleable\"><input class=\"sk-toggleable__control sk-hidden--visually\" id=\"sk-estimator-id-1\" type=\"checkbox\" ><label for=\"sk-estimator-id-1\" class=\"sk-toggleable__label fitted sk-toggleable__label-arrow\"><div><div>GridSearchCV</div></div><div><a class=\"sk-estimator-doc-link fitted\" rel=\"noreferrer\" target=\"_blank\" href=\"https://scikit-learn.org/1.6/modules/generated/sklearn.model_selection.GridSearchCV.html\">?<span>Documentation for GridSearchCV</span></a><span class=\"sk-estimator-doc-link fitted\">i<span>Fitted</span></span></div></label><div class=\"sk-toggleable__content fitted\"><pre>GridSearchCV(cv=5, error_score=&#x27;raise&#x27;,\n",
       "             estimator=Pipeline(steps=[(&#x27;preprocessor&#x27;,\n",
       "                                        Pipeline(steps=[(&#x27;tf&#x27;,\n",
       "                                                         TfidfVectorizer(stop_words=[&#x27;as&#x27;,\n",
       "                                                                                     &quot;mightn&#x27;t&quot;,\n",
       "                                                                                     &#x27;before&#x27;,\n",
       "                                                                                     &#x27;we&#x27;,\n",
       "                                                                                     &#x27;d&#x27;,\n",
       "                                                                                     &#x27;ain&#x27;,\n",
       "                                                                                     &#x27;there&#x27;,\n",
       "                                                                                     &quot;he&#x27;s&quot;,\n",
       "                                                                                     &quot;i&#x27;d&quot;,\n",
       "                                                                                     &#x27;that&#x27;,\n",
       "                                                                                     &#x27;only&#x27;,\n",
       "                                                                                     &#x27;have&#x27;,\n",
       "                                                                                     &#x27;where&#x27;,\n",
       "                                                                                     &#x27;ours&#x27;,\n",
       "                                                                                     &#x27;this&#x27;,\n",
       "                                                                                     &#x27;other&#x27;,\n",
       "                                                                                     &#x27;the&#x27;,\n",
       "                                                                                     &#x27;shan&#x27;,\n",
       "                                                                                     &quot;weren&#x27;t&quot;,\n",
       "                                                                                     &#x27;any&#x27;,\n",
       "                                                                                     &#x27;theirs&#x27;,\n",
       "                                                                                     &#x27;does&#x27;,\n",
       "                                                                                     &#x27;few&#x27;,\n",
       "                                                                                     &#x27;than&#x27;,\n",
       "                                                                                     &#x27;ourselves&#x27;,\n",
       "                                                                                     &#x27;him&#x27;,\n",
       "                                                                                     &quot;isn&#x27;t&quot;,\n",
       "                                                                                     &#x27;when&#x27;,\n",
       "                                                                                     &#x27;such&#x27;,\n",
       "                                                                                     &#x27;those&#x27;, ...]))])),\n",
       "                                       (&#x27;models&#x27;, DecisionTreeClassifier())]),\n",
       "             n_jobs=-1,\n",
       "             param_grid=[{&#x27;models&#x27;: [DecisionTreeClassifier(class_weight=&#x27;balanced&#x27;,\n",
       "                                                            random_state=42)],\n",
       "                          &#x27;models__max_depth&#x27;: range(5, 10)},\n",
       "                         {&#x27;models&#x27;: [LogisticRegression(class_weight=&#x27;balanced&#x27;,\n",
       "                                                        max_iter=1000,\n",
       "                                                        random_state=42)],\n",
       "                          &#x27;models__C&#x27;: [0.1, 0.5, 1, 10]}],\n",
       "             refit=&#x27;recall&#x27;, scoring=&#x27;f1&#x27;, verbose=3)</pre></div> </div></div><div class=\"sk-parallel\"><div class=\"sk-parallel-item\"><div class=\"sk-item\"><div class=\"sk-label-container\"><div class=\"sk-label fitted sk-toggleable\"><input class=\"sk-toggleable__control sk-hidden--visually\" id=\"sk-estimator-id-2\" type=\"checkbox\" ><label for=\"sk-estimator-id-2\" class=\"sk-toggleable__label fitted sk-toggleable__label-arrow\"><div><div>best_estimator_: Pipeline</div></div></label><div class=\"sk-toggleable__content fitted\"><pre>Pipeline(steps=[(&#x27;preprocessor&#x27;,\n",
       "                 Pipeline(steps=[(&#x27;tf&#x27;,\n",
       "                                  TfidfVectorizer(stop_words=[&#x27;as&#x27;, &quot;mightn&#x27;t&quot;,\n",
       "                                                              &#x27;before&#x27;, &#x27;we&#x27;,\n",
       "                                                              &#x27;d&#x27;, &#x27;ain&#x27;,\n",
       "                                                              &#x27;there&#x27;, &quot;he&#x27;s&quot;,\n",
       "                                                              &quot;i&#x27;d&quot;, &#x27;that&#x27;,\n",
       "                                                              &#x27;only&#x27;, &#x27;have&#x27;,\n",
       "                                                              &#x27;where&#x27;, &#x27;ours&#x27;,\n",
       "                                                              &#x27;this&#x27;, &#x27;other&#x27;,\n",
       "                                                              &#x27;the&#x27;, &#x27;shan&#x27;,\n",
       "                                                              &quot;weren&#x27;t&quot;, &#x27;any&#x27;,\n",
       "                                                              &#x27;theirs&#x27;, &#x27;does&#x27;,\n",
       "                                                              &#x27;few&#x27;, &#x27;than&#x27;,\n",
       "                                                              &#x27;ourselves&#x27;,\n",
       "                                                              &#x27;him&#x27;, &quot;isn&#x27;t&quot;,\n",
       "                                                              &#x27;when&#x27;, &#x27;such&#x27;,\n",
       "                                                              &#x27;those&#x27;, ...]))])),\n",
       "                (&#x27;models&#x27;,\n",
       "                 LogisticRegression(C=10, class_weight=&#x27;balanced&#x27;,\n",
       "                                    max_iter=1000, random_state=42))])</pre></div> </div></div><div class=\"sk-serial\"><div class=\"sk-item\"><div class=\"sk-serial\"><div class=\"sk-item\"><div class=\"sk-label-container\"><div class=\"sk-label fitted sk-toggleable\"><input class=\"sk-toggleable__control sk-hidden--visually\" id=\"sk-estimator-id-3\" type=\"checkbox\" ><label for=\"sk-estimator-id-3\" class=\"sk-toggleable__label fitted sk-toggleable__label-arrow\"><div><div>preprocessor: Pipeline</div></div><div><a class=\"sk-estimator-doc-link fitted\" rel=\"noreferrer\" target=\"_blank\" href=\"https://scikit-learn.org/1.6/modules/generated/sklearn.pipeline.Pipeline.html\">?<span>Documentation for preprocessor: Pipeline</span></a></div></label><div class=\"sk-toggleable__content fitted\"><pre>Pipeline(steps=[(&#x27;tf&#x27;,\n",
       "                 TfidfVectorizer(stop_words=[&#x27;as&#x27;, &quot;mightn&#x27;t&quot;, &#x27;before&#x27;, &#x27;we&#x27;,\n",
       "                                             &#x27;d&#x27;, &#x27;ain&#x27;, &#x27;there&#x27;, &quot;he&#x27;s&quot;, &quot;i&#x27;d&quot;,\n",
       "                                             &#x27;that&#x27;, &#x27;only&#x27;, &#x27;have&#x27;, &#x27;where&#x27;,\n",
       "                                             &#x27;ours&#x27;, &#x27;this&#x27;, &#x27;other&#x27;, &#x27;the&#x27;,\n",
       "                                             &#x27;shan&#x27;, &quot;weren&#x27;t&quot;, &#x27;any&#x27;, &#x27;theirs&#x27;,\n",
       "                                             &#x27;does&#x27;, &#x27;few&#x27;, &#x27;than&#x27;, &#x27;ourselves&#x27;,\n",
       "                                             &#x27;him&#x27;, &quot;isn&#x27;t&quot;, &#x27;when&#x27;, &#x27;such&#x27;,\n",
       "                                             &#x27;those&#x27;, ...]))])</pre></div> </div></div><div class=\"sk-serial\"><div class=\"sk-item\"><div class=\"sk-estimator fitted sk-toggleable\"><input class=\"sk-toggleable__control sk-hidden--visually\" id=\"sk-estimator-id-4\" type=\"checkbox\" ><label for=\"sk-estimator-id-4\" class=\"sk-toggleable__label fitted sk-toggleable__label-arrow\"><div><div>TfidfVectorizer</div></div><div><a class=\"sk-estimator-doc-link fitted\" rel=\"noreferrer\" target=\"_blank\" href=\"https://scikit-learn.org/1.6/modules/generated/sklearn.feature_extraction.text.TfidfVectorizer.html\">?<span>Documentation for TfidfVectorizer</span></a></div></label><div class=\"sk-toggleable__content fitted\"><pre>TfidfVectorizer(stop_words=[&#x27;as&#x27;, &quot;mightn&#x27;t&quot;, &#x27;before&#x27;, &#x27;we&#x27;, &#x27;d&#x27;, &#x27;ain&#x27;,\n",
       "                            &#x27;there&#x27;, &quot;he&#x27;s&quot;, &quot;i&#x27;d&quot;, &#x27;that&#x27;, &#x27;only&#x27;, &#x27;have&#x27;,\n",
       "                            &#x27;where&#x27;, &#x27;ours&#x27;, &#x27;this&#x27;, &#x27;other&#x27;, &#x27;the&#x27;, &#x27;shan&#x27;,\n",
       "                            &quot;weren&#x27;t&quot;, &#x27;any&#x27;, &#x27;theirs&#x27;, &#x27;does&#x27;, &#x27;few&#x27;, &#x27;than&#x27;,\n",
       "                            &#x27;ourselves&#x27;, &#x27;him&#x27;, &quot;isn&#x27;t&quot;, &#x27;when&#x27;, &#x27;such&#x27;,\n",
       "                            &#x27;those&#x27;, ...])</pre></div> </div></div></div></div><div class=\"sk-item\"><div class=\"sk-estimator fitted sk-toggleable\"><input class=\"sk-toggleable__control sk-hidden--visually\" id=\"sk-estimator-id-5\" type=\"checkbox\" ><label for=\"sk-estimator-id-5\" class=\"sk-toggleable__label fitted sk-toggleable__label-arrow\"><div><div>LogisticRegression</div></div><div><a class=\"sk-estimator-doc-link fitted\" rel=\"noreferrer\" target=\"_blank\" href=\"https://scikit-learn.org/1.6/modules/generated/sklearn.linear_model.LogisticRegression.html\">?<span>Documentation for LogisticRegression</span></a></div></label><div class=\"sk-toggleable__content fitted\"><pre>LogisticRegression(C=10, class_weight=&#x27;balanced&#x27;, max_iter=1000,\n",
       "                   random_state=42)</pre></div> </div></div></div></div></div></div></div></div></div></div></div>"
      ],
      "text/plain": [
       "GridSearchCV(cv=5, error_score='raise',\n",
       "             estimator=Pipeline(steps=[('preprocessor',\n",
       "                                        Pipeline(steps=[('tf',\n",
       "                                                         TfidfVectorizer(stop_words=['as',\n",
       "                                                                                     \"mightn't\",\n",
       "                                                                                     'before',\n",
       "                                                                                     'we',\n",
       "                                                                                     'd',\n",
       "                                                                                     'ain',\n",
       "                                                                                     'there',\n",
       "                                                                                     \"he's\",\n",
       "                                                                                     \"i'd\",\n",
       "                                                                                     'that',\n",
       "                                                                                     'only',\n",
       "                                                                                     'have',\n",
       "                                                                                     'where',\n",
       "                                                                                     'ours',\n",
       "                                                                                     'this',\n",
       "                                                                                     'other',\n",
       "                                                                                     'the',\n",
       "                                                                                     'shan',\n",
       "                                                                                     \"weren't\",\n",
       "                                                                                     'any',\n",
       "                                                                                     'theirs',\n",
       "                                                                                     'does',\n",
       "                                                                                     'few',\n",
       "                                                                                     'than',\n",
       "                                                                                     'ourselves',\n",
       "                                                                                     'him',\n",
       "                                                                                     \"isn't\",\n",
       "                                                                                     'when',\n",
       "                                                                                     'such',\n",
       "                                                                                     'those', ...]))])),\n",
       "                                       ('models', DecisionTreeClassifier())]),\n",
       "             n_jobs=-1,\n",
       "             param_grid=[{'models': [DecisionTreeClassifier(class_weight='balanced',\n",
       "                                                            random_state=42)],\n",
       "                          'models__max_depth': range(5, 10)},\n",
       "                         {'models': [LogisticRegression(class_weight='balanced',\n",
       "                                                        max_iter=1000,\n",
       "                                                        random_state=42)],\n",
       "                          'models__C': [0.1, 0.5, 1, 10]}],\n",
       "             refit='recall', scoring='f1', verbose=3)"
      ]
     },
     "execution_count": 15,
     "metadata": {},
     "output_type": "execute_result"
    }
   ],
   "source": [
    "grid.fit(X_train,y_train)"
   ]
  },
  {
   "cell_type": "code",
   "execution_count": 16,
   "metadata": {},
   "outputs": [
    {
     "name": "stdout",
     "output_type": "stream",
     "text": [
      "Лучшая модель и её параметры:\n",
      "\n",
      " Pipeline(steps=[('preprocessor',\n",
      "                 Pipeline(steps=[('tf',\n",
      "                                  TfidfVectorizer(stop_words=['as', \"mightn't\",\n",
      "                                                              'before', 'we',\n",
      "                                                              'd', 'ain',\n",
      "                                                              'there', \"he's\",\n",
      "                                                              \"i'd\", 'that',\n",
      "                                                              'only', 'have',\n",
      "                                                              'where', 'ours',\n",
      "                                                              'this', 'other',\n",
      "                                                              'the', 'shan',\n",
      "                                                              \"weren't\", 'any',\n",
      "                                                              'theirs', 'does',\n",
      "                                                              'few', 'than',\n",
      "                                                              'ourselves',\n",
      "                                                              'him', \"isn't\",\n",
      "                                                              'when', 'such',\n",
      "                                                              'those', ...]))])),\n",
      "                ('models',\n",
      "                 LogisticRegression(C=10, class_weight='balanced',\n",
      "                                    max_iter=1000, random_state=42))])\n",
      "Метрика лучшей модели на кросс-валидационной выборке: 0.7453966961891398\n"
     ]
    }
   ],
   "source": [
    "print('Лучшая модель и её параметры:\\n\\n', grid.best_estimator_) \n",
    "print ('Метрика лучшей модели на кросс-валидационной выборке:', (grid.best_score_))"
   ]
  },
  {
   "cell_type": "code",
   "execution_count": 17,
   "metadata": {},
   "outputs": [
    {
     "data": {
      "text/plain": [
       "0.7600798403193613"
      ]
     },
     "execution_count": 17,
     "metadata": {},
     "output_type": "execute_result"
    }
   ],
   "source": [
    "preds=grid.best_estimator_.predict(X_test)\n",
    "f1_score(y_test,preds)"
   ]
  },
  {
   "cell_type": "markdown",
   "metadata": {},
   "source": [
    "## Выводы"
   ]
  },
  {
   "cell_type": "markdown",
   "metadata": {},
   "source": [
    "Данные были загружены и предобработаны: пропусков и дубликатов не было обнаружено. В данных был обнаружен дисбаланс классов: токсичных сообщений было примерно в 7 раз меньше, чем обычных. Также я создал выборку-10% от изначального датасета, чтобы модель обучалась не так долго. Затем я очистил данные от \"стоп-слов\" и лемматизировал их. Потом создал пайплайн, в котором трансформировал данные с помощью TF-IDF для оценки важности слов в тексте. Из 2 моделей с разными гиперпараметрами нашел лучшую- LogisticRegression(С=10,max_iter=100). На тестовой выборке была достигнута f1-мера примерно 0.77, что удовлетворяет поставленному техническому заданию."
   ]
  }
 ],
 "metadata": {
  "ExecuteTimeLog": [
   {
    "duration": 453,
    "start_time": "2025-05-02T18:43:57.566Z"
   },
   {
    "duration": 1087,
    "start_time": "2025-05-02T18:44:18.132Z"
   },
   {
    "duration": 955,
    "start_time": "2025-05-02T18:44:24.417Z"
   },
   {
    "duration": 10384,
    "start_time": "2025-05-02T18:49:51.961Z"
   },
   {
    "duration": 938,
    "start_time": "2025-05-02T19:30:55.744Z"
   },
   {
    "duration": 44,
    "start_time": "2025-05-03T15:19:52.440Z"
   },
   {
    "duration": 10949,
    "start_time": "2025-05-03T15:19:57.716Z"
   },
   {
    "duration": 988,
    "start_time": "2025-05-03T15:20:16.368Z"
   },
   {
    "duration": 236,
    "start_time": "2025-05-03T15:20:18.479Z"
   },
   {
    "duration": 4372,
    "start_time": "2025-05-03T15:21:02.728Z"
   },
   {
    "duration": 84,
    "start_time": "2025-05-03T15:27:29.547Z"
   },
   {
    "duration": 4,
    "start_time": "2025-05-03T15:30:45.486Z"
   },
   {
    "duration": 29,
    "start_time": "2025-05-03T15:32:45.667Z"
   },
   {
    "duration": 9,
    "start_time": "2025-05-03T15:32:54.803Z"
   },
   {
    "duration": 2,
    "start_time": "2025-05-03T15:33:06.047Z"
   },
   {
    "duration": 51,
    "start_time": "2025-05-04T13:35:31.265Z"
   },
   {
    "duration": 10540,
    "start_time": "2025-05-04T13:35:36.263Z"
   },
   {
    "duration": 24,
    "start_time": "2025-05-04T13:35:46.806Z"
   },
   {
    "duration": 1201,
    "start_time": "2025-05-04T13:35:46.832Z"
   },
   {
    "duration": 0,
    "start_time": "2025-05-04T13:35:48.035Z"
   },
   {
    "duration": 0,
    "start_time": "2025-05-04T13:35:48.036Z"
   },
   {
    "duration": 1024,
    "start_time": "2025-05-04T13:38:00.996Z"
   },
   {
    "duration": 956,
    "start_time": "2025-05-04T13:38:09.195Z"
   },
   {
    "duration": 2336,
    "start_time": "2025-05-04T13:40:58.742Z"
   },
   {
    "duration": 240,
    "start_time": "2025-05-04T13:41:01.174Z"
   },
   {
    "duration": 4463,
    "start_time": "2025-05-04T13:41:20.406Z"
   },
   {
    "duration": 6705,
    "start_time": "2025-05-04T13:42:36.110Z"
   },
   {
    "duration": 23,
    "start_time": "2025-05-04T13:42:42.818Z"
   },
   {
    "duration": 1135,
    "start_time": "2025-05-04T13:42:42.842Z"
   },
   {
    "duration": 258,
    "start_time": "2025-05-04T13:42:43.979Z"
   },
   {
    "duration": 7256,
    "start_time": "2025-05-04T13:43:17.327Z"
   },
   {
    "duration": 24,
    "start_time": "2025-05-04T13:43:24.585Z"
   },
   {
    "duration": 1137,
    "start_time": "2025-05-04T13:43:24.610Z"
   },
   {
    "duration": 281,
    "start_time": "2025-05-04T13:43:25.750Z"
   },
   {
    "duration": 64,
    "start_time": "2025-05-04T13:43:45.185Z"
   },
   {
    "duration": 7022,
    "start_time": "2025-05-04T13:44:00.029Z"
   },
   {
    "duration": 24,
    "start_time": "2025-05-04T13:44:07.054Z"
   },
   {
    "duration": 1137,
    "start_time": "2025-05-04T13:44:07.080Z"
   },
   {
    "duration": 264,
    "start_time": "2025-05-04T13:44:08.219Z"
   },
   {
    "duration": 2234,
    "start_time": "2025-05-04T13:44:08.485Z"
   },
   {
    "duration": 52,
    "start_time": "2025-05-04T13:45:29.282Z"
   },
   {
    "duration": 6906,
    "start_time": "2025-05-04T13:45:32.849Z"
   },
   {
    "duration": 24,
    "start_time": "2025-05-04T13:45:39.757Z"
   },
   {
    "duration": 1156,
    "start_time": "2025-05-04T13:45:39.782Z"
   },
   {
    "duration": 266,
    "start_time": "2025-05-04T13:45:40.939Z"
   },
   {
    "duration": 2360,
    "start_time": "2025-05-04T13:45:41.208Z"
   },
   {
    "duration": 0,
    "start_time": "2025-05-04T13:45:43.570Z"
   },
   {
    "duration": 5843,
    "start_time": "2025-05-04T13:49:03.450Z"
   },
   {
    "duration": 22,
    "start_time": "2025-05-04T13:49:09.295Z"
   },
   {
    "duration": 1049,
    "start_time": "2025-05-04T13:49:09.319Z"
   },
   {
    "duration": 264,
    "start_time": "2025-05-04T13:49:10.370Z"
   },
   {
    "duration": 25,
    "start_time": "2025-05-04T13:49:10.635Z"
   },
   {
    "duration": 2222,
    "start_time": "2025-05-04T13:49:10.662Z"
   },
   {
    "duration": 6799,
    "start_time": "2025-05-04T13:49:46.973Z"
   },
   {
    "duration": 23,
    "start_time": "2025-05-04T13:49:53.774Z"
   },
   {
    "duration": 1151,
    "start_time": "2025-05-04T13:49:53.799Z"
   },
   {
    "duration": 262,
    "start_time": "2025-05-04T13:49:54.952Z"
   },
   {
    "duration": 12,
    "start_time": "2025-05-04T13:49:55.217Z"
   },
   {
    "duration": 2305,
    "start_time": "2025-05-04T13:49:55.231Z"
   },
   {
    "duration": 6882,
    "start_time": "2025-05-04T13:50:11.544Z"
   },
   {
    "duration": 23,
    "start_time": "2025-05-04T13:50:18.428Z"
   },
   {
    "duration": 1191,
    "start_time": "2025-05-04T13:50:18.453Z"
   },
   {
    "duration": 259,
    "start_time": "2025-05-04T13:50:19.646Z"
   },
   {
    "duration": 11,
    "start_time": "2025-05-04T13:50:19.908Z"
   },
   {
    "duration": 2245,
    "start_time": "2025-05-04T13:50:19.921Z"
   },
   {
    "duration": 7040,
    "start_time": "2025-05-04T13:51:02.230Z"
   },
   {
    "duration": 31,
    "start_time": "2025-05-04T13:51:09.273Z"
   },
   {
    "duration": 1144,
    "start_time": "2025-05-04T13:51:09.306Z"
   },
   {
    "duration": 258,
    "start_time": "2025-05-04T13:51:10.452Z"
   },
   {
    "duration": 9,
    "start_time": "2025-05-04T13:51:10.712Z"
   },
   {
    "duration": 2224,
    "start_time": "2025-05-04T13:51:10.722Z"
   },
   {
    "duration": 68,
    "start_time": "2025-05-04T13:51:32.800Z"
   },
   {
    "duration": 6821,
    "start_time": "2025-05-04T13:53:57.852Z"
   },
   {
    "duration": 24,
    "start_time": "2025-05-04T13:54:04.676Z"
   },
   {
    "duration": 1178,
    "start_time": "2025-05-04T13:54:04.701Z"
   },
   {
    "duration": 262,
    "start_time": "2025-05-04T13:54:05.881Z"
   },
   {
    "duration": 15,
    "start_time": "2025-05-04T13:54:06.145Z"
   },
   {
    "duration": 27,
    "start_time": "2025-05-04T13:54:06.162Z"
   },
   {
    "duration": 44,
    "start_time": "2025-05-04T13:54:06.191Z"
   },
   {
    "duration": 17,
    "start_time": "2025-05-04T13:54:11.985Z"
   },
   {
    "duration": 28,
    "start_time": "2025-05-04T13:54:15.403Z"
   },
   {
    "duration": 1152,
    "start_time": "2025-05-04T13:54:16.264Z"
   },
   {
    "duration": 1100,
    "start_time": "2025-05-04T13:54:17.418Z"
   },
   {
    "duration": 6393,
    "start_time": "2025-05-04T13:54:27.974Z"
   },
   {
    "duration": 23,
    "start_time": "2025-05-04T13:54:34.370Z"
   },
   {
    "duration": 1074,
    "start_time": "2025-05-04T13:54:34.395Z"
   },
   {
    "duration": 264,
    "start_time": "2025-05-04T13:54:35.471Z"
   },
   {
    "duration": 41,
    "start_time": "2025-05-04T13:54:35.737Z"
   },
   {
    "duration": 1612,
    "start_time": "2025-05-04T13:54:35.781Z"
   },
   {
    "duration": 7324,
    "start_time": "2025-05-04T13:54:55.518Z"
   },
   {
    "duration": 28,
    "start_time": "2025-05-04T13:55:02.845Z"
   },
   {
    "duration": 1188,
    "start_time": "2025-05-04T13:55:02.875Z"
   },
   {
    "duration": 277,
    "start_time": "2025-05-04T13:55:04.066Z"
   },
   {
    "duration": 32,
    "start_time": "2025-05-04T13:55:04.345Z"
   },
   {
    "duration": 1257,
    "start_time": "2025-05-04T13:55:04.379Z"
   },
   {
    "duration": 1169,
    "start_time": "2025-05-04T13:55:05.638Z"
   },
   {
    "duration": 129,
    "start_time": "2025-05-04T13:55:51.287Z"
   },
   {
    "duration": 5828,
    "start_time": "2025-05-04T13:56:31.863Z"
   },
   {
    "duration": 23,
    "start_time": "2025-05-04T13:56:37.693Z"
   },
   {
    "duration": 1036,
    "start_time": "2025-05-04T13:56:37.717Z"
   },
   {
    "duration": 267,
    "start_time": "2025-05-04T13:56:38.761Z"
   },
   {
    "duration": 33,
    "start_time": "2025-05-04T13:56:39.031Z"
   },
   {
    "duration": 2190,
    "start_time": "2025-05-04T13:56:39.066Z"
   },
   {
    "duration": 308,
    "start_time": "2025-05-04T13:56:41.261Z"
   },
   {
    "duration": 6340,
    "start_time": "2025-05-04T13:56:41.571Z"
   },
   {
    "duration": 4,
    "start_time": "2025-05-04T13:57:34.563Z"
   },
   {
    "duration": 148,
    "start_time": "2025-05-04T14:02:24.841Z"
   },
   {
    "duration": 12,
    "start_time": "2025-05-04T14:04:16.879Z"
   },
   {
    "duration": 15,
    "start_time": "2025-05-04T14:09:06.306Z"
   },
   {
    "duration": 4,
    "start_time": "2025-05-04T14:09:16.779Z"
   },
   {
    "duration": 4,
    "start_time": "2025-05-04T14:14:18.003Z"
   },
   {
    "duration": 16,
    "start_time": "2025-05-04T14:15:46.221Z"
   },
   {
    "duration": 16,
    "start_time": "2025-05-04T14:15:54.738Z"
   },
   {
    "duration": 4477,
    "start_time": "2025-05-04T14:17:21.488Z"
   },
   {
    "duration": 21,
    "start_time": "2025-05-04T14:17:36.392Z"
   },
   {
    "duration": 5,
    "start_time": "2025-05-04T14:17:48.224Z"
   },
   {
    "duration": 6631,
    "start_time": "2025-05-04T14:18:26.784Z"
   },
   {
    "duration": 25,
    "start_time": "2025-05-04T14:18:33.417Z"
   },
   {
    "duration": 1171,
    "start_time": "2025-05-04T14:18:33.444Z"
   },
   {
    "duration": 263,
    "start_time": "2025-05-04T14:18:34.616Z"
   },
   {
    "duration": 16,
    "start_time": "2025-05-04T14:18:34.882Z"
   },
   {
    "duration": 2364,
    "start_time": "2025-05-04T14:18:34.900Z"
   },
   {
    "duration": 135,
    "start_time": "2025-05-04T14:18:37.266Z"
   },
   {
    "duration": 6161,
    "start_time": "2025-05-04T14:18:37.403Z"
   },
   {
    "duration": 5,
    "start_time": "2025-05-04T14:18:43.566Z"
   },
   {
    "duration": 6966,
    "start_time": "2025-05-04T14:19:34.202Z"
   },
   {
    "duration": 25,
    "start_time": "2025-05-04T14:19:41.170Z"
   },
   {
    "duration": 1185,
    "start_time": "2025-05-04T14:19:41.197Z"
   },
   {
    "duration": 279,
    "start_time": "2025-05-04T14:19:42.384Z"
   },
   {
    "duration": 12,
    "start_time": "2025-05-04T14:19:42.665Z"
   },
   {
    "duration": 1009,
    "start_time": "2025-05-04T14:19:42.679Z"
   },
   {
    "duration": 199,
    "start_time": "2025-05-04T14:19:43.690Z"
   },
   {
    "duration": 2529,
    "start_time": "2025-05-04T14:19:43.891Z"
   },
   {
    "duration": 6,
    "start_time": "2025-05-04T14:19:46.422Z"
   },
   {
    "duration": 579,
    "start_time": "2025-05-04T14:19:46.431Z"
   },
   {
    "duration": 5907,
    "start_time": "2025-05-04T14:21:09.399Z"
   },
   {
    "duration": 25,
    "start_time": "2025-05-04T14:21:15.308Z"
   },
   {
    "duration": 1134,
    "start_time": "2025-05-04T14:21:15.335Z"
   },
   {
    "duration": 289,
    "start_time": "2025-05-04T14:21:16.472Z"
   },
   {
    "duration": 18,
    "start_time": "2025-05-04T14:21:16.763Z"
   },
   {
    "duration": 2406,
    "start_time": "2025-05-04T14:21:16.783Z"
   },
   {
    "duration": 194,
    "start_time": "2025-05-04T14:21:19.191Z"
   },
   {
    "duration": 6345,
    "start_time": "2025-05-04T14:21:19.387Z"
   },
   {
    "duration": 8,
    "start_time": "2025-05-04T14:21:25.740Z"
   },
   {
    "duration": 202,
    "start_time": "2025-05-04T14:21:25.751Z"
   },
   {
    "duration": 5979,
    "start_time": "2025-05-04T14:23:20.545Z"
   },
   {
    "duration": 39,
    "start_time": "2025-05-04T14:23:26.527Z"
   },
   {
    "duration": 1144,
    "start_time": "2025-05-04T14:23:26.568Z"
   },
   {
    "duration": 299,
    "start_time": "2025-05-04T14:23:27.714Z"
   },
   {
    "duration": 28,
    "start_time": "2025-05-04T14:23:28.016Z"
   },
   {
    "duration": 2393,
    "start_time": "2025-05-04T14:23:28.046Z"
   },
   {
    "duration": 150,
    "start_time": "2025-05-04T14:23:30.441Z"
   },
   {
    "duration": 6669,
    "start_time": "2025-05-04T14:23:30.593Z"
   },
   {
    "duration": 6,
    "start_time": "2025-05-04T14:23:37.264Z"
   },
   {
    "duration": 207,
    "start_time": "2025-05-04T14:23:37.272Z"
   },
   {
    "duration": 6446,
    "start_time": "2025-05-04T14:24:55.537Z"
   },
   {
    "duration": 24,
    "start_time": "2025-05-04T14:25:01.986Z"
   },
   {
    "duration": 1141,
    "start_time": "2025-05-04T14:25:02.012Z"
   },
   {
    "duration": 275,
    "start_time": "2025-05-04T14:25:03.155Z"
   },
   {
    "duration": 29,
    "start_time": "2025-05-04T14:25:03.432Z"
   },
   {
    "duration": 2376,
    "start_time": "2025-05-04T14:25:03.463Z"
   },
   {
    "duration": 211,
    "start_time": "2025-05-04T14:25:05.841Z"
   },
   {
    "duration": 6217,
    "start_time": "2025-05-04T14:25:06.054Z"
   },
   {
    "duration": 5,
    "start_time": "2025-05-04T14:25:12.273Z"
   },
   {
    "duration": 45196,
    "start_time": "2025-05-04T14:25:12.280Z"
   },
   {
    "duration": 5760,
    "start_time": "2025-05-04T14:26:25.915Z"
   },
   {
    "duration": 25,
    "start_time": "2025-05-04T14:26:31.677Z"
   },
   {
    "duration": 1108,
    "start_time": "2025-05-04T14:26:31.704Z"
   },
   {
    "duration": 279,
    "start_time": "2025-05-04T14:26:32.813Z"
   },
   {
    "duration": 17,
    "start_time": "2025-05-04T14:26:33.095Z"
   },
   {
    "duration": 2389,
    "start_time": "2025-05-04T14:26:33.115Z"
   },
   {
    "duration": 152,
    "start_time": "2025-05-04T14:26:35.506Z"
   },
   {
    "duration": 6408,
    "start_time": "2025-05-04T14:26:35.660Z"
   },
   {
    "duration": 5,
    "start_time": "2025-05-04T14:26:42.070Z"
   },
   {
    "duration": 74664,
    "start_time": "2025-05-04T14:26:42.077Z"
   },
   {
    "duration": 4879,
    "start_time": "2025-05-04T14:28:21.756Z"
   },
   {
    "duration": 4,
    "start_time": "2025-05-04T14:28:26.638Z"
   },
   {
    "duration": 1051,
    "start_time": "2025-05-04T14:28:26.645Z"
   },
   {
    "duration": 275,
    "start_time": "2025-05-04T14:28:27.697Z"
   },
   {
    "duration": 35,
    "start_time": "2025-05-04T14:28:27.974Z"
   },
   {
    "duration": 7160,
    "start_time": "2025-05-04T14:29:12.954Z"
   },
   {
    "duration": 26,
    "start_time": "2025-05-04T14:29:20.116Z"
   },
   {
    "duration": 1274,
    "start_time": "2025-05-04T14:29:20.144Z"
   },
   {
    "duration": 298,
    "start_time": "2025-05-04T14:29:21.420Z"
   },
   {
    "duration": 18,
    "start_time": "2025-05-04T14:29:21.721Z"
   },
   {
    "duration": 2455,
    "start_time": "2025-05-04T14:29:21.741Z"
   },
   {
    "duration": 200,
    "start_time": "2025-05-04T14:29:24.198Z"
   },
   {
    "duration": 7102,
    "start_time": "2025-05-04T14:29:24.401Z"
   },
   {
    "duration": 6,
    "start_time": "2025-05-04T14:29:31.505Z"
   },
   {
    "duration": 83816,
    "start_time": "2025-05-04T14:29:31.513Z"
   },
   {
    "duration": 5909,
    "start_time": "2025-05-04T14:32:29.142Z"
   },
   {
    "duration": 24,
    "start_time": "2025-05-04T14:32:35.053Z"
   },
   {
    "duration": 1108,
    "start_time": "2025-05-04T14:32:35.078Z"
   },
   {
    "duration": 273,
    "start_time": "2025-05-04T14:32:36.188Z"
   },
   {
    "duration": 18,
    "start_time": "2025-05-04T14:32:36.463Z"
   },
   {
    "duration": 2400,
    "start_time": "2025-05-04T14:32:36.483Z"
   },
   {
    "duration": 200,
    "start_time": "2025-05-04T14:32:38.885Z"
   },
   {
    "duration": 6326,
    "start_time": "2025-05-04T14:32:39.086Z"
   },
   {
    "duration": 5,
    "start_time": "2025-05-04T14:32:45.414Z"
   },
   {
    "duration": 7208,
    "start_time": "2025-05-04T14:39:00.940Z"
   },
   {
    "duration": 25,
    "start_time": "2025-05-04T14:39:08.151Z"
   },
   {
    "duration": 1189,
    "start_time": "2025-05-04T14:39:08.178Z"
   },
   {
    "duration": 278,
    "start_time": "2025-05-04T14:39:09.369Z"
   },
   {
    "duration": 26,
    "start_time": "2025-05-04T14:39:09.649Z"
   },
   {
    "duration": 2344,
    "start_time": "2025-05-04T14:39:09.677Z"
   },
   {
    "duration": 231,
    "start_time": "2025-05-04T14:39:12.023Z"
   },
   {
    "duration": 6329,
    "start_time": "2025-05-04T14:39:12.256Z"
   },
   {
    "duration": 5,
    "start_time": "2025-05-04T14:39:18.587Z"
   },
   {
    "duration": 376778,
    "start_time": "2025-05-04T14:39:18.594Z"
   },
   {
    "duration": 120,
    "start_time": "2025-05-04T14:46:16.072Z"
   },
   {
    "duration": 8,
    "start_time": "2025-05-04T14:46:29.257Z"
   },
   {
    "duration": 131,
    "start_time": "2025-05-04T14:47:20.714Z"
   },
   {
    "duration": 141,
    "start_time": "2025-05-04T14:47:42.452Z"
   },
   {
    "duration": 5884,
    "start_time": "2025-05-04T14:48:18.488Z"
   },
   {
    "duration": 25,
    "start_time": "2025-05-04T14:48:24.374Z"
   },
   {
    "duration": 1160,
    "start_time": "2025-05-04T14:48:24.400Z"
   },
   {
    "duration": 300,
    "start_time": "2025-05-04T14:48:25.562Z"
   },
   {
    "duration": 19,
    "start_time": "2025-05-04T14:48:25.864Z"
   },
   {
    "duration": 2378,
    "start_time": "2025-05-04T14:48:25.885Z"
   },
   {
    "duration": 224,
    "start_time": "2025-05-04T14:48:28.264Z"
   },
   {
    "duration": 6329,
    "start_time": "2025-05-04T14:48:28.489Z"
   },
   {
    "duration": 6,
    "start_time": "2025-05-04T14:48:34.820Z"
   },
   {
    "duration": 370940,
    "start_time": "2025-05-04T14:48:34.829Z"
   },
   {
    "duration": 13,
    "start_time": "2025-05-04T14:54:45.772Z"
   },
   {
    "duration": 179,
    "start_time": "2025-05-04T14:54:45.789Z"
   },
   {
    "duration": 6,
    "start_time": "2025-05-04T14:54:45.970Z"
   },
   {
    "duration": 9,
    "start_time": "2025-05-04T14:54:58.135Z"
   },
   {
    "duration": 145,
    "start_time": "2025-05-04T14:55:01.823Z"
   },
   {
    "duration": 5910,
    "start_time": "2025-05-04T15:01:00.767Z"
   },
   {
    "duration": 26,
    "start_time": "2025-05-04T15:01:06.680Z"
   },
   {
    "duration": 1134,
    "start_time": "2025-05-04T15:01:06.707Z"
   },
   {
    "duration": 279,
    "start_time": "2025-05-04T15:01:07.843Z"
   },
   {
    "duration": 18,
    "start_time": "2025-05-04T15:01:08.125Z"
   },
   {
    "duration": 2362,
    "start_time": "2025-05-04T15:01:08.145Z"
   },
   {
    "duration": 206,
    "start_time": "2025-05-04T15:01:10.509Z"
   },
   {
    "duration": 6461,
    "start_time": "2025-05-04T15:01:10.717Z"
   },
   {
    "duration": 5,
    "start_time": "2025-05-04T15:01:17.180Z"
   },
   {
    "duration": 396974,
    "start_time": "2025-05-04T15:01:17.187Z"
   },
   {
    "duration": 9,
    "start_time": "2025-05-04T15:07:54.162Z"
   },
   {
    "duration": 157,
    "start_time": "2025-05-04T15:07:54.172Z"
   },
   {
    "duration": 4,
    "start_time": "2025-05-04T15:07:54.331Z"
   },
   {
    "duration": 10765,
    "start_time": "2025-05-06T12:42:39.301Z"
   },
   {
    "duration": 29,
    "start_time": "2025-05-06T12:42:50.068Z"
   },
   {
    "duration": 1064,
    "start_time": "2025-05-06T12:42:50.098Z"
   },
   {
    "duration": 274,
    "start_time": "2025-05-06T12:42:51.164Z"
   },
   {
    "duration": 662,
    "start_time": "2025-05-06T12:43:55.650Z"
   },
   {
    "duration": 275,
    "start_time": "2025-05-06T12:44:04.014Z"
   },
   {
    "duration": 11085,
    "start_time": "2025-05-06T12:44:23.164Z"
   },
   {
    "duration": 23,
    "start_time": "2025-05-06T12:48:09.030Z"
   },
   {
    "duration": 11,
    "start_time": "2025-05-06T12:48:24.968Z"
   },
   {
    "duration": 199,
    "start_time": "2025-05-06T12:48:40.072Z"
   },
   {
    "duration": 14,
    "start_time": "2025-05-06T12:50:14.344Z"
   },
   {
    "duration": 13,
    "start_time": "2025-05-06T12:50:26.828Z"
   },
   {
    "duration": 14,
    "start_time": "2025-05-06T12:51:03.896Z"
   },
   {
    "duration": 14,
    "start_time": "2025-05-06T12:53:22.253Z"
   },
   {
    "duration": 2022,
    "start_time": "2025-05-06T12:55:15.082Z"
   },
   {
    "duration": 1955,
    "start_time": "2025-05-06T14:08:16.049Z"
   },
   {
    "duration": 104,
    "start_time": "2025-05-06T14:08:38.103Z"
   },
   {
    "duration": 4224,
    "start_time": "2025-05-06T14:09:29.840Z"
   },
   {
    "duration": 173,
    "start_time": "2025-05-06T14:09:47.944Z"
   },
   {
    "duration": 1263,
    "start_time": "2025-05-06T14:15:14.076Z"
   },
   {
    "duration": 116,
    "start_time": "2025-05-06T14:15:26.475Z"
   },
   {
    "duration": 19,
    "start_time": "2025-05-06T14:32:58.974Z"
   },
   {
    "duration": 39,
    "start_time": "2025-05-06T14:33:12.271Z"
   },
   {
    "duration": 118,
    "start_time": "2025-05-06T14:40:28.427Z"
   },
   {
    "duration": 128,
    "start_time": "2025-05-06T14:42:21.110Z"
   },
   {
    "duration": 5,
    "start_time": "2025-05-06T14:54:05.947Z"
   },
   {
    "duration": 4129,
    "start_time": "2025-05-06T14:54:25.571Z"
   },
   {
    "duration": 33,
    "start_time": "2025-05-06T15:02:34.602Z"
   },
   {
    "duration": 18,
    "start_time": "2025-05-06T15:02:49.539Z"
   },
   {
    "duration": 19,
    "start_time": "2025-05-06T15:04:00.498Z"
   },
   {
    "duration": 12,
    "start_time": "2025-05-06T15:05:06.066Z"
   },
   {
    "duration": 47,
    "start_time": "2025-05-06T15:05:12.256Z"
   },
   {
    "duration": 787,
    "start_time": "2025-05-06T15:07:02.058Z"
   },
   {
    "duration": 826,
    "start_time": "2025-05-06T15:07:11.893Z"
   },
   {
    "duration": 822,
    "start_time": "2025-05-06T15:07:49.888Z"
   },
   {
    "duration": 59,
    "start_time": "2025-05-06T15:08:27.428Z"
   },
   {
    "duration": 30,
    "start_time": "2025-05-06T15:08:57.837Z"
   },
   {
    "duration": 110,
    "start_time": "2025-05-06T15:11:22.908Z"
   },
   {
    "duration": 15,
    "start_time": "2025-05-06T15:11:44.494Z"
   },
   {
    "duration": 38,
    "start_time": "2025-05-06T15:12:23.768Z"
   },
   {
    "duration": 154,
    "start_time": "2025-05-06T15:13:18.133Z"
   },
   {
    "duration": 45,
    "start_time": "2025-05-06T15:13:21.462Z"
   },
   {
    "duration": 30746,
    "start_time": "2025-05-06T15:15:14.245Z"
   },
   {
    "duration": 31902,
    "start_time": "2025-05-06T15:16:06.865Z"
   },
   {
    "duration": 12,
    "start_time": "2025-05-06T15:17:06.209Z"
   },
   {
    "duration": 298,
    "start_time": "2025-05-06T15:17:15.990Z"
   },
   {
    "duration": 7108,
    "start_time": "2025-05-06T15:20:55.401Z"
   },
   {
    "duration": 23,
    "start_time": "2025-05-06T15:21:02.511Z"
   },
   {
    "duration": 1014,
    "start_time": "2025-05-06T15:21:02.536Z"
   },
   {
    "duration": 267,
    "start_time": "2025-05-06T15:21:03.552Z"
   },
   {
    "duration": 127,
    "start_time": "2025-05-06T15:21:03.821Z"
   },
   {
    "duration": 234,
    "start_time": "2025-05-06T15:21:03.949Z"
   },
   {
    "duration": 32055,
    "start_time": "2025-05-06T15:21:04.185Z"
   },
   {
    "duration": 5,
    "start_time": "2025-05-06T15:21:36.242Z"
   },
   {
    "duration": 120,
    "start_time": "2025-05-06T15:21:36.249Z"
   },
   {
    "duration": 153,
    "start_time": "2025-05-06T15:21:36.371Z"
   },
   {
    "duration": 0,
    "start_time": "2025-05-06T15:21:36.526Z"
   },
   {
    "duration": 0,
    "start_time": "2025-05-06T15:21:36.527Z"
   },
   {
    "duration": 0,
    "start_time": "2025-05-06T15:21:36.528Z"
   },
   {
    "duration": 0,
    "start_time": "2025-05-06T15:21:36.530Z"
   },
   {
    "duration": 0,
    "start_time": "2025-05-06T15:21:36.531Z"
   },
   {
    "duration": 0,
    "start_time": "2025-05-06T15:21:36.532Z"
   },
   {
    "duration": 4,
    "start_time": "2025-05-06T15:22:46.310Z"
   },
   {
    "duration": 4,
    "start_time": "2025-05-06T15:22:51.305Z"
   },
   {
    "duration": 4,
    "start_time": "2025-05-06T15:22:57.021Z"
   },
   {
    "duration": 4,
    "start_time": "2025-05-06T15:23:01.060Z"
   },
   {
    "duration": 4,
    "start_time": "2025-05-06T15:24:02.244Z"
   },
   {
    "duration": 23801,
    "start_time": "2025-05-06T15:28:23.701Z"
   },
   {
    "duration": 4,
    "start_time": "2025-05-06T15:30:20.460Z"
   },
   {
    "duration": 4,
    "start_time": "2025-05-06T15:30:24.045Z"
   },
   {
    "duration": 4,
    "start_time": "2025-05-06T15:30:27.962Z"
   },
   {
    "duration": 4,
    "start_time": "2025-05-06T15:30:31.627Z"
   },
   {
    "duration": 53062,
    "start_time": "2025-05-06T15:34:49.722Z"
   },
   {
    "duration": 366252,
    "start_time": "2025-05-06T15:35:50.151Z"
   },
   {
    "duration": 580,
    "start_time": "2025-05-06T15:42:04.071Z"
   },
   {
    "duration": 9,
    "start_time": "2025-05-06T15:42:08.373Z"
   },
   {
    "duration": 5030,
    "start_time": "2025-05-06T15:44:36.870Z"
   },
   {
    "duration": 1337,
    "start_time": "2025-05-06T15:59:40.173Z"
   },
   {
    "duration": 918,
    "start_time": "2025-05-06T16:02:49.393Z"
   },
   {
    "duration": 4440,
    "start_time": "2025-05-06T16:03:51.095Z"
   },
   {
    "duration": 910,
    "start_time": "2025-05-06T16:04:02.144Z"
   },
   {
    "duration": 4371,
    "start_time": "2025-05-06T16:05:10.382Z"
   },
   {
    "duration": 913,
    "start_time": "2025-05-06T16:05:49.866Z"
   },
   {
    "duration": 921,
    "start_time": "2025-05-06T16:06:08.921Z"
   },
   {
    "duration": 1306,
    "start_time": "2025-05-06T16:06:26.342Z"
   },
   {
    "duration": 1443,
    "start_time": "2025-05-06T16:06:47.830Z"
   },
   {
    "duration": 907,
    "start_time": "2025-05-06T16:10:50.018Z"
   },
   {
    "duration": 3889,
    "start_time": "2025-05-06T16:11:01.968Z"
   },
   {
    "duration": 110177,
    "start_time": "2025-05-06T16:11:18.607Z"
   },
   {
    "duration": 10,
    "start_time": "2025-05-06T16:13:31.928Z"
   },
   {
    "duration": 109384,
    "start_time": "2025-05-06T16:15:08.603Z"
   },
   {
    "duration": 9,
    "start_time": "2025-05-06T16:20:08.117Z"
   },
   {
    "duration": 10,
    "start_time": "2025-05-06T16:20:48.916Z"
   },
   {
    "duration": 93,
    "start_time": "2025-05-06T16:21:00.820Z"
   },
   {
    "duration": 105,
    "start_time": "2025-05-06T16:22:58.105Z"
   },
   {
    "duration": 148,
    "start_time": "2025-05-06T16:25:17.943Z"
   },
   {
    "duration": 6,
    "start_time": "2025-05-06T16:36:43.052Z"
   },
   {
    "duration": 12,
    "start_time": "2025-05-06T16:36:48.824Z"
   },
   {
    "duration": 43,
    "start_time": "2025-05-06T16:37:01.745Z"
   },
   {
    "duration": 10,
    "start_time": "2025-05-06T16:39:25.452Z"
   },
   {
    "duration": 6,
    "start_time": "2025-05-06T16:39:31.596Z"
   },
   {
    "duration": 13,
    "start_time": "2025-05-06T16:39:48.570Z"
   },
   {
    "duration": 4,
    "start_time": "2025-05-06T16:40:08.077Z"
   },
   {
    "duration": 6,
    "start_time": "2025-05-06T16:40:19.999Z"
   },
   {
    "duration": 11,
    "start_time": "2025-05-06T16:40:35.104Z"
   },
   {
    "duration": 6,
    "start_time": "2025-05-06T16:40:42.428Z"
   },
   {
    "duration": 5,
    "start_time": "2025-05-06T16:40:50.665Z"
   },
   {
    "duration": 7,
    "start_time": "2025-05-06T16:40:59.796Z"
   },
   {
    "duration": 5,
    "start_time": "2025-05-06T16:44:19.081Z"
   },
   {
    "duration": 41,
    "start_time": "2025-05-06T16:44:23.380Z"
   },
   {
    "duration": 5,
    "start_time": "2025-05-06T16:44:44.405Z"
   },
   {
    "duration": 35,
    "start_time": "2025-05-06T16:44:47.572Z"
   },
   {
    "duration": 6,
    "start_time": "2025-05-06T16:58:54.509Z"
   },
   {
    "duration": 35,
    "start_time": "2025-05-06T16:59:00.191Z"
   },
   {
    "duration": 12,
    "start_time": "2025-05-06T17:04:40.234Z"
   },
   {
    "duration": 4,
    "start_time": "2025-05-06T17:04:47.175Z"
   },
   {
    "duration": 7,
    "start_time": "2025-05-06T17:05:07.018Z"
   },
   {
    "duration": 39,
    "start_time": "2025-05-06T17:05:12.525Z"
   },
   {
    "duration": 5,
    "start_time": "2025-05-06T17:05:32.719Z"
   },
   {
    "duration": 40,
    "start_time": "2025-05-06T17:05:36.695Z"
   },
   {
    "duration": 6,
    "start_time": "2025-05-06T17:06:43.583Z"
   },
   {
    "duration": 37,
    "start_time": "2025-05-06T17:06:47.776Z"
   },
   {
    "duration": 6,
    "start_time": "2025-05-06T17:07:06.472Z"
   },
   {
    "duration": 37,
    "start_time": "2025-05-06T17:07:14.887Z"
   },
   {
    "duration": 161,
    "start_time": "2025-05-06T17:08:04.686Z"
   },
   {
    "duration": 5,
    "start_time": "2025-05-06T17:08:23.353Z"
   },
   {
    "duration": 37,
    "start_time": "2025-05-06T17:08:26.410Z"
   },
   {
    "duration": 5,
    "start_time": "2025-05-06T17:10:20.620Z"
   },
   {
    "duration": 38,
    "start_time": "2025-05-06T17:10:27.384Z"
   },
   {
    "duration": 6,
    "start_time": "2025-05-06T17:10:39.789Z"
   },
   {
    "duration": 33,
    "start_time": "2025-05-06T17:10:42.301Z"
   },
   {
    "duration": 5,
    "start_time": "2025-05-06T17:10:56.247Z"
   },
   {
    "duration": 35,
    "start_time": "2025-05-06T17:10:58.102Z"
   },
   {
    "duration": 5,
    "start_time": "2025-05-06T17:11:24.394Z"
   },
   {
    "duration": 38,
    "start_time": "2025-05-06T17:11:27.781Z"
   },
   {
    "duration": 5,
    "start_time": "2025-05-06T17:12:09.618Z"
   },
   {
    "duration": 37,
    "start_time": "2025-05-06T17:12:11.577Z"
   },
   {
    "duration": 1345,
    "start_time": "2025-05-06T17:13:24.428Z"
   },
   {
    "duration": 39,
    "start_time": "2025-05-06T17:20:40.982Z"
   },
   {
    "duration": 2938,
    "start_time": "2025-05-06T18:00:39.429Z"
   },
   {
    "duration": 0,
    "start_time": "2025-05-06T18:00:42.369Z"
   },
   {
    "duration": 0,
    "start_time": "2025-05-06T18:00:42.370Z"
   },
   {
    "duration": 0,
    "start_time": "2025-05-06T18:00:42.372Z"
   },
   {
    "duration": 0,
    "start_time": "2025-05-06T18:00:42.373Z"
   },
   {
    "duration": 0,
    "start_time": "2025-05-06T18:00:42.374Z"
   },
   {
    "duration": 0,
    "start_time": "2025-05-06T18:00:42.375Z"
   },
   {
    "duration": 0,
    "start_time": "2025-05-06T18:00:42.376Z"
   },
   {
    "duration": 0,
    "start_time": "2025-05-06T18:00:42.440Z"
   },
   {
    "duration": 0,
    "start_time": "2025-05-06T18:00:42.441Z"
   },
   {
    "duration": 0,
    "start_time": "2025-05-06T18:00:42.442Z"
   },
   {
    "duration": 0,
    "start_time": "2025-05-06T18:00:42.444Z"
   },
   {
    "duration": 0,
    "start_time": "2025-05-06T18:00:42.445Z"
   },
   {
    "duration": 0,
    "start_time": "2025-05-06T18:00:42.446Z"
   },
   {
    "duration": 0,
    "start_time": "2025-05-06T18:00:42.448Z"
   },
   {
    "duration": 0,
    "start_time": "2025-05-06T18:00:42.450Z"
   },
   {
    "duration": 8500,
    "start_time": "2025-05-06T18:00:45.204Z"
   },
   {
    "duration": 21,
    "start_time": "2025-05-06T18:00:53.707Z"
   },
   {
    "duration": 909,
    "start_time": "2025-05-06T18:00:53.730Z"
   },
   {
    "duration": 3,
    "start_time": "2025-05-06T18:00:55.309Z"
   },
   {
    "duration": 7,
    "start_time": "2025-05-06T18:00:56.621Z"
   },
   {
    "duration": 93,
    "start_time": "2025-05-06T18:00:57.363Z"
   },
   {
    "duration": 114,
    "start_time": "2025-05-06T18:00:57.609Z"
   },
   {
    "duration": 6021,
    "start_time": "2025-05-06T18:00:57.957Z"
   },
   {
    "duration": 9,
    "start_time": "2025-05-06T18:01:03.980Z"
   },
   {
    "duration": 30,
    "start_time": "2025-05-06T18:01:03.990Z"
   },
   {
    "duration": 20,
    "start_time": "2025-05-06T18:01:04.022Z"
   },
   {
    "duration": 189,
    "start_time": "2025-05-06T18:01:04.044Z"
   },
   {
    "duration": 3,
    "start_time": "2025-05-06T18:01:04.235Z"
   },
   {
    "duration": 26,
    "start_time": "2025-05-06T18:01:04.239Z"
   },
   {
    "duration": 94,
    "start_time": "2025-05-06T18:01:04.267Z"
   },
   {
    "duration": 13,
    "start_time": "2025-05-06T18:01:34.975Z"
   },
   {
    "duration": 5,
    "start_time": "2025-05-06T18:01:44.419Z"
   },
   {
    "duration": 29,
    "start_time": "2025-05-06T18:01:45.056Z"
   },
   {
    "duration": 6,
    "start_time": "2025-05-06T18:01:53.852Z"
   },
   {
    "duration": 27,
    "start_time": "2025-05-06T18:01:54.513Z"
   },
   {
    "duration": 5,
    "start_time": "2025-05-06T18:01:58.715Z"
   },
   {
    "duration": 27,
    "start_time": "2025-05-06T18:01:59.197Z"
   },
   {
    "duration": 5,
    "start_time": "2025-05-06T18:02:54.424Z"
   },
   {
    "duration": 28,
    "start_time": "2025-05-06T18:02:54.791Z"
   },
   {
    "duration": 6,
    "start_time": "2025-05-06T18:03:03.783Z"
   },
   {
    "duration": 4,
    "start_time": "2025-05-06T18:03:15.647Z"
   },
   {
    "duration": 27,
    "start_time": "2025-05-06T18:03:16.322Z"
   },
   {
    "duration": 6,
    "start_time": "2025-05-06T18:03:23.112Z"
   },
   {
    "duration": 29,
    "start_time": "2025-05-06T18:03:23.704Z"
   },
   {
    "duration": 5,
    "start_time": "2025-05-06T18:03:28.136Z"
   },
   {
    "duration": 32,
    "start_time": "2025-05-06T18:03:28.726Z"
   },
   {
    "duration": 30,
    "start_time": "2025-05-06T18:03:37.907Z"
   },
   {
    "duration": 5,
    "start_time": "2025-05-06T18:04:00.297Z"
   },
   {
    "duration": 53,
    "start_time": "2025-05-06T18:04:00.892Z"
   },
   {
    "duration": 5,
    "start_time": "2025-05-06T18:05:07.249Z"
   },
   {
    "duration": 34,
    "start_time": "2025-05-06T18:05:07.912Z"
   },
   {
    "duration": 6,
    "start_time": "2025-05-06T18:05:15.799Z"
   },
   {
    "duration": 31,
    "start_time": "2025-05-06T18:05:17.421Z"
   },
   {
    "duration": 5,
    "start_time": "2025-05-06T18:05:24.094Z"
   },
   {
    "duration": 29,
    "start_time": "2025-05-06T18:05:24.628Z"
   },
   {
    "duration": 4,
    "start_time": "2025-05-06T18:05:30.057Z"
   },
   {
    "duration": 5,
    "start_time": "2025-05-06T18:07:13.091Z"
   },
   {
    "duration": 602,
    "start_time": "2025-05-06T18:07:13.762Z"
   },
   {
    "duration": 5,
    "start_time": "2025-05-06T18:08:26.787Z"
   },
   {
    "duration": 28,
    "start_time": "2025-05-06T18:08:27.332Z"
   },
   {
    "duration": 56,
    "start_time": "2025-05-07T11:16:42.730Z"
   },
   {
    "duration": 11475,
    "start_time": "2025-05-07T11:16:55.315Z"
   },
   {
    "duration": 24,
    "start_time": "2025-05-07T11:17:06.793Z"
   },
   {
    "duration": 962,
    "start_time": "2025-05-07T11:17:06.819Z"
   },
   {
    "duration": 3,
    "start_time": "2025-05-07T11:17:07.783Z"
   },
   {
    "duration": 61,
    "start_time": "2025-05-07T11:17:07.805Z"
   },
   {
    "duration": 98,
    "start_time": "2025-05-07T11:17:07.868Z"
   },
   {
    "duration": 203,
    "start_time": "2025-05-07T11:17:07.967Z"
   },
   {
    "duration": 5741,
    "start_time": "2025-05-07T11:17:08.172Z"
   },
   {
    "duration": 8,
    "start_time": "2025-05-07T11:17:13.916Z"
   },
   {
    "duration": 22,
    "start_time": "2025-05-07T11:17:13.925Z"
   },
   {
    "duration": 17,
    "start_time": "2025-05-07T11:17:13.949Z"
   },
   {
    "duration": 104,
    "start_time": "2025-05-07T11:17:13.967Z"
   },
   {
    "duration": 3,
    "start_time": "2025-05-07T11:17:14.073Z"
   },
   {
    "duration": 9,
    "start_time": "2025-05-07T11:17:14.079Z"
   },
   {
    "duration": 647,
    "start_time": "2025-05-07T11:17:14.089Z"
   },
   {
    "duration": 16,
    "start_time": "2025-05-07T11:17:14.737Z"
   },
   {
    "duration": 155,
    "start_time": "2025-05-07T11:17:14.755Z"
   },
   {
    "duration": 11,
    "start_time": "2025-05-07T11:18:09.085Z"
   },
   {
    "duration": 872,
    "start_time": "2025-05-07T11:23:11.173Z"
   },
   {
    "duration": 13,
    "start_time": "2025-05-07T12:04:24.881Z"
   },
   {
    "duration": 1306,
    "start_time": "2025-05-07T12:04:44.009Z"
   },
   {
    "duration": 1207,
    "start_time": "2025-05-07T12:05:51.515Z"
   },
   {
    "duration": 6,
    "start_time": "2025-05-07T12:56:48.725Z"
   },
   {
    "duration": 4,
    "start_time": "2025-05-07T12:56:55.189Z"
   },
   {
    "duration": 6,
    "start_time": "2025-05-07T12:57:00.479Z"
   },
   {
    "duration": 6,
    "start_time": "2025-05-07T12:57:20.666Z"
   },
   {
    "duration": 12,
    "start_time": "2025-05-07T12:58:11.671Z"
   },
   {
    "duration": 11,
    "start_time": "2025-05-07T12:58:42.157Z"
   },
   {
    "duration": 11,
    "start_time": "2025-05-07T12:58:52.859Z"
   },
   {
    "duration": 12,
    "start_time": "2025-05-07T12:58:56.455Z"
   },
   {
    "duration": 13,
    "start_time": "2025-05-07T13:00:02.466Z"
   },
   {
    "duration": 13,
    "start_time": "2025-05-07T13:00:28.206Z"
   },
   {
    "duration": 1278,
    "start_time": "2025-05-07T13:03:02.577Z"
   },
   {
    "duration": 10,
    "start_time": "2025-05-07T13:03:14.529Z"
   },
   {
    "duration": 5,
    "start_time": "2025-05-07T13:03:27.953Z"
   },
   {
    "duration": 7,
    "start_time": "2025-05-07T13:03:46.315Z"
   },
   {
    "duration": 6125,
    "start_time": "2025-05-07T13:04:10.974Z"
   },
   {
    "duration": 24,
    "start_time": "2025-05-07T13:04:17.104Z"
   },
   {
    "duration": 942,
    "start_time": "2025-05-07T13:04:17.130Z"
   },
   {
    "duration": 2,
    "start_time": "2025-05-07T13:04:18.075Z"
   },
   {
    "duration": 21,
    "start_time": "2025-05-07T13:04:18.079Z"
   },
   {
    "duration": 107,
    "start_time": "2025-05-07T13:04:18.102Z"
   },
   {
    "duration": 3,
    "start_time": "2025-05-07T13:04:18.210Z"
   },
   {
    "duration": 410,
    "start_time": "2025-05-07T13:04:18.214Z"
   },
   {
    "duration": 0,
    "start_time": "2025-05-07T13:04:18.627Z"
   },
   {
    "duration": 0,
    "start_time": "2025-05-07T13:04:18.628Z"
   },
   {
    "duration": 0,
    "start_time": "2025-05-07T13:04:18.630Z"
   },
   {
    "duration": 0,
    "start_time": "2025-05-07T13:04:18.631Z"
   },
   {
    "duration": 0,
    "start_time": "2025-05-07T13:04:18.633Z"
   },
   {
    "duration": 0,
    "start_time": "2025-05-07T13:04:18.635Z"
   },
   {
    "duration": 0,
    "start_time": "2025-05-07T13:04:18.636Z"
   },
   {
    "duration": 0,
    "start_time": "2025-05-07T13:04:18.638Z"
   },
   {
    "duration": 0,
    "start_time": "2025-05-07T13:04:18.640Z"
   },
   {
    "duration": 0,
    "start_time": "2025-05-07T13:04:18.641Z"
   },
   {
    "duration": 0,
    "start_time": "2025-05-07T13:04:18.642Z"
   },
   {
    "duration": 5975,
    "start_time": "2025-05-07T13:05:20.966Z"
   },
   {
    "duration": 25,
    "start_time": "2025-05-07T13:05:26.944Z"
   },
   {
    "duration": 972,
    "start_time": "2025-05-07T13:05:26.971Z"
   },
   {
    "duration": 3,
    "start_time": "2025-05-07T13:05:27.945Z"
   },
   {
    "duration": 32,
    "start_time": "2025-05-07T13:05:27.950Z"
   },
   {
    "duration": 126,
    "start_time": "2025-05-07T13:05:27.984Z"
   },
   {
    "duration": 2,
    "start_time": "2025-05-07T13:05:28.112Z"
   },
   {
    "duration": 7167,
    "start_time": "2025-05-07T13:05:28.116Z"
   },
   {
    "duration": 8,
    "start_time": "2025-05-07T13:05:35.285Z"
   },
   {
    "duration": 13,
    "start_time": "2025-05-07T13:05:35.295Z"
   },
   {
    "duration": 145,
    "start_time": "2025-05-07T13:05:35.309Z"
   },
   {
    "duration": 0,
    "start_time": "2025-05-07T13:05:35.455Z"
   },
   {
    "duration": 0,
    "start_time": "2025-05-07T13:05:35.457Z"
   },
   {
    "duration": 0,
    "start_time": "2025-05-07T13:05:35.458Z"
   },
   {
    "duration": 0,
    "start_time": "2025-05-07T13:05:35.459Z"
   },
   {
    "duration": 0,
    "start_time": "2025-05-07T13:05:35.460Z"
   },
   {
    "duration": 0,
    "start_time": "2025-05-07T13:05:35.461Z"
   },
   {
    "duration": 0,
    "start_time": "2025-05-07T13:05:35.462Z"
   },
   {
    "duration": 0,
    "start_time": "2025-05-07T13:05:35.464Z"
   },
   {
    "duration": 6770,
    "start_time": "2025-05-07T13:05:56.603Z"
   },
   {
    "duration": 33,
    "start_time": "2025-05-07T13:06:03.376Z"
   },
   {
    "duration": 999,
    "start_time": "2025-05-07T13:06:03.411Z"
   },
   {
    "duration": 3,
    "start_time": "2025-05-07T13:06:04.413Z"
   },
   {
    "duration": 33,
    "start_time": "2025-05-07T13:06:04.418Z"
   },
   {
    "duration": 115,
    "start_time": "2025-05-07T13:06:04.453Z"
   },
   {
    "duration": 3,
    "start_time": "2025-05-07T13:06:04.571Z"
   },
   {
    "duration": 7133,
    "start_time": "2025-05-07T13:06:04.575Z"
   },
   {
    "duration": 8,
    "start_time": "2025-05-07T13:06:11.710Z"
   },
   {
    "duration": 118,
    "start_time": "2025-05-07T13:06:11.720Z"
   },
   {
    "duration": 17,
    "start_time": "2025-05-07T13:06:11.840Z"
   },
   {
    "duration": 136,
    "start_time": "2025-05-07T13:06:11.859Z"
   },
   {
    "duration": 0,
    "start_time": "2025-05-07T13:06:11.997Z"
   },
   {
    "duration": 0,
    "start_time": "2025-05-07T13:06:11.999Z"
   },
   {
    "duration": 0,
    "start_time": "2025-05-07T13:06:12.000Z"
   },
   {
    "duration": 0,
    "start_time": "2025-05-07T13:06:12.005Z"
   },
   {
    "duration": 0,
    "start_time": "2025-05-07T13:06:12.006Z"
   },
   {
    "duration": 0,
    "start_time": "2025-05-07T13:06:12.007Z"
   },
   {
    "duration": 5,
    "start_time": "2025-05-07T13:06:25.231Z"
   },
   {
    "duration": 5,
    "start_time": "2025-05-07T13:06:38.617Z"
   },
   {
    "duration": 5,
    "start_time": "2025-05-07T13:07:16.008Z"
   },
   {
    "duration": 5,
    "start_time": "2025-05-07T13:07:21.813Z"
   },
   {
    "duration": 6,
    "start_time": "2025-05-07T13:07:35.136Z"
   },
   {
    "duration": 5,
    "start_time": "2025-05-07T13:07:39.149Z"
   },
   {
    "duration": 1642,
    "start_time": "2025-05-07T13:07:43.267Z"
   },
   {
    "duration": 15,
    "start_time": "2025-05-07T13:07:55.233Z"
   },
   {
    "duration": 17,
    "start_time": "2025-05-07T13:07:58.452Z"
   },
   {
    "duration": 11,
    "start_time": "2025-05-07T13:08:58.113Z"
   },
   {
    "duration": 627,
    "start_time": "2025-05-07T13:09:04.515Z"
   },
   {
    "duration": 16,
    "start_time": "2025-05-07T13:09:12.286Z"
   },
   {
    "duration": 16,
    "start_time": "2025-05-07T13:09:15.033Z"
   },
   {
    "duration": 5946,
    "start_time": "2025-05-07T13:09:33.566Z"
   },
   {
    "duration": 25,
    "start_time": "2025-05-07T13:09:39.514Z"
   },
   {
    "duration": 1005,
    "start_time": "2025-05-07T13:09:39.541Z"
   },
   {
    "duration": 3,
    "start_time": "2025-05-07T13:09:40.549Z"
   },
   {
    "duration": 29,
    "start_time": "2025-05-07T13:09:40.554Z"
   },
   {
    "duration": 109,
    "start_time": "2025-05-07T13:09:40.585Z"
   },
   {
    "duration": 9,
    "start_time": "2025-05-07T13:09:40.696Z"
   },
   {
    "duration": 7049,
    "start_time": "2025-05-07T13:09:40.707Z"
   },
   {
    "duration": 8,
    "start_time": "2025-05-07T13:09:47.757Z"
   },
   {
    "duration": 3,
    "start_time": "2025-05-07T13:09:47.768Z"
   },
   {
    "duration": 29,
    "start_time": "2025-05-07T13:09:47.772Z"
   },
   {
    "duration": 5,
    "start_time": "2025-05-07T13:09:47.806Z"
   },
   {
    "duration": 6,
    "start_time": "2025-05-07T13:09:47.812Z"
   },
   {
    "duration": 5,
    "start_time": "2025-05-07T13:09:47.819Z"
   },
   {
    "duration": 639,
    "start_time": "2025-05-07T13:09:47.826Z"
   },
   {
    "duration": 16,
    "start_time": "2025-05-07T13:09:48.467Z"
   },
   {
    "duration": 32,
    "start_time": "2025-05-07T13:09:48.484Z"
   },
   {
    "duration": 12,
    "start_time": "2025-05-07T13:11:23.765Z"
   },
   {
    "duration": 5,
    "start_time": "2025-05-07T13:11:26.635Z"
   },
   {
    "duration": 958,
    "start_time": "2025-05-07T13:11:29.062Z"
   },
   {
    "duration": 15,
    "start_time": "2025-05-07T13:11:37.043Z"
   },
   {
    "duration": 17,
    "start_time": "2025-05-07T13:11:39.148Z"
   },
   {
    "duration": 5,
    "start_time": "2025-05-07T13:12:47.117Z"
   },
   {
    "duration": 155,
    "start_time": "2025-05-07T13:12:49.417Z"
   },
   {
    "duration": 6,
    "start_time": "2025-05-07T13:13:37.254Z"
   },
   {
    "duration": 10029,
    "start_time": "2025-05-07T13:13:39.015Z"
   },
   {
    "duration": 15,
    "start_time": "2025-05-07T13:13:53.841Z"
   },
   {
    "duration": 17,
    "start_time": "2025-05-07T13:13:57.845Z"
   },
   {
    "duration": 6270,
    "start_time": "2025-05-07T13:14:22.971Z"
   },
   {
    "duration": 26,
    "start_time": "2025-05-07T13:14:29.244Z"
   },
   {
    "duration": 1069,
    "start_time": "2025-05-07T13:14:29.273Z"
   },
   {
    "duration": 4,
    "start_time": "2025-05-07T13:14:30.344Z"
   },
   {
    "duration": 102,
    "start_time": "2025-05-07T13:14:30.350Z"
   },
   {
    "duration": 140,
    "start_time": "2025-05-07T13:14:30.453Z"
   },
   {
    "duration": 5,
    "start_time": "2025-05-07T13:14:30.596Z"
   },
   {
    "duration": 7854,
    "start_time": "2025-05-07T13:14:30.605Z"
   },
   {
    "duration": 8,
    "start_time": "2025-05-07T13:14:38.461Z"
   },
   {
    "duration": 14,
    "start_time": "2025-05-07T13:14:38.472Z"
   },
   {
    "duration": 25,
    "start_time": "2025-05-07T13:14:38.488Z"
   },
   {
    "duration": 6,
    "start_time": "2025-05-07T13:14:38.514Z"
   },
   {
    "duration": 30,
    "start_time": "2025-05-07T13:14:38.522Z"
   },
   {
    "duration": 38,
    "start_time": "2025-05-07T13:14:38.554Z"
   },
   {
    "duration": 9796,
    "start_time": "2025-05-07T13:14:38.593Z"
   },
   {
    "duration": 19,
    "start_time": "2025-05-07T13:14:48.391Z"
   },
   {
    "duration": 231,
    "start_time": "2025-05-07T13:14:48.412Z"
   },
   {
    "duration": 5102,
    "start_time": "2025-05-07T13:22:30.840Z"
   },
   {
    "duration": 14,
    "start_time": "2025-05-07T13:23:07.525Z"
   },
   {
    "duration": 12509,
    "start_time": "2025-05-07T13:23:29.820Z"
   },
   {
    "duration": 6767,
    "start_time": "2025-05-07T13:29:20.890Z"
   },
   {
    "duration": 6753,
    "start_time": "2025-05-07T13:31:18.631Z"
   },
   {
    "duration": 6565,
    "start_time": "2025-05-07T13:32:58.328Z"
   },
   {
    "duration": 18889,
    "start_time": "2025-05-07T13:33:21.142Z"
   },
   {
    "duration": 4844,
    "start_time": "2025-05-07T13:39:25.718Z"
   },
   {
    "duration": 92,
    "start_time": "2025-05-07T13:40:13.938Z"
   },
   {
    "duration": 103,
    "start_time": "2025-05-07T13:40:18.349Z"
   },
   {
    "duration": 6731,
    "start_time": "2025-05-07T13:40:41.359Z"
   },
   {
    "duration": 6705,
    "start_time": "2025-05-07T13:41:38.329Z"
   },
   {
    "duration": 8693,
    "start_time": "2025-05-07T13:42:25.846Z"
   },
   {
    "duration": 3,
    "start_time": "2025-05-07T13:42:34.541Z"
   },
   {
    "duration": 1110,
    "start_time": "2025-05-07T13:42:34.545Z"
   },
   {
    "duration": 3,
    "start_time": "2025-05-07T13:42:35.657Z"
   },
   {
    "duration": 63,
    "start_time": "2025-05-07T13:42:35.661Z"
   },
   {
    "duration": 143,
    "start_time": "2025-05-07T13:42:35.727Z"
   },
   {
    "duration": 2,
    "start_time": "2025-05-07T13:42:35.872Z"
   },
   {
    "duration": 7388,
    "start_time": "2025-05-07T13:42:35.876Z"
   },
   {
    "duration": 9,
    "start_time": "2025-05-07T13:42:43.266Z"
   },
   {
    "duration": 25,
    "start_time": "2025-05-07T13:42:43.278Z"
   },
   {
    "duration": 164,
    "start_time": "2025-05-07T13:42:43.306Z"
   },
   {
    "duration": 0,
    "start_time": "2025-05-07T13:42:43.472Z"
   },
   {
    "duration": 0,
    "start_time": "2025-05-07T13:42:43.473Z"
   },
   {
    "duration": 0,
    "start_time": "2025-05-07T13:42:43.475Z"
   },
   {
    "duration": 0,
    "start_time": "2025-05-07T13:42:43.476Z"
   },
   {
    "duration": 0,
    "start_time": "2025-05-07T13:42:43.478Z"
   },
   {
    "duration": 0,
    "start_time": "2025-05-07T13:42:43.480Z"
   },
   {
    "duration": 28,
    "start_time": "2025-05-07T13:44:13.495Z"
   },
   {
    "duration": 6,
    "start_time": "2025-05-07T13:48:50.961Z"
   },
   {
    "duration": 13,
    "start_time": "2025-05-07T13:49:28.863Z"
   },
   {
    "duration": 8399,
    "start_time": "2025-05-07T13:49:57.106Z"
   },
   {
    "duration": 5,
    "start_time": "2025-05-07T13:50:05.509Z"
   },
   {
    "duration": 1094,
    "start_time": "2025-05-07T13:50:05.517Z"
   },
   {
    "duration": 4,
    "start_time": "2025-05-07T13:50:06.613Z"
   },
   {
    "duration": 50,
    "start_time": "2025-05-07T13:50:06.619Z"
   },
   {
    "duration": 151,
    "start_time": "2025-05-07T13:50:06.671Z"
   },
   {
    "duration": 3,
    "start_time": "2025-05-07T13:50:06.825Z"
   },
   {
    "duration": 7860,
    "start_time": "2025-05-07T13:50:06.831Z"
   },
   {
    "duration": 15,
    "start_time": "2025-05-07T13:50:14.692Z"
   },
   {
    "duration": 15,
    "start_time": "2025-05-07T13:50:14.710Z"
   },
   {
    "duration": 16,
    "start_time": "2025-05-07T13:50:14.728Z"
   },
   {
    "duration": 6,
    "start_time": "2025-05-07T13:50:14.746Z"
   },
   {
    "duration": 2,
    "start_time": "2025-05-07T13:50:14.754Z"
   },
   {
    "duration": 6,
    "start_time": "2025-05-07T13:50:14.758Z"
   },
   {
    "duration": 212,
    "start_time": "2025-05-07T13:50:14.765Z"
   },
   {
    "duration": 0,
    "start_time": "2025-05-07T13:50:14.980Z"
   },
   {
    "duration": 0,
    "start_time": "2025-05-07T13:50:14.981Z"
   },
   {
    "duration": 5,
    "start_time": "2025-05-07T13:53:59.894Z"
   },
   {
    "duration": 37,
    "start_time": "2025-05-07T13:54:02.350Z"
   },
   {
    "duration": 5,
    "start_time": "2025-05-07T13:56:20.187Z"
   },
   {
    "duration": 14,
    "start_time": "2025-05-07T13:56:22.687Z"
   },
   {
    "duration": 14,
    "start_time": "2025-05-07T13:58:20.733Z"
   },
   {
    "duration": 7,
    "start_time": "2025-05-07T13:58:45.857Z"
   },
   {
    "duration": 13,
    "start_time": "2025-05-07T13:58:48.531Z"
   },
   {
    "duration": 6,
    "start_time": "2025-05-07T13:59:12.585Z"
   },
   {
    "duration": 51,
    "start_time": "2025-05-07T13:59:14.696Z"
   },
   {
    "duration": 99,
    "start_time": "2025-05-07T14:07:27.993Z"
   },
   {
    "duration": 15,
    "start_time": "2025-05-07T14:08:01.953Z"
   },
   {
    "duration": 9,
    "start_time": "2025-05-07T14:08:44.397Z"
   },
   {
    "duration": 41,
    "start_time": "2025-05-07T14:08:46.558Z"
   },
   {
    "duration": 6307,
    "start_time": "2025-05-07T14:46:55.840Z"
   },
   {
    "duration": 8,
    "start_time": "2025-05-07T14:50:16.518Z"
   },
   {
    "duration": 49,
    "start_time": "2025-05-07T14:50:18.807Z"
   },
   {
    "duration": 5,
    "start_time": "2025-05-07T14:50:47.668Z"
   },
   {
    "duration": 32,
    "start_time": "2025-05-07T14:50:49.900Z"
   },
   {
    "duration": 5,
    "start_time": "2025-05-07T14:51:28.827Z"
   },
   {
    "duration": 33,
    "start_time": "2025-05-07T14:51:30.644Z"
   },
   {
    "duration": 21,
    "start_time": "2025-05-07T14:52:40.775Z"
   },
   {
    "duration": 6,
    "start_time": "2025-05-07T14:53:07.969Z"
   },
   {
    "duration": 25270,
    "start_time": "2025-05-07T14:53:09.875Z"
   },
   {
    "duration": 24,
    "start_time": "2025-05-07T14:53:49.527Z"
   },
   {
    "duration": 20,
    "start_time": "2025-05-07T14:53:51.908Z"
   },
   {
    "duration": 8011,
    "start_time": "2025-05-07T14:54:18.669Z"
   },
   {
    "duration": 3,
    "start_time": "2025-05-07T14:54:26.682Z"
   },
   {
    "duration": 990,
    "start_time": "2025-05-07T14:54:26.687Z"
   },
   {
    "duration": 3,
    "start_time": "2025-05-07T14:54:27.679Z"
   },
   {
    "duration": 23,
    "start_time": "2025-05-07T14:54:27.683Z"
   },
   {
    "duration": 106,
    "start_time": "2025-05-07T14:54:27.708Z"
   },
   {
    "duration": 2,
    "start_time": "2025-05-07T14:54:27.815Z"
   },
   {
    "duration": 7051,
    "start_time": "2025-05-07T14:54:27.819Z"
   },
   {
    "duration": 9,
    "start_time": "2025-05-07T14:54:34.871Z"
   },
   {
    "duration": 13,
    "start_time": "2025-05-07T14:54:34.883Z"
   },
   {
    "duration": 182,
    "start_time": "2025-05-07T14:54:34.898Z"
   },
   {
    "duration": 0,
    "start_time": "2025-05-07T14:54:35.081Z"
   },
   {
    "duration": 0,
    "start_time": "2025-05-07T14:54:35.082Z"
   },
   {
    "duration": 0,
    "start_time": "2025-05-07T14:54:35.083Z"
   },
   {
    "duration": 0,
    "start_time": "2025-05-07T14:54:35.084Z"
   },
   {
    "duration": 0,
    "start_time": "2025-05-07T14:54:35.085Z"
   },
   {
    "duration": 0,
    "start_time": "2025-05-07T14:54:35.086Z"
   },
   {
    "duration": 17,
    "start_time": "2025-05-07T15:04:33.403Z"
   },
   {
    "duration": 10,
    "start_time": "2025-05-07T15:05:13.437Z"
   },
   {
    "duration": 10,
    "start_time": "2025-05-07T15:06:01.222Z"
   },
   {
    "duration": 15,
    "start_time": "2025-05-07T15:06:18.164Z"
   },
   {
    "duration": 3,
    "start_time": "2025-05-07T15:06:59.864Z"
   },
   {
    "duration": 98,
    "start_time": "2025-05-07T15:07:03.305Z"
   },
   {
    "duration": 3303,
    "start_time": "2025-05-07T15:07:15.310Z"
   },
   {
    "duration": 13,
    "start_time": "2025-05-07T15:09:39.634Z"
   },
   {
    "duration": 14,
    "start_time": "2025-05-07T15:09:42.809Z"
   },
   {
    "duration": 8004,
    "start_time": "2025-05-07T15:10:02.702Z"
   },
   {
    "duration": 3,
    "start_time": "2025-05-07T15:10:10.708Z"
   },
   {
    "duration": 1075,
    "start_time": "2025-05-07T15:10:10.713Z"
   },
   {
    "duration": 3,
    "start_time": "2025-05-07T15:10:11.789Z"
   },
   {
    "duration": 39,
    "start_time": "2025-05-07T15:10:11.794Z"
   },
   {
    "duration": 100,
    "start_time": "2025-05-07T15:10:11.834Z"
   },
   {
    "duration": 34,
    "start_time": "2025-05-07T15:10:11.936Z"
   },
   {
    "duration": 35563,
    "start_time": "2025-05-07T15:10:11.972Z"
   },
   {
    "duration": 8,
    "start_time": "2025-05-07T15:10:47.536Z"
   },
   {
    "duration": 40,
    "start_time": "2025-05-07T15:10:47.546Z"
   },
   {
    "duration": 41,
    "start_time": "2025-05-07T15:10:47.588Z"
   },
   {
    "duration": 15,
    "start_time": "2025-05-07T15:10:47.631Z"
   },
   {
    "duration": 34,
    "start_time": "2025-05-07T15:10:47.647Z"
   },
   {
    "duration": 23,
    "start_time": "2025-05-07T15:10:47.684Z"
   },
   {
    "duration": 27,
    "start_time": "2025-05-07T15:10:47.709Z"
   },
   {
    "duration": 61825,
    "start_time": "2025-05-07T15:10:47.738Z"
   },
   {
    "duration": 15,
    "start_time": "2025-05-07T15:11:49.566Z"
   },
   {
    "duration": 121,
    "start_time": "2025-05-07T15:11:49.584Z"
   },
   {
    "duration": 7994,
    "start_time": "2025-05-07T15:13:10.810Z"
   },
   {
    "duration": 6,
    "start_time": "2025-05-07T15:13:18.806Z"
   },
   {
    "duration": 1032,
    "start_time": "2025-05-07T15:13:18.813Z"
   },
   {
    "duration": 3,
    "start_time": "2025-05-07T15:13:19.847Z"
   },
   {
    "duration": 100,
    "start_time": "2025-05-07T15:13:19.852Z"
   },
   {
    "duration": 101,
    "start_time": "2025-05-07T15:13:19.953Z"
   },
   {
    "duration": 2,
    "start_time": "2025-05-07T15:13:20.056Z"
   },
   {
    "duration": 159177,
    "start_time": "2025-05-07T15:13:20.060Z"
   },
   {
    "duration": 10,
    "start_time": "2025-05-07T15:15:59.239Z"
   },
   {
    "duration": 22,
    "start_time": "2025-05-07T15:15:59.251Z"
   },
   {
    "duration": 41,
    "start_time": "2025-05-07T15:15:59.276Z"
   },
   {
    "duration": 14,
    "start_time": "2025-05-07T15:15:59.319Z"
   },
   {
    "duration": 50,
    "start_time": "2025-05-07T15:15:59.334Z"
   },
   {
    "duration": 3,
    "start_time": "2025-05-07T15:15:59.387Z"
   },
   {
    "duration": 7,
    "start_time": "2025-05-07T15:15:59.391Z"
   },
   {
    "duration": 353832,
    "start_time": "2025-05-07T15:15:59.400Z"
   },
   {
    "duration": 15,
    "start_time": "2025-05-07T15:21:53.233Z"
   },
   {
    "duration": 528,
    "start_time": "2025-05-07T15:21:53.250Z"
   },
   {
    "duration": 5,
    "start_time": "2025-05-07T15:22:52.354Z"
   },
   {
    "duration": 168025,
    "start_time": "2025-05-07T15:22:59.828Z"
   },
   {
    "duration": 15,
    "start_time": "2025-05-07T15:25:47.855Z"
   },
   {
    "duration": 454,
    "start_time": "2025-05-07T15:25:58.222Z"
   },
   {
    "duration": 157,
    "start_time": "2025-05-07T15:26:42.583Z"
   },
   {
    "duration": 140290,
    "start_time": "2025-05-07T15:27:01.427Z"
   },
   {
    "duration": 6,
    "start_time": "2025-05-07T15:29:21.719Z"
   },
   {
    "duration": 29,
    "start_time": "2025-05-07T15:36:35.636Z"
   },
   {
    "duration": 28,
    "start_time": "2025-05-07T15:36:47.479Z"
   },
   {
    "duration": 6,
    "start_time": "2025-05-07T15:36:55.669Z"
   },
   {
    "duration": 5,
    "start_time": "2025-05-07T15:37:10.640Z"
   },
   {
    "duration": 89240,
    "start_time": "2025-05-07T15:37:18.123Z"
   },
   {
    "duration": 15,
    "start_time": "2025-05-07T15:38:59.011Z"
   },
   {
    "duration": 459,
    "start_time": "2025-05-07T15:39:01.451Z"
   },
   {
    "duration": 33,
    "start_time": "2025-05-07T15:40:44.506Z"
   },
   {
    "duration": 11,
    "start_time": "2025-05-07T15:41:13.414Z"
   },
   {
    "duration": 115,
    "start_time": "2025-05-07T15:41:23.875Z"
   },
   {
    "duration": 6,
    "start_time": "2025-05-07T15:41:29.881Z"
   },
   {
    "duration": 7,
    "start_time": "2025-05-07T15:41:42.377Z"
   },
   {
    "duration": 29,
    "start_time": "2025-05-07T15:41:56.756Z"
   },
   {
    "duration": 5,
    "start_time": "2025-05-07T15:41:58.923Z"
   },
   {
    "duration": 31,
    "start_time": "2025-05-07T15:42:07.368Z"
   },
   {
    "duration": 6,
    "start_time": "2025-05-07T15:42:09.090Z"
   },
   {
    "duration": 89538,
    "start_time": "2025-05-07T15:42:19.124Z"
   },
   {
    "duration": 14,
    "start_time": "2025-05-07T15:44:23.326Z"
   },
   {
    "duration": 443,
    "start_time": "2025-05-07T15:44:26.303Z"
   },
   {
    "duration": 28,
    "start_time": "2025-05-07T15:44:37.596Z"
   },
   {
    "duration": 5,
    "start_time": "2025-05-07T15:44:40.017Z"
   },
   {
    "duration": 7995,
    "start_time": "2025-05-07T15:45:29.019Z"
   },
   {
    "duration": 3,
    "start_time": "2025-05-07T15:45:37.016Z"
   },
   {
    "duration": 1003,
    "start_time": "2025-05-07T15:45:37.020Z"
   },
   {
    "duration": 3,
    "start_time": "2025-05-07T15:45:38.025Z"
   },
   {
    "duration": 175,
    "start_time": "2025-05-07T15:45:38.030Z"
   },
   {
    "duration": 115,
    "start_time": "2025-05-07T15:45:38.206Z"
   },
   {
    "duration": 2,
    "start_time": "2025-05-07T15:45:38.323Z"
   },
   {
    "duration": 323103,
    "start_time": "2025-05-07T15:45:38.327Z"
   },
   {
    "duration": 8,
    "start_time": "2025-05-07T15:51:01.432Z"
   },
   {
    "duration": 50,
    "start_time": "2025-05-07T15:51:01.441Z"
   },
   {
    "duration": 105,
    "start_time": "2025-05-07T15:51:01.493Z"
   },
   {
    "duration": 5,
    "start_time": "2025-05-07T15:51:01.600Z"
   },
   {
    "duration": 55,
    "start_time": "2025-05-07T15:51:01.607Z"
   },
   {
    "duration": 15,
    "start_time": "2025-05-07T15:51:01.666Z"
   },
   {
    "duration": 200725,
    "start_time": "2025-05-07T15:51:01.683Z"
   },
   {
    "duration": 14,
    "start_time": "2025-05-07T15:54:22.410Z"
   },
   {
    "duration": 886,
    "start_time": "2025-05-07T15:54:22.426Z"
   },
   {
    "duration": 15,
    "start_time": "2025-05-07T15:54:30.217Z"
   },
   {
    "duration": 895,
    "start_time": "2025-05-07T15:54:32.398Z"
   },
   {
    "duration": 50,
    "start_time": "2025-05-07T15:55:09.402Z"
   },
   {
    "duration": 6,
    "start_time": "2025-05-07T15:55:16.498Z"
   },
   {
    "duration": 4,
    "start_time": "2025-05-07T16:10:47.516Z"
   },
   {
    "duration": 7915,
    "start_time": "2025-05-07T16:10:57.190Z"
   },
   {
    "duration": 4,
    "start_time": "2025-05-07T16:11:05.107Z"
   },
   {
    "duration": 1027,
    "start_time": "2025-05-07T16:11:05.113Z"
   },
   {
    "duration": 3,
    "start_time": "2025-05-07T16:11:06.142Z"
   },
   {
    "duration": 95,
    "start_time": "2025-05-07T16:11:06.147Z"
   },
   {
    "duration": 115,
    "start_time": "2025-05-07T16:11:06.244Z"
   },
   {
    "duration": 2,
    "start_time": "2025-05-07T16:11:06.361Z"
   },
   {
    "duration": 159817,
    "start_time": "2025-05-07T16:11:06.365Z"
   },
   {
    "duration": 8,
    "start_time": "2025-05-07T16:13:46.184Z"
   },
   {
    "duration": 2,
    "start_time": "2025-05-07T16:13:46.205Z"
   },
   {
    "duration": 19,
    "start_time": "2025-05-07T16:13:46.209Z"
   },
   {
    "duration": 5,
    "start_time": "2025-05-07T16:13:46.230Z"
   },
   {
    "duration": 7,
    "start_time": "2025-05-07T16:13:46.237Z"
   },
   {
    "duration": 11,
    "start_time": "2025-05-07T16:13:46.247Z"
   },
   {
    "duration": 550795,
    "start_time": "2025-05-07T16:13:46.260Z"
   },
   {
    "duration": 16,
    "start_time": "2025-05-07T16:22:57.056Z"
   },
   {
    "duration": 459,
    "start_time": "2025-05-07T16:22:57.073Z"
   },
   {
    "duration": 8014,
    "start_time": "2025-05-07T16:25:21.816Z"
   },
   {
    "duration": 3,
    "start_time": "2025-05-07T16:25:29.832Z"
   },
   {
    "duration": 1005,
    "start_time": "2025-05-07T16:25:29.837Z"
   },
   {
    "duration": 4,
    "start_time": "2025-05-07T16:25:30.844Z"
   },
   {
    "duration": 127,
    "start_time": "2025-05-07T16:25:30.850Z"
   },
   {
    "duration": 129,
    "start_time": "2025-05-07T16:25:30.979Z"
   },
   {
    "duration": 14,
    "start_time": "2025-05-07T16:25:31.110Z"
   },
   {
    "duration": 159087,
    "start_time": "2025-05-07T16:25:31.126Z"
   },
   {
    "duration": 8,
    "start_time": "2025-05-07T16:28:10.215Z"
   },
   {
    "duration": 15,
    "start_time": "2025-05-07T16:28:10.225Z"
   },
   {
    "duration": 36,
    "start_time": "2025-05-07T16:28:10.242Z"
   },
   {
    "duration": 5,
    "start_time": "2025-05-07T16:28:10.280Z"
   },
   {
    "duration": 2,
    "start_time": "2025-05-07T16:28:10.286Z"
   },
   {
    "duration": 16,
    "start_time": "2025-05-07T16:28:10.290Z"
   },
   {
    "duration": 77999,
    "start_time": "2025-05-07T16:28:10.308Z"
   },
   {
    "duration": 16,
    "start_time": "2025-05-07T16:29:28.309Z"
   },
   {
    "duration": 452,
    "start_time": "2025-05-07T16:29:28.327Z"
   },
   {
    "duration": 29,
    "start_time": "2025-05-07T16:32:00.416Z"
   },
   {
    "duration": 348153,
    "start_time": "2025-05-07T16:32:04.512Z"
   },
   {
    "duration": 15,
    "start_time": "2025-05-07T16:38:05.790Z"
   },
   {
    "duration": 444,
    "start_time": "2025-05-07T16:38:08.683Z"
   },
   {
    "duration": 3,
    "start_time": "2025-05-07T16:42:46.507Z"
   },
   {
    "duration": 7904,
    "start_time": "2025-05-07T16:43:13.331Z"
   },
   {
    "duration": 4,
    "start_time": "2025-05-07T16:43:21.237Z"
   },
   {
    "duration": 977,
    "start_time": "2025-05-07T16:43:21.242Z"
   },
   {
    "duration": 3,
    "start_time": "2025-05-07T16:43:22.220Z"
   },
   {
    "duration": 30,
    "start_time": "2025-05-07T16:43:22.225Z"
   },
   {
    "duration": 116,
    "start_time": "2025-05-07T16:43:22.257Z"
   },
   {
    "duration": 3,
    "start_time": "2025-05-07T16:43:22.375Z"
   },
   {
    "duration": 35126,
    "start_time": "2025-05-07T16:43:22.379Z"
   },
   {
    "duration": 7,
    "start_time": "2025-05-07T16:43:57.507Z"
   },
   {
    "duration": 5,
    "start_time": "2025-05-07T16:43:57.515Z"
   },
   {
    "duration": 15,
    "start_time": "2025-05-07T16:43:57.522Z"
   },
   {
    "duration": 5,
    "start_time": "2025-05-07T16:43:57.538Z"
   },
   {
    "duration": 12,
    "start_time": "2025-05-07T16:43:57.544Z"
   },
   {
    "duration": 10,
    "start_time": "2025-05-07T16:43:57.559Z"
   },
   {
    "duration": 7755,
    "start_time": "2025-05-07T16:43:57.570Z"
   },
   {
    "duration": 0,
    "start_time": "2025-05-07T16:44:05.327Z"
   },
   {
    "duration": 0,
    "start_time": "2025-05-07T16:44:05.328Z"
   },
   {
    "duration": 5,
    "start_time": "2025-05-07T16:45:20.993Z"
   },
   {
    "duration": 5,
    "start_time": "2025-05-07T16:45:25.058Z"
   },
   {
    "duration": 43696,
    "start_time": "2025-05-07T16:45:27.268Z"
   },
   {
    "duration": 16,
    "start_time": "2025-05-07T16:46:18.378Z"
   },
   {
    "duration": 96,
    "start_time": "2025-05-07T16:46:20.789Z"
   },
   {
    "duration": 7844,
    "start_time": "2025-05-07T16:48:52.604Z"
   },
   {
    "duration": 4,
    "start_time": "2025-05-07T16:49:00.450Z"
   },
   {
    "duration": 1101,
    "start_time": "2025-05-07T16:49:00.456Z"
   },
   {
    "duration": 3,
    "start_time": "2025-05-07T16:49:01.560Z"
   },
   {
    "duration": 327,
    "start_time": "2025-05-07T16:49:01.565Z"
   },
   {
    "duration": 139,
    "start_time": "2025-05-07T16:49:01.894Z"
   },
   {
    "duration": 2,
    "start_time": "2025-05-07T16:49:02.035Z"
   },
   {
    "duration": 35426,
    "start_time": "2025-05-07T16:49:02.039Z"
   },
   {
    "duration": 8,
    "start_time": "2025-05-07T16:49:37.467Z"
   },
   {
    "duration": 13,
    "start_time": "2025-05-07T16:49:37.477Z"
   },
   {
    "duration": 38,
    "start_time": "2025-05-07T16:49:37.492Z"
   },
   {
    "duration": 10,
    "start_time": "2025-05-07T16:49:37.531Z"
   },
   {
    "duration": 9,
    "start_time": "2025-05-07T16:49:37.543Z"
   },
   {
    "duration": 5,
    "start_time": "2025-05-07T16:49:37.554Z"
   },
   {
    "duration": 54706,
    "start_time": "2025-05-07T16:49:37.560Z"
   },
   {
    "duration": 16,
    "start_time": "2025-05-07T16:50:32.267Z"
   },
   {
    "duration": 138,
    "start_time": "2025-05-07T16:50:32.285Z"
   },
   {
    "duration": 16,
    "start_time": "2025-05-07T16:50:38.521Z"
   },
   {
    "duration": 97,
    "start_time": "2025-05-07T16:50:41.439Z"
   },
   {
    "duration": 8004,
    "start_time": "2025-05-07T16:51:40.886Z"
   },
   {
    "duration": 3,
    "start_time": "2025-05-07T16:51:48.892Z"
   },
   {
    "duration": 1017,
    "start_time": "2025-05-07T16:51:48.897Z"
   },
   {
    "duration": 4,
    "start_time": "2025-05-07T16:51:49.915Z"
   },
   {
    "duration": 37,
    "start_time": "2025-05-07T16:51:49.921Z"
   },
   {
    "duration": 111,
    "start_time": "2025-05-07T16:51:49.959Z"
   },
   {
    "duration": 3,
    "start_time": "2025-05-07T16:51:50.071Z"
   },
   {
    "duration": 35978,
    "start_time": "2025-05-07T16:51:50.075Z"
   },
   {
    "duration": 12,
    "start_time": "2025-05-07T16:52:26.055Z"
   },
   {
    "duration": 17,
    "start_time": "2025-05-07T16:52:26.069Z"
   },
   {
    "duration": 32,
    "start_time": "2025-05-07T16:52:26.089Z"
   },
   {
    "duration": 34,
    "start_time": "2025-05-07T16:52:26.123Z"
   },
   {
    "duration": 6,
    "start_time": "2025-05-07T16:52:26.158Z"
   },
   {
    "duration": 7,
    "start_time": "2025-05-07T16:52:26.166Z"
   },
   {
    "duration": 73146,
    "start_time": "2025-05-07T16:52:26.174Z"
   },
   {
    "duration": 17,
    "start_time": "2025-05-07T16:53:39.322Z"
   },
   {
    "duration": 117,
    "start_time": "2025-05-07T16:53:39.341Z"
   },
   {
    "duration": 3,
    "start_time": "2025-05-07T16:55:46.612Z"
   },
   {
    "duration": 8094,
    "start_time": "2025-05-07T16:58:07.580Z"
   },
   {
    "duration": 4,
    "start_time": "2025-05-07T16:58:15.676Z"
   },
   {
    "duration": 1158,
    "start_time": "2025-05-07T16:58:15.681Z"
   },
   {
    "duration": 3,
    "start_time": "2025-05-07T16:58:16.841Z"
   },
   {
    "duration": 47,
    "start_time": "2025-05-07T16:58:16.847Z"
   },
   {
    "duration": 100,
    "start_time": "2025-05-07T16:58:16.896Z"
   },
   {
    "duration": 7,
    "start_time": "2025-05-07T16:58:16.998Z"
   },
   {
    "duration": 35507,
    "start_time": "2025-05-07T16:58:17.007Z"
   },
   {
    "duration": 8,
    "start_time": "2025-05-07T16:58:52.516Z"
   },
   {
    "duration": 32,
    "start_time": "2025-05-07T16:58:52.526Z"
   },
   {
    "duration": 17,
    "start_time": "2025-05-07T16:58:52.560Z"
   },
   {
    "duration": 22,
    "start_time": "2025-05-07T16:58:52.578Z"
   },
   {
    "duration": 5,
    "start_time": "2025-05-07T16:58:52.602Z"
   },
   {
    "duration": 10,
    "start_time": "2025-05-07T16:58:52.610Z"
   },
   {
    "duration": 338449,
    "start_time": "2025-05-07T16:58:52.622Z"
   },
   {
    "duration": 15,
    "start_time": "2025-05-07T17:04:31.073Z"
   },
   {
    "duration": 102,
    "start_time": "2025-05-07T17:04:31.105Z"
   },
   {
    "duration": 16,
    "start_time": "2025-05-07T17:06:11.184Z"
   },
   {
    "duration": 101,
    "start_time": "2025-05-07T17:06:14.047Z"
   },
   {
    "duration": 7922,
    "start_time": "2025-05-07T17:07:32.744Z"
   },
   {
    "duration": 3,
    "start_time": "2025-05-07T17:07:40.668Z"
   },
   {
    "duration": 977,
    "start_time": "2025-05-07T17:07:40.673Z"
   },
   {
    "duration": 2,
    "start_time": "2025-05-07T17:07:41.652Z"
   },
   {
    "duration": 31,
    "start_time": "2025-05-07T17:07:41.657Z"
   },
   {
    "duration": 106,
    "start_time": "2025-05-07T17:07:41.690Z"
   },
   {
    "duration": 3,
    "start_time": "2025-05-07T17:07:41.805Z"
   },
   {
    "duration": 35668,
    "start_time": "2025-05-07T17:07:41.809Z"
   },
   {
    "duration": 8,
    "start_time": "2025-05-07T17:08:17.479Z"
   },
   {
    "duration": 7,
    "start_time": "2025-05-07T17:08:17.489Z"
   },
   {
    "duration": 21,
    "start_time": "2025-05-07T17:08:17.506Z"
   },
   {
    "duration": 5,
    "start_time": "2025-05-07T17:08:17.528Z"
   },
   {
    "duration": 6,
    "start_time": "2025-05-07T17:08:17.535Z"
   },
   {
    "duration": 5,
    "start_time": "2025-05-07T17:08:17.544Z"
   },
   {
    "duration": 57119,
    "start_time": "2025-05-07T17:08:17.551Z"
   },
   {
    "duration": 33,
    "start_time": "2025-05-07T17:09:14.672Z"
   },
   {
    "duration": 107,
    "start_time": "2025-05-07T17:09:14.707Z"
   },
   {
    "duration": 8022,
    "start_time": "2025-05-07T17:10:15.167Z"
   },
   {
    "duration": 3,
    "start_time": "2025-05-07T17:10:23.191Z"
   },
   {
    "duration": 1104,
    "start_time": "2025-05-07T17:10:23.196Z"
   },
   {
    "duration": 3,
    "start_time": "2025-05-07T17:10:24.305Z"
   },
   {
    "duration": 22,
    "start_time": "2025-05-07T17:10:24.310Z"
   },
   {
    "duration": 121,
    "start_time": "2025-05-07T17:10:24.334Z"
   },
   {
    "duration": 2,
    "start_time": "2025-05-07T17:10:24.457Z"
   },
   {
    "duration": 35269,
    "start_time": "2025-05-07T17:10:24.461Z"
   },
   {
    "duration": 7,
    "start_time": "2025-05-07T17:10:59.732Z"
   },
   {
    "duration": 96,
    "start_time": "2025-05-07T17:10:59.741Z"
   },
   {
    "duration": 43,
    "start_time": "2025-05-07T17:10:59.838Z"
   },
   {
    "duration": 5,
    "start_time": "2025-05-07T17:10:59.882Z"
   },
   {
    "duration": 9,
    "start_time": "2025-05-07T17:10:59.889Z"
   },
   {
    "duration": 7,
    "start_time": "2025-05-07T17:10:59.900Z"
   },
   {
    "duration": 43457,
    "start_time": "2025-05-07T17:10:59.909Z"
   },
   {
    "duration": 15,
    "start_time": "2025-05-07T17:11:43.367Z"
   },
   {
    "duration": 115,
    "start_time": "2025-05-07T17:11:43.384Z"
   },
   {
    "duration": 8019,
    "start_time": "2025-05-07T17:13:12.774Z"
   },
   {
    "duration": 4,
    "start_time": "2025-05-07T17:13:20.795Z"
   },
   {
    "duration": 1194,
    "start_time": "2025-05-07T17:13:20.801Z"
   },
   {
    "duration": 9,
    "start_time": "2025-05-07T17:13:21.997Z"
   },
   {
    "duration": 177,
    "start_time": "2025-05-07T17:13:22.007Z"
   },
   {
    "duration": 112,
    "start_time": "2025-05-07T17:13:22.186Z"
   },
   {
    "duration": 3,
    "start_time": "2025-05-07T17:13:22.304Z"
   },
   {
    "duration": 314908,
    "start_time": "2025-05-07T17:13:22.309Z"
   },
   {
    "duration": 8,
    "start_time": "2025-05-07T17:18:37.219Z"
   },
   {
    "duration": 92,
    "start_time": "2025-05-07T17:18:37.229Z"
   },
   {
    "duration": 60,
    "start_time": "2025-05-07T17:18:37.322Z"
   },
   {
    "duration": 35,
    "start_time": "2025-05-07T17:18:37.384Z"
   },
   {
    "duration": 43,
    "start_time": "2025-05-07T17:18:37.421Z"
   },
   {
    "duration": 10,
    "start_time": "2025-05-07T17:18:37.466Z"
   },
   {
    "duration": 955594,
    "start_time": "2025-05-07T17:18:37.478Z"
   },
   {
    "duration": 33,
    "start_time": "2025-05-07T17:34:33.073Z"
   },
   {
    "duration": 954,
    "start_time": "2025-05-07T17:34:33.108Z"
   },
   {
    "duration": 8013,
    "start_time": "2025-05-07T17:35:05.979Z"
   },
   {
    "duration": 3,
    "start_time": "2025-05-07T17:35:13.994Z"
   },
   {
    "duration": 1039,
    "start_time": "2025-05-07T17:35:13.999Z"
   },
   {
    "duration": 3,
    "start_time": "2025-05-07T17:35:15.040Z"
   },
   {
    "duration": 64,
    "start_time": "2025-05-07T17:35:15.045Z"
   },
   {
    "duration": 115,
    "start_time": "2025-05-07T17:35:15.111Z"
   },
   {
    "duration": 3,
    "start_time": "2025-05-07T17:35:15.228Z"
   },
   {
    "duration": 7154,
    "start_time": "2025-05-07T17:35:15.234Z"
   },
   {
    "duration": 16,
    "start_time": "2025-05-07T17:35:22.390Z"
   },
   {
    "duration": 14,
    "start_time": "2025-05-07T17:35:22.408Z"
   },
   {
    "duration": 14,
    "start_time": "2025-05-07T17:35:22.424Z"
   },
   {
    "duration": 17,
    "start_time": "2025-05-07T17:35:22.440Z"
   },
   {
    "duration": 29,
    "start_time": "2025-05-07T17:35:22.459Z"
   },
   {
    "duration": 20,
    "start_time": "2025-05-07T17:35:22.491Z"
   },
   {
    "duration": 3459,
    "start_time": "2025-05-07T17:35:22.513Z"
   },
   {
    "duration": 15,
    "start_time": "2025-05-07T17:35:25.974Z"
   },
   {
    "duration": 43,
    "start_time": "2025-05-07T17:35:25.990Z"
   },
   {
    "duration": 7982,
    "start_time": "2025-05-07T17:35:50.203Z"
   },
   {
    "duration": 4,
    "start_time": "2025-05-07T17:35:58.187Z"
   },
   {
    "duration": 991,
    "start_time": "2025-05-07T17:35:58.192Z"
   },
   {
    "duration": 3,
    "start_time": "2025-05-07T17:35:59.186Z"
   },
   {
    "duration": 31,
    "start_time": "2025-05-07T17:35:59.191Z"
   },
   {
    "duration": 120,
    "start_time": "2025-05-07T17:35:59.223Z"
   },
   {
    "duration": 3,
    "start_time": "2025-05-07T17:35:59.345Z"
   },
   {
    "duration": 35444,
    "start_time": "2025-05-07T17:35:59.350Z"
   },
   {
    "duration": 10,
    "start_time": "2025-05-07T17:36:34.796Z"
   },
   {
    "duration": 44,
    "start_time": "2025-05-07T17:36:34.808Z"
   },
   {
    "duration": 20,
    "start_time": "2025-05-07T17:36:34.853Z"
   },
   {
    "duration": 18,
    "start_time": "2025-05-07T17:36:34.875Z"
   },
   {
    "duration": 7,
    "start_time": "2025-05-07T17:36:34.895Z"
   },
   {
    "duration": 95,
    "start_time": "2025-05-07T17:36:34.904Z"
   },
   {
    "duration": 75532,
    "start_time": "2025-05-07T17:36:35.001Z"
   },
   {
    "duration": 15,
    "start_time": "2025-05-07T17:37:50.535Z"
   },
   {
    "duration": 113,
    "start_time": "2025-05-07T17:37:50.552Z"
   },
   {
    "duration": 8034,
    "start_time": "2025-05-07T17:38:03.833Z"
   },
   {
    "duration": 3,
    "start_time": "2025-05-07T17:38:11.869Z"
   },
   {
    "duration": 1016,
    "start_time": "2025-05-07T17:38:11.874Z"
   },
   {
    "duration": 15,
    "start_time": "2025-05-07T17:38:12.891Z"
   },
   {
    "duration": 51,
    "start_time": "2025-05-07T17:38:12.908Z"
   },
   {
    "duration": 215,
    "start_time": "2025-05-07T17:38:12.960Z"
   },
   {
    "duration": 2,
    "start_time": "2025-05-07T17:38:13.177Z"
   },
   {
    "duration": 35314,
    "start_time": "2025-05-07T17:38:13.181Z"
   },
   {
    "duration": 13,
    "start_time": "2025-05-07T17:38:48.497Z"
   },
   {
    "duration": 4,
    "start_time": "2025-05-07T17:38:48.512Z"
   },
   {
    "duration": 8,
    "start_time": "2025-05-07T17:38:48.518Z"
   },
   {
    "duration": 14,
    "start_time": "2025-05-07T17:38:48.528Z"
   },
   {
    "duration": 10,
    "start_time": "2025-05-07T17:38:48.544Z"
   },
   {
    "duration": 29,
    "start_time": "2025-05-07T17:38:48.556Z"
   },
   {
    "duration": 69089,
    "start_time": "2025-05-07T17:38:48.587Z"
   },
   {
    "duration": 29,
    "start_time": "2025-05-07T17:39:57.678Z"
   },
   {
    "duration": 104,
    "start_time": "2025-05-07T17:39:57.709Z"
   },
   {
    "duration": 8002,
    "start_time": "2025-05-07T17:43:09.400Z"
   },
   {
    "duration": 3,
    "start_time": "2025-05-07T17:43:17.404Z"
   },
   {
    "duration": 1000,
    "start_time": "2025-05-07T17:43:17.409Z"
   },
   {
    "duration": 3,
    "start_time": "2025-05-07T17:43:18.411Z"
   },
   {
    "duration": 33,
    "start_time": "2025-05-07T17:43:18.416Z"
   },
   {
    "duration": 108,
    "start_time": "2025-05-07T17:43:18.451Z"
   },
   {
    "duration": 3,
    "start_time": "2025-05-07T17:43:18.560Z"
   },
   {
    "duration": 35888,
    "start_time": "2025-05-07T17:43:18.564Z"
   },
   {
    "duration": 8,
    "start_time": "2025-05-07T17:43:54.454Z"
   },
   {
    "duration": 5,
    "start_time": "2025-05-07T17:43:54.464Z"
   },
   {
    "duration": 39,
    "start_time": "2025-05-07T17:43:54.471Z"
   },
   {
    "duration": 6,
    "start_time": "2025-05-07T17:43:54.511Z"
   },
   {
    "duration": 4,
    "start_time": "2025-05-07T17:43:54.519Z"
   },
   {
    "duration": 20,
    "start_time": "2025-05-07T17:43:54.526Z"
   },
   {
    "duration": 40920,
    "start_time": "2025-05-07T17:43:54.548Z"
   },
   {
    "duration": 16,
    "start_time": "2025-05-07T17:44:35.470Z"
   },
   {
    "duration": 145,
    "start_time": "2025-05-07T17:44:35.488Z"
   },
   {
    "duration": 8119,
    "start_time": "2025-05-07T17:47:13.524Z"
   },
   {
    "duration": 3,
    "start_time": "2025-05-07T17:47:21.645Z"
   },
   {
    "duration": 1020,
    "start_time": "2025-05-07T17:47:21.650Z"
   },
   {
    "duration": 3,
    "start_time": "2025-05-07T17:47:22.672Z"
   },
   {
    "duration": 50,
    "start_time": "2025-05-07T17:47:22.677Z"
   },
   {
    "duration": 132,
    "start_time": "2025-05-07T17:47:22.729Z"
   },
   {
    "duration": 3,
    "start_time": "2025-05-07T17:47:22.863Z"
   },
   {
    "duration": 68311,
    "start_time": "2025-05-07T17:47:22.867Z"
   },
   {
    "duration": 24,
    "start_time": "2025-05-07T17:48:31.180Z"
   },
   {
    "duration": 56,
    "start_time": "2025-05-07T17:48:31.206Z"
   },
   {
    "duration": 40,
    "start_time": "2025-05-07T17:48:31.264Z"
   },
   {
    "duration": 36,
    "start_time": "2025-05-07T17:48:31.306Z"
   },
   {
    "duration": 69,
    "start_time": "2025-05-07T17:48:31.344Z"
   },
   {
    "duration": 24,
    "start_time": "2025-05-07T17:48:31.416Z"
   },
   {
    "duration": 136934,
    "start_time": "2025-05-07T17:48:31.442Z"
   },
   {
    "duration": 16,
    "start_time": "2025-05-07T17:50:48.378Z"
   },
   {
    "duration": 189,
    "start_time": "2025-05-07T17:50:48.406Z"
   },
   {
    "duration": 8101,
    "start_time": "2025-05-07T17:51:11.593Z"
   },
   {
    "duration": 10,
    "start_time": "2025-05-07T17:51:19.696Z"
   },
   {
    "duration": 1017,
    "start_time": "2025-05-07T17:51:19.708Z"
   },
   {
    "duration": 3,
    "start_time": "2025-05-07T17:51:20.728Z"
   },
   {
    "duration": 91,
    "start_time": "2025-05-07T17:51:20.733Z"
   },
   {
    "duration": 121,
    "start_time": "2025-05-07T17:51:20.826Z"
   },
   {
    "duration": 2,
    "start_time": "2025-05-07T17:51:20.950Z"
   },
   {
    "duration": 103403,
    "start_time": "2025-05-07T17:51:20.954Z"
   },
   {
    "duration": 8,
    "start_time": "2025-05-07T17:53:04.359Z"
   },
   {
    "duration": 13,
    "start_time": "2025-05-07T17:53:04.369Z"
   },
   {
    "duration": 33,
    "start_time": "2025-05-07T17:53:04.384Z"
   },
   {
    "duration": 10,
    "start_time": "2025-05-07T17:53:04.419Z"
   },
   {
    "duration": 19,
    "start_time": "2025-05-07T17:53:04.431Z"
   },
   {
    "duration": 25,
    "start_time": "2025-05-07T17:53:04.452Z"
   },
   {
    "duration": 406601,
    "start_time": "2025-05-07T17:53:04.479Z"
   },
   {
    "duration": 29,
    "start_time": "2025-05-07T17:59:51.082Z"
   },
   {
    "duration": 298,
    "start_time": "2025-05-07T17:59:51.114Z"
   },
   {
    "duration": 8365,
    "start_time": "2025-05-07T18:00:30.997Z"
   },
   {
    "duration": 4,
    "start_time": "2025-05-07T18:00:39.364Z"
   },
   {
    "duration": 1179,
    "start_time": "2025-05-07T18:00:39.370Z"
   },
   {
    "duration": 3,
    "start_time": "2025-05-07T18:00:40.551Z"
   },
   {
    "duration": 29,
    "start_time": "2025-05-07T18:00:40.556Z"
   },
   {
    "duration": 101,
    "start_time": "2025-05-07T18:00:40.586Z"
   },
   {
    "duration": 3,
    "start_time": "2025-05-07T18:00:40.688Z"
   },
   {
    "duration": 7571,
    "start_time": "2025-05-07T18:00:40.692Z"
   },
   {
    "duration": 8,
    "start_time": "2025-05-07T18:00:48.265Z"
   },
   {
    "duration": 22,
    "start_time": "2025-05-07T18:00:48.275Z"
   },
   {
    "duration": 22,
    "start_time": "2025-05-07T18:00:48.299Z"
   },
   {
    "duration": 26,
    "start_time": "2025-05-07T18:00:48.322Z"
   },
   {
    "duration": 15,
    "start_time": "2025-05-07T18:00:48.349Z"
   },
   {
    "duration": 11,
    "start_time": "2025-05-07T18:00:48.367Z"
   },
   {
    "duration": 3596,
    "start_time": "2025-05-07T18:00:48.380Z"
   },
   {
    "duration": 30,
    "start_time": "2025-05-07T18:00:51.978Z"
   },
   {
    "duration": 47,
    "start_time": "2025-05-07T18:00:52.017Z"
   },
   {
    "duration": 4,
    "start_time": "2025-05-07T18:02:24.829Z"
   },
   {
    "duration": 8200,
    "start_time": "2025-05-07T18:02:31.491Z"
   },
   {
    "duration": 3,
    "start_time": "2025-05-07T18:02:39.694Z"
   },
   {
    "duration": 1029,
    "start_time": "2025-05-07T18:02:39.705Z"
   },
   {
    "duration": 20,
    "start_time": "2025-05-07T18:02:40.737Z"
   },
   {
    "duration": 61,
    "start_time": "2025-05-07T18:02:40.761Z"
   },
   {
    "duration": 128,
    "start_time": "2025-05-07T18:02:40.823Z"
   },
   {
    "duration": 2,
    "start_time": "2025-05-07T18:02:40.953Z"
   },
   {
    "duration": 57960,
    "start_time": "2025-05-07T18:02:40.957Z"
   },
   {
    "duration": 9,
    "start_time": "2025-05-07T18:03:38.920Z"
   },
   {
    "duration": 6,
    "start_time": "2025-05-07T18:03:38.931Z"
   },
   {
    "duration": 16,
    "start_time": "2025-05-07T18:03:38.939Z"
   },
   {
    "duration": 28,
    "start_time": "2025-05-07T18:03:38.957Z"
   },
   {
    "duration": 3,
    "start_time": "2025-05-07T18:03:38.987Z"
   },
   {
    "duration": 6,
    "start_time": "2025-05-07T18:03:38.992Z"
   },
   {
    "duration": 137621,
    "start_time": "2025-05-07T18:03:38.999Z"
   },
   {
    "duration": 16,
    "start_time": "2025-05-07T18:05:56.622Z"
   },
   {
    "duration": 193,
    "start_time": "2025-05-07T18:05:56.639Z"
   },
   {
    "duration": 16063,
    "start_time": "2025-05-07T21:38:10.175Z"
   },
   {
    "duration": 3,
    "start_time": "2025-05-07T21:38:26.241Z"
   },
   {
    "duration": 875,
    "start_time": "2025-05-07T21:38:26.246Z"
   },
   {
    "duration": 20,
    "start_time": "2025-05-07T21:38:27.123Z"
   },
   {
    "duration": 54,
    "start_time": "2025-05-07T21:38:27.146Z"
   },
   {
    "duration": 143,
    "start_time": "2025-05-07T21:38:27.201Z"
   },
   {
    "duration": 2,
    "start_time": "2025-05-07T21:38:27.346Z"
   },
   {
    "duration": 48560,
    "start_time": "2025-05-07T21:38:27.349Z"
   },
   {
    "duration": 7,
    "start_time": "2025-05-07T21:39:15.911Z"
   },
   {
    "duration": 4,
    "start_time": "2025-05-07T21:39:15.920Z"
   },
   {
    "duration": 7,
    "start_time": "2025-05-07T21:39:15.926Z"
   },
   {
    "duration": 158,
    "start_time": "2025-05-07T21:39:15.935Z"
   },
   {
    "duration": 2,
    "start_time": "2025-05-07T21:39:16.095Z"
   },
   {
    "duration": 5,
    "start_time": "2025-05-07T21:39:16.099Z"
   },
   {
    "duration": 149819,
    "start_time": "2025-05-07T21:39:16.105Z"
   },
   {
    "duration": 16,
    "start_time": "2025-05-07T21:41:45.926Z"
   },
   {
    "duration": 136,
    "start_time": "2025-05-07T21:41:45.961Z"
   },
   {
    "duration": 5,
    "start_time": "2025-05-07T21:42:59.010Z"
   },
   {
    "duration": 5,
    "start_time": "2025-05-07T21:43:03.359Z"
   },
   {
    "duration": 5,
    "start_time": "2025-05-07T21:43:04.891Z"
   },
   {
    "duration": 490,
    "start_time": "2025-05-07T21:43:05.825Z"
   },
   {
    "duration": 5,
    "start_time": "2025-05-07T21:43:14.039Z"
   },
   {
    "duration": 69994,
    "start_time": "2025-05-07T21:43:14.721Z"
   },
   {
    "duration": 54,
    "start_time": "2025-05-07T21:44:24.717Z"
   },
   {
    "duration": 139,
    "start_time": "2025-05-07T21:44:24.773Z"
   },
   {
    "duration": 131,
    "start_time": "2025-05-07T21:45:04.381Z"
   },
   {
    "duration": 4,
    "start_time": "2025-05-07T21:45:09.363Z"
   },
   {
    "duration": 72393,
    "start_time": "2025-05-07T21:45:10.114Z"
   },
   {
    "duration": 141,
    "start_time": "2025-05-07T21:46:22.510Z"
   },
   {
    "duration": 5,
    "start_time": "2025-05-07T21:47:23.852Z"
   },
   {
    "duration": 73077,
    "start_time": "2025-05-07T21:47:29.838Z"
   },
   {
    "duration": 133,
    "start_time": "2025-05-07T21:48:47.794Z"
   },
   {
    "duration": 4,
    "start_time": "2025-05-07T21:48:59.520Z"
   },
   {
    "duration": 55538,
    "start_time": "2025-05-07T21:49:02.171Z"
   },
   {
    "duration": 14,
    "start_time": "2025-05-07T21:50:04.392Z"
   },
   {
    "duration": 127,
    "start_time": "2025-05-07T21:50:04.912Z"
   },
   {
    "duration": 4,
    "start_time": "2025-05-07T21:50:08.646Z"
   },
   {
    "duration": 9215,
    "start_time": "2025-05-07T21:50:10.276Z"
   },
   {
    "duration": 13,
    "start_time": "2025-05-07T21:50:32.703Z"
   },
   {
    "duration": 5,
    "start_time": "2025-05-07T21:50:33.649Z"
   },
   {
    "duration": 2,
    "start_time": "2025-05-07T21:50:34.314Z"
   },
   {
    "duration": 5,
    "start_time": "2025-05-07T21:50:35.824Z"
   },
   {
    "duration": 13738,
    "start_time": "2025-05-07T21:50:36.837Z"
   },
   {
    "duration": 4,
    "start_time": "2025-05-07T21:50:51.060Z"
   },
   {
    "duration": 46343,
    "start_time": "2025-05-07T21:50:52.064Z"
   },
   {
    "duration": 7,
    "start_time": "2025-05-07T21:51:51.284Z"
   },
   {
    "duration": 3,
    "start_time": "2025-05-07T21:51:55.330Z"
   },
   {
    "duration": 19766,
    "start_time": "2025-05-08T11:15:32.733Z"
   },
   {
    "duration": 3,
    "start_time": "2025-05-08T11:15:52.502Z"
   },
   {
    "duration": 998,
    "start_time": "2025-05-08T11:15:52.507Z"
   },
   {
    "duration": 20,
    "start_time": "2025-05-08T11:15:53.508Z"
   },
   {
    "duration": 62,
    "start_time": "2025-05-08T11:15:53.531Z"
   },
   {
    "duration": 122,
    "start_time": "2025-05-08T11:15:53.595Z"
   },
   {
    "duration": 3,
    "start_time": "2025-05-08T11:15:53.719Z"
   },
   {
    "duration": 54502,
    "start_time": "2025-05-08T11:15:53.723Z"
   },
   {
    "duration": 10,
    "start_time": "2025-05-08T11:16:48.227Z"
   },
   {
    "duration": 18,
    "start_time": "2025-05-08T11:16:48.239Z"
   },
   {
    "duration": 19,
    "start_time": "2025-05-08T11:16:48.259Z"
   },
   {
    "duration": 251,
    "start_time": "2025-05-08T11:16:48.280Z"
   },
   {
    "duration": 2,
    "start_time": "2025-05-08T11:16:48.534Z"
   },
   {
    "duration": 129,
    "start_time": "2025-05-08T11:16:48.538Z"
   },
   {
    "duration": 70156,
    "start_time": "2025-05-08T11:16:48.669Z"
   },
   {
    "duration": 14,
    "start_time": "2025-05-08T11:17:58.827Z"
   },
   {
    "duration": 187,
    "start_time": "2025-05-08T11:17:58.861Z"
   },
   {
    "duration": 7924,
    "start_time": "2025-05-08T11:18:21.767Z"
   },
   {
    "duration": 4,
    "start_time": "2025-05-08T11:18:29.693Z"
   },
   {
    "duration": 971,
    "start_time": "2025-05-08T11:18:29.699Z"
   },
   {
    "duration": 22,
    "start_time": "2025-05-08T11:18:30.672Z"
   },
   {
    "duration": 75,
    "start_time": "2025-05-08T11:18:30.699Z"
   },
   {
    "duration": 124,
    "start_time": "2025-05-08T11:18:30.776Z"
   },
   {
    "duration": 3,
    "start_time": "2025-05-08T11:18:30.902Z"
   },
   {
    "duration": 54514,
    "start_time": "2025-05-08T11:18:30.907Z"
   },
   {
    "duration": 9,
    "start_time": "2025-05-08T11:19:25.423Z"
   },
   {
    "duration": 10,
    "start_time": "2025-05-08T11:19:25.435Z"
   },
   {
    "duration": 20,
    "start_time": "2025-05-08T11:19:25.447Z"
   },
   {
    "duration": 12,
    "start_time": "2025-05-08T11:19:25.469Z"
   },
   {
    "duration": 3,
    "start_time": "2025-05-08T11:19:25.483Z"
   },
   {
    "duration": 10,
    "start_time": "2025-05-08T11:19:25.487Z"
   },
   {
    "duration": 7972,
    "start_time": "2025-05-08T11:25:10.910Z"
   },
   {
    "duration": 3,
    "start_time": "2025-05-08T11:25:18.884Z"
   },
   {
    "duration": 1007,
    "start_time": "2025-05-08T11:25:18.889Z"
   },
   {
    "duration": 22,
    "start_time": "2025-05-08T11:25:19.898Z"
   },
   {
    "duration": 66,
    "start_time": "2025-05-08T11:25:19.924Z"
   },
   {
    "duration": 128,
    "start_time": "2025-05-08T11:25:19.992Z"
   },
   {
    "duration": 2,
    "start_time": "2025-05-08T11:25:20.123Z"
   },
   {
    "duration": 55220,
    "start_time": "2025-05-08T11:25:20.127Z"
   },
   {
    "duration": 14,
    "start_time": "2025-05-08T11:26:15.349Z"
   },
   {
    "duration": 46,
    "start_time": "2025-05-08T11:26:15.365Z"
   },
   {
    "duration": 37,
    "start_time": "2025-05-08T11:26:15.413Z"
   },
   {
    "duration": 38,
    "start_time": "2025-05-08T11:26:15.451Z"
   },
   {
    "duration": 28,
    "start_time": "2025-05-08T11:26:15.491Z"
   },
   {
    "duration": 15,
    "start_time": "2025-05-08T11:26:15.521Z"
   },
   {
    "duration": 74981,
    "start_time": "2025-05-08T11:26:15.538Z"
   },
   {
    "duration": 16,
    "start_time": "2025-05-08T11:27:30.521Z"
   },
   {
    "duration": 201,
    "start_time": "2025-05-08T11:27:30.539Z"
   },
   {
    "duration": 5,
    "start_time": "2025-05-08T11:27:51.757Z"
   },
   {
    "duration": 63273,
    "start_time": "2025-05-08T11:27:54.148Z"
   },
   {
    "duration": 15,
    "start_time": "2025-05-08T11:29:08.617Z"
   },
   {
    "duration": 147,
    "start_time": "2025-05-08T11:29:11.186Z"
   },
   {
    "duration": 5,
    "start_time": "2025-05-08T11:29:24.755Z"
   },
   {
    "duration": 60680,
    "start_time": "2025-05-08T11:29:26.938Z"
   },
   {
    "duration": 16,
    "start_time": "2025-05-08T11:30:36.588Z"
   },
   {
    "duration": 148,
    "start_time": "2025-05-08T11:30:38.998Z"
   },
   {
    "duration": 16,
    "start_time": "2025-05-08T11:30:56.730Z"
   },
   {
    "duration": 7983,
    "start_time": "2025-05-08T11:31:02.517Z"
   },
   {
    "duration": 4,
    "start_time": "2025-05-08T11:31:10.502Z"
   },
   {
    "duration": 977,
    "start_time": "2025-05-08T11:31:10.507Z"
   },
   {
    "duration": 23,
    "start_time": "2025-05-08T11:31:11.486Z"
   },
   {
    "duration": 66,
    "start_time": "2025-05-08T11:31:11.513Z"
   },
   {
    "duration": 121,
    "start_time": "2025-05-08T11:31:11.581Z"
   },
   {
    "duration": 3,
    "start_time": "2025-05-08T11:31:11.704Z"
   },
   {
    "duration": 53752,
    "start_time": "2025-05-08T11:31:11.709Z"
   },
   {
    "duration": 9,
    "start_time": "2025-05-08T11:32:05.463Z"
   },
   {
    "duration": 14,
    "start_time": "2025-05-08T11:32:05.474Z"
   },
   {
    "duration": 27,
    "start_time": "2025-05-08T11:32:05.490Z"
   },
   {
    "duration": 40,
    "start_time": "2025-05-08T11:32:05.518Z"
   },
   {
    "duration": 28,
    "start_time": "2025-05-08T11:32:05.560Z"
   },
   {
    "duration": 42,
    "start_time": "2025-05-08T11:32:05.591Z"
   },
   {
    "duration": 61790,
    "start_time": "2025-05-08T11:32:05.634Z"
   },
   {
    "duration": 17,
    "start_time": "2025-05-08T11:33:07.426Z"
   },
   {
    "duration": 204,
    "start_time": "2025-05-08T11:33:07.462Z"
   },
   {
    "duration": 4,
    "start_time": "2025-05-08T11:33:44.548Z"
   },
   {
    "duration": 33556,
    "start_time": "2025-05-08T11:33:47.364Z"
   },
   {
    "duration": 15,
    "start_time": "2025-05-08T11:34:36.428Z"
   },
   {
    "duration": 155,
    "start_time": "2025-05-08T11:34:39.067Z"
   },
   {
    "duration": 8090,
    "start_time": "2025-05-08T11:35:17.959Z"
   },
   {
    "duration": 8,
    "start_time": "2025-05-08T11:35:26.052Z"
   },
   {
    "duration": 1075,
    "start_time": "2025-05-08T11:35:26.062Z"
   },
   {
    "duration": 39,
    "start_time": "2025-05-08T11:35:27.138Z"
   },
   {
    "duration": 94,
    "start_time": "2025-05-08T11:35:27.182Z"
   },
   {
    "duration": 187,
    "start_time": "2025-05-08T11:35:27.278Z"
   },
   {
    "duration": 3,
    "start_time": "2025-05-08T11:35:27.468Z"
   },
   {
    "duration": 105061,
    "start_time": "2025-05-08T11:35:27.474Z"
   },
   {
    "duration": 9,
    "start_time": "2025-05-08T11:37:12.537Z"
   },
   {
    "duration": 150,
    "start_time": "2025-05-08T11:37:12.547Z"
   },
   {
    "duration": 25,
    "start_time": "2025-05-08T11:37:12.698Z"
   },
   {
    "duration": 5,
    "start_time": "2025-05-08T11:37:12.725Z"
   },
   {
    "duration": 11,
    "start_time": "2025-05-08T11:37:12.732Z"
   },
   {
    "duration": 12,
    "start_time": "2025-05-08T11:37:12.746Z"
   },
   {
    "duration": 127036,
    "start_time": "2025-05-08T11:37:12.760Z"
   },
   {
    "duration": 15,
    "start_time": "2025-05-08T11:39:19.798Z"
   },
   {
    "duration": 288,
    "start_time": "2025-05-08T11:39:19.815Z"
   },
   {
    "duration": 7929,
    "start_time": "2025-05-08T11:39:43.454Z"
   },
   {
    "duration": 4,
    "start_time": "2025-05-08T11:39:51.385Z"
   },
   {
    "duration": 1023,
    "start_time": "2025-05-08T11:39:51.390Z"
   },
   {
    "duration": 24,
    "start_time": "2025-05-08T11:39:52.414Z"
   },
   {
    "duration": 112,
    "start_time": "2025-05-08T11:39:52.442Z"
   },
   {
    "duration": 109,
    "start_time": "2025-05-08T11:39:52.561Z"
   },
   {
    "duration": 113,
    "start_time": "2025-05-08T11:39:52.671Z"
   },
   {
    "duration": 154451,
    "start_time": "2025-05-08T11:39:52.785Z"
   },
   {
    "duration": 9,
    "start_time": "2025-05-08T11:42:27.238Z"
   },
   {
    "duration": 118,
    "start_time": "2025-05-08T11:42:27.249Z"
   },
   {
    "duration": 45,
    "start_time": "2025-05-08T11:42:27.368Z"
   },
   {
    "duration": 6,
    "start_time": "2025-05-08T11:42:27.415Z"
   },
   {
    "duration": 5,
    "start_time": "2025-05-08T11:42:27.423Z"
   },
   {
    "duration": 6,
    "start_time": "2025-05-08T11:42:27.431Z"
   },
   {
    "duration": 183150,
    "start_time": "2025-05-08T11:42:27.438Z"
   },
   {
    "duration": 15,
    "start_time": "2025-05-08T11:45:30.590Z"
   },
   {
    "duration": 455,
    "start_time": "2025-05-08T11:45:30.606Z"
   }
  ],
  "kernelspec": {
   "display_name": "Python 3 (ipykernel)",
   "language": "python",
   "name": "python3"
  },
  "language_info": {
   "codemirror_mode": {
    "name": "ipython",
    "version": 3
   },
   "file_extension": ".py",
   "mimetype": "text/x-python",
   "name": "python",
   "nbconvert_exporter": "python",
   "pygments_lexer": "ipython3",
   "version": "3.9.5"
  },
  "toc": {
   "base_numbering": 1,
   "nav_menu": {},
   "number_sections": true,
   "sideBar": true,
   "skip_h1_title": true,
   "title_cell": "Содержание",
   "title_sidebar": "Contents",
   "toc_cell": true,
   "toc_position": {
    "height": "calc(100% - 180px)",
    "left": "10px",
    "top": "150px",
    "width": "302.391px"
   },
   "toc_section_display": true,
   "toc_window_display": false
  }
 },
 "nbformat": 4,
 "nbformat_minor": 2
}
