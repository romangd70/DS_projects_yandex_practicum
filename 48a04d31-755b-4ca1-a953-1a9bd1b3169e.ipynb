{
 "cells": [
  {
   "cell_type": "markdown",
   "metadata": {},
   "source": [
    "# Исследование рынка компьютерных игр"
   ]
  },
  {
   "cell_type": "markdown",
   "metadata": {},
   "source": [
    "Заголовок: исследование рынка компьютерных игр\n",
    "    \n",
    "Описание проекта: в современном мире компьютерные игры- достаточно популярное развлечение не только у подростков, но и у взрослых людей. Они помогают на время забыть о реальности и расслабиться в виртуальном мире. Проанализировав критерии, влияющие на успешность игры, можно сделать ставку на потенциально популярный продукт и спланировать рекламные компании для максимизации прибыли интернет-магазина. Правильный анализ этих данных позволит составить примерный портрет геймера, а также спрогнозировать продажи на следующий год.\n",
    "    \n",
    "Цель исследования: выявить определяющие успешность игры закономерности, составить портрет геймеров каждого региона, а также проверить некоторые гипотезы о популярности игр в зависимости от платформы и жанра.\n",
    "    \n",
    "Ход исследования:\n",
    "\n",
    "    Подготовка данных: загрузка и изучение общей информации из предоставленных датасетов, замена названий столбцов, обработка пропусков, преобразование типов данных\n",
    "    \n",
    "    Исследовательский анализ данных: анализ зависимости продаж от платформы и жанра\n",
    "    \n",
    "    Портрет пользователя каждого региона: определение самых популярных платформы и жанры в каждом регионе\n",
    "    \n",
    "    Проверка гипотез: исследование, правдивы ли предположения о пользовательсикх рейтингах\n",
    "    \n",
    "    Общий вывод: резюмирование полученных результатов, формулировка ключевых выводов и рекомендаций."
   ]
  },
  {
   "cell_type": "code",
   "execution_count": 44,
   "metadata": {},
   "outputs": [],
   "source": [
    "import pandas as pd\n",
    "import seaborn as sns\n",
    "import numpy as np\n",
    "import matplotlib.pyplot as plt\n",
    "import scipy.stats as st"
   ]
  },
  {
   "cell_type": "markdown",
   "metadata": {},
   "source": [
    "## Загрузка данных"
   ]
  },
  {
   "cell_type": "code",
   "execution_count": 45,
   "metadata": {},
   "outputs": [
    {
     "data": {
      "text/html": [
       "<div>\n",
       "<style scoped>\n",
       "    .dataframe tbody tr th:only-of-type {\n",
       "        vertical-align: middle;\n",
       "    }\n",
       "\n",
       "    .dataframe tbody tr th {\n",
       "        vertical-align: top;\n",
       "    }\n",
       "\n",
       "    .dataframe thead th {\n",
       "        text-align: right;\n",
       "    }\n",
       "</style>\n",
       "<table border=\"1\" class=\"dataframe\">\n",
       "  <thead>\n",
       "    <tr style=\"text-align: right;\">\n",
       "      <th></th>\n",
       "      <th>Name</th>\n",
       "      <th>Platform</th>\n",
       "      <th>Year_of_Release</th>\n",
       "      <th>Genre</th>\n",
       "      <th>NA_sales</th>\n",
       "      <th>EU_sales</th>\n",
       "      <th>JP_sales</th>\n",
       "      <th>Other_sales</th>\n",
       "      <th>Critic_Score</th>\n",
       "      <th>User_Score</th>\n",
       "      <th>Rating</th>\n",
       "    </tr>\n",
       "  </thead>\n",
       "  <tbody>\n",
       "    <tr>\n",
       "      <th>0</th>\n",
       "      <td>Wii Sports</td>\n",
       "      <td>Wii</td>\n",
       "      <td>2006.0</td>\n",
       "      <td>Sports</td>\n",
       "      <td>41.36</td>\n",
       "      <td>28.96</td>\n",
       "      <td>3.77</td>\n",
       "      <td>8.45</td>\n",
       "      <td>76.0</td>\n",
       "      <td>8</td>\n",
       "      <td>E</td>\n",
       "    </tr>\n",
       "    <tr>\n",
       "      <th>1</th>\n",
       "      <td>Super Mario Bros.</td>\n",
       "      <td>NES</td>\n",
       "      <td>1985.0</td>\n",
       "      <td>Platform</td>\n",
       "      <td>29.08</td>\n",
       "      <td>3.58</td>\n",
       "      <td>6.81</td>\n",
       "      <td>0.77</td>\n",
       "      <td>NaN</td>\n",
       "      <td>NaN</td>\n",
       "      <td>NaN</td>\n",
       "    </tr>\n",
       "    <tr>\n",
       "      <th>2</th>\n",
       "      <td>Mario Kart Wii</td>\n",
       "      <td>Wii</td>\n",
       "      <td>2008.0</td>\n",
       "      <td>Racing</td>\n",
       "      <td>15.68</td>\n",
       "      <td>12.76</td>\n",
       "      <td>3.79</td>\n",
       "      <td>3.29</td>\n",
       "      <td>82.0</td>\n",
       "      <td>8.3</td>\n",
       "      <td>E</td>\n",
       "    </tr>\n",
       "    <tr>\n",
       "      <th>3</th>\n",
       "      <td>Wii Sports Resort</td>\n",
       "      <td>Wii</td>\n",
       "      <td>2009.0</td>\n",
       "      <td>Sports</td>\n",
       "      <td>15.61</td>\n",
       "      <td>10.93</td>\n",
       "      <td>3.28</td>\n",
       "      <td>2.95</td>\n",
       "      <td>80.0</td>\n",
       "      <td>8</td>\n",
       "      <td>E</td>\n",
       "    </tr>\n",
       "    <tr>\n",
       "      <th>4</th>\n",
       "      <td>Pokemon Red/Pokemon Blue</td>\n",
       "      <td>GB</td>\n",
       "      <td>1996.0</td>\n",
       "      <td>Role-Playing</td>\n",
       "      <td>11.27</td>\n",
       "      <td>8.89</td>\n",
       "      <td>10.22</td>\n",
       "      <td>1.00</td>\n",
       "      <td>NaN</td>\n",
       "      <td>NaN</td>\n",
       "      <td>NaN</td>\n",
       "    </tr>\n",
       "    <tr>\n",
       "      <th>...</th>\n",
       "      <td>...</td>\n",
       "      <td>...</td>\n",
       "      <td>...</td>\n",
       "      <td>...</td>\n",
       "      <td>...</td>\n",
       "      <td>...</td>\n",
       "      <td>...</td>\n",
       "      <td>...</td>\n",
       "      <td>...</td>\n",
       "      <td>...</td>\n",
       "      <td>...</td>\n",
       "    </tr>\n",
       "    <tr>\n",
       "      <th>16710</th>\n",
       "      <td>Samurai Warriors: Sanada Maru</td>\n",
       "      <td>PS3</td>\n",
       "      <td>2016.0</td>\n",
       "      <td>Action</td>\n",
       "      <td>0.00</td>\n",
       "      <td>0.00</td>\n",
       "      <td>0.01</td>\n",
       "      <td>0.00</td>\n",
       "      <td>NaN</td>\n",
       "      <td>NaN</td>\n",
       "      <td>NaN</td>\n",
       "    </tr>\n",
       "    <tr>\n",
       "      <th>16711</th>\n",
       "      <td>LMA Manager 2007</td>\n",
       "      <td>X360</td>\n",
       "      <td>2006.0</td>\n",
       "      <td>Sports</td>\n",
       "      <td>0.00</td>\n",
       "      <td>0.01</td>\n",
       "      <td>0.00</td>\n",
       "      <td>0.00</td>\n",
       "      <td>NaN</td>\n",
       "      <td>NaN</td>\n",
       "      <td>NaN</td>\n",
       "    </tr>\n",
       "    <tr>\n",
       "      <th>16712</th>\n",
       "      <td>Haitaka no Psychedelica</td>\n",
       "      <td>PSV</td>\n",
       "      <td>2016.0</td>\n",
       "      <td>Adventure</td>\n",
       "      <td>0.00</td>\n",
       "      <td>0.00</td>\n",
       "      <td>0.01</td>\n",
       "      <td>0.00</td>\n",
       "      <td>NaN</td>\n",
       "      <td>NaN</td>\n",
       "      <td>NaN</td>\n",
       "    </tr>\n",
       "    <tr>\n",
       "      <th>16713</th>\n",
       "      <td>Spirits &amp; Spells</td>\n",
       "      <td>GBA</td>\n",
       "      <td>2003.0</td>\n",
       "      <td>Platform</td>\n",
       "      <td>0.01</td>\n",
       "      <td>0.00</td>\n",
       "      <td>0.00</td>\n",
       "      <td>0.00</td>\n",
       "      <td>NaN</td>\n",
       "      <td>NaN</td>\n",
       "      <td>NaN</td>\n",
       "    </tr>\n",
       "    <tr>\n",
       "      <th>16714</th>\n",
       "      <td>Winning Post 8 2016</td>\n",
       "      <td>PSV</td>\n",
       "      <td>2016.0</td>\n",
       "      <td>Simulation</td>\n",
       "      <td>0.00</td>\n",
       "      <td>0.00</td>\n",
       "      <td>0.01</td>\n",
       "      <td>0.00</td>\n",
       "      <td>NaN</td>\n",
       "      <td>NaN</td>\n",
       "      <td>NaN</td>\n",
       "    </tr>\n",
       "  </tbody>\n",
       "</table>\n",
       "<p>16715 rows × 11 columns</p>\n",
       "</div>"
      ],
      "text/plain": [
       "                                Name Platform  Year_of_Release         Genre  \\\n",
       "0                         Wii Sports      Wii           2006.0        Sports   \n",
       "1                  Super Mario Bros.      NES           1985.0      Platform   \n",
       "2                     Mario Kart Wii      Wii           2008.0        Racing   \n",
       "3                  Wii Sports Resort      Wii           2009.0        Sports   \n",
       "4           Pokemon Red/Pokemon Blue       GB           1996.0  Role-Playing   \n",
       "...                              ...      ...              ...           ...   \n",
       "16710  Samurai Warriors: Sanada Maru      PS3           2016.0        Action   \n",
       "16711               LMA Manager 2007     X360           2006.0        Sports   \n",
       "16712        Haitaka no Psychedelica      PSV           2016.0     Adventure   \n",
       "16713               Spirits & Spells      GBA           2003.0      Platform   \n",
       "16714            Winning Post 8 2016      PSV           2016.0    Simulation   \n",
       "\n",
       "       NA_sales  EU_sales  JP_sales  Other_sales  Critic_Score User_Score  \\\n",
       "0         41.36     28.96      3.77         8.45          76.0          8   \n",
       "1         29.08      3.58      6.81         0.77           NaN        NaN   \n",
       "2         15.68     12.76      3.79         3.29          82.0        8.3   \n",
       "3         15.61     10.93      3.28         2.95          80.0          8   \n",
       "4         11.27      8.89     10.22         1.00           NaN        NaN   \n",
       "...         ...       ...       ...          ...           ...        ...   \n",
       "16710      0.00      0.00      0.01         0.00           NaN        NaN   \n",
       "16711      0.00      0.01      0.00         0.00           NaN        NaN   \n",
       "16712      0.00      0.00      0.01         0.00           NaN        NaN   \n",
       "16713      0.01      0.00      0.00         0.00           NaN        NaN   \n",
       "16714      0.00      0.00      0.01         0.00           NaN        NaN   \n",
       "\n",
       "      Rating  \n",
       "0          E  \n",
       "1        NaN  \n",
       "2          E  \n",
       "3          E  \n",
       "4        NaN  \n",
       "...      ...  \n",
       "16710    NaN  \n",
       "16711    NaN  \n",
       "16712    NaN  \n",
       "16713    NaN  \n",
       "16714    NaN  \n",
       "\n",
       "[16715 rows x 11 columns]"
      ]
     },
     "metadata": {},
     "output_type": "display_data"
    },
    {
     "name": "stdout",
     "output_type": "stream",
     "text": [
      "<class 'pandas.core.frame.DataFrame'>\n",
      "RangeIndex: 16715 entries, 0 to 16714\n",
      "Data columns (total 11 columns):\n",
      " #   Column           Non-Null Count  Dtype  \n",
      "---  ------           --------------  -----  \n",
      " 0   Name             16713 non-null  object \n",
      " 1   Platform         16715 non-null  object \n",
      " 2   Year_of_Release  16446 non-null  float64\n",
      " 3   Genre            16713 non-null  object \n",
      " 4   NA_sales         16715 non-null  float64\n",
      " 5   EU_sales         16715 non-null  float64\n",
      " 6   JP_sales         16715 non-null  float64\n",
      " 7   Other_sales      16715 non-null  float64\n",
      " 8   Critic_Score     8137 non-null   float64\n",
      " 9   User_Score       10014 non-null  object \n",
      " 10  Rating           9949 non-null   object \n",
      "dtypes: float64(6), object(5)\n",
      "memory usage: 1.4+ MB\n"
     ]
    }
   ],
   "source": [
    "games=pd.read_csv('/datasets/games.csv')\n",
    "size=games.shape[0]\n",
    "display(games)\n",
    "games.info()"
   ]
  },
  {
   "cell_type": "markdown",
   "metadata": {},
   "source": [
    "В данных обнаружено 16715 строк, можно заметить, что у столбца Year_of_Release неверный тип данных, поскольку год- целое число. Также можно заметить, что в последних трех столбцах очень много пропусков(около 45% строк в каждом столбце с пропусками) "
   ]
  },
  {
   "cell_type": "markdown",
   "metadata": {},
   "source": [
    "## Предобработка данных"
   ]
  },
  {
   "cell_type": "code",
   "execution_count": 46,
   "metadata": {},
   "outputs": [
    {
     "data": {
      "text/html": [
       "<div>\n",
       "<style scoped>\n",
       "    .dataframe tbody tr th:only-of-type {\n",
       "        vertical-align: middle;\n",
       "    }\n",
       "\n",
       "    .dataframe tbody tr th {\n",
       "        vertical-align: top;\n",
       "    }\n",
       "\n",
       "    .dataframe thead th {\n",
       "        text-align: right;\n",
       "    }\n",
       "</style>\n",
       "<table border=\"1\" class=\"dataframe\">\n",
       "  <thead>\n",
       "    <tr style=\"text-align: right;\">\n",
       "      <th></th>\n",
       "      <th>name</th>\n",
       "      <th>platform</th>\n",
       "      <th>year_of_release</th>\n",
       "      <th>genre</th>\n",
       "      <th>NA_sales</th>\n",
       "      <th>EU_sales</th>\n",
       "      <th>JP_sales</th>\n",
       "      <th>other_sales</th>\n",
       "      <th>critic_score</th>\n",
       "      <th>user_score</th>\n",
       "      <th>rating</th>\n",
       "    </tr>\n",
       "  </thead>\n",
       "  <tbody>\n",
       "    <tr>\n",
       "      <th>0</th>\n",
       "      <td>Wii Sports</td>\n",
       "      <td>Wii</td>\n",
       "      <td>2006.0</td>\n",
       "      <td>Sports</td>\n",
       "      <td>41.36</td>\n",
       "      <td>28.96</td>\n",
       "      <td>3.77</td>\n",
       "      <td>8.45</td>\n",
       "      <td>76.0</td>\n",
       "      <td>8</td>\n",
       "      <td>E</td>\n",
       "    </tr>\n",
       "    <tr>\n",
       "      <th>1</th>\n",
       "      <td>Super Mario Bros.</td>\n",
       "      <td>NES</td>\n",
       "      <td>1985.0</td>\n",
       "      <td>Platform</td>\n",
       "      <td>29.08</td>\n",
       "      <td>3.58</td>\n",
       "      <td>6.81</td>\n",
       "      <td>0.77</td>\n",
       "      <td>NaN</td>\n",
       "      <td>NaN</td>\n",
       "      <td>NaN</td>\n",
       "    </tr>\n",
       "    <tr>\n",
       "      <th>2</th>\n",
       "      <td>Mario Kart Wii</td>\n",
       "      <td>Wii</td>\n",
       "      <td>2008.0</td>\n",
       "      <td>Racing</td>\n",
       "      <td>15.68</td>\n",
       "      <td>12.76</td>\n",
       "      <td>3.79</td>\n",
       "      <td>3.29</td>\n",
       "      <td>82.0</td>\n",
       "      <td>8.3</td>\n",
       "      <td>E</td>\n",
       "    </tr>\n",
       "    <tr>\n",
       "      <th>3</th>\n",
       "      <td>Wii Sports Resort</td>\n",
       "      <td>Wii</td>\n",
       "      <td>2009.0</td>\n",
       "      <td>Sports</td>\n",
       "      <td>15.61</td>\n",
       "      <td>10.93</td>\n",
       "      <td>3.28</td>\n",
       "      <td>2.95</td>\n",
       "      <td>80.0</td>\n",
       "      <td>8</td>\n",
       "      <td>E</td>\n",
       "    </tr>\n",
       "    <tr>\n",
       "      <th>4</th>\n",
       "      <td>Pokemon Red/Pokemon Blue</td>\n",
       "      <td>GB</td>\n",
       "      <td>1996.0</td>\n",
       "      <td>Role-Playing</td>\n",
       "      <td>11.27</td>\n",
       "      <td>8.89</td>\n",
       "      <td>10.22</td>\n",
       "      <td>1.00</td>\n",
       "      <td>NaN</td>\n",
       "      <td>NaN</td>\n",
       "      <td>NaN</td>\n",
       "    </tr>\n",
       "    <tr>\n",
       "      <th>...</th>\n",
       "      <td>...</td>\n",
       "      <td>...</td>\n",
       "      <td>...</td>\n",
       "      <td>...</td>\n",
       "      <td>...</td>\n",
       "      <td>...</td>\n",
       "      <td>...</td>\n",
       "      <td>...</td>\n",
       "      <td>...</td>\n",
       "      <td>...</td>\n",
       "      <td>...</td>\n",
       "    </tr>\n",
       "    <tr>\n",
       "      <th>16710</th>\n",
       "      <td>Samurai Warriors: Sanada Maru</td>\n",
       "      <td>PS3</td>\n",
       "      <td>2016.0</td>\n",
       "      <td>Action</td>\n",
       "      <td>0.00</td>\n",
       "      <td>0.00</td>\n",
       "      <td>0.01</td>\n",
       "      <td>0.00</td>\n",
       "      <td>NaN</td>\n",
       "      <td>NaN</td>\n",
       "      <td>NaN</td>\n",
       "    </tr>\n",
       "    <tr>\n",
       "      <th>16711</th>\n",
       "      <td>LMA Manager 2007</td>\n",
       "      <td>X360</td>\n",
       "      <td>2006.0</td>\n",
       "      <td>Sports</td>\n",
       "      <td>0.00</td>\n",
       "      <td>0.01</td>\n",
       "      <td>0.00</td>\n",
       "      <td>0.00</td>\n",
       "      <td>NaN</td>\n",
       "      <td>NaN</td>\n",
       "      <td>NaN</td>\n",
       "    </tr>\n",
       "    <tr>\n",
       "      <th>16712</th>\n",
       "      <td>Haitaka no Psychedelica</td>\n",
       "      <td>PSV</td>\n",
       "      <td>2016.0</td>\n",
       "      <td>Adventure</td>\n",
       "      <td>0.00</td>\n",
       "      <td>0.00</td>\n",
       "      <td>0.01</td>\n",
       "      <td>0.00</td>\n",
       "      <td>NaN</td>\n",
       "      <td>NaN</td>\n",
       "      <td>NaN</td>\n",
       "    </tr>\n",
       "    <tr>\n",
       "      <th>16713</th>\n",
       "      <td>Spirits &amp; Spells</td>\n",
       "      <td>GBA</td>\n",
       "      <td>2003.0</td>\n",
       "      <td>Platform</td>\n",
       "      <td>0.01</td>\n",
       "      <td>0.00</td>\n",
       "      <td>0.00</td>\n",
       "      <td>0.00</td>\n",
       "      <td>NaN</td>\n",
       "      <td>NaN</td>\n",
       "      <td>NaN</td>\n",
       "    </tr>\n",
       "    <tr>\n",
       "      <th>16714</th>\n",
       "      <td>Winning Post 8 2016</td>\n",
       "      <td>PSV</td>\n",
       "      <td>2016.0</td>\n",
       "      <td>Simulation</td>\n",
       "      <td>0.00</td>\n",
       "      <td>0.00</td>\n",
       "      <td>0.01</td>\n",
       "      <td>0.00</td>\n",
       "      <td>NaN</td>\n",
       "      <td>NaN</td>\n",
       "      <td>NaN</td>\n",
       "    </tr>\n",
       "  </tbody>\n",
       "</table>\n",
       "<p>16715 rows × 11 columns</p>\n",
       "</div>"
      ],
      "text/plain": [
       "                                name platform  year_of_release         genre  \\\n",
       "0                         Wii Sports      Wii           2006.0        Sports   \n",
       "1                  Super Mario Bros.      NES           1985.0      Platform   \n",
       "2                     Mario Kart Wii      Wii           2008.0        Racing   \n",
       "3                  Wii Sports Resort      Wii           2009.0        Sports   \n",
       "4           Pokemon Red/Pokemon Blue       GB           1996.0  Role-Playing   \n",
       "...                              ...      ...              ...           ...   \n",
       "16710  Samurai Warriors: Sanada Maru      PS3           2016.0        Action   \n",
       "16711               LMA Manager 2007     X360           2006.0        Sports   \n",
       "16712        Haitaka no Psychedelica      PSV           2016.0     Adventure   \n",
       "16713               Spirits & Spells      GBA           2003.0      Platform   \n",
       "16714            Winning Post 8 2016      PSV           2016.0    Simulation   \n",
       "\n",
       "       NA_sales  EU_sales  JP_sales  other_sales  critic_score user_score  \\\n",
       "0         41.36     28.96      3.77         8.45          76.0          8   \n",
       "1         29.08      3.58      6.81         0.77           NaN        NaN   \n",
       "2         15.68     12.76      3.79         3.29          82.0        8.3   \n",
       "3         15.61     10.93      3.28         2.95          80.0          8   \n",
       "4         11.27      8.89     10.22         1.00           NaN        NaN   \n",
       "...         ...       ...       ...          ...           ...        ...   \n",
       "16710      0.00      0.00      0.01         0.00           NaN        NaN   \n",
       "16711      0.00      0.01      0.00         0.00           NaN        NaN   \n",
       "16712      0.00      0.00      0.01         0.00           NaN        NaN   \n",
       "16713      0.01      0.00      0.00         0.00           NaN        NaN   \n",
       "16714      0.00      0.00      0.01         0.00           NaN        NaN   \n",
       "\n",
       "      rating  \n",
       "0          E  \n",
       "1        NaN  \n",
       "2          E  \n",
       "3          E  \n",
       "4        NaN  \n",
       "...      ...  \n",
       "16710    NaN  \n",
       "16711    NaN  \n",
       "16712    NaN  \n",
       "16713    NaN  \n",
       "16714    NaN  \n",
       "\n",
       "[16715 rows x 11 columns]"
      ]
     },
     "execution_count": 46,
     "metadata": {},
     "output_type": "execute_result"
    }
   ],
   "source": [
    "#Заменю названия столбцов\n",
    "games=games.rename(columns={'Name':'name','Platform':'platform','Year_of_Release':'year_of_release','Genre':'genre','Other_sales':'other_sales','Critic_Score':'critic_score','User_Score':'user_score','Rating':'rating'})\n",
    "games"
   ]
  },
  {
   "cell_type": "code",
   "execution_count": 47,
   "metadata": {},
   "outputs": [
    {
     "name": "stdout",
     "output_type": "stream",
     "text": [
      "<class 'pandas.core.frame.DataFrame'>\n",
      "RangeIndex: 16715 entries, 0 to 16714\n",
      "Data columns (total 11 columns):\n",
      " #   Column           Non-Null Count  Dtype  \n",
      "---  ------           --------------  -----  \n",
      " 0   name             16713 non-null  object \n",
      " 1   platform         16715 non-null  object \n",
      " 2   year_of_release  16446 non-null  float64\n",
      " 3   genre            16713 non-null  object \n",
      " 4   NA_sales         16715 non-null  float64\n",
      " 5   EU_sales         16715 non-null  float64\n",
      " 6   JP_sales         16715 non-null  float64\n",
      " 7   other_sales      16715 non-null  float64\n",
      " 8   critic_score     8137 non-null   float64\n",
      " 9   user_score       10014 non-null  object \n",
      " 10  rating           9949 non-null   object \n",
      "dtypes: float64(6), object(5)\n",
      "memory usage: 1.4+ MB\n"
     ]
    }
   ],
   "source": [
    "games.info()"
   ]
  },
  {
   "cell_type": "markdown",
   "metadata": {},
   "source": [
    "Замечу, что в столбце 'year_of_release' отсутствует около 300 значений, поскольку это меньше 2 процентов от общего количества строк, удалю эти строки. В столбце 'genre' пропущено только 2 значения, поэтому также удалю строки с ними"
   ]
  },
  {
   "cell_type": "code",
   "execution_count": 48,
   "metadata": {},
   "outputs": [
    {
     "name": "stdout",
     "output_type": "stream",
     "text": [
      "<class 'pandas.core.frame.DataFrame'>\n",
      "RangeIndex: 16444 entries, 0 to 16443\n",
      "Data columns (total 12 columns):\n",
      " #   Column           Non-Null Count  Dtype  \n",
      "---  ------           --------------  -----  \n",
      " 0   index            16444 non-null  int64  \n",
      " 1   name             16444 non-null  object \n",
      " 2   platform         16444 non-null  object \n",
      " 3   year_of_release  16444 non-null  float64\n",
      " 4   genre            16444 non-null  object \n",
      " 5   NA_sales         16444 non-null  float64\n",
      " 6   EU_sales         16444 non-null  float64\n",
      " 7   JP_sales         16444 non-null  float64\n",
      " 8   other_sales      16444 non-null  float64\n",
      " 9   critic_score     7983 non-null   float64\n",
      " 10  user_score       9839 non-null   object \n",
      " 11  rating           9768 non-null   object \n",
      "dtypes: float64(6), int64(1), object(5)\n",
      "memory usage: 1.5+ MB\n"
     ]
    }
   ],
   "source": [
    "games=games.dropna(subset=['year_of_release','genre']).reset_index()\n",
    "games.info()"
   ]
  },
  {
   "cell_type": "markdown",
   "metadata": {},
   "source": [
    "<a id='section_id'></a>\n",
    "В столбцах с оценкой пользователей и оценкой критиков слишком много пропусков, поэтому при их заполнении данные исказятся. В этих столбцах так много пропусков возможно потому, что достаточно много игр вышло в 2016 году и еще не успело получить оценку от критиков и игроков."
   ]
  },
  {
   "cell_type": "markdown",
   "metadata": {},
   "source": [
    "Что касается рейтинга ESRB,  пропуски в этой колонке не являются просто ошибкой заполнения данных, а несут определенную информацию. Чтобы проанализировать ее, на пропуски следует поставить заглушку."
   ]
  },
  {
   "cell_type": "code",
   "execution_count": 49,
   "metadata": {},
   "outputs": [
    {
     "name": "stdout",
     "output_type": "stream",
     "text": [
      "<class 'pandas.core.frame.DataFrame'>\n",
      "RangeIndex: 16444 entries, 0 to 16443\n",
      "Data columns (total 12 columns):\n",
      " #   Column           Non-Null Count  Dtype  \n",
      "---  ------           --------------  -----  \n",
      " 0   index            16444 non-null  int64  \n",
      " 1   name             16444 non-null  object \n",
      " 2   platform         16444 non-null  object \n",
      " 3   year_of_release  16444 non-null  float64\n",
      " 4   genre            16444 non-null  object \n",
      " 5   NA_sales         16444 non-null  float64\n",
      " 6   EU_sales         16444 non-null  float64\n",
      " 7   JP_sales         16444 non-null  float64\n",
      " 8   other_sales      16444 non-null  float64\n",
      " 9   critic_score     7983 non-null   float64\n",
      " 10  user_score       9839 non-null   object \n",
      " 11  rating           16444 non-null  object \n",
      "dtypes: float64(6), int64(1), object(5)\n",
      "memory usage: 1.5+ MB\n"
     ]
    }
   ],
   "source": [
    "games['rating']=games['rating'].fillna('Unknown')\n",
    "games.info()"
   ]
  },
  {
   "cell_type": "markdown",
   "metadata": {},
   "source": [
    "Пропуски в столбцах 'year_of_release' и 'genre' могли возникнуть случайно, поскольку их количество составляет менее 2% от общего количества. Пропуски в столбцах 'critic_score' и 'user_score' могли возникнуть из-за того, что игра могла собрать недостаточно продаж, чтобы быьть оцененной игроками и критиками."
   ]
  },
  {
   "cell_type": "code",
   "execution_count": 50,
   "metadata": {},
   "outputs": [
    {
     "data": {
      "text/plain": [
       "98.37870176488184"
      ]
     },
     "execution_count": 50,
     "metadata": {},
     "output_type": "execute_result"
    }
   ],
   "source": [
    "games.shape[0]/size*100"
   ]
  },
  {
   "cell_type": "markdown",
   "metadata": {},
   "source": [
    "Поскольку от первоначального датасета осталось 98% данных, можно продолжить предобработку."
   ]
  },
  {
   "cell_type": "markdown",
   "metadata": {},
   "source": [
    "Поскольку год релиза- всегда целое число, заменю тип данных этого столбца на int64"
   ]
  },
  {
   "cell_type": "code",
   "execution_count": 51,
   "metadata": {},
   "outputs": [
    {
     "name": "stdout",
     "output_type": "stream",
     "text": [
      "<class 'pandas.core.frame.DataFrame'>\n",
      "RangeIndex: 16444 entries, 0 to 16443\n",
      "Data columns (total 12 columns):\n",
      " #   Column           Non-Null Count  Dtype  \n",
      "---  ------           --------------  -----  \n",
      " 0   index            16444 non-null  int64  \n",
      " 1   name             16444 non-null  object \n",
      " 2   platform         16444 non-null  object \n",
      " 3   year_of_release  16444 non-null  int64  \n",
      " 4   genre            16444 non-null  object \n",
      " 5   NA_sales         16444 non-null  float64\n",
      " 6   EU_sales         16444 non-null  float64\n",
      " 7   JP_sales         16444 non-null  float64\n",
      " 8   other_sales      16444 non-null  float64\n",
      " 9   critic_score     7983 non-null   float64\n",
      " 10  user_score       9839 non-null   object \n",
      " 11  rating           16444 non-null  object \n",
      "dtypes: float64(5), int64(2), object(5)\n",
      "memory usage: 1.5+ MB\n"
     ]
    }
   ],
   "source": [
    "games['year_of_release']=games['year_of_release'].astype(int)\n",
    "games.info()"
   ]
  },
  {
   "cell_type": "code",
   "execution_count": 52,
   "metadata": {},
   "outputs": [
    {
     "data": {
      "text/plain": [
       "array(['8', nan, '8.3', '8.5', '6.6', '8.4', '8.6', '7.7', '6.3', '7.4',\n",
       "       '8.2', '9', '7.9', '8.1', '8.7', '7.1', '3.4', '5.3', '4.8', '3.2',\n",
       "       '8.9', '6.4', '7.8', '7.5', '2.6', '7.2', '9.2', '7', '7.3', '4.3',\n",
       "       '7.6', '5.7', '5', '9.1', '6.5', 'tbd', '8.8', '6.9', '9.4', '6.8',\n",
       "       '6.1', '6.7', '5.4', '4', '4.9', '4.5', '9.3', '6.2', '4.2', '6',\n",
       "       '3.7', '4.1', '5.8', '5.6', '5.5', '4.4', '4.6', '5.9', '3.9',\n",
       "       '3.1', '2.9', '5.2', '3.3', '4.7', '5.1', '3.5', '2.5', '1.9', '3',\n",
       "       '2.7', '2.2', '2', '9.5', '2.1', '3.6', '2.8', '1.8', '3.8', '0',\n",
       "       '1.6', '9.6', '2.4', '1.7', '1.1', '0.3', '1.5', '0.7', '1.2',\n",
       "       '2.3', '0.5', '1.3', '0.2', '0.6', '1.4', '0.9', '1', '9.7'],\n",
       "      dtype=object)"
      ]
     },
     "execution_count": 52,
     "metadata": {},
     "output_type": "execute_result"
    }
   ],
   "source": [
    "games['user_score'].unique()"
   ]
  },
  {
   "cell_type": "markdown",
   "metadata": {},
   "source": [
    "Замечу, что у столбца 'user_score' тип данных 'object', хотя оценка- это число. В уникальных значениях этого столбца также присутствует значение 'tbd'. Попробую разобраться, что оно значит"
   ]
  },
  {
   "cell_type": "code",
   "execution_count": 53,
   "metadata": {},
   "outputs": [
    {
     "data": {
      "image/png": "[encoded data removed]",
      "text/plain": [
       "<Figure size 432x288 with 1 Axes>"
      ]
     },
     "metadata": {
      "needs_background": "light"
     },
     "output_type": "display_data"
    }
   ],
   "source": [
    "tbd=games.query('user_score==\"tbd\"')\n",
    "plt.hist(tbd['year_of_release'],bins=40)\n",
    "plt.xlabel('Год релиза')\n",
    "plt.ylabel('Всего выпущено')\n",
    "plt.title('Игры с пометкой tbd по годам')\n",
    "plt.show()\n",
    "#plt.plot(tbd['year_of_release'],tbd['user_score'])"
   ]
  },
  {
   "cell_type": "markdown",
   "metadata": {},
   "source": [
    "Видно, что значение tbd стабильно появлялось во все года датасета. Попробую посмотреть, зависит ли оно от продаж в регионах"
   ]
  },
  {
   "cell_type": "code",
   "execution_count": 54,
   "metadata": {},
   "outputs": [
    {
     "data": {
      "image/png": "[encoded data removed]",
      "text/plain": [
       "<Figure size 432x288 with 1 Axes>"
      ]
     },
     "metadata": {
      "needs_background": "light"
     },
     "output_type": "display_data"
    }
   ],
   "source": [
    "plt.hist(tbd['NA_sales'],bins=40)\n",
    "plt.xlabel('Продано копий (в млн)')\n",
    "plt.ylabel('Количество')\n",
    "plt.title('Игры с пометкой tbd в NA')\n",
    "plt.show()"
   ]
  },
  {
   "cell_type": "code",
   "execution_count": 55,
   "metadata": {},
   "outputs": [
    {
     "data": {
      "image/png": "[encoded data removed]",
      "text/plain": [
       "<Figure size 432x288 with 1 Axes>"
      ]
     },
     "metadata": {
      "needs_background": "light"
     },
     "output_type": "display_data"
    }
   ],
   "source": [
    "plt.hist(tbd['EU_sales'],bins=40)\n",
    "plt.xlabel('Продано копий (в млн)')\n",
    "plt.ylabel('Количество')\n",
    "plt.title('Игры с пометкой tbd в EU')\n",
    "plt.show()"
   ]
  },
  {
   "cell_type": "code",
   "execution_count": 56,
   "metadata": {},
   "outputs": [
    {
     "data": {
      "image/png": "[encoded data removed]",
      "text/plain": [
       "<Figure size 432x288 with 1 Axes>"
      ]
     },
     "metadata": {
      "needs_background": "light"
     },
     "output_type": "display_data"
    }
   ],
   "source": [
    "plt.hist(tbd['JP_sales'],bins=40)\n",
    "plt.xlabel('Продано копий (в млн)')\n",
    "plt.ylabel('Количество')\n",
    "plt.title('Игры с пометкой tbd в JP')\n",
    "plt.show()"
   ]
  },
  {
   "cell_type": "code",
   "execution_count": 57,
   "metadata": {},
   "outputs": [
    {
     "data": {
      "image/png": "[encoded data removed]",
      "text/plain": [
       "<Figure size 432x288 with 1 Axes>"
      ]
     },
     "metadata": {
      "needs_background": "light"
     },
     "output_type": "display_data"
    }
   ],
   "source": [
    "plt.hist(tbd['other_sales'],bins=40)\n",
    "plt.xlabel('Продано копий (в млн)')\n",
    "plt.ylabel('Количество')\n",
    "plt.title('Игры с пометкой tbd в других регионах')\n",
    "plt.show()"
   ]
  },
  {
   "cell_type": "markdown",
   "metadata": {},
   "source": [
    "Во всех строках со значением tbd в столбце 'user_score' очень низкие продажи. Из этого можно сделать вывод, что значение tbd означает, что игру еще не успело оценить достаточное количество игроков."
   ]
  },
  {
   "cell_type": "code",
   "execution_count": 58,
   "metadata": {},
   "outputs": [
    {
     "data": {
      "text/plain": [
       "2376"
      ]
     },
     "execution_count": 58,
     "metadata": {},
     "output_type": "execute_result"
    }
   ],
   "source": [
    "len(games.query('user_score==\"tbd\"'))"
   ]
  },
  {
   "cell_type": "markdown",
   "metadata": {},
   "source": [
    "Поскольку значение tbd встречается очень часто, если удалить все строки с этим значением, можно лишиться ценной части данных, поэтому просто поставлю заглушку на все значения tbd"
   ]
  },
  {
   "cell_type": "code",
   "execution_count": 59,
   "metadata": {},
   "outputs": [],
   "source": [
    "games['user_score']=games['user_score'].replace('tbd','')"
   ]
  },
  {
   "cell_type": "code",
   "execution_count": 60,
   "metadata": {},
   "outputs": [
    {
     "data": {
      "text/html": [
       "<div>\n",
       "<style scoped>\n",
       "    .dataframe tbody tr th:only-of-type {\n",
       "        vertical-align: middle;\n",
       "    }\n",
       "\n",
       "    .dataframe tbody tr th {\n",
       "        vertical-align: top;\n",
       "    }\n",
       "\n",
       "    .dataframe thead th {\n",
       "        text-align: right;\n",
       "    }\n",
       "</style>\n",
       "<table border=\"1\" class=\"dataframe\">\n",
       "  <thead>\n",
       "    <tr style=\"text-align: right;\">\n",
       "      <th></th>\n",
       "      <th>index</th>\n",
       "      <th>name</th>\n",
       "      <th>platform</th>\n",
       "      <th>year_of_release</th>\n",
       "      <th>genre</th>\n",
       "      <th>NA_sales</th>\n",
       "      <th>EU_sales</th>\n",
       "      <th>JP_sales</th>\n",
       "      <th>other_sales</th>\n",
       "      <th>critic_score</th>\n",
       "      <th>user_score</th>\n",
       "      <th>rating</th>\n",
       "      <th>total_sales</th>\n",
       "    </tr>\n",
       "  </thead>\n",
       "  <tbody>\n",
       "    <tr>\n",
       "      <th>0</th>\n",
       "      <td>0</td>\n",
       "      <td>Wii Sports</td>\n",
       "      <td>Wii</td>\n",
       "      <td>2006</td>\n",
       "      <td>Sports</td>\n",
       "      <td>41.36</td>\n",
       "      <td>28.96</td>\n",
       "      <td>3.77</td>\n",
       "      <td>8.45</td>\n",
       "      <td>76.0</td>\n",
       "      <td>8</td>\n",
       "      <td>E</td>\n",
       "      <td>82.54</td>\n",
       "    </tr>\n",
       "    <tr>\n",
       "      <th>1</th>\n",
       "      <td>1</td>\n",
       "      <td>Super Mario Bros.</td>\n",
       "      <td>NES</td>\n",
       "      <td>1985</td>\n",
       "      <td>Platform</td>\n",
       "      <td>29.08</td>\n",
       "      <td>3.58</td>\n",
       "      <td>6.81</td>\n",
       "      <td>0.77</td>\n",
       "      <td>NaN</td>\n",
       "      <td>NaN</td>\n",
       "      <td>Unknown</td>\n",
       "      <td>40.24</td>\n",
       "    </tr>\n",
       "    <tr>\n",
       "      <th>2</th>\n",
       "      <td>2</td>\n",
       "      <td>Mario Kart Wii</td>\n",
       "      <td>Wii</td>\n",
       "      <td>2008</td>\n",
       "      <td>Racing</td>\n",
       "      <td>15.68</td>\n",
       "      <td>12.76</td>\n",
       "      <td>3.79</td>\n",
       "      <td>3.29</td>\n",
       "      <td>82.0</td>\n",
       "      <td>8.3</td>\n",
       "      <td>E</td>\n",
       "      <td>35.52</td>\n",
       "    </tr>\n",
       "    <tr>\n",
       "      <th>3</th>\n",
       "      <td>3</td>\n",
       "      <td>Wii Sports Resort</td>\n",
       "      <td>Wii</td>\n",
       "      <td>2009</td>\n",
       "      <td>Sports</td>\n",
       "      <td>15.61</td>\n",
       "      <td>10.93</td>\n",
       "      <td>3.28</td>\n",
       "      <td>2.95</td>\n",
       "      <td>80.0</td>\n",
       "      <td>8</td>\n",
       "      <td>E</td>\n",
       "      <td>32.77</td>\n",
       "    </tr>\n",
       "    <tr>\n",
       "      <th>4</th>\n",
       "      <td>4</td>\n",
       "      <td>Pokemon Red/Pokemon Blue</td>\n",
       "      <td>GB</td>\n",
       "      <td>1996</td>\n",
       "      <td>Role-Playing</td>\n",
       "      <td>11.27</td>\n",
       "      <td>8.89</td>\n",
       "      <td>10.22</td>\n",
       "      <td>1.00</td>\n",
       "      <td>NaN</td>\n",
       "      <td>NaN</td>\n",
       "      <td>Unknown</td>\n",
       "      <td>31.38</td>\n",
       "    </tr>\n",
       "    <tr>\n",
       "      <th>...</th>\n",
       "      <td>...</td>\n",
       "      <td>...</td>\n",
       "      <td>...</td>\n",
       "      <td>...</td>\n",
       "      <td>...</td>\n",
       "      <td>...</td>\n",
       "      <td>...</td>\n",
       "      <td>...</td>\n",
       "      <td>...</td>\n",
       "      <td>...</td>\n",
       "      <td>...</td>\n",
       "      <td>...</td>\n",
       "      <td>...</td>\n",
       "    </tr>\n",
       "    <tr>\n",
       "      <th>16439</th>\n",
       "      <td>16710</td>\n",
       "      <td>Samurai Warriors: Sanada Maru</td>\n",
       "      <td>PS3</td>\n",
       "      <td>2016</td>\n",
       "      <td>Action</td>\n",
       "      <td>0.00</td>\n",
       "      <td>0.00</td>\n",
       "      <td>0.01</td>\n",
       "      <td>0.00</td>\n",
       "      <td>NaN</td>\n",
       "      <td>NaN</td>\n",
       "      <td>Unknown</td>\n",
       "      <td>0.01</td>\n",
       "    </tr>\n",
       "    <tr>\n",
       "      <th>16440</th>\n",
       "      <td>16711</td>\n",
       "      <td>LMA Manager 2007</td>\n",
       "      <td>X360</td>\n",
       "      <td>2006</td>\n",
       "      <td>Sports</td>\n",
       "      <td>0.00</td>\n",
       "      <td>0.01</td>\n",
       "      <td>0.00</td>\n",
       "      <td>0.00</td>\n",
       "      <td>NaN</td>\n",
       "      <td>NaN</td>\n",
       "      <td>Unknown</td>\n",
       "      <td>0.01</td>\n",
       "    </tr>\n",
       "    <tr>\n",
       "      <th>16441</th>\n",
       "      <td>16712</td>\n",
       "      <td>Haitaka no Psychedelica</td>\n",
       "      <td>PSV</td>\n",
       "      <td>2016</td>\n",
       "      <td>Adventure</td>\n",
       "      <td>0.00</td>\n",
       "      <td>0.00</td>\n",
       "      <td>0.01</td>\n",
       "      <td>0.00</td>\n",
       "      <td>NaN</td>\n",
       "      <td>NaN</td>\n",
       "      <td>Unknown</td>\n",
       "      <td>0.01</td>\n",
       "    </tr>\n",
       "    <tr>\n",
       "      <th>16442</th>\n",
       "      <td>16713</td>\n",
       "      <td>Spirits &amp; Spells</td>\n",
       "      <td>GBA</td>\n",
       "      <td>2003</td>\n",
       "      <td>Platform</td>\n",
       "      <td>0.01</td>\n",
       "      <td>0.00</td>\n",
       "      <td>0.00</td>\n",
       "      <td>0.00</td>\n",
       "      <td>NaN</td>\n",
       "      <td>NaN</td>\n",
       "      <td>Unknown</td>\n",
       "      <td>0.01</td>\n",
       "    </tr>\n",
       "    <tr>\n",
       "      <th>16443</th>\n",
       "      <td>16714</td>\n",
       "      <td>Winning Post 8 2016</td>\n",
       "      <td>PSV</td>\n",
       "      <td>2016</td>\n",
       "      <td>Simulation</td>\n",
       "      <td>0.00</td>\n",
       "      <td>0.00</td>\n",
       "      <td>0.01</td>\n",
       "      <td>0.00</td>\n",
       "      <td>NaN</td>\n",
       "      <td>NaN</td>\n",
       "      <td>Unknown</td>\n",
       "      <td>0.01</td>\n",
       "    </tr>\n",
       "  </tbody>\n",
       "</table>\n",
       "<p>16444 rows × 13 columns</p>\n",
       "</div>"
      ],
      "text/plain": [
       "       index                           name platform  year_of_release  \\\n",
       "0          0                     Wii Sports      Wii             2006   \n",
       "1          1              Super Mario Bros.      NES             1985   \n",
       "2          2                 Mario Kart Wii      Wii             2008   \n",
       "3          3              Wii Sports Resort      Wii             2009   \n",
       "4          4       Pokemon Red/Pokemon Blue       GB             1996   \n",
       "...      ...                            ...      ...              ...   \n",
       "16439  16710  Samurai Warriors: Sanada Maru      PS3             2016   \n",
       "16440  16711               LMA Manager 2007     X360             2006   \n",
       "16441  16712        Haitaka no Psychedelica      PSV             2016   \n",
       "16442  16713               Spirits & Spells      GBA             2003   \n",
       "16443  16714            Winning Post 8 2016      PSV             2016   \n",
       "\n",
       "              genre  NA_sales  EU_sales  JP_sales  other_sales  critic_score  \\\n",
       "0            Sports     41.36     28.96      3.77         8.45          76.0   \n",
       "1          Platform     29.08      3.58      6.81         0.77           NaN   \n",
       "2            Racing     15.68     12.76      3.79         3.29          82.0   \n",
       "3            Sports     15.61     10.93      3.28         2.95          80.0   \n",
       "4      Role-Playing     11.27      8.89     10.22         1.00           NaN   \n",
       "...             ...       ...       ...       ...          ...           ...   \n",
       "16439        Action      0.00      0.00      0.01         0.00           NaN   \n",
       "16440        Sports      0.00      0.01      0.00         0.00           NaN   \n",
       "16441     Adventure      0.00      0.00      0.01         0.00           NaN   \n",
       "16442      Platform      0.01      0.00      0.00         0.00           NaN   \n",
       "16443    Simulation      0.00      0.00      0.01         0.00           NaN   \n",
       "\n",
       "      user_score   rating  total_sales  \n",
       "0              8        E        82.54  \n",
       "1            NaN  Unknown        40.24  \n",
       "2            8.3        E        35.52  \n",
       "3              8        E        32.77  \n",
       "4            NaN  Unknown        31.38  \n",
       "...          ...      ...          ...  \n",
       "16439        NaN  Unknown         0.01  \n",
       "16440        NaN  Unknown         0.01  \n",
       "16441        NaN  Unknown         0.01  \n",
       "16442        NaN  Unknown         0.01  \n",
       "16443        NaN  Unknown         0.01  \n",
       "\n",
       "[16444 rows x 13 columns]"
      ]
     },
     "execution_count": 60,
     "metadata": {},
     "output_type": "execute_result"
    }
   ],
   "source": [
    "#Посчитаю суммарные продажи\n",
    "games['total_sales']=games['NA_sales']+games['EU_sales']+games['JP_sales']+games['other_sales']\n",
    "games"
   ]
  },
  {
   "cell_type": "markdown",
   "metadata": {},
   "source": [
    "Проверю данные на явные и неявные дубликаты"
   ]
  },
  {
   "cell_type": "code",
   "execution_count": 61,
   "metadata": {},
   "outputs": [
    {
     "name": "stdout",
     "output_type": "stream",
     "text": [
      "0\n",
      "['Wii' 'NES' 'GB' 'DS' 'X360' 'PS3' 'PS2' 'SNES' 'GBA' 'PS4' '3DS' 'N64'\n",
      " 'PS' 'XB' 'PC' '2600' 'PSP' 'XOne' 'WiiU' 'GC' 'GEN' 'DC' 'PSV' 'SAT'\n",
      " 'SCD' 'WS' 'NG' 'TG16' '3DO' 'GG' 'PCFX'] [2006 1985 2008 2009 1996 1989 1984 2005 1999 2007 2010 2013 2004 1990\n",
      " 1988 2002 2001 2011 1998 2015 2012 2014 1992 1997 1993 1994 1982 2016\n",
      " 2003 1986 2000 1995 1991 1981 1987 1980 1983]\n"
     ]
    },
    {
     "data": {
      "text/plain": [
       "11426"
      ]
     },
     "execution_count": 61,
     "metadata": {},
     "output_type": "execute_result"
    }
   ],
   "source": [
    "print(games.duplicated().sum())\n",
    "print(games['platform'].unique(),games['year_of_release'].unique())\n",
    "len(games['name'].unique())"
   ]
  },
  {
   "cell_type": "markdown",
   "metadata": {},
   "source": [
    "В столбцах 'year_of_release' и 'platform' неявных дубликатов не обнаружено, однако количество уникальных значений в столбце 'name' составляет всего 11426 из 14444 строк. Такое возможно, поскольку одна и та же игра могла быть выпущена на разных платформах, с разными продажами в каждой стране, поэтому удалять их- крайне нелогично и неправильно "
   ]
  },
  {
   "cell_type": "markdown",
   "metadata": {},
   "source": [
    "Посмотрю также на неявные дубликаты, т.е. на совпадения в столбцах name, platform и year_of_release"
   ]
  },
  {
   "cell_type": "code",
   "execution_count": 62,
   "metadata": {},
   "outputs": [
    {
     "data": {
      "text/html": [
       "<div>\n",
       "<style scoped>\n",
       "    .dataframe tbody tr th:only-of-type {\n",
       "        vertical-align: middle;\n",
       "    }\n",
       "\n",
       "    .dataframe tbody tr th {\n",
       "        vertical-align: top;\n",
       "    }\n",
       "\n",
       "    .dataframe thead th {\n",
       "        text-align: right;\n",
       "    }\n",
       "</style>\n",
       "<table border=\"1\" class=\"dataframe\">\n",
       "  <thead>\n",
       "    <tr style=\"text-align: right;\">\n",
       "      <th></th>\n",
       "      <th>index</th>\n",
       "      <th>name</th>\n",
       "      <th>platform</th>\n",
       "      <th>year_of_release</th>\n",
       "      <th>genre</th>\n",
       "      <th>NA_sales</th>\n",
       "      <th>EU_sales</th>\n",
       "      <th>JP_sales</th>\n",
       "      <th>other_sales</th>\n",
       "      <th>critic_score</th>\n",
       "      <th>user_score</th>\n",
       "      <th>rating</th>\n",
       "      <th>total_sales</th>\n",
       "    </tr>\n",
       "  </thead>\n",
       "  <tbody>\n",
       "    <tr>\n",
       "      <th>600</th>\n",
       "      <td>604</td>\n",
       "      <td>Madden NFL 13</td>\n",
       "      <td>PS3</td>\n",
       "      <td>2012</td>\n",
       "      <td>Sports</td>\n",
       "      <td>2.11</td>\n",
       "      <td>0.22</td>\n",
       "      <td>0.0</td>\n",
       "      <td>0.23</td>\n",
       "      <td>83.0</td>\n",
       "      <td>5.5</td>\n",
       "      <td>E</td>\n",
       "      <td>2.56</td>\n",
       "    </tr>\n",
       "    <tr>\n",
       "      <th>15969</th>\n",
       "      <td>16230</td>\n",
       "      <td>Madden NFL 13</td>\n",
       "      <td>PS3</td>\n",
       "      <td>2012</td>\n",
       "      <td>Sports</td>\n",
       "      <td>0.00</td>\n",
       "      <td>0.01</td>\n",
       "      <td>0.0</td>\n",
       "      <td>0.00</td>\n",
       "      <td>83.0</td>\n",
       "      <td>5.5</td>\n",
       "      <td>E</td>\n",
       "      <td>0.01</td>\n",
       "    </tr>\n",
       "  </tbody>\n",
       "</table>\n",
       "</div>"
      ],
      "text/plain": [
       "       index           name platform  year_of_release   genre  NA_sales  \\\n",
       "600      604  Madden NFL 13      PS3             2012  Sports      2.11   \n",
       "15969  16230  Madden NFL 13      PS3             2012  Sports      0.00   \n",
       "\n",
       "       EU_sales  JP_sales  other_sales  critic_score user_score rating  \\\n",
       "600        0.22       0.0         0.23          83.0        5.5      E   \n",
       "15969      0.01       0.0         0.00          83.0        5.5      E   \n",
       "\n",
       "       total_sales  \n",
       "600           2.56  \n",
       "15969         0.01  "
      ]
     },
     "execution_count": 62,
     "metadata": {},
     "output_type": "execute_result"
    }
   ],
   "source": [
    "games[games[['name', 'platform','year_of_release']].duplicated(keep=False)]"
   ]
  },
  {
   "cell_type": "markdown",
   "metadata": {},
   "source": [
    "Видно, что одна и та же игра на одной и той же платформе, вышедшая в одном и том же году, попала в датасет. Второй раз она собрала лишь 10 тысяч продаж в Европе, возможно вышло какое-то новое обновление, позволившее разработчикам запустить второй релиз. Значит эти продажи можно прибавить к первоначальному значению в столбце EU_sales."
   ]
  },
  {
   "cell_type": "code",
   "execution_count": 63,
   "metadata": {},
   "outputs": [
    {
     "data": {
      "text/html": [
       "<div>\n",
       "<style scoped>\n",
       "    .dataframe tbody tr th:only-of-type {\n",
       "        vertical-align: middle;\n",
       "    }\n",
       "\n",
       "    .dataframe tbody tr th {\n",
       "        vertical-align: top;\n",
       "    }\n",
       "\n",
       "    .dataframe thead th {\n",
       "        text-align: right;\n",
       "    }\n",
       "</style>\n",
       "<table border=\"1\" class=\"dataframe\">\n",
       "  <thead>\n",
       "    <tr style=\"text-align: right;\">\n",
       "      <th></th>\n",
       "      <th>index</th>\n",
       "      <th>name</th>\n",
       "      <th>platform</th>\n",
       "      <th>year_of_release</th>\n",
       "      <th>genre</th>\n",
       "      <th>NA_sales</th>\n",
       "      <th>EU_sales</th>\n",
       "      <th>JP_sales</th>\n",
       "      <th>other_sales</th>\n",
       "      <th>critic_score</th>\n",
       "      <th>user_score</th>\n",
       "      <th>rating</th>\n",
       "      <th>total_sales</th>\n",
       "    </tr>\n",
       "  </thead>\n",
       "  <tbody>\n",
       "  </tbody>\n",
       "</table>\n",
       "</div>"
      ],
      "text/plain": [
       "Empty DataFrame\n",
       "Columns: [index, name, platform, year_of_release, genre, NA_sales, EU_sales, JP_sales, other_sales, critic_score, user_score, rating, total_sales]\n",
       "Index: []"
      ]
     },
     "execution_count": 63,
     "metadata": {},
     "output_type": "execute_result"
    }
   ],
   "source": [
    "games.loc[600,'EU_sales']=games.loc[600,'EU_sales']+0.01\n",
    "games.drop(15969,inplace=True)\n",
    "games[games[['name', 'platform','year_of_release']].duplicated(keep=False)]"
   ]
  },
  {
   "cell_type": "markdown",
   "metadata": {},
   "source": [
    "\n",
    "Вывод:    \n",
    "\n",
    "В анализируемом датасете пропуски могли возникнуть из-за того, что игры с низкими продажами не были оценены критиками и игроками, из-за чего в соответствующих столбцах и возникли пропуски. \n",
    "    \n",
    "Явных дубликатов в датасете не обнаружено, а неявные дубликаты есть только в столбце 'name', возможно из-за того, что одна и та же игра могла быть выпущена на разных платформах. Также была обнаружена одна игра с одинаковым названием, годом выпуска и платформой, возможно из-за глобального обновления игры, разработчики решили запустить релиз еще раз."
   ]
  },
  {
   "cell_type": "markdown",
   "metadata": {},
   "source": [
    "## Исследовательский анализ данных"
   ]
  },
  {
   "cell_type": "code",
   "execution_count": 64,
   "metadata": {},
   "outputs": [
    {
     "data": {
      "image/png": "[encoded data removed]",
      "text/plain": [
       "<Figure size 432x288 with 1 Axes>"
      ]
     },
     "metadata": {
      "needs_background": "light"
     },
     "output_type": "display_data"
    }
   ],
   "source": [
    "#Посмотрю, сколько игр выпускалось в разные года\n",
    "ch=games.groupby('year_of_release')['name'].count()\n",
    "ch.plot(kind='line',marker='o')\n",
    "plt.xlabel('Год релиза')\n",
    "plt.ylabel('Количество')\n",
    "plt.title('Выпуск игр в разные года')\n",
    "plt.show()"
   ]
  },
  {
   "cell_type": "markdown",
   "metadata": {},
   "source": [
    "Замечу, что до 2000 года игры продавались значительно реже, чем в 21 веке. Это может быть связано с тем, что игры, выпускаемые в прошлом веке уже перестают поддерживаться новыми платформами."
   ]
  },
  {
   "cell_type": "code",
   "execution_count": 65,
   "metadata": {},
   "outputs": [
    {
     "data": {
      "image/png": "[encoded data removed]",
      "text/plain": [
       "<Figure size 1080x720 with 2 Axes>"
      ]
     },
     "metadata": {
      "needs_background": "light"
     },
     "output_type": "display_data"
    }
   ],
   "source": [
    "#Найду платформы с наибольшим числом продаж\n",
    "platf=games.pivot_table(index='platform',columns='year_of_release',values='total_sales',aggfunc=\"sum\")\n",
    "fig, ax = plt.subplots(figsize=(15, 10))\n",
    "sns.heatmap(platf)\n",
    "plt.xlabel('Год релиза')\n",
    "plt.ylabel('Продано копий (в млн)')\n",
    "plt.title('Распределение продаж на платформах по годам')\n",
    "plt.show()"
   ]
  },
  {
   "cell_type": "markdown",
   "metadata": {},
   "source": [
    "По графику видно, что в среднем платформы \"живут\" примерно 10 лет, а затем появляются новые в силу развития технологий. Поскольку нам необходимо построить прогноз на 2017 год, можно сформулировать актуальный период- это 2014-2016 годы, ориентируясь на данные в этом периоде, можно составить прогноз на 2017 год. "
   ]
  },
  {
   "cell_type": "code",
   "execution_count": 66,
   "metadata": {},
   "outputs": [],
   "source": [
    "actual=games.query('year_of_release>2013')"
   ]
  },
  {
   "cell_type": "code",
   "execution_count": 67,
   "metadata": {},
   "outputs": [
    {
     "data": {
      "text/plain": [
       "platform\n",
       "PS4     288.15\n",
       "XOne    140.36\n",
       "3DS      86.68\n",
       "PS3      68.18\n",
       "X360     48.22\n",
       "Name: total, dtype: float64"
      ]
     },
     "execution_count": 67,
     "metadata": {},
     "output_type": "execute_result"
    }
   ],
   "source": [
    "platf2=actual.pivot_table(index='platform',columns='year_of_release',values='total_sales',aggfunc=\"sum\")\n",
    "platf2['total']=platf2.sum(axis=1)\n",
    "platf2['total'].sort_values(ascending=False).head()"
   ]
  },
  {
   "cell_type": "markdown",
   "metadata": {},
   "source": [
    "Платформы с наибольшим количеством продаж представлены на экране."
   ]
  },
  {
   "cell_type": "code",
   "execution_count": 68,
   "metadata": {},
   "outputs": [
    {
     "data": {
      "image/png": "[encoded data removed]",
      "text/plain": [
       "<Figure size 1080x360 with 1 Axes>"
      ]
     },
     "metadata": {
      "needs_background": "light"
     },
     "output_type": "display_data"
    }
   ],
   "source": [
    "platf_graph=platf.query('index in [\"X360\",\"PS4\",\"PS3\",\"XOne\",\"3DS\"]')\n",
    "platf_graph=platf_graph.transpose()\n",
    "platf_graph.plot(kind='line',marker='o',figsize=(15,5))\n",
    "plt.xlabel('Год релиза')\n",
    "plt.ylabel('Продано копий (в млн)')\n",
    "plt.title('Платформы с наибольшими продажами по годам')\n",
    "plt.show()"
   ]
  },
  {
   "cell_type": "markdown",
   "metadata": {},
   "source": [
    "Пик популярности этих платформ пришелся на 2000-2013 года. К 2015 почти все либо перестали поддерживаться современными играми, либо не пользуются былой поплярностью."
   ]
  },
  {
   "cell_type": "markdown",
   "metadata": {},
   "source": [
    "По этому графику можно заметить, что почти у всех платформ тенденция убывания продаж, кроме PS4 и XOne. Их продажи упали только в 2016, однако такое могло возникнуть из-за неполных данных за этот год. В целом, это самые потенциально прибыльные платформы."
   ]
  },
  {
   "cell_type": "code",
   "execution_count": 69,
   "metadata": {},
   "outputs": [
    {
     "data": {
      "image/png": "[encoded data removed]",
      "text/plain": [
       "<Figure size 432x288 with 1 Axes>"
      ]
     },
     "metadata": {
      "needs_background": "light"
     },
     "output_type": "display_data"
    }
   ],
   "source": [
    "boxpl=actual.groupby('platform')['total_sales'].sum()\n",
    "ax=boxpl.plot.box()\n",
    "plt.ylabel('Продано копий (в млн)')\n",
    "plt.title('Средние продажи игр на платформах')\n",
    "plt.show()"
   ]
  },
  {
   "cell_type": "markdown",
   "metadata": {},
   "source": [
    "Медиана в данном случае составляет около 50 млн продаж, и всего одно значение сильно превосходит другие- как можно убедиться на графике выше- это PS4, у которой всего 288 млн продаж, что делает ее несомненным лидером."
   ]
  },
  {
   "cell_type": "code",
   "execution_count": 70,
   "metadata": {},
   "outputs": [
    {
     "data": {
      "image/png": "[encoded data removed]",
      "text/plain": [
       "<Figure size 432x288 with 1 Axes>"
      ]
     },
     "metadata": {
      "needs_background": "light"
     },
     "output_type": "display_data"
    }
   ],
   "source": [
    "ps4=actual.query('platform==\"PS4\"')\n",
    "xone=actual.query('platform==\"XOne\"')\n",
    "trids=actual.query('platform==\"3DS\"')\n",
    "ps3=actual.query('platform==\"PS3\"')\n",
    "x360=actual.query('platform==\"X360\"')\n",
    "plt.boxplot([ps4['total_sales'],xone['total_sales'],trids['total_sales'],ps3['total_sales'],x360['total_sales']])\n",
    "plt.ylabel('Продано копий (в млн)')\n",
    "plt.ylim(0,3)\n",
    "plt.xlabel(' PS4               XOne              3DS               PS3               X360')\n",
    "plt.show()"
   ]
  },
  {
   "cell_type": "markdown",
   "metadata": {},
   "source": [
    "\n",
    "По данному графику видно, что у PS4, XOne и X360 медиана примерно одинаковая(около 200 тысяч), однако 3 квартиль у PS4 больше, а также значительно больше значений, превышающих 1.5 межквартильного размаха. У 3DS и PS3 медиана очень маленькая"
   ]
  },
  {
   "cell_type": "code",
   "execution_count": 71,
   "metadata": {},
   "outputs": [
    {
     "data": {
      "image/png": "[encoded data removed]",
      "text/plain": [
       "<Figure size 936x576 with 1 Axes>"
      ]
     },
     "metadata": {
      "needs_background": "light"
     },
     "output_type": "display_data"
    }
   ],
   "source": [
    "plt.figure(figsize=(13, 8))\n",
    "sns.boxplot(data=actual, y='total_sales', x='platform')\n",
    "\n",
    "plt.title('Продажи по перспективным платформам за 2014-2016 гг')\n",
    "plt.xlabel('Платформы')\n",
    "plt.ylabel('Общие продажи')\n",
    "plt.ylim(0, 3)\n",
    "\n",
    "plt.show()"
   ]
  },
  {
   "cell_type": "code",
   "execution_count": 72,
   "metadata": {},
   "outputs": [
    {
     "data": {
      "image/png": "[encoded data removed]",
      "text/plain": [
       "<Figure size 432x288 with 1 Axes>"
      ]
     },
     "metadata": {
      "needs_background": "light"
     },
     "output_type": "display_data"
    },
    {
     "name": "stdout",
     "output_type": "stream",
     "text": [
      "Коэффициент корреляции Пирсона платформы X360 : 0.5250397626599818\n"
     ]
    },
    {
     "data": {
      "image/png": "[encoded data removed]",
      "text/plain": [
       "<Figure size 432x288 with 1 Axes>"
      ]
     },
     "metadata": {
      "needs_background": "light"
     },
     "output_type": "display_data"
    },
    {
     "name": "stdout",
     "output_type": "stream",
     "text": [
      "Коэффициент корреляции Пирсона платформы PS4 : 0.37235938166783805\n"
     ]
    },
    {
     "data": {
      "image/png": "[encoded data removed]",
      "text/plain": [
       "<Figure size 432x288 with 1 Axes>"
      ]
     },
     "metadata": {
      "needs_background": "light"
     },
     "output_type": "display_data"
    },
    {
     "name": "stdout",
     "output_type": "stream",
     "text": [
      "Коэффициент корреляции Пирсона платформы PS3 : 0.4278251728001426\n"
     ]
    },
    {
     "data": {
      "image/png": "[encoded data removed]",
      "text/plain": [
       "<Figure size 432x288 with 1 Axes>"
      ]
     },
     "metadata": {
      "needs_background": "light"
     },
     "output_type": "display_data"
    },
    {
     "name": "stdout",
     "output_type": "stream",
     "text": [
      "Коэффициент корреляции Пирсона платформы XOne : 0.39161110428767804\n"
     ]
    },
    {
     "data": {
      "image/png": "[encoded data removed]",
      "text/plain": [
       "<Figure size 432x288 with 1 Axes>"
      ]
     },
     "metadata": {
      "needs_background": "light"
     },
     "output_type": "display_data"
    },
    {
     "name": "stdout",
     "output_type": "stream",
     "text": [
      "Коэффициент корреляции Пирсона платформы 3DS : 0.28763318429373547\n"
     ]
    }
   ],
   "source": [
    "pirson=actual.query('platform in [\"X360\",\"PS4\",\"PS3\",\"XOne\",\"3DS\"]')\n",
    "pirson=pirson[pirson.user_score!='']\n",
    "pirson['user_score'] = pirson['user_score'].astype('float')\n",
    "pirson['total_score']=pirson['critic_score']+pirson['user_score']\n",
    "for i in ['X360','PS4','PS3','XOne','3DS']:\n",
    "    pirson.query('platform== @i').plot(x='total_score',y='total_sales',kind='scatter',alpha=0.3)\n",
    "    plt.title('Зависимость продаж на платформе от рейтинга игр')\n",
    "    plt.xlabel('Суммарный рейтинг игроков и критиков')\n",
    "    plt.ylabel('Продано копий (в млн)')\n",
    "    plt.show()\n",
    "    print('Коэффициент корреляции Пирсона платформы',i,':',pirson.query('platform== @i')['total_score'].corr(pirson.query('platform== @i')['total_sales']))"
   ]
  },
  {
   "cell_type": "markdown",
   "metadata": {},
   "source": [
    "По диаграммам рассеянии и расчетам корреляции видно, что больше всего продажи зависят от рейтингов на платформе X360(0.53), а меньше всего- на платформе 3DS(0.29), однако во всех случаях корреляция достаточная, чтобы игнорировать эту зависимость."
   ]
  },
  {
   "cell_type": "code",
   "execution_count": 73,
   "metadata": {},
   "outputs": [
    {
     "data": {
      "image/png": "[encoded data removed]",
      "text/plain": [
       "<Figure size 1080x720 with 1 Axes>"
      ]
     },
     "metadata": {
      "needs_background": "light"
     },
     "output_type": "display_data"
    }
   ],
   "source": [
    "actual.boxplot(column=['total_sales'], by='genre', grid= False , color='black',figsize=(15,10)) \n",
    "plt.xlabel('Жанры игр')\n",
    "plt.ylabel('Продано копий (в млн)')\n",
    "plt.title('Продажи игр по жанрам')\n",
    "plt.ylim(0,10)\n",
    "plt.show()"
   ]
  },
  {
   "cell_type": "markdown",
   "metadata": {},
   "source": [
    "По графику видно, что в актуальном периоде лучше всего продается шутер: его медиана составляет где-то 700 тысяч продаж, а 3 квартиль равен почти 2 млн. В топ-3 самых прибыльных жанра также входят спортивные игры и платформеры- у них наибольший после шутера межквартильный размах и медиана. Наименее прибыльны пазл, приключения и стратегия, возможно потому что обычно в таких играх сложно расслабиться, они предполагают мозговую активность. "
   ]
  },
  {
   "cell_type": "markdown",
   "metadata": {},
   "source": [
    "## Портрет пользователя каждого региона"
   ]
  },
  {
   "cell_type": "markdown",
   "metadata": {},
   "source": [
    "### Регион NA"
   ]
  },
  {
   "cell_type": "code",
   "execution_count": 74,
   "metadata": {},
   "outputs": [
    {
     "data": {
      "image/png": "[encoded data removed]",
      "text/plain": [
       "<Figure size 432x288 with 1 Axes>"
      ]
     },
     "metadata": {
      "needs_background": "light"
     },
     "output_type": "display_data"
    }
   ],
   "source": [
    "na=games.query('year_of_release>2014').groupby('platform')['NA_sales'].mean().sort_values(ascending=False)\n",
    "na.plot(kind='bar')\n",
    "plt.xlabel('Платформы')\n",
    "plt.ylabel('Продано копий в среднем (в млн)')\n",
    "plt.title('Самые популярные платформы в NA')\n",
    "plt.show()"
   ]
  },
  {
   "cell_type": "markdown",
   "metadata": {},
   "source": [
    "Замечу, что две самые продаваемые платформы совпадают с потенциально прибыльными платформами, которые я выделил в начале исследования: это PS4 и XOne. Третье место занимает платформа WiiU, которая в среднем имеет 0.2 млн продаж за игру."
   ]
  },
  {
   "cell_type": "code",
   "execution_count": 75,
   "metadata": {},
   "outputs": [
    {
     "data": {
      "image/png": "[encoded data removed]",
      "text/plain": [
       "<Figure size 432x288 with 1 Axes>"
      ]
     },
     "metadata": {
      "needs_background": "light"
     },
     "output_type": "display_data"
    }
   ],
   "source": [
    "na2=games.query('year_of_release>2014').groupby('genre')['NA_sales'].mean().sort_values(ascending=False)\n",
    "na2.plot(kind='bar')\n",
    "plt.xlabel('Жанры')\n",
    "plt.ylabel('Продано копий (в млн)')\n",
    "plt.title('Самые популярные жанры в NA')\n",
    "plt.show()"
   ]
  },
  {
   "cell_type": "markdown",
   "metadata": {},
   "source": [
    "Самые популярные жанры в NA-шутер с большим отрывом и спортивные игры. Это может говорить о том, что людям в США и Канаде нравится соревновательный процесс. Меньше всего в среднем продаж набирают стратегические игры и паззлы."
   ]
  },
  {
   "cell_type": "code",
   "execution_count": 76,
   "metadata": {},
   "outputs": [
    {
     "data": {
      "image/png": "[encoded data removed]",
      "text/plain": [
       "<Figure size 432x288 with 1 Axes>"
      ]
     },
     "metadata": {
      "needs_background": "light"
     },
     "output_type": "display_data"
    }
   ],
   "source": [
    "na3=games.query('year_of_release>2014').groupby('rating')['NA_sales'].mean().sort_values(ascending=False)\n",
    "na3.plot(kind='bar')\n",
    "plt.xlabel('Рейтинг ESRB')\n",
    "plt.ylabel('Продано копий (в млн)')\n",
    "plt.title('Зависимость продаж от рейтинга ESRB')\n",
    "plt.show()"
   ]
  },
  {
   "cell_type": "markdown",
   "metadata": {},
   "source": [
    "В Регионе NA всем нравятяся игры 17+, в среднем они набирают больше всего продаж, 2-3 места делят игры с возрастным ограничением 10+ и без возрастных ограничений"
   ]
  },
  {
   "cell_type": "markdown",
   "metadata": {},
   "source": [
    "### Регион EU"
   ]
  },
  {
   "cell_type": "code",
   "execution_count": 77,
   "metadata": {},
   "outputs": [
    {
     "data": {
      "image/png": "[encoded data removed]",
      "text/plain": [
       "<Figure size 432x288 with 1 Axes>"
      ]
     },
     "metadata": {
      "needs_background": "light"
     },
     "output_type": "display_data"
    }
   ],
   "source": [
    "eu=games.query('year_of_release>2014').groupby('platform')['EU_sales'].mean().sort_values(ascending=False)\n",
    "eu.plot(kind='bar')\n",
    "plt.xlabel('Платформы')\n",
    "plt.ylabel('Продано копий (в млн)')\n",
    "plt.title('Самые популярные платформы в EU')\n",
    "plt.show()"
   ]
  },
  {
   "cell_type": "markdown",
   "metadata": {},
   "source": [
    "PS4 и XOne снова занимают топ 2, однако в отличие от Северной Америки, в Европе предпочитают игры на PS4, а не на XOne. Третье место также занимает платформа WiiU"
   ]
  },
  {
   "cell_type": "code",
   "execution_count": 78,
   "metadata": {},
   "outputs": [
    {
     "data": {
      "image/png": "[encoded data removed]",
      "text/plain": [
       "<Figure size 432x288 with 1 Axes>"
      ]
     },
     "metadata": {
      "needs_background": "light"
     },
     "output_type": "display_data"
    }
   ],
   "source": [
    "eu2=games.query('year_of_release>2014').groupby('genre')['EU_sales'].mean().sort_values(ascending=False)\n",
    "eu2.plot(kind='bar')\n",
    "plt.xlabel('Жанры')\n",
    "plt.ylabel('Продано копий (в млн)')\n",
    "plt.title('Самые популярные жанры в EU')\n",
    "plt.show()"
   ]
  },
  {
   "cell_type": "markdown",
   "metadata": {},
   "source": [
    "Самые популярные жанры в Европе-шутер с большим отрывом и спортивные игры. Геймеры из Европы сильно похожи на геймеров из США и Канады: им также нравится соревноваться. Пазлы, приключения и стратегии в свою очередь европейцы почти не покупают."
   ]
  },
  {
   "cell_type": "code",
   "execution_count": 79,
   "metadata": {},
   "outputs": [
    {
     "data": {
      "image/png": "[encoded data removed]",
      "text/plain": [
       "<Figure size 432x288 with 1 Axes>"
      ]
     },
     "metadata": {
      "needs_background": "light"
     },
     "output_type": "display_data"
    }
   ],
   "source": [
    "eu3=games.query('year_of_release>2014').groupby('rating')['EU_sales'].mean().sort_values(ascending=False)\n",
    "eu3.plot(kind='bar')\n",
    "plt.xlabel('Рейтинг ESRB')\n",
    "plt.ylabel('Продано копий (в млн)')\n",
    "plt.title('Зависимость продаж от рейтинга ESRB')\n",
    "plt.show()"
   ]
  },
  {
   "cell_type": "markdown",
   "metadata": {},
   "source": [
    "В Европе большинство людей в среднем играет в игры 17+, а также в игры без возрастных ограничений. Третье место занимают игры 10+."
   ]
  },
  {
   "cell_type": "markdown",
   "metadata": {},
   "source": [
    "### Регион JP"
   ]
  },
  {
   "cell_type": "code",
   "execution_count": 80,
   "metadata": {},
   "outputs": [
    {
     "data": {
      "image/png": "[encoded data removed]",
      "text/plain": [
       "<Figure size 432x288 with 1 Axes>"
      ]
     },
     "metadata": {
      "needs_background": "light"
     },
     "output_type": "display_data"
    }
   ],
   "source": [
    "jp=games.query('year_of_release>2014').groupby('platform')['JP_sales'].mean().sort_values(ascending=False)\n",
    "jp.plot(kind='bar')\n",
    "plt.xlabel('Платформы')\n",
    "plt.ylabel('Продано копий (в млн)')\n",
    "plt.title('Самые популярные платформы в JP')\n",
    "plt.show()"
   ]
  },
  {
   "cell_type": "markdown",
   "metadata": {},
   "source": [
    "В Японии в среднем люди чаще всего покупают игры на платформе 3DS, а второе место занимает платформа WiiU. PS4 и XOne в этом регионе не так уважают."
   ]
  },
  {
   "cell_type": "code",
   "execution_count": 81,
   "metadata": {},
   "outputs": [
    {
     "data": {
      "image/png": "[encoded data removed]",
      "text/plain": [
       "<Figure size 432x288 with 1 Axes>"
      ]
     },
     "metadata": {
      "needs_background": "light"
     },
     "output_type": "display_data"
    }
   ],
   "source": [
    "jp2=games.query('year_of_release>2014').groupby('genre')['JP_sales'].mean().sort_values(ascending=False)\n",
    "jp2.plot(kind='bar')\n",
    "plt.xlabel('Жанры')\n",
    "plt.ylabel('Продано копий (в млн)')\n",
    "plt.title('Самые популярные жанры в JP')\n",
    "plt.show()"
   ]
  },
  {
   "cell_type": "markdown",
   "metadata": {},
   "source": [
    "Наиболее популярные жанры в Японии- это РПГ, пазл и симуляция, что может говорить о том, что японцам нравится много времени уделять играм, а также решать головоломки. Спортивные игры ,стратегии и гонки японцам не нравятся."
   ]
  },
  {
   "cell_type": "code",
   "execution_count": 82,
   "metadata": {},
   "outputs": [
    {
     "data": {
      "image/png": "[encoded data removed]",
      "text/plain": [
       "<Figure size 432x288 with 1 Axes>"
      ]
     },
     "metadata": {
      "needs_background": "light"
     },
     "output_type": "display_data"
    }
   ],
   "source": [
    "jp3=games.query('year_of_release>2014').groupby('rating')['JP_sales'].mean().sort_values(ascending=False)\n",
    "jp3.plot(kind='bar')\n",
    "plt.xlabel('Рейтинг ESRB')\n",
    "plt.ylabel('Продано копий (в млн)')\n",
    "plt.title('Зависимость продаж от рейтинга ESRB')\n",
    "plt.show()"
   ]
  },
  {
   "cell_type": "markdown",
   "metadata": {},
   "source": [
    "Судя по этому графику, рейтинг ESRB по большей части отсутствует в Японии, раз игры с этим рейтингом набирают наибольшие продажи в среднем, возможно этот рейтинг используют в основном в США и Канаде"
   ]
  },
  {
   "cell_type": "markdown",
   "metadata": {},
   "source": [
    "## Проверка гипотез"
   ]
  },
  {
   "cell_type": "markdown",
   "metadata": {},
   "source": [
    "### Одинаковы ли пользовательские рейтинги платформ PC и Xbox One"
   ]
  },
  {
   "cell_type": "markdown",
   "metadata": {},
   "source": [
    "Нулевая гипотеза: средний пользовательский рейтинг платформ PC и Xbox One одинаковый. \n",
    "\n",
    "Альтернативная гипотеза: средний пользовательский рейтинг платформ PC и XboxOne отличается.\n",
    "\n",
    "В данном случае нам нужно сравнить среднее двух независимых выборок, поэтому нулевая гипотеза формулируется как \"истинные средние этих ГС равны\". Альтернативная гипотеза соответственно принимает противоположное значение и гласит, что истинные средние отличаются."
   ]
  },
  {
   "cell_type": "code",
   "execution_count": 83,
   "metadata": {},
   "outputs": [
    {
     "name": "stdout",
     "output_type": "stream",
     "text": [
      "6.298360655737705 6.594545454545456\n"
     ]
    },
    {
     "data": {
      "text/plain": [
       "0.10450507919348415"
      ]
     },
     "execution_count": 83,
     "metadata": {},
     "output_type": "execute_result"
    }
   ],
   "source": [
    "pd.set_option('mode.chained_assignment', None)\n",
    "beztbd=games[games.user_score!=\"\"]\n",
    "beztbd['user_score']=beztbd['user_score'].astype(float)\n",
    "pc=pd.array(beztbd.query('platform==\"PC\" and year_of_release>2013')['user_score'].dropna())\n",
    "xone=pd.array(beztbd.query('platform==\"XOne\" and year_of_release>2013')['user_score'].dropna())\n",
    "result=st.ttest_ind(xone,pc)\n",
    "alpha=0.05\n",
    "print(pc.mean(),xone.mean())\n",
    "result.pvalue"
   ]
  },
  {
   "cell_type": "markdown",
   "metadata": {},
   "source": [
    "Поскольку P-value больше статистической значимости в 5%, нулевая гипотеза не отвергается, значит средний пользовательский рейтинг платформ PC и XboxOne может быть равен"
   ]
  },
  {
   "cell_type": "markdown",
   "metadata": {},
   "source": [
    "### Разные ли средние пользовательские рейтинги жанров Action и Sports"
   ]
  },
  {
   "cell_type": "markdown",
   "metadata": {},
   "source": [
    "Нулевая гипотеза: средний пользовательский рейтинг жанров Action и Sports одинаковый. \n",
    "\n",
    "Альтернативная гипотеза: средний пользовательский рейтинг жанров Action и Sports отличается.\n",
    "\n",
    "В данном случае нам нужно сравнить среднее двух независимых выборок, поэтому нулевая гипотеза формулируется как \"истинные средние этих ГС равны\". Альтернативная гипотеза соответственно принимает противоположное значение и гласит, что истинные средние отличаются."
   ]
  },
  {
   "cell_type": "code",
   "execution_count": 84,
   "metadata": {},
   "outputs": [
    {
     "name": "stdout",
     "output_type": "stream",
     "text": [
      "6.760606060606061 5.2251968503937\n"
     ]
    },
    {
     "data": {
      "text/plain": [
       "2.8711147985105864e-19"
      ]
     },
     "execution_count": 84,
     "metadata": {},
     "output_type": "execute_result"
    }
   ],
   "source": [
    "action=pd.array(beztbd.query('genre==\"Action\" and year_of_release>2013')['user_score'].dropna())\n",
    "sports=pd.array(beztbd.query('genre==\"Sports\" and year_of_release>2013')['user_score'].dropna())\n",
    "result=st.ttest_ind(action,sports)\n",
    "alpha=0.05\n",
    "print(action.mean(),sports.mean())\n",
    "result.pvalue"
   ]
  },
  {
   "cell_type": "markdown",
   "metadata": {},
   "source": [
    "Поскольку p-value гораздо меньше заданного уровня значимости в 5%, нулевая гипотеза отвергается, значит средний пользовательский рейтинг жанров Action и Sports отличается"
   ]
  },
  {
   "cell_type": "markdown",
   "metadata": {},
   "source": [
    "## Вывод"
   ]
  },
  {
   "cell_type": "markdown",
   "metadata": {},
   "source": [
    "Проанализировав этот датасет, можно сказать, что рынок игр не стоит на месте. Технологии развиваются, а с ними развиваются и платформы, на которых выходят эти игры. Средний срок продолжительности жизни такой платформы- около 10 лет. Наиболее перспективны для выпуска PS4 и Xbox One, только на этих платформах продажи игр увеличиваются. \n",
    "\n",
    "Что касается пользователей, в Европе и Северной Америке они похожи.  И там, и там любят игры с соревновательным духом(самые популярные: шутер и спорт). В Японии же самый популярный жанр- ролевые игры, причем с большим отрывом, что говорит о том, что японцы довольно часто играют, потому что рпг требуют долгой и серьезной прокачки. Что касается платформ, то чаще всего в Северной Америке покупают игры на Xbox360, а в Европе на PS2. В Японии преобладает платформа DS, а также еще несколько платформ, игры на которых продаются по большей части только в Японии(SNES, 3DS, NES и GB). В плане рейтингов, во всем мире предпочитают игры без возрастных ограничений и насилия, а также игры 13+ и 17+\n",
    "\n",
    "Также, в целом, средние рейтинги игр на платформах XboxOne и PC одинаковые. Это неудивительно, поскольку многие игры могут выйти на обоих платформах и с большой долей вероятности получат одинаковые оценки. Рейтинги жанров Action и Sports также разные, поскольку у пользователей достаточно сильно отличаются критерии оценки: если в  экшене необходимо оценить визуальную составляющую игры, механику сражений, прописанность сюжета, то в спортивной игре все завязывается на приятном управлении спортсменами и красивой картинке.\n"
   ]
  }
 ],
 "metadata": {
  "ExecuteTimeLog": [
   {
    "duration": 43,
    "start_time": "2024-08-11T17:20:35.440Z"
   },
   {
    "duration": 1075,
    "start_time": "2024-08-11T17:20:38.447Z"
   },
   {
    "duration": 199,
    "start_time": "2024-08-11T17:20:39.981Z"
   },
   {
    "duration": 53,
    "start_time": "2024-08-11T17:25:09.856Z"
   },
   {
    "duration": 19,
    "start_time": "2024-08-11T17:25:15.792Z"
   },
   {
    "duration": 16,
    "start_time": "2024-08-11T17:26:24.635Z"
   },
   {
    "duration": 18,
    "start_time": "2024-08-11T17:38:58.362Z"
   },
   {
    "duration": 18,
    "start_time": "2024-08-11T17:39:12.668Z"
   },
   {
    "duration": 14,
    "start_time": "2024-08-11T17:41:51.284Z"
   },
   {
    "duration": 52,
    "start_time": "2024-08-11T17:42:48.029Z"
   },
   {
    "duration": 65,
    "start_time": "2024-08-11T17:42:53.380Z"
   },
   {
    "duration": 25,
    "start_time": "2024-08-11T17:43:20.417Z"
   },
   {
    "duration": 10,
    "start_time": "2024-08-11T18:37:53.859Z"
   },
   {
    "duration": 16,
    "start_time": "2024-08-11T18:37:57.763Z"
   },
   {
    "duration": 23,
    "start_time": "2024-08-11T19:10:29.269Z"
   },
   {
    "duration": 14,
    "start_time": "2024-08-11T19:10:35.722Z"
   },
   {
    "duration": 18,
    "start_time": "2024-08-11T19:22:06.534Z"
   },
   {
    "duration": 67,
    "start_time": "2024-08-12T08:56:12.292Z"
   },
   {
    "duration": 46,
    "start_time": "2024-08-12T08:57:03.698Z"
   },
   {
    "duration": 1234,
    "start_time": "2024-08-12T08:57:06.753Z"
   },
   {
    "duration": 224,
    "start_time": "2024-08-12T08:57:07.989Z"
   },
   {
    "duration": 26,
    "start_time": "2024-08-12T08:57:08.215Z"
   },
   {
    "duration": 13,
    "start_time": "2024-08-12T08:57:08.243Z"
   },
   {
    "duration": 17,
    "start_time": "2024-08-12T08:57:08.258Z"
   },
   {
    "duration": 38,
    "start_time": "2024-08-12T08:57:08.276Z"
   },
   {
    "duration": 55,
    "start_time": "2024-08-12T08:57:53.117Z"
   },
   {
    "duration": 7,
    "start_time": "2024-08-12T08:57:59.212Z"
   },
   {
    "duration": 4,
    "start_time": "2024-08-12T08:58:03.558Z"
   },
   {
    "duration": 6,
    "start_time": "2024-08-12T09:14:41.085Z"
   },
   {
    "duration": 150,
    "start_time": "2024-08-12T09:15:42.875Z"
   },
   {
    "duration": 81,
    "start_time": "2024-08-12T09:16:18.202Z"
   },
   {
    "duration": 78,
    "start_time": "2024-08-12T09:17:07.844Z"
   },
   {
    "duration": 107,
    "start_time": "2024-08-12T09:17:21.061Z"
   },
   {
    "duration": 83,
    "start_time": "2024-08-12T09:18:01.091Z"
   },
   {
    "duration": 19,
    "start_time": "2024-08-12T09:18:23.760Z"
   },
   {
    "duration": 4,
    "start_time": "2024-08-12T09:20:09.757Z"
   },
   {
    "duration": 6,
    "start_time": "2024-08-12T09:20:19.665Z"
   },
   {
    "duration": 3,
    "start_time": "2024-08-12T09:20:36.735Z"
   },
   {
    "duration": 28,
    "start_time": "2024-08-12T09:20:57.313Z"
   },
   {
    "duration": 116,
    "start_time": "2024-08-12T09:21:37.854Z"
   },
   {
    "duration": 150,
    "start_time": "2024-08-12T09:21:48.004Z"
   },
   {
    "duration": 140,
    "start_time": "2024-08-12T09:21:55.662Z"
   },
   {
    "duration": 196,
    "start_time": "2024-08-12T09:22:27.267Z"
   },
   {
    "duration": 149,
    "start_time": "2024-08-12T09:22:33.660Z"
   },
   {
    "duration": 130,
    "start_time": "2024-08-12T09:26:30.822Z"
   },
   {
    "duration": 174,
    "start_time": "2024-08-12T09:26:46.082Z"
   },
   {
    "duration": 116,
    "start_time": "2024-08-12T09:26:59.587Z"
   },
   {
    "duration": 133,
    "start_time": "2024-08-12T09:27:07.127Z"
   },
   {
    "duration": 51,
    "start_time": "2024-08-12T14:13:07.771Z"
   },
   {
    "duration": 5,
    "start_time": "2024-08-12T14:13:20.107Z"
   },
   {
    "duration": 1482,
    "start_time": "2024-08-12T14:13:23.545Z"
   },
   {
    "duration": 253,
    "start_time": "2024-08-12T14:13:25.030Z"
   },
   {
    "duration": 25,
    "start_time": "2024-08-12T14:13:25.284Z"
   },
   {
    "duration": 16,
    "start_time": "2024-08-12T14:13:25.310Z"
   },
   {
    "duration": 36,
    "start_time": "2024-08-12T14:13:25.329Z"
   },
   {
    "duration": 18,
    "start_time": "2024-08-12T14:13:25.367Z"
   },
   {
    "duration": 6,
    "start_time": "2024-08-12T14:13:25.387Z"
   },
   {
    "duration": 234,
    "start_time": "2024-08-12T14:13:25.394Z"
   },
   {
    "duration": 205,
    "start_time": "2024-08-12T14:13:25.630Z"
   },
   {
    "duration": 189,
    "start_time": "2024-08-12T14:13:25.837Z"
   },
   {
    "duration": 165,
    "start_time": "2024-08-12T14:13:26.028Z"
   },
   {
    "duration": 184,
    "start_time": "2024-08-12T14:13:26.195Z"
   },
   {
    "duration": 26,
    "start_time": "2024-08-12T14:13:26.381Z"
   },
   {
    "duration": 167,
    "start_time": "2024-08-12T14:22:49.341Z"
   },
   {
    "duration": 176,
    "start_time": "2024-08-12T14:22:57.044Z"
   },
   {
    "duration": 236,
    "start_time": "2024-08-12T14:23:06.000Z"
   },
   {
    "duration": 74,
    "start_time": "2024-08-12T14:27:59.429Z"
   },
   {
    "duration": 18,
    "start_time": "2024-08-12T14:28:05.159Z"
   },
   {
    "duration": 15,
    "start_time": "2024-08-12T14:28:24.759Z"
   },
   {
    "duration": 16,
    "start_time": "2024-08-12T14:28:51.264Z"
   },
   {
    "duration": 9,
    "start_time": "2024-08-12T14:29:07.715Z"
   },
   {
    "duration": 32,
    "start_time": "2024-08-12T14:29:30.150Z"
   },
   {
    "duration": 5,
    "start_time": "2024-08-12T14:30:05.206Z"
   },
   {
    "duration": 17,
    "start_time": "2024-08-12T14:30:23.826Z"
   },
   {
    "duration": 21,
    "start_time": "2024-08-12T14:30:32.777Z"
   },
   {
    "duration": 112,
    "start_time": "2024-08-12T14:31:36.416Z"
   },
   {
    "duration": 17,
    "start_time": "2024-08-12T14:31:45.777Z"
   },
   {
    "duration": 31,
    "start_time": "2024-08-12T14:33:44.745Z"
   },
   {
    "duration": 155,
    "start_time": "2024-08-12T14:34:33.628Z"
   },
   {
    "duration": 179,
    "start_time": "2024-08-12T14:38:00.043Z"
   },
   {
    "duration": 597,
    "start_time": "2024-08-12T14:38:25.731Z"
   },
   {
    "duration": 11,
    "start_time": "2024-08-12T14:46:43.080Z"
   },
   {
    "duration": 682,
    "start_time": "2024-08-12T14:46:49.215Z"
   },
   {
    "duration": 602,
    "start_time": "2024-08-12T14:47:01.994Z"
   },
   {
    "duration": 647,
    "start_time": "2024-08-12T14:52:27.644Z"
   },
   {
    "duration": 660,
    "start_time": "2024-08-12T14:52:34.346Z"
   },
   {
    "duration": 652,
    "start_time": "2024-08-12T14:52:47.887Z"
   },
   {
    "duration": 757,
    "start_time": "2024-08-12T14:52:56.462Z"
   },
   {
    "duration": 590,
    "start_time": "2024-08-12T14:54:41.716Z"
   },
   {
    "duration": 635,
    "start_time": "2024-08-12T14:54:50.280Z"
   },
   {
    "duration": 219,
    "start_time": "2024-08-12T14:58:38.963Z"
   },
   {
    "duration": 220,
    "start_time": "2024-08-12T14:58:46.268Z"
   },
   {
    "duration": 224,
    "start_time": "2024-08-12T14:58:51.848Z"
   },
   {
    "duration": 202,
    "start_time": "2024-08-12T14:59:44.472Z"
   },
   {
    "duration": 243,
    "start_time": "2024-08-12T15:00:03.888Z"
   },
   {
    "duration": 199,
    "start_time": "2024-08-12T15:00:40.109Z"
   },
   {
    "duration": 208,
    "start_time": "2024-08-12T15:00:59.534Z"
   },
   {
    "duration": 184,
    "start_time": "2024-08-12T15:01:12.010Z"
   },
   {
    "duration": 364,
    "start_time": "2024-08-12T15:08:42.911Z"
   },
   {
    "duration": 248,
    "start_time": "2024-08-12T15:09:29.399Z"
   },
   {
    "duration": 260,
    "start_time": "2024-08-12T15:09:40.887Z"
   },
   {
    "duration": 814,
    "start_time": "2024-08-12T15:11:33.049Z"
   },
   {
    "duration": 695,
    "start_time": "2024-08-12T15:11:55.090Z"
   },
   {
    "duration": 644,
    "start_time": "2024-08-12T15:12:45.159Z"
   },
   {
    "duration": 78,
    "start_time": "2024-08-12T15:18:46.519Z"
   },
   {
    "duration": 628,
    "start_time": "2024-08-12T15:20:49.232Z"
   },
   {
    "duration": 36,
    "start_time": "2024-08-12T15:27:15.756Z"
   },
   {
    "duration": 21,
    "start_time": "2024-08-12T15:27:19.503Z"
   },
   {
    "duration": 19,
    "start_time": "2024-08-12T15:28:57.683Z"
   },
   {
    "duration": 247,
    "start_time": "2024-08-12T15:29:04.839Z"
   },
   {
    "duration": 553,
    "start_time": "2024-08-12T15:29:08.812Z"
   },
   {
    "duration": 508,
    "start_time": "2024-08-12T15:29:56.096Z"
   },
   {
    "duration": 138,
    "start_time": "2024-08-12T15:30:45.377Z"
   },
   {
    "duration": 662,
    "start_time": "2024-08-12T15:32:34.421Z"
   },
   {
    "duration": 636,
    "start_time": "2024-08-12T15:32:39.983Z"
   },
   {
    "duration": 840,
    "start_time": "2024-08-12T15:32:59.357Z"
   },
   {
    "duration": 832,
    "start_time": "2024-08-12T15:33:09.472Z"
   },
   {
    "duration": 1014,
    "start_time": "2024-08-12T15:33:17.784Z"
   },
   {
    "duration": 62,
    "start_time": "2024-08-12T15:35:49.528Z"
   },
   {
    "duration": 48,
    "start_time": "2024-08-12T15:37:40.688Z"
   },
   {
    "duration": 13,
    "start_time": "2024-08-12T15:38:00.963Z"
   },
   {
    "duration": 9,
    "start_time": "2024-08-12T15:38:36.950Z"
   },
   {
    "duration": 13,
    "start_time": "2024-08-12T15:43:12.949Z"
   },
   {
    "duration": 55,
    "start_time": "2024-08-12T15:43:58.945Z"
   },
   {
    "duration": 66,
    "start_time": "2024-08-12T15:45:16.932Z"
   },
   {
    "duration": 15,
    "start_time": "2024-08-12T15:45:38.070Z"
   },
   {
    "duration": 14,
    "start_time": "2024-08-12T15:45:47.606Z"
   },
   {
    "duration": 22,
    "start_time": "2024-08-12T15:46:01.244Z"
   },
   {
    "duration": 50,
    "start_time": "2024-08-12T15:47:30.796Z"
   },
   {
    "duration": 32,
    "start_time": "2024-08-12T15:48:00.714Z"
   },
   {
    "duration": 26,
    "start_time": "2024-08-12T15:48:12.242Z"
   },
   {
    "duration": 52,
    "start_time": "2024-08-12T15:49:11.392Z"
   },
   {
    "duration": 31,
    "start_time": "2024-08-12T15:49:22.440Z"
   },
   {
    "duration": 145,
    "start_time": "2024-08-12T15:49:54.924Z"
   },
   {
    "duration": 788,
    "start_time": "2024-08-12T15:50:03.417Z"
   },
   {
    "duration": 975,
    "start_time": "2024-08-12T15:50:31.125Z"
   },
   {
    "duration": 11,
    "start_time": "2024-08-12T15:51:19.493Z"
   },
   {
    "duration": 10,
    "start_time": "2024-08-12T15:51:24.909Z"
   },
   {
    "duration": 17,
    "start_time": "2024-08-12T15:51:44.004Z"
   },
   {
    "duration": 16,
    "start_time": "2024-08-12T15:52:07.182Z"
   },
   {
    "duration": 658,
    "start_time": "2024-08-12T15:52:34.459Z"
   },
   {
    "duration": 274,
    "start_time": "2024-08-12T15:53:41.429Z"
   },
   {
    "duration": 221,
    "start_time": "2024-08-12T15:53:56.341Z"
   },
   {
    "duration": 199,
    "start_time": "2024-08-12T15:54:41.688Z"
   },
   {
    "duration": 232,
    "start_time": "2024-08-12T15:54:49.064Z"
   },
   {
    "duration": 243,
    "start_time": "2024-08-12T15:55:22.862Z"
   },
   {
    "duration": 222,
    "start_time": "2024-08-12T15:55:38.612Z"
   },
   {
    "duration": 285,
    "start_time": "2024-08-12T15:57:06.709Z"
   },
   {
    "duration": 45,
    "start_time": "2024-08-12T16:09:36.060Z"
   },
   {
    "duration": 36,
    "start_time": "2024-08-12T16:10:06.833Z"
   },
   {
    "duration": 900,
    "start_time": "2024-08-12T16:10:38.031Z"
   },
   {
    "duration": 251,
    "start_time": "2024-08-12T16:11:33.375Z"
   },
   {
    "duration": 318,
    "start_time": "2024-08-12T16:11:50.643Z"
   },
   {
    "duration": 9,
    "start_time": "2024-08-12T17:04:59.927Z"
   },
   {
    "duration": 49,
    "start_time": "2024-08-12T17:06:50.654Z"
   },
   {
    "duration": 6,
    "start_time": "2024-08-12T17:08:37.971Z"
   },
   {
    "duration": 3,
    "start_time": "2024-08-12T17:08:47.405Z"
   },
   {
    "duration": 73,
    "start_time": "2024-08-12T17:08:47.411Z"
   },
   {
    "duration": 22,
    "start_time": "2024-08-12T17:08:47.485Z"
   },
   {
    "duration": 49,
    "start_time": "2024-08-12T17:08:47.508Z"
   },
   {
    "duration": 49,
    "start_time": "2024-08-12T17:08:47.559Z"
   },
   {
    "duration": 14,
    "start_time": "2024-08-12T17:08:47.610Z"
   },
   {
    "duration": 5,
    "start_time": "2024-08-12T17:08:47.625Z"
   },
   {
    "duration": 244,
    "start_time": "2024-08-12T17:08:47.632Z"
   },
   {
    "duration": 189,
    "start_time": "2024-08-12T17:08:47.877Z"
   },
   {
    "duration": 186,
    "start_time": "2024-08-12T17:08:48.068Z"
   },
   {
    "duration": 175,
    "start_time": "2024-08-12T17:08:48.255Z"
   },
   {
    "duration": 398,
    "start_time": "2024-08-12T17:08:48.431Z"
   },
   {
    "duration": 33,
    "start_time": "2024-08-12T17:08:48.831Z"
   },
   {
    "duration": 242,
    "start_time": "2024-08-12T17:08:48.866Z"
   },
   {
    "duration": 946,
    "start_time": "2024-08-12T17:08:49.109Z"
   },
   {
    "duration": 7,
    "start_time": "2024-08-12T17:08:50.056Z"
   },
   {
    "duration": 238,
    "start_time": "2024-08-12T17:08:50.065Z"
   },
   {
    "duration": 289,
    "start_time": "2024-08-12T17:08:50.305Z"
   },
   {
    "duration": 8,
    "start_time": "2024-08-12T17:08:50.596Z"
   },
   {
    "duration": 48,
    "start_time": "2024-08-12T17:09:25.051Z"
   },
   {
    "duration": 7,
    "start_time": "2024-08-12T17:09:38.508Z"
   },
   {
    "duration": 7,
    "start_time": "2024-08-12T17:09:42.305Z"
   },
   {
    "duration": 7,
    "start_time": "2024-08-12T17:09:47.798Z"
   },
   {
    "duration": 7,
    "start_time": "2024-08-12T17:09:51.825Z"
   },
   {
    "duration": 3,
    "start_time": "2024-08-12T17:10:04.565Z"
   },
   {
    "duration": 80,
    "start_time": "2024-08-12T17:10:04.570Z"
   },
   {
    "duration": 21,
    "start_time": "2024-08-12T17:10:04.652Z"
   },
   {
    "duration": 15,
    "start_time": "2024-08-12T17:10:04.675Z"
   },
   {
    "duration": 21,
    "start_time": "2024-08-12T17:10:04.693Z"
   },
   {
    "duration": 40,
    "start_time": "2024-08-12T17:10:04.715Z"
   },
   {
    "duration": 5,
    "start_time": "2024-08-12T17:10:04.757Z"
   },
   {
    "duration": 210,
    "start_time": "2024-08-12T17:10:04.764Z"
   },
   {
    "duration": 189,
    "start_time": "2024-08-12T17:10:04.976Z"
   },
   {
    "duration": 189,
    "start_time": "2024-08-12T17:10:05.166Z"
   },
   {
    "duration": 170,
    "start_time": "2024-08-12T17:10:05.356Z"
   },
   {
    "duration": 184,
    "start_time": "2024-08-12T17:10:05.528Z"
   },
   {
    "duration": 38,
    "start_time": "2024-08-12T17:10:05.714Z"
   },
   {
    "duration": 249,
    "start_time": "2024-08-12T17:10:05.754Z"
   },
   {
    "duration": 945,
    "start_time": "2024-08-12T17:10:06.004Z"
   },
   {
    "duration": 7,
    "start_time": "2024-08-12T17:10:06.952Z"
   },
   {
    "duration": 216,
    "start_time": "2024-08-12T17:10:06.960Z"
   },
   {
    "duration": 256,
    "start_time": "2024-08-12T17:10:07.177Z"
   },
   {
    "duration": 20,
    "start_time": "2024-08-12T17:10:07.435Z"
   },
   {
    "duration": 12,
    "start_time": "2024-08-12T17:11:41.440Z"
   },
   {
    "duration": 334,
    "start_time": "2024-08-12T17:12:02.489Z"
   },
   {
    "duration": 110,
    "start_time": "2024-08-12T17:14:21.872Z"
   },
   {
    "duration": 106,
    "start_time": "2024-08-12T17:14:47.882Z"
   },
   {
    "duration": 9,
    "start_time": "2024-08-12T18:17:08.505Z"
   },
   {
    "duration": 23,
    "start_time": "2024-08-12T18:17:14.508Z"
   },
   {
    "duration": 12,
    "start_time": "2024-08-12T18:18:05.604Z"
   },
   {
    "duration": 11,
    "start_time": "2024-08-12T18:18:12.907Z"
   },
   {
    "duration": 11,
    "start_time": "2024-08-12T18:18:35.139Z"
   },
   {
    "duration": 110,
    "start_time": "2024-08-12T18:21:36.595Z"
   },
   {
    "duration": 11,
    "start_time": "2024-08-12T18:22:45.477Z"
   },
   {
    "duration": 103,
    "start_time": "2024-08-12T18:22:59.070Z"
   },
   {
    "duration": 3,
    "start_time": "2024-08-12T18:24:22.225Z"
   },
   {
    "duration": 105,
    "start_time": "2024-08-12T18:24:26.324Z"
   },
   {
    "duration": 23,
    "start_time": "2024-08-12T18:42:00.745Z"
   },
   {
    "duration": 15,
    "start_time": "2024-08-12T18:45:49.553Z"
   },
   {
    "duration": 120,
    "start_time": "2024-08-13T17:27:57.827Z"
   },
   {
    "duration": 108,
    "start_time": "2024-08-13T17:28:51.110Z"
   },
   {
    "duration": 111,
    "start_time": "2024-08-13T17:29:09.988Z"
   },
   {
    "duration": 12,
    "start_time": "2024-08-13T17:30:13.931Z"
   },
   {
    "duration": 3,
    "start_time": "2024-08-13T17:30:20.336Z"
   },
   {
    "duration": 14,
    "start_time": "2024-08-13T17:32:20.096Z"
   },
   {
    "duration": 15,
    "start_time": "2024-08-13T17:33:11.418Z"
   },
   {
    "duration": 12,
    "start_time": "2024-08-13T17:33:29.517Z"
   },
   {
    "duration": 13,
    "start_time": "2024-08-13T17:33:34.367Z"
   },
   {
    "duration": 15,
    "start_time": "2024-08-13T17:34:03.579Z"
   },
   {
    "duration": 12,
    "start_time": "2024-08-13T17:34:24.340Z"
   },
   {
    "duration": 11,
    "start_time": "2024-08-13T17:34:31.878Z"
   },
   {
    "duration": 13,
    "start_time": "2024-08-13T17:34:37.281Z"
   },
   {
    "duration": 13,
    "start_time": "2024-08-13T17:34:45.318Z"
   },
   {
    "duration": 13,
    "start_time": "2024-08-13T17:34:53.023Z"
   },
   {
    "duration": 13,
    "start_time": "2024-08-13T17:35:16.604Z"
   },
   {
    "duration": 11,
    "start_time": "2024-08-13T17:36:40.684Z"
   },
   {
    "duration": 20,
    "start_time": "2024-08-13T17:36:47.166Z"
   },
   {
    "duration": 8,
    "start_time": "2024-08-13T17:37:31.155Z"
   },
   {
    "duration": 13,
    "start_time": "2024-08-13T17:38:32.288Z"
   },
   {
    "duration": 113,
    "start_time": "2024-08-13T17:38:36.795Z"
   },
   {
    "duration": 105,
    "start_time": "2024-08-13T17:39:10.467Z"
   },
   {
    "duration": 107,
    "start_time": "2024-08-13T17:39:19.600Z"
   },
   {
    "duration": 110,
    "start_time": "2024-08-13T17:39:24.683Z"
   },
   {
    "duration": 144,
    "start_time": "2024-08-13T17:40:54.748Z"
   },
   {
    "duration": 145,
    "start_time": "2024-08-13T17:41:31.280Z"
   },
   {
    "duration": 133,
    "start_time": "2024-08-13T17:43:32.199Z"
   },
   {
    "duration": 145,
    "start_time": "2024-08-13T17:43:42.719Z"
   },
   {
    "duration": 16,
    "start_time": "2024-08-13T17:44:24.053Z"
   },
   {
    "duration": 127,
    "start_time": "2024-08-13T17:44:27.253Z"
   },
   {
    "duration": 135,
    "start_time": "2024-08-13T17:45:15.886Z"
   },
   {
    "duration": 145,
    "start_time": "2024-08-13T17:47:23.677Z"
   },
   {
    "duration": 135,
    "start_time": "2024-08-13T17:47:39.652Z"
   },
   {
    "duration": 118,
    "start_time": "2024-08-13T17:47:53.144Z"
   },
   {
    "duration": 143,
    "start_time": "2024-08-13T17:48:01.663Z"
   },
   {
    "duration": 143,
    "start_time": "2024-08-13T17:50:47.788Z"
   },
   {
    "duration": 148,
    "start_time": "2024-08-13T17:51:02.140Z"
   },
   {
    "duration": 137,
    "start_time": "2024-08-13T17:51:14.737Z"
   },
   {
    "duration": 135,
    "start_time": "2024-08-13T17:51:22.125Z"
   },
   {
    "duration": 149,
    "start_time": "2024-08-13T17:51:34.998Z"
   },
   {
    "duration": 4,
    "start_time": "2024-08-13T17:53:00.019Z"
   },
   {
    "duration": 8,
    "start_time": "2024-08-13T17:53:07.582Z"
   },
   {
    "duration": 159,
    "start_time": "2024-08-13T17:54:02.883Z"
   },
   {
    "duration": 179,
    "start_time": "2024-08-13T17:55:14.100Z"
   },
   {
    "duration": 12,
    "start_time": "2024-08-13T18:06:35.892Z"
   },
   {
    "duration": 9,
    "start_time": "2024-08-13T18:07:02.083Z"
   },
   {
    "duration": 7,
    "start_time": "2024-08-13T18:07:07.639Z"
   },
   {
    "duration": 125,
    "start_time": "2024-08-13T18:07:54.855Z"
   },
   {
    "duration": 299,
    "start_time": "2024-08-13T18:08:26.877Z"
   },
   {
    "duration": 118,
    "start_time": "2024-08-13T18:09:41.440Z"
   },
   {
    "duration": 149,
    "start_time": "2024-08-13T18:14:56.472Z"
   },
   {
    "duration": 248,
    "start_time": "2024-08-13T18:15:09.204Z"
   },
   {
    "duration": 233,
    "start_time": "2024-08-13T18:16:54.560Z"
   },
   {
    "duration": 143,
    "start_time": "2024-08-13T18:17:29.554Z"
   },
   {
    "duration": 130,
    "start_time": "2024-08-13T19:29:28.691Z"
   },
   {
    "duration": 221,
    "start_time": "2024-08-13T19:44:11.824Z"
   },
   {
    "duration": 146,
    "start_time": "2024-08-13T20:22:35.041Z"
   },
   {
    "duration": 142,
    "start_time": "2024-08-13T20:22:46.322Z"
   },
   {
    "duration": 131,
    "start_time": "2024-08-13T21:09:05.673Z"
   },
   {
    "duration": 44,
    "start_time": "2024-08-14T08:20:28.094Z"
   },
   {
    "duration": 1162,
    "start_time": "2024-08-14T08:20:32.557Z"
   },
   {
    "duration": 201,
    "start_time": "2024-08-14T08:20:33.721Z"
   },
   {
    "duration": 18,
    "start_time": "2024-08-14T08:20:33.923Z"
   },
   {
    "duration": 84,
    "start_time": "2024-08-14T08:20:33.943Z"
   },
   {
    "duration": 47,
    "start_time": "2024-08-14T08:20:34.029Z"
   },
   {
    "duration": 4,
    "start_time": "2024-08-14T08:20:34.077Z"
   },
   {
    "duration": 50,
    "start_time": "2024-08-14T08:20:34.082Z"
   },
   {
    "duration": 98,
    "start_time": "2024-08-14T08:20:34.134Z"
   },
   {
    "duration": 216,
    "start_time": "2024-08-14T08:20:34.234Z"
   },
   {
    "duration": 144,
    "start_time": "2024-08-14T08:20:34.452Z"
   },
   {
    "duration": 157,
    "start_time": "2024-08-14T08:20:34.597Z"
   },
   {
    "duration": 127,
    "start_time": "2024-08-14T08:20:34.756Z"
   },
   {
    "duration": 150,
    "start_time": "2024-08-14T08:20:34.884Z"
   },
   {
    "duration": 19,
    "start_time": "2024-08-14T08:20:35.037Z"
   },
   {
    "duration": 187,
    "start_time": "2024-08-14T08:20:35.057Z"
   },
   {
    "duration": 853,
    "start_time": "2024-08-14T08:20:35.245Z"
   },
   {
    "duration": 6,
    "start_time": "2024-08-14T08:20:36.100Z"
   },
   {
    "duration": 200,
    "start_time": "2024-08-14T08:20:36.108Z"
   },
   {
    "duration": 262,
    "start_time": "2024-08-14T08:20:36.310Z"
   },
   {
    "duration": 86,
    "start_time": "2024-08-14T08:20:36.573Z"
   },
   {
    "duration": 113,
    "start_time": "2024-08-14T08:20:36.660Z"
   },
   {
    "duration": 132,
    "start_time": "2024-08-14T08:20:36.775Z"
   },
   {
    "duration": 134,
    "start_time": "2024-08-14T08:20:36.908Z"
   },
   {
    "duration": 150,
    "start_time": "2024-08-14T08:20:37.044Z"
   },
   {
    "duration": 213,
    "start_time": "2024-08-14T08:20:37.196Z"
   },
   {
    "duration": 182,
    "start_time": "2024-08-14T08:20:37.410Z"
   },
   {
    "duration": 130,
    "start_time": "2024-08-14T08:20:37.593Z"
   },
   {
    "duration": 216,
    "start_time": "2024-08-14T08:20:37.724Z"
   },
   {
    "duration": 136,
    "start_time": "2024-08-14T08:20:37.942Z"
   },
   {
    "duration": 124,
    "start_time": "2024-08-14T08:20:38.080Z"
   },
   {
    "duration": 213,
    "start_time": "2024-08-14T08:20:38.205Z"
   },
   {
    "duration": 5,
    "start_time": "2024-08-14T08:21:56.997Z"
   },
   {
    "duration": 5,
    "start_time": "2024-08-14T08:22:03.974Z"
   },
   {
    "duration": 5,
    "start_time": "2024-08-14T08:22:15.993Z"
   },
   {
    "duration": 6,
    "start_time": "2024-08-14T08:23:52.140Z"
   },
   {
    "duration": 5,
    "start_time": "2024-08-14T08:24:06.098Z"
   },
   {
    "duration": 137,
    "start_time": "2024-08-14T08:26:57.806Z"
   },
   {
    "duration": 120,
    "start_time": "2024-08-14T08:30:23.809Z"
   },
   {
    "duration": 62,
    "start_time": "2024-08-14T08:36:22.785Z"
   },
   {
    "duration": 7,
    "start_time": "2024-08-14T08:49:29.563Z"
   },
   {
    "duration": 26,
    "start_time": "2024-08-14T08:49:32.619Z"
   },
   {
    "duration": 74,
    "start_time": "2024-08-14T08:52:32.827Z"
   },
   {
    "duration": 10,
    "start_time": "2024-08-14T08:53:04.745Z"
   },
   {
    "duration": 8,
    "start_time": "2024-08-14T08:54:58.485Z"
   },
   {
    "duration": 12,
    "start_time": "2024-08-14T08:55:02.539Z"
   },
   {
    "duration": 20,
    "start_time": "2024-08-14T08:55:37.254Z"
   },
   {
    "duration": 11,
    "start_time": "2024-08-14T08:55:43.647Z"
   },
   {
    "duration": 15,
    "start_time": "2024-08-14T08:56:04.025Z"
   },
   {
    "duration": 19,
    "start_time": "2024-08-14T08:56:13.061Z"
   },
   {
    "duration": 23,
    "start_time": "2024-08-14T08:56:43.683Z"
   },
   {
    "duration": 17,
    "start_time": "2024-08-14T08:56:50.074Z"
   },
   {
    "duration": 15,
    "start_time": "2024-08-14T08:57:19.395Z"
   },
   {
    "duration": 14,
    "start_time": "2024-08-14T08:58:43.378Z"
   },
   {
    "duration": 21,
    "start_time": "2024-08-14T08:59:11.383Z"
   },
   {
    "duration": 13,
    "start_time": "2024-08-14T08:59:36.041Z"
   },
   {
    "duration": 21,
    "start_time": "2024-08-14T09:00:01.632Z"
   },
   {
    "duration": 51,
    "start_time": "2024-08-14T12:27:13.289Z"
   },
   {
    "duration": 7,
    "start_time": "2024-08-14T12:27:26.355Z"
   },
   {
    "duration": 1449,
    "start_time": "2024-08-14T12:27:31.537Z"
   },
   {
    "duration": 209,
    "start_time": "2024-08-14T12:27:32.988Z"
   },
   {
    "duration": 21,
    "start_time": "2024-08-14T12:27:33.198Z"
   },
   {
    "duration": 14,
    "start_time": "2024-08-14T12:27:33.221Z"
   },
   {
    "duration": 24,
    "start_time": "2024-08-14T12:27:33.238Z"
   },
   {
    "duration": 4,
    "start_time": "2024-08-14T12:27:33.264Z"
   },
   {
    "duration": 16,
    "start_time": "2024-08-14T12:27:33.269Z"
   },
   {
    "duration": 5,
    "start_time": "2024-08-14T12:27:33.287Z"
   },
   {
    "duration": 229,
    "start_time": "2024-08-14T12:27:33.294Z"
   },
   {
    "duration": 183,
    "start_time": "2024-08-14T12:27:33.525Z"
   },
   {
    "duration": 185,
    "start_time": "2024-08-14T12:27:33.709Z"
   },
   {
    "duration": 165,
    "start_time": "2024-08-14T12:27:33.896Z"
   },
   {
    "duration": 203,
    "start_time": "2024-08-14T12:27:34.063Z"
   },
   {
    "duration": 24,
    "start_time": "2024-08-14T12:27:34.269Z"
   },
   {
    "duration": 237,
    "start_time": "2024-08-14T12:27:34.294Z"
   },
   {
    "duration": 957,
    "start_time": "2024-08-14T12:27:34.533Z"
   },
   {
    "duration": 8,
    "start_time": "2024-08-14T12:27:35.492Z"
   },
   {
    "duration": 327,
    "start_time": "2024-08-14T12:27:35.502Z"
   },
   {
    "duration": 316,
    "start_time": "2024-08-14T12:27:35.831Z"
   },
   {
    "duration": 107,
    "start_time": "2024-08-14T12:27:36.149Z"
   },
   {
    "duration": 145,
    "start_time": "2024-08-14T12:27:36.258Z"
   },
   {
    "duration": 156,
    "start_time": "2024-08-14T12:27:36.404Z"
   },
   {
    "duration": 171,
    "start_time": "2024-08-14T12:27:36.562Z"
   },
   {
    "duration": 195,
    "start_time": "2024-08-14T12:27:36.734Z"
   },
   {
    "duration": 260,
    "start_time": "2024-08-14T12:27:36.931Z"
   },
   {
    "duration": 165,
    "start_time": "2024-08-14T12:27:37.193Z"
   },
   {
    "duration": 147,
    "start_time": "2024-08-14T12:27:37.360Z"
   },
   {
    "duration": 335,
    "start_time": "2024-08-14T12:27:37.508Z"
   },
   {
    "duration": 170,
    "start_time": "2024-08-14T12:27:37.844Z"
   },
   {
    "duration": 151,
    "start_time": "2024-08-14T12:27:38.016Z"
   },
   {
    "duration": 283,
    "start_time": "2024-08-14T12:27:38.169Z"
   },
   {
    "duration": 185,
    "start_time": "2024-08-14T12:27:38.453Z"
   },
   {
    "duration": 165,
    "start_time": "2024-08-14T12:27:38.642Z"
   },
   {
    "duration": 19,
    "start_time": "2024-08-14T12:27:38.809Z"
   },
   {
    "duration": 27,
    "start_time": "2024-08-14T12:27:38.830Z"
   },
   {
    "duration": 1165,
    "start_time": "2024-08-15T05:47:18.847Z"
   },
   {
    "duration": 81,
    "start_time": "2024-08-15T05:47:20.014Z"
   },
   {
    "duration": 21,
    "start_time": "2024-08-15T05:47:20.096Z"
   },
   {
    "duration": 47,
    "start_time": "2024-08-15T05:47:20.118Z"
   },
   {
    "duration": 27,
    "start_time": "2024-08-15T05:47:20.168Z"
   },
   {
    "duration": 4,
    "start_time": "2024-08-15T05:47:20.196Z"
   },
   {
    "duration": 15,
    "start_time": "2024-08-15T05:47:20.202Z"
   },
   {
    "duration": 6,
    "start_time": "2024-08-15T05:47:20.218Z"
   },
   {
    "duration": 228,
    "start_time": "2024-08-15T05:47:20.226Z"
   },
   {
    "duration": 214,
    "start_time": "2024-08-15T05:47:20.456Z"
   },
   {
    "duration": 205,
    "start_time": "2024-08-15T05:47:20.671Z"
   },
   {
    "duration": 170,
    "start_time": "2024-08-15T05:47:20.878Z"
   },
   {
    "duration": 188,
    "start_time": "2024-08-15T05:47:21.050Z"
   },
   {
    "duration": 26,
    "start_time": "2024-08-15T05:47:21.247Z"
   },
   {
    "duration": 240,
    "start_time": "2024-08-15T05:47:21.274Z"
   },
   {
    "duration": 967,
    "start_time": "2024-08-15T05:47:21.516Z"
   },
   {
    "duration": 9,
    "start_time": "2024-08-15T05:47:22.485Z"
   },
   {
    "duration": 333,
    "start_time": "2024-08-15T05:47:22.500Z"
   },
   {
    "duration": 282,
    "start_time": "2024-08-15T05:47:22.835Z"
   },
   {
    "duration": 110,
    "start_time": "2024-08-15T05:47:23.118Z"
   },
   {
    "duration": 153,
    "start_time": "2024-08-15T05:47:23.230Z"
   },
   {
    "duration": 163,
    "start_time": "2024-08-15T05:47:23.384Z"
   },
   {
    "duration": 173,
    "start_time": "2024-08-15T05:47:23.548Z"
   },
   {
    "duration": 199,
    "start_time": "2024-08-15T05:47:23.722Z"
   },
   {
    "duration": 289,
    "start_time": "2024-08-15T05:47:23.922Z"
   },
   {
    "duration": 185,
    "start_time": "2024-08-15T05:47:24.213Z"
   },
   {
    "duration": 154,
    "start_time": "2024-08-15T05:47:24.400Z"
   },
   {
    "duration": 348,
    "start_time": "2024-08-15T05:47:24.556Z"
   },
   {
    "duration": 177,
    "start_time": "2024-08-15T05:47:24.906Z"
   },
   {
    "duration": 156,
    "start_time": "2024-08-15T05:47:25.085Z"
   },
   {
    "duration": 276,
    "start_time": "2024-08-15T05:47:25.242Z"
   },
   {
    "duration": 181,
    "start_time": "2024-08-15T05:47:25.520Z"
   },
   {
    "duration": 183,
    "start_time": "2024-08-15T05:47:25.704Z"
   },
   {
    "duration": 19,
    "start_time": "2024-08-15T05:47:25.888Z"
   },
   {
    "duration": 12,
    "start_time": "2024-08-15T05:47:25.908Z"
   },
   {
    "duration": 65,
    "start_time": "2024-08-15T08:35:59.145Z"
   },
   {
    "duration": 1291,
    "start_time": "2024-08-15T08:42:19.093Z"
   },
   {
    "duration": 320,
    "start_time": "2024-08-15T08:42:20.386Z"
   },
   {
    "duration": 22,
    "start_time": "2024-08-15T08:42:20.708Z"
   },
   {
    "duration": 38,
    "start_time": "2024-08-15T08:42:20.732Z"
   },
   {
    "duration": 26,
    "start_time": "2024-08-15T08:42:20.772Z"
   },
   {
    "duration": 3,
    "start_time": "2024-08-15T08:42:20.800Z"
   },
   {
    "duration": 18,
    "start_time": "2024-08-15T08:42:20.805Z"
   },
   {
    "duration": 5,
    "start_time": "2024-08-15T08:42:20.825Z"
   },
   {
    "duration": 225,
    "start_time": "2024-08-15T08:42:20.831Z"
   },
   {
    "duration": 200,
    "start_time": "2024-08-15T08:42:21.057Z"
   },
   {
    "duration": 189,
    "start_time": "2024-08-15T08:42:21.259Z"
   },
   {
    "duration": 171,
    "start_time": "2024-08-15T08:42:21.451Z"
   },
   {
    "duration": 192,
    "start_time": "2024-08-15T08:42:21.623Z"
   },
   {
    "duration": 24,
    "start_time": "2024-08-15T08:42:21.817Z"
   },
   {
    "duration": 232,
    "start_time": "2024-08-15T08:42:21.842Z"
   },
   {
    "duration": 949,
    "start_time": "2024-08-15T08:42:22.076Z"
   },
   {
    "duration": 8,
    "start_time": "2024-08-15T08:42:23.026Z"
   },
   {
    "duration": 310,
    "start_time": "2024-08-15T08:42:23.035Z"
   },
   {
    "duration": 285,
    "start_time": "2024-08-15T08:42:23.346Z"
   },
   {
    "duration": 110,
    "start_time": "2024-08-15T08:42:23.632Z"
   },
   {
    "duration": 157,
    "start_time": "2024-08-15T08:42:23.744Z"
   },
   {
    "duration": 188,
    "start_time": "2024-08-15T08:42:23.904Z"
   },
   {
    "duration": 174,
    "start_time": "2024-08-15T08:42:24.093Z"
   },
   {
    "duration": 190,
    "start_time": "2024-08-15T08:42:24.268Z"
   },
   {
    "duration": 275,
    "start_time": "2024-08-15T08:42:24.459Z"
   },
   {
    "duration": 165,
    "start_time": "2024-08-15T08:42:24.735Z"
   },
   {
    "duration": 166,
    "start_time": "2024-08-15T08:42:24.902Z"
   },
   {
    "duration": 344,
    "start_time": "2024-08-15T08:42:25.070Z"
   },
   {
    "duration": 170,
    "start_time": "2024-08-15T08:42:25.416Z"
   },
   {
    "duration": 152,
    "start_time": "2024-08-15T08:42:25.588Z"
   },
   {
    "duration": 283,
    "start_time": "2024-08-15T08:42:25.742Z"
   },
   {
    "duration": 184,
    "start_time": "2024-08-15T08:42:26.026Z"
   },
   {
    "duration": 156,
    "start_time": "2024-08-15T08:42:26.212Z"
   },
   {
    "duration": 17,
    "start_time": "2024-08-15T08:42:26.369Z"
   },
   {
    "duration": 11,
    "start_time": "2024-08-15T08:42:26.387Z"
   },
   {
    "duration": 84,
    "start_time": "2024-08-15T08:42:45.978Z"
   },
   {
    "duration": 932,
    "start_time": "2024-08-15T09:00:28.381Z"
   },
   {
    "duration": 682,
    "start_time": "2024-08-15T09:00:53.858Z"
   },
   {
    "duration": 719,
    "start_time": "2024-08-15T09:01:09.060Z"
   },
   {
    "duration": 3,
    "start_time": "2024-08-15T09:01:16.494Z"
   },
   {
    "duration": 289,
    "start_time": "2024-08-15T09:01:16.501Z"
   },
   {
    "duration": 24,
    "start_time": "2024-08-15T09:01:16.792Z"
   },
   {
    "duration": 49,
    "start_time": "2024-08-15T09:01:16.817Z"
   },
   {
    "duration": 20,
    "start_time": "2024-08-15T09:01:16.868Z"
   },
   {
    "duration": 6,
    "start_time": "2024-08-15T09:01:16.890Z"
   },
   {
    "duration": 4,
    "start_time": "2024-08-15T09:01:16.898Z"
   },
   {
    "duration": 28,
    "start_time": "2024-08-15T09:01:16.904Z"
   },
   {
    "duration": 22,
    "start_time": "2024-08-15T09:01:16.934Z"
   },
   {
    "duration": 208,
    "start_time": "2024-08-15T09:01:16.958Z"
   },
   {
    "duration": 193,
    "start_time": "2024-08-15T09:01:17.170Z"
   },
   {
    "duration": 195,
    "start_time": "2024-08-15T09:01:17.365Z"
   },
   {
    "duration": 257,
    "start_time": "2024-08-15T09:01:17.562Z"
   },
   {
    "duration": 205,
    "start_time": "2024-08-15T09:01:17.821Z"
   },
   {
    "duration": 34,
    "start_time": "2024-08-15T09:01:18.028Z"
   },
   {
    "duration": 230,
    "start_time": "2024-08-15T09:01:18.064Z"
   },
   {
    "duration": 944,
    "start_time": "2024-08-15T09:01:18.296Z"
   },
   {
    "duration": 14,
    "start_time": "2024-08-15T09:01:19.241Z"
   },
   {
    "duration": 230,
    "start_time": "2024-08-15T09:01:19.257Z"
   },
   {
    "duration": 293,
    "start_time": "2024-08-15T09:01:19.488Z"
   },
   {
    "duration": 117,
    "start_time": "2024-08-15T09:01:19.782Z"
   },
   {
    "duration": 152,
    "start_time": "2024-08-15T09:01:19.900Z"
   },
   {
    "duration": 162,
    "start_time": "2024-08-15T09:01:20.054Z"
   },
   {
    "duration": 261,
    "start_time": "2024-08-15T09:01:20.218Z"
   },
   {
    "duration": 192,
    "start_time": "2024-08-15T09:01:20.481Z"
   },
   {
    "duration": 267,
    "start_time": "2024-08-15T09:01:20.675Z"
   },
   {
    "duration": 170,
    "start_time": "2024-08-15T09:01:20.944Z"
   },
   {
    "duration": 148,
    "start_time": "2024-08-15T09:01:21.116Z"
   },
   {
    "duration": 270,
    "start_time": "2024-08-15T09:01:21.267Z"
   },
   {
    "duration": 179,
    "start_time": "2024-08-15T09:01:21.539Z"
   },
   {
    "duration": 156,
    "start_time": "2024-08-15T09:01:21.720Z"
   },
   {
    "duration": 276,
    "start_time": "2024-08-15T09:01:21.877Z"
   },
   {
    "duration": 290,
    "start_time": "2024-08-15T09:01:22.155Z"
   },
   {
    "duration": 171,
    "start_time": "2024-08-15T09:01:22.451Z"
   },
   {
    "duration": 16,
    "start_time": "2024-08-15T09:01:22.624Z"
   },
   {
    "duration": 11,
    "start_time": "2024-08-15T09:01:22.653Z"
   },
   {
    "duration": 25,
    "start_time": "2024-08-15T09:01:44.229Z"
   },
   {
    "duration": 6,
    "start_time": "2024-08-15T09:05:13.275Z"
   },
   {
    "duration": 7,
    "start_time": "2024-08-15T09:05:23.740Z"
   },
   {
    "duration": 54,
    "start_time": "2024-08-15T10:30:33.987Z"
   },
   {
    "duration": 7,
    "start_time": "2024-08-15T10:30:47.410Z"
   },
   {
    "duration": 4,
    "start_time": "2024-08-15T10:37:16.464Z"
   },
   {
    "duration": 31,
    "start_time": "2024-08-15T10:37:22.601Z"
   },
   {
    "duration": 7,
    "start_time": "2024-08-15T10:37:47.070Z"
   },
   {
    "duration": 7,
    "start_time": "2024-08-15T10:37:56.468Z"
   },
   {
    "duration": 4,
    "start_time": "2024-08-15T10:43:39.906Z"
   },
   {
    "duration": 18,
    "start_time": "2024-08-15T10:50:30.477Z"
   },
   {
    "duration": 22,
    "start_time": "2024-08-15T10:50:58.443Z"
   },
   {
    "duration": 16,
    "start_time": "2024-08-15T10:51:05.071Z"
   },
   {
    "duration": 15,
    "start_time": "2024-08-15T10:51:16.551Z"
   },
   {
    "duration": 15,
    "start_time": "2024-08-15T10:51:22.053Z"
   },
   {
    "duration": 15,
    "start_time": "2024-08-15T10:55:52.520Z"
   },
   {
    "duration": 23,
    "start_time": "2024-08-15T10:59:20.796Z"
   },
   {
    "duration": 17,
    "start_time": "2024-08-15T11:00:03.490Z"
   },
   {
    "duration": 24,
    "start_time": "2024-08-15T11:00:44.009Z"
   },
   {
    "duration": 18,
    "start_time": "2024-08-15T11:00:54.533Z"
   },
   {
    "duration": 19,
    "start_time": "2024-08-15T11:03:17.922Z"
   },
   {
    "duration": 18,
    "start_time": "2024-08-15T11:03:22.738Z"
   },
   {
    "duration": 21,
    "start_time": "2024-08-15T11:06:29.163Z"
   },
   {
    "duration": 22,
    "start_time": "2024-08-15T11:06:33.789Z"
   },
   {
    "duration": 37,
    "start_time": "2024-08-15T11:06:53.313Z"
   },
   {
    "duration": 23,
    "start_time": "2024-08-15T11:07:07.662Z"
   },
   {
    "duration": 23,
    "start_time": "2024-08-15T11:07:19.548Z"
   },
   {
    "duration": 36,
    "start_time": "2024-08-15T11:07:31.453Z"
   },
   {
    "duration": 19,
    "start_time": "2024-08-15T11:08:06.713Z"
   },
   {
    "duration": 18,
    "start_time": "2024-08-15T11:08:22.010Z"
   },
   {
    "duration": 9,
    "start_time": "2024-08-15T11:25:09.020Z"
   },
   {
    "duration": 15,
    "start_time": "2024-08-15T11:29:52.528Z"
   },
   {
    "duration": 7,
    "start_time": "2024-08-15T11:30:04.143Z"
   },
   {
    "duration": 10,
    "start_time": "2024-08-15T11:32:36.431Z"
   },
   {
    "duration": 327,
    "start_time": "2024-08-15T11:33:13.812Z"
   },
   {
    "duration": 131,
    "start_time": "2024-08-15T11:33:42.213Z"
   },
   {
    "duration": 144,
    "start_time": "2024-08-15T11:34:08.132Z"
   },
   {
    "duration": 117,
    "start_time": "2024-08-15T11:50:26.201Z"
   },
   {
    "duration": 105,
    "start_time": "2024-08-15T11:50:42.956Z"
   },
   {
    "duration": 109,
    "start_time": "2024-08-15T12:28:48.372Z"
   },
   {
    "duration": 108,
    "start_time": "2024-08-15T12:28:59.978Z"
   },
   {
    "duration": 105,
    "start_time": "2024-08-15T12:29:11.058Z"
   },
   {
    "duration": 104,
    "start_time": "2024-08-15T12:29:16.861Z"
   },
   {
    "duration": 216,
    "start_time": "2024-08-15T13:26:35.313Z"
   },
   {
    "duration": 117,
    "start_time": "2024-08-15T13:26:45.667Z"
   },
   {
    "duration": 105,
    "start_time": "2024-08-15T13:26:52.269Z"
   },
   {
    "duration": 108,
    "start_time": "2024-08-15T13:28:14.393Z"
   },
   {
    "duration": 73,
    "start_time": "2024-08-15T13:36:32.377Z"
   },
   {
    "duration": 123,
    "start_time": "2024-08-15T13:36:57.989Z"
   },
   {
    "duration": 18,
    "start_time": "2024-08-15T13:50:36.383Z"
   },
   {
    "duration": 133,
    "start_time": "2024-08-15T13:51:10.702Z"
   },
   {
    "duration": 131,
    "start_time": "2024-08-15T13:52:04.326Z"
   },
   {
    "duration": 15,
    "start_time": "2024-08-15T13:53:35.831Z"
   },
   {
    "duration": 131,
    "start_time": "2024-08-15T13:53:47.356Z"
   },
   {
    "duration": 130,
    "start_time": "2024-08-15T13:54:48.050Z"
   },
   {
    "duration": 118,
    "start_time": "2024-08-15T13:54:57.728Z"
   },
   {
    "duration": 28,
    "start_time": "2024-08-15T13:55:18.029Z"
   },
   {
    "duration": 28,
    "start_time": "2024-08-15T13:55:27.254Z"
   },
   {
    "duration": 141,
    "start_time": "2024-08-15T13:55:34.205Z"
   },
   {
    "duration": 131,
    "start_time": "2024-08-15T13:56:00.844Z"
   },
   {
    "duration": 144,
    "start_time": "2024-08-15T13:58:24.897Z"
   },
   {
    "duration": 135,
    "start_time": "2024-08-15T13:58:37.129Z"
   },
   {
    "duration": 243,
    "start_time": "2024-08-15T14:01:35.567Z"
   },
   {
    "duration": 117,
    "start_time": "2024-08-15T14:03:02.390Z"
   },
   {
    "duration": 13,
    "start_time": "2024-08-15T14:06:05.449Z"
   },
   {
    "duration": 11,
    "start_time": "2024-08-15T14:06:45.352Z"
   },
   {
    "duration": 10,
    "start_time": "2024-08-15T14:06:52.911Z"
   },
   {
    "duration": 9,
    "start_time": "2024-08-15T14:08:33.711Z"
   },
   {
    "duration": 112,
    "start_time": "2024-08-15T14:08:41.227Z"
   },
   {
    "duration": 114,
    "start_time": "2024-08-15T14:08:50.215Z"
   },
   {
    "duration": 66,
    "start_time": "2024-08-15T14:09:37.511Z"
   },
   {
    "duration": 157,
    "start_time": "2024-08-15T14:09:41.639Z"
   },
   {
    "duration": 166,
    "start_time": "2024-08-15T14:09:52.815Z"
   },
   {
    "duration": 160,
    "start_time": "2024-08-15T14:10:04.841Z"
   },
   {
    "duration": 236,
    "start_time": "2024-08-15T14:14:11.920Z"
   },
   {
    "duration": 251,
    "start_time": "2024-08-15T14:14:24.846Z"
   },
   {
    "duration": 421,
    "start_time": "2024-08-15T14:14:52.497Z"
   },
   {
    "duration": 278,
    "start_time": "2024-08-15T14:15:32.429Z"
   },
   {
    "duration": 145,
    "start_time": "2024-08-15T14:19:09.889Z"
   },
   {
    "duration": 45,
    "start_time": "2024-08-15T17:10:43.600Z"
   },
   {
    "duration": 1294,
    "start_time": "2024-08-15T17:10:47.266Z"
   },
   {
    "duration": 232,
    "start_time": "2024-08-15T17:10:48.562Z"
   },
   {
    "duration": 20,
    "start_time": "2024-08-15T17:10:48.795Z"
   },
   {
    "duration": 22,
    "start_time": "2024-08-15T17:10:48.817Z"
   },
   {
    "duration": 42,
    "start_time": "2024-08-15T17:10:48.841Z"
   },
   {
    "duration": 14,
    "start_time": "2024-08-15T17:10:48.885Z"
   },
   {
    "duration": 19,
    "start_time": "2024-08-15T17:10:48.901Z"
   },
   {
    "duration": 21,
    "start_time": "2024-08-15T17:10:48.921Z"
   },
   {
    "duration": 8,
    "start_time": "2024-08-15T17:10:48.943Z"
   },
   {
    "duration": 197,
    "start_time": "2024-08-15T17:10:48.953Z"
   },
   {
    "duration": 177,
    "start_time": "2024-08-15T17:10:49.151Z"
   },
   {
    "duration": 163,
    "start_time": "2024-08-15T17:10:49.330Z"
   },
   {
    "duration": 146,
    "start_time": "2024-08-15T17:10:49.495Z"
   },
   {
    "duration": 175,
    "start_time": "2024-08-15T17:10:49.644Z"
   },
   {
    "duration": 8,
    "start_time": "2024-08-15T17:10:49.820Z"
   },
   {
    "duration": 14,
    "start_time": "2024-08-15T17:10:49.830Z"
   },
   {
    "duration": 32,
    "start_time": "2024-08-15T17:10:49.846Z"
   },
   {
    "duration": 22,
    "start_time": "2024-08-15T17:10:49.879Z"
   },
   {
    "duration": 149,
    "start_time": "2024-08-15T17:10:49.902Z"
   },
   {
    "duration": 956,
    "start_time": "2024-08-15T17:10:50.052Z"
   },
   {
    "duration": 7,
    "start_time": "2024-08-15T17:10:51.010Z"
   },
   {
    "duration": 195,
    "start_time": "2024-08-15T17:10:51.019Z"
   },
   {
    "duration": 278,
    "start_time": "2024-08-15T17:10:51.216Z"
   },
   {
    "duration": 93,
    "start_time": "2024-08-15T17:10:51.496Z"
   },
   {
    "duration": 111,
    "start_time": "2024-08-15T17:10:51.591Z"
   },
   {
    "duration": 127,
    "start_time": "2024-08-15T17:10:51.704Z"
   },
   {
    "duration": 114,
    "start_time": "2024-08-15T17:10:51.833Z"
   },
   {
    "duration": 144,
    "start_time": "2024-08-15T17:10:51.948Z"
   },
   {
    "duration": 147,
    "start_time": "2024-08-15T17:10:52.094Z"
   },
   {
    "duration": 272,
    "start_time": "2024-08-15T17:10:52.242Z"
   },
   {
    "duration": 222,
    "start_time": "2024-08-15T17:10:52.516Z"
   },
   {
    "duration": 156,
    "start_time": "2024-08-15T17:10:52.740Z"
   },
   {
    "duration": 136,
    "start_time": "2024-08-15T17:10:52.897Z"
   },
   {
    "duration": 248,
    "start_time": "2024-08-15T17:10:53.034Z"
   },
   {
    "duration": 149,
    "start_time": "2024-08-15T17:10:53.283Z"
   },
   {
    "duration": 133,
    "start_time": "2024-08-15T17:10:53.434Z"
   },
   {
    "duration": 237,
    "start_time": "2024-08-15T17:10:53.569Z"
   },
   {
    "duration": 157,
    "start_time": "2024-08-15T17:10:53.807Z"
   },
   {
    "duration": 135,
    "start_time": "2024-08-15T17:10:53.966Z"
   },
   {
    "duration": 67,
    "start_time": "2024-08-15T17:10:54.103Z"
   },
   {
    "duration": 0,
    "start_time": "2024-08-15T17:10:54.182Z"
   },
   {
    "duration": 208,
    "start_time": "2024-08-15T17:13:56.210Z"
   },
   {
    "duration": 137,
    "start_time": "2024-08-15T17:14:53.633Z"
   },
   {
    "duration": 140,
    "start_time": "2024-08-15T17:15:07.049Z"
   },
   {
    "duration": 15,
    "start_time": "2024-08-15T17:16:46.169Z"
   },
   {
    "duration": 153,
    "start_time": "2024-08-15T17:17:13.750Z"
   },
   {
    "duration": 122,
    "start_time": "2024-08-15T17:18:58.802Z"
   },
   {
    "duration": 113,
    "start_time": "2024-08-15T17:19:05.921Z"
   },
   {
    "duration": 15,
    "start_time": "2024-08-15T17:19:27.059Z"
   },
   {
    "duration": 5,
    "start_time": "2024-08-15T17:19:58.853Z"
   },
   {
    "duration": 3,
    "start_time": "2024-08-15T17:20:21.993Z"
   },
   {
    "duration": 83,
    "start_time": "2024-08-15T17:20:21.998Z"
   },
   {
    "duration": 21,
    "start_time": "2024-08-15T17:20:22.082Z"
   },
   {
    "duration": 13,
    "start_time": "2024-08-15T17:20:22.104Z"
   },
   {
    "duration": 19,
    "start_time": "2024-08-15T17:20:22.119Z"
   },
   {
    "duration": 14,
    "start_time": "2024-08-15T17:20:22.139Z"
   },
   {
    "duration": 28,
    "start_time": "2024-08-15T17:20:22.155Z"
   },
   {
    "duration": 14,
    "start_time": "2024-08-15T17:20:22.185Z"
   },
   {
    "duration": 5,
    "start_time": "2024-08-15T17:20:22.201Z"
   },
   {
    "duration": 190,
    "start_time": "2024-08-15T17:20:22.207Z"
   },
   {
    "duration": 166,
    "start_time": "2024-08-15T17:20:22.399Z"
   },
   {
    "duration": 165,
    "start_time": "2024-08-15T17:20:22.567Z"
   },
   {
    "duration": 157,
    "start_time": "2024-08-15T17:20:22.734Z"
   },
   {
    "duration": 168,
    "start_time": "2024-08-15T17:20:22.893Z"
   },
   {
    "duration": 7,
    "start_time": "2024-08-15T17:20:23.063Z"
   },
   {
    "duration": 24,
    "start_time": "2024-08-15T17:20:23.072Z"
   },
   {
    "duration": 26,
    "start_time": "2024-08-15T17:20:23.097Z"
   },
   {
    "duration": 21,
    "start_time": "2024-08-15T17:20:23.125Z"
   },
   {
    "duration": 241,
    "start_time": "2024-08-15T17:20:23.148Z"
   },
   {
    "duration": 821,
    "start_time": "2024-08-15T17:20:23.391Z"
   },
   {
    "duration": 7,
    "start_time": "2024-08-15T17:20:24.213Z"
   },
   {
    "duration": 214,
    "start_time": "2024-08-15T17:20:24.221Z"
   },
   {
    "duration": 256,
    "start_time": "2024-08-15T17:20:24.437Z"
   },
   {
    "duration": 101,
    "start_time": "2024-08-15T17:20:24.694Z"
   },
   {
    "duration": 113,
    "start_time": "2024-08-15T17:20:24.797Z"
   },
   {
    "duration": 112,
    "start_time": "2024-08-15T17:20:24.911Z"
   },
   {
    "duration": 111,
    "start_time": "2024-08-15T17:20:25.024Z"
   },
   {
    "duration": 135,
    "start_time": "2024-08-15T17:20:25.136Z"
   },
   {
    "duration": 145,
    "start_time": "2024-08-15T17:20:25.272Z"
   },
   {
    "duration": 350,
    "start_time": "2024-08-15T17:20:25.418Z"
   },
   {
    "duration": 140,
    "start_time": "2024-08-15T17:20:25.770Z"
   },
   {
    "duration": 161,
    "start_time": "2024-08-15T17:20:25.912Z"
   },
   {
    "duration": 127,
    "start_time": "2024-08-15T17:20:26.074Z"
   },
   {
    "duration": 235,
    "start_time": "2024-08-15T17:20:26.202Z"
   },
   {
    "duration": 152,
    "start_time": "2024-08-15T17:20:26.438Z"
   },
   {
    "duration": 138,
    "start_time": "2024-08-15T17:20:26.591Z"
   },
   {
    "duration": 241,
    "start_time": "2024-08-15T17:20:26.732Z"
   },
   {
    "duration": 246,
    "start_time": "2024-08-15T17:20:26.974Z"
   },
   {
    "duration": 155,
    "start_time": "2024-08-15T17:20:27.221Z"
   },
   {
    "duration": 15,
    "start_time": "2024-08-15T17:20:27.381Z"
   },
   {
    "duration": 0,
    "start_time": "2024-08-15T17:20:27.398Z"
   },
   {
    "duration": 148,
    "start_time": "2024-08-15T17:23:03.091Z"
   },
   {
    "duration": 63,
    "start_time": "2024-08-15T17:23:56.382Z"
   },
   {
    "duration": 152,
    "start_time": "2024-08-15T17:25:42.779Z"
   },
   {
    "duration": 116,
    "start_time": "2024-08-15T17:28:14.863Z"
   },
   {
    "duration": 109,
    "start_time": "2024-08-15T17:28:49.941Z"
   },
   {
    "duration": 123,
    "start_time": "2024-08-15T17:29:13.164Z"
   },
   {
    "duration": 118,
    "start_time": "2024-08-15T17:29:26.179Z"
   },
   {
    "duration": 113,
    "start_time": "2024-08-15T17:29:37.567Z"
   },
   {
    "duration": 150,
    "start_time": "2024-08-15T17:32:48.047Z"
   },
   {
    "duration": 152,
    "start_time": "2024-08-15T17:36:24.833Z"
   },
   {
    "duration": 203,
    "start_time": "2024-08-15T17:39:29.480Z"
   },
   {
    "duration": 109,
    "start_time": "2024-08-15T17:39:57.841Z"
   },
   {
    "duration": 114,
    "start_time": "2024-08-15T17:40:04.828Z"
   },
   {
    "duration": 16,
    "start_time": "2024-08-15T17:44:28.728Z"
   },
   {
    "duration": 15,
    "start_time": "2024-08-15T17:44:37.963Z"
   },
   {
    "duration": 17,
    "start_time": "2024-08-15T17:45:19.118Z"
   },
   {
    "duration": 17,
    "start_time": "2024-08-15T17:54:20.515Z"
   },
   {
    "duration": 10,
    "start_time": "2024-08-15T17:54:28.017Z"
   },
   {
    "duration": 11,
    "start_time": "2024-08-15T17:54:33.126Z"
   },
   {
    "duration": 11,
    "start_time": "2024-08-15T17:54:38.122Z"
   },
   {
    "duration": 14,
    "start_time": "2024-08-15T17:59:16.497Z"
   },
   {
    "duration": 19,
    "start_time": "2024-08-15T17:59:43.143Z"
   },
   {
    "duration": 1058,
    "start_time": "2024-08-16T05:51:34.342Z"
   },
   {
    "duration": 228,
    "start_time": "2024-08-16T05:51:35.402Z"
   },
   {
    "duration": 21,
    "start_time": "2024-08-16T05:51:35.631Z"
   },
   {
    "duration": 20,
    "start_time": "2024-08-16T05:51:35.653Z"
   },
   {
    "duration": 36,
    "start_time": "2024-08-16T05:51:35.676Z"
   },
   {
    "duration": 14,
    "start_time": "2024-08-16T05:51:35.714Z"
   },
   {
    "duration": 4,
    "start_time": "2024-08-16T05:51:35.730Z"
   },
   {
    "duration": 20,
    "start_time": "2024-08-16T05:51:35.735Z"
   },
   {
    "duration": 11,
    "start_time": "2024-08-16T05:51:35.757Z"
   },
   {
    "duration": 189,
    "start_time": "2024-08-16T05:51:35.769Z"
   },
   {
    "duration": 173,
    "start_time": "2024-08-16T05:51:35.960Z"
   },
   {
    "duration": 172,
    "start_time": "2024-08-16T05:51:36.135Z"
   },
   {
    "duration": 150,
    "start_time": "2024-08-16T05:51:36.309Z"
   },
   {
    "duration": 164,
    "start_time": "2024-08-16T05:51:36.461Z"
   },
   {
    "duration": 7,
    "start_time": "2024-08-16T05:51:36.626Z"
   },
   {
    "duration": 15,
    "start_time": "2024-08-16T05:51:36.634Z"
   },
   {
    "duration": 31,
    "start_time": "2024-08-16T05:51:36.651Z"
   },
   {
    "duration": 25,
    "start_time": "2024-08-16T05:51:36.684Z"
   },
   {
    "duration": 142,
    "start_time": "2024-08-16T05:51:36.710Z"
   },
   {
    "duration": 875,
    "start_time": "2024-08-16T05:51:36.854Z"
   },
   {
    "duration": 7,
    "start_time": "2024-08-16T05:51:37.731Z"
   },
   {
    "duration": 202,
    "start_time": "2024-08-16T05:51:37.740Z"
   },
   {
    "duration": 364,
    "start_time": "2024-08-16T05:51:37.944Z"
   },
   {
    "duration": 104,
    "start_time": "2024-08-16T05:51:38.310Z"
   },
   {
    "duration": 115,
    "start_time": "2024-08-16T05:51:38.416Z"
   },
   {
    "duration": 106,
    "start_time": "2024-08-16T05:51:38.533Z"
   },
   {
    "duration": 119,
    "start_time": "2024-08-16T05:51:38.640Z"
   },
   {
    "duration": 148,
    "start_time": "2024-08-16T05:51:38.760Z"
   },
   {
    "duration": 144,
    "start_time": "2024-08-16T05:51:38.910Z"
   },
   {
    "duration": 278,
    "start_time": "2024-08-16T05:51:39.056Z"
   },
   {
    "duration": 153,
    "start_time": "2024-08-16T05:51:39.335Z"
   },
   {
    "duration": 162,
    "start_time": "2024-08-16T05:51:39.490Z"
   },
   {
    "duration": 199,
    "start_time": "2024-08-16T05:51:39.653Z"
   },
   {
    "duration": 150,
    "start_time": "2024-08-16T05:51:39.854Z"
   },
   {
    "duration": 162,
    "start_time": "2024-08-16T05:51:40.005Z"
   },
   {
    "duration": 125,
    "start_time": "2024-08-16T05:51:40.168Z"
   },
   {
    "duration": 148,
    "start_time": "2024-08-16T05:51:40.295Z"
   },
   {
    "duration": 162,
    "start_time": "2024-08-16T05:51:40.445Z"
   },
   {
    "duration": 130,
    "start_time": "2024-08-16T05:51:40.608Z"
   },
   {
    "duration": 18,
    "start_time": "2024-08-16T05:51:40.740Z"
   },
   {
    "duration": 11,
    "start_time": "2024-08-16T05:51:40.761Z"
   },
   {
    "duration": 17,
    "start_time": "2024-08-16T05:53:46.373Z"
   },
   {
    "duration": 89,
    "start_time": "2024-08-16T08:51:15.932Z"
   },
   {
    "duration": 56,
    "start_time": "2024-08-16T08:54:45.282Z"
   },
   {
    "duration": 42,
    "start_time": "2024-08-16T08:54:57.799Z"
   },
   {
    "duration": 1249,
    "start_time": "2024-08-16T08:55:02.402Z"
   },
   {
    "duration": 268,
    "start_time": "2024-08-16T08:55:03.653Z"
   },
   {
    "duration": 40,
    "start_time": "2024-08-16T08:55:03.923Z"
   },
   {
    "duration": 37,
    "start_time": "2024-08-16T08:55:03.965Z"
   },
   {
    "duration": 20,
    "start_time": "2024-08-16T08:55:04.005Z"
   },
   {
    "duration": 16,
    "start_time": "2024-08-16T08:55:04.027Z"
   },
   {
    "duration": 14,
    "start_time": "2024-08-16T08:55:04.044Z"
   },
   {
    "duration": 15,
    "start_time": "2024-08-16T08:55:04.059Z"
   },
   {
    "duration": 4,
    "start_time": "2024-08-16T08:55:04.076Z"
   },
   {
    "duration": 188,
    "start_time": "2024-08-16T08:55:04.082Z"
   },
   {
    "duration": 169,
    "start_time": "2024-08-16T08:55:04.271Z"
   },
   {
    "duration": 167,
    "start_time": "2024-08-16T08:55:04.441Z"
   },
   {
    "duration": 144,
    "start_time": "2024-08-16T08:55:04.610Z"
   },
   {
    "duration": 171,
    "start_time": "2024-08-16T08:55:04.756Z"
   },
   {
    "duration": 6,
    "start_time": "2024-08-16T08:55:04.929Z"
   },
   {
    "duration": 3,
    "start_time": "2024-08-16T08:55:04.937Z"
   },
   {
    "duration": 22,
    "start_time": "2024-08-16T08:55:04.952Z"
   },
   {
    "duration": 22,
    "start_time": "2024-08-16T08:55:04.975Z"
   },
   {
    "duration": 18,
    "start_time": "2024-08-16T08:55:04.998Z"
   },
   {
    "duration": 80,
    "start_time": "2024-08-16T08:55:05.017Z"
   },
   {
    "duration": 0,
    "start_time": "2024-08-16T08:55:05.098Z"
   },
   {
    "duration": 0,
    "start_time": "2024-08-16T08:55:05.099Z"
   },
   {
    "duration": 0,
    "start_time": "2024-08-16T08:55:05.100Z"
   },
   {
    "duration": 0,
    "start_time": "2024-08-16T08:55:05.101Z"
   },
   {
    "duration": 0,
    "start_time": "2024-08-16T08:55:05.102Z"
   },
   {
    "duration": 0,
    "start_time": "2024-08-16T08:55:05.103Z"
   },
   {
    "duration": 0,
    "start_time": "2024-08-16T08:55:05.104Z"
   },
   {
    "duration": 0,
    "start_time": "2024-08-16T08:55:05.105Z"
   },
   {
    "duration": 0,
    "start_time": "2024-08-16T08:55:05.106Z"
   },
   {
    "duration": 0,
    "start_time": "2024-08-16T08:55:05.107Z"
   },
   {
    "duration": 0,
    "start_time": "2024-08-16T08:55:05.108Z"
   },
   {
    "duration": 0,
    "start_time": "2024-08-16T08:55:05.109Z"
   },
   {
    "duration": 0,
    "start_time": "2024-08-16T08:55:05.110Z"
   },
   {
    "duration": 0,
    "start_time": "2024-08-16T08:55:05.111Z"
   },
   {
    "duration": 0,
    "start_time": "2024-08-16T08:55:05.112Z"
   },
   {
    "duration": 0,
    "start_time": "2024-08-16T08:55:05.114Z"
   },
   {
    "duration": 0,
    "start_time": "2024-08-16T08:55:05.115Z"
   },
   {
    "duration": 0,
    "start_time": "2024-08-16T08:55:05.116Z"
   },
   {
    "duration": 0,
    "start_time": "2024-08-16T08:55:05.152Z"
   },
   {
    "duration": 0,
    "start_time": "2024-08-16T08:55:05.153Z"
   },
   {
    "duration": 0,
    "start_time": "2024-08-16T08:55:05.154Z"
   },
   {
    "duration": 0,
    "start_time": "2024-08-16T08:55:05.155Z"
   },
   {
    "duration": 0,
    "start_time": "2024-08-16T08:55:05.156Z"
   },
   {
    "duration": 4,
    "start_time": "2024-08-16T08:55:23.042Z"
   },
   {
    "duration": 56,
    "start_time": "2024-08-16T08:55:54.328Z"
   },
   {
    "duration": 8,
    "start_time": "2024-08-16T08:55:58.384Z"
   },
   {
    "duration": 16,
    "start_time": "2024-08-16T08:56:07.458Z"
   },
   {
    "duration": 15,
    "start_time": "2024-08-16T08:57:05.013Z"
   },
   {
    "duration": 16,
    "start_time": "2024-08-16T08:57:30.415Z"
   },
   {
    "duration": 16,
    "start_time": "2024-08-16T08:57:39.271Z"
   },
   {
    "duration": 4,
    "start_time": "2024-08-16T08:57:45.318Z"
   },
   {
    "duration": 102,
    "start_time": "2024-08-16T08:57:45.324Z"
   },
   {
    "duration": 20,
    "start_time": "2024-08-16T08:57:45.428Z"
   },
   {
    "duration": 22,
    "start_time": "2024-08-16T08:57:45.452Z"
   },
   {
    "duration": 19,
    "start_time": "2024-08-16T08:57:45.476Z"
   },
   {
    "duration": 48,
    "start_time": "2024-08-16T08:57:45.496Z"
   },
   {
    "duration": 3,
    "start_time": "2024-08-16T08:57:45.546Z"
   },
   {
    "duration": 13,
    "start_time": "2024-08-16T08:57:45.551Z"
   },
   {
    "duration": 4,
    "start_time": "2024-08-16T08:57:45.565Z"
   },
   {
    "duration": 184,
    "start_time": "2024-08-16T08:57:45.571Z"
   },
   {
    "duration": 170,
    "start_time": "2024-08-16T08:57:45.758Z"
   },
   {
    "duration": 180,
    "start_time": "2024-08-16T08:57:45.929Z"
   },
   {
    "duration": 234,
    "start_time": "2024-08-16T08:57:46.110Z"
   },
   {
    "duration": 160,
    "start_time": "2024-08-16T08:57:46.346Z"
   },
   {
    "duration": 7,
    "start_time": "2024-08-16T08:57:46.508Z"
   },
   {
    "duration": 13,
    "start_time": "2024-08-16T08:57:46.516Z"
   },
   {
    "duration": 34,
    "start_time": "2024-08-16T08:57:46.530Z"
   },
   {
    "duration": 21,
    "start_time": "2024-08-16T08:57:46.566Z"
   },
   {
    "duration": 61,
    "start_time": "2024-08-16T08:57:46.589Z"
   },
   {
    "duration": 16,
    "start_time": "2024-08-16T08:57:46.651Z"
   },
   {
    "duration": 150,
    "start_time": "2024-08-16T08:57:46.669Z"
   },
   {
    "duration": 873,
    "start_time": "2024-08-16T08:57:46.821Z"
   },
   {
    "duration": 7,
    "start_time": "2024-08-16T08:57:47.696Z"
   },
   {
    "duration": 201,
    "start_time": "2024-08-16T08:57:47.705Z"
   },
   {
    "duration": 285,
    "start_time": "2024-08-16T08:57:47.908Z"
   },
   {
    "duration": 90,
    "start_time": "2024-08-16T08:57:48.195Z"
   },
   {
    "duration": 117,
    "start_time": "2024-08-16T08:57:48.287Z"
   },
   {
    "duration": 111,
    "start_time": "2024-08-16T08:57:48.406Z"
   },
   {
    "duration": 116,
    "start_time": "2024-08-16T08:57:48.521Z"
   },
   {
    "duration": 219,
    "start_time": "2024-08-16T08:57:48.639Z"
   },
   {
    "duration": 155,
    "start_time": "2024-08-16T08:57:48.860Z"
   },
   {
    "duration": 274,
    "start_time": "2024-08-16T08:57:49.017Z"
   },
   {
    "duration": 141,
    "start_time": "2024-08-16T08:57:49.293Z"
   },
   {
    "duration": 164,
    "start_time": "2024-08-16T08:57:49.436Z"
   },
   {
    "duration": 127,
    "start_time": "2024-08-16T08:57:49.602Z"
   },
   {
    "duration": 138,
    "start_time": "2024-08-16T08:57:49.731Z"
   },
   {
    "duration": 156,
    "start_time": "2024-08-16T08:57:49.870Z"
   },
   {
    "duration": 122,
    "start_time": "2024-08-16T08:57:50.027Z"
   },
   {
    "duration": 151,
    "start_time": "2024-08-16T08:57:50.150Z"
   },
   {
    "duration": 231,
    "start_time": "2024-08-16T08:57:50.302Z"
   },
   {
    "duration": 123,
    "start_time": "2024-08-16T08:57:50.534Z"
   },
   {
    "duration": 17,
    "start_time": "2024-08-16T08:57:50.658Z"
   },
   {
    "duration": 10,
    "start_time": "2024-08-16T08:57:50.676Z"
   },
   {
    "duration": 19,
    "start_time": "2024-08-16T09:26:33.545Z"
   },
   {
    "duration": 11,
    "start_time": "2024-08-16T09:27:31.328Z"
   },
   {
    "duration": 11,
    "start_time": "2024-08-16T09:28:13.345Z"
   },
   {
    "duration": 8,
    "start_time": "2024-08-16T09:28:30.705Z"
   },
   {
    "duration": 3,
    "start_time": "2024-08-16T09:29:39.810Z"
   },
   {
    "duration": 154,
    "start_time": "2024-08-16T09:29:39.814Z"
   },
   {
    "duration": 20,
    "start_time": "2024-08-16T09:29:39.970Z"
   },
   {
    "duration": 13,
    "start_time": "2024-08-16T09:29:39.992Z"
   },
   {
    "duration": 44,
    "start_time": "2024-08-16T09:29:40.008Z"
   },
   {
    "duration": 15,
    "start_time": "2024-08-16T09:29:40.054Z"
   },
   {
    "duration": 16,
    "start_time": "2024-08-16T09:29:40.071Z"
   },
   {
    "duration": 14,
    "start_time": "2024-08-16T09:29:40.088Z"
   },
   {
    "duration": 4,
    "start_time": "2024-08-16T09:29:40.104Z"
   },
   {
    "duration": 186,
    "start_time": "2024-08-16T09:29:40.109Z"
   },
   {
    "duration": 164,
    "start_time": "2024-08-16T09:29:40.297Z"
   },
   {
    "duration": 163,
    "start_time": "2024-08-16T09:29:40.462Z"
   },
   {
    "duration": 148,
    "start_time": "2024-08-16T09:29:40.626Z"
   },
   {
    "duration": 166,
    "start_time": "2024-08-16T09:29:40.776Z"
   },
   {
    "duration": 10,
    "start_time": "2024-08-16T09:29:40.944Z"
   },
   {
    "duration": 5,
    "start_time": "2024-08-16T09:29:40.955Z"
   },
   {
    "duration": 21,
    "start_time": "2024-08-16T09:29:40.961Z"
   },
   {
    "duration": 20,
    "start_time": "2024-08-16T09:29:40.983Z"
   },
   {
    "duration": 18,
    "start_time": "2024-08-16T09:29:41.005Z"
   },
   {
    "duration": 10,
    "start_time": "2024-08-16T09:29:41.053Z"
   },
   {
    "duration": 0,
    "start_time": "2024-08-16T09:29:41.065Z"
   },
   {
    "duration": 0,
    "start_time": "2024-08-16T09:29:41.067Z"
   },
   {
    "duration": 0,
    "start_time": "2024-08-16T09:29:41.068Z"
   },
   {
    "duration": 0,
    "start_time": "2024-08-16T09:29:41.069Z"
   },
   {
    "duration": 0,
    "start_time": "2024-08-16T09:29:41.070Z"
   },
   {
    "duration": 0,
    "start_time": "2024-08-16T09:29:41.072Z"
   },
   {
    "duration": 0,
    "start_time": "2024-08-16T09:29:41.073Z"
   },
   {
    "duration": 0,
    "start_time": "2024-08-16T09:29:41.074Z"
   },
   {
    "duration": 0,
    "start_time": "2024-08-16T09:29:41.076Z"
   },
   {
    "duration": 0,
    "start_time": "2024-08-16T09:29:41.077Z"
   },
   {
    "duration": 0,
    "start_time": "2024-08-16T09:29:41.078Z"
   },
   {
    "duration": 0,
    "start_time": "2024-08-16T09:29:41.079Z"
   },
   {
    "duration": 0,
    "start_time": "2024-08-16T09:29:41.081Z"
   },
   {
    "duration": 0,
    "start_time": "2024-08-16T09:29:41.082Z"
   },
   {
    "duration": 0,
    "start_time": "2024-08-16T09:29:41.083Z"
   },
   {
    "duration": 0,
    "start_time": "2024-08-16T09:29:41.084Z"
   },
   {
    "duration": 0,
    "start_time": "2024-08-16T09:29:41.086Z"
   },
   {
    "duration": 0,
    "start_time": "2024-08-16T09:29:41.087Z"
   },
   {
    "duration": 0,
    "start_time": "2024-08-16T09:29:41.088Z"
   },
   {
    "duration": 0,
    "start_time": "2024-08-16T09:29:41.089Z"
   },
   {
    "duration": 0,
    "start_time": "2024-08-16T09:29:41.091Z"
   },
   {
    "duration": 0,
    "start_time": "2024-08-16T09:29:41.092Z"
   },
   {
    "duration": 0,
    "start_time": "2024-08-16T09:29:41.093Z"
   },
   {
    "duration": 8,
    "start_time": "2024-08-16T09:30:07.493Z"
   },
   {
    "duration": 8,
    "start_time": "2024-08-16T09:31:47.538Z"
   },
   {
    "duration": 7,
    "start_time": "2024-08-16T09:32:06.523Z"
   },
   {
    "duration": 8,
    "start_time": "2024-08-16T09:32:33.832Z"
   },
   {
    "duration": 3,
    "start_time": "2024-08-16T09:32:37.930Z"
   },
   {
    "duration": 84,
    "start_time": "2024-08-16T09:32:37.934Z"
   },
   {
    "duration": 20,
    "start_time": "2024-08-16T09:32:38.020Z"
   },
   {
    "duration": 18,
    "start_time": "2024-08-16T09:32:38.042Z"
   },
   {
    "duration": 21,
    "start_time": "2024-08-16T09:32:38.062Z"
   },
   {
    "duration": 15,
    "start_time": "2024-08-16T09:32:38.085Z"
   },
   {
    "duration": 3,
    "start_time": "2024-08-16T09:32:38.102Z"
   },
   {
    "duration": 17,
    "start_time": "2024-08-16T09:32:38.106Z"
   },
   {
    "duration": 30,
    "start_time": "2024-08-16T09:32:38.124Z"
   },
   {
    "duration": 197,
    "start_time": "2024-08-16T09:32:38.155Z"
   },
   {
    "duration": 173,
    "start_time": "2024-08-16T09:32:38.354Z"
   },
   {
    "duration": 263,
    "start_time": "2024-08-16T09:32:38.528Z"
   },
   {
    "duration": 154,
    "start_time": "2024-08-16T09:32:38.793Z"
   },
   {
    "duration": 173,
    "start_time": "2024-08-16T09:32:38.951Z"
   },
   {
    "duration": 7,
    "start_time": "2024-08-16T09:32:39.125Z"
   },
   {
    "duration": 5,
    "start_time": "2024-08-16T09:32:39.134Z"
   },
   {
    "duration": 21,
    "start_time": "2024-08-16T09:32:39.151Z"
   },
   {
    "duration": 20,
    "start_time": "2024-08-16T09:32:39.173Z"
   },
   {
    "duration": 27,
    "start_time": "2024-08-16T09:32:39.194Z"
   },
   {
    "duration": 34,
    "start_time": "2024-08-16T09:32:39.222Z"
   },
   {
    "duration": 16,
    "start_time": "2024-08-16T09:32:59.353Z"
   },
   {
    "duration": 2,
    "start_time": "2024-08-16T09:33:09.352Z"
   },
   {
    "duration": 82,
    "start_time": "2024-08-16T09:33:09.356Z"
   },
   {
    "duration": 20,
    "start_time": "2024-08-16T09:33:09.439Z"
   },
   {
    "duration": 12,
    "start_time": "2024-08-16T09:33:09.460Z"
   },
   {
    "duration": 24,
    "start_time": "2024-08-16T09:33:09.474Z"
   },
   {
    "duration": 14,
    "start_time": "2024-08-16T09:33:09.499Z"
   },
   {
    "duration": 4,
    "start_time": "2024-08-16T09:33:09.514Z"
   },
   {
    "duration": 38,
    "start_time": "2024-08-16T09:33:09.519Z"
   },
   {
    "duration": 5,
    "start_time": "2024-08-16T09:33:09.558Z"
   },
   {
    "duration": 188,
    "start_time": "2024-08-16T09:33:09.564Z"
   },
   {
    "duration": 167,
    "start_time": "2024-08-16T09:33:09.754Z"
   },
   {
    "duration": 172,
    "start_time": "2024-08-16T09:33:09.922Z"
   },
   {
    "duration": 151,
    "start_time": "2024-08-16T09:33:10.096Z"
   },
   {
    "duration": 164,
    "start_time": "2024-08-16T09:33:10.251Z"
   },
   {
    "duration": 7,
    "start_time": "2024-08-16T09:33:10.416Z"
   },
   {
    "duration": 4,
    "start_time": "2024-08-16T09:33:10.424Z"
   },
   {
    "duration": 31,
    "start_time": "2024-08-16T09:33:10.429Z"
   },
   {
    "duration": 19,
    "start_time": "2024-08-16T09:33:10.461Z"
   },
   {
    "duration": 17,
    "start_time": "2024-08-16T09:33:10.482Z"
   },
   {
    "duration": 16,
    "start_time": "2024-08-16T09:33:16.085Z"
   },
   {
    "duration": 49,
    "start_time": "2024-08-16T14:46:34.927Z"
   },
   {
    "duration": 1325,
    "start_time": "2024-08-16T14:46:39.107Z"
   },
   {
    "duration": 271,
    "start_time": "2024-08-16T14:46:40.434Z"
   },
   {
    "duration": 22,
    "start_time": "2024-08-16T14:46:40.707Z"
   },
   {
    "duration": 19,
    "start_time": "2024-08-16T14:46:40.731Z"
   },
   {
    "duration": 42,
    "start_time": "2024-08-16T14:46:40.752Z"
   },
   {
    "duration": 30,
    "start_time": "2024-08-16T14:46:40.796Z"
   },
   {
    "duration": 4,
    "start_time": "2024-08-16T14:46:40.828Z"
   },
   {
    "duration": 21,
    "start_time": "2024-08-16T14:46:40.833Z"
   },
   {
    "duration": 5,
    "start_time": "2024-08-16T14:46:40.855Z"
   },
   {
    "duration": 225,
    "start_time": "2024-08-16T14:46:40.864Z"
   },
   {
    "duration": 194,
    "start_time": "2024-08-16T14:46:41.091Z"
   },
   {
    "duration": 195,
    "start_time": "2024-08-16T14:46:41.287Z"
   },
   {
    "duration": 176,
    "start_time": "2024-08-16T14:46:41.485Z"
   },
   {
    "duration": 205,
    "start_time": "2024-08-16T14:46:41.663Z"
   },
   {
    "duration": 18,
    "start_time": "2024-08-16T14:46:41.869Z"
   },
   {
    "duration": 5,
    "start_time": "2024-08-16T14:46:41.888Z"
   },
   {
    "duration": 29,
    "start_time": "2024-08-16T14:46:41.894Z"
   },
   {
    "duration": 26,
    "start_time": "2024-08-16T14:46:41.924Z"
   },
   {
    "duration": 45,
    "start_time": "2024-08-16T14:46:41.952Z"
   },
   {
    "duration": 19,
    "start_time": "2024-08-16T14:46:41.999Z"
   },
   {
    "duration": 183,
    "start_time": "2024-08-16T14:46:42.020Z"
   },
   {
    "duration": 988,
    "start_time": "2024-08-16T14:46:42.205Z"
   },
   {
    "duration": 25,
    "start_time": "2024-08-16T14:46:43.196Z"
   },
   {
    "duration": 25,
    "start_time": "2024-08-16T14:46:52.460Z"
   },
   {
    "duration": 7,
    "start_time": "2024-08-16T14:46:57.450Z"
   },
   {
    "duration": 9,
    "start_time": "2024-08-16T14:49:27.708Z"
   },
   {
    "duration": 17,
    "start_time": "2024-08-16T14:50:29.589Z"
   },
   {
    "duration": 245,
    "start_time": "2024-08-16T14:50:51.210Z"
   },
   {
    "duration": 306,
    "start_time": "2024-08-16T14:53:44.661Z"
   },
   {
    "duration": 102,
    "start_time": "2024-08-16T15:13:33.131Z"
   },
   {
    "duration": 129,
    "start_time": "2024-08-16T16:31:17.374Z"
   },
   {
    "duration": 119,
    "start_time": "2024-08-16T16:32:37.769Z"
   },
   {
    "duration": 49,
    "start_time": "2024-08-16T18:53:33.681Z"
   },
   {
    "duration": 1386,
    "start_time": "2024-08-16T18:53:46.568Z"
   },
   {
    "duration": 246,
    "start_time": "2024-08-16T18:53:47.956Z"
   },
   {
    "duration": 22,
    "start_time": "2024-08-16T18:53:48.203Z"
   },
   {
    "duration": 15,
    "start_time": "2024-08-16T18:53:48.226Z"
   },
   {
    "duration": 42,
    "start_time": "2024-08-16T18:53:48.243Z"
   },
   {
    "duration": 17,
    "start_time": "2024-08-16T18:53:48.286Z"
   },
   {
    "duration": 4,
    "start_time": "2024-08-16T18:53:48.304Z"
   },
   {
    "duration": 15,
    "start_time": "2024-08-16T18:53:48.309Z"
   },
   {
    "duration": 5,
    "start_time": "2024-08-16T18:53:48.326Z"
   },
   {
    "duration": 254,
    "start_time": "2024-08-16T18:53:48.332Z"
   },
   {
    "duration": 185,
    "start_time": "2024-08-16T18:53:48.587Z"
   },
   {
    "duration": 193,
    "start_time": "2024-08-16T18:53:48.774Z"
   },
   {
    "duration": 169,
    "start_time": "2024-08-16T18:53:48.969Z"
   },
   {
    "duration": 208,
    "start_time": "2024-08-16T18:53:49.141Z"
   },
   {
    "duration": 9,
    "start_time": "2024-08-16T18:53:49.350Z"
   },
   {
    "duration": 23,
    "start_time": "2024-08-16T18:53:49.361Z"
   },
   {
    "duration": 24,
    "start_time": "2024-08-16T18:53:49.386Z"
   },
   {
    "duration": 23,
    "start_time": "2024-08-16T18:53:49.412Z"
   },
   {
    "duration": 48,
    "start_time": "2024-08-16T18:53:49.437Z"
   },
   {
    "duration": 19,
    "start_time": "2024-08-16T18:53:49.487Z"
   },
   {
    "duration": 173,
    "start_time": "2024-08-16T18:53:49.508Z"
   },
   {
    "duration": 954,
    "start_time": "2024-08-16T18:53:49.683Z"
   },
   {
    "duration": 77,
    "start_time": "2024-08-16T18:53:50.638Z"
   },
   {
    "duration": 0,
    "start_time": "2024-08-16T18:53:50.717Z"
   },
   {
    "duration": 0,
    "start_time": "2024-08-16T18:53:50.718Z"
   },
   {
    "duration": 0,
    "start_time": "2024-08-16T18:53:50.720Z"
   },
   {
    "duration": 11,
    "start_time": "2024-08-16T18:53:59.865Z"
   },
   {
    "duration": 9,
    "start_time": "2024-08-16T18:54:47.298Z"
   },
   {
    "duration": 7,
    "start_time": "2024-08-16T18:56:05.589Z"
   },
   {
    "duration": 17,
    "start_time": "2024-08-16T18:56:11.630Z"
   },
   {
    "duration": 21,
    "start_time": "2024-08-16T18:56:14.799Z"
   },
   {
    "duration": 222,
    "start_time": "2024-08-16T18:56:45.204Z"
   },
   {
    "duration": 3,
    "start_time": "2024-08-16T18:56:57.317Z"
   },
   {
    "duration": 160,
    "start_time": "2024-08-16T18:56:57.322Z"
   },
   {
    "duration": 24,
    "start_time": "2024-08-16T18:56:57.485Z"
   },
   {
    "duration": 51,
    "start_time": "2024-08-16T18:56:57.511Z"
   },
   {
    "duration": 175,
    "start_time": "2024-08-16T18:56:57.564Z"
   },
   {
    "duration": 16,
    "start_time": "2024-08-16T18:56:57.740Z"
   },
   {
    "duration": 21,
    "start_time": "2024-08-16T18:56:57.758Z"
   },
   {
    "duration": 33,
    "start_time": "2024-08-16T18:56:57.781Z"
   },
   {
    "duration": 5,
    "start_time": "2024-08-16T18:56:57.815Z"
   },
   {
    "duration": 220,
    "start_time": "2024-08-16T18:56:57.822Z"
   },
   {
    "duration": 185,
    "start_time": "2024-08-16T18:56:58.046Z"
   },
   {
    "duration": 210,
    "start_time": "2024-08-16T18:56:58.233Z"
   },
   {
    "duration": 167,
    "start_time": "2024-08-16T18:56:58.445Z"
   },
   {
    "duration": 189,
    "start_time": "2024-08-16T18:56:58.614Z"
   },
   {
    "duration": 7,
    "start_time": "2024-08-16T18:56:58.805Z"
   },
   {
    "duration": 12,
    "start_time": "2024-08-16T18:56:58.813Z"
   },
   {
    "duration": 47,
    "start_time": "2024-08-16T18:56:58.826Z"
   },
   {
    "duration": 29,
    "start_time": "2024-08-16T18:56:58.875Z"
   },
   {
    "duration": 20,
    "start_time": "2024-08-16T18:56:58.906Z"
   },
   {
    "duration": 28,
    "start_time": "2024-08-16T18:56:58.928Z"
   },
   {
    "duration": 158,
    "start_time": "2024-08-16T18:56:58.957Z"
   },
   {
    "duration": 940,
    "start_time": "2024-08-16T18:56:59.117Z"
   },
   {
    "duration": 5,
    "start_time": "2024-08-16T18:57:00.059Z"
   },
   {
    "duration": 107,
    "start_time": "2024-08-16T18:57:00.066Z"
   },
   {
    "duration": 138,
    "start_time": "2024-08-16T18:57:00.174Z"
   },
   {
    "duration": 0,
    "start_time": "2024-08-16T18:57:00.314Z"
   },
   {
    "duration": 0,
    "start_time": "2024-08-16T18:57:00.315Z"
   },
   {
    "duration": 0,
    "start_time": "2024-08-16T18:57:00.316Z"
   },
   {
    "duration": 0,
    "start_time": "2024-08-16T18:57:00.317Z"
   },
   {
    "duration": 0,
    "start_time": "2024-08-16T18:57:00.318Z"
   },
   {
    "duration": 0,
    "start_time": "2024-08-16T18:57:00.319Z"
   },
   {
    "duration": 0,
    "start_time": "2024-08-16T18:57:00.320Z"
   },
   {
    "duration": 0,
    "start_time": "2024-08-16T18:57:00.321Z"
   },
   {
    "duration": 0,
    "start_time": "2024-08-16T18:57:00.322Z"
   },
   {
    "duration": 0,
    "start_time": "2024-08-16T18:57:00.323Z"
   },
   {
    "duration": 0,
    "start_time": "2024-08-16T18:57:00.324Z"
   },
   {
    "duration": 0,
    "start_time": "2024-08-16T18:57:00.325Z"
   },
   {
    "duration": 0,
    "start_time": "2024-08-16T18:57:00.326Z"
   },
   {
    "duration": 0,
    "start_time": "2024-08-16T18:57:00.327Z"
   },
   {
    "duration": 0,
    "start_time": "2024-08-16T18:57:00.328Z"
   },
   {
    "duration": 0,
    "start_time": "2024-08-16T18:57:00.329Z"
   },
   {
    "duration": 0,
    "start_time": "2024-08-16T18:57:00.330Z"
   },
   {
    "duration": 0,
    "start_time": "2024-08-16T18:57:00.331Z"
   },
   {
    "duration": 218,
    "start_time": "2024-08-16T18:57:15.703Z"
   },
   {
    "duration": 117,
    "start_time": "2024-08-16T18:57:29.007Z"
   },
   {
    "duration": 150,
    "start_time": "2024-08-16T18:57:32.336Z"
   },
   {
    "duration": 214,
    "start_time": "2024-08-16T19:02:57.039Z"
   },
   {
    "duration": 148,
    "start_time": "2024-08-16T19:04:48.366Z"
   },
   {
    "duration": 154,
    "start_time": "2024-08-16T19:05:47.060Z"
   },
   {
    "duration": 149,
    "start_time": "2024-08-16T19:08:50.978Z"
   },
   {
    "duration": 149,
    "start_time": "2024-08-16T19:09:17.856Z"
   },
   {
    "duration": 161,
    "start_time": "2024-08-16T19:09:26.162Z"
   },
   {
    "duration": 179,
    "start_time": "2024-08-16T19:10:09.027Z"
   },
   {
    "duration": 154,
    "start_time": "2024-08-16T19:10:14.165Z"
   },
   {
    "duration": 186,
    "start_time": "2024-08-16T19:10:28.398Z"
   },
   {
    "duration": 179,
    "start_time": "2024-08-16T19:10:36.280Z"
   },
   {
    "duration": 165,
    "start_time": "2024-08-16T19:10:45.841Z"
   },
   {
    "duration": 269,
    "start_time": "2024-08-16T19:10:57.515Z"
   },
   {
    "duration": 174,
    "start_time": "2024-08-16T19:11:02.225Z"
   },
   {
    "duration": 164,
    "start_time": "2024-08-16T19:11:07.268Z"
   },
   {
    "duration": 169,
    "start_time": "2024-08-16T19:11:17.674Z"
   },
   {
    "duration": 118,
    "start_time": "2024-08-16T19:11:33.579Z"
   },
   {
    "duration": 161,
    "start_time": "2024-08-16T19:12:46.152Z"
   },
   {
    "duration": 316,
    "start_time": "2024-08-16T19:16:16.894Z"
   },
   {
    "duration": 319,
    "start_time": "2024-08-16T19:16:49.473Z"
   },
   {
    "duration": 438,
    "start_time": "2024-08-16T19:17:05.652Z"
   },
   {
    "duration": 334,
    "start_time": "2024-08-16T19:19:17.883Z"
   },
   {
    "duration": 13,
    "start_time": "2024-08-16T19:20:00.225Z"
   },
   {
    "duration": 294,
    "start_time": "2024-08-16T19:20:09.677Z"
   },
   {
    "duration": 171,
    "start_time": "2024-08-16T19:20:50.379Z"
   },
   {
    "duration": 153,
    "start_time": "2024-08-16T19:20:54.643Z"
   },
   {
    "duration": 168,
    "start_time": "2024-08-16T19:21:03.632Z"
   },
   {
    "duration": 163,
    "start_time": "2024-08-16T19:21:07.667Z"
   },
   {
    "duration": 10,
    "start_time": "2024-08-16T19:21:57.134Z"
   },
   {
    "duration": 19,
    "start_time": "2024-08-16T19:22:08.121Z"
   },
   {
    "duration": 50,
    "start_time": "2024-08-16T21:25:39.903Z"
   },
   {
    "duration": 1386,
    "start_time": "2024-08-16T21:25:48.359Z"
   },
   {
    "duration": 265,
    "start_time": "2024-08-16T21:25:49.747Z"
   },
   {
    "duration": 33,
    "start_time": "2024-08-16T21:25:50.014Z"
   },
   {
    "duration": 37,
    "start_time": "2024-08-16T21:25:50.048Z"
   },
   {
    "duration": 56,
    "start_time": "2024-08-16T21:25:50.086Z"
   },
   {
    "duration": 16,
    "start_time": "2024-08-16T21:25:50.144Z"
   },
   {
    "duration": 5,
    "start_time": "2024-08-16T21:25:50.161Z"
   },
   {
    "duration": 26,
    "start_time": "2024-08-16T21:25:50.168Z"
   },
   {
    "duration": 11,
    "start_time": "2024-08-16T21:25:50.196Z"
   },
   {
    "duration": 245,
    "start_time": "2024-08-16T21:25:50.209Z"
   },
   {
    "duration": 198,
    "start_time": "2024-08-16T21:25:50.456Z"
   },
   {
    "duration": 196,
    "start_time": "2024-08-16T21:25:50.655Z"
   },
   {
    "duration": 169,
    "start_time": "2024-08-16T21:25:50.853Z"
   },
   {
    "duration": 202,
    "start_time": "2024-08-16T21:25:51.025Z"
   },
   {
    "duration": 10,
    "start_time": "2024-08-16T21:25:51.230Z"
   },
   {
    "duration": 6,
    "start_time": "2024-08-16T21:25:51.242Z"
   },
   {
    "duration": 46,
    "start_time": "2024-08-16T21:25:51.251Z"
   },
   {
    "duration": 24,
    "start_time": "2024-08-16T21:25:51.299Z"
   },
   {
    "duration": 24,
    "start_time": "2024-08-16T21:25:51.324Z"
   },
   {
    "duration": 20,
    "start_time": "2024-08-16T21:25:51.350Z"
   },
   {
    "duration": 190,
    "start_time": "2024-08-16T21:25:51.372Z"
   },
   {
    "duration": 1012,
    "start_time": "2024-08-16T21:25:51.564Z"
   },
   {
    "duration": 6,
    "start_time": "2024-08-16T21:25:52.577Z"
   },
   {
    "duration": 20,
    "start_time": "2024-08-16T21:25:52.595Z"
   },
   {
    "duration": 241,
    "start_time": "2024-08-16T21:25:52.616Z"
   },
   {
    "duration": 214,
    "start_time": "2024-08-16T21:25:52.859Z"
   },
   {
    "duration": 182,
    "start_time": "2024-08-16T21:25:53.075Z"
   },
   {
    "duration": 102,
    "start_time": "2024-08-16T21:25:53.261Z"
   },
   {
    "duration": 157,
    "start_time": "2024-08-16T21:26:07.131Z"
   },
   {
    "duration": 743,
    "start_time": "2024-08-16T21:26:22.259Z"
   },
   {
    "duration": 716,
    "start_time": "2024-08-16T21:27:31.390Z"
   },
   {
    "duration": 783,
    "start_time": "2024-08-16T21:27:57.063Z"
   },
   {
    "duration": 813,
    "start_time": "2024-08-16T21:28:18.511Z"
   },
   {
    "duration": 1006,
    "start_time": "2024-08-16T21:28:24.990Z"
   },
   {
    "duration": 848,
    "start_time": "2024-08-16T21:29:20.337Z"
   },
   {
    "duration": 165,
    "start_time": "2024-08-16T21:30:02.561Z"
   },
   {
    "duration": 805,
    "start_time": "2024-08-16T21:30:37.825Z"
   },
   {
    "duration": 163,
    "start_time": "2024-08-16T21:31:05.552Z"
   },
   {
    "duration": 253,
    "start_time": "2024-08-16T21:31:10.076Z"
   },
   {
    "duration": 159,
    "start_time": "2024-08-16T21:37:28.139Z"
   },
   {
    "duration": 158,
    "start_time": "2024-08-16T21:37:41.976Z"
   },
   {
    "duration": 10,
    "start_time": "2024-08-16T21:37:49.179Z"
   },
   {
    "duration": 20,
    "start_time": "2024-08-16T21:37:53.696Z"
   },
   {
    "duration": 14,
    "start_time": "2024-08-16T21:37:57.608Z"
   },
   {
    "duration": 1116,
    "start_time": "2024-08-17T05:54:43.178Z"
   },
   {
    "duration": 252,
    "start_time": "2024-08-17T05:54:44.296Z"
   },
   {
    "duration": 19,
    "start_time": "2024-08-17T05:54:44.550Z"
   },
   {
    "duration": 13,
    "start_time": "2024-08-17T05:54:44.570Z"
   },
   {
    "duration": 19,
    "start_time": "2024-08-17T05:54:44.585Z"
   },
   {
    "duration": 12,
    "start_time": "2024-08-17T05:54:44.606Z"
   },
   {
    "duration": 4,
    "start_time": "2024-08-17T05:54:44.619Z"
   },
   {
    "duration": 18,
    "start_time": "2024-08-17T05:54:44.624Z"
   },
   {
    "duration": 4,
    "start_time": "2024-08-17T05:54:44.644Z"
   },
   {
    "duration": 201,
    "start_time": "2024-08-17T05:54:44.649Z"
   },
   {
    "duration": 165,
    "start_time": "2024-08-17T05:54:44.851Z"
   },
   {
    "duration": 170,
    "start_time": "2024-08-17T05:54:45.017Z"
   },
   {
    "duration": 159,
    "start_time": "2024-08-17T05:54:45.188Z"
   },
   {
    "duration": 188,
    "start_time": "2024-08-17T05:54:45.351Z"
   },
   {
    "duration": 8,
    "start_time": "2024-08-17T05:54:45.541Z"
   },
   {
    "duration": 17,
    "start_time": "2024-08-17T05:54:45.550Z"
   },
   {
    "duration": 41,
    "start_time": "2024-08-17T05:54:45.569Z"
   },
   {
    "duration": 40,
    "start_time": "2024-08-17T05:54:45.611Z"
   },
   {
    "duration": 20,
    "start_time": "2024-08-17T05:54:45.652Z"
   },
   {
    "duration": 16,
    "start_time": "2024-08-17T05:54:45.674Z"
   },
   {
    "duration": 142,
    "start_time": "2024-08-17T05:54:45.692Z"
   },
   {
    "duration": 871,
    "start_time": "2024-08-17T05:54:45.836Z"
   },
   {
    "duration": 5,
    "start_time": "2024-08-17T05:54:46.709Z"
   },
   {
    "duration": 20,
    "start_time": "2024-08-17T05:54:46.715Z"
   },
   {
    "duration": 221,
    "start_time": "2024-08-17T05:54:46.738Z"
   },
   {
    "duration": 181,
    "start_time": "2024-08-17T05:54:46.960Z"
   },
   {
    "duration": 158,
    "start_time": "2024-08-17T05:54:47.143Z"
   },
   {
    "duration": 737,
    "start_time": "2024-08-17T05:54:47.302Z"
   },
   {
    "duration": 292,
    "start_time": "2024-08-17T05:54:48.040Z"
   },
   {
    "duration": 149,
    "start_time": "2024-08-17T05:54:48.333Z"
   },
   {
    "duration": 159,
    "start_time": "2024-08-17T05:54:48.483Z"
   },
   {
    "duration": 205,
    "start_time": "2024-08-17T05:54:48.643Z"
   },
   {
    "duration": 145,
    "start_time": "2024-08-17T05:54:48.849Z"
   },
   {
    "duration": 156,
    "start_time": "2024-08-17T05:54:48.996Z"
   },
   {
    "duration": 130,
    "start_time": "2024-08-17T05:54:49.154Z"
   },
   {
    "duration": 150,
    "start_time": "2024-08-17T05:54:49.286Z"
   },
   {
    "duration": 157,
    "start_time": "2024-08-17T05:54:49.438Z"
   },
   {
    "duration": 123,
    "start_time": "2024-08-17T05:54:49.596Z"
   },
   {
    "duration": 19,
    "start_time": "2024-08-17T05:54:49.721Z"
   },
   {
    "duration": 12,
    "start_time": "2024-08-17T05:54:49.741Z"
   },
   {
    "duration": 233,
    "start_time": "2024-08-17T05:59:08.900Z"
   },
   {
    "duration": 48,
    "start_time": "2025-08-27T00:04:00.397Z"
   },
   {
    "duration": 1369,
    "start_time": "2025-08-27T00:04:05.207Z"
   },
   {
    "duration": 82,
    "start_time": "2025-08-27T00:04:06.578Z"
   },
   {
    "duration": 24,
    "start_time": "2025-08-27T00:04:06.663Z"
   },
   {
    "duration": 15,
    "start_time": "2025-08-27T00:04:06.689Z"
   },
   {
    "duration": 22,
    "start_time": "2025-08-27T00:04:06.734Z"
   },
   {
    "duration": 15,
    "start_time": "2025-08-27T00:04:06.758Z"
   },
   {
    "duration": 4,
    "start_time": "2025-08-27T00:04:06.775Z"
   },
   {
    "duration": 18,
    "start_time": "2025-08-27T00:04:06.780Z"
   },
   {
    "duration": 34,
    "start_time": "2025-08-27T00:04:06.800Z"
   },
   {
    "duration": 213,
    "start_time": "2025-08-27T00:04:06.836Z"
   },
   {
    "duration": 191,
    "start_time": "2025-08-27T00:04:07.051Z"
   },
   {
    "duration": 194,
    "start_time": "2025-08-27T00:04:07.243Z"
   },
   {
    "duration": 169,
    "start_time": "2025-08-27T00:04:07.439Z"
   },
   {
    "duration": 182,
    "start_time": "2025-08-27T00:04:07.611Z"
   },
   {
    "duration": 8,
    "start_time": "2025-08-27T00:04:07.795Z"
   },
   {
    "duration": 24,
    "start_time": "2025-08-27T00:04:07.804Z"
   },
   {
    "duration": 25,
    "start_time": "2025-08-27T00:04:07.830Z"
   },
   {
    "duration": 22,
    "start_time": "2025-08-27T00:04:07.857Z"
   },
   {
    "duration": 78,
    "start_time": "2025-08-27T00:04:07.881Z"
   },
   {
    "duration": 19,
    "start_time": "2025-08-27T00:04:07.961Z"
   },
   {
    "duration": 164,
    "start_time": "2025-08-27T00:04:07.982Z"
   },
   {
    "duration": 931,
    "start_time": "2025-08-27T00:04:08.147Z"
   },
   {
    "duration": 7,
    "start_time": "2025-08-27T00:04:09.080Z"
   },
   {
    "duration": 27,
    "start_time": "2025-08-27T00:04:09.088Z"
   },
   {
    "duration": 240,
    "start_time": "2025-08-27T00:04:09.116Z"
   },
   {
    "duration": 213,
    "start_time": "2025-08-27T00:04:09.358Z"
   },
   {
    "duration": 179,
    "start_time": "2025-08-27T00:04:09.572Z"
   },
   {
    "duration": 271,
    "start_time": "2025-08-27T00:04:09.753Z"
   },
   {
    "duration": 765,
    "start_time": "2025-08-27T00:04:10.034Z"
   },
   {
    "duration": 305,
    "start_time": "2025-08-27T00:04:10.800Z"
   },
   {
    "duration": 258,
    "start_time": "2025-08-27T00:04:11.107Z"
   },
   {
    "duration": 180,
    "start_time": "2025-08-27T00:04:11.367Z"
   },
   {
    "duration": 140,
    "start_time": "2025-08-27T00:04:11.548Z"
   },
   {
    "duration": 153,
    "start_time": "2025-08-27T00:04:11.690Z"
   },
   {
    "duration": 177,
    "start_time": "2025-08-27T00:04:11.845Z"
   },
   {
    "duration": 141,
    "start_time": "2025-08-27T00:04:12.023Z"
   },
   {
    "duration": 171,
    "start_time": "2025-08-27T00:04:12.166Z"
   },
   {
    "duration": 176,
    "start_time": "2025-08-27T00:04:12.339Z"
   },
   {
    "duration": 148,
    "start_time": "2025-08-27T00:04:12.517Z"
   },
   {
    "duration": 22,
    "start_time": "2025-08-27T00:04:12.666Z"
   },
   {
    "duration": 14,
    "start_time": "2025-08-27T00:04:12.691Z"
   },
   {
    "duration": 293,
    "start_time": "2025-08-27T00:05:50.816Z"
   },
   {
    "duration": 4,
    "start_time": "2025-08-27T00:15:59.107Z"
   },
   {
    "duration": 82,
    "start_time": "2025-08-27T00:15:59.113Z"
   },
   {
    "duration": 39,
    "start_time": "2025-08-27T00:15:59.197Z"
   },
   {
    "duration": 27,
    "start_time": "2025-08-27T00:15:59.238Z"
   },
   {
    "duration": 139,
    "start_time": "2025-08-27T00:15:59.268Z"
   },
   {
    "duration": 16,
    "start_time": "2025-08-27T00:15:59.409Z"
   },
   {
    "duration": 4,
    "start_time": "2025-08-27T00:15:59.434Z"
   },
   {
    "duration": 51,
    "start_time": "2025-08-27T00:15:59.440Z"
   },
   {
    "duration": 9,
    "start_time": "2025-08-27T00:15:59.492Z"
   },
   {
    "duration": 245,
    "start_time": "2025-08-27T00:15:59.503Z"
   },
   {
    "duration": 186,
    "start_time": "2025-08-27T00:15:59.751Z"
   },
   {
    "duration": 185,
    "start_time": "2025-08-27T00:15:59.939Z"
   },
   {
    "duration": 166,
    "start_time": "2025-08-27T00:16:00.134Z"
   },
   {
    "duration": 192,
    "start_time": "2025-08-27T00:16:00.302Z"
   },
   {
    "duration": 10,
    "start_time": "2025-08-27T00:16:00.495Z"
   },
   {
    "duration": 96,
    "start_time": "2025-08-27T00:16:00.506Z"
   },
   {
    "duration": 117,
    "start_time": "2025-08-27T00:16:00.604Z"
   },
   {
    "duration": 84,
    "start_time": "2025-08-27T00:16:00.723Z"
   },
   {
    "duration": 84,
    "start_time": "2025-08-27T00:16:00.809Z"
   },
   {
    "duration": 18,
    "start_time": "2025-08-27T00:16:00.895Z"
   },
   {
    "duration": 164,
    "start_time": "2025-08-27T00:16:00.914Z"
   },
   {
    "duration": 961,
    "start_time": "2025-08-27T00:16:01.079Z"
   },
   {
    "duration": 6,
    "start_time": "2025-08-27T00:16:02.042Z"
   },
   {
    "duration": 50,
    "start_time": "2025-08-27T00:16:02.050Z"
   },
   {
    "duration": 241,
    "start_time": "2025-08-27T00:16:02.102Z"
   },
   {
    "duration": 122,
    "start_time": "2025-08-27T00:16:02.345Z"
   },
   {
    "duration": 184,
    "start_time": "2025-08-27T00:16:02.469Z"
   },
   {
    "duration": 372,
    "start_time": "2025-08-27T00:16:02.655Z"
   },
   {
    "duration": 792,
    "start_time": "2025-08-27T00:16:03.034Z"
   },
   {
    "duration": 300,
    "start_time": "2025-08-27T00:16:03.834Z"
   },
   {
    "duration": 161,
    "start_time": "2025-08-27T00:16:04.135Z"
   },
   {
    "duration": 179,
    "start_time": "2025-08-27T00:16:04.298Z"
   },
   {
    "duration": 235,
    "start_time": "2025-08-27T00:16:04.478Z"
   },
   {
    "duration": 165,
    "start_time": "2025-08-27T00:16:04.715Z"
   },
   {
    "duration": 179,
    "start_time": "2025-08-27T00:16:04.882Z"
   },
   {
    "duration": 161,
    "start_time": "2025-08-27T00:16:05.063Z"
   },
   {
    "duration": 173,
    "start_time": "2025-08-27T00:16:05.226Z"
   },
   {
    "duration": 181,
    "start_time": "2025-08-27T00:16:05.401Z"
   },
   {
    "duration": 146,
    "start_time": "2025-08-27T00:16:05.584Z"
   },
   {
    "duration": 22,
    "start_time": "2025-08-27T00:16:05.732Z"
   },
   {
    "duration": 19,
    "start_time": "2025-08-27T00:16:05.756Z"
   }
  ],
  "kernelspec": {
   "display_name": "Python 3 (ipykernel)",
   "language": "python",
   "name": "python3"
  },
  "language_info": {
   "codemirror_mode": {
    "name": "ipython",
    "version": 3
   },
   "file_extension": ".py",
   "mimetype": "text/x-python",
   "name": "python",
   "nbconvert_exporter": "python",
   "pygments_lexer": "ipython3",
   "version": "3.9.5"
  },
  "toc": {
   "base_numbering": 1,
   "nav_menu": {},
   "number_sections": true,
   "sideBar": true,
   "skip_h1_title": true,
   "title_cell": "Table of Contents",
   "title_sidebar": "Contents",
   "toc_cell": false,
   "toc_position": {},
   "toc_section_display": true,
   "toc_window_display": false
  }
 },
 "nbformat": 4,
 "nbformat_minor": 2
}
