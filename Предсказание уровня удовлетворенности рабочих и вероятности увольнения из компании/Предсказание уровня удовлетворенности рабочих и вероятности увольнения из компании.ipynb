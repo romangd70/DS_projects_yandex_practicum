{
 "cells": [
  {
   "cell_type": "markdown",
   "id": "ff4478d9",
   "metadata": {},
   "source": [
    "# Предсказание уровня удовлетворенности рабочих и вероятности увольнения из компании\n",
    "\n",
    "Описание проекта: HR-аналитики компании «Работа с заботой» помогают бизнесу оптимизировать управление персоналом. Необходимо на основе имеющихся данных предсказать уровень удовлетворенности рабочих и вероятность их увольнения.\n",
    "    \n",
    "Цель исследования: построить две модели: для предсказания удовлетворенности и для предсказания увольнения\n",
    "    \n",
    "Ход исследования:\n",
    "\n",
    "    Задача 1:\n",
    "    \n",
    "    Загрузка данных: загрузка и изучение общей информации из предоставленных датасетов\n",
    "    \n",
    "    Предобработка данных: обработка пропущенных значений, удаление дубликатов и т.д.\n",
    "    \n",
    "    Исследовательский анализ данных: статистический анализ всех признаков\n",
    "    \n",
    "    Корреляционный анализ данных: расчет коэффициентов корреляции для всех признаков\n",
    "    \n",
    "    Подготовка данных: выполнить кодировку данных с помощью пайплайна\n",
    "    \n",
    "    Обучение моделей: обучение двух моделей и выбор лучшей из них по метрике SMOTE\n",
    "    \n",
    "    Выводы\n",
    "    \n",
    "    Задача 2:\n",
    "    \n",
    "    Загрузка данных: загрузка и изучение общей информации из предоставленных датасетов\n",
    "    \n",
    "    Предобработка данных: обработка пропущенных значений, удаление дубликатов и т.д.\n",
    "    \n",
    "    Исследовательский анализ данных: составление портрета \"уволившегося сотрудника\"\n",
    "    \n",
    "    Корреляционный анализ данных: расчет коэффициентов корреляции для всех признаков\n",
    "    \n",
    "    Добавление нового входного признака: добавление признака удовлетворенности в датасет\n",
    "    \n",
    "    Обучение моделей: обучение двух моделей и выбор лучшей из них по метрике ROC-AUC\n",
    "    \n",
    "    Выводы\n",
    "    \n",
    "    \n",
    "Общий вывод: резюмирование полученных результатов, формулировка ключевых выводов и рекомендаций."
   ]
  },
  {
   "cell_type": "markdown",
   "id": "d463f3fe",
   "metadata": {},
   "source": [
    "# Задача 1"
   ]
  },
  {
   "cell_type": "markdown",
   "id": "7299219e",
   "metadata": {},
   "source": [
    "## Загрузка данных"
   ]
  },
  {
   "cell_type": "code",
   "execution_count": 45,
   "id": "a3844996",
   "metadata": {},
   "outputs": [],
   "source": [
    "import pandas as pd\n",
    "import numpy as np\n",
    "import seaborn as sns\n",
    "import sys\n",
    "import matplotlib.pyplot as plt\n",
    "!\"{sys.executable}\" -m pip install phik -q\n",
    "import phik\n",
    "!pip install eli5 -q\n",
    "!pip install -U scikit-learn -q\n",
    "from sklearn.model_selection import train_test_split\n",
    "from sklearn.pipeline import Pipeline\n",
    "from sklearn.preprocessing import(\n",
    "    OneHotEncoder, \n",
    "    OrdinalEncoder, \n",
    "    StandardScaler, \n",
    "    MinMaxScaler,\n",
    "    LabelEncoder\n",
    ")\n",
    "from sklearn.compose import ColumnTransformer\n",
    "from sklearn.impute import SimpleImputer\n",
    "from sklearn.metrics import(\n",
    "    roc_auc_score,\n",
    "    make_scorer\n",
    ")\n",
    "from sklearn.linear_model import(\n",
    "    LinearRegression,\n",
    "    LogisticRegression\n",
    ")\n",
    "from sklearn.tree import(\n",
    "    DecisionTreeRegressor,\n",
    "    DecisionTreeClassifier\n",
    ")\n",
    "from sklearn.neighbors import KNeighborsClassifier\n",
    "from sklearn.model_selection import(\n",
    "    RandomizedSearchCV,\n",
    "    GridSearchCV\n",
    ")\n",
    "from sklearn.feature_selection import SelectKBest,f_classif\n",
    "from sklearn.dummy import DummyRegressor\n",
    "\n",
    "plt.rcParams[\"figure.figsize\"] = (30,20) \n",
    "RANDOM_STATE=42"
   ]
  },
  {
   "cell_type": "code",
   "execution_count": 46,
   "id": "badbbb08",
   "metadata": {},
   "outputs": [
    {
     "data": {
      "text/html": [
       "<div>\n",
       "<style scoped>\n",
       "    .dataframe tbody tr th:only-of-type {\n",
       "        vertical-align: middle;\n",
       "    }\n",
       "\n",
       "    .dataframe tbody tr th {\n",
       "        vertical-align: top;\n",
       "    }\n",
       "\n",
       "    .dataframe thead th {\n",
       "        text-align: right;\n",
       "    }\n",
       "</style>\n",
       "<table border=\"1\" class=\"dataframe\">\n",
       "  <thead>\n",
       "    <tr style=\"text-align: right;\">\n",
       "      <th></th>\n",
       "      <th>id</th>\n",
       "      <th>dept</th>\n",
       "      <th>level</th>\n",
       "      <th>workload</th>\n",
       "      <th>employment_years</th>\n",
       "      <th>last_year_promo</th>\n",
       "      <th>last_year_violations</th>\n",
       "      <th>supervisor_evaluation</th>\n",
       "      <th>salary</th>\n",
       "      <th>job_satisfaction_rate</th>\n",
       "    </tr>\n",
       "  </thead>\n",
       "  <tbody>\n",
       "    <tr>\n",
       "      <th>0</th>\n",
       "      <td>155278</td>\n",
       "      <td>sales</td>\n",
       "      <td>junior</td>\n",
       "      <td>medium</td>\n",
       "      <td>2</td>\n",
       "      <td>no</td>\n",
       "      <td>no</td>\n",
       "      <td>1</td>\n",
       "      <td>24000</td>\n",
       "      <td>0.58</td>\n",
       "    </tr>\n",
       "    <tr>\n",
       "      <th>1</th>\n",
       "      <td>653870</td>\n",
       "      <td>hr</td>\n",
       "      <td>junior</td>\n",
       "      <td>high</td>\n",
       "      <td>2</td>\n",
       "      <td>no</td>\n",
       "      <td>no</td>\n",
       "      <td>5</td>\n",
       "      <td>38400</td>\n",
       "      <td>0.76</td>\n",
       "    </tr>\n",
       "    <tr>\n",
       "      <th>2</th>\n",
       "      <td>184592</td>\n",
       "      <td>sales</td>\n",
       "      <td>junior</td>\n",
       "      <td>low</td>\n",
       "      <td>1</td>\n",
       "      <td>no</td>\n",
       "      <td>no</td>\n",
       "      <td>2</td>\n",
       "      <td>12000</td>\n",
       "      <td>0.11</td>\n",
       "    </tr>\n",
       "    <tr>\n",
       "      <th>3</th>\n",
       "      <td>171431</td>\n",
       "      <td>technology</td>\n",
       "      <td>junior</td>\n",
       "      <td>low</td>\n",
       "      <td>4</td>\n",
       "      <td>no</td>\n",
       "      <td>no</td>\n",
       "      <td>2</td>\n",
       "      <td>18000</td>\n",
       "      <td>0.37</td>\n",
       "    </tr>\n",
       "    <tr>\n",
       "      <th>4</th>\n",
       "      <td>693419</td>\n",
       "      <td>hr</td>\n",
       "      <td>junior</td>\n",
       "      <td>medium</td>\n",
       "      <td>1</td>\n",
       "      <td>no</td>\n",
       "      <td>no</td>\n",
       "      <td>3</td>\n",
       "      <td>22800</td>\n",
       "      <td>0.20</td>\n",
       "    </tr>\n",
       "    <tr>\n",
       "      <th>...</th>\n",
       "      <td>...</td>\n",
       "      <td>...</td>\n",
       "      <td>...</td>\n",
       "      <td>...</td>\n",
       "      <td>...</td>\n",
       "      <td>...</td>\n",
       "      <td>...</td>\n",
       "      <td>...</td>\n",
       "      <td>...</td>\n",
       "      <td>...</td>\n",
       "    </tr>\n",
       "    <tr>\n",
       "      <th>3995</th>\n",
       "      <td>457950</td>\n",
       "      <td>technology</td>\n",
       "      <td>junior</td>\n",
       "      <td>high</td>\n",
       "      <td>2</td>\n",
       "      <td>no</td>\n",
       "      <td>no</td>\n",
       "      <td>3</td>\n",
       "      <td>46800</td>\n",
       "      <td>0.45</td>\n",
       "    </tr>\n",
       "    <tr>\n",
       "      <th>3996</th>\n",
       "      <td>957499</td>\n",
       "      <td>sales</td>\n",
       "      <td>junior</td>\n",
       "      <td>medium</td>\n",
       "      <td>2</td>\n",
       "      <td>no</td>\n",
       "      <td>no</td>\n",
       "      <td>4</td>\n",
       "      <td>21600</td>\n",
       "      <td>0.68</td>\n",
       "    </tr>\n",
       "    <tr>\n",
       "      <th>3997</th>\n",
       "      <td>533318</td>\n",
       "      <td>sales</td>\n",
       "      <td>middle</td>\n",
       "      <td>low</td>\n",
       "      <td>7</td>\n",
       "      <td>no</td>\n",
       "      <td>no</td>\n",
       "      <td>5</td>\n",
       "      <td>24000</td>\n",
       "      <td>0.76</td>\n",
       "    </tr>\n",
       "    <tr>\n",
       "      <th>3998</th>\n",
       "      <td>706868</td>\n",
       "      <td>sales</td>\n",
       "      <td>junior</td>\n",
       "      <td>medium</td>\n",
       "      <td>2</td>\n",
       "      <td>no</td>\n",
       "      <td>no</td>\n",
       "      <td>3</td>\n",
       "      <td>24000</td>\n",
       "      <td>0.48</td>\n",
       "    </tr>\n",
       "    <tr>\n",
       "      <th>3999</th>\n",
       "      <td>338347</td>\n",
       "      <td>technology</td>\n",
       "      <td>middle</td>\n",
       "      <td>medium</td>\n",
       "      <td>5</td>\n",
       "      <td>no</td>\n",
       "      <td>yes</td>\n",
       "      <td>1</td>\n",
       "      <td>44400</td>\n",
       "      <td>0.18</td>\n",
       "    </tr>\n",
       "  </tbody>\n",
       "</table>\n",
       "<p>4000 rows × 10 columns</p>\n",
       "</div>"
      ],
      "text/plain": [
       "          id        dept   level workload  employment_years last_year_promo  \\\n",
       "0     155278       sales  junior   medium                 2              no   \n",
       "1     653870          hr  junior     high                 2              no   \n",
       "2     184592       sales  junior      low                 1              no   \n",
       "3     171431  technology  junior      low                 4              no   \n",
       "4     693419          hr  junior   medium                 1              no   \n",
       "...      ...         ...     ...      ...               ...             ...   \n",
       "3995  457950  technology  junior     high                 2              no   \n",
       "3996  957499       sales  junior   medium                 2              no   \n",
       "3997  533318       sales  middle      low                 7              no   \n",
       "3998  706868       sales  junior   medium                 2              no   \n",
       "3999  338347  technology  middle   medium                 5              no   \n",
       "\n",
       "     last_year_violations  supervisor_evaluation  salary  \\\n",
       "0                      no                      1   24000   \n",
       "1                      no                      5   38400   \n",
       "2                      no                      2   12000   \n",
       "3                      no                      2   18000   \n",
       "4                      no                      3   22800   \n",
       "...                   ...                    ...     ...   \n",
       "3995                   no                      3   46800   \n",
       "3996                   no                      4   21600   \n",
       "3997                   no                      5   24000   \n",
       "3998                   no                      3   24000   \n",
       "3999                  yes                      1   44400   \n",
       "\n",
       "      job_satisfaction_rate  \n",
       "0                      0.58  \n",
       "1                      0.76  \n",
       "2                      0.11  \n",
       "3                      0.37  \n",
       "4                      0.20  \n",
       "...                     ...  \n",
       "3995                   0.45  \n",
       "3996                   0.68  \n",
       "3997                   0.76  \n",
       "3998                   0.48  \n",
       "3999                   0.18  \n",
       "\n",
       "[4000 rows x 10 columns]"
      ]
     },
     "metadata": {},
     "output_type": "display_data"
    },
    {
     "name": "stdout",
     "output_type": "stream",
     "text": [
      "<class 'pandas.core.frame.DataFrame'>\n",
      "RangeIndex: 4000 entries, 0 to 3999\n",
      "Data columns (total 10 columns):\n",
      " #   Column                 Non-Null Count  Dtype  \n",
      "---  ------                 --------------  -----  \n",
      " 0   id                     4000 non-null   int64  \n",
      " 1   dept                   3994 non-null   object \n",
      " 2   level                  3996 non-null   object \n",
      " 3   workload               4000 non-null   object \n",
      " 4   employment_years       4000 non-null   int64  \n",
      " 5   last_year_promo        4000 non-null   object \n",
      " 6   last_year_violations   4000 non-null   object \n",
      " 7   supervisor_evaluation  4000 non-null   int64  \n",
      " 8   salary                 4000 non-null   int64  \n",
      " 9   job_satisfaction_rate  4000 non-null   float64\n",
      "dtypes: float64(1), int64(4), object(5)\n",
      "memory usage: 312.6+ KB\n"
     ]
    }
   ],
   "source": [
    "train_job=pd.read_csv(\"train_job_satisfaction_rate.csv\")\n",
    "display(train_job)\n",
    "train_job.info()"
   ]
  },
  {
   "cell_type": "code",
   "execution_count": 47,
   "id": "5c697d35",
   "metadata": {},
   "outputs": [
    {
     "data": {
      "text/html": [
       "<div>\n",
       "<style scoped>\n",
       "    .dataframe tbody tr th:only-of-type {\n",
       "        vertical-align: middle;\n",
       "    }\n",
       "\n",
       "    .dataframe tbody tr th {\n",
       "        vertical-align: top;\n",
       "    }\n",
       "\n",
       "    .dataframe thead th {\n",
       "        text-align: right;\n",
       "    }\n",
       "</style>\n",
       "<table border=\"1\" class=\"dataframe\">\n",
       "  <thead>\n",
       "    <tr style=\"text-align: right;\">\n",
       "      <th></th>\n",
       "      <th>id</th>\n",
       "      <th>dept</th>\n",
       "      <th>level</th>\n",
       "      <th>workload</th>\n",
       "      <th>employment_years</th>\n",
       "      <th>last_year_promo</th>\n",
       "      <th>last_year_violations</th>\n",
       "      <th>supervisor_evaluation</th>\n",
       "      <th>salary</th>\n",
       "    </tr>\n",
       "  </thead>\n",
       "  <tbody>\n",
       "    <tr>\n",
       "      <th>0</th>\n",
       "      <td>485046</td>\n",
       "      <td>marketing</td>\n",
       "      <td>junior</td>\n",
       "      <td>medium</td>\n",
       "      <td>2</td>\n",
       "      <td>no</td>\n",
       "      <td>no</td>\n",
       "      <td>5</td>\n",
       "      <td>28800</td>\n",
       "    </tr>\n",
       "    <tr>\n",
       "      <th>1</th>\n",
       "      <td>686555</td>\n",
       "      <td>hr</td>\n",
       "      <td>junior</td>\n",
       "      <td>medium</td>\n",
       "      <td>1</td>\n",
       "      <td>no</td>\n",
       "      <td>no</td>\n",
       "      <td>4</td>\n",
       "      <td>30000</td>\n",
       "    </tr>\n",
       "    <tr>\n",
       "      <th>2</th>\n",
       "      <td>467458</td>\n",
       "      <td>sales</td>\n",
       "      <td>middle</td>\n",
       "      <td>low</td>\n",
       "      <td>5</td>\n",
       "      <td>no</td>\n",
       "      <td>no</td>\n",
       "      <td>4</td>\n",
       "      <td>19200</td>\n",
       "    </tr>\n",
       "    <tr>\n",
       "      <th>3</th>\n",
       "      <td>418655</td>\n",
       "      <td>sales</td>\n",
       "      <td>middle</td>\n",
       "      <td>low</td>\n",
       "      <td>6</td>\n",
       "      <td>no</td>\n",
       "      <td>no</td>\n",
       "      <td>4</td>\n",
       "      <td>19200</td>\n",
       "    </tr>\n",
       "    <tr>\n",
       "      <th>4</th>\n",
       "      <td>789145</td>\n",
       "      <td>hr</td>\n",
       "      <td>middle</td>\n",
       "      <td>medium</td>\n",
       "      <td>5</td>\n",
       "      <td>no</td>\n",
       "      <td>no</td>\n",
       "      <td>5</td>\n",
       "      <td>40800</td>\n",
       "    </tr>\n",
       "    <tr>\n",
       "      <th>...</th>\n",
       "      <td>...</td>\n",
       "      <td>...</td>\n",
       "      <td>...</td>\n",
       "      <td>...</td>\n",
       "      <td>...</td>\n",
       "      <td>...</td>\n",
       "      <td>...</td>\n",
       "      <td>...</td>\n",
       "      <td>...</td>\n",
       "    </tr>\n",
       "    <tr>\n",
       "      <th>1995</th>\n",
       "      <td>393147</td>\n",
       "      <td>marketing</td>\n",
       "      <td>junior</td>\n",
       "      <td>low</td>\n",
       "      <td>3</td>\n",
       "      <td>no</td>\n",
       "      <td>no</td>\n",
       "      <td>3</td>\n",
       "      <td>20400</td>\n",
       "    </tr>\n",
       "    <tr>\n",
       "      <th>1996</th>\n",
       "      <td>109582</td>\n",
       "      <td>technology</td>\n",
       "      <td>middle</td>\n",
       "      <td>low</td>\n",
       "      <td>3</td>\n",
       "      <td>no</td>\n",
       "      <td>no</td>\n",
       "      <td>2</td>\n",
       "      <td>21600</td>\n",
       "    </tr>\n",
       "    <tr>\n",
       "      <th>1997</th>\n",
       "      <td>305653</td>\n",
       "      <td>technology</td>\n",
       "      <td>junior</td>\n",
       "      <td>low</td>\n",
       "      <td>1</td>\n",
       "      <td>no</td>\n",
       "      <td>no</td>\n",
       "      <td>3</td>\n",
       "      <td>14400</td>\n",
       "    </tr>\n",
       "    <tr>\n",
       "      <th>1998</th>\n",
       "      <td>160233</td>\n",
       "      <td>technology</td>\n",
       "      <td>middle</td>\n",
       "      <td>low</td>\n",
       "      <td>8</td>\n",
       "      <td>no</td>\n",
       "      <td>no</td>\n",
       "      <td>1</td>\n",
       "      <td>32400</td>\n",
       "    </tr>\n",
       "    <tr>\n",
       "      <th>1999</th>\n",
       "      <td>771859</td>\n",
       "      <td>purchasing</td>\n",
       "      <td>middle</td>\n",
       "      <td>medium</td>\n",
       "      <td>1</td>\n",
       "      <td>no</td>\n",
       "      <td>no</td>\n",
       "      <td>4</td>\n",
       "      <td>38400</td>\n",
       "    </tr>\n",
       "  </tbody>\n",
       "</table>\n",
       "<p>2000 rows × 9 columns</p>\n",
       "</div>"
      ],
      "text/plain": [
       "          id        dept   level workload  employment_years last_year_promo  \\\n",
       "0     485046   marketing  junior   medium                 2              no   \n",
       "1     686555          hr  junior   medium                 1              no   \n",
       "2     467458       sales  middle      low                 5              no   \n",
       "3     418655       sales  middle      low                 6              no   \n",
       "4     789145          hr  middle   medium                 5              no   \n",
       "...      ...         ...     ...      ...               ...             ...   \n",
       "1995  393147   marketing  junior      low                 3              no   \n",
       "1996  109582  technology  middle      low                 3              no   \n",
       "1997  305653  technology  junior      low                 1              no   \n",
       "1998  160233  technology  middle      low                 8              no   \n",
       "1999  771859  purchasing  middle   medium                 1              no   \n",
       "\n",
       "     last_year_violations  supervisor_evaluation  salary  \n",
       "0                      no                      5   28800  \n",
       "1                      no                      4   30000  \n",
       "2                      no                      4   19200  \n",
       "3                      no                      4   19200  \n",
       "4                      no                      5   40800  \n",
       "...                   ...                    ...     ...  \n",
       "1995                   no                      3   20400  \n",
       "1996                   no                      2   21600  \n",
       "1997                   no                      3   14400  \n",
       "1998                   no                      1   32400  \n",
       "1999                   no                      4   38400  \n",
       "\n",
       "[2000 rows x 9 columns]"
      ]
     },
     "metadata": {},
     "output_type": "display_data"
    },
    {
     "name": "stdout",
     "output_type": "stream",
     "text": [
      "<class 'pandas.core.frame.DataFrame'>\n",
      "RangeIndex: 2000 entries, 0 to 1999\n",
      "Data columns (total 9 columns):\n",
      " #   Column                 Non-Null Count  Dtype \n",
      "---  ------                 --------------  ----- \n",
      " 0   id                     2000 non-null   int64 \n",
      " 1   dept                   1998 non-null   object\n",
      " 2   level                  1999 non-null   object\n",
      " 3   workload               2000 non-null   object\n",
      " 4   employment_years       2000 non-null   int64 \n",
      " 5   last_year_promo        2000 non-null   object\n",
      " 6   last_year_violations   2000 non-null   object\n",
      " 7   supervisor_evaluation  2000 non-null   int64 \n",
      " 8   salary                 2000 non-null   int64 \n",
      "dtypes: int64(4), object(5)\n",
      "memory usage: 140.8+ KB\n"
     ]
    }
   ],
   "source": [
    "test_features=pd.read_csv('test_features.csv')\n",
    "display(test_features)\n",
    "test_features.info()"
   ]
  },
  {
   "cell_type": "code",
   "execution_count": 48,
   "id": "a6b19031",
   "metadata": {},
   "outputs": [
    {
     "data": {
      "text/html": [
       "<div>\n",
       "<style scoped>\n",
       "    .dataframe tbody tr th:only-of-type {\n",
       "        vertical-align: middle;\n",
       "    }\n",
       "\n",
       "    .dataframe tbody tr th {\n",
       "        vertical-align: top;\n",
       "    }\n",
       "\n",
       "    .dataframe thead th {\n",
       "        text-align: right;\n",
       "    }\n",
       "</style>\n",
       "<table border=\"1\" class=\"dataframe\">\n",
       "  <thead>\n",
       "    <tr style=\"text-align: right;\">\n",
       "      <th></th>\n",
       "      <th>id</th>\n",
       "      <th>job_satisfaction_rate</th>\n",
       "    </tr>\n",
       "  </thead>\n",
       "  <tbody>\n",
       "    <tr>\n",
       "      <th>0</th>\n",
       "      <td>130604</td>\n",
       "      <td>0.74</td>\n",
       "    </tr>\n",
       "    <tr>\n",
       "      <th>1</th>\n",
       "      <td>825977</td>\n",
       "      <td>0.75</td>\n",
       "    </tr>\n",
       "    <tr>\n",
       "      <th>2</th>\n",
       "      <td>418490</td>\n",
       "      <td>0.60</td>\n",
       "    </tr>\n",
       "    <tr>\n",
       "      <th>3</th>\n",
       "      <td>555320</td>\n",
       "      <td>0.72</td>\n",
       "    </tr>\n",
       "    <tr>\n",
       "      <th>4</th>\n",
       "      <td>826430</td>\n",
       "      <td>0.08</td>\n",
       "    </tr>\n",
       "    <tr>\n",
       "      <th>...</th>\n",
       "      <td>...</td>\n",
       "      <td>...</td>\n",
       "    </tr>\n",
       "    <tr>\n",
       "      <th>1995</th>\n",
       "      <td>405257</td>\n",
       "      <td>0.28</td>\n",
       "    </tr>\n",
       "    <tr>\n",
       "      <th>1996</th>\n",
       "      <td>370925</td>\n",
       "      <td>0.21</td>\n",
       "    </tr>\n",
       "    <tr>\n",
       "      <th>1997</th>\n",
       "      <td>857722</td>\n",
       "      <td>0.39</td>\n",
       "    </tr>\n",
       "    <tr>\n",
       "      <th>1998</th>\n",
       "      <td>303402</td>\n",
       "      <td>0.26</td>\n",
       "    </tr>\n",
       "    <tr>\n",
       "      <th>1999</th>\n",
       "      <td>648995</td>\n",
       "      <td>0.62</td>\n",
       "    </tr>\n",
       "  </tbody>\n",
       "</table>\n",
       "<p>2000 rows × 2 columns</p>\n",
       "</div>"
      ],
      "text/plain": [
       "          id  job_satisfaction_rate\n",
       "0     130604                   0.74\n",
       "1     825977                   0.75\n",
       "2     418490                   0.60\n",
       "3     555320                   0.72\n",
       "4     826430                   0.08\n",
       "...      ...                    ...\n",
       "1995  405257                   0.28\n",
       "1996  370925                   0.21\n",
       "1997  857722                   0.39\n",
       "1998  303402                   0.26\n",
       "1999  648995                   0.62\n",
       "\n",
       "[2000 rows x 2 columns]"
      ]
     },
     "metadata": {},
     "output_type": "display_data"
    },
    {
     "name": "stdout",
     "output_type": "stream",
     "text": [
      "<class 'pandas.core.frame.DataFrame'>\n",
      "RangeIndex: 2000 entries, 0 to 1999\n",
      "Data columns (total 2 columns):\n",
      " #   Column                 Non-Null Count  Dtype  \n",
      "---  ------                 --------------  -----  \n",
      " 0   id                     2000 non-null   int64  \n",
      " 1   job_satisfaction_rate  2000 non-null   float64\n",
      "dtypes: float64(1), int64(1)\n",
      "memory usage: 31.4 KB\n"
     ]
    }
   ],
   "source": [
    "test_target=pd.read_csv('test_target_job_satisfaction_rate.csv')\n",
    "display(test_target)\n",
    "test_target.info()\n"
   ]
  },
  {
   "cell_type": "markdown",
   "id": "e9354f1e",
   "metadata": {},
   "source": [
    "## Предобработка данных"
   ]
  },
  {
   "cell_type": "markdown",
   "id": "320a698c",
   "metadata": {},
   "source": [
    "Проверю данные на наличие дубликатов и пропусков"
   ]
  },
  {
   "cell_type": "code",
   "execution_count": 49,
   "id": "9532110b",
   "metadata": {},
   "outputs": [
    {
     "name": "stdout",
     "output_type": "stream",
     "text": [
      "0\n",
      "0\n",
      "0\n"
     ]
    }
   ],
   "source": [
    "print(train_job.duplicated().sum())\n",
    "print(test_features.duplicated().sum())\n",
    "print(test_target.duplicated().sum())"
   ]
  },
  {
   "cell_type": "markdown",
   "id": "e33636cb",
   "metadata": {},
   "source": [
    "Если в столбце id найдено два одинаковых значения, одно из них следует удалить, ведь это значит, что данные про одного и того же человека попали в датасет."
   ]
  },
  {
   "cell_type": "code",
   "execution_count": 50,
   "id": "7bda4e7f",
   "metadata": {},
   "outputs": [
    {
     "name": "stdout",
     "output_type": "stream",
     "text": [
      "0\n",
      "0\n",
      "0\n"
     ]
    }
   ],
   "source": [
    "print(train_job.duplicated(subset=['id']).sum())\n",
    "print(test_features.duplicated(subset=['id']).sum())\n",
    "print(test_target.duplicated(subset=['id']).sum())"
   ]
  },
  {
   "cell_type": "code",
   "execution_count": 51,
   "id": "c714df62",
   "metadata": {},
   "outputs": [
    {
     "name": "stdout",
     "output_type": "stream",
     "text": [
      "id                       0\n",
      "dept                     6\n",
      "level                    4\n",
      "workload                 0\n",
      "employment_years         0\n",
      "last_year_promo          0\n",
      "last_year_violations     0\n",
      "supervisor_evaluation    0\n",
      "salary                   0\n",
      "job_satisfaction_rate    0\n",
      "dtype: int64\n",
      "id                       0\n",
      "dept                     2\n",
      "level                    1\n",
      "workload                 0\n",
      "employment_years         0\n",
      "last_year_promo          0\n",
      "last_year_violations     0\n",
      "supervisor_evaluation    0\n",
      "salary                   0\n",
      "dtype: int64\n",
      "id                       0\n",
      "job_satisfaction_rate    0\n",
      "dtype: int64\n"
     ]
    }
   ],
   "source": [
    "print(train_job.isna().sum())\n",
    "print(test_features.isna().sum())\n",
    "print(test_target.isna().sum())"
   ]
  },
  {
   "cell_type": "markdown",
   "id": "66cde29b",
   "metadata": {},
   "source": [
    "Заменю пропуски позже, в пайплайне"
   ]
  },
  {
   "cell_type": "markdown",
   "id": "a49bde09",
   "metadata": {},
   "source": [
    "## Исследовательский анализ данных"
   ]
  },
  {
   "cell_type": "code",
   "execution_count": 52,
   "id": "f56692f7",
   "metadata": {},
   "outputs": [
    {
     "data": {
      "image/png": "[encoded data removed]",
      "text/plain": [
       "<Figure size 2160x720 with 6 Axes>"
      ]
     },
     "metadata": {
      "needs_background": "light"
     },
     "output_type": "display_data"
    }
   ],
   "source": [
    "def graphik(data,x,axes,i):\n",
    "    sns.histplot(ax=axes,data=data,x=x)\n",
    "fig, axes = plt.subplots(2, 3, figsize=(30, 10))\n",
    "axes = axes.flatten()\n",
    "features=train_job.drop(columns=['id','job_satisfaction_rate','employment_years','supervisor_evaluation']).columns\n",
    "train=train_job.dropna()\n",
    "for i,feature in enumerate(features):\n",
    "    graphik(train, feature, axes[i],feature);\n",
    "    axes[i].set_title(feature,fontsize=20)\n",
    "    axes[i].tick_params(axis='x', labelsize=20)\n",
    "    axes[i].tick_params(axis='y', labelsize=20)\n",
    "    axes[i].set_xlabel(\"\")\n",
    "    axes[i].set_ylabel(\"Count\",fontsize=15)\n",
    "plt.tight_layout() \n",
    "plt.show()"
   ]
  },
  {
   "cell_type": "code",
   "execution_count": 53,
   "id": "ce08a01d",
   "metadata": {},
   "outputs": [
    {
     "data": {
      "image/png": "[encoded data removed]",
      "text/plain": [
       "<Figure size 1080x360 with 1 Axes>"
      ]
     },
     "metadata": {
      "needs_background": "light"
     },
     "output_type": "display_data"
    }
   ],
   "source": [
    "plt.figure(figsize=(15,5))\n",
    "plt.title('employment_years')\n",
    "plt.xlabel('years')\n",
    "sns.barplot(x=train_job.employment_years.value_counts().index, y=train_job.employment_years.value_counts())\n",
    "plt.ylabel('count')\n",
    "plt.show()"
   ]
  },
  {
   "cell_type": "code",
   "execution_count": 54,
   "id": "32e41e24",
   "metadata": {},
   "outputs": [
    {
     "data": {
      "image/png": "[encoded data removed]",
      "text/plain": [
       "<Figure size 1080x360 with 1 Axes>"
      ]
     },
     "metadata": {
      "needs_background": "light"
     },
     "output_type": "display_data"
    }
   ],
   "source": [
    "plt.figure(figsize=(15,5))\n",
    "plt.title('supervisor_evaluation')\n",
    "plt.xlabel('score')\n",
    "sns.barplot(x=train_job.supervisor_evaluation.value_counts().index, y=train_job.supervisor_evaluation.value_counts())\n",
    "plt.ylabel('count')\n",
    "plt.show()"
   ]
  },
  {
   "cell_type": "code",
   "execution_count": 55,
   "id": "e53b7dc9",
   "metadata": {},
   "outputs": [
    {
     "data": {
      "image/png": "[encoded data removed]",
      "text/plain": [
       "<Figure size 1080x360 with 1 Axes>"
      ]
     },
     "metadata": {
      "needs_background": "light"
     },
     "output_type": "display_data"
    }
   ],
   "source": [
    "plt.figure(figsize=(15,5))\n",
    "sns.histplot(data=train, x=train['job_satisfaction_rate'])\n",
    "plt.title('job_satisfaction_rate')\n",
    "plt.show()\n"
   ]
  },
  {
   "cell_type": "code",
   "execution_count": 56,
   "id": "e5173cee",
   "metadata": {},
   "outputs": [
    {
     "data": {
      "image/png": "[encoded data removed]",
      "text/plain": [
       "<Figure size 1440x720 with 4 Axes>"
      ]
     },
     "metadata": {
      "needs_background": "light"
     },
     "output_type": "display_data"
    }
   ],
   "source": [
    "def graphikbox(data,x,axos):\n",
    "    sns.boxplot(ax=axos,data=data,x=x)\n",
    "fig, axes = plt.subplots(2,2, figsize=(20, 10))\n",
    "graphikbox(train,train['employment_years'],axes[0][0])\n",
    "axes[0][0].set_title('employment_years')\n",
    "graphikbox(train,train['supervisor_evaluation'],axes[0][1])\n",
    "axes[0][1].set_title('supervisor_evaluation')\n",
    "graphikbox(train,train['salary'],axes[1][0])\n",
    "axes[1][0].set_title('salary')\n",
    "graphikbox(train,train['job_satisfaction_rate'],axes[1][1])\n",
    "axes[1][1].set_title('job_satisfaction_rate')\n",
    "plt.tight_layout() \n",
    "plt.show()"
   ]
  },
  {
   "cell_type": "markdown",
   "id": "033ff1a1",
   "metadata": {},
   "source": [
    "Большинство сотрудников работает в департаменте \"Продажи\". \n",
    "\n",
    "Что касается уровня занимаемой должности, джунов и миддлов примерно одинаковое количество, а сеньоров намного меньше, ведь далеко не каждый может развиться до уровня сеньора.\n",
    "\n",
    "Уровень загруженности в большинстве своем у сотрудников средний, однако тех, у кого загрузка высокая, меньше, чем рабочих с низкой нагрузкой в 1.5 раза\n",
    "\n",
    "Большинство сотрудников недавно работают в компании: 1-2 года, а тех кто работает в компании 9-10 лет достаточно мало.\n",
    "\n",
    "Повышения в прошлом году были достойны очень немногие: около 100 человек. Как будто оптимальное значение, чтобы не так сильно увеличивать расходы.\n",
    "\n",
    "Трудовой договор в среднем нарушает каждый 8 человек.\n",
    "\n",
    "Большинство сотрудников руководитель оценивает на 3-4, людей с неудовлетворительной оценкой(1-2) около 600 значений.\n",
    "\n",
    "Среднее значение зарплаты- 30 000 рублей, скорее всего это связано с тем, что в компании работает много джунов, чей оклад по определению не может быть очень большим.\n",
    "\n",
    "Средняя удовлетворенность работы- около 55%, однако в гистограмме наблюдается бимодальное распределение: больше всего людей с удовлетворенностью выше средней(около 70%), однако также много и тех, кто удовлетворен всего на 35%"
   ]
  },
  {
   "cell_type": "markdown",
   "id": "cca3823e",
   "metadata": {},
   "source": [
    "## Корреляционный анализ признаков"
   ]
  },
  {
   "cell_type": "code",
   "execution_count": 57,
   "id": "2fe83134",
   "metadata": {},
   "outputs": [
    {
     "data": {
      "image/png": "[encoded data removed]",
      "text/plain": [
       "<Figure size 1080x1080 with 2 Axes>"
      ]
     },
     "metadata": {
      "needs_background": "light"
     },
     "output_type": "display_data"
    }
   ],
   "source": [
    "matrix=(train.drop(columns='id').phik_matrix(interval_cols=['job_satisfaction_rate','salary']))\n",
    "plt.figure(figsize=(15,15))\n",
    "sns.heatmap(matrix,annot=True)\n",
    "plt.show()"
   ]
  },
  {
   "cell_type": "markdown",
   "id": "ab86a312",
   "metadata": {},
   "source": [
    "На целевой признак сильно влияют нарушения трудового договора в прошлом году, а также оценка руководителя. Это логично- если работник нарушает трудовой договор, значит его не все устраивает на текущем рабочем месте.\n",
    "\n",
    "Зарплата имеет сильную корреляцию с должностью и рабочей загруженностью: чем больше ты работаешь- тем больше получаешь, чем выше твоя должность, тем выше твоя зарплата.\n",
    "\n",
    "Уровень сотрудника также коррелирует со стажем: чем дольше ты работаешь, тем скорее всего выше будет должность."
   ]
  },
  {
   "cell_type": "code",
   "execution_count": 58,
   "id": "10dde388",
   "metadata": {},
   "outputs": [
    {
     "data": {
      "image/png": "[encoded data removed]",
      "text/plain": [
       "<Figure size 1080x720 with 1 Axes>"
      ]
     },
     "metadata": {
      "needs_background": "light"
     },
     "output_type": "display_data"
    }
   ],
   "source": [
    "plt.figure(figsize=(15,10))\n",
    "sns.histplot(data=train,x='salary',hue='level')\n",
    "plt.title('correlation between salary and level',fontsize=20)\n",
    "plt.show()"
   ]
  },
  {
   "cell_type": "code",
   "execution_count": 59,
   "id": "2750e941",
   "metadata": {},
   "outputs": [
    {
     "data": {
      "image/png": "[encoded data removed]",
      "text/plain": [
       "<Figure size 1080x720 with 1 Axes>"
      ]
     },
     "metadata": {
      "needs_background": "light"
     },
     "output_type": "display_data"
    }
   ],
   "source": [
    "plt.figure(figsize=(15,10))\n",
    "sns.histplot(data=train,x='salary',hue='workload')\n",
    "plt.title('correlation between salary and workload',fontsize=20)\n",
    "plt.show()"
   ]
  },
  {
   "cell_type": "markdown",
   "id": "3b6750ea",
   "metadata": {},
   "source": [
    "Джуны в среднем получают 20-35к, мидлы около 40 тысяч, а сеньоры примерно 60\n",
    "\n",
    "Люди с низкой загруженностью получают около 15-20 тысяч, со средней загруженностью примерно 35 тысяч, а с высокой загруженностью где-то около 55-60к"
   ]
  },
  {
   "cell_type": "markdown",
   "id": "f8512110",
   "metadata": {},
   "source": [
    "## Подготовка данных и обучение модели"
   ]
  },
  {
   "cell_type": "markdown",
   "id": "8ab4059f",
   "metadata": {},
   "source": [
    "Данные в столбце 'dept' можно закодировать с помощью OneHotEncoder, т.к. среди отделов нет иерархии, а вот для столбцов 'level' и 'workload' уже необходимо использовать OrdinalEncoder, т.к. предполагаемых классов>2 + они имеют порядковую последовательность(junior,middle,senior и low,medium,high)\n"
   ]
  },
  {
   "cell_type": "markdown",
   "id": "c9f9b062",
   "metadata": {},
   "source": [
    "Реализую метрику SMAPE с помощью make_scorer"
   ]
  },
  {
   "cell_type": "code",
   "execution_count": 60,
   "id": "f55f0c71",
   "metadata": {},
   "outputs": [],
   "source": [
    "def Smape(y_test,y_pred):\n",
    "    metric=2*np.abs(y_test-y_pred)/(y_pred+y_test)\n",
    "    metric=metric.sum()*100/len(y_test)\n",
    "    return metric\n",
    "smape_scorer = make_scorer(Smape, greater_is_better=False)"
   ]
  },
  {
   "cell_type": "code",
   "execution_count": 61,
   "id": "49f1966e",
   "metadata": {
    "scrolled": true
   },
   "outputs": [
    {
     "name": "stdout",
     "output_type": "stream",
     "text": [
      "Fitting 5 folds for each of 10 candidates, totalling 50 fits\n",
      "[CV 1/5] END models=DecisionTreeRegressor(random_state=42), models__min_samples_leaf=6, models__min_samples_split=3;, score=-15.444 total time=   0.1s\n",
      "[CV 2/5] END models=DecisionTreeRegressor(random_state=42), models__min_samples_leaf=6, models__min_samples_split=3;, score=-14.833 total time=   0.1s\n",
      "[CV 3/5] END models=DecisionTreeRegressor(random_state=42), models__min_samples_leaf=6, models__min_samples_split=3;, score=-15.012 total time=   0.1s\n",
      "[CV 4/5] END models=DecisionTreeRegressor(random_state=42), models__min_samples_leaf=6, models__min_samples_split=3;, score=-15.301 total time=   0.1s\n",
      "[CV 5/5] END models=DecisionTreeRegressor(random_state=42), models__min_samples_leaf=6, models__min_samples_split=3;, score=-13.949 total time=   0.1s\n",
      "[CV 1/5] END models=DecisionTreeRegressor(random_state=42), models__min_samples_leaf=3, models__min_samples_split=7;, score=-14.689 total time=   0.0s\n",
      "[CV 2/5] END models=DecisionTreeRegressor(random_state=42), models__min_samples_leaf=3, models__min_samples_split=7;, score=-14.358 total time=   0.1s\n",
      "[CV 3/5] END models=DecisionTreeRegressor(random_state=42), models__min_samples_leaf=3, models__min_samples_split=7;, score=-14.944 total time=   0.1s\n",
      "[CV 4/5] END models=DecisionTreeRegressor(random_state=42), models__min_samples_leaf=3, models__min_samples_split=7;, score=-14.482 total time=   0.1s\n",
      "[CV 5/5] END models=DecisionTreeRegressor(random_state=42), models__min_samples_leaf=3, models__min_samples_split=7;, score=-13.561 total time=   0.1s\n",
      "[CV 1/5] END models=DecisionTreeRegressor(random_state=42), models__min_samples_leaf=2, models__min_samples_split=3;, score=-14.922 total time=   0.1s\n",
      "[CV 2/5] END models=DecisionTreeRegressor(random_state=42), models__min_samples_leaf=2, models__min_samples_split=3;, score=-14.980 total time=   0.1s\n",
      "[CV 3/5] END models=DecisionTreeRegressor(random_state=42), models__min_samples_leaf=2, models__min_samples_split=3;, score=-14.653 total time=   0.1s\n",
      "[CV 4/5] END models=DecisionTreeRegressor(random_state=42), models__min_samples_leaf=2, models__min_samples_split=3;, score=-14.836 total time=   0.1s\n",
      "[CV 5/5] END models=DecisionTreeRegressor(random_state=42), models__min_samples_leaf=2, models__min_samples_split=3;, score=-14.324 total time=   0.1s\n",
      "[CV 1/5] END models=DecisionTreeRegressor(random_state=42), models__min_samples_leaf=2, models__min_samples_split=8;, score=-15.096 total time=   0.1s\n",
      "[CV 2/5] END models=DecisionTreeRegressor(random_state=42), models__min_samples_leaf=2, models__min_samples_split=8;, score=-14.699 total time=   0.0s\n",
      "[CV 3/5] END models=DecisionTreeRegressor(random_state=42), models__min_samples_leaf=2, models__min_samples_split=8;, score=-14.902 total time=   0.1s\n",
      "[CV 4/5] END models=DecisionTreeRegressor(random_state=42), models__min_samples_leaf=2, models__min_samples_split=8;, score=-14.680 total time=   0.1s\n",
      "[CV 5/5] END models=DecisionTreeRegressor(random_state=42), models__min_samples_leaf=2, models__min_samples_split=8;, score=-13.699 total time=   0.1s\n",
      "[CV 1/5] END models=DecisionTreeRegressor(random_state=42), models__min_samples_leaf=7, models__min_samples_split=4;, score=-15.497 total time=   0.1s\n",
      "[CV 2/5] END models=DecisionTreeRegressor(random_state=42), models__min_samples_leaf=7, models__min_samples_split=4;, score=-14.532 total time=   0.1s\n",
      "[CV 3/5] END models=DecisionTreeRegressor(random_state=42), models__min_samples_leaf=7, models__min_samples_split=4;, score=-15.134 total time=   0.1s\n",
      "[CV 4/5] END models=DecisionTreeRegressor(random_state=42), models__min_samples_leaf=7, models__min_samples_split=4;, score=-15.305 total time=   0.1s\n",
      "[CV 5/5] END models=DecisionTreeRegressor(random_state=42), models__min_samples_leaf=7, models__min_samples_split=4;, score=-13.875 total time=   0.1s\n",
      "[CV 1/5] END models=DecisionTreeRegressor(random_state=42), models__min_samples_leaf=6, models__min_samples_split=7;, score=-15.444 total time=   0.1s\n",
      "[CV 2/5] END models=DecisionTreeRegressor(random_state=42), models__min_samples_leaf=6, models__min_samples_split=7;, score=-14.833 total time=   0.1s\n",
      "[CV 3/5] END models=DecisionTreeRegressor(random_state=42), models__min_samples_leaf=6, models__min_samples_split=7;, score=-15.012 total time=   0.1s\n",
      "[CV 4/5] END models=DecisionTreeRegressor(random_state=42), models__min_samples_leaf=6, models__min_samples_split=7;, score=-15.301 total time=   0.0s\n",
      "[CV 5/5] END models=DecisionTreeRegressor(random_state=42), models__min_samples_leaf=6, models__min_samples_split=7;, score=-13.949 total time=   0.1s\n",
      "[CV 1/5] END models=DecisionTreeRegressor(random_state=42), models__min_samples_leaf=9, models__min_samples_split=4;, score=-15.877 total time=   0.1s\n",
      "[CV 2/5] END models=DecisionTreeRegressor(random_state=42), models__min_samples_leaf=9, models__min_samples_split=4;, score=-14.896 total time=   0.1s\n",
      "[CV 3/5] END models=DecisionTreeRegressor(random_state=42), models__min_samples_leaf=9, models__min_samples_split=4;, score=-15.427 total time=   0.0s\n",
      "[CV 4/5] END models=DecisionTreeRegressor(random_state=42), models__min_samples_leaf=9, models__min_samples_split=4;, score=-15.503 total time=   0.0s\n",
      "[CV 5/5] END models=DecisionTreeRegressor(random_state=42), models__min_samples_leaf=9, models__min_samples_split=4;, score=-14.337 total time=   0.1s\n",
      "[CV 1/5] END models=DecisionTreeRegressor(random_state=42), models__min_samples_leaf=2, models__min_samples_split=4;, score=-14.922 total time=   0.0s\n",
      "[CV 2/5] END models=DecisionTreeRegressor(random_state=42), models__min_samples_leaf=2, models__min_samples_split=4;, score=-14.980 total time=   0.1s\n",
      "[CV 3/5] END models=DecisionTreeRegressor(random_state=42), models__min_samples_leaf=2, models__min_samples_split=4;, score=-14.653 total time=   0.1s\n",
      "[CV 4/5] END models=DecisionTreeRegressor(random_state=42), models__min_samples_leaf=2, models__min_samples_split=4;, score=-14.836 total time=   0.1s\n",
      "[CV 5/5] END models=DecisionTreeRegressor(random_state=42), models__min_samples_leaf=2, models__min_samples_split=4;, score=-14.324 total time=   0.1s\n",
      "[CV 1/5] END models=DecisionTreeRegressor(random_state=42), models__min_samples_leaf=9, models__min_samples_split=7;, score=-15.877 total time=   0.1s\n",
      "[CV 2/5] END models=DecisionTreeRegressor(random_state=42), models__min_samples_leaf=9, models__min_samples_split=7;, score=-14.896 total time=   0.0s\n",
      "[CV 3/5] END models=DecisionTreeRegressor(random_state=42), models__min_samples_leaf=9, models__min_samples_split=7;, score=-15.427 total time=   0.1s\n",
      "[CV 4/5] END models=DecisionTreeRegressor(random_state=42), models__min_samples_leaf=9, models__min_samples_split=7;, score=-15.503 total time=   0.1s\n",
      "[CV 5/5] END models=DecisionTreeRegressor(random_state=42), models__min_samples_leaf=9, models__min_samples_split=7;, score=-14.337 total time=   0.1s\n",
      "[CV 1/5] END models=DecisionTreeRegressor(random_state=42), models__min_samples_leaf=3, models__min_samples_split=3;, score=-14.668 total time=   0.1s\n",
      "[CV 2/5] END models=DecisionTreeRegressor(random_state=42), models__min_samples_leaf=3, models__min_samples_split=3;, score=-14.420 total time=   0.1s\n",
      "[CV 3/5] END models=DecisionTreeRegressor(random_state=42), models__min_samples_leaf=3, models__min_samples_split=3;, score=-14.581 total time=   0.1s\n",
      "[CV 4/5] END models=DecisionTreeRegressor(random_state=42), models__min_samples_leaf=3, models__min_samples_split=3;, score=-14.358 total time=   0.1s\n",
      "[CV 5/5] END models=DecisionTreeRegressor(random_state=42), models__min_samples_leaf=3, models__min_samples_split=3;, score=-13.713 total time=   0.1s\n",
      "Лучшая модель и её параметры:\n",
      "\n",
      " Pipeline(steps=[('preprocessor',\n",
      "                 ColumnTransformer(remainder='passthrough',\n",
      "                                   transformers=[('ohe',\n",
      "                                                  Pipeline(steps=[('simpleImputerohe',\n",
      "                                                                   SimpleImputer(strategy='most_frequent')),\n",
      "                                                                  ('ohe',\n",
      "                                                                   OneHotEncoder(drop='first',\n",
      "                                                                                 handle_unknown='ignore'))]),\n",
      "                                                  ['dept', 'last_year_promo',\n",
      "                                                   'last_year_violations']),\n",
      "                                                 ('ord',\n",
      "                                                  Pipeline(steps=[('SimpleImputer_before_ord',\n",
      "                                                                   SimpleImputer(...\n",
      "                                                                                               'sinior'],\n",
      "                                                                                              ['low',\n",
      "                                                                                               'medium',\n",
      "                                                                                               'high']],\n",
      "                                                                                  handle_unknown='use_encoded_value',\n",
      "                                                                                  unknown_value=nan)),\n",
      "                                                                  ('SimpleImputer_after_ord',\n",
      "                                                                   SimpleImputer(strategy='most_frequent'))]),\n",
      "                                                  ['level', 'workload']),\n",
      "                                                 ('num', StandardScaler(),\n",
      "                                                  ['employment_years',\n",
      "                                                   'supervisor_evaluation',\n",
      "                                                   'salary'])])),\n",
      "                ('models',\n",
      "                 DecisionTreeRegressor(min_samples_leaf=3, min_samples_split=3,\n",
      "                                       random_state=42))])\n",
      "Метрика лучшей модели на кросс-валидационной выборке: -14.348080145883381\n"
     ]
    }
   ],
   "source": [
    "ohe_columns=['dept','last_year_promo','last_year_violations']\n",
    "ord_columns=['level','workload']\n",
    "num_columns=['employment_years','supervisor_evaluation','salary']\n",
    "ohe_pipe=Pipeline([\n",
    "    ('simpleImputerohe',SimpleImputer(missing_values=np.nan ,strategy='most_frequent')),\n",
    "    ('ohe',OneHotEncoder(drop='first',handle_unknown='ignore'))\n",
    "])\n",
    "ord_pipe=Pipeline([\n",
    "    ('SimpleImputer_before_ord',SimpleImputer(missing_values=np.nan,strategy='most_frequent')),\n",
    "    ('ord',OrdinalEncoder(categories=[\n",
    "        ['junior','middle','sinior'],\n",
    "        ['low','medium','high']\n",
    "    ],\n",
    "    handle_unknown='use_encoded_value', unknown_value=np.nan\n",
    ")),\n",
    "    ('SimpleImputer_after_ord',SimpleImputer(missing_values=np.nan,strategy='most_frequent'))\n",
    "])\n",
    "data_preprocessor=ColumnTransformer([\n",
    "    ('ohe',ohe_pipe,ohe_columns),\n",
    "    ('ord',ord_pipe,ord_columns),\n",
    "    ('num',StandardScaler(),num_columns)],\n",
    "    remainder='passthrough'\n",
    ")\n",
    "pipe_final=Pipeline([\n",
    "    ('preprocessor',data_preprocessor),\n",
    "    ('models',DecisionTreeRegressor(random_state=RANDOM_STATE))\n",
    "])\n",
    "\n",
    "param_grid = [\n",
    "    {\n",
    "        'models':[LinearRegression()],\n",
    "        'preprocessor_num':[StandardScaler(),MinMaxScaler(),'passthrough']\n",
    "    },\n",
    "    {\n",
    "        'models':[DecisionTreeRegressor(random_state=RANDOM_STATE)],\n",
    "        'models__min_samples_split': range(2,10),\n",
    "        'models__min_samples_leaf': range(2,10)\n",
    "    }\n",
    "    \n",
    "]\n",
    "y_train=train_job['job_satisfaction_rate']\n",
    "X_train=train_job.drop(columns=['id','job_satisfaction_rate'])\n",
    "random=RandomizedSearchCV(\n",
    "    pipe_final,\n",
    "    param_grid,\n",
    "    cv=5,\n",
    "    n_jobs=-1,\n",
    "    verbose=3,\n",
    "    refit='false_positive_rate',\n",
    "    random_state=RANDOM_STATE,\n",
    "    scoring=smape_scorer\n",
    ")\n",
    "random.fit(X_train, y_train)    \n",
    "print('Лучшая модель и её параметры:\\n\\n', random.best_estimator_)\n",
    "print ('Метрика лучшей модели на кросс-валидационной выборке:', random.best_score_)"
   ]
  },
  {
   "cell_type": "markdown",
   "id": "4c884883",
   "metadata": {},
   "source": [
    "В данные тестовой выборки добавлю целевой признак."
   ]
  },
  {
   "cell_type": "code",
   "execution_count": 62,
   "id": "d83e6cba",
   "metadata": {},
   "outputs": [
    {
     "data": {
      "text/html": [
       "<div>\n",
       "<style scoped>\n",
       "    .dataframe tbody tr th:only-of-type {\n",
       "        vertical-align: middle;\n",
       "    }\n",
       "\n",
       "    .dataframe tbody tr th {\n",
       "        vertical-align: top;\n",
       "    }\n",
       "\n",
       "    .dataframe thead th {\n",
       "        text-align: right;\n",
       "    }\n",
       "</style>\n",
       "<table border=\"1\" class=\"dataframe\">\n",
       "  <thead>\n",
       "    <tr style=\"text-align: right;\">\n",
       "      <th></th>\n",
       "      <th>id</th>\n",
       "      <th>dept</th>\n",
       "      <th>level</th>\n",
       "      <th>workload</th>\n",
       "      <th>employment_years</th>\n",
       "      <th>last_year_promo</th>\n",
       "      <th>last_year_violations</th>\n",
       "      <th>supervisor_evaluation</th>\n",
       "      <th>salary</th>\n",
       "      <th>job_satisfaction_rate</th>\n",
       "    </tr>\n",
       "  </thead>\n",
       "  <tbody>\n",
       "    <tr>\n",
       "      <th>0</th>\n",
       "      <td>485046</td>\n",
       "      <td>marketing</td>\n",
       "      <td>junior</td>\n",
       "      <td>medium</td>\n",
       "      <td>2</td>\n",
       "      <td>no</td>\n",
       "      <td>no</td>\n",
       "      <td>5</td>\n",
       "      <td>28800</td>\n",
       "      <td>0.79</td>\n",
       "    </tr>\n",
       "    <tr>\n",
       "      <th>1</th>\n",
       "      <td>686555</td>\n",
       "      <td>hr</td>\n",
       "      <td>junior</td>\n",
       "      <td>medium</td>\n",
       "      <td>1</td>\n",
       "      <td>no</td>\n",
       "      <td>no</td>\n",
       "      <td>4</td>\n",
       "      <td>30000</td>\n",
       "      <td>0.72</td>\n",
       "    </tr>\n",
       "    <tr>\n",
       "      <th>2</th>\n",
       "      <td>467458</td>\n",
       "      <td>sales</td>\n",
       "      <td>middle</td>\n",
       "      <td>low</td>\n",
       "      <td>5</td>\n",
       "      <td>no</td>\n",
       "      <td>no</td>\n",
       "      <td>4</td>\n",
       "      <td>19200</td>\n",
       "      <td>0.64</td>\n",
       "    </tr>\n",
       "    <tr>\n",
       "      <th>3</th>\n",
       "      <td>418655</td>\n",
       "      <td>sales</td>\n",
       "      <td>middle</td>\n",
       "      <td>low</td>\n",
       "      <td>6</td>\n",
       "      <td>no</td>\n",
       "      <td>no</td>\n",
       "      <td>4</td>\n",
       "      <td>19200</td>\n",
       "      <td>0.60</td>\n",
       "    </tr>\n",
       "    <tr>\n",
       "      <th>4</th>\n",
       "      <td>789145</td>\n",
       "      <td>hr</td>\n",
       "      <td>middle</td>\n",
       "      <td>medium</td>\n",
       "      <td>5</td>\n",
       "      <td>no</td>\n",
       "      <td>no</td>\n",
       "      <td>5</td>\n",
       "      <td>40800</td>\n",
       "      <td>0.75</td>\n",
       "    </tr>\n",
       "  </tbody>\n",
       "</table>\n",
       "</div>"
      ],
      "text/plain": [
       "       id       dept   level workload  employment_years last_year_promo  \\\n",
       "0  485046  marketing  junior   medium                 2              no   \n",
       "1  686555         hr  junior   medium                 1              no   \n",
       "2  467458      sales  middle      low                 5              no   \n",
       "3  418655      sales  middle      low                 6              no   \n",
       "4  789145         hr  middle   medium                 5              no   \n",
       "\n",
       "  last_year_violations  supervisor_evaluation  salary  job_satisfaction_rate  \n",
       "0                   no                      5   28800                   0.79  \n",
       "1                   no                      4   30000                   0.72  \n",
       "2                   no                      4   19200                   0.64  \n",
       "3                   no                      4   19200                   0.60  \n",
       "4                   no                      5   40800                   0.75  "
      ]
     },
     "execution_count": 62,
     "metadata": {},
     "output_type": "execute_result"
    }
   ],
   "source": [
    "test_features=test_features.merge(test_target,on='id')\n",
    "test_features.head()"
   ]
  },
  {
   "cell_type": "code",
   "execution_count": 63,
   "id": "68828a82",
   "metadata": {},
   "outputs": [
    {
     "data": {
      "text/plain": [
       "13.594886217309902"
      ]
     },
     "execution_count": 63,
     "metadata": {},
     "output_type": "execute_result"
    }
   ],
   "source": [
    "test_features=test_features[test_features['dept']!=' ']\n",
    "y_true=test_features['job_satisfaction_rate']\n",
    "X_test=test_features.drop(columns=['id','job_satisfaction_rate'])\n",
    "y_pred = random.predict(X_test)\n",
    "Smape(y_true,y_pred)"
   ]
  },
  {
   "cell_type": "markdown",
   "id": "b9beff37",
   "metadata": {},
   "source": [
    "Также необходимо проверить лучшую модель на \"адекватность\", сравнив качество её предсказаний с качеством модели, которая предсказывала бы константу."
   ]
  },
  {
   "cell_type": "code",
   "execution_count": 64,
   "id": "5ca8fab9",
   "metadata": {},
   "outputs": [
    {
     "data": {
      "text/plain": [
       "38.22950345322774"
      ]
     },
     "execution_count": 64,
     "metadata": {},
     "output_type": "execute_result"
    }
   ],
   "source": [
    "dummy_regr = DummyRegressor(strategy=\"mean\")\n",
    "X=pipe_final.named_steps['preprocessor'].fit_transform(X_train)\n",
    "dummy_regr.fit(X, y_train)\n",
    "y_dummy=dummy_regr.predict(X_test)\n",
    "Smape(y_true,y_dummy)"
   ]
  },
  {
   "cell_type": "markdown",
   "id": "b9932e7b",
   "metadata": {},
   "source": [
    "Можно заметить, что дамми модель справляется с задачей гораздо хуже, значит с нашей моделью все хорошо"
   ]
  },
  {
   "cell_type": "markdown",
   "id": "29babf66",
   "metadata": {},
   "source": [
    "Метрика Smape<15 достигнута благодаря модели DecisionTreeRegressor(min_samples_leaf=3, min_samples_split=3,random_state=42). Скорее всего, эта модель справилась лучше благодаря тому, что входные признаки имеют сильную корреляцию с целевым, поэтому, когда происходит деление на два листа, модели легче подобрать вероятность(например, если оценка сотрудника руководителем>3, вероятность сильно повысится)"
   ]
  },
  {
   "cell_type": "markdown",
   "id": "032fbdbf",
   "metadata": {},
   "source": [
    "# Задача 2"
   ]
  },
  {
   "cell_type": "markdown",
   "id": "8170754c",
   "metadata": {},
   "source": [
    "## Загрузка данных"
   ]
  },
  {
   "cell_type": "code",
   "execution_count": 65,
   "id": "cb741a38",
   "metadata": {},
   "outputs": [
    {
     "data": {
      "text/html": [
       "<div>\n",
       "<style scoped>\n",
       "    .dataframe tbody tr th:only-of-type {\n",
       "        vertical-align: middle;\n",
       "    }\n",
       "\n",
       "    .dataframe tbody tr th {\n",
       "        vertical-align: top;\n",
       "    }\n",
       "\n",
       "    .dataframe thead th {\n",
       "        text-align: right;\n",
       "    }\n",
       "</style>\n",
       "<table border=\"1\" class=\"dataframe\">\n",
       "  <thead>\n",
       "    <tr style=\"text-align: right;\">\n",
       "      <th></th>\n",
       "      <th>id</th>\n",
       "      <th>dept</th>\n",
       "      <th>level</th>\n",
       "      <th>workload</th>\n",
       "      <th>employment_years</th>\n",
       "      <th>last_year_promo</th>\n",
       "      <th>last_year_violations</th>\n",
       "      <th>supervisor_evaluation</th>\n",
       "      <th>salary</th>\n",
       "      <th>quit</th>\n",
       "    </tr>\n",
       "  </thead>\n",
       "  <tbody>\n",
       "    <tr>\n",
       "      <th>0</th>\n",
       "      <td>723290</td>\n",
       "      <td>sales</td>\n",
       "      <td>middle</td>\n",
       "      <td>high</td>\n",
       "      <td>2</td>\n",
       "      <td>no</td>\n",
       "      <td>no</td>\n",
       "      <td>4</td>\n",
       "      <td>54000</td>\n",
       "      <td>no</td>\n",
       "    </tr>\n",
       "    <tr>\n",
       "      <th>1</th>\n",
       "      <td>814010</td>\n",
       "      <td>sales</td>\n",
       "      <td>junior</td>\n",
       "      <td>medium</td>\n",
       "      <td>2</td>\n",
       "      <td>no</td>\n",
       "      <td>no</td>\n",
       "      <td>4</td>\n",
       "      <td>27600</td>\n",
       "      <td>no</td>\n",
       "    </tr>\n",
       "    <tr>\n",
       "      <th>2</th>\n",
       "      <td>155091</td>\n",
       "      <td>purchasing</td>\n",
       "      <td>middle</td>\n",
       "      <td>medium</td>\n",
       "      <td>5</td>\n",
       "      <td>no</td>\n",
       "      <td>no</td>\n",
       "      <td>1</td>\n",
       "      <td>37200</td>\n",
       "      <td>no</td>\n",
       "    </tr>\n",
       "    <tr>\n",
       "      <th>3</th>\n",
       "      <td>257132</td>\n",
       "      <td>sales</td>\n",
       "      <td>junior</td>\n",
       "      <td>medium</td>\n",
       "      <td>2</td>\n",
       "      <td>no</td>\n",
       "      <td>yes</td>\n",
       "      <td>3</td>\n",
       "      <td>24000</td>\n",
       "      <td>yes</td>\n",
       "    </tr>\n",
       "    <tr>\n",
       "      <th>4</th>\n",
       "      <td>910140</td>\n",
       "      <td>marketing</td>\n",
       "      <td>junior</td>\n",
       "      <td>medium</td>\n",
       "      <td>2</td>\n",
       "      <td>no</td>\n",
       "      <td>no</td>\n",
       "      <td>5</td>\n",
       "      <td>25200</td>\n",
       "      <td>no</td>\n",
       "    </tr>\n",
       "    <tr>\n",
       "      <th>...</th>\n",
       "      <td>...</td>\n",
       "      <td>...</td>\n",
       "      <td>...</td>\n",
       "      <td>...</td>\n",
       "      <td>...</td>\n",
       "      <td>...</td>\n",
       "      <td>...</td>\n",
       "      <td>...</td>\n",
       "      <td>...</td>\n",
       "      <td>...</td>\n",
       "    </tr>\n",
       "    <tr>\n",
       "      <th>3995</th>\n",
       "      <td>588809</td>\n",
       "      <td>sales</td>\n",
       "      <td>junior</td>\n",
       "      <td>medium</td>\n",
       "      <td>4</td>\n",
       "      <td>no</td>\n",
       "      <td>no</td>\n",
       "      <td>3</td>\n",
       "      <td>26400</td>\n",
       "      <td>no</td>\n",
       "    </tr>\n",
       "    <tr>\n",
       "      <th>3996</th>\n",
       "      <td>672059</td>\n",
       "      <td>sales</td>\n",
       "      <td>middle</td>\n",
       "      <td>high</td>\n",
       "      <td>9</td>\n",
       "      <td>no</td>\n",
       "      <td>no</td>\n",
       "      <td>4</td>\n",
       "      <td>52800</td>\n",
       "      <td>no</td>\n",
       "    </tr>\n",
       "    <tr>\n",
       "      <th>3997</th>\n",
       "      <td>536432</td>\n",
       "      <td>purchasing</td>\n",
       "      <td>junior</td>\n",
       "      <td>low</td>\n",
       "      <td>2</td>\n",
       "      <td>no</td>\n",
       "      <td>yes</td>\n",
       "      <td>4</td>\n",
       "      <td>12000</td>\n",
       "      <td>yes</td>\n",
       "    </tr>\n",
       "    <tr>\n",
       "      <th>3998</th>\n",
       "      <td>692133</td>\n",
       "      <td>purchasing</td>\n",
       "      <td>middle</td>\n",
       "      <td>medium</td>\n",
       "      <td>2</td>\n",
       "      <td>no</td>\n",
       "      <td>no</td>\n",
       "      <td>4</td>\n",
       "      <td>33600</td>\n",
       "      <td>no</td>\n",
       "    </tr>\n",
       "    <tr>\n",
       "      <th>3999</th>\n",
       "      <td>853842</td>\n",
       "      <td>sales</td>\n",
       "      <td>junior</td>\n",
       "      <td>medium</td>\n",
       "      <td>2</td>\n",
       "      <td>no</td>\n",
       "      <td>no</td>\n",
       "      <td>3</td>\n",
       "      <td>27600</td>\n",
       "      <td>yes</td>\n",
       "    </tr>\n",
       "  </tbody>\n",
       "</table>\n",
       "<p>4000 rows × 10 columns</p>\n",
       "</div>"
      ],
      "text/plain": [
       "          id        dept   level workload  employment_years last_year_promo  \\\n",
       "0     723290       sales  middle     high                 2              no   \n",
       "1     814010       sales  junior   medium                 2              no   \n",
       "2     155091  purchasing  middle   medium                 5              no   \n",
       "3     257132       sales  junior   medium                 2              no   \n",
       "4     910140   marketing  junior   medium                 2              no   \n",
       "...      ...         ...     ...      ...               ...             ...   \n",
       "3995  588809       sales  junior   medium                 4              no   \n",
       "3996  672059       sales  middle     high                 9              no   \n",
       "3997  536432  purchasing  junior      low                 2              no   \n",
       "3998  692133  purchasing  middle   medium                 2              no   \n",
       "3999  853842       sales  junior   medium                 2              no   \n",
       "\n",
       "     last_year_violations  supervisor_evaluation  salary quit  \n",
       "0                      no                      4   54000   no  \n",
       "1                      no                      4   27600   no  \n",
       "2                      no                      1   37200   no  \n",
       "3                     yes                      3   24000  yes  \n",
       "4                      no                      5   25200   no  \n",
       "...                   ...                    ...     ...  ...  \n",
       "3995                   no                      3   26400   no  \n",
       "3996                   no                      4   52800   no  \n",
       "3997                  yes                      4   12000  yes  \n",
       "3998                   no                      4   33600   no  \n",
       "3999                   no                      3   27600  yes  \n",
       "\n",
       "[4000 rows x 10 columns]"
      ]
     },
     "metadata": {},
     "output_type": "display_data"
    },
    {
     "name": "stdout",
     "output_type": "stream",
     "text": [
      "<class 'pandas.core.frame.DataFrame'>\n",
      "RangeIndex: 4000 entries, 0 to 3999\n",
      "Data columns (total 10 columns):\n",
      " #   Column                 Non-Null Count  Dtype \n",
      "---  ------                 --------------  ----- \n",
      " 0   id                     4000 non-null   int64 \n",
      " 1   dept                   4000 non-null   object\n",
      " 2   level                  4000 non-null   object\n",
      " 3   workload               4000 non-null   object\n",
      " 4   employment_years       4000 non-null   int64 \n",
      " 5   last_year_promo        4000 non-null   object\n",
      " 6   last_year_violations   4000 non-null   object\n",
      " 7   supervisor_evaluation  4000 non-null   int64 \n",
      " 8   salary                 4000 non-null   int64 \n",
      " 9   quit                   4000 non-null   object\n",
      "dtypes: int64(4), object(6)\n",
      "memory usage: 312.6+ KB\n"
     ]
    }
   ],
   "source": [
    "train_quit=pd.read_csv('train_quit.csv')\n",
    "display(train_quit)\n",
    "train_quit.info()"
   ]
  },
  {
   "cell_type": "code",
   "execution_count": 66,
   "id": "da554217",
   "metadata": {},
   "outputs": [
    {
     "data": {
      "text/html": [
       "<div>\n",
       "<style scoped>\n",
       "    .dataframe tbody tr th:only-of-type {\n",
       "        vertical-align: middle;\n",
       "    }\n",
       "\n",
       "    .dataframe tbody tr th {\n",
       "        vertical-align: top;\n",
       "    }\n",
       "\n",
       "    .dataframe thead th {\n",
       "        text-align: right;\n",
       "    }\n",
       "</style>\n",
       "<table border=\"1\" class=\"dataframe\">\n",
       "  <thead>\n",
       "    <tr style=\"text-align: right;\">\n",
       "      <th></th>\n",
       "      <th>id</th>\n",
       "      <th>quit</th>\n",
       "    </tr>\n",
       "  </thead>\n",
       "  <tbody>\n",
       "    <tr>\n",
       "      <th>0</th>\n",
       "      <td>999029</td>\n",
       "      <td>yes</td>\n",
       "    </tr>\n",
       "    <tr>\n",
       "      <th>1</th>\n",
       "      <td>372846</td>\n",
       "      <td>no</td>\n",
       "    </tr>\n",
       "    <tr>\n",
       "      <th>2</th>\n",
       "      <td>726767</td>\n",
       "      <td>no</td>\n",
       "    </tr>\n",
       "    <tr>\n",
       "      <th>3</th>\n",
       "      <td>490105</td>\n",
       "      <td>no</td>\n",
       "    </tr>\n",
       "    <tr>\n",
       "      <th>4</th>\n",
       "      <td>416898</td>\n",
       "      <td>yes</td>\n",
       "    </tr>\n",
       "    <tr>\n",
       "      <th>...</th>\n",
       "      <td>...</td>\n",
       "      <td>...</td>\n",
       "    </tr>\n",
       "    <tr>\n",
       "      <th>1995</th>\n",
       "      <td>836109</td>\n",
       "      <td>yes</td>\n",
       "    </tr>\n",
       "    <tr>\n",
       "      <th>1996</th>\n",
       "      <td>180999</td>\n",
       "      <td>yes</td>\n",
       "    </tr>\n",
       "    <tr>\n",
       "      <th>1997</th>\n",
       "      <td>746018</td>\n",
       "      <td>no</td>\n",
       "    </tr>\n",
       "    <tr>\n",
       "      <th>1998</th>\n",
       "      <td>247658</td>\n",
       "      <td>no</td>\n",
       "    </tr>\n",
       "    <tr>\n",
       "      <th>1999</th>\n",
       "      <td>460332</td>\n",
       "      <td>yes</td>\n",
       "    </tr>\n",
       "  </tbody>\n",
       "</table>\n",
       "<p>2000 rows × 2 columns</p>\n",
       "</div>"
      ],
      "text/plain": [
       "          id quit\n",
       "0     999029  yes\n",
       "1     372846   no\n",
       "2     726767   no\n",
       "3     490105   no\n",
       "4     416898  yes\n",
       "...      ...  ...\n",
       "1995  836109  yes\n",
       "1996  180999  yes\n",
       "1997  746018   no\n",
       "1998  247658   no\n",
       "1999  460332  yes\n",
       "\n",
       "[2000 rows x 2 columns]"
      ]
     },
     "metadata": {},
     "output_type": "display_data"
    },
    {
     "name": "stdout",
     "output_type": "stream",
     "text": [
      "<class 'pandas.core.frame.DataFrame'>\n",
      "RangeIndex: 2000 entries, 0 to 1999\n",
      "Data columns (total 2 columns):\n",
      " #   Column  Non-Null Count  Dtype \n",
      "---  ------  --------------  ----- \n",
      " 0   id      2000 non-null   int64 \n",
      " 1   quit    2000 non-null   object\n",
      "dtypes: int64(1), object(1)\n",
      "memory usage: 31.4+ KB\n"
     ]
    }
   ],
   "source": [
    "test_target_quit=pd.read_csv('test_target_quit.csv')\n",
    "display(test_target_quit)\n",
    "test_target_quit.info()"
   ]
  },
  {
   "cell_type": "markdown",
   "id": "c4cb1f24",
   "metadata": {},
   "source": [
    "## Предобработка данных"
   ]
  },
  {
   "cell_type": "markdown",
   "id": "461857a0",
   "metadata": {},
   "source": [
    "Проверю данные на наличие дубликатов и пропусков"
   ]
  },
  {
   "cell_type": "code",
   "execution_count": 67,
   "id": "a907f639",
   "metadata": {},
   "outputs": [
    {
     "name": "stdout",
     "output_type": "stream",
     "text": [
      "0\n",
      "0\n"
     ]
    }
   ],
   "source": [
    "print(train_quit.duplicated().sum())\n",
    "print(test_target_quit.duplicated().sum())"
   ]
  },
  {
   "cell_type": "code",
   "execution_count": 68,
   "id": "426004c1",
   "metadata": {},
   "outputs": [
    {
     "name": "stdout",
     "output_type": "stream",
     "text": [
      "0\n",
      "0\n"
     ]
    }
   ],
   "source": [
    "print(train_quit.duplicated().sum())\n",
    "print(test_target_quit.duplicated().sum())"
   ]
  },
  {
   "cell_type": "markdown",
   "id": "f09b040b",
   "metadata": {},
   "source": [
    "## Исследовательский анализ данных"
   ]
  },
  {
   "cell_type": "code",
   "execution_count": 69,
   "id": "96173ed0",
   "metadata": {},
   "outputs": [
    {
     "data": {
      "image/png": "[encoded data removed]",
      "text/plain": [
       "<Figure size 1440x720 with 6 Axes>"
      ]
     },
     "metadata": {
      "needs_background": "light"
     },
     "output_type": "display_data"
    }
   ],
   "source": [
    "def graph(data,x,axes,hue):\n",
    "    sns.histplot(ax=axes,data=data,x=x,hue=hue,stat='density', common_norm=False)\n",
    "fig,axes=plt.subplots(2,3,figsize=(20,10))\n",
    "axes=axes.flatten()\n",
    "cols=['dept','level','workload','last_year_promo','last_year_violations','salary']\n",
    "for i, feature in enumerate(cols):\n",
    "    graph(train_quit,train_quit[feature],axes[i],train_quit['quit'])\n",
    "    axes[i].set_title(feature,fontsize=20)\n",
    "plt.show()"
   ]
  },
  {
   "cell_type": "code",
   "execution_count": 70,
   "id": "5e3a8c59",
   "metadata": {},
   "outputs": [
    {
     "data": {
      "image/png": "[encoded data removed]",
      "text/plain": [
       "<Figure size 1080x360 with 1 Axes>"
      ]
     },
     "metadata": {
      "needs_background": "light"
     },
     "output_type": "display_data"
    },
    {
     "data": {
      "image/png": "[encoded data removed]",
      "text/plain": [
       "<Figure size 1080x360 with 1 Axes>"
      ]
     },
     "metadata": {
      "needs_background": "light"
     },
     "output_type": "display_data"
    }
   ],
   "source": [
    "plt.figure(figsize=(15,5))\n",
    "plt.title('supervisor_evaluation')\n",
    "sns.countplot(data=train_quit,x='supervisor_evaluation',hue='quit')\n",
    "plt.xlabel('score')\n",
    "plt.show()\n",
    "plt.figure(figsize=(15,5))\n",
    "plt.title('employment_years')\n",
    "sns.countplot(data=train_quit,x='employment_years',hue='quit')\n",
    "plt.xlabel('years')\n",
    "plt.show()"
   ]
  },
  {
   "cell_type": "markdown",
   "id": "50c1f265",
   "metadata": {},
   "source": [
    "Большинство уволенных сотрудников работало в департаменте продаж или технологий. Также почти все уволенные- это джуны, у которых не получилось развиться до уровня повыше. \"Типичный уволенный сотрудник\" имеет среднюю или низкую загруженность, что говорит о том, что загруженность зачастую- не проблема для сотрудников. Подавляющее большинство уволенных проработало в компании всего год, что неудивительно, ведь тяжело уходить с места, где давно работаешь+ компания вряд ли будет увольнять проверенных временем людей. Повышения из уволенных не было ни у кого, что тоже логично, иначе зачем увольняться. Можно заметить, что в процентном соотношении уволенные гораздо чаще нарушали трудовой договор, а руководитель оценивал их на 3-4. Зарплата уволенных также значительно ниже, чем действующих сотрудников.\n"
   ]
  },
  {
   "cell_type": "code",
   "execution_count": 71,
   "id": "57faf749",
   "metadata": {},
   "outputs": [
    {
     "data": {
      "image/png": "[encoded data removed]",
      "text/plain": [
       "<Figure size 1080x360 with 1 Axes>"
      ]
     },
     "metadata": {
      "needs_background": "light"
     },
     "output_type": "display_data"
    },
    {
     "data": {
      "image/png": "[encoded data removed]",
      "text/plain": [
       "<Figure size 1080x360 with 1 Axes>"
      ]
     },
     "metadata": {
      "needs_background": "light"
     },
     "output_type": "display_data"
    }
   ],
   "source": [
    "plt.figure(figsize=(15,5))\n",
    "sns.boxplot(x=train_quit['quit'], y=train_quit['employment_years'])\n",
    "plt.title('employment_years')\n",
    "plt.show()\n",
    "plt.figure(figsize=(15,5))\n",
    "sns.boxplot(x=train_quit['quit'], y=train_quit['salary'])\n",
    "plt.title('salary')\n",
    "plt.show()"
   ]
  },
  {
   "cell_type": "markdown",
   "id": "d34152a5",
   "metadata": {},
   "source": [
    "Теперь проверю распределение признака 'job_satisfaction_rate' для ушедших и оставшихся сотрудников"
   ]
  },
  {
   "cell_type": "markdown",
   "id": "8e0e01ac",
   "metadata": {},
   "source": [
    "## Добавление нового признака"
   ]
  },
  {
   "cell_type": "code",
   "execution_count": 72,
   "id": "ff3e48f6",
   "metadata": {},
   "outputs": [
    {
     "data": {
      "text/html": [
       "<div>\n",
       "<style scoped>\n",
       "    .dataframe tbody tr th:only-of-type {\n",
       "        vertical-align: middle;\n",
       "    }\n",
       "\n",
       "    .dataframe tbody tr th {\n",
       "        vertical-align: top;\n",
       "    }\n",
       "\n",
       "    .dataframe thead th {\n",
       "        text-align: right;\n",
       "    }\n",
       "</style>\n",
       "<table border=\"1\" class=\"dataframe\">\n",
       "  <thead>\n",
       "    <tr style=\"text-align: right;\">\n",
       "      <th></th>\n",
       "      <th>dept</th>\n",
       "      <th>level</th>\n",
       "      <th>workload</th>\n",
       "      <th>employment_years</th>\n",
       "      <th>last_year_promo</th>\n",
       "      <th>last_year_violations</th>\n",
       "      <th>supervisor_evaluation</th>\n",
       "      <th>salary</th>\n",
       "      <th>job_satisfaction_rate</th>\n",
       "      <th>quit</th>\n",
       "    </tr>\n",
       "  </thead>\n",
       "  <tbody>\n",
       "    <tr>\n",
       "      <th>0</th>\n",
       "      <td>sales</td>\n",
       "      <td>middle</td>\n",
       "      <td>high</td>\n",
       "      <td>2</td>\n",
       "      <td>no</td>\n",
       "      <td>no</td>\n",
       "      <td>4</td>\n",
       "      <td>54000</td>\n",
       "      <td>0.606667</td>\n",
       "      <td>no</td>\n",
       "    </tr>\n",
       "    <tr>\n",
       "      <th>1</th>\n",
       "      <td>sales</td>\n",
       "      <td>junior</td>\n",
       "      <td>medium</td>\n",
       "      <td>2</td>\n",
       "      <td>no</td>\n",
       "      <td>no</td>\n",
       "      <td>4</td>\n",
       "      <td>27600</td>\n",
       "      <td>0.821905</td>\n",
       "      <td>no</td>\n",
       "    </tr>\n",
       "    <tr>\n",
       "      <th>2</th>\n",
       "      <td>purchasing</td>\n",
       "      <td>middle</td>\n",
       "      <td>medium</td>\n",
       "      <td>5</td>\n",
       "      <td>no</td>\n",
       "      <td>no</td>\n",
       "      <td>1</td>\n",
       "      <td>37200</td>\n",
       "      <td>0.337500</td>\n",
       "      <td>no</td>\n",
       "    </tr>\n",
       "    <tr>\n",
       "      <th>3</th>\n",
       "      <td>sales</td>\n",
       "      <td>junior</td>\n",
       "      <td>medium</td>\n",
       "      <td>2</td>\n",
       "      <td>no</td>\n",
       "      <td>yes</td>\n",
       "      <td>3</td>\n",
       "      <td>24000</td>\n",
       "      <td>0.350000</td>\n",
       "      <td>yes</td>\n",
       "    </tr>\n",
       "    <tr>\n",
       "      <th>4</th>\n",
       "      <td>marketing</td>\n",
       "      <td>junior</td>\n",
       "      <td>medium</td>\n",
       "      <td>2</td>\n",
       "      <td>no</td>\n",
       "      <td>no</td>\n",
       "      <td>5</td>\n",
       "      <td>25200</td>\n",
       "      <td>0.812500</td>\n",
       "      <td>no</td>\n",
       "    </tr>\n",
       "    <tr>\n",
       "      <th>...</th>\n",
       "      <td>...</td>\n",
       "      <td>...</td>\n",
       "      <td>...</td>\n",
       "      <td>...</td>\n",
       "      <td>...</td>\n",
       "      <td>...</td>\n",
       "      <td>...</td>\n",
       "      <td>...</td>\n",
       "      <td>...</td>\n",
       "      <td>...</td>\n",
       "    </tr>\n",
       "    <tr>\n",
       "      <th>3995</th>\n",
       "      <td>sales</td>\n",
       "      <td>junior</td>\n",
       "      <td>medium</td>\n",
       "      <td>4</td>\n",
       "      <td>no</td>\n",
       "      <td>no</td>\n",
       "      <td>3</td>\n",
       "      <td>26400</td>\n",
       "      <td>0.528571</td>\n",
       "      <td>no</td>\n",
       "    </tr>\n",
       "    <tr>\n",
       "      <th>3996</th>\n",
       "      <td>sales</td>\n",
       "      <td>middle</td>\n",
       "      <td>high</td>\n",
       "      <td>9</td>\n",
       "      <td>no</td>\n",
       "      <td>no</td>\n",
       "      <td>4</td>\n",
       "      <td>52800</td>\n",
       "      <td>0.836000</td>\n",
       "      <td>no</td>\n",
       "    </tr>\n",
       "    <tr>\n",
       "      <th>3997</th>\n",
       "      <td>purchasing</td>\n",
       "      <td>junior</td>\n",
       "      <td>low</td>\n",
       "      <td>2</td>\n",
       "      <td>no</td>\n",
       "      <td>yes</td>\n",
       "      <td>4</td>\n",
       "      <td>12000</td>\n",
       "      <td>0.517500</td>\n",
       "      <td>yes</td>\n",
       "    </tr>\n",
       "    <tr>\n",
       "      <th>3998</th>\n",
       "      <td>purchasing</td>\n",
       "      <td>middle</td>\n",
       "      <td>medium</td>\n",
       "      <td>2</td>\n",
       "      <td>no</td>\n",
       "      <td>no</td>\n",
       "      <td>4</td>\n",
       "      <td>33600</td>\n",
       "      <td>0.553333</td>\n",
       "      <td>no</td>\n",
       "    </tr>\n",
       "    <tr>\n",
       "      <th>3999</th>\n",
       "      <td>sales</td>\n",
       "      <td>junior</td>\n",
       "      <td>medium</td>\n",
       "      <td>2</td>\n",
       "      <td>no</td>\n",
       "      <td>no</td>\n",
       "      <td>3</td>\n",
       "      <td>27600</td>\n",
       "      <td>0.530000</td>\n",
       "      <td>yes</td>\n",
       "    </tr>\n",
       "  </tbody>\n",
       "</table>\n",
       "<p>4000 rows × 10 columns</p>\n",
       "</div>"
      ],
      "text/plain": [
       "            dept   level workload  employment_years last_year_promo  \\\n",
       "0          sales  middle     high                 2              no   \n",
       "1          sales  junior   medium                 2              no   \n",
       "2     purchasing  middle   medium                 5              no   \n",
       "3          sales  junior   medium                 2              no   \n",
       "4      marketing  junior   medium                 2              no   \n",
       "...          ...     ...      ...               ...             ...   \n",
       "3995       sales  junior   medium                 4              no   \n",
       "3996       sales  middle     high                 9              no   \n",
       "3997  purchasing  junior      low                 2              no   \n",
       "3998  purchasing  middle   medium                 2              no   \n",
       "3999       sales  junior   medium                 2              no   \n",
       "\n",
       "     last_year_violations  supervisor_evaluation  salary  \\\n",
       "0                      no                      4   54000   \n",
       "1                      no                      4   27600   \n",
       "2                      no                      1   37200   \n",
       "3                     yes                      3   24000   \n",
       "4                      no                      5   25200   \n",
       "...                   ...                    ...     ...   \n",
       "3995                   no                      3   26400   \n",
       "3996                   no                      4   52800   \n",
       "3997                  yes                      4   12000   \n",
       "3998                   no                      4   33600   \n",
       "3999                   no                      3   27600   \n",
       "\n",
       "      job_satisfaction_rate quit  \n",
       "0                  0.606667   no  \n",
       "1                  0.821905   no  \n",
       "2                  0.337500   no  \n",
       "3                  0.350000  yes  \n",
       "4                  0.812500   no  \n",
       "...                     ...  ...  \n",
       "3995               0.528571   no  \n",
       "3996               0.836000   no  \n",
       "3997               0.517500  yes  \n",
       "3998               0.553333   no  \n",
       "3999               0.530000  yes  \n",
       "\n",
       "[4000 rows x 10 columns]"
      ]
     },
     "execution_count": 72,
     "metadata": {},
     "output_type": "execute_result"
    }
   ],
   "source": [
    "y_quit=train_quit['quit']\n",
    "quit=train_quit.drop(columns=['id','quit'])\n",
    "train_quit_predict=random.predict(quit)\n",
    "quit['job_satisfaction_rate']=train_quit_predict\n",
    "quit['quit']=y_quit\n",
    "quit"
   ]
  },
  {
   "cell_type": "code",
   "execution_count": 73,
   "id": "8208d3b8",
   "metadata": {
    "scrolled": true
   },
   "outputs": [
    {
     "data": {
      "image/png": "[encoded data removed]",
      "text/plain": [
       "<Figure size 1440x720 with 2 Axes>"
      ]
     },
     "metadata": {
      "needs_background": "light"
     },
     "output_type": "display_data"
    }
   ],
   "source": [
    "fig,axes=plt.subplots(1,2,figsize=(20,10))\n",
    "axes=axes.flatten()\n",
    "graph(quit,quit['job_satisfaction_rate'],axes[0],quit['quit'])\n",
    "axes[0].set_title('job_satisfaction_rate')\n",
    "sns.boxplot(x=quit['quit'], y=quit['job_satisfaction_rate'],ax=axes[1])\n",
    "axes[1].set_title('job_satisfaction_rate')\n",
    "plt.show()"
   ]
  },
  {
   "cell_type": "markdown",
   "id": "a90fc78a",
   "metadata": {},
   "source": [
    "Судя по графикам, удовлетворенность работой действительно влияет на желание уволиться: средняя удовлетворенность у действующих сотрудников=65%, в то время как у уволившихся-35%."
   ]
  },
  {
   "cell_type": "markdown",
   "id": "acfcd725",
   "metadata": {},
   "source": [
    "## Корелляционный анализ данных"
   ]
  },
  {
   "cell_type": "markdown",
   "id": "858276b6",
   "metadata": {},
   "source": [
    "Проанализирую корреляцию между признаками."
   ]
  },
  {
   "cell_type": "code",
   "execution_count": 74,
   "id": "f65dd2d1",
   "metadata": {},
   "outputs": [
    {
     "data": {
      "image/png": "[encoded data removed]",
      "text/plain": [
       "<Figure size 1080x1080 with 2 Axes>"
      ]
     },
     "metadata": {
      "needs_background": "light"
     },
     "output_type": "display_data"
    }
   ],
   "source": [
    "matrix2=(quit.phik_matrix(interval_cols=['salary','job_satisfaction_rate']))\n",
    "plt.figure(figsize=(15,15))\n",
    "sns.heatmap(matrix2,annot=True)\n",
    "plt.show()"
   ]
  },
  {
   "cell_type": "markdown",
   "id": "5c5f3d0b",
   "metadata": {},
   "source": [
    "Построю хитмап отдельно для каждого класса, чтобы выделить те признаки, которые оказывают влияние внутри каждого из классов таргета. Это может помочь в понимании важности определенных характеристик для принятия решения моделью."
   ]
  },
  {
   "cell_type": "code",
   "execution_count": 75,
   "id": "d59671fe",
   "metadata": {},
   "outputs": [
    {
     "name": "stderr",
     "output_type": "stream",
     "text": [
      "/opt/conda/lib/python3.9/site-packages/phik/data_quality.py:82: UserWarning: Not enough unique value for variable quit for analysis 1. Dropping this column\n",
      "  warnings.warn(\n"
     ]
    },
    {
     "data": {
      "image/png": "[encoded data removed]",
      "text/plain": [
       "<Figure size 1080x1080 with 2 Axes>"
      ]
     },
     "metadata": {
      "needs_background": "light"
     },
     "output_type": "display_data"
    }
   ],
   "source": [
    "matrix2=(quit[quit['quit']=='yes'].phik_matrix(interval_cols=['salary','job_satisfaction_rate']))\n",
    "plt.figure(figsize=(15,15))\n",
    "sns.heatmap(matrix2,annot=True,cmap='bwr')\n",
    "plt.show()"
   ]
  },
  {
   "cell_type": "code",
   "execution_count": 76,
   "id": "d283993b",
   "metadata": {},
   "outputs": [
    {
     "name": "stderr",
     "output_type": "stream",
     "text": [
      "/opt/conda/lib/python3.9/site-packages/phik/data_quality.py:82: UserWarning: Not enough unique value for variable quit for analysis 1. Dropping this column\n",
      "  warnings.warn(\n"
     ]
    },
    {
     "data": {
      "image/png": "[encoded data removed]",
      "text/plain": [
       "<Figure size 1080x1080 with 2 Axes>"
      ]
     },
     "metadata": {
      "needs_background": "light"
     },
     "output_type": "display_data"
    }
   ],
   "source": [
    "matrix2=(quit[quit['quit']=='no'].phik_matrix(interval_cols=['salary','job_satisfaction_rate']))\n",
    "plt.figure(figsize=(15,15))\n",
    "sns.heatmap(matrix2,annot=True,cmap='coolwarm')\n",
    "plt.show()"
   ]
  },
  {
   "cell_type": "markdown",
   "id": "81813b7e",
   "metadata": {},
   "source": [
    "На целевой признак сильнее всего влияет 'employment_years', также заметную корреляцию имеют salary и job_satisfaction_rate.\n",
    "\n",
    "Наблюдается также мультиколлинеарность: у признака 'job_satisfaction_rate' очень большая корреляция с 'supervisor_evaluation' и 'last_year_violations', а у признака 'salary' с 'level' и 'workload'"
   ]
  },
  {
   "cell_type": "markdown",
   "id": "a5baa2d8",
   "metadata": {},
   "source": [
    "Также замечу, что у уволившихся сотрудников признак last_year_promo не коррелирует почти ни с одним признаком, кроме employment_years, и то слабо, в то время как у действующих сотрудников этот признак связан с удовлетворенностью работой, зарплатой и уровнем сотрудника. Видимо уволившихся сотрудников соглашались повышать только после достижения определенной длительности работы в компании "
   ]
  },
  {
   "cell_type": "markdown",
   "id": "2c65644d",
   "metadata": {},
   "source": [
    "## Добавление нового входного признака"
   ]
  },
  {
   "cell_type": "markdown",
   "id": "6dda4123",
   "metadata": {},
   "source": [
    "Закодирую целевой признак"
   ]
  },
  {
   "cell_type": "code",
   "execution_count": 77,
   "id": "35f49120",
   "metadata": {},
   "outputs": [],
   "source": [
    "le=LabelEncoder()\n",
    "le.fit(['no','yes'])\n",
    "quit['quit']=le.transform(quit['quit'])"
   ]
  },
  {
   "cell_type": "code",
   "execution_count": 78,
   "id": "26bca648",
   "metadata": {},
   "outputs": [
    {
     "data": {
      "text/html": [
       "<div>\n",
       "<style scoped>\n",
       "    .dataframe tbody tr th:only-of-type {\n",
       "        vertical-align: middle;\n",
       "    }\n",
       "\n",
       "    .dataframe tbody tr th {\n",
       "        vertical-align: top;\n",
       "    }\n",
       "\n",
       "    .dataframe thead th {\n",
       "        text-align: right;\n",
       "    }\n",
       "</style>\n",
       "<table border=\"1\" class=\"dataframe\">\n",
       "  <thead>\n",
       "    <tr style=\"text-align: right;\">\n",
       "      <th></th>\n",
       "      <th>dept</th>\n",
       "      <th>level</th>\n",
       "      <th>workload</th>\n",
       "      <th>employment_years</th>\n",
       "      <th>last_year_promo</th>\n",
       "      <th>last_year_violations</th>\n",
       "      <th>supervisor_evaluation</th>\n",
       "      <th>salary</th>\n",
       "      <th>job_satisfaction_rate</th>\n",
       "    </tr>\n",
       "  </thead>\n",
       "  <tbody>\n",
       "    <tr>\n",
       "      <th>0</th>\n",
       "      <td>sales</td>\n",
       "      <td>middle</td>\n",
       "      <td>high</td>\n",
       "      <td>2</td>\n",
       "      <td>no</td>\n",
       "      <td>no</td>\n",
       "      <td>4</td>\n",
       "      <td>54000</td>\n",
       "      <td>0.606667</td>\n",
       "    </tr>\n",
       "    <tr>\n",
       "      <th>1</th>\n",
       "      <td>sales</td>\n",
       "      <td>junior</td>\n",
       "      <td>medium</td>\n",
       "      <td>2</td>\n",
       "      <td>no</td>\n",
       "      <td>no</td>\n",
       "      <td>4</td>\n",
       "      <td>27600</td>\n",
       "      <td>0.821905</td>\n",
       "    </tr>\n",
       "    <tr>\n",
       "      <th>2</th>\n",
       "      <td>purchasing</td>\n",
       "      <td>middle</td>\n",
       "      <td>medium</td>\n",
       "      <td>5</td>\n",
       "      <td>no</td>\n",
       "      <td>no</td>\n",
       "      <td>1</td>\n",
       "      <td>37200</td>\n",
       "      <td>0.337500</td>\n",
       "    </tr>\n",
       "    <tr>\n",
       "      <th>3</th>\n",
       "      <td>sales</td>\n",
       "      <td>junior</td>\n",
       "      <td>medium</td>\n",
       "      <td>2</td>\n",
       "      <td>no</td>\n",
       "      <td>yes</td>\n",
       "      <td>3</td>\n",
       "      <td>24000</td>\n",
       "      <td>0.350000</td>\n",
       "    </tr>\n",
       "    <tr>\n",
       "      <th>4</th>\n",
       "      <td>marketing</td>\n",
       "      <td>junior</td>\n",
       "      <td>medium</td>\n",
       "      <td>2</td>\n",
       "      <td>no</td>\n",
       "      <td>no</td>\n",
       "      <td>5</td>\n",
       "      <td>25200</td>\n",
       "      <td>0.812500</td>\n",
       "    </tr>\n",
       "    <tr>\n",
       "      <th>...</th>\n",
       "      <td>...</td>\n",
       "      <td>...</td>\n",
       "      <td>...</td>\n",
       "      <td>...</td>\n",
       "      <td>...</td>\n",
       "      <td>...</td>\n",
       "      <td>...</td>\n",
       "      <td>...</td>\n",
       "      <td>...</td>\n",
       "    </tr>\n",
       "    <tr>\n",
       "      <th>3995</th>\n",
       "      <td>sales</td>\n",
       "      <td>junior</td>\n",
       "      <td>medium</td>\n",
       "      <td>4</td>\n",
       "      <td>no</td>\n",
       "      <td>no</td>\n",
       "      <td>3</td>\n",
       "      <td>26400</td>\n",
       "      <td>0.528571</td>\n",
       "    </tr>\n",
       "    <tr>\n",
       "      <th>3996</th>\n",
       "      <td>sales</td>\n",
       "      <td>middle</td>\n",
       "      <td>high</td>\n",
       "      <td>9</td>\n",
       "      <td>no</td>\n",
       "      <td>no</td>\n",
       "      <td>4</td>\n",
       "      <td>52800</td>\n",
       "      <td>0.836000</td>\n",
       "    </tr>\n",
       "    <tr>\n",
       "      <th>3997</th>\n",
       "      <td>purchasing</td>\n",
       "      <td>junior</td>\n",
       "      <td>low</td>\n",
       "      <td>2</td>\n",
       "      <td>no</td>\n",
       "      <td>yes</td>\n",
       "      <td>4</td>\n",
       "      <td>12000</td>\n",
       "      <td>0.517500</td>\n",
       "    </tr>\n",
       "    <tr>\n",
       "      <th>3998</th>\n",
       "      <td>purchasing</td>\n",
       "      <td>middle</td>\n",
       "      <td>medium</td>\n",
       "      <td>2</td>\n",
       "      <td>no</td>\n",
       "      <td>no</td>\n",
       "      <td>4</td>\n",
       "      <td>33600</td>\n",
       "      <td>0.553333</td>\n",
       "    </tr>\n",
       "    <tr>\n",
       "      <th>3999</th>\n",
       "      <td>sales</td>\n",
       "      <td>junior</td>\n",
       "      <td>medium</td>\n",
       "      <td>2</td>\n",
       "      <td>no</td>\n",
       "      <td>no</td>\n",
       "      <td>3</td>\n",
       "      <td>27600</td>\n",
       "      <td>0.530000</td>\n",
       "    </tr>\n",
       "  </tbody>\n",
       "</table>\n",
       "<p>4000 rows × 9 columns</p>\n",
       "</div>"
      ],
      "text/plain": [
       "            dept   level workload  employment_years last_year_promo  \\\n",
       "0          sales  middle     high                 2              no   \n",
       "1          sales  junior   medium                 2              no   \n",
       "2     purchasing  middle   medium                 5              no   \n",
       "3          sales  junior   medium                 2              no   \n",
       "4      marketing  junior   medium                 2              no   \n",
       "...          ...     ...      ...               ...             ...   \n",
       "3995       sales  junior   medium                 4              no   \n",
       "3996       sales  middle     high                 9              no   \n",
       "3997  purchasing  junior      low                 2              no   \n",
       "3998  purchasing  middle   medium                 2              no   \n",
       "3999       sales  junior   medium                 2              no   \n",
       "\n",
       "     last_year_violations  supervisor_evaluation  salary  \\\n",
       "0                      no                      4   54000   \n",
       "1                      no                      4   27600   \n",
       "2                      no                      1   37200   \n",
       "3                     yes                      3   24000   \n",
       "4                      no                      5   25200   \n",
       "...                   ...                    ...     ...   \n",
       "3995                   no                      3   26400   \n",
       "3996                   no                      4   52800   \n",
       "3997                  yes                      4   12000   \n",
       "3998                   no                      4   33600   \n",
       "3999                   no                      3   27600   \n",
       "\n",
       "      job_satisfaction_rate  \n",
       "0                  0.606667  \n",
       "1                  0.821905  \n",
       "2                  0.337500  \n",
       "3                  0.350000  \n",
       "4                  0.812500  \n",
       "...                     ...  \n",
       "3995               0.528571  \n",
       "3996               0.836000  \n",
       "3997               0.517500  \n",
       "3998               0.553333  \n",
       "3999               0.530000  \n",
       "\n",
       "[4000 rows x 9 columns]"
      ]
     },
     "execution_count": 78,
     "metadata": {},
     "output_type": "execute_result"
    }
   ],
   "source": [
    "y_quit=quit['quit']\n",
    "X_quit=quit.drop(columns=['quit'])\n",
    "X_quit"
   ]
  },
  {
   "cell_type": "markdown",
   "id": "00fe642d",
   "metadata": {},
   "source": [
    "## Подготовка данных и обучение модели"
   ]
  },
  {
   "cell_type": "code",
   "execution_count": 79,
   "id": "347c7b98",
   "metadata": {
    "scrolled": true
   },
   "outputs": [
    {
     "name": "stdout",
     "output_type": "stream",
     "text": [
      "Fitting 5 folds for each of 37 candidates, totalling 185 fits\n",
      "[CV 1/5] END models=DecisionTreeClassifier(random_state=42), models__max_depth=1;, score=0.787 total time=   0.1s\n",
      "[CV 2/5] END models=DecisionTreeClassifier(random_state=42), models__max_depth=1;, score=0.762 total time=   0.1s\n",
      "[CV 3/5] END models=DecisionTreeClassifier(random_state=42), models__max_depth=1;, score=0.762 total time=   0.0s\n",
      "[CV 4/5] END models=DecisionTreeClassifier(random_state=42), models__max_depth=1;, score=0.790 total time=   0.1s\n",
      "[CV 5/5] END models=DecisionTreeClassifier(random_state=42), models__max_depth=1;, score=0.798 total time=   0.0s\n",
      "[CV 1/5] END models=DecisionTreeClassifier(random_state=42), models__max_depth=2;, score=0.877 total time=   0.0s\n",
      "[CV 2/5] END models=DecisionTreeClassifier(random_state=42), models__max_depth=2;, score=0.874 total time=   0.1s\n",
      "[CV 3/5] END models=DecisionTreeClassifier(random_state=42), models__max_depth=2;, score=0.872 total time=   0.0s\n",
      "[CV 4/5] END models=DecisionTreeClassifier(random_state=42), models__max_depth=2;, score=0.885 total time=   0.1s\n",
      "[CV 5/5] END models=DecisionTreeClassifier(random_state=42), models__max_depth=2;, score=0.900 total time=   0.1s\n",
      "[CV 1/5] END models=DecisionTreeClassifier(random_state=42), models__max_depth=3;, score=0.910 total time=   0.1s\n",
      "[CV 2/5] END models=DecisionTreeClassifier(random_state=42), models__max_depth=3;, score=0.897 total time=   0.1s\n",
      "[CV 3/5] END models=DecisionTreeClassifier(random_state=42), models__max_depth=3;, score=0.909 total time=   0.1s\n",
      "[CV 4/5] END models=DecisionTreeClassifier(random_state=42), models__max_depth=3;, score=0.904 total time=   0.1s\n",
      "[CV 5/5] END models=DecisionTreeClassifier(random_state=42), models__max_depth=3;, score=0.918 total time=   0.1s\n",
      "[CV 1/5] END models=DecisionTreeClassifier(random_state=42), models__max_depth=4;, score=0.921 total time=   0.1s\n",
      "[CV 2/5] END models=DecisionTreeClassifier(random_state=42), models__max_depth=4;, score=0.917 total time=   0.1s\n",
      "[CV 3/5] END models=DecisionTreeClassifier(random_state=42), models__max_depth=4;, score=0.929 total time=   0.1s\n",
      "[CV 4/5] END models=DecisionTreeClassifier(random_state=42), models__max_depth=4;, score=0.918 total time=   0.1s\n",
      "[CV 5/5] END models=DecisionTreeClassifier(random_state=42), models__max_depth=4;, score=0.935 total time=   0.1s\n",
      "[CV 1/5] END models=LogisticRegression(random_state=42), models__C=1, preprocessor__num=StandardScaler();, score=0.922 total time=   0.2s\n",
      "[CV 2/5] END models=LogisticRegression(random_state=42), models__C=1, preprocessor__num=StandardScaler();, score=0.906 total time=   0.3s\n",
      "[CV 3/5] END models=LogisticRegression(random_state=42), models__C=1, preprocessor__num=StandardScaler();, score=0.914 total time=   0.2s\n",
      "[CV 4/5] END models=LogisticRegression(random_state=42), models__C=1, preprocessor__num=StandardScaler();, score=0.907 total time=   0.3s\n",
      "[CV 5/5] END models=LogisticRegression(random_state=42), models__C=1, preprocessor__num=StandardScaler();, score=0.926 total time=   0.3s\n",
      "[CV 1/5] END models=LogisticRegression(random_state=42), models__C=1, preprocessor__num=MinMaxScaler();, score=0.922 total time=   0.3s\n",
      "[CV 2/5] END models=LogisticRegression(random_state=42), models__C=1, preprocessor__num=MinMaxScaler();, score=0.906 total time=   0.2s\n",
      "[CV 3/5] END models=LogisticRegression(random_state=42), models__C=1, preprocessor__num=MinMaxScaler();, score=0.913 total time=   0.4s\n",
      "[CV 4/5] END models=LogisticRegression(random_state=42), models__C=1, preprocessor__num=MinMaxScaler();, score=0.907 total time=   0.3s\n",
      "[CV 5/5] END models=LogisticRegression(random_state=42), models__C=1, preprocessor__num=MinMaxScaler();, score=0.926 total time=   0.3s\n"
     ]
    },
    {
     "name": "stderr",
     "output_type": "stream",
     "text": [
      "/opt/conda/lib/python3.9/site-packages/sklearn/linear_model/_logistic.py:465: ConvergenceWarning: lbfgs failed to converge (status=1):\n",
      "STOP: TOTAL NO. of ITERATIONS REACHED LIMIT.\n",
      "\n",
      "Increase the number of iterations (max_iter) or scale the data as shown in:\n",
      "    https://scikit-learn.org/stable/modules/preprocessing.html\n",
      "Please also refer to the documentation for alternative solver options:\n",
      "    https://scikit-learn.org/stable/modules/linear_model.html#logistic-regression\n",
      "  n_iter_i = _check_optimize_result(\n"
     ]
    },
    {
     "name": "stdout",
     "output_type": "stream",
     "text": [
      "[CV 1/5] END models=LogisticRegression(random_state=42), models__C=1, preprocessor__num=passthrough;, score=0.907 total time=   0.8s\n"
     ]
    },
    {
     "name": "stderr",
     "output_type": "stream",
     "text": [
      "/opt/conda/lib/python3.9/site-packages/sklearn/linear_model/_logistic.py:465: ConvergenceWarning: lbfgs failed to converge (status=1):\n",
      "STOP: TOTAL NO. of ITERATIONS REACHED LIMIT.\n",
      "\n",
      "Increase the number of iterations (max_iter) or scale the data as shown in:\n",
      "    https://scikit-learn.org/stable/modules/preprocessing.html\n",
      "Please also refer to the documentation for alternative solver options:\n",
      "    https://scikit-learn.org/stable/modules/linear_model.html#logistic-regression\n",
      "  n_iter_i = _check_optimize_result(\n"
     ]
    },
    {
     "name": "stdout",
     "output_type": "stream",
     "text": [
      "[CV 2/5] END models=LogisticRegression(random_state=42), models__C=1, preprocessor__num=passthrough;, score=0.897 total time=   1.0s\n"
     ]
    },
    {
     "name": "stderr",
     "output_type": "stream",
     "text": [
      "/opt/conda/lib/python3.9/site-packages/sklearn/linear_model/_logistic.py:465: ConvergenceWarning: lbfgs failed to converge (status=1):\n",
      "STOP: TOTAL NO. of ITERATIONS REACHED LIMIT.\n",
      "\n",
      "Increase the number of iterations (max_iter) or scale the data as shown in:\n",
      "    https://scikit-learn.org/stable/modules/preprocessing.html\n",
      "Please also refer to the documentation for alternative solver options:\n",
      "    https://scikit-learn.org/stable/modules/linear_model.html#logistic-regression\n",
      "  n_iter_i = _check_optimize_result(\n"
     ]
    },
    {
     "name": "stdout",
     "output_type": "stream",
     "text": [
      "[CV 3/5] END models=LogisticRegression(random_state=42), models__C=1, preprocessor__num=passthrough;, score=0.891 total time=   0.9s\n"
     ]
    },
    {
     "name": "stderr",
     "output_type": "stream",
     "text": [
      "/opt/conda/lib/python3.9/site-packages/sklearn/linear_model/_logistic.py:465: ConvergenceWarning: lbfgs failed to converge (status=1):\n",
      "STOP: TOTAL NO. of ITERATIONS REACHED LIMIT.\n",
      "\n",
      "Increase the number of iterations (max_iter) or scale the data as shown in:\n",
      "    https://scikit-learn.org/stable/modules/preprocessing.html\n",
      "Please also refer to the documentation for alternative solver options:\n",
      "    https://scikit-learn.org/stable/modules/linear_model.html#logistic-regression\n",
      "  n_iter_i = _check_optimize_result(\n"
     ]
    },
    {
     "name": "stdout",
     "output_type": "stream",
     "text": [
      "[CV 4/5] END models=LogisticRegression(random_state=42), models__C=1, preprocessor__num=passthrough;, score=0.897 total time=   0.9s\n"
     ]
    },
    {
     "name": "stderr",
     "output_type": "stream",
     "text": [
      "/opt/conda/lib/python3.9/site-packages/sklearn/linear_model/_logistic.py:465: ConvergenceWarning: lbfgs failed to converge (status=1):\n",
      "STOP: TOTAL NO. of ITERATIONS REACHED LIMIT.\n",
      "\n",
      "Increase the number of iterations (max_iter) or scale the data as shown in:\n",
      "    https://scikit-learn.org/stable/modules/preprocessing.html\n",
      "Please also refer to the documentation for alternative solver options:\n",
      "    https://scikit-learn.org/stable/modules/linear_model.html#logistic-regression\n",
      "  n_iter_i = _check_optimize_result(\n"
     ]
    },
    {
     "name": "stdout",
     "output_type": "stream",
     "text": [
      "[CV 5/5] END models=LogisticRegression(random_state=42), models__C=1, preprocessor__num=passthrough;, score=0.917 total time=   0.8s\n",
      "[CV 1/5] END models=LogisticRegression(random_state=42), models__C=2, preprocessor__num=StandardScaler();, score=0.922 total time=   0.4s\n",
      "[CV 2/5] END models=LogisticRegression(random_state=42), models__C=2, preprocessor__num=StandardScaler();, score=0.906 total time=   0.3s\n",
      "[CV 3/5] END models=LogisticRegression(random_state=42), models__C=2, preprocessor__num=StandardScaler();, score=0.914 total time=   0.3s\n",
      "[CV 4/5] END models=LogisticRegression(random_state=42), models__C=2, preprocessor__num=StandardScaler();, score=0.907 total time=   0.3s\n",
      "[CV 5/5] END models=LogisticRegression(random_state=42), models__C=2, preprocessor__num=StandardScaler();, score=0.926 total time=   0.2s\n",
      "[CV 1/5] END models=LogisticRegression(random_state=42), models__C=2, preprocessor__num=MinMaxScaler();, score=0.923 total time=   0.3s\n",
      "[CV 2/5] END models=LogisticRegression(random_state=42), models__C=2, preprocessor__num=MinMaxScaler();, score=0.906 total time=   0.3s\n",
      "[CV 3/5] END models=LogisticRegression(random_state=42), models__C=2, preprocessor__num=MinMaxScaler();, score=0.913 total time=   0.3s\n",
      "[CV 4/5] END models=LogisticRegression(random_state=42), models__C=2, preprocessor__num=MinMaxScaler();, score=0.907 total time=   0.3s\n",
      "[CV 5/5] END models=LogisticRegression(random_state=42), models__C=2, preprocessor__num=MinMaxScaler();, score=0.926 total time=   0.3s\n"
     ]
    },
    {
     "name": "stderr",
     "output_type": "stream",
     "text": [
      "/opt/conda/lib/python3.9/site-packages/sklearn/linear_model/_logistic.py:465: ConvergenceWarning: lbfgs failed to converge (status=1):\n",
      "STOP: TOTAL NO. of ITERATIONS REACHED LIMIT.\n",
      "\n",
      "Increase the number of iterations (max_iter) or scale the data as shown in:\n",
      "    https://scikit-learn.org/stable/modules/preprocessing.html\n",
      "Please also refer to the documentation for alternative solver options:\n",
      "    https://scikit-learn.org/stable/modules/linear_model.html#logistic-regression\n",
      "  n_iter_i = _check_optimize_result(\n"
     ]
    },
    {
     "name": "stdout",
     "output_type": "stream",
     "text": [
      "[CV 1/5] END models=LogisticRegression(random_state=42), models__C=2, preprocessor__num=passthrough;, score=0.907 total time=   0.8s\n"
     ]
    },
    {
     "name": "stderr",
     "output_type": "stream",
     "text": [
      "/opt/conda/lib/python3.9/site-packages/sklearn/linear_model/_logistic.py:465: ConvergenceWarning: lbfgs failed to converge (status=1):\n",
      "STOP: TOTAL NO. of ITERATIONS REACHED LIMIT.\n",
      "\n",
      "Increase the number of iterations (max_iter) or scale the data as shown in:\n",
      "    https://scikit-learn.org/stable/modules/preprocessing.html\n",
      "Please also refer to the documentation for alternative solver options:\n",
      "    https://scikit-learn.org/stable/modules/linear_model.html#logistic-regression\n",
      "  n_iter_i = _check_optimize_result(\n"
     ]
    },
    {
     "name": "stdout",
     "output_type": "stream",
     "text": [
      "[CV 2/5] END models=LogisticRegression(random_state=42), models__C=2, preprocessor__num=passthrough;, score=0.895 total time=   0.8s\n"
     ]
    },
    {
     "name": "stderr",
     "output_type": "stream",
     "text": [
      "/opt/conda/lib/python3.9/site-packages/sklearn/linear_model/_logistic.py:465: ConvergenceWarning: lbfgs failed to converge (status=1):\n",
      "STOP: TOTAL NO. of ITERATIONS REACHED LIMIT.\n",
      "\n",
      "Increase the number of iterations (max_iter) or scale the data as shown in:\n",
      "    https://scikit-learn.org/stable/modules/preprocessing.html\n",
      "Please also refer to the documentation for alternative solver options:\n",
      "    https://scikit-learn.org/stable/modules/linear_model.html#logistic-regression\n",
      "  n_iter_i = _check_optimize_result(\n"
     ]
    },
    {
     "name": "stdout",
     "output_type": "stream",
     "text": [
      "[CV 3/5] END models=LogisticRegression(random_state=42), models__C=2, preprocessor__num=passthrough;, score=0.889 total time=   0.7s\n"
     ]
    },
    {
     "name": "stderr",
     "output_type": "stream",
     "text": [
      "/opt/conda/lib/python3.9/site-packages/sklearn/linear_model/_logistic.py:465: ConvergenceWarning: lbfgs failed to converge (status=1):\n",
      "STOP: TOTAL NO. of ITERATIONS REACHED LIMIT.\n",
      "\n",
      "Increase the number of iterations (max_iter) or scale the data as shown in:\n",
      "    https://scikit-learn.org/stable/modules/preprocessing.html\n",
      "Please also refer to the documentation for alternative solver options:\n",
      "    https://scikit-learn.org/stable/modules/linear_model.html#logistic-regression\n",
      "  n_iter_i = _check_optimize_result(\n"
     ]
    },
    {
     "name": "stdout",
     "output_type": "stream",
     "text": [
      "[CV 4/5] END models=LogisticRegression(random_state=42), models__C=2, preprocessor__num=passthrough;, score=0.903 total time=   0.7s\n"
     ]
    },
    {
     "name": "stderr",
     "output_type": "stream",
     "text": [
      "/opt/conda/lib/python3.9/site-packages/sklearn/linear_model/_logistic.py:465: ConvergenceWarning: lbfgs failed to converge (status=1):\n",
      "STOP: TOTAL NO. of ITERATIONS REACHED LIMIT.\n",
      "\n",
      "Increase the number of iterations (max_iter) or scale the data as shown in:\n",
      "    https://scikit-learn.org/stable/modules/preprocessing.html\n",
      "Please also refer to the documentation for alternative solver options:\n",
      "    https://scikit-learn.org/stable/modules/linear_model.html#logistic-regression\n",
      "  n_iter_i = _check_optimize_result(\n"
     ]
    },
    {
     "name": "stdout",
     "output_type": "stream",
     "text": [
      "[CV 5/5] END models=LogisticRegression(random_state=42), models__C=2, preprocessor__num=passthrough;, score=0.917 total time=   0.8s\n",
      "[CV 1/5] END models=KNeighborsClassifier(), models__n_neighbors=1, preprocessor__num=StandardScaler();, score=0.827 total time=   0.1s\n",
      "[CV 2/5] END models=KNeighborsClassifier(), models__n_neighbors=1, preprocessor__num=StandardScaler();, score=0.838 total time=   0.1s\n",
      "[CV 3/5] END models=KNeighborsClassifier(), models__n_neighbors=1, preprocessor__num=StandardScaler();, score=0.850 total time=   0.1s\n",
      "[CV 4/5] END models=KNeighborsClassifier(), models__n_neighbors=1, preprocessor__num=StandardScaler();, score=0.821 total time=   0.1s\n",
      "[CV 5/5] END models=KNeighborsClassifier(), models__n_neighbors=1, preprocessor__num=StandardScaler();, score=0.852 total time=   0.1s\n",
      "[CV 1/5] END models=KNeighborsClassifier(), models__n_neighbors=1, preprocessor__num=MinMaxScaler();, score=0.843 total time=   0.1s\n",
      "[CV 2/5] END models=KNeighborsClassifier(), models__n_neighbors=1, preprocessor__num=MinMaxScaler();, score=0.827 total time=   0.1s\n",
      "[CV 3/5] END models=KNeighborsClassifier(), models__n_neighbors=1, preprocessor__num=MinMaxScaler();, score=0.838 total time=   0.1s\n",
      "[CV 4/5] END models=KNeighborsClassifier(), models__n_neighbors=1, preprocessor__num=MinMaxScaler();, score=0.818 total time=   0.1s\n",
      "[CV 5/5] END models=KNeighborsClassifier(), models__n_neighbors=1, preprocessor__num=MinMaxScaler();, score=0.881 total time=   0.1s\n",
      "[CV 1/5] END models=KNeighborsClassifier(), models__n_neighbors=1, preprocessor__num=passthrough;, score=0.832 total time=   0.1s\n",
      "[CV 2/5] END models=KNeighborsClassifier(), models__n_neighbors=1, preprocessor__num=passthrough;, score=0.811 total time=   0.1s\n",
      "[CV 3/5] END models=KNeighborsClassifier(), models__n_neighbors=1, preprocessor__num=passthrough;, score=0.808 total time=   0.1s\n",
      "[CV 4/5] END models=KNeighborsClassifier(), models__n_neighbors=1, preprocessor__num=passthrough;, score=0.809 total time=   0.1s\n",
      "[CV 5/5] END models=KNeighborsClassifier(), models__n_neighbors=1, preprocessor__num=passthrough;, score=0.845 total time=   0.1s\n",
      "[CV 1/5] END models=KNeighborsClassifier(), models__n_neighbors=2, preprocessor__num=StandardScaler();, score=0.880 total time=   0.1s\n",
      "[CV 2/5] END models=KNeighborsClassifier(), models__n_neighbors=2, preprocessor__num=StandardScaler();, score=0.884 total time=   0.1s\n",
      "[CV 3/5] END models=KNeighborsClassifier(), models__n_neighbors=2, preprocessor__num=StandardScaler();, score=0.890 total time=   0.1s\n",
      "[CV 4/5] END models=KNeighborsClassifier(), models__n_neighbors=2, preprocessor__num=StandardScaler();, score=0.881 total time=   0.1s\n",
      "[CV 5/5] END models=KNeighborsClassifier(), models__n_neighbors=2, preprocessor__num=StandardScaler();, score=0.908 total time=   0.1s\n",
      "[CV 1/5] END models=KNeighborsClassifier(), models__n_neighbors=2, preprocessor__num=MinMaxScaler();, score=0.881 total time=   0.1s\n",
      "[CV 2/5] END models=KNeighborsClassifier(), models__n_neighbors=2, preprocessor__num=MinMaxScaler();, score=0.901 total time=   0.1s\n",
      "[CV 3/5] END models=KNeighborsClassifier(), models__n_neighbors=2, preprocessor__num=MinMaxScaler();, score=0.891 total time=   0.1s\n",
      "[CV 4/5] END models=KNeighborsClassifier(), models__n_neighbors=2, preprocessor__num=MinMaxScaler();, score=0.886 total time=   0.1s\n",
      "[CV 5/5] END models=KNeighborsClassifier(), models__n_neighbors=2, preprocessor__num=MinMaxScaler();, score=0.913 total time=   0.1s\n",
      "[CV 1/5] END models=KNeighborsClassifier(), models__n_neighbors=2, preprocessor__num=passthrough;, score=0.870 total time=   0.1s\n",
      "[CV 2/5] END models=KNeighborsClassifier(), models__n_neighbors=2, preprocessor__num=passthrough;, score=0.892 total time=   0.1s\n",
      "[CV 3/5] END models=KNeighborsClassifier(), models__n_neighbors=2, preprocessor__num=passthrough;, score=0.871 total time=   0.1s\n",
      "[CV 4/5] END models=KNeighborsClassifier(), models__n_neighbors=2, preprocessor__num=passthrough;, score=0.873 total time=   0.1s\n",
      "[CV 5/5] END models=KNeighborsClassifier(), models__n_neighbors=2, preprocessor__num=passthrough;, score=0.898 total time=   0.1s\n",
      "[CV 1/5] END models=KNeighborsClassifier(), models__n_neighbors=3, preprocessor__num=StandardScaler();, score=0.899 total time=   0.1s\n",
      "[CV 2/5] END models=KNeighborsClassifier(), models__n_neighbors=3, preprocessor__num=StandardScaler();, score=0.896 total time=   0.1s\n",
      "[CV 3/5] END models=KNeighborsClassifier(), models__n_neighbors=3, preprocessor__num=StandardScaler();, score=0.893 total time=   0.1s\n",
      "[CV 4/5] END models=KNeighborsClassifier(), models__n_neighbors=3, preprocessor__num=StandardScaler();, score=0.904 total time=   0.1s\n",
      "[CV 5/5] END models=KNeighborsClassifier(), models__n_neighbors=3, preprocessor__num=StandardScaler();, score=0.931 total time=   0.1s\n",
      "[CV 1/5] END models=KNeighborsClassifier(), models__n_neighbors=3, preprocessor__num=MinMaxScaler();, score=0.898 total time=   0.1s\n",
      "[CV 2/5] END models=KNeighborsClassifier(), models__n_neighbors=3, preprocessor__num=MinMaxScaler();, score=0.908 total time=   0.1s\n",
      "[CV 3/5] END models=KNeighborsClassifier(), models__n_neighbors=3, preprocessor__num=MinMaxScaler();, score=0.904 total time=   0.1s\n",
      "[CV 4/5] END models=KNeighborsClassifier(), models__n_neighbors=3, preprocessor__num=MinMaxScaler();, score=0.916 total time=   0.1s\n",
      "[CV 5/5] END models=KNeighborsClassifier(), models__n_neighbors=3, preprocessor__num=MinMaxScaler();, score=0.933 total time=   0.1s\n",
      "[CV 1/5] END models=KNeighborsClassifier(), models__n_neighbors=3, preprocessor__num=passthrough;, score=0.884 total time=   0.1s\n",
      "[CV 2/5] END models=KNeighborsClassifier(), models__n_neighbors=3, preprocessor__num=passthrough;, score=0.904 total time=   0.1s\n",
      "[CV 3/5] END models=KNeighborsClassifier(), models__n_neighbors=3, preprocessor__num=passthrough;, score=0.891 total time=   0.1s\n",
      "[CV 4/5] END models=KNeighborsClassifier(), models__n_neighbors=3, preprocessor__num=passthrough;, score=0.894 total time=   0.1s\n",
      "[CV 5/5] END models=KNeighborsClassifier(), models__n_neighbors=3, preprocessor__num=passthrough;, score=0.915 total time=   0.1s\n",
      "[CV 1/5] END models=KNeighborsClassifier(), models__n_neighbors=4, preprocessor__num=StandardScaler();, score=0.914 total time=   0.1s\n",
      "[CV 2/5] END models=KNeighborsClassifier(), models__n_neighbors=4, preprocessor__num=StandardScaler();, score=0.913 total time=   0.1s\n",
      "[CV 3/5] END models=KNeighborsClassifier(), models__n_neighbors=4, preprocessor__num=StandardScaler();, score=0.906 total time=   0.1s\n",
      "[CV 4/5] END models=KNeighborsClassifier(), models__n_neighbors=4, preprocessor__num=StandardScaler();, score=0.907 total time=   0.1s\n",
      "[CV 5/5] END models=KNeighborsClassifier(), models__n_neighbors=4, preprocessor__num=StandardScaler();, score=0.934 total time=   0.1s\n",
      "[CV 1/5] END models=KNeighborsClassifier(), models__n_neighbors=4, preprocessor__num=MinMaxScaler();, score=0.915 total time=   0.1s\n",
      "[CV 2/5] END models=KNeighborsClassifier(), models__n_neighbors=4, preprocessor__num=MinMaxScaler();, score=0.918 total time=   0.1s\n",
      "[CV 3/5] END models=KNeighborsClassifier(), models__n_neighbors=4, preprocessor__num=MinMaxScaler();, score=0.910 total time=   0.1s\n",
      "[CV 4/5] END models=KNeighborsClassifier(), models__n_neighbors=4, preprocessor__num=MinMaxScaler();, score=0.917 total time=   0.1s\n",
      "[CV 5/5] END models=KNeighborsClassifier(), models__n_neighbors=4, preprocessor__num=MinMaxScaler();, score=0.935 total time=   0.1s\n",
      "[CV 1/5] END models=KNeighborsClassifier(), models__n_neighbors=4, preprocessor__num=passthrough;, score=0.905 total time=   0.0s\n",
      "[CV 2/5] END models=KNeighborsClassifier(), models__n_neighbors=4, preprocessor__num=passthrough;, score=0.912 total time=   0.1s\n",
      "[CV 3/5] END models=KNeighborsClassifier(), models__n_neighbors=4, preprocessor__num=passthrough;, score=0.897 total time=   0.1s\n",
      "[CV 4/5] END models=KNeighborsClassifier(), models__n_neighbors=4, preprocessor__num=passthrough;, score=0.900 total time=   0.1s\n",
      "[CV 5/5] END models=KNeighborsClassifier(), models__n_neighbors=4, preprocessor__num=passthrough;, score=0.923 total time=   0.1s\n",
      "[CV 1/5] END models=KNeighborsClassifier(), models__n_neighbors=5, preprocessor__num=StandardScaler();, score=0.918 total time=   0.1s\n",
      "[CV 2/5] END models=KNeighborsClassifier(), models__n_neighbors=5, preprocessor__num=StandardScaler();, score=0.914 total time=   0.1s\n",
      "[CV 3/5] END models=KNeighborsClassifier(), models__n_neighbors=5, preprocessor__num=StandardScaler();, score=0.915 total time=   0.1s\n",
      "[CV 4/5] END models=KNeighborsClassifier(), models__n_neighbors=5, preprocessor__num=StandardScaler();, score=0.916 total time=   0.1s\n",
      "[CV 5/5] END models=KNeighborsClassifier(), models__n_neighbors=5, preprocessor__num=StandardScaler();, score=0.944 total time=   0.1s\n",
      "[CV 1/5] END models=KNeighborsClassifier(), models__n_neighbors=5, preprocessor__num=MinMaxScaler();, score=0.918 total time=   0.1s\n",
      "[CV 2/5] END models=KNeighborsClassifier(), models__n_neighbors=5, preprocessor__num=MinMaxScaler();, score=0.924 total time=   0.1s\n",
      "[CV 3/5] END models=KNeighborsClassifier(), models__n_neighbors=5, preprocessor__num=MinMaxScaler();, score=0.914 total time=   0.1s\n",
      "[CV 4/5] END models=KNeighborsClassifier(), models__n_neighbors=5, preprocessor__num=MinMaxScaler();, score=0.921 total time=   0.1s\n",
      "[CV 5/5] END models=KNeighborsClassifier(), models__n_neighbors=5, preprocessor__num=MinMaxScaler();, score=0.945 total time=   0.1s\n",
      "[CV 1/5] END models=KNeighborsClassifier(), models__n_neighbors=5, preprocessor__num=passthrough;, score=0.907 total time=   0.1s\n",
      "[CV 2/5] END models=KNeighborsClassifier(), models__n_neighbors=5, preprocessor__num=passthrough;, score=0.913 total time=   0.1s\n",
      "[CV 3/5] END models=KNeighborsClassifier(), models__n_neighbors=5, preprocessor__num=passthrough;, score=0.901 total time=   0.1s\n",
      "[CV 4/5] END models=KNeighborsClassifier(), models__n_neighbors=5, preprocessor__num=passthrough;, score=0.902 total time=   0.1s\n",
      "[CV 5/5] END models=KNeighborsClassifier(), models__n_neighbors=5, preprocessor__num=passthrough;, score=0.927 total time=   0.1s\n",
      "[CV 1/5] END models=KNeighborsClassifier(), models__n_neighbors=6, preprocessor__num=StandardScaler();, score=0.918 total time=   0.1s\n",
      "[CV 2/5] END models=KNeighborsClassifier(), models__n_neighbors=6, preprocessor__num=StandardScaler();, score=0.921 total time=   0.1s\n",
      "[CV 3/5] END models=KNeighborsClassifier(), models__n_neighbors=6, preprocessor__num=StandardScaler();, score=0.917 total time=   0.1s\n",
      "[CV 4/5] END models=KNeighborsClassifier(), models__n_neighbors=6, preprocessor__num=StandardScaler();, score=0.921 total time=   0.1s\n",
      "[CV 5/5] END models=KNeighborsClassifier(), models__n_neighbors=6, preprocessor__num=StandardScaler();, score=0.945 total time=   0.1s\n",
      "[CV 1/5] END models=KNeighborsClassifier(), models__n_neighbors=6, preprocessor__num=MinMaxScaler();, score=0.920 total time=   0.1s\n",
      "[CV 2/5] END models=KNeighborsClassifier(), models__n_neighbors=6, preprocessor__num=MinMaxScaler();, score=0.927 total time=   0.1s\n",
      "[CV 3/5] END models=KNeighborsClassifier(), models__n_neighbors=6, preprocessor__num=MinMaxScaler();, score=0.913 total time=   0.1s\n",
      "[CV 4/5] END models=KNeighborsClassifier(), models__n_neighbors=6, preprocessor__num=MinMaxScaler();, score=0.923 total time=   0.1s\n",
      "[CV 5/5] END models=KNeighborsClassifier(), models__n_neighbors=6, preprocessor__num=MinMaxScaler();, score=0.945 total time=   0.1s\n",
      "[CV 1/5] END models=KNeighborsClassifier(), models__n_neighbors=6, preprocessor__num=passthrough;, score=0.905 total time=   0.1s\n",
      "[CV 2/5] END models=KNeighborsClassifier(), models__n_neighbors=6, preprocessor__num=passthrough;, score=0.916 total time=   0.1s\n",
      "[CV 3/5] END models=KNeighborsClassifier(), models__n_neighbors=6, preprocessor__num=passthrough;, score=0.901 total time=   0.1s\n",
      "[CV 4/5] END models=KNeighborsClassifier(), models__n_neighbors=6, preprocessor__num=passthrough;, score=0.910 total time=   0.1s\n",
      "[CV 5/5] END models=KNeighborsClassifier(), models__n_neighbors=6, preprocessor__num=passthrough;, score=0.931 total time=   0.0s\n",
      "[CV 1/5] END models=KNeighborsClassifier(), models__n_neighbors=7, preprocessor__num=StandardScaler();, score=0.921 total time=   0.1s\n",
      "[CV 2/5] END models=KNeighborsClassifier(), models__n_neighbors=7, preprocessor__num=StandardScaler();, score=0.922 total time=   0.1s\n",
      "[CV 3/5] END models=KNeighborsClassifier(), models__n_neighbors=7, preprocessor__num=StandardScaler();, score=0.917 total time=   0.1s\n",
      "[CV 4/5] END models=KNeighborsClassifier(), models__n_neighbors=7, preprocessor__num=StandardScaler();, score=0.926 total time=   0.1s\n",
      "[CV 5/5] END models=KNeighborsClassifier(), models__n_neighbors=7, preprocessor__num=StandardScaler();, score=0.945 total time=   0.1s\n",
      "[CV 1/5] END models=KNeighborsClassifier(), models__n_neighbors=7, preprocessor__num=MinMaxScaler();, score=0.920 total time=   0.1s\n",
      "[CV 2/5] END models=KNeighborsClassifier(), models__n_neighbors=7, preprocessor__num=MinMaxScaler();, score=0.926 total time=   0.1s\n",
      "[CV 3/5] END models=KNeighborsClassifier(), models__n_neighbors=7, preprocessor__num=MinMaxScaler();, score=0.914 total time=   0.1s\n",
      "[CV 4/5] END models=KNeighborsClassifier(), models__n_neighbors=7, preprocessor__num=MinMaxScaler();, score=0.922 total time=   0.1s\n",
      "[CV 5/5] END models=KNeighborsClassifier(), models__n_neighbors=7, preprocessor__num=MinMaxScaler();, score=0.946 total time=   0.1s\n",
      "[CV 1/5] END models=KNeighborsClassifier(), models__n_neighbors=7, preprocessor__num=passthrough;, score=0.904 total time=   0.0s\n",
      "[CV 2/5] END models=KNeighborsClassifier(), models__n_neighbors=7, preprocessor__num=passthrough;, score=0.913 total time=   0.0s\n",
      "[CV 3/5] END models=KNeighborsClassifier(), models__n_neighbors=7, preprocessor__num=passthrough;, score=0.905 total time=   0.1s\n",
      "[CV 4/5] END models=KNeighborsClassifier(), models__n_neighbors=7, preprocessor__num=passthrough;, score=0.911 total time=   0.0s\n",
      "[CV 5/5] END models=KNeighborsClassifier(), models__n_neighbors=7, preprocessor__num=passthrough;, score=0.928 total time=   0.0s\n",
      "[CV 1/5] END models=KNeighborsClassifier(), models__n_neighbors=8, preprocessor__num=StandardScaler();, score=0.922 total time=   0.1s\n",
      "[CV 2/5] END models=KNeighborsClassifier(), models__n_neighbors=8, preprocessor__num=StandardScaler();, score=0.924 total time=   0.1s\n",
      "[CV 3/5] END models=KNeighborsClassifier(), models__n_neighbors=8, preprocessor__num=StandardScaler();, score=0.917 total time=   0.1s\n",
      "[CV 4/5] END models=KNeighborsClassifier(), models__n_neighbors=8, preprocessor__num=StandardScaler();, score=0.927 total time=   0.1s\n",
      "[CV 5/5] END models=KNeighborsClassifier(), models__n_neighbors=8, preprocessor__num=StandardScaler();, score=0.948 total time=   0.1s\n",
      "[CV 1/5] END models=KNeighborsClassifier(), models__n_neighbors=8, preprocessor__num=MinMaxScaler();, score=0.921 total time=   0.1s\n",
      "[CV 2/5] END models=KNeighborsClassifier(), models__n_neighbors=8, preprocessor__num=MinMaxScaler();, score=0.928 total time=   0.1s\n",
      "[CV 3/5] END models=KNeighborsClassifier(), models__n_neighbors=8, preprocessor__num=MinMaxScaler();, score=0.914 total time=   0.1s\n",
      "[CV 4/5] END models=KNeighborsClassifier(), models__n_neighbors=8, preprocessor__num=MinMaxScaler();, score=0.927 total time=   0.1s\n",
      "[CV 5/5] END models=KNeighborsClassifier(), models__n_neighbors=8, preprocessor__num=MinMaxScaler();, score=0.948 total time=   0.1s\n",
      "[CV 1/5] END models=KNeighborsClassifier(), models__n_neighbors=8, preprocessor__num=passthrough;, score=0.905 total time=   0.0s\n",
      "[CV 2/5] END models=KNeighborsClassifier(), models__n_neighbors=8, preprocessor__num=passthrough;, score=0.914 total time=   0.0s\n",
      "[CV 3/5] END models=KNeighborsClassifier(), models__n_neighbors=8, preprocessor__num=passthrough;, score=0.905 total time=   0.0s\n",
      "[CV 4/5] END models=KNeighborsClassifier(), models__n_neighbors=8, preprocessor__num=passthrough;, score=0.914 total time=   0.1s\n",
      "[CV 5/5] END models=KNeighborsClassifier(), models__n_neighbors=8, preprocessor__num=passthrough;, score=0.927 total time=   0.1s\n",
      "[CV 1/5] END models=KNeighborsClassifier(), models__n_neighbors=9, preprocessor__num=StandardScaler();, score=0.926 total time=   0.1s\n",
      "[CV 2/5] END models=KNeighborsClassifier(), models__n_neighbors=9, preprocessor__num=StandardScaler();, score=0.923 total time=   0.1s\n",
      "[CV 3/5] END models=KNeighborsClassifier(), models__n_neighbors=9, preprocessor__num=StandardScaler();, score=0.917 total time=   0.1s\n",
      "[CV 4/5] END models=KNeighborsClassifier(), models__n_neighbors=9, preprocessor__num=StandardScaler();, score=0.927 total time=   0.1s\n",
      "[CV 5/5] END models=KNeighborsClassifier(), models__n_neighbors=9, preprocessor__num=StandardScaler();, score=0.949 total time=   0.1s\n",
      "[CV 1/5] END models=KNeighborsClassifier(), models__n_neighbors=9, preprocessor__num=MinMaxScaler();, score=0.929 total time=   0.1s\n",
      "[CV 2/5] END models=KNeighborsClassifier(), models__n_neighbors=9, preprocessor__num=MinMaxScaler();, score=0.929 total time=   0.1s\n",
      "[CV 3/5] END models=KNeighborsClassifier(), models__n_neighbors=9, preprocessor__num=MinMaxScaler();, score=0.914 total time=   0.1s\n",
      "[CV 4/5] END models=KNeighborsClassifier(), models__n_neighbors=9, preprocessor__num=MinMaxScaler();, score=0.926 total time=   0.1s\n",
      "[CV 5/5] END models=KNeighborsClassifier(), models__n_neighbors=9, preprocessor__num=MinMaxScaler();, score=0.948 total time=   0.1s\n",
      "[CV 1/5] END models=KNeighborsClassifier(), models__n_neighbors=9, preprocessor__num=passthrough;, score=0.906 total time=   0.1s\n",
      "[CV 2/5] END models=KNeighborsClassifier(), models__n_neighbors=9, preprocessor__num=passthrough;, score=0.916 total time=   0.1s\n",
      "[CV 3/5] END models=KNeighborsClassifier(), models__n_neighbors=9, preprocessor__num=passthrough;, score=0.906 total time=   0.1s\n",
      "[CV 4/5] END models=KNeighborsClassifier(), models__n_neighbors=9, preprocessor__num=passthrough;, score=0.913 total time=   0.1s\n",
      "[CV 5/5] END models=KNeighborsClassifier(), models__n_neighbors=9, preprocessor__num=passthrough;, score=0.927 total time=   0.1s\n",
      "Лучшая модель и её параметры:\n",
      "\n",
      " Pipeline(steps=[('preprocessor',\n",
      "                 ColumnTransformer(remainder='passthrough',\n",
      "                                   transformers=[('ohe',\n",
      "                                                  Pipeline(steps=[('simpleImputerohe',\n",
      "                                                                   SimpleImputer(strategy='most_frequent')),\n",
      "                                                                  ('ohe',\n",
      "                                                                   OneHotEncoder(drop='first',\n",
      "                                                                                 handle_unknown='ignore'))]),\n",
      "                                                  ['dept', 'last_year_promo',\n",
      "                                                   'last_year_violations']),\n",
      "                                                 ('ord',\n",
      "                                                  Pipeline(steps=[('SimpleImputer_before_ord',\n",
      "                                                                   SimpleImputer(...\n",
      "                                                                                               'medium',\n",
      "                                                                                               'high']],\n",
      "                                                                                  handle_unknown='use_encoded_value',\n",
      "                                                                                  unknown_value=nan)),\n",
      "                                                                  ('SimpleImputer_after_ord',\n",
      "                                                                   SimpleImputer(strategy='most_frequent'))]),\n",
      "                                                  ['level', 'workload']),\n",
      "                                                 ('num', MinMaxScaler(),\n",
      "                                                  ['employment_years',\n",
      "                                                   'job_satisfaction_rate',\n",
      "                                                   'supervisor_evaluation',\n",
      "                                                   'salary'])])),\n",
      "                ('feature_selection', SelectKBest(k=6)),\n",
      "                ('models', KNeighborsClassifier(n_neighbors=9))])\n",
      "Метрика лучшей модели на кросс-валидационной выборке: 0.929140686785486\n"
     ]
    }
   ],
   "source": [
    "RANDOM_STATE=42\n",
    "ohe_columns=['dept','last_year_promo','last_year_violations']\n",
    "ord_columns=['level','workload']\n",
    "num_columns=['employment_years','job_satisfaction_rate','supervisor_evaluation','salary']\n",
    "ohe_pipe=Pipeline([\n",
    "    ('simpleImputerohe',SimpleImputer(missing_values=np.nan ,strategy='most_frequent')),\n",
    "    ('ohe',OneHotEncoder(drop='first',handle_unknown='ignore'))\n",
    "])\n",
    "ord_pipe=Pipeline([\n",
    "    ('SimpleImputer_before_ord',SimpleImputer(missing_values=np.nan,strategy='most_frequent')),\n",
    "    ('ord',OrdinalEncoder(categories=[\n",
    "        ['junior','middle','sinior'],\n",
    "        ['low','medium','high']\n",
    "    ],\n",
    "    handle_unknown='use_encoded_value', unknown_value=np.nan\n",
    ")),\n",
    "    ('SimpleImputer_after_ord',SimpleImputer(missing_values=np.nan,strategy='most_frequent'))\n",
    "])\n",
    "data_preprocessor=ColumnTransformer([\n",
    "    ('ohe',ohe_pipe,ohe_columns),\n",
    "    ('ord',ord_pipe,ord_columns),\n",
    "    ('num',StandardScaler(),num_columns)],\n",
    "    remainder='passthrough'\n",
    ")\n",
    "pipe_final=Pipeline([\n",
    "    ('preprocessor',data_preprocessor),\n",
    "    ('feature_selection',SelectKBest(f_classif,k=6)),\n",
    "    ('models',DecisionTreeClassifier(random_state=RANDOM_STATE))\n",
    "])\n",
    "param_grid=[\n",
    "    {\n",
    "     'models':[DecisionTreeClassifier(random_state=RANDOM_STATE)],\n",
    "     'models__max_depth':range(1,5)\n",
    "    },\n",
    "    {\n",
    "     'models':[LogisticRegression(random_state=RANDOM_STATE)],\n",
    "     'preprocessor__num':[StandardScaler(),MinMaxScaler(),'passthrough'],\n",
    "     'models__C':range(1,3)\n",
    "    },\n",
    "    {\n",
    "     'models':[KNeighborsClassifier()],\n",
    "     'models__n_neighbors':range(1,10),\n",
    "     'preprocessor__num':[StandardScaler(),MinMaxScaler(),'passthrough']\n",
    "    }\n",
    "]\n",
    "grid=GridSearchCV(\n",
    "    pipe_final,\n",
    "    param_grid,\n",
    "    cv=5,\n",
    "    n_jobs=-1,\n",
    "    verbose=3,\n",
    "    refit='roc_auc',\n",
    "    scoring='roc_auc'\n",
    ")\n",
    "grid.fit(X_quit, y_quit)\n",
    "print('Лучшая модель и её параметры:\\n\\n', grid.best_estimator_) \n",
    "print ('Метрика лучшей модели на кросс-валидационной выборке:', grid.best_score_)\n"
   ]
  },
  {
   "cell_type": "code",
   "execution_count": 80,
   "id": "aec2764b",
   "metadata": {},
   "outputs": [],
   "source": [
    "test_features=test_features.merge(test_target_quit,on='id')"
   ]
  },
  {
   "cell_type": "code",
   "execution_count": 81,
   "id": "43b73093",
   "metadata": {},
   "outputs": [
    {
     "data": {
      "text/plain": [
       "0.9255584797489311"
      ]
     },
     "execution_count": 81,
     "metadata": {},
     "output_type": "execute_result"
    }
   ],
   "source": [
    "y_test_quit=test_features['quit']\n",
    "X_test_quit=test_features.drop(columns=['quit','id'])\n",
    "y_pred_quit=grid.predict_proba(X_test_quit)[:,1]\n",
    "roc_auc_score(y_test_quit,y_pred_quit)"
   ]
  },
  {
   "cell_type": "markdown",
   "id": "9db3d3a0",
   "metadata": {},
   "source": [
    "## Промежуточный вывод"
   ]
  },
  {
   "cell_type": "markdown",
   "id": "b991f989",
   "metadata": {},
   "source": [
    "Лучше всего с задачей справилась модель KNeighborsClassifier(n_neighbors=9). Возможно, так происходит из-за того, что глобально люди одинаково рациональны в выборе работы: они редко увольняются после долгого пребывания на одном месте, после повышения или уж тем более после того, как руководитель высоко оценил их навыки. Поэтому модели ближайших соседей легко ориентироваться на похожие \"объекты\", т.к. их поведение зачастую всегда одинаково"
   ]
  },
  {
   "cell_type": "markdown",
   "id": "3938d216",
   "metadata": {},
   "source": [
    "# Общий вывод"
   ]
  },
  {
   "cell_type": "markdown",
   "id": "1d851806",
   "metadata": {},
   "source": [
    "Задача была в том, чтобы на основе имеющихся данных предсказать удовлетворенность сотрудника его работой и предсказать его увольнение.\n",
    "\n",
    "Сперва я убедился в отсутствии дубликатов и правильном названии столбцов. Затем провел исследовательский анализ данных на наличие выбросов и интересных результатов. Далее построил матрицу корреляции, чтобы выявить мультиколлинеарность. После этого, используя пайплайны, выбрал из нескольких моделей лучшую по собственной метрике и по roc_auc. \n",
    "\n",
    "В целом, можно сказать, что уволенным попросту не нравилась их работа, связано это не с их нагрузкой, а прежде всего с удовлетворенностью их рабочим местом, которое в свою очередь состоит из того, как высоко ценит сотрудника руководитель, получал ли он повышение в прошлом году.\n",
    "\n",
    "Что касается предложений бизнесу, можно попробовать мотивировать джуниоров(поскольку эта категория имеет наименьшую привязанность к компании) за переработку или устраивать им митапы или корпоративы, чтобы они лояльнее относились к компании и работали больше. Также очень важно не относиться к ним, как к наемникам, ведь любому человеку важно чувствовать, что его ценят, что он делает что-то полезное для общества. Таким образом, есть шанс, что новички прослужат компании еще долго, а та в свою очередь избавится от текучки кадров."
   ]
  }
 ],
 "metadata": {
  "ExecuteTimeLog": [
   {
    "duration": 446,
    "start_time": "2025-02-20T17:38:38.656Z"
   },
   {
    "duration": 115,
    "start_time": "2025-02-20T17:38:40.492Z"
   },
   {
    "duration": 63,
    "start_time": "2025-02-20T17:42:34.864Z"
   },
   {
    "duration": 45,
    "start_time": "2025-02-20T17:42:59.492Z"
   },
   {
    "duration": 96,
    "start_time": "2025-02-20T17:43:20.389Z"
   },
   {
    "duration": 50,
    "start_time": "2025-02-20T17:43:24.911Z"
   },
   {
    "duration": 54,
    "start_time": "2025-02-20T17:43:28.617Z"
   },
   {
    "duration": 466,
    "start_time": "2025-02-20T17:43:34.475Z"
   },
   {
    "duration": 109,
    "start_time": "2025-02-20T17:45:17.526Z"
   },
   {
    "duration": 44,
    "start_time": "2025-02-20T17:45:24.200Z"
   },
   {
    "duration": 77,
    "start_time": "2025-02-20T17:45:39.319Z"
   },
   {
    "duration": 71,
    "start_time": "2025-02-20T17:45:44.489Z"
   },
   {
    "duration": 52,
    "start_time": "2025-02-20T17:45:48.549Z"
   },
   {
    "duration": 54,
    "start_time": "2025-02-20T17:46:31.434Z"
   },
   {
    "duration": 46,
    "start_time": "2025-02-20T17:46:38.602Z"
   },
   {
    "duration": 393,
    "start_time": "2025-02-20T17:56:24.293Z"
   },
   {
    "duration": 107,
    "start_time": "2025-02-20T17:56:27.276Z"
   },
   {
    "duration": 43,
    "start_time": "2025-02-20T17:56:41.848Z"
   },
   {
    "duration": 47,
    "start_time": "2025-02-20T17:57:45.272Z"
   },
   {
    "duration": 75,
    "start_time": "2025-02-20T17:58:56.738Z"
   },
   {
    "duration": 71,
    "start_time": "2025-02-20T17:59:01.429Z"
   },
   {
    "duration": 7,
    "start_time": "2025-02-20T18:00:05.536Z"
   },
   {
    "duration": 2,
    "start_time": "2025-02-20T18:00:11.470Z"
   },
   {
    "duration": 49,
    "start_time": "2025-02-20T18:00:12.749Z"
   },
   {
    "duration": 44,
    "start_time": "2025-02-20T18:01:53.719Z"
   },
   {
    "duration": 45,
    "start_time": "2025-02-20T22:33:06.355Z"
   },
   {
    "duration": 352,
    "start_time": "2025-02-20T22:33:09.117Z"
   },
   {
    "duration": 57,
    "start_time": "2025-02-20T22:33:10.389Z"
   },
   {
    "duration": 957,
    "start_time": "2025-02-20T22:34:56.145Z"
   },
   {
    "duration": 68,
    "start_time": "2025-02-20T22:35:16.197Z"
   },
   {
    "duration": 92,
    "start_time": "2025-02-20T22:35:31.450Z"
   },
   {
    "duration": 82,
    "start_time": "2025-02-20T22:35:45.400Z"
   },
   {
    "duration": 15,
    "start_time": "2025-02-20T22:37:00.081Z"
   },
   {
    "duration": 14,
    "start_time": "2025-02-20T22:37:01.638Z"
   },
   {
    "duration": 814,
    "start_time": "2025-02-20T22:37:58.043Z"
   },
   {
    "duration": 762,
    "start_time": "2025-02-20T22:38:45.215Z"
   },
   {
    "duration": 801,
    "start_time": "2025-02-20T22:39:22.665Z"
   },
   {
    "duration": 738,
    "start_time": "2025-02-20T22:40:01.952Z"
   },
   {
    "duration": 617,
    "start_time": "2025-02-20T22:43:35.645Z"
   },
   {
    "duration": 727,
    "start_time": "2025-02-20T22:44:15.261Z"
   },
   {
    "duration": 599,
    "start_time": "2025-02-20T22:44:34.282Z"
   },
   {
    "duration": 589,
    "start_time": "2025-02-20T22:45:50.778Z"
   },
   {
    "duration": 734,
    "start_time": "2025-02-20T22:46:28.140Z"
   },
   {
    "duration": 618,
    "start_time": "2025-02-20T22:48:41.586Z"
   },
   {
    "duration": 566,
    "start_time": "2025-02-20T22:48:59.101Z"
   },
   {
    "duration": 1041,
    "start_time": "2025-02-20T22:51:36.755Z"
   },
   {
    "duration": 1144,
    "start_time": "2025-02-20T22:51:55.792Z"
   },
   {
    "duration": 631,
    "start_time": "2025-02-20T22:52:46.997Z"
   },
   {
    "duration": 1622,
    "start_time": "2025-02-20T22:53:00.206Z"
   },
   {
    "duration": 27,
    "start_time": "2025-02-20T22:53:40.318Z"
   },
   {
    "duration": 27,
    "start_time": "2025-02-20T22:53:44.624Z"
   },
   {
    "duration": 10,
    "start_time": "2025-02-20T22:54:05.025Z"
   },
   {
    "duration": 167,
    "start_time": "2025-02-20T22:54:18.956Z"
   },
   {
    "duration": 372,
    "start_time": "2025-02-20T22:57:21.032Z"
   },
   {
    "duration": 140,
    "start_time": "2025-02-20T22:58:05.152Z"
   },
   {
    "duration": 345,
    "start_time": "2025-02-20T22:58:28.905Z"
   },
   {
    "duration": 343,
    "start_time": "2025-02-20T23:01:09.929Z"
   },
   {
    "duration": 429,
    "start_time": "2025-02-20T23:01:24.558Z"
   },
   {
    "duration": 471,
    "start_time": "2025-02-20T23:01:37.160Z"
   },
   {
    "duration": 49,
    "start_time": "2025-02-21T07:15:04.329Z"
   },
   {
    "duration": 1379,
    "start_time": "2025-02-21T07:15:08.580Z"
   },
   {
    "duration": 198,
    "start_time": "2025-02-21T07:15:09.961Z"
   },
   {
    "duration": 99,
    "start_time": "2025-02-21T07:15:10.161Z"
   },
   {
    "duration": 76,
    "start_time": "2025-02-21T07:15:10.262Z"
   },
   {
    "duration": 12,
    "start_time": "2025-02-21T07:15:10.340Z"
   },
   {
    "duration": 14,
    "start_time": "2025-02-21T07:15:10.354Z"
   },
   {
    "duration": 74,
    "start_time": "2025-02-21T07:15:10.370Z"
   },
   {
    "duration": 0,
    "start_time": "2025-02-21T07:15:10.445Z"
   },
   {
    "duration": 0,
    "start_time": "2025-02-21T07:15:10.447Z"
   },
   {
    "duration": 0,
    "start_time": "2025-02-21T07:15:10.448Z"
   },
   {
    "duration": 1482,
    "start_time": "2025-02-21T07:15:18.893Z"
   },
   {
    "duration": 144,
    "start_time": "2025-02-21T07:15:21.434Z"
   },
   {
    "duration": 516,
    "start_time": "2025-02-21T07:15:23.319Z"
   },
   {
    "duration": 1473,
    "start_time": "2025-02-21T07:16:12.356Z"
   },
   {
    "duration": 1404,
    "start_time": "2025-02-21T07:16:20.590Z"
   },
   {
    "duration": 695,
    "start_time": "2025-02-21T07:17:03.536Z"
   },
   {
    "duration": 513,
    "start_time": "2025-02-21T07:17:09.846Z"
   },
   {
    "duration": 1682,
    "start_time": "2025-02-21T07:17:29.364Z"
   },
   {
    "duration": 1351,
    "start_time": "2025-02-21T07:17:40.158Z"
   },
   {
    "duration": 19,
    "start_time": "2025-02-21T07:52:02.805Z"
   },
   {
    "duration": 9,
    "start_time": "2025-02-21T07:52:23.901Z"
   },
   {
    "duration": 9,
    "start_time": "2025-02-21T07:52:28.160Z"
   },
   {
    "duration": 853,
    "start_time": "2025-02-21T07:52:38.235Z"
   },
   {
    "duration": 3584,
    "start_time": "2025-02-21T07:53:08.967Z"
   },
   {
    "duration": 5028,
    "start_time": "2025-02-21T07:53:20.026Z"
   },
   {
    "duration": 1121,
    "start_time": "2025-02-21T07:53:40.493Z"
   },
   {
    "duration": 1107,
    "start_time": "2025-02-21T07:53:50.983Z"
   },
   {
    "duration": 59,
    "start_time": "2025-02-21T16:01:11.651Z"
   },
   {
    "duration": 11490,
    "start_time": "2025-02-21T16:01:17.616Z"
   },
   {
    "duration": 108,
    "start_time": "2025-02-21T16:01:29.108Z"
   },
   {
    "duration": 126,
    "start_time": "2025-02-21T16:01:29.218Z"
   },
   {
    "duration": 125,
    "start_time": "2025-02-21T16:01:29.346Z"
   },
   {
    "duration": 10,
    "start_time": "2025-02-21T16:01:29.473Z"
   },
   {
    "duration": 9,
    "start_time": "2025-02-21T16:01:29.485Z"
   },
   {
    "duration": 1538,
    "start_time": "2025-02-21T16:01:29.496Z"
   },
   {
    "duration": 160,
    "start_time": "2025-02-21T16:01:31.035Z"
   },
   {
    "duration": 566,
    "start_time": "2025-02-21T16:01:31.197Z"
   },
   {
    "duration": 1253,
    "start_time": "2025-02-21T16:01:31.765Z"
   },
   {
    "duration": 2411,
    "start_time": "2025-02-21T16:01:50.069Z"
   },
   {
    "duration": 182,
    "start_time": "2025-02-21T16:01:56.101Z"
   },
   {
    "duration": 151,
    "start_time": "2025-02-21T16:02:56.652Z"
   },
   {
    "duration": 3044,
    "start_time": "2025-02-21T16:03:08.810Z"
   },
   {
    "duration": 192,
    "start_time": "2025-02-21T16:03:54.833Z"
   },
   {
    "duration": 425,
    "start_time": "2025-02-21T16:04:08.124Z"
   },
   {
    "duration": 318,
    "start_time": "2025-02-21T16:05:04.392Z"
   },
   {
    "duration": 122,
    "start_time": "2025-02-21T16:05:25.827Z"
   },
   {
    "duration": 211,
    "start_time": "2025-02-21T16:05:35.651Z"
   },
   {
    "duration": 314,
    "start_time": "2025-02-21T16:05:44.516Z"
   },
   {
    "duration": 2884,
    "start_time": "2025-02-21T16:08:08.781Z"
   },
   {
    "duration": 2438,
    "start_time": "2025-02-21T16:43:24.846Z"
   },
   {
    "duration": 7,
    "start_time": "2025-02-21T20:42:32.298Z"
   },
   {
    "duration": 5324,
    "start_time": "2025-02-21T20:44:59.014Z"
   },
   {
    "duration": 12,
    "start_time": "2025-02-21T20:46:04.540Z"
   },
   {
    "duration": 2437,
    "start_time": "2025-02-21T20:47:13.530Z"
   },
   {
    "duration": 14,
    "start_time": "2025-02-21T20:47:25.431Z"
   },
   {
    "duration": 9,
    "start_time": "2025-02-21T20:47:27.762Z"
   },
   {
    "duration": 5720,
    "start_time": "2025-02-22T09:27:44.233Z"
   },
   {
    "duration": 116,
    "start_time": "2025-02-22T09:27:49.956Z"
   },
   {
    "duration": 137,
    "start_time": "2025-02-22T09:27:50.074Z"
   },
   {
    "duration": 199,
    "start_time": "2025-02-22T09:27:50.213Z"
   },
   {
    "duration": 14,
    "start_time": "2025-02-22T09:27:50.416Z"
   },
   {
    "duration": 24,
    "start_time": "2025-02-22T09:27:50.432Z"
   },
   {
    "duration": 1661,
    "start_time": "2025-02-22T09:27:50.459Z"
   },
   {
    "duration": 258,
    "start_time": "2025-02-22T09:27:52.122Z"
   },
   {
    "duration": 625,
    "start_time": "2025-02-22T09:27:52.381Z"
   },
   {
    "duration": 1248,
    "start_time": "2025-02-22T09:27:53.008Z"
   },
   {
    "duration": 340,
    "start_time": "2025-02-22T09:27:54.258Z"
   },
   {
    "duration": 342,
    "start_time": "2025-02-22T09:27:54.600Z"
   },
   {
    "duration": 3,
    "start_time": "2025-02-22T09:27:54.944Z"
   },
   {
    "duration": 133,
    "start_time": "2025-02-22T09:27:54.950Z"
   },
   {
    "duration": 0,
    "start_time": "2025-02-22T09:27:55.084Z"
   },
   {
    "duration": 85,
    "start_time": "2025-02-22T09:29:33.971Z"
   },
   {
    "duration": 7059,
    "start_time": "2025-02-22T09:29:43.106Z"
   },
   {
    "duration": 5217,
    "start_time": "2025-02-22T09:34:51.453Z"
   },
   {
    "duration": 5,
    "start_time": "2025-02-22T09:35:00.036Z"
   },
   {
    "duration": 218,
    "start_time": "2025-02-22T09:35:03.468Z"
   },
   {
    "duration": 74,
    "start_time": "2025-02-22T09:35:26.426Z"
   },
   {
    "duration": 71,
    "start_time": "2025-02-22T09:35:43.375Z"
   },
   {
    "duration": 18,
    "start_time": "2025-02-22T09:36:15.330Z"
   },
   {
    "duration": 16,
    "start_time": "2025-02-22T09:36:26.431Z"
   },
   {
    "duration": 1101,
    "start_time": "2025-02-22T09:40:16.005Z"
   },
   {
    "duration": 18,
    "start_time": "2025-02-22T09:40:39.913Z"
   },
   {
    "duration": 27,
    "start_time": "2025-02-22T09:40:55.955Z"
   },
   {
    "duration": 26,
    "start_time": "2025-02-22T09:45:07.639Z"
   },
   {
    "duration": 26,
    "start_time": "2025-02-22T09:45:59.315Z"
   },
   {
    "duration": 27,
    "start_time": "2025-02-22T09:47:40.128Z"
   },
   {
    "duration": 30,
    "start_time": "2025-02-22T09:59:26.030Z"
   },
   {
    "duration": 5206,
    "start_time": "2025-02-22T10:01:52.105Z"
   },
   {
    "duration": 34,
    "start_time": "2025-02-22T10:02:01.196Z"
   },
   {
    "duration": 27,
    "start_time": "2025-02-22T10:04:48.036Z"
   },
   {
    "duration": 18,
    "start_time": "2025-02-22T10:05:17.847Z"
   },
   {
    "duration": 934,
    "start_time": "2025-02-22T10:06:15.889Z"
   },
   {
    "duration": 54,
    "start_time": "2025-02-22T10:09:52.740Z"
   },
   {
    "duration": 40,
    "start_time": "2025-02-22T10:11:02.706Z"
   },
   {
    "duration": 1364,
    "start_time": "2025-02-22T10:12:20.807Z"
   },
   {
    "duration": 1386,
    "start_time": "2025-02-22T10:12:40.573Z"
   },
   {
    "duration": 1362,
    "start_time": "2025-02-22T10:15:41.885Z"
   },
   {
    "duration": 75,
    "start_time": "2025-02-22T10:16:20.114Z"
   },
   {
    "duration": 3,
    "start_time": "2025-02-22T10:21:10.529Z"
   },
   {
    "duration": 2161,
    "start_time": "2025-02-22T10:21:14.526Z"
   },
   {
    "duration": 3,
    "start_time": "2025-02-22T10:21:30.690Z"
   },
   {
    "duration": 2129,
    "start_time": "2025-02-22T10:21:34.097Z"
   },
   {
    "duration": 2096,
    "start_time": "2025-02-22T10:24:23.937Z"
   },
   {
    "duration": 13,
    "start_time": "2025-02-22T10:29:03.577Z"
   },
   {
    "duration": 15,
    "start_time": "2025-02-22T10:30:07.545Z"
   },
   {
    "duration": 2226,
    "start_time": "2025-02-22T10:34:50.100Z"
   },
   {
    "duration": 52,
    "start_time": "2025-02-22T11:12:49.078Z"
   },
   {
    "duration": 5283,
    "start_time": "2025-02-22T11:13:12.605Z"
   },
   {
    "duration": 96,
    "start_time": "2025-02-22T11:13:17.890Z"
   },
   {
    "duration": 86,
    "start_time": "2025-02-22T11:13:17.988Z"
   },
   {
    "duration": 286,
    "start_time": "2025-02-22T11:13:18.076Z"
   },
   {
    "duration": 11,
    "start_time": "2025-02-22T11:13:18.364Z"
   },
   {
    "duration": 9,
    "start_time": "2025-02-22T11:13:18.377Z"
   },
   {
    "duration": 1615,
    "start_time": "2025-02-22T11:13:18.388Z"
   },
   {
    "duration": 168,
    "start_time": "2025-02-22T11:13:20.004Z"
   },
   {
    "duration": 724,
    "start_time": "2025-02-22T11:13:20.175Z"
   },
   {
    "duration": 1198,
    "start_time": "2025-02-22T11:13:20.901Z"
   },
   {
    "duration": 345,
    "start_time": "2025-02-22T11:13:22.101Z"
   },
   {
    "duration": 347,
    "start_time": "2025-02-22T11:13:22.448Z"
   },
   {
    "duration": 3,
    "start_time": "2025-02-22T11:13:22.799Z"
   },
   {
    "duration": 4,
    "start_time": "2025-02-22T11:13:22.805Z"
   },
   {
    "duration": 2194,
    "start_time": "2025-02-22T11:13:22.810Z"
   },
   {
    "duration": 55,
    "start_time": "2025-02-22T11:13:25.006Z"
   },
   {
    "duration": 16,
    "start_time": "2025-02-22T11:16:45.412Z"
   },
   {
    "duration": 5191,
    "start_time": "2025-02-22T11:17:01.314Z"
   },
   {
    "duration": 73,
    "start_time": "2025-02-22T11:17:06.508Z"
   },
   {
    "duration": 71,
    "start_time": "2025-02-22T11:17:06.583Z"
   },
   {
    "duration": 81,
    "start_time": "2025-02-22T11:17:06.656Z"
   },
   {
    "duration": 49,
    "start_time": "2025-02-22T11:17:06.740Z"
   },
   {
    "duration": 48,
    "start_time": "2025-02-22T11:17:06.791Z"
   },
   {
    "duration": 1758,
    "start_time": "2025-02-22T11:17:06.841Z"
   },
   {
    "duration": 170,
    "start_time": "2025-02-22T11:17:08.601Z"
   },
   {
    "duration": 602,
    "start_time": "2025-02-22T11:17:08.773Z"
   },
   {
    "duration": 1214,
    "start_time": "2025-02-22T11:17:09.377Z"
   },
   {
    "duration": 473,
    "start_time": "2025-02-22T11:17:10.593Z"
   },
   {
    "duration": 356,
    "start_time": "2025-02-22T11:17:11.068Z"
   },
   {
    "duration": 2,
    "start_time": "2025-02-22T11:17:11.426Z"
   },
   {
    "duration": 4,
    "start_time": "2025-02-22T11:17:11.431Z"
   },
   {
    "duration": 2246,
    "start_time": "2025-02-22T11:17:11.437Z"
   },
   {
    "duration": 67,
    "start_time": "2025-02-22T11:17:13.685Z"
   },
   {
    "duration": 443,
    "start_time": "2025-02-22T11:21:03.889Z"
   },
   {
    "duration": 2440,
    "start_time": "2025-02-22T11:21:39.907Z"
   },
   {
    "duration": 768,
    "start_time": "2025-02-22T11:27:52.160Z"
   },
   {
    "duration": 17,
    "start_time": "2025-02-22T11:36:04.285Z"
   },
   {
    "duration": 16,
    "start_time": "2025-02-22T11:40:18.159Z"
   },
   {
    "duration": 524,
    "start_time": "2025-02-22T11:40:35.925Z"
   },
   {
    "duration": 761,
    "start_time": "2025-02-22T11:41:06.016Z"
   },
   {
    "duration": 2392,
    "start_time": "2025-02-22T11:41:57.918Z"
   },
   {
    "duration": 57,
    "start_time": "2025-02-22T11:42:11.092Z"
   },
   {
    "duration": 2197,
    "start_time": "2025-02-22T11:42:48.988Z"
   },
   {
    "duration": 51,
    "start_time": "2025-02-22T11:55:35.484Z"
   },
   {
    "duration": 14,
    "start_time": "2025-02-22T11:55:44.022Z"
   },
   {
    "duration": 5170,
    "start_time": "2025-02-22T11:55:53.992Z"
   },
   {
    "duration": 55,
    "start_time": "2025-02-22T11:55:59.165Z"
   },
   {
    "duration": 51,
    "start_time": "2025-02-22T11:55:59.222Z"
   },
   {
    "duration": 50,
    "start_time": "2025-02-22T11:55:59.275Z"
   },
   {
    "duration": 12,
    "start_time": "2025-02-22T11:55:59.326Z"
   },
   {
    "duration": 11,
    "start_time": "2025-02-22T11:55:59.340Z"
   },
   {
    "duration": 1612,
    "start_time": "2025-02-22T11:55:59.353Z"
   },
   {
    "duration": 288,
    "start_time": "2025-02-22T11:56:00.967Z"
   },
   {
    "duration": 565,
    "start_time": "2025-02-22T11:56:01.257Z"
   },
   {
    "duration": 1237,
    "start_time": "2025-02-22T11:56:01.824Z"
   },
   {
    "duration": 358,
    "start_time": "2025-02-22T11:56:03.063Z"
   },
   {
    "duration": 346,
    "start_time": "2025-02-22T11:56:03.422Z"
   },
   {
    "duration": 2,
    "start_time": "2025-02-22T11:56:03.770Z"
   },
   {
    "duration": 8,
    "start_time": "2025-02-22T11:56:03.774Z"
   },
   {
    "duration": 2381,
    "start_time": "2025-02-22T11:56:03.784Z"
   },
   {
    "duration": 72,
    "start_time": "2025-02-22T11:56:06.167Z"
   },
   {
    "duration": 15,
    "start_time": "2025-02-22T11:59:42.732Z"
   },
   {
    "duration": 14,
    "start_time": "2025-02-22T11:59:58.919Z"
   },
   {
    "duration": 2134,
    "start_time": "2025-02-22T12:00:27.037Z"
   },
   {
    "duration": 18,
    "start_time": "2025-02-22T12:01:41.436Z"
   },
   {
    "duration": 18,
    "start_time": "2025-02-22T12:02:20.988Z"
   },
   {
    "duration": 18,
    "start_time": "2025-02-22T12:04:32.923Z"
   },
   {
    "duration": 7,
    "start_time": "2025-02-22T12:04:41.900Z"
   },
   {
    "duration": 23,
    "start_time": "2025-02-22T12:04:48.514Z"
   },
   {
    "duration": 51,
    "start_time": "2025-02-22T12:05:50.530Z"
   },
   {
    "duration": 55,
    "start_time": "2025-02-22T12:05:56.302Z"
   },
   {
    "duration": 79,
    "start_time": "2025-02-22T12:06:02.894Z"
   },
   {
    "duration": 5507,
    "start_time": "2025-02-22T12:06:06.828Z"
   },
   {
    "duration": 62,
    "start_time": "2025-02-22T12:06:12.338Z"
   },
   {
    "duration": 50,
    "start_time": "2025-02-22T12:06:12.402Z"
   },
   {
    "duration": 43,
    "start_time": "2025-02-22T12:06:12.454Z"
   },
   {
    "duration": 11,
    "start_time": "2025-02-22T12:06:12.500Z"
   },
   {
    "duration": 10,
    "start_time": "2025-02-22T12:06:12.513Z"
   },
   {
    "duration": 1613,
    "start_time": "2025-02-22T12:06:12.525Z"
   },
   {
    "duration": 166,
    "start_time": "2025-02-22T12:06:14.140Z"
   },
   {
    "duration": 584,
    "start_time": "2025-02-22T12:06:14.308Z"
   },
   {
    "duration": 1362,
    "start_time": "2025-02-22T12:06:14.894Z"
   },
   {
    "duration": 365,
    "start_time": "2025-02-22T12:06:16.257Z"
   },
   {
    "duration": 342,
    "start_time": "2025-02-22T12:06:16.624Z"
   },
   {
    "duration": 2,
    "start_time": "2025-02-22T12:06:16.968Z"
   },
   {
    "duration": 10,
    "start_time": "2025-02-22T12:06:16.972Z"
   },
   {
    "duration": 2200,
    "start_time": "2025-02-22T12:06:16.984Z"
   },
   {
    "duration": 33,
    "start_time": "2025-02-22T12:06:19.186Z"
   },
   {
    "duration": 20,
    "start_time": "2025-02-22T12:06:19.221Z"
   },
   {
    "duration": 32,
    "start_time": "2025-02-22T12:07:49.012Z"
   },
   {
    "duration": 28,
    "start_time": "2025-02-22T12:08:19.004Z"
   },
   {
    "duration": 35,
    "start_time": "2025-02-22T12:09:24.699Z"
   },
   {
    "duration": 28,
    "start_time": "2025-02-22T12:09:39.866Z"
   },
   {
    "duration": 28,
    "start_time": "2025-02-22T12:09:48.224Z"
   },
   {
    "duration": 27,
    "start_time": "2025-02-22T12:09:57.072Z"
   },
   {
    "duration": 32,
    "start_time": "2025-02-22T12:10:10.361Z"
   },
   {
    "duration": 4,
    "start_time": "2025-02-22T12:10:17.043Z"
   },
   {
    "duration": 36,
    "start_time": "2025-02-22T12:10:21.386Z"
   },
   {
    "duration": 4,
    "start_time": "2025-02-22T12:11:25.993Z"
   },
   {
    "duration": 23,
    "start_time": "2025-02-22T12:11:40.879Z"
   },
   {
    "duration": 21,
    "start_time": "2025-02-22T12:14:12.342Z"
   },
   {
    "duration": 203,
    "start_time": "2025-02-22T12:38:43.911Z"
   },
   {
    "duration": 95,
    "start_time": "2025-02-22T12:40:09.993Z"
   },
   {
    "duration": 22,
    "start_time": "2025-02-22T12:43:13.102Z"
   },
   {
    "duration": 10,
    "start_time": "2025-02-22T12:43:29.620Z"
   },
   {
    "duration": 10,
    "start_time": "2025-02-22T12:44:34.092Z"
   },
   {
    "duration": 759,
    "start_time": "2025-02-22T12:48:08.245Z"
   },
   {
    "duration": 1777,
    "start_time": "2025-02-22T12:48:19.282Z"
   },
   {
    "duration": 722,
    "start_time": "2025-02-22T12:48:26.126Z"
   },
   {
    "duration": 1651,
    "start_time": "2025-02-22T12:48:30.442Z"
   },
   {
    "duration": 16,
    "start_time": "2025-02-22T12:50:17.256Z"
   },
   {
    "duration": 18,
    "start_time": "2025-02-22T12:52:24.004Z"
   },
   {
    "duration": 1845,
    "start_time": "2025-02-22T12:52:33.014Z"
   },
   {
    "duration": 1566,
    "start_time": "2025-02-22T13:16:02.135Z"
   },
   {
    "duration": 1934,
    "start_time": "2025-02-22T13:17:17.243Z"
   },
   {
    "duration": 1745,
    "start_time": "2025-02-22T13:17:59.896Z"
   },
   {
    "duration": 1717,
    "start_time": "2025-02-22T13:18:09.442Z"
   },
   {
    "duration": 732,
    "start_time": "2025-02-22T13:41:33.056Z"
   },
   {
    "duration": 583,
    "start_time": "2025-02-22T13:42:09.958Z"
   },
   {
    "duration": 390,
    "start_time": "2025-02-22T13:42:17.772Z"
   },
   {
    "duration": 34,
    "start_time": "2025-02-22T13:47:24.865Z"
   },
   {
    "duration": 326,
    "start_time": "2025-02-22T13:59:30.149Z"
   },
   {
    "duration": 307,
    "start_time": "2025-02-22T13:59:48.953Z"
   },
   {
    "duration": 304,
    "start_time": "2025-02-22T14:00:11.436Z"
   },
   {
    "duration": 173,
    "start_time": "2025-02-22T14:00:35.329Z"
   },
   {
    "duration": 448,
    "start_time": "2025-02-22T14:00:56.475Z"
   },
   {
    "duration": 251,
    "start_time": "2025-02-22T14:01:17.317Z"
   },
   {
    "duration": 963,
    "start_time": "2025-02-22T14:07:29.368Z"
   },
   {
    "duration": 5195,
    "start_time": "2025-02-22T14:07:34.520Z"
   },
   {
    "duration": 100,
    "start_time": "2025-02-22T14:07:39.717Z"
   },
   {
    "duration": 135,
    "start_time": "2025-02-22T14:07:39.819Z"
   },
   {
    "duration": 194,
    "start_time": "2025-02-22T14:07:39.956Z"
   },
   {
    "duration": 12,
    "start_time": "2025-02-22T14:07:40.153Z"
   },
   {
    "duration": 11,
    "start_time": "2025-02-22T14:07:40.166Z"
   },
   {
    "duration": 1627,
    "start_time": "2025-02-22T14:07:40.179Z"
   },
   {
    "duration": 165,
    "start_time": "2025-02-22T14:07:41.807Z"
   },
   {
    "duration": 719,
    "start_time": "2025-02-22T14:07:41.973Z"
   },
   {
    "duration": 1190,
    "start_time": "2025-02-22T14:07:42.694Z"
   },
   {
    "duration": 381,
    "start_time": "2025-02-22T14:07:43.886Z"
   },
   {
    "duration": 359,
    "start_time": "2025-02-22T14:07:44.269Z"
   },
   {
    "duration": 4,
    "start_time": "2025-02-22T14:07:44.630Z"
   },
   {
    "duration": 2180,
    "start_time": "2025-02-22T14:07:44.637Z"
   },
   {
    "duration": 21,
    "start_time": "2025-02-22T14:07:46.819Z"
   },
   {
    "duration": 31,
    "start_time": "2025-02-22T14:07:46.842Z"
   },
   {
    "duration": 0,
    "start_time": "2025-02-22T14:07:46.875Z"
   },
   {
    "duration": 0,
    "start_time": "2025-02-22T14:07:46.900Z"
   },
   {
    "duration": 0,
    "start_time": "2025-02-22T14:07:46.901Z"
   },
   {
    "duration": 0,
    "start_time": "2025-02-22T14:07:46.902Z"
   },
   {
    "duration": 0,
    "start_time": "2025-02-22T14:07:46.903Z"
   },
   {
    "duration": 0,
    "start_time": "2025-02-22T14:07:46.904Z"
   },
   {
    "duration": 1,
    "start_time": "2025-02-22T14:07:46.905Z"
   },
   {
    "duration": 0,
    "start_time": "2025-02-22T14:07:46.907Z"
   },
   {
    "duration": 0,
    "start_time": "2025-02-22T14:07:46.908Z"
   },
   {
    "duration": 23,
    "start_time": "2025-02-22T14:09:21.827Z"
   },
   {
    "duration": 215,
    "start_time": "2025-02-22T14:09:28.822Z"
   },
   {
    "duration": 63,
    "start_time": "2025-02-22T14:09:29.039Z"
   },
   {
    "duration": 11,
    "start_time": "2025-02-22T14:09:29.105Z"
   },
   {
    "duration": 88,
    "start_time": "2025-02-22T14:09:29.118Z"
   },
   {
    "duration": 1791,
    "start_time": "2025-02-22T14:09:29.208Z"
   },
   {
    "duration": 240,
    "start_time": "2025-02-22T14:09:31.001Z"
   },
   {
    "duration": 1106,
    "start_time": "2025-02-22T14:09:31.242Z"
   },
   {
    "duration": 0,
    "start_time": "2025-02-22T14:09:32.349Z"
   },
   {
    "duration": 0,
    "start_time": "2025-02-22T14:09:32.351Z"
   },
   {
    "duration": 7,
    "start_time": "2025-02-22T14:10:25.742Z"
   },
   {
    "duration": 34,
    "start_time": "2025-02-22T14:10:31.251Z"
   },
   {
    "duration": 24,
    "start_time": "2025-02-22T14:10:39.910Z"
   },
   {
    "duration": 33,
    "start_time": "2025-02-22T14:10:45.503Z"
   },
   {
    "duration": 69,
    "start_time": "2025-02-22T14:13:19.919Z"
   },
   {
    "duration": 5332,
    "start_time": "2025-02-22T14:13:25.655Z"
   },
   {
    "duration": 19,
    "start_time": "2025-02-22T14:21:58.000Z"
   },
   {
    "duration": 5532,
    "start_time": "2025-02-22T14:22:09.475Z"
   },
   {
    "duration": 5316,
    "start_time": "2025-02-22T14:22:24.199Z"
   },
   {
    "duration": 5236,
    "start_time": "2025-02-22T14:22:50.118Z"
   },
   {
    "duration": 26,
    "start_time": "2025-02-22T14:23:06.483Z"
   },
   {
    "duration": 2098,
    "start_time": "2025-02-22T14:23:17.380Z"
   },
   {
    "duration": 5568,
    "start_time": "2025-02-22T14:23:37.452Z"
   },
   {
    "duration": 5192,
    "start_time": "2025-02-22T14:24:25.237Z"
   },
   {
    "duration": 46955,
    "start_time": "2025-02-22T14:24:34.236Z"
   },
   {
    "duration": 62591,
    "start_time": "2025-02-22T14:25:42.509Z"
   },
   {
    "duration": 51522,
    "start_time": "2025-02-22T14:27:19.541Z"
   },
   {
    "duration": 23,
    "start_time": "2025-02-22T14:30:22.925Z"
   },
   {
    "duration": 1005,
    "start_time": "2025-02-22T14:33:21.934Z"
   },
   {
    "duration": 34,
    "start_time": "2025-02-22T14:33:59.305Z"
   },
   {
    "duration": 5265,
    "start_time": "2025-02-22T14:34:13.254Z"
   },
   {
    "duration": 67,
    "start_time": "2025-02-22T14:34:18.522Z"
   },
   {
    "duration": 61,
    "start_time": "2025-02-22T14:34:18.591Z"
   },
   {
    "duration": 43,
    "start_time": "2025-02-22T14:34:18.654Z"
   },
   {
    "duration": 13,
    "start_time": "2025-02-22T14:34:18.699Z"
   },
   {
    "duration": 10,
    "start_time": "2025-02-22T14:34:18.714Z"
   },
   {
    "duration": 1538,
    "start_time": "2025-02-22T14:34:18.725Z"
   },
   {
    "duration": 181,
    "start_time": "2025-02-22T14:34:20.265Z"
   },
   {
    "duration": 727,
    "start_time": "2025-02-22T14:34:20.449Z"
   },
   {
    "duration": 1171,
    "start_time": "2025-02-22T14:34:21.178Z"
   },
   {
    "duration": 359,
    "start_time": "2025-02-22T14:34:22.351Z"
   },
   {
    "duration": 332,
    "start_time": "2025-02-22T14:34:22.711Z"
   },
   {
    "duration": 4,
    "start_time": "2025-02-22T14:34:23.045Z"
   },
   {
    "duration": 2202,
    "start_time": "2025-02-22T14:34:23.051Z"
   },
   {
    "duration": 22,
    "start_time": "2025-02-22T14:34:25.255Z"
   },
   {
    "duration": 38,
    "start_time": "2025-02-22T14:34:25.279Z"
   },
   {
    "duration": 47,
    "start_time": "2025-02-22T14:34:25.319Z"
   },
   {
    "duration": 41,
    "start_time": "2025-02-22T14:34:25.367Z"
   },
   {
    "duration": 10,
    "start_time": "2025-02-22T14:34:25.410Z"
   },
   {
    "duration": 10,
    "start_time": "2025-02-22T14:34:25.422Z"
   },
   {
    "duration": 1708,
    "start_time": "2025-02-22T14:34:25.434Z"
   },
   {
    "duration": 231,
    "start_time": "2025-02-22T14:34:27.143Z"
   },
   {
    "duration": 7,
    "start_time": "2025-02-22T14:34:27.376Z"
   },
   {
    "duration": 47,
    "start_time": "2025-02-22T14:34:27.385Z"
   },
   {
    "duration": 52065,
    "start_time": "2025-02-22T14:34:27.434Z"
   },
   {
    "duration": 115,
    "start_time": "2025-02-22T14:35:19.501Z"
   },
   {
    "duration": 12762,
    "start_time": "2025-02-22T14:36:52.567Z"
   },
   {
    "duration": 1098,
    "start_time": "2025-02-22T14:37:10.469Z"
   },
   {
    "duration": 22,
    "start_time": "2025-02-22T14:37:50.425Z"
   },
   {
    "duration": 5378,
    "start_time": "2025-02-22T14:37:58.674Z"
   },
   {
    "duration": 57,
    "start_time": "2025-02-22T14:38:04.055Z"
   },
   {
    "duration": 52,
    "start_time": "2025-02-22T14:38:04.114Z"
   },
   {
    "duration": 58,
    "start_time": "2025-02-22T14:38:04.168Z"
   },
   {
    "duration": 12,
    "start_time": "2025-02-22T14:38:04.229Z"
   },
   {
    "duration": 10,
    "start_time": "2025-02-22T14:38:04.243Z"
   },
   {
    "duration": 1648,
    "start_time": "2025-02-22T14:38:04.255Z"
   },
   {
    "duration": 161,
    "start_time": "2025-02-22T14:38:05.905Z"
   },
   {
    "duration": 605,
    "start_time": "2025-02-22T14:38:06.068Z"
   },
   {
    "duration": 1371,
    "start_time": "2025-02-22T14:38:06.674Z"
   },
   {
    "duration": 356,
    "start_time": "2025-02-22T14:38:08.046Z"
   },
   {
    "duration": 343,
    "start_time": "2025-02-22T14:38:08.404Z"
   },
   {
    "duration": 3,
    "start_time": "2025-02-22T14:38:08.749Z"
   },
   {
    "duration": 2210,
    "start_time": "2025-02-22T14:38:08.754Z"
   },
   {
    "duration": 34,
    "start_time": "2025-02-22T14:38:10.965Z"
   },
   {
    "duration": 21,
    "start_time": "2025-02-22T14:38:11.001Z"
   },
   {
    "duration": 50,
    "start_time": "2025-02-22T14:38:11.023Z"
   },
   {
    "duration": 40,
    "start_time": "2025-02-22T14:38:11.074Z"
   },
   {
    "duration": 8,
    "start_time": "2025-02-22T14:38:11.115Z"
   },
   {
    "duration": 8,
    "start_time": "2025-02-22T14:38:11.125Z"
   },
   {
    "duration": 1685,
    "start_time": "2025-02-22T14:38:11.134Z"
   },
   {
    "duration": 236,
    "start_time": "2025-02-22T14:38:12.821Z"
   },
   {
    "duration": 8,
    "start_time": "2025-02-22T14:38:13.059Z"
   },
   {
    "duration": 51,
    "start_time": "2025-02-22T14:38:13.069Z"
   },
   {
    "duration": 16455,
    "start_time": "2025-02-22T14:38:13.122Z"
   },
   {
    "duration": 20,
    "start_time": "2025-02-22T14:38:29.579Z"
   },
   {
    "duration": 126,
    "start_time": "2025-02-22T14:38:29.601Z"
   },
   {
    "duration": 5197,
    "start_time": "2025-02-22T14:40:31.649Z"
   },
   {
    "duration": 66,
    "start_time": "2025-02-22T14:40:36.849Z"
   },
   {
    "duration": 63,
    "start_time": "2025-02-22T14:40:36.917Z"
   },
   {
    "duration": 48,
    "start_time": "2025-02-22T14:40:36.982Z"
   },
   {
    "duration": 12,
    "start_time": "2025-02-22T14:40:37.032Z"
   },
   {
    "duration": 10,
    "start_time": "2025-02-22T14:40:37.046Z"
   },
   {
    "duration": 1605,
    "start_time": "2025-02-22T14:40:37.057Z"
   },
   {
    "duration": 168,
    "start_time": "2025-02-22T14:40:38.664Z"
   },
   {
    "duration": 567,
    "start_time": "2025-02-22T14:40:38.834Z"
   },
   {
    "duration": 1366,
    "start_time": "2025-02-22T14:40:39.403Z"
   },
   {
    "duration": 343,
    "start_time": "2025-02-22T14:40:40.772Z"
   },
   {
    "duration": 345,
    "start_time": "2025-02-22T14:40:41.117Z"
   },
   {
    "duration": 4,
    "start_time": "2025-02-22T14:40:41.464Z"
   },
   {
    "duration": 2213,
    "start_time": "2025-02-22T14:40:41.472Z"
   },
   {
    "duration": 32,
    "start_time": "2025-02-22T14:40:43.687Z"
   },
   {
    "duration": 24,
    "start_time": "2025-02-22T14:40:43.721Z"
   },
   {
    "duration": 66,
    "start_time": "2025-02-22T14:40:43.748Z"
   },
   {
    "duration": 39,
    "start_time": "2025-02-22T14:40:43.816Z"
   },
   {
    "duration": 10,
    "start_time": "2025-02-22T14:40:43.857Z"
   },
   {
    "duration": 10,
    "start_time": "2025-02-22T14:40:43.869Z"
   },
   {
    "duration": 1736,
    "start_time": "2025-02-22T14:40:43.881Z"
   },
   {
    "duration": 235,
    "start_time": "2025-02-22T14:40:45.619Z"
   },
   {
    "duration": 18,
    "start_time": "2025-02-22T14:42:21.938Z"
   },
   {
    "duration": 657,
    "start_time": "2025-02-22T14:43:04.983Z"
   },
   {
    "duration": 1696,
    "start_time": "2025-02-22T14:43:22.193Z"
   },
   {
    "duration": 35,
    "start_time": "2025-02-22T14:44:58.299Z"
   },
   {
    "duration": 54554,
    "start_time": "2025-02-22T14:45:12.759Z"
   },
   {
    "duration": 1016,
    "start_time": "2025-02-22T14:46:13.604Z"
   },
   {
    "duration": 1156,
    "start_time": "2025-02-22T14:46:34.890Z"
   },
   {
    "duration": 17,
    "start_time": "2025-02-22T14:47:05.798Z"
   },
   {
    "duration": 73,
    "start_time": "2025-02-22T14:47:44.424Z"
   },
   {
    "duration": 87,
    "start_time": "2025-02-22T14:49:53.881Z"
   },
   {
    "duration": 37,
    "start_time": "2025-02-22T14:50:03.642Z"
   },
   {
    "duration": 36,
    "start_time": "2025-02-22T14:50:26.120Z"
   },
   {
    "duration": 11,
    "start_time": "2025-02-22T14:50:52.452Z"
   },
   {
    "duration": 10,
    "start_time": "2025-02-22T14:51:09.516Z"
   },
   {
    "duration": 654,
    "start_time": "2025-02-22T14:51:32.278Z"
   },
   {
    "duration": 903,
    "start_time": "2025-02-22T14:51:45.622Z"
   },
   {
    "duration": 162,
    "start_time": "2025-02-22T14:52:01.226Z"
   },
   {
    "duration": 160,
    "start_time": "2025-02-22T14:52:06.188Z"
   },
   {
    "duration": 10,
    "start_time": "2025-02-22T14:52:33.272Z"
   },
   {
    "duration": 13,
    "start_time": "2025-02-22T14:52:52.855Z"
   },
   {
    "duration": 15,
    "start_time": "2025-02-22T14:53:15.504Z"
   },
   {
    "duration": 111,
    "start_time": "2025-02-22T14:53:41.731Z"
   },
   {
    "duration": 502,
    "start_time": "2025-02-22T14:54:06.153Z"
   },
   {
    "duration": 353,
    "start_time": "2025-02-22T14:54:19.217Z"
   },
   {
    "duration": 67,
    "start_time": "2025-02-22T14:55:11.517Z"
   },
   {
    "duration": 399,
    "start_time": "2025-02-22T14:55:19.591Z"
   },
   {
    "duration": 17,
    "start_time": "2025-02-22T15:00:17.306Z"
   },
   {
    "duration": 1474,
    "start_time": "2025-02-22T15:00:32.644Z"
   },
   {
    "duration": 26193,
    "start_time": "2025-02-22T15:03:45.863Z"
   },
   {
    "duration": 0,
    "start_time": "2025-02-22T15:04:12.058Z"
   },
   {
    "duration": 75,
    "start_time": "2025-02-22T15:04:33.082Z"
   },
   {
    "duration": 26874,
    "start_time": "2025-02-22T15:04:40.464Z"
   },
   {
    "duration": 6,
    "start_time": "2025-02-22T15:05:38.641Z"
   },
   {
    "duration": 78,
    "start_time": "2025-02-22T15:05:40.368Z"
   },
   {
    "duration": 105,
    "start_time": "2025-02-22T15:05:52.989Z"
   },
   {
    "duration": 17,
    "start_time": "2025-02-22T15:05:58.473Z"
   },
   {
    "duration": 25,
    "start_time": "2025-02-22T15:06:50.258Z"
   },
   {
    "duration": 20,
    "start_time": "2025-02-22T15:07:55.880Z"
   },
   {
    "duration": 6029,
    "start_time": "2025-02-22T15:08:11.721Z"
   },
   {
    "duration": 5,
    "start_time": "2025-02-22T15:08:29.358Z"
   },
   {
    "duration": 20,
    "start_time": "2025-02-22T15:08:32.479Z"
   },
   {
    "duration": 6,
    "start_time": "2025-02-22T15:08:52.436Z"
   },
   {
    "duration": 20,
    "start_time": "2025-02-22T15:08:54.610Z"
   },
   {
    "duration": 6144,
    "start_time": "2025-02-22T15:09:00.496Z"
   },
   {
    "duration": 5264,
    "start_time": "2025-02-22T15:09:51.796Z"
   },
   {
    "duration": 106,
    "start_time": "2025-02-22T15:09:57.063Z"
   },
   {
    "duration": 172,
    "start_time": "2025-02-22T15:09:57.171Z"
   },
   {
    "duration": 104,
    "start_time": "2025-02-22T15:09:57.345Z"
   },
   {
    "duration": 11,
    "start_time": "2025-02-22T15:09:57.451Z"
   },
   {
    "duration": 10,
    "start_time": "2025-02-22T15:09:57.463Z"
   },
   {
    "duration": 1620,
    "start_time": "2025-02-22T15:09:57.474Z"
   },
   {
    "duration": 165,
    "start_time": "2025-02-22T15:09:59.099Z"
   },
   {
    "duration": 723,
    "start_time": "2025-02-22T15:09:59.266Z"
   },
   {
    "duration": 1268,
    "start_time": "2025-02-22T15:09:59.991Z"
   },
   {
    "duration": 382,
    "start_time": "2025-02-22T15:10:01.261Z"
   },
   {
    "duration": 380,
    "start_time": "2025-02-22T15:10:01.646Z"
   },
   {
    "duration": 4,
    "start_time": "2025-02-22T15:10:02.028Z"
   },
   {
    "duration": 2301,
    "start_time": "2025-02-22T15:10:02.035Z"
   },
   {
    "duration": 24,
    "start_time": "2025-02-22T15:10:04.339Z"
   },
   {
    "duration": 44,
    "start_time": "2025-02-22T15:10:04.366Z"
   },
   {
    "duration": 96,
    "start_time": "2025-02-22T15:10:04.412Z"
   },
   {
    "duration": 86,
    "start_time": "2025-02-22T15:10:04.510Z"
   },
   {
    "duration": 12,
    "start_time": "2025-02-22T15:10:04.597Z"
   },
   {
    "duration": 58,
    "start_time": "2025-02-22T15:10:04.611Z"
   },
   {
    "duration": 1718,
    "start_time": "2025-02-22T15:10:04.671Z"
   },
   {
    "duration": 245,
    "start_time": "2025-02-22T15:10:06.390Z"
   },
   {
    "duration": 36,
    "start_time": "2025-02-22T15:10:06.637Z"
   },
   {
    "duration": 428,
    "start_time": "2025-02-22T15:10:06.675Z"
   },
   {
    "duration": 1442,
    "start_time": "2025-02-22T15:10:07.105Z"
   },
   {
    "duration": 7,
    "start_time": "2025-02-22T15:10:08.549Z"
   },
   {
    "duration": 91,
    "start_time": "2025-02-22T15:10:08.557Z"
   },
   {
    "duration": 6144,
    "start_time": "2025-02-22T15:10:08.650Z"
   },
   {
    "duration": 0,
    "start_time": "2025-02-22T15:10:14.800Z"
   },
   {
    "duration": 0,
    "start_time": "2025-02-22T15:10:14.801Z"
   },
   {
    "duration": 19,
    "start_time": "2025-02-22T15:10:36.880Z"
   },
   {
    "duration": 15,
    "start_time": "2025-02-22T15:11:37.273Z"
   },
   {
    "duration": 26655,
    "start_time": "2025-02-22T15:11:40.973Z"
   },
   {
    "duration": 21,
    "start_time": "2025-02-22T15:13:53.968Z"
   },
   {
    "duration": 4,
    "start_time": "2025-02-22T15:14:24.765Z"
   },
   {
    "duration": 19,
    "start_time": "2025-02-22T15:14:41.920Z"
   },
   {
    "duration": 39854,
    "start_time": "2025-02-22T15:14:51.824Z"
   },
   {
    "duration": 9,
    "start_time": "2025-02-22T15:16:13.883Z"
   },
   {
    "duration": 117,
    "start_time": "2025-02-22T15:16:15.953Z"
   },
   {
    "duration": 21,
    "start_time": "2025-02-22T15:18:12.110Z"
   },
   {
    "duration": 34194,
    "start_time": "2025-02-22T15:18:19.798Z"
   },
   {
    "duration": 89,
    "start_time": "2025-02-22T15:18:59.512Z"
   },
   {
    "duration": 17,
    "start_time": "2025-02-22T15:21:43.683Z"
   },
   {
    "duration": 32483,
    "start_time": "2025-02-22T15:22:02.517Z"
   },
   {
    "duration": 97,
    "start_time": "2025-02-22T15:22:40.242Z"
   },
   {
    "duration": 15,
    "start_time": "2025-02-22T15:24:07.505Z"
   },
   {
    "duration": 20114,
    "start_time": "2025-02-22T15:24:19.463Z"
   },
   {
    "duration": 98,
    "start_time": "2025-02-22T15:24:46.895Z"
   },
   {
    "duration": 23682,
    "start_time": "2025-02-22T15:25:39.016Z"
   },
   {
    "duration": 15,
    "start_time": "2025-02-22T15:26:18.090Z"
   },
   {
    "duration": 22249,
    "start_time": "2025-02-22T15:26:23.545Z"
   },
   {
    "duration": 23,
    "start_time": "2025-02-22T15:26:55.259Z"
   },
   {
    "duration": 15,
    "start_time": "2025-02-22T15:27:34.128Z"
   },
   {
    "duration": 13,
    "start_time": "2025-02-22T15:28:13.315Z"
   },
   {
    "duration": 20661,
    "start_time": "2025-02-22T15:28:34.388Z"
   },
   {
    "duration": 21,
    "start_time": "2025-02-22T15:28:59.342Z"
   },
   {
    "duration": 16,
    "start_time": "2025-02-22T15:29:44.303Z"
   },
   {
    "duration": 23833,
    "start_time": "2025-02-22T15:29:52.997Z"
   },
   {
    "duration": 23,
    "start_time": "2025-02-22T15:30:28.737Z"
   },
   {
    "duration": 18,
    "start_time": "2025-02-22T15:31:04.289Z"
   },
   {
    "duration": 24358,
    "start_time": "2025-02-22T15:31:47.347Z"
   },
   {
    "duration": 19,
    "start_time": "2025-02-22T15:32:19.344Z"
   },
   {
    "duration": 110,
    "start_time": "2025-02-22T15:32:33.471Z"
   },
   {
    "duration": 16,
    "start_time": "2025-02-22T15:33:11.459Z"
   },
   {
    "duration": 22236,
    "start_time": "2025-02-22T15:33:18.648Z"
   },
   {
    "duration": 88,
    "start_time": "2025-02-22T15:33:47.128Z"
   },
   {
    "duration": 15,
    "start_time": "2025-02-22T15:35:49.506Z"
   },
   {
    "duration": 18979,
    "start_time": "2025-02-22T15:35:59.056Z"
   },
   {
    "duration": 86,
    "start_time": "2025-02-22T15:36:25.285Z"
   },
   {
    "duration": 5242,
    "start_time": "2025-02-22T15:47:34.477Z"
   },
   {
    "duration": 5323,
    "start_time": "2025-02-22T15:51:21.243Z"
   },
   {
    "duration": 58,
    "start_time": "2025-02-22T15:51:26.568Z"
   },
   {
    "duration": 53,
    "start_time": "2025-02-22T15:51:26.628Z"
   },
   {
    "duration": 57,
    "start_time": "2025-02-22T15:51:26.682Z"
   },
   {
    "duration": 12,
    "start_time": "2025-02-22T15:51:26.741Z"
   },
   {
    "duration": 10,
    "start_time": "2025-02-22T15:51:26.755Z"
   },
   {
    "duration": 1747,
    "start_time": "2025-02-22T15:51:26.767Z"
   },
   {
    "duration": 169,
    "start_time": "2025-02-22T15:51:28.515Z"
   },
   {
    "duration": 605,
    "start_time": "2025-02-22T15:51:28.686Z"
   },
   {
    "duration": 1266,
    "start_time": "2025-02-22T15:51:29.293Z"
   },
   {
    "duration": 367,
    "start_time": "2025-02-22T15:51:30.562Z"
   },
   {
    "duration": 486,
    "start_time": "2025-02-22T15:51:30.931Z"
   },
   {
    "duration": 4,
    "start_time": "2025-02-22T15:51:31.419Z"
   },
   {
    "duration": 2363,
    "start_time": "2025-02-22T15:51:31.427Z"
   },
   {
    "duration": 36,
    "start_time": "2025-02-22T15:51:33.791Z"
   },
   {
    "duration": 27,
    "start_time": "2025-02-22T15:51:33.829Z"
   },
   {
    "duration": 90,
    "start_time": "2025-02-22T15:51:33.858Z"
   },
   {
    "duration": 45,
    "start_time": "2025-02-22T15:51:33.951Z"
   },
   {
    "duration": 9,
    "start_time": "2025-02-22T15:51:33.997Z"
   },
   {
    "duration": 11,
    "start_time": "2025-02-22T15:51:34.007Z"
   },
   {
    "duration": 1651,
    "start_time": "2025-02-22T15:51:34.020Z"
   },
   {
    "duration": 245,
    "start_time": "2025-02-22T15:51:35.673Z"
   },
   {
    "duration": 37,
    "start_time": "2025-02-22T15:51:35.920Z"
   },
   {
    "duration": 564,
    "start_time": "2025-02-22T15:51:35.959Z"
   },
   {
    "duration": 1285,
    "start_time": "2025-02-22T15:51:36.525Z"
   },
   {
    "duration": 7,
    "start_time": "2025-02-22T15:51:37.812Z"
   },
   {
    "duration": 16,
    "start_time": "2025-02-22T15:51:37.820Z"
   },
   {
    "duration": 4811,
    "start_time": "2025-02-22T15:51:37.838Z"
   },
   {
    "duration": 0,
    "start_time": "2025-02-22T15:51:42.651Z"
   },
   {
    "duration": 0,
    "start_time": "2025-02-22T15:51:42.653Z"
   },
   {
    "duration": 20,
    "start_time": "2025-02-22T15:53:17.790Z"
   },
   {
    "duration": 22957,
    "start_time": "2025-02-22T15:54:21.756Z"
   },
   {
    "duration": 9,
    "start_time": "2025-02-22T15:55:19.024Z"
   },
   {
    "duration": 27,
    "start_time": "2025-02-22T15:55:20.430Z"
   },
   {
    "duration": 94,
    "start_time": "2025-02-22T15:55:33.716Z"
   },
   {
    "duration": 22821,
    "start_time": "2025-02-22T16:00:47.578Z"
   },
   {
    "duration": 111,
    "start_time": "2025-02-22T16:01:22.075Z"
   },
   {
    "duration": 97,
    "start_time": "2025-02-22T16:05:51.318Z"
   },
   {
    "duration": 20048,
    "start_time": "2025-02-22T16:06:07.021Z"
   },
   {
    "duration": 24,
    "start_time": "2025-02-22T16:06:55.852Z"
   },
   {
    "duration": 26071,
    "start_time": "2025-02-22T16:07:06.541Z"
   },
   {
    "duration": 101,
    "start_time": "2025-02-22T16:07:39.166Z"
   },
   {
    "duration": 118,
    "start_time": "2025-02-22T16:07:53.868Z"
   },
   {
    "duration": 21659,
    "start_time": "2025-02-22T16:09:17.109Z"
   },
   {
    "duration": 90,
    "start_time": "2025-02-22T16:09:52.259Z"
   },
   {
    "duration": 11,
    "start_time": "2025-02-22T16:12:09.416Z"
   },
   {
    "duration": 11,
    "start_time": "2025-02-22T16:12:17.920Z"
   },
   {
    "duration": 12,
    "start_time": "2025-02-22T16:12:39.691Z"
   },
   {
    "duration": 11,
    "start_time": "2025-02-22T16:13:21.879Z"
   },
   {
    "duration": 4,
    "start_time": "2025-02-22T16:13:29.645Z"
   },
   {
    "duration": 11,
    "start_time": "2025-02-22T16:13:37.328Z"
   },
   {
    "duration": 4,
    "start_time": "2025-02-22T16:16:00.287Z"
   },
   {
    "duration": 10,
    "start_time": "2025-02-22T16:16:55.122Z"
   },
   {
    "duration": 12706,
    "start_time": "2025-02-22T16:17:23.673Z"
   },
   {
    "duration": 18,
    "start_time": "2025-02-22T16:17:47.272Z"
   },
   {
    "duration": 11,
    "start_time": "2025-02-22T16:18:09.806Z"
   },
   {
    "duration": 99,
    "start_time": "2025-02-22T16:18:10.215Z"
   },
   {
    "duration": 10,
    "start_time": "2025-02-22T16:18:29.047Z"
   },
   {
    "duration": 3,
    "start_time": "2025-02-22T16:18:34.890Z"
   },
   {
    "duration": 5,
    "start_time": "2025-02-22T16:18:39.354Z"
   },
   {
    "duration": 5,
    "start_time": "2025-02-22T16:19:25.296Z"
   },
   {
    "duration": 11,
    "start_time": "2025-02-22T16:19:49.352Z"
   },
   {
    "duration": 11,
    "start_time": "2025-02-22T16:20:05.040Z"
   },
   {
    "duration": 20683,
    "start_time": "2025-02-22T16:22:14.909Z"
   },
   {
    "duration": 24,
    "start_time": "2025-02-22T16:22:42.898Z"
   },
   {
    "duration": 10,
    "start_time": "2025-02-22T16:22:49.012Z"
   },
   {
    "duration": 4,
    "start_time": "2025-02-22T16:22:58.080Z"
   },
   {
    "duration": 4,
    "start_time": "2025-02-22T16:23:07.835Z"
   },
   {
    "duration": 18151,
    "start_time": "2025-02-22T16:23:31.250Z"
   },
   {
    "duration": 75,
    "start_time": "2025-02-22T16:23:56.185Z"
   },
   {
    "duration": 21777,
    "start_time": "2025-02-22T16:24:08.336Z"
   },
   {
    "duration": 92,
    "start_time": "2025-02-22T16:24:36.825Z"
   },
   {
    "duration": 23260,
    "start_time": "2025-02-22T16:24:51.873Z"
   },
   {
    "duration": 93,
    "start_time": "2025-02-22T16:25:28.590Z"
   },
   {
    "duration": 22523,
    "start_time": "2025-02-22T16:25:55.297Z"
   },
   {
    "duration": 8580,
    "start_time": "2025-02-22T16:27:58.593Z"
   },
   {
    "duration": 18,
    "start_time": "2025-02-22T16:28:47.518Z"
   },
   {
    "duration": 17,
    "start_time": "2025-02-22T16:29:34.747Z"
   },
   {
    "duration": 75,
    "start_time": "2025-02-22T16:33:12.849Z"
   },
   {
    "duration": 12421,
    "start_time": "2025-02-22T16:33:18.813Z"
   },
   {
    "duration": 12675,
    "start_time": "2025-02-22T16:34:30.025Z"
   },
   {
    "duration": 107,
    "start_time": "2025-02-22T16:34:42.703Z"
   },
   {
    "duration": 416,
    "start_time": "2025-02-22T16:34:42.812Z"
   },
   {
    "duration": 118,
    "start_time": "2025-02-22T16:34:43.230Z"
   },
   {
    "duration": 12,
    "start_time": "2025-02-22T16:34:43.350Z"
   },
   {
    "duration": 10,
    "start_time": "2025-02-22T16:34:43.364Z"
   },
   {
    "duration": 1768,
    "start_time": "2025-02-22T16:34:43.376Z"
   },
   {
    "duration": 174,
    "start_time": "2025-02-22T16:34:45.147Z"
   },
   {
    "duration": 579,
    "start_time": "2025-02-22T16:34:45.323Z"
   },
   {
    "duration": 1189,
    "start_time": "2025-02-22T16:34:45.903Z"
   },
   {
    "duration": 346,
    "start_time": "2025-02-22T16:34:47.094Z"
   },
   {
    "duration": 472,
    "start_time": "2025-02-22T16:34:47.442Z"
   },
   {
    "duration": 4,
    "start_time": "2025-02-22T16:34:47.916Z"
   },
   {
    "duration": 147,
    "start_time": "2025-02-22T16:34:47.923Z"
   },
   {
    "duration": 0,
    "start_time": "2025-02-22T16:34:48.072Z"
   },
   {
    "duration": 0,
    "start_time": "2025-02-22T16:34:48.073Z"
   },
   {
    "duration": 0,
    "start_time": "2025-02-22T16:34:48.074Z"
   },
   {
    "duration": 0,
    "start_time": "2025-02-22T16:34:48.075Z"
   },
   {
    "duration": 0,
    "start_time": "2025-02-22T16:34:48.077Z"
   },
   {
    "duration": 0,
    "start_time": "2025-02-22T16:34:48.078Z"
   },
   {
    "duration": 0,
    "start_time": "2025-02-22T16:34:48.079Z"
   },
   {
    "duration": 0,
    "start_time": "2025-02-22T16:34:48.080Z"
   },
   {
    "duration": 0,
    "start_time": "2025-02-22T16:34:48.098Z"
   },
   {
    "duration": 0,
    "start_time": "2025-02-22T16:34:48.100Z"
   },
   {
    "duration": 0,
    "start_time": "2025-02-22T16:34:48.101Z"
   },
   {
    "duration": 0,
    "start_time": "2025-02-22T16:34:48.102Z"
   },
   {
    "duration": 0,
    "start_time": "2025-02-22T16:34:48.103Z"
   },
   {
    "duration": 0,
    "start_time": "2025-02-22T16:34:48.105Z"
   },
   {
    "duration": 0,
    "start_time": "2025-02-22T16:34:48.106Z"
   },
   {
    "duration": 0,
    "start_time": "2025-02-22T16:34:48.107Z"
   },
   {
    "duration": 2598,
    "start_time": "2025-02-22T16:35:01.716Z"
   },
   {
    "duration": 2461,
    "start_time": "2025-02-22T16:35:19.892Z"
   },
   {
    "duration": 21,
    "start_time": "2025-02-22T16:35:22.355Z"
   },
   {
    "duration": 39,
    "start_time": "2025-02-22T16:35:22.378Z"
   },
   {
    "duration": 96,
    "start_time": "2025-02-22T16:35:22.419Z"
   },
   {
    "duration": 79,
    "start_time": "2025-02-22T16:35:22.519Z"
   },
   {
    "duration": 11,
    "start_time": "2025-02-22T16:35:22.600Z"
   },
   {
    "duration": 21,
    "start_time": "2025-02-22T16:35:22.613Z"
   },
   {
    "duration": 1622,
    "start_time": "2025-02-22T16:35:22.636Z"
   },
   {
    "duration": 239,
    "start_time": "2025-02-22T16:35:24.260Z"
   },
   {
    "duration": 38,
    "start_time": "2025-02-22T16:35:24.501Z"
   },
   {
    "duration": 521,
    "start_time": "2025-02-22T16:35:24.541Z"
   },
   {
    "duration": 1296,
    "start_time": "2025-02-22T16:35:25.064Z"
   },
   {
    "duration": 6,
    "start_time": "2025-02-22T16:35:26.362Z"
   },
   {
    "duration": 29,
    "start_time": "2025-02-22T16:35:26.371Z"
   },
   {
    "duration": 18,
    "start_time": "2025-02-22T16:35:26.402Z"
   },
   {
    "duration": 0,
    "start_time": "2025-02-22T16:35:26.421Z"
   },
   {
    "duration": 0,
    "start_time": "2025-02-22T16:35:26.423Z"
   },
   {
    "duration": 29,
    "start_time": "2025-02-22T16:36:28.033Z"
   },
   {
    "duration": 73,
    "start_time": "2025-02-22T16:36:57.602Z"
   },
   {
    "duration": 940,
    "start_time": "2025-02-22T16:37:35.513Z"
   },
   {
    "duration": 920,
    "start_time": "2025-02-22T16:41:19.912Z"
   },
   {
    "duration": 22818,
    "start_time": "2025-02-22T16:43:17.476Z"
   },
   {
    "duration": 1125,
    "start_time": "2025-02-22T16:43:49.728Z"
   },
   {
    "duration": 7,
    "start_time": "2025-02-22T16:43:52.606Z"
   },
   {
    "duration": 94,
    "start_time": "2025-02-22T16:43:55.313Z"
   },
   {
    "duration": 82,
    "start_time": "2025-02-23T11:37:08.868Z"
   },
   {
    "duration": 21142,
    "start_time": "2025-02-23T11:38:41.739Z"
   },
   {
    "duration": 10956,
    "start_time": "2025-02-23T11:40:35.878Z"
   },
   {
    "duration": 11041,
    "start_time": "2025-02-23T11:41:02.586Z"
   },
   {
    "duration": 123,
    "start_time": "2025-02-23T11:57:24.099Z"
   },
   {
    "duration": 121,
    "start_time": "2025-02-23T11:57:33.699Z"
   },
   {
    "duration": 108,
    "start_time": "2025-02-23T11:57:41.371Z"
   },
   {
    "duration": 91,
    "start_time": "2025-02-23T11:57:51.470Z"
   },
   {
    "duration": 11,
    "start_time": "2025-02-23T11:57:56.850Z"
   },
   {
    "duration": 9,
    "start_time": "2025-02-23T11:58:02.102Z"
   },
   {
    "duration": 7,
    "start_time": "2025-02-23T11:58:16.421Z"
   },
   {
    "duration": 1694,
    "start_time": "2025-02-23T11:59:09.368Z"
   },
   {
    "duration": 1457,
    "start_time": "2025-02-23T11:59:41.355Z"
   },
   {
    "duration": 1473,
    "start_time": "2025-02-23T11:59:51.610Z"
   },
   {
    "duration": 1357,
    "start_time": "2025-02-23T12:01:32.162Z"
   },
   {
    "duration": 1497,
    "start_time": "2025-02-23T12:01:38.691Z"
   },
   {
    "duration": 1703,
    "start_time": "2025-02-23T12:02:02.161Z"
   },
   {
    "duration": 1775,
    "start_time": "2025-02-23T12:02:25.090Z"
   },
   {
    "duration": 874,
    "start_time": "2025-02-23T12:04:05.360Z"
   },
   {
    "duration": 992,
    "start_time": "2025-02-23T12:04:19.556Z"
   },
   {
    "duration": 830,
    "start_time": "2025-02-23T12:06:41.801Z"
   },
   {
    "duration": 651,
    "start_time": "2025-02-23T12:06:50.508Z"
   },
   {
    "duration": 1667,
    "start_time": "2025-02-23T12:06:59.667Z"
   },
   {
    "duration": 730,
    "start_time": "2025-02-23T12:08:22.068Z"
   },
   {
    "duration": 1550,
    "start_time": "2025-02-23T12:08:58.190Z"
   },
   {
    "duration": 1705,
    "start_time": "2025-02-23T12:09:59.867Z"
   },
   {
    "duration": 1625,
    "start_time": "2025-02-23T12:10:12.579Z"
   },
   {
    "duration": 1658,
    "start_time": "2025-02-23T12:10:26.236Z"
   },
   {
    "duration": 1475,
    "start_time": "2025-02-23T12:10:39.029Z"
   },
   {
    "duration": 108,
    "start_time": "2025-02-23T12:13:01.242Z"
   },
   {
    "duration": 575,
    "start_time": "2025-02-23T12:13:07.099Z"
   },
   {
    "duration": 722,
    "start_time": "2025-02-23T12:13:33.793Z"
   },
   {
    "duration": 11118,
    "start_time": "2025-02-23T12:14:12.523Z"
   },
   {
    "duration": 69,
    "start_time": "2025-02-23T12:14:23.644Z"
   },
   {
    "duration": 65,
    "start_time": "2025-02-23T12:14:23.715Z"
   },
   {
    "duration": 39,
    "start_time": "2025-02-23T12:14:23.782Z"
   },
   {
    "duration": 11,
    "start_time": "2025-02-23T12:14:23.823Z"
   },
   {
    "duration": 10,
    "start_time": "2025-02-23T12:14:23.836Z"
   },
   {
    "duration": 22,
    "start_time": "2025-02-23T12:14:23.848Z"
   },
   {
    "duration": 518,
    "start_time": "2025-02-23T12:14:32.804Z"
   },
   {
    "duration": 1243,
    "start_time": "2025-02-23T12:15:09.373Z"
   },
   {
    "duration": 11116,
    "start_time": "2025-02-23T12:16:44.508Z"
   },
   {
    "duration": 1265,
    "start_time": "2025-02-23T12:17:17.207Z"
   },
   {
    "duration": 498,
    "start_time": "2025-02-23T12:25:42.790Z"
   },
   {
    "duration": 18,
    "start_time": "2025-02-23T12:34:58.344Z"
   },
   {
    "duration": 19,
    "start_time": "2025-02-23T12:35:25.194Z"
   },
   {
    "duration": 333,
    "start_time": "2025-02-23T12:36:01.780Z"
   },
   {
    "duration": 12,
    "start_time": "2025-02-23T12:39:21.624Z"
   },
   {
    "duration": 313,
    "start_time": "2025-02-23T12:39:34.242Z"
   },
   {
    "duration": 312,
    "start_time": "2025-02-23T12:40:07.600Z"
   },
   {
    "duration": 322,
    "start_time": "2025-02-23T12:41:01.685Z"
   },
   {
    "duration": 12,
    "start_time": "2025-02-23T12:42:55.748Z"
   },
   {
    "duration": 321,
    "start_time": "2025-02-23T12:43:01.078Z"
   },
   {
    "duration": 309,
    "start_time": "2025-02-23T12:43:13.914Z"
   },
   {
    "duration": 207,
    "start_time": "2025-02-23T12:43:32.663Z"
   },
   {
    "duration": 184,
    "start_time": "2025-02-23T12:43:52.473Z"
   },
   {
    "duration": 170,
    "start_time": "2025-02-23T12:44:01.273Z"
   },
   {
    "duration": 167,
    "start_time": "2025-02-23T12:44:09.857Z"
   },
   {
    "duration": 171,
    "start_time": "2025-02-23T12:44:32.492Z"
   },
   {
    "duration": 183,
    "start_time": "2025-02-23T12:45:01.442Z"
   },
   {
    "duration": 323,
    "start_time": "2025-02-23T12:45:17.453Z"
   },
   {
    "duration": 193,
    "start_time": "2025-02-23T12:46:11.744Z"
   },
   {
    "duration": 180,
    "start_time": "2025-02-23T12:46:19.926Z"
   },
   {
    "duration": 174,
    "start_time": "2025-02-23T12:46:26.354Z"
   },
   {
    "duration": 179,
    "start_time": "2025-02-23T12:46:33.821Z"
   },
   {
    "duration": 163,
    "start_time": "2025-02-23T12:48:02.100Z"
   },
   {
    "duration": 1139,
    "start_time": "2025-02-23T12:49:34.691Z"
   },
   {
    "duration": 11073,
    "start_time": "2025-02-23T12:52:38.445Z"
   },
   {
    "duration": 27,
    "start_time": "2025-02-23T12:53:02.371Z"
   },
   {
    "duration": 12508,
    "start_time": "2025-02-23T12:53:08.392Z"
   },
   {
    "duration": 93,
    "start_time": "2025-02-23T12:53:20.903Z"
   },
   {
    "duration": 102,
    "start_time": "2025-02-23T12:53:20.998Z"
   },
   {
    "duration": 48,
    "start_time": "2025-02-23T12:53:21.102Z"
   },
   {
    "duration": 11,
    "start_time": "2025-02-23T12:53:21.153Z"
   },
   {
    "duration": 26,
    "start_time": "2025-02-23T12:53:21.166Z"
   },
   {
    "duration": 32,
    "start_time": "2025-02-23T12:53:21.194Z"
   },
   {
    "duration": 1297,
    "start_time": "2025-02-23T12:53:21.227Z"
   },
   {
    "duration": 340,
    "start_time": "2025-02-23T12:53:22.526Z"
   },
   {
    "duration": 160,
    "start_time": "2025-02-23T12:53:22.868Z"
   },
   {
    "duration": 331,
    "start_time": "2025-02-23T12:53:23.029Z"
   },
   {
    "duration": 586,
    "start_time": "2025-02-23T12:53:23.362Z"
   },
   {
    "duration": 1089,
    "start_time": "2025-02-23T12:53:23.949Z"
   },
   {
    "duration": 533,
    "start_time": "2025-02-23T12:53:25.040Z"
   },
   {
    "duration": 529,
    "start_time": "2025-02-23T12:53:25.575Z"
   },
   {
    "duration": 3,
    "start_time": "2025-02-23T12:53:26.106Z"
   },
   {
    "duration": 2743,
    "start_time": "2025-02-23T12:53:32.888Z"
   },
   {
    "duration": 2692,
    "start_time": "2025-02-23T12:55:54.208Z"
   },
   {
    "duration": 17,
    "start_time": "2025-02-23T12:56:47.132Z"
   },
   {
    "duration": 26,
    "start_time": "2025-02-23T12:58:39.714Z"
   },
   {
    "duration": 12717,
    "start_time": "2025-02-23T13:01:48.815Z"
   },
   {
    "duration": 20,
    "start_time": "2025-02-23T13:03:03.505Z"
   },
   {
    "duration": 36,
    "start_time": "2025-02-23T13:04:27.672Z"
   },
   {
    "duration": 38,
    "start_time": "2025-02-23T13:05:19.059Z"
   },
   {
    "duration": 35,
    "start_time": "2025-02-23T13:05:25.593Z"
   },
   {
    "duration": 78,
    "start_time": "2025-02-23T13:06:12.458Z"
   },
   {
    "duration": 13,
    "start_time": "2025-02-23T13:28:27.947Z"
   },
   {
    "duration": 12,
    "start_time": "2025-02-23T13:28:35.653Z"
   },
   {
    "duration": 187,
    "start_time": "2025-02-23T13:28:55.719Z"
   },
   {
    "duration": 91,
    "start_time": "2025-02-23T13:29:03.985Z"
   },
   {
    "duration": 41,
    "start_time": "2025-02-23T13:29:17.321Z"
   },
   {
    "duration": 1262,
    "start_time": "2025-02-23T13:29:22.098Z"
   },
   {
    "duration": 1085,
    "start_time": "2025-02-23T13:31:04.991Z"
   },
   {
    "duration": 1056,
    "start_time": "2025-02-23T13:33:24.840Z"
   },
   {
    "duration": 1125,
    "start_time": "2025-02-23T13:33:32.376Z"
   },
   {
    "duration": 10942,
    "start_time": "2025-02-23T13:37:31.304Z"
   },
   {
    "duration": 27,
    "start_time": "2025-02-23T13:40:03.007Z"
   },
   {
    "duration": 26,
    "start_time": "2025-02-23T13:40:14.045Z"
   },
   {
    "duration": 449,
    "start_time": "2025-02-23T13:41:16.625Z"
   },
   {
    "duration": 17,
    "start_time": "2025-02-23T13:42:13.121Z"
   },
   {
    "duration": 23223,
    "start_time": "2025-02-23T13:42:26.664Z"
   },
   {
    "duration": 96,
    "start_time": "2025-02-23T13:43:59.472Z"
   },
   {
    "duration": 1266,
    "start_time": "2025-02-23T13:46:10.410Z"
   },
   {
    "duration": 8,
    "start_time": "2025-02-23T13:46:18.095Z"
   },
   {
    "duration": 65,
    "start_time": "2025-02-23T13:46:19.633Z"
   },
   {
    "duration": 66,
    "start_time": "2025-02-23T13:46:45.196Z"
   },
   {
    "duration": 56,
    "start_time": "2025-02-23T13:47:13.124Z"
   },
   {
    "duration": 1531,
    "start_time": "2025-02-23T13:50:30.317Z"
   },
   {
    "duration": 1326,
    "start_time": "2025-02-23T13:58:07.349Z"
   },
   {
    "duration": 1159,
    "start_time": "2025-02-23T13:58:40.156Z"
   },
   {
    "duration": 1157,
    "start_time": "2025-02-23T13:59:30.362Z"
   },
   {
    "duration": 23,
    "start_time": "2025-02-23T14:02:23.790Z"
   },
   {
    "duration": 538,
    "start_time": "2025-02-23T14:02:40.047Z"
   },
   {
    "duration": 182,
    "start_time": "2025-02-23T14:03:40.524Z"
   },
   {
    "duration": 168,
    "start_time": "2025-02-23T14:03:43.965Z"
   },
   {
    "duration": 258,
    "start_time": "2025-02-23T14:04:26.515Z"
   },
   {
    "duration": 569,
    "start_time": "2025-02-23T14:04:55.086Z"
   },
   {
    "duration": 599,
    "start_time": "2025-02-23T14:05:22.556Z"
   },
   {
    "duration": 408,
    "start_time": "2025-02-23T14:05:36.515Z"
   },
   {
    "duration": 425,
    "start_time": "2025-02-23T14:06:05.486Z"
   },
   {
    "duration": 577,
    "start_time": "2025-02-23T14:06:17.203Z"
   },
   {
    "duration": 416,
    "start_time": "2025-02-23T14:06:24.224Z"
   },
   {
    "duration": 346,
    "start_time": "2025-02-23T14:07:05.305Z"
   },
   {
    "duration": 179,
    "start_time": "2025-02-23T14:07:19.113Z"
   },
   {
    "duration": 548,
    "start_time": "2025-02-23T14:08:42.805Z"
   },
   {
    "duration": 566,
    "start_time": "2025-02-23T14:10:39.024Z"
   },
   {
    "duration": 11422,
    "start_time": "2025-02-23T14:11:34.608Z"
   },
   {
    "duration": 153,
    "start_time": "2025-02-23T14:11:46.035Z"
   },
   {
    "duration": 91,
    "start_time": "2025-02-23T14:11:46.190Z"
   },
   {
    "duration": 96,
    "start_time": "2025-02-23T14:11:46.282Z"
   },
   {
    "duration": 12,
    "start_time": "2025-02-23T14:11:46.380Z"
   },
   {
    "duration": 7,
    "start_time": "2025-02-23T14:11:46.394Z"
   },
   {
    "duration": 11,
    "start_time": "2025-02-23T14:11:46.403Z"
   },
   {
    "duration": 1499,
    "start_time": "2025-02-23T14:11:46.416Z"
   },
   {
    "duration": 200,
    "start_time": "2025-02-23T14:11:47.917Z"
   },
   {
    "duration": 176,
    "start_time": "2025-02-23T14:11:48.119Z"
   },
   {
    "duration": 207,
    "start_time": "2025-02-23T14:11:48.297Z"
   },
   {
    "duration": 624,
    "start_time": "2025-02-23T14:11:48.506Z"
   },
   {
    "duration": 1197,
    "start_time": "2025-02-23T14:11:49.132Z"
   },
   {
    "duration": 593,
    "start_time": "2025-02-23T14:11:50.333Z"
   },
   {
    "duration": 745,
    "start_time": "2025-02-23T14:11:50.929Z"
   },
   {
    "duration": 4,
    "start_time": "2025-02-23T14:11:51.677Z"
   },
   {
    "duration": 2797,
    "start_time": "2025-02-23T14:11:51.684Z"
   },
   {
    "duration": 17,
    "start_time": "2025-02-23T14:11:54.483Z"
   },
   {
    "duration": 27,
    "start_time": "2025-02-23T14:11:54.501Z"
   },
   {
    "duration": 58,
    "start_time": "2025-02-23T14:11:54.531Z"
   },
   {
    "duration": 160,
    "start_time": "2025-02-23T14:11:54.591Z"
   },
   {
    "duration": 50,
    "start_time": "2025-02-23T14:11:54.754Z"
   },
   {
    "duration": 9,
    "start_time": "2025-02-23T14:11:54.807Z"
   },
   {
    "duration": 11,
    "start_time": "2025-02-23T14:11:54.818Z"
   },
   {
    "duration": 1253,
    "start_time": "2025-02-23T14:11:54.831Z"
   },
   {
    "duration": 444,
    "start_time": "2025-02-23T14:11:56.086Z"
   },
   {
    "duration": 583,
    "start_time": "2025-02-23T14:11:56.531Z"
   },
   {
    "duration": 52,
    "start_time": "2025-02-23T14:11:57.116Z"
   },
   {
    "duration": 592,
    "start_time": "2025-02-23T14:11:57.170Z"
   },
   {
    "duration": 1272,
    "start_time": "2025-02-23T14:11:57.764Z"
   },
   {
    "duration": 1097,
    "start_time": "2025-02-23T14:11:59.038Z"
   },
   {
    "duration": 1158,
    "start_time": "2025-02-23T14:12:00.137Z"
   },
   {
    "duration": 3,
    "start_time": "2025-02-23T14:12:01.297Z"
   },
   {
    "duration": 17,
    "start_time": "2025-02-23T14:12:01.302Z"
   },
   {
    "duration": 34,
    "start_time": "2025-02-23T14:12:01.321Z"
   },
   {
    "duration": 23191,
    "start_time": "2025-02-23T14:12:01.357Z"
   },
   {
    "duration": 11,
    "start_time": "2025-02-23T14:12:24.549Z"
   },
   {
    "duration": 190,
    "start_time": "2025-02-23T14:12:24.561Z"
   },
   {
    "duration": 425,
    "start_time": "2025-02-23T14:13:52.816Z"
   },
   {
    "duration": 593,
    "start_time": "2025-02-23T14:14:47.633Z"
   },
   {
    "duration": 284,
    "start_time": "2025-02-23T14:15:00.974Z"
   },
   {
    "duration": 274,
    "start_time": "2025-02-23T14:15:36.496Z"
   },
   {
    "duration": 535,
    "start_time": "2025-02-23T14:16:18.591Z"
   },
   {
    "duration": 515,
    "start_time": "2025-02-23T14:16:29.045Z"
   },
   {
    "duration": 526,
    "start_time": "2025-02-23T14:16:50.843Z"
   },
   {
    "duration": 398,
    "start_time": "2025-02-23T14:17:40.665Z"
   },
   {
    "duration": 14383,
    "start_time": "2025-04-12T12:42:12.930Z"
   },
   {
    "duration": 92,
    "start_time": "2025-04-12T12:42:27.316Z"
   },
   {
    "duration": 133,
    "start_time": "2025-04-12T12:42:27.410Z"
   },
   {
    "duration": 278,
    "start_time": "2025-04-12T12:42:27.545Z"
   },
   {
    "duration": 10,
    "start_time": "2025-04-12T12:42:27.824Z"
   },
   {
    "duration": 6,
    "start_time": "2025-04-12T12:42:27.835Z"
   },
   {
    "duration": 9,
    "start_time": "2025-04-12T12:42:27.842Z"
   },
   {
    "duration": 1146,
    "start_time": "2025-04-12T12:42:27.852Z"
   },
   {
    "duration": 274,
    "start_time": "2025-04-12T12:42:29.000Z"
   },
   {
    "duration": 141,
    "start_time": "2025-04-12T12:42:29.277Z"
   },
   {
    "duration": 170,
    "start_time": "2025-04-12T12:42:29.420Z"
   },
   {
    "duration": 548,
    "start_time": "2025-04-12T12:42:29.592Z"
   },
   {
    "duration": 1053,
    "start_time": "2025-04-12T12:42:30.142Z"
   },
   {
    "duration": 392,
    "start_time": "2025-04-12T12:42:31.196Z"
   },
   {
    "duration": 390,
    "start_time": "2025-04-12T12:42:31.589Z"
   },
   {
    "duration": 3,
    "start_time": "2025-04-12T12:42:31.981Z"
   },
   {
    "duration": 2423,
    "start_time": "2025-04-12T12:42:31.986Z"
   },
   {
    "duration": 15,
    "start_time": "2025-04-12T12:42:34.411Z"
   },
   {
    "duration": 43,
    "start_time": "2025-04-12T12:42:34.428Z"
   },
   {
    "duration": 30,
    "start_time": "2025-04-12T12:42:34.472Z"
   },
   {
    "duration": 93,
    "start_time": "2025-04-12T12:42:34.504Z"
   },
   {
    "duration": 83,
    "start_time": "2025-04-12T12:42:34.598Z"
   },
   {
    "duration": 8,
    "start_time": "2025-04-12T12:42:34.682Z"
   },
   {
    "duration": 7,
    "start_time": "2025-04-12T12:42:34.691Z"
   },
   {
    "duration": 1150,
    "start_time": "2025-04-12T12:42:34.700Z"
   },
   {
    "duration": 399,
    "start_time": "2025-04-12T12:42:35.851Z"
   },
   {
    "duration": 258,
    "start_time": "2025-04-12T12:42:36.251Z"
   },
   {
    "duration": 35,
    "start_time": "2025-04-12T12:42:36.513Z"
   },
   {
    "duration": 407,
    "start_time": "2025-04-12T12:42:36.549Z"
   },
   {
    "duration": 1305,
    "start_time": "2025-04-12T12:42:36.961Z"
   },
   {
    "duration": 1016,
    "start_time": "2025-04-12T12:42:38.274Z"
   },
   {
    "duration": 1031,
    "start_time": "2025-04-12T12:42:39.291Z"
   },
   {
    "duration": 2,
    "start_time": "2025-04-12T12:42:40.323Z"
   },
   {
    "duration": 16,
    "start_time": "2025-04-12T12:42:40.327Z"
   },
   {
    "duration": 84,
    "start_time": "2025-04-12T12:42:40.344Z"
   },
   {
    "duration": 28807,
    "start_time": "2025-04-12T12:42:40.430Z"
   },
   {
    "duration": 8,
    "start_time": "2025-04-12T12:43:09.238Z"
   },
   {
    "duration": 69,
    "start_time": "2025-04-12T12:43:09.247Z"
   },
   {
    "duration": 11557,
    "start_time": "2025-04-12T12:44:39.095Z"
   },
   {
    "duration": 12864,
    "start_time": "2025-04-12T12:45:13.438Z"
   },
   {
    "duration": 87,
    "start_time": "2025-04-12T12:46:02.798Z"
   },
   {
    "duration": 10473,
    "start_time": "2025-04-12T12:50:02.458Z"
   },
   {
    "duration": 20769,
    "start_time": "2025-09-01T15:58:13.926Z"
   },
   {
    "duration": 99,
    "start_time": "2025-09-01T15:58:41.930Z"
   },
   {
    "duration": 756,
    "start_time": "2025-09-01T16:00:53.546Z"
   },
   {
    "duration": 9266,
    "start_time": "2025-09-01T16:00:57.787Z"
   },
   {
    "duration": 149,
    "start_time": "2025-09-01T16:01:07.057Z"
   },
   {
    "duration": 114,
    "start_time": "2025-09-01T16:01:07.209Z"
   },
   {
    "duration": 81,
    "start_time": "2025-09-01T16:01:07.326Z"
   },
   {
    "duration": 14,
    "start_time": "2025-09-01T16:01:07.410Z"
   },
   {
    "duration": 10,
    "start_time": "2025-09-01T16:01:07.427Z"
   },
   {
    "duration": 64,
    "start_time": "2025-09-01T16:01:07.439Z"
   },
   {
    "duration": 779,
    "start_time": "2025-09-01T16:01:07.505Z"
   },
   {
    "duration": 625,
    "start_time": "2025-09-01T16:01:14.890Z"
   },
   {
    "duration": 1369,
    "start_time": "2025-09-01T16:01:23.531Z"
   },
   {
    "duration": 1308,
    "start_time": "2025-09-01T16:02:38.439Z"
   },
   {
    "duration": 1430,
    "start_time": "2025-09-01T16:03:00.402Z"
   },
   {
    "duration": 1317,
    "start_time": "2025-09-01T16:03:12.520Z"
   },
   {
    "duration": 1341,
    "start_time": "2025-09-01T16:03:20.190Z"
   },
   {
    "duration": 1366,
    "start_time": "2025-09-01T16:03:53.524Z"
   },
   {
    "duration": 1004,
    "start_time": "2025-09-01T16:04:34.420Z"
   },
   {
    "duration": 542,
    "start_time": "2025-09-01T16:05:06.380Z"
   },
   {
    "duration": 1002,
    "start_time": "2025-09-01T16:05:21.767Z"
   },
   {
    "duration": 1357,
    "start_time": "2025-09-01T16:06:42.073Z"
   },
   {
    "duration": 1367,
    "start_time": "2025-09-01T16:14:24.951Z"
   },
   {
    "duration": 9699,
    "start_time": "2025-09-01T16:15:29.670Z"
   },
   {
    "duration": 73,
    "start_time": "2025-09-01T16:15:39.372Z"
   },
   {
    "duration": 60,
    "start_time": "2025-09-01T16:15:39.448Z"
   },
   {
    "duration": 47,
    "start_time": "2025-09-01T16:15:39.511Z"
   },
   {
    "duration": 13,
    "start_time": "2025-09-01T16:15:39.561Z"
   },
   {
    "duration": 11,
    "start_time": "2025-09-01T16:15:39.576Z"
   },
   {
    "duration": 13,
    "start_time": "2025-09-01T16:15:39.588Z"
   },
   {
    "duration": 1132,
    "start_time": "2025-09-01T16:15:39.603Z"
   },
   {
    "duration": 199,
    "start_time": "2025-09-01T16:15:40.737Z"
   },
   {
    "duration": 177,
    "start_time": "2025-09-01T16:15:40.938Z"
   },
   {
    "duration": 209,
    "start_time": "2025-09-01T16:15:41.117Z"
   },
   {
    "duration": 657,
    "start_time": "2025-09-01T16:15:41.328Z"
   },
   {
    "duration": 1166,
    "start_time": "2025-09-01T16:15:41.987Z"
   },
   {
    "duration": 630,
    "start_time": "2025-09-01T16:15:43.159Z"
   },
   {
    "duration": 413,
    "start_time": "2025-09-01T16:15:43.791Z"
   },
   {
    "duration": 5,
    "start_time": "2025-09-01T16:15:44.206Z"
   },
   {
    "duration": 2897,
    "start_time": "2025-09-01T16:15:44.214Z"
   },
   {
    "duration": 18,
    "start_time": "2025-09-01T16:15:47.113Z"
   },
   {
    "duration": 45,
    "start_time": "2025-09-01T16:15:47.133Z"
   },
   {
    "duration": 41,
    "start_time": "2025-09-01T16:15:47.180Z"
   },
   {
    "duration": 31,
    "start_time": "2025-09-01T16:16:20.803Z"
   },
   {
    "duration": 9431,
    "start_time": "2025-09-01T16:33:53.120Z"
   },
   {
    "duration": 83,
    "start_time": "2025-09-01T16:34:02.555Z"
   },
   {
    "duration": 95,
    "start_time": "2025-09-01T16:34:02.641Z"
   },
   {
    "duration": 50,
    "start_time": "2025-09-01T16:34:02.740Z"
   },
   {
    "duration": 14,
    "start_time": "2025-09-01T16:34:02.792Z"
   },
   {
    "duration": 92,
    "start_time": "2025-09-01T16:34:02.808Z"
   },
   {
    "duration": 34,
    "start_time": "2025-09-01T16:34:02.902Z"
   },
   {
    "duration": 1097,
    "start_time": "2025-09-01T16:34:02.938Z"
   },
   {
    "duration": 201,
    "start_time": "2025-09-01T16:34:04.038Z"
   },
   {
    "duration": 182,
    "start_time": "2025-09-01T16:34:04.242Z"
   },
   {
    "duration": 369,
    "start_time": "2025-09-01T16:34:04.426Z"
   },
   {
    "duration": 639,
    "start_time": "2025-09-01T16:34:04.797Z"
   },
   {
    "duration": 1229,
    "start_time": "2025-09-01T16:34:05.438Z"
   },
   {
    "duration": 452,
    "start_time": "2025-09-01T16:34:06.670Z"
   },
   {
    "duration": 422,
    "start_time": "2025-09-01T16:34:07.124Z"
   },
   {
    "duration": 13,
    "start_time": "2025-09-01T16:34:07.548Z"
   },
   {
    "duration": 2889,
    "start_time": "2025-09-01T16:34:07.563Z"
   },
   {
    "duration": 19,
    "start_time": "2025-09-01T16:34:10.460Z"
   },
   {
    "duration": 30,
    "start_time": "2025-09-01T16:34:10.481Z"
   },
   {
    "duration": 69,
    "start_time": "2025-09-01T16:34:10.513Z"
   },
   {
    "duration": 97,
    "start_time": "2025-09-01T16:34:10.584Z"
   },
   {
    "duration": 82,
    "start_time": "2025-09-01T16:34:10.683Z"
   },
   {
    "duration": 9,
    "start_time": "2025-09-01T16:34:10.768Z"
   },
   {
    "duration": 12,
    "start_time": "2025-09-01T16:34:10.780Z"
   },
   {
    "duration": 1473,
    "start_time": "2025-09-01T16:34:10.794Z"
   },
   {
    "duration": 450,
    "start_time": "2025-09-01T16:34:12.269Z"
   },
   {
    "duration": 306,
    "start_time": "2025-09-01T16:34:12.721Z"
   },
   {
    "duration": 53,
    "start_time": "2025-09-01T16:34:13.031Z"
   },
   {
    "duration": 463,
    "start_time": "2025-09-01T16:34:13.086Z"
   },
   {
    "duration": 1309,
    "start_time": "2025-09-01T16:34:13.551Z"
   },
   {
    "duration": 1363,
    "start_time": "2025-09-01T16:34:14.863Z"
   },
   {
    "duration": 1236,
    "start_time": "2025-09-01T16:34:16.228Z"
   },
   {
    "duration": 7,
    "start_time": "2025-09-01T16:34:17.466Z"
   },
   {
    "duration": 48,
    "start_time": "2025-09-01T16:34:17.475Z"
   },
   {
    "duration": 23801,
    "start_time": "2025-09-01T16:34:17.525Z"
   },
   {
    "duration": 9,
    "start_time": "2025-09-01T16:34:41.328Z"
   },
   {
    "duration": 70,
    "start_time": "2025-09-01T16:34:41.339Z"
   }
  ],
  "kernelspec": {
   "display_name": "Python 3 (ipykernel)",
   "language": "python",
   "name": "python3"
  },
  "language_info": {
   "codemirror_mode": {
    "name": "ipython",
    "version": 3
   },
   "file_extension": ".py",
   "mimetype": "text/x-python",
   "name": "python",
   "nbconvert_exporter": "python",
   "pygments_lexer": "ipython3",
   "version": "3.9.5"
  },
  "toc": {
   "base_numbering": 1,
   "nav_menu": {},
   "number_sections": true,
   "sideBar": true,
   "skip_h1_title": true,
   "title_cell": "Table of Contents",
   "title_sidebar": "Contents",
   "toc_cell": false,
   "toc_position": {},
   "toc_section_display": true,
   "toc_window_display": false
  }
 },
 "nbformat": 4,
 "nbformat_minor": 5
}
