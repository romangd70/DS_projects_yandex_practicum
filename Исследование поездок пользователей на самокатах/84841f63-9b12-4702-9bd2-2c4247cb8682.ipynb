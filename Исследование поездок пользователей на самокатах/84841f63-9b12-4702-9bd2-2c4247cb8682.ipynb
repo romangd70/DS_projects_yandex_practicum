{
 "cells": [
  {
   "cell_type": "markdown",
   "id": "5dd0d116",
   "metadata": {},
   "source": [
    "# Исследование поездок пользователей на самокатах"
   ]
  },
  {
   "cell_type": "markdown",
   "id": "d4a5f6fb",
   "metadata": {},
   "source": [
    "Заголовок: исследование поездок пользователей на самокатах\n",
    "    \n",
    "Описание проекта: В последнее время электрические самокаты стали все чаще появляться на улицах: они относительно дешевые, быстрые и не требуют водительских прав для катания. Проанализировав популярный сервис аренды самокатов GoFast, мы сможем лучше понять поведение клиентов как с подпиской, так и без нее. Правильный анализ этих данных позволит составить примерный портрет пользователя и укажет на возможные изменения, которые необходимо совершить для более комфортного существования сервиса.\n",
    "    \n",
    "Цель исследования: описать и визуализировать общую информацию о пользователях и поездках, найти общую помесячную выручку с пользователей, а также проверить некоторые гипотезы по увеличению количества пользователей с подпиской\n",
    "    \n",
    "Ход исследования:\n",
    "\n",
    "    Подготовка данных: загрузка и изучение общей информации из предоставленных датасетов\n",
    "    \n",
    "    Предобработка данных: обработка пропущенных значений, удаление дубликатов и т.д.\n",
    "    \n",
    "    Исследовательский анализ данных: общая информация о пользователях и поездках\n",
    "    \n",
    "    Объединение наборов данных: объединение трех датафреймов в один, разделение на пользователей с подпиской и без нее\n",
    "    \n",
    "    Подсчет выручки: добавление нового столбца с помесячной выручкой, высчитанной по специальной формуле\n",
    "    \n",
    "    Проверка гипотез: исследование, правдивы ли предположения проджект-менеджеров\n",
    "    \n",
    "    Общий вывод: резюмирование полученных результатов, формулировка ключевых выводов и рекомендаций.\n",
    "\n",
    "С помощью данного исследования мы стремимся дать всесторонний анализ пользователей самокатов сервиса GoFast, а также выявить некие закономерности, которые позволят улучшить работу сервиса"
   ]
  },
  {
   "cell_type": "code",
   "execution_count": 1,
   "id": "72576667",
   "metadata": {},
   "outputs": [],
   "source": [
    "import pandas as pd\n",
    "import numpy as np\n",
    "import matplotlib.pyplot as plt\n",
    "import seaborn as sns\n",
    "import scipy.stats as st"
   ]
  },
  {
   "cell_type": "markdown",
   "id": "c42cbe00",
   "metadata": {},
   "source": [
    "## Загрузка данных"
   ]
  },
  {
   "cell_type": "code",
   "execution_count": 2,
   "id": "eff9f206",
   "metadata": {},
   "outputs": [
    {
     "data": {
      "text/html": [
       "<div>\n",
       "<style scoped>\n",
       "    .dataframe tbody tr th:only-of-type {\n",
       "        vertical-align: middle;\n",
       "    }\n",
       "\n",
       "    .dataframe tbody tr th {\n",
       "        vertical-align: top;\n",
       "    }\n",
       "\n",
       "    .dataframe thead th {\n",
       "        text-align: right;\n",
       "    }\n",
       "</style>\n",
       "<table border=\"1\" class=\"dataframe\">\n",
       "  <thead>\n",
       "    <tr style=\"text-align: right;\">\n",
       "      <th></th>\n",
       "      <th>user_id</th>\n",
       "      <th>name</th>\n",
       "      <th>age</th>\n",
       "      <th>city</th>\n",
       "      <th>subscription_type</th>\n",
       "    </tr>\n",
       "  </thead>\n",
       "  <tbody>\n",
       "    <tr>\n",
       "      <th>0</th>\n",
       "      <td>1</td>\n",
       "      <td>Кира</td>\n",
       "      <td>22</td>\n",
       "      <td>Тюмень</td>\n",
       "      <td>ultra</td>\n",
       "    </tr>\n",
       "    <tr>\n",
       "      <th>1</th>\n",
       "      <td>2</td>\n",
       "      <td>Станислав</td>\n",
       "      <td>31</td>\n",
       "      <td>Омск</td>\n",
       "      <td>ultra</td>\n",
       "    </tr>\n",
       "    <tr>\n",
       "      <th>2</th>\n",
       "      <td>3</td>\n",
       "      <td>Алексей</td>\n",
       "      <td>20</td>\n",
       "      <td>Москва</td>\n",
       "      <td>ultra</td>\n",
       "    </tr>\n",
       "    <tr>\n",
       "      <th>3</th>\n",
       "      <td>4</td>\n",
       "      <td>Константин</td>\n",
       "      <td>26</td>\n",
       "      <td>Ростов-на-Дону</td>\n",
       "      <td>ultra</td>\n",
       "    </tr>\n",
       "    <tr>\n",
       "      <th>4</th>\n",
       "      <td>5</td>\n",
       "      <td>Адель</td>\n",
       "      <td>28</td>\n",
       "      <td>Омск</td>\n",
       "      <td>ultra</td>\n",
       "    </tr>\n",
       "  </tbody>\n",
       "</table>\n",
       "</div>"
      ],
      "text/plain": [
       "   user_id        name  age            city subscription_type\n",
       "0        1        Кира   22          Тюмень             ultra\n",
       "1        2   Станислав   31            Омск             ultra\n",
       "2        3     Алексей   20          Москва             ultra\n",
       "3        4  Константин   26  Ростов-на-Дону             ultra\n",
       "4        5       Адель   28            Омск             ultra"
      ]
     },
     "metadata": {},
     "output_type": "display_data"
    },
    {
     "name": "stdout",
     "output_type": "stream",
     "text": [
      "<class 'pandas.core.frame.DataFrame'>\n",
      "RangeIndex: 1565 entries, 0 to 1564\n",
      "Data columns (total 5 columns):\n",
      " #   Column             Non-Null Count  Dtype \n",
      "---  ------             --------------  ----- \n",
      " 0   user_id            1565 non-null   int64 \n",
      " 1   name               1565 non-null   object\n",
      " 2   age                1565 non-null   int64 \n",
      " 3   city               1565 non-null   object\n",
      " 4   subscription_type  1565 non-null   object\n",
      "dtypes: int64(2), object(3)\n",
      "memory usage: 61.3+ KB\n"
     ]
    }
   ],
   "source": [
    "users=pd.read_csv('/datasets/users_go.csv')\n",
    "display(users.head())\n",
    "users.info()"
   ]
  },
  {
   "cell_type": "code",
   "execution_count": 3,
   "id": "9a2e1e6c",
   "metadata": {},
   "outputs": [
    {
     "data": {
      "text/html": [
       "<div>\n",
       "<style scoped>\n",
       "    .dataframe tbody tr th:only-of-type {\n",
       "        vertical-align: middle;\n",
       "    }\n",
       "\n",
       "    .dataframe tbody tr th {\n",
       "        vertical-align: top;\n",
       "    }\n",
       "\n",
       "    .dataframe thead th {\n",
       "        text-align: right;\n",
       "    }\n",
       "</style>\n",
       "<table border=\"1\" class=\"dataframe\">\n",
       "  <thead>\n",
       "    <tr style=\"text-align: right;\">\n",
       "      <th></th>\n",
       "      <th>user_id</th>\n",
       "      <th>distance</th>\n",
       "      <th>duration</th>\n",
       "      <th>date</th>\n",
       "    </tr>\n",
       "  </thead>\n",
       "  <tbody>\n",
       "    <tr>\n",
       "      <th>0</th>\n",
       "      <td>1</td>\n",
       "      <td>4409.919140</td>\n",
       "      <td>25.599769</td>\n",
       "      <td>2021-01-01</td>\n",
       "    </tr>\n",
       "    <tr>\n",
       "      <th>1</th>\n",
       "      <td>1</td>\n",
       "      <td>2617.592153</td>\n",
       "      <td>15.816871</td>\n",
       "      <td>2021-01-18</td>\n",
       "    </tr>\n",
       "    <tr>\n",
       "      <th>2</th>\n",
       "      <td>1</td>\n",
       "      <td>754.159807</td>\n",
       "      <td>6.232113</td>\n",
       "      <td>2021-04-20</td>\n",
       "    </tr>\n",
       "    <tr>\n",
       "      <th>3</th>\n",
       "      <td>1</td>\n",
       "      <td>2694.783254</td>\n",
       "      <td>18.511000</td>\n",
       "      <td>2021-08-11</td>\n",
       "    </tr>\n",
       "    <tr>\n",
       "      <th>4</th>\n",
       "      <td>1</td>\n",
       "      <td>4028.687306</td>\n",
       "      <td>26.265803</td>\n",
       "      <td>2021-08-28</td>\n",
       "    </tr>\n",
       "  </tbody>\n",
       "</table>\n",
       "</div>"
      ],
      "text/plain": [
       "   user_id     distance   duration        date\n",
       "0        1  4409.919140  25.599769  2021-01-01\n",
       "1        1  2617.592153  15.816871  2021-01-18\n",
       "2        1   754.159807   6.232113  2021-04-20\n",
       "3        1  2694.783254  18.511000  2021-08-11\n",
       "4        1  4028.687306  26.265803  2021-08-28"
      ]
     },
     "metadata": {},
     "output_type": "display_data"
    },
    {
     "name": "stdout",
     "output_type": "stream",
     "text": [
      "<class 'pandas.core.frame.DataFrame'>\n",
      "RangeIndex: 18068 entries, 0 to 18067\n",
      "Data columns (total 4 columns):\n",
      " #   Column    Non-Null Count  Dtype  \n",
      "---  ------    --------------  -----  \n",
      " 0   user_id   18068 non-null  int64  \n",
      " 1   distance  18068 non-null  float64\n",
      " 2   duration  18068 non-null  float64\n",
      " 3   date      18068 non-null  object \n",
      "dtypes: float64(2), int64(1), object(1)\n",
      "memory usage: 564.8+ KB\n"
     ]
    }
   ],
   "source": [
    "rides=pd.read_csv('/datasets/rides_go.csv')\n",
    "display(rides.head())\n",
    "rides.info()"
   ]
  },
  {
   "cell_type": "code",
   "execution_count": 4,
   "id": "76318bfa",
   "metadata": {},
   "outputs": [
    {
     "data": {
      "text/html": [
       "<div>\n",
       "<style scoped>\n",
       "    .dataframe tbody tr th:only-of-type {\n",
       "        vertical-align: middle;\n",
       "    }\n",
       "\n",
       "    .dataframe tbody tr th {\n",
       "        vertical-align: top;\n",
       "    }\n",
       "\n",
       "    .dataframe thead th {\n",
       "        text-align: right;\n",
       "    }\n",
       "</style>\n",
       "<table border=\"1\" class=\"dataframe\">\n",
       "  <thead>\n",
       "    <tr style=\"text-align: right;\">\n",
       "      <th></th>\n",
       "      <th>subscription_type</th>\n",
       "      <th>minute_price</th>\n",
       "      <th>start_ride_price</th>\n",
       "      <th>subscription_fee</th>\n",
       "    </tr>\n",
       "  </thead>\n",
       "  <tbody>\n",
       "    <tr>\n",
       "      <th>0</th>\n",
       "      <td>free</td>\n",
       "      <td>8</td>\n",
       "      <td>50</td>\n",
       "      <td>0</td>\n",
       "    </tr>\n",
       "    <tr>\n",
       "      <th>1</th>\n",
       "      <td>ultra</td>\n",
       "      <td>6</td>\n",
       "      <td>0</td>\n",
       "      <td>199</td>\n",
       "    </tr>\n",
       "  </tbody>\n",
       "</table>\n",
       "</div>"
      ],
      "text/plain": [
       "  subscription_type  minute_price  start_ride_price  subscription_fee\n",
       "0              free             8                50                 0\n",
       "1             ultra             6                 0               199"
      ]
     },
     "metadata": {},
     "output_type": "display_data"
    },
    {
     "name": "stdout",
     "output_type": "stream",
     "text": [
      "<class 'pandas.core.frame.DataFrame'>\n",
      "RangeIndex: 2 entries, 0 to 1\n",
      "Data columns (total 4 columns):\n",
      " #   Column             Non-Null Count  Dtype \n",
      "---  ------             --------------  ----- \n",
      " 0   subscription_type  2 non-null      object\n",
      " 1   minute_price       2 non-null      int64 \n",
      " 2   start_ride_price   2 non-null      int64 \n",
      " 3   subscription_fee   2 non-null      int64 \n",
      "dtypes: int64(3), object(1)\n",
      "memory usage: 192.0+ bytes\n"
     ]
    }
   ],
   "source": [
    "subscriptions=pd.read_csv('/datasets/subscriptions_go.csv')\n",
    "display(subscriptions)\n",
    "subscriptions.info()"
   ]
  },
  {
   "cell_type": "markdown",
   "id": "ae7ea014",
   "metadata": {},
   "source": [
    "Проанализировав все таблицы, могу сделать вывод, что пропусков в таблицах не обнаружено, в таблице с пользователями 1565 строк, в таблице с поездками 18068 строк, в таблице с подписками две строки. Названия колонок корректны. Также, в таблице с поездками тип данных у столбца с датой \"object\", хотя должен быть \"datetime64\".\n",
    "  "
   ]
  },
  {
   "cell_type": "markdown",
   "id": "e95ebca7",
   "metadata": {},
   "source": [
    "## Предобработка данных"
   ]
  },
  {
   "cell_type": "code",
   "execution_count": 5,
   "id": "af6d202c",
   "metadata": {},
   "outputs": [
    {
     "data": {
      "text/html": [
       "<div>\n",
       "<style scoped>\n",
       "    .dataframe tbody tr th:only-of-type {\n",
       "        vertical-align: middle;\n",
       "    }\n",
       "\n",
       "    .dataframe tbody tr th {\n",
       "        vertical-align: top;\n",
       "    }\n",
       "\n",
       "    .dataframe thead th {\n",
       "        text-align: right;\n",
       "    }\n",
       "</style>\n",
       "<table border=\"1\" class=\"dataframe\">\n",
       "  <thead>\n",
       "    <tr style=\"text-align: right;\">\n",
       "      <th></th>\n",
       "      <th>user_id</th>\n",
       "      <th>distance</th>\n",
       "      <th>duration</th>\n",
       "      <th>date</th>\n",
       "      <th>month</th>\n",
       "    </tr>\n",
       "  </thead>\n",
       "  <tbody>\n",
       "    <tr>\n",
       "      <th>0</th>\n",
       "      <td>1</td>\n",
       "      <td>4409.919140</td>\n",
       "      <td>25.599769</td>\n",
       "      <td>2021-01-01</td>\n",
       "      <td>1</td>\n",
       "    </tr>\n",
       "    <tr>\n",
       "      <th>1</th>\n",
       "      <td>1</td>\n",
       "      <td>2617.592153</td>\n",
       "      <td>15.816871</td>\n",
       "      <td>2021-01-18</td>\n",
       "      <td>1</td>\n",
       "    </tr>\n",
       "    <tr>\n",
       "      <th>2</th>\n",
       "      <td>1</td>\n",
       "      <td>754.159807</td>\n",
       "      <td>6.232113</td>\n",
       "      <td>2021-04-20</td>\n",
       "      <td>4</td>\n",
       "    </tr>\n",
       "    <tr>\n",
       "      <th>3</th>\n",
       "      <td>1</td>\n",
       "      <td>2694.783254</td>\n",
       "      <td>18.511000</td>\n",
       "      <td>2021-08-11</td>\n",
       "      <td>8</td>\n",
       "    </tr>\n",
       "    <tr>\n",
       "      <th>4</th>\n",
       "      <td>1</td>\n",
       "      <td>4028.687306</td>\n",
       "      <td>26.265803</td>\n",
       "      <td>2021-08-28</td>\n",
       "      <td>8</td>\n",
       "    </tr>\n",
       "    <tr>\n",
       "      <th>...</th>\n",
       "      <td>...</td>\n",
       "      <td>...</td>\n",
       "      <td>...</td>\n",
       "      <td>...</td>\n",
       "      <td>...</td>\n",
       "    </tr>\n",
       "    <tr>\n",
       "      <th>18063</th>\n",
       "      <td>1534</td>\n",
       "      <td>3781.098080</td>\n",
       "      <td>19.822962</td>\n",
       "      <td>2021-11-04</td>\n",
       "      <td>11</td>\n",
       "    </tr>\n",
       "    <tr>\n",
       "      <th>18064</th>\n",
       "      <td>1534</td>\n",
       "      <td>2840.423057</td>\n",
       "      <td>21.409799</td>\n",
       "      <td>2021-11-16</td>\n",
       "      <td>11</td>\n",
       "    </tr>\n",
       "    <tr>\n",
       "      <th>18065</th>\n",
       "      <td>1534</td>\n",
       "      <td>3826.185507</td>\n",
       "      <td>18.435051</td>\n",
       "      <td>2021-11-18</td>\n",
       "      <td>11</td>\n",
       "    </tr>\n",
       "    <tr>\n",
       "      <th>18066</th>\n",
       "      <td>1534</td>\n",
       "      <td>2902.308661</td>\n",
       "      <td>16.674362</td>\n",
       "      <td>2021-11-27</td>\n",
       "      <td>11</td>\n",
       "    </tr>\n",
       "    <tr>\n",
       "      <th>18067</th>\n",
       "      <td>1534</td>\n",
       "      <td>2371.711192</td>\n",
       "      <td>15.893917</td>\n",
       "      <td>2021-12-29</td>\n",
       "      <td>12</td>\n",
       "    </tr>\n",
       "  </tbody>\n",
       "</table>\n",
       "<p>18068 rows × 5 columns</p>\n",
       "</div>"
      ],
      "text/plain": [
       "       user_id     distance   duration       date  month\n",
       "0            1  4409.919140  25.599769 2021-01-01      1\n",
       "1            1  2617.592153  15.816871 2021-01-18      1\n",
       "2            1   754.159807   6.232113 2021-04-20      4\n",
       "3            1  2694.783254  18.511000 2021-08-11      8\n",
       "4            1  4028.687306  26.265803 2021-08-28      8\n",
       "...        ...          ...        ...        ...    ...\n",
       "18063     1534  3781.098080  19.822962 2021-11-04     11\n",
       "18064     1534  2840.423057  21.409799 2021-11-16     11\n",
       "18065     1534  3826.185507  18.435051 2021-11-18     11\n",
       "18066     1534  2902.308661  16.674362 2021-11-27     11\n",
       "18067     1534  2371.711192  15.893917 2021-12-29     12\n",
       "\n",
       "[18068 rows x 5 columns]"
      ]
     },
     "execution_count": 5,
     "metadata": {},
     "output_type": "execute_result"
    }
   ],
   "source": [
    "#Изменю тип данных в столбце\n",
    "rides['date']=pd.to_datetime(rides['date'])\n",
    "#Создам новый столбец\n",
    "rides['month']=rides['date'].dt.month\n",
    "rides"
   ]
  },
  {
   "cell_type": "code",
   "execution_count": 6,
   "id": "6f1dd6c6",
   "metadata": {},
   "outputs": [
    {
     "name": "stdout",
     "output_type": "stream",
     "text": [
      "<class 'pandas.core.frame.DataFrame'>\n",
      "Int64Index: 1534 entries, 0 to 1533\n",
      "Data columns (total 5 columns):\n",
      " #   Column             Non-Null Count  Dtype \n",
      "---  ------             --------------  ----- \n",
      " 0   user_id            1534 non-null   int64 \n",
      " 1   name               1534 non-null   object\n",
      " 2   age                1534 non-null   int64 \n",
      " 3   city               1534 non-null   object\n",
      " 4   subscription_type  1534 non-null   object\n",
      "dtypes: int64(2), object(3)\n",
      "memory usage: 71.9+ KB\n",
      "None\n",
      "<class 'pandas.core.frame.DataFrame'>\n",
      "Int64Index: 18068 entries, 0 to 18067\n",
      "Data columns (total 5 columns):\n",
      " #   Column    Non-Null Count  Dtype         \n",
      "---  ------    --------------  -----         \n",
      " 0   user_id   18068 non-null  int64         \n",
      " 1   distance  18068 non-null  float64       \n",
      " 2   duration  18068 non-null  float64       \n",
      " 3   date      18068 non-null  datetime64[ns]\n",
      " 4   month     18068 non-null  int64         \n",
      "dtypes: datetime64[ns](1), float64(2), int64(2)\n",
      "memory usage: 846.9 KB\n"
     ]
    }
   ],
   "source": [
    "#Удалю все явные дубликаты из таблицы с пользователями\n",
    "users=users.drop_duplicates()\n",
    "print(users.info())\n",
    "#Удалю все явные дубликаты из таблицы с поездками \n",
    "rides=rides.drop_duplicates()\n",
    "rides.info()"
   ]
  },
  {
   "cell_type": "code",
   "execution_count": 7,
   "id": "15b8504b",
   "metadata": {},
   "outputs": [
    {
     "name": "stdout",
     "output_type": "stream",
     "text": [
      "2021-01-01 00:00:00 2021-12-30 00:00:00\n"
     ]
    },
    {
     "data": {
      "text/plain": [
       "(0.5, 40.82396261922424)"
      ]
     },
     "execution_count": 7,
     "metadata": {},
     "output_type": "execute_result"
    }
   ],
   "source": [
    "#Проверю, за какой период у нас данные\n",
    "print(rides['date'].min(),rides['date'].max())\n",
    "#Округлю расстояние поездок\n",
    "rides['distance']=round(rides['distance'])\n",
    "#Проверю столбец 'duration' на предмет наличия аномалий\n",
    "rides['duration'].min(),rides['duration'].max()"
   ]
  },
  {
   "cell_type": "markdown",
   "id": "ab858434",
   "metadata": {},
   "source": [
    "В результате предобработки данных была выявлена и удалена 31 строка-дубликат из таблицы с пользователями. Данные о поездках в таблице содержатся с начала до конца 2021 года включительно. Длительность поездок ранжируется от 30 секунд до почти 41 минуты.\n"
   ]
  },
  {
   "cell_type": "markdown",
   "id": "212593c7",
   "metadata": {},
   "source": [
    "## Исследовательский анализ данных"
   ]
  },
  {
   "cell_type": "markdown",
   "id": "57902415",
   "metadata": {},
   "source": [
    "### Частота встречаемости городов"
   ]
  },
  {
   "cell_type": "code",
   "execution_count": 8,
   "id": "e3a4274c",
   "metadata": {},
   "outputs": [
    {
     "data": {
      "image/png": "[encoded data removed]",
      "text/plain": [
       "<Figure size 720x360 with 1 Axes>"
      ]
     },
     "metadata": {
      "needs_background": "light"
     },
     "output_type": "display_data"
    }
   ],
   "source": [
    "plt.figure(figsize=(10, 5))\n",
    "plt.hist(users['city'],bins=16)\n",
    "plt.xlabel('Города')\n",
    "plt.ylabel('Частота')\n",
    "plt.title('Частота встречаемости городов')\n",
    "plt.show()"
   ]
  },
  {
   "cell_type": "code",
   "execution_count": 9,
   "id": "458bf851",
   "metadata": {},
   "outputs": [
    {
     "data": {
      "text/plain": [
       "Пятигорск         219\n",
       "Екатеринбург      204\n",
       "Ростов-на-Дону    198\n",
       "Краснодар         193\n",
       "Сочи              189\n",
       "Омск              183\n",
       "Тюмень            180\n",
       "Москва            168\n",
       "Name: city, dtype: int64"
      ]
     },
     "execution_count": 9,
     "metadata": {},
     "output_type": "execute_result"
    }
   ],
   "source": [
    "users['city'].value_counts()"
   ]
  },
  {
   "cell_type": "markdown",
   "id": "4f17daeb",
   "metadata": {},
   "source": [
    "Больше всего пользователей из Пятигорска (219), меньше всего из Москвы (168)."
   ]
  },
  {
   "cell_type": "markdown",
   "id": "633893bd",
   "metadata": {},
   "source": [
    "### Соотношение пользователей с подпиской и без подписки;"
   ]
  },
  {
   "cell_type": "code",
   "execution_count": 10,
   "id": "497a7d69",
   "metadata": {},
   "outputs": [
    {
     "data": {
      "image/png": "[encoded data removed]",
      "text/plain": [
       "<Figure size 432x288 with 1 Axes>"
      ]
     },
     "metadata": {},
     "output_type": "display_data"
    },
    {
     "data": {
      "text/plain": [
       "free     835\n",
       "ultra    699\n",
       "Name: subscription_type, dtype: int64"
      ]
     },
     "execution_count": 10,
     "metadata": {},
     "output_type": "execute_result"
    }
   ],
   "source": [
    "plt.pie(users['subscription_type'].value_counts(),labels=['Free','Ultra'],autopct='%1.1f%%', shadow=True, wedgeprops={'lw':1, 'ls':'--','edgecolor':\"k\"}, rotatelabels=True)\n",
    "plt.show()\n",
    "users['subscription_type'].value_counts()"
   ]
  },
  {
   "cell_type": "markdown",
   "id": "e047147d",
   "metadata": {},
   "source": [
    "Пользователей без подписки(834) больше, чем пользователей с подпиской(700)"
   ]
  },
  {
   "cell_type": "markdown",
   "id": "2f896a20",
   "metadata": {},
   "source": [
    "### Возраст пользователей"
   ]
  },
  {
   "cell_type": "code",
   "execution_count": 11,
   "id": "86220eaf",
   "metadata": {},
   "outputs": [
    {
     "data": {
      "image/png": "[encoded data removed]",
      "text/plain": [
       "<Figure size 432x288 with 1 Axes>"
      ]
     },
     "metadata": {
      "needs_background": "light"
     },
     "output_type": "display_data"
    },
    {
     "name": "stdout",
     "output_type": "stream",
     "text": [
      "count    1534.000000\n",
      "mean       24.903520\n",
      "std         4.572367\n",
      "min        12.000000\n",
      "25%        22.000000\n",
      "50%        25.000000\n",
      "75%        28.000000\n",
      "max        43.000000\n",
      "Name: age, dtype: float64\n"
     ]
    },
    {
     "data": {
      "text/plain": [
       "25    145\n",
       "24    132\n",
       "26    131\n",
       "23    129\n",
       "27    119\n",
       "22    119\n",
       "28    112\n",
       "21     93\n",
       "20     71\n",
       "30     68\n",
       "29     68\n",
       "31     48\n",
       "19     47\n",
       "18     46\n",
       "32     41\n",
       "33     39\n",
       "17     26\n",
       "34     19\n",
       "16     19\n",
       "35     15\n",
       "15     13\n",
       "14      9\n",
       "13      8\n",
       "36      6\n",
       "12      4\n",
       "38      3\n",
       "37      2\n",
       "39      1\n",
       "43      1\n",
       "Name: age, dtype: int64"
      ]
     },
     "execution_count": 11,
     "metadata": {},
     "output_type": "execute_result"
    }
   ],
   "source": [
    "plt.hist(users['age'],bins=58)\n",
    "plt.xlabel('Возраст')\n",
    "plt.ylabel('Частота')\n",
    "plt.title('Возраст пользователей')\n",
    "plt.show()\n",
    "print(users['age'].describe())\n",
    "users['age'].value_counts()"
   ]
  },
  {
   "cell_type": "markdown",
   "id": "e49534ae",
   "metadata": {},
   "source": [
    "Замечу, что возраст пользователей распределен нормально. Самое популярное значение возраста у пользователей-25 (145 пользователей)"
   ]
  },
  {
   "cell_type": "markdown",
   "id": "7971c20d",
   "metadata": {},
   "source": [
    "### Расстояние, которое пользователь преодолел за одну поездку"
   ]
  },
  {
   "cell_type": "code",
   "execution_count": 12,
   "id": "9d586011",
   "metadata": {},
   "outputs": [
    {
     "data": {
      "image/png": "[encoded data removed]",
      "text/plain": [
       "<Figure size 432x288 with 1 Axes>"
      ]
     },
     "metadata": {
      "needs_background": "light"
     },
     "output_type": "display_data"
    }
   ],
   "source": [
    "plt.hist(rides['distance'],bins=100)\n",
    "plt.xlabel('Расстояние')\n",
    "plt.ylabel('Частота')\n",
    "plt.title('Расстояние поездок')\n",
    "plt.show()"
   ]
  },
  {
   "cell_type": "markdown",
   "id": "bd64e2c7",
   "metadata": {},
   "source": [
    "Большинство пользователей преодолевает расстояние 2800-3200м. Отмечу также, что от 0 до 600м частота увеличивается, а затем до 1500м уменьшается."
   ]
  },
  {
   "cell_type": "markdown",
   "id": "cc0cd529",
   "metadata": {},
   "source": [
    "### Продолжительность поездок"
   ]
  },
  {
   "cell_type": "code",
   "execution_count": 13,
   "id": "0f372072",
   "metadata": {},
   "outputs": [
    {
     "data": {
      "image/png": "[encoded data removed]",
      "text/plain": [
       "<Figure size 432x288 with 1 Axes>"
      ]
     },
     "metadata": {
      "needs_background": "light"
     },
     "output_type": "display_data"
    }
   ],
   "source": [
    "plt.hist(rides['duration'],bins=100)\n",
    "plt.xlabel('Продолжительность')\n",
    "plt.ylabel('Частота')\n",
    "plt.title('Продолжительность поездок')\n",
    "plt.show()"
   ]
  },
  {
   "cell_type": "markdown",
   "id": "2f77291e",
   "metadata": {},
   "source": [
    "Можно заметить, что распределение длительностей поездок также максимально приближено к нормальному, самое часто встречающееся значение-около 17 минут."
   ]
  },
  {
   "cell_type": "markdown",
   "id": "4ef51331",
   "metadata": {},
   "source": [
    "## Объединение данных"
   ]
  },
  {
   "cell_type": "markdown",
   "id": "8748b0a2",
   "metadata": {},
   "source": [
    "### Создание новой таблицы"
   ]
  },
  {
   "cell_type": "code",
   "execution_count": 14,
   "id": "6bf288b5",
   "metadata": {},
   "outputs": [
    {
     "data": {
      "text/html": [
       "<div>\n",
       "<style scoped>\n",
       "    .dataframe tbody tr th:only-of-type {\n",
       "        vertical-align: middle;\n",
       "    }\n",
       "\n",
       "    .dataframe tbody tr th {\n",
       "        vertical-align: top;\n",
       "    }\n",
       "\n",
       "    .dataframe thead th {\n",
       "        text-align: right;\n",
       "    }\n",
       "</style>\n",
       "<table border=\"1\" class=\"dataframe\">\n",
       "  <thead>\n",
       "    <tr style=\"text-align: right;\">\n",
       "      <th></th>\n",
       "      <th>user_id</th>\n",
       "      <th>name</th>\n",
       "      <th>age</th>\n",
       "      <th>city</th>\n",
       "      <th>subscription_type</th>\n",
       "      <th>distance</th>\n",
       "      <th>duration</th>\n",
       "      <th>date</th>\n",
       "      <th>month</th>\n",
       "      <th>minute_price</th>\n",
       "      <th>start_ride_price</th>\n",
       "      <th>subscription_fee</th>\n",
       "    </tr>\n",
       "  </thead>\n",
       "  <tbody>\n",
       "    <tr>\n",
       "      <th>0</th>\n",
       "      <td>1</td>\n",
       "      <td>Кира</td>\n",
       "      <td>22</td>\n",
       "      <td>Тюмень</td>\n",
       "      <td>ultra</td>\n",
       "      <td>4410.0</td>\n",
       "      <td>25.599769</td>\n",
       "      <td>2021-01-01</td>\n",
       "      <td>1</td>\n",
       "      <td>6</td>\n",
       "      <td>0</td>\n",
       "      <td>199</td>\n",
       "    </tr>\n",
       "    <tr>\n",
       "      <th>1</th>\n",
       "      <td>1</td>\n",
       "      <td>Кира</td>\n",
       "      <td>22</td>\n",
       "      <td>Тюмень</td>\n",
       "      <td>ultra</td>\n",
       "      <td>2618.0</td>\n",
       "      <td>15.816871</td>\n",
       "      <td>2021-01-18</td>\n",
       "      <td>1</td>\n",
       "      <td>6</td>\n",
       "      <td>0</td>\n",
       "      <td>199</td>\n",
       "    </tr>\n",
       "    <tr>\n",
       "      <th>2</th>\n",
       "      <td>1</td>\n",
       "      <td>Кира</td>\n",
       "      <td>22</td>\n",
       "      <td>Тюмень</td>\n",
       "      <td>ultra</td>\n",
       "      <td>754.0</td>\n",
       "      <td>6.232113</td>\n",
       "      <td>2021-04-20</td>\n",
       "      <td>4</td>\n",
       "      <td>6</td>\n",
       "      <td>0</td>\n",
       "      <td>199</td>\n",
       "    </tr>\n",
       "    <tr>\n",
       "      <th>3</th>\n",
       "      <td>1</td>\n",
       "      <td>Кира</td>\n",
       "      <td>22</td>\n",
       "      <td>Тюмень</td>\n",
       "      <td>ultra</td>\n",
       "      <td>2695.0</td>\n",
       "      <td>18.511000</td>\n",
       "      <td>2021-08-11</td>\n",
       "      <td>8</td>\n",
       "      <td>6</td>\n",
       "      <td>0</td>\n",
       "      <td>199</td>\n",
       "    </tr>\n",
       "    <tr>\n",
       "      <th>4</th>\n",
       "      <td>1</td>\n",
       "      <td>Кира</td>\n",
       "      <td>22</td>\n",
       "      <td>Тюмень</td>\n",
       "      <td>ultra</td>\n",
       "      <td>4029.0</td>\n",
       "      <td>26.265803</td>\n",
       "      <td>2021-08-28</td>\n",
       "      <td>8</td>\n",
       "      <td>6</td>\n",
       "      <td>0</td>\n",
       "      <td>199</td>\n",
       "    </tr>\n",
       "    <tr>\n",
       "      <th>...</th>\n",
       "      <td>...</td>\n",
       "      <td>...</td>\n",
       "      <td>...</td>\n",
       "      <td>...</td>\n",
       "      <td>...</td>\n",
       "      <td>...</td>\n",
       "      <td>...</td>\n",
       "      <td>...</td>\n",
       "      <td>...</td>\n",
       "      <td>...</td>\n",
       "      <td>...</td>\n",
       "      <td>...</td>\n",
       "    </tr>\n",
       "    <tr>\n",
       "      <th>18063</th>\n",
       "      <td>1534</td>\n",
       "      <td>Альберт</td>\n",
       "      <td>25</td>\n",
       "      <td>Краснодар</td>\n",
       "      <td>free</td>\n",
       "      <td>3781.0</td>\n",
       "      <td>19.822962</td>\n",
       "      <td>2021-11-04</td>\n",
       "      <td>11</td>\n",
       "      <td>8</td>\n",
       "      <td>50</td>\n",
       "      <td>0</td>\n",
       "    </tr>\n",
       "    <tr>\n",
       "      <th>18064</th>\n",
       "      <td>1534</td>\n",
       "      <td>Альберт</td>\n",
       "      <td>25</td>\n",
       "      <td>Краснодар</td>\n",
       "      <td>free</td>\n",
       "      <td>2840.0</td>\n",
       "      <td>21.409799</td>\n",
       "      <td>2021-11-16</td>\n",
       "      <td>11</td>\n",
       "      <td>8</td>\n",
       "      <td>50</td>\n",
       "      <td>0</td>\n",
       "    </tr>\n",
       "    <tr>\n",
       "      <th>18065</th>\n",
       "      <td>1534</td>\n",
       "      <td>Альберт</td>\n",
       "      <td>25</td>\n",
       "      <td>Краснодар</td>\n",
       "      <td>free</td>\n",
       "      <td>3826.0</td>\n",
       "      <td>18.435051</td>\n",
       "      <td>2021-11-18</td>\n",
       "      <td>11</td>\n",
       "      <td>8</td>\n",
       "      <td>50</td>\n",
       "      <td>0</td>\n",
       "    </tr>\n",
       "    <tr>\n",
       "      <th>18066</th>\n",
       "      <td>1534</td>\n",
       "      <td>Альберт</td>\n",
       "      <td>25</td>\n",
       "      <td>Краснодар</td>\n",
       "      <td>free</td>\n",
       "      <td>2902.0</td>\n",
       "      <td>16.674362</td>\n",
       "      <td>2021-11-27</td>\n",
       "      <td>11</td>\n",
       "      <td>8</td>\n",
       "      <td>50</td>\n",
       "      <td>0</td>\n",
       "    </tr>\n",
       "    <tr>\n",
       "      <th>18067</th>\n",
       "      <td>1534</td>\n",
       "      <td>Альберт</td>\n",
       "      <td>25</td>\n",
       "      <td>Краснодар</td>\n",
       "      <td>free</td>\n",
       "      <td>2372.0</td>\n",
       "      <td>15.893917</td>\n",
       "      <td>2021-12-29</td>\n",
       "      <td>12</td>\n",
       "      <td>8</td>\n",
       "      <td>50</td>\n",
       "      <td>0</td>\n",
       "    </tr>\n",
       "  </tbody>\n",
       "</table>\n",
       "<p>18068 rows × 12 columns</p>\n",
       "</div>"
      ],
      "text/plain": [
       "       user_id     name  age       city subscription_type  distance  \\\n",
       "0            1     Кира   22     Тюмень             ultra    4410.0   \n",
       "1            1     Кира   22     Тюмень             ultra    2618.0   \n",
       "2            1     Кира   22     Тюмень             ultra     754.0   \n",
       "3            1     Кира   22     Тюмень             ultra    2695.0   \n",
       "4            1     Кира   22     Тюмень             ultra    4029.0   \n",
       "...        ...      ...  ...        ...               ...       ...   \n",
       "18063     1534  Альберт   25  Краснодар              free    3781.0   \n",
       "18064     1534  Альберт   25  Краснодар              free    2840.0   \n",
       "18065     1534  Альберт   25  Краснодар              free    3826.0   \n",
       "18066     1534  Альберт   25  Краснодар              free    2902.0   \n",
       "18067     1534  Альберт   25  Краснодар              free    2372.0   \n",
       "\n",
       "        duration       date  month  minute_price  start_ride_price  \\\n",
       "0      25.599769 2021-01-01      1             6                 0   \n",
       "1      15.816871 2021-01-18      1             6                 0   \n",
       "2       6.232113 2021-04-20      4             6                 0   \n",
       "3      18.511000 2021-08-11      8             6                 0   \n",
       "4      26.265803 2021-08-28      8             6                 0   \n",
       "...          ...        ...    ...           ...               ...   \n",
       "18063  19.822962 2021-11-04     11             8                50   \n",
       "18064  21.409799 2021-11-16     11             8                50   \n",
       "18065  18.435051 2021-11-18     11             8                50   \n",
       "18066  16.674362 2021-11-27     11             8                50   \n",
       "18067  15.893917 2021-12-29     12             8                50   \n",
       "\n",
       "       subscription_fee  \n",
       "0                   199  \n",
       "1                   199  \n",
       "2                   199  \n",
       "3                   199  \n",
       "4                   199  \n",
       "...                 ...  \n",
       "18063                 0  \n",
       "18064                 0  \n",
       "18065                 0  \n",
       "18066                 0  \n",
       "18067                 0  \n",
       "\n",
       "[18068 rows x 12 columns]"
      ]
     },
     "execution_count": 14,
     "metadata": {},
     "output_type": "execute_result"
    }
   ],
   "source": [
    "alls=users.merge(rides,how='outer',left_on='user_id', right_on='user_id')\n",
    "alls=alls.merge(subscriptions,how='outer',left_on='subscription_type', right_on='subscription_type')\n",
    "alls"
   ]
  },
  {
   "cell_type": "code",
   "execution_count": 15,
   "id": "2da09e3a",
   "metadata": {},
   "outputs": [
    {
     "name": "stdout",
     "output_type": "stream",
     "text": [
      "(1534, 5) (18068, 5) (2, 4)\n",
      "(18068, 12)\n"
     ]
    },
    {
     "data": {
      "text/plain": [
       "user_id              0\n",
       "name                 0\n",
       "age                  0\n",
       "city                 0\n",
       "subscription_type    0\n",
       "distance             0\n",
       "duration             0\n",
       "date                 0\n",
       "month                0\n",
       "minute_price         0\n",
       "start_ride_price     0\n",
       "subscription_fee     0\n",
       "dtype: int64"
      ]
     },
     "execution_count": 15,
     "metadata": {},
     "output_type": "execute_result"
    }
   ],
   "source": [
    "#Посмотрю исходную размерность датасетов\n",
    "print(users.shape,rides.shape,subscriptions.shape)\n",
    "#Посмотрю размерность таблицы после объединения\n",
    "print(alls.shape)\n",
    "#Проверю на пропуски получившуюся таблицу\n",
    "alls.isna().sum()"
   ]
  },
  {
   "cell_type": "markdown",
   "id": "bc7db826",
   "metadata": {},
   "source": [
    "Количество строк в объединенной таблице совпадает с максимальным количеством из трех объединяемых таблиц, а количество столбцов в итоговой таблице равно сумме столбцов объединяемых таблиц, за исключением совпадающих столбцов 'user_id' в таблицах users и rides и 'subscription_type' в users и subscriptions\n",
    "Пропуски в новой таблице отсутствуют\n"
   ]
  },
  {
   "cell_type": "markdown",
   "id": "6c481653",
   "metadata": {},
   "source": [
    "### Данные о пользователях без подписки"
   ]
  },
  {
   "cell_type": "code",
   "execution_count": 16,
   "id": "1fc91429",
   "metadata": {},
   "outputs": [
    {
     "data": {
      "text/html": [
       "<div>\n",
       "<style scoped>\n",
       "    .dataframe tbody tr th:only-of-type {\n",
       "        vertical-align: middle;\n",
       "    }\n",
       "\n",
       "    .dataframe tbody tr th {\n",
       "        vertical-align: top;\n",
       "    }\n",
       "\n",
       "    .dataframe thead th {\n",
       "        text-align: right;\n",
       "    }\n",
       "</style>\n",
       "<table border=\"1\" class=\"dataframe\">\n",
       "  <thead>\n",
       "    <tr style=\"text-align: right;\">\n",
       "      <th></th>\n",
       "      <th>user_id</th>\n",
       "      <th>name</th>\n",
       "      <th>age</th>\n",
       "      <th>city</th>\n",
       "      <th>subscription_type</th>\n",
       "      <th>distance</th>\n",
       "      <th>duration</th>\n",
       "      <th>date</th>\n",
       "      <th>month</th>\n",
       "      <th>minute_price</th>\n",
       "      <th>start_ride_price</th>\n",
       "      <th>subscription_fee</th>\n",
       "    </tr>\n",
       "  </thead>\n",
       "  <tbody>\n",
       "    <tr>\n",
       "      <th>0</th>\n",
       "      <td>700</td>\n",
       "      <td>Айдар</td>\n",
       "      <td>22</td>\n",
       "      <td>Омск</td>\n",
       "      <td>free</td>\n",
       "      <td>2516.0</td>\n",
       "      <td>14.944286</td>\n",
       "      <td>2021-01-02</td>\n",
       "      <td>1</td>\n",
       "      <td>8</td>\n",
       "      <td>50</td>\n",
       "      <td>0</td>\n",
       "    </tr>\n",
       "    <tr>\n",
       "      <th>1</th>\n",
       "      <td>700</td>\n",
       "      <td>Айдар</td>\n",
       "      <td>22</td>\n",
       "      <td>Омск</td>\n",
       "      <td>free</td>\n",
       "      <td>847.0</td>\n",
       "      <td>16.234663</td>\n",
       "      <td>2021-02-01</td>\n",
       "      <td>2</td>\n",
       "      <td>8</td>\n",
       "      <td>50</td>\n",
       "      <td>0</td>\n",
       "    </tr>\n",
       "    <tr>\n",
       "      <th>2</th>\n",
       "      <td>700</td>\n",
       "      <td>Айдар</td>\n",
       "      <td>22</td>\n",
       "      <td>Омск</td>\n",
       "      <td>free</td>\n",
       "      <td>4004.0</td>\n",
       "      <td>20.016628</td>\n",
       "      <td>2021-02-04</td>\n",
       "      <td>2</td>\n",
       "      <td>8</td>\n",
       "      <td>50</td>\n",
       "      <td>0</td>\n",
       "    </tr>\n",
       "    <tr>\n",
       "      <th>3</th>\n",
       "      <td>700</td>\n",
       "      <td>Айдар</td>\n",
       "      <td>22</td>\n",
       "      <td>Омск</td>\n",
       "      <td>free</td>\n",
       "      <td>1206.0</td>\n",
       "      <td>9.782872</td>\n",
       "      <td>2021-02-10</td>\n",
       "      <td>2</td>\n",
       "      <td>8</td>\n",
       "      <td>50</td>\n",
       "      <td>0</td>\n",
       "    </tr>\n",
       "    <tr>\n",
       "      <th>4</th>\n",
       "      <td>700</td>\n",
       "      <td>Айдар</td>\n",
       "      <td>22</td>\n",
       "      <td>Омск</td>\n",
       "      <td>free</td>\n",
       "      <td>3047.0</td>\n",
       "      <td>17.427673</td>\n",
       "      <td>2021-02-14</td>\n",
       "      <td>2</td>\n",
       "      <td>8</td>\n",
       "      <td>50</td>\n",
       "      <td>0</td>\n",
       "    </tr>\n",
       "    <tr>\n",
       "      <th>...</th>\n",
       "      <td>...</td>\n",
       "      <td>...</td>\n",
       "      <td>...</td>\n",
       "      <td>...</td>\n",
       "      <td>...</td>\n",
       "      <td>...</td>\n",
       "      <td>...</td>\n",
       "      <td>...</td>\n",
       "      <td>...</td>\n",
       "      <td>...</td>\n",
       "      <td>...</td>\n",
       "      <td>...</td>\n",
       "    </tr>\n",
       "    <tr>\n",
       "      <th>11563</th>\n",
       "      <td>1534</td>\n",
       "      <td>Альберт</td>\n",
       "      <td>25</td>\n",
       "      <td>Краснодар</td>\n",
       "      <td>free</td>\n",
       "      <td>3781.0</td>\n",
       "      <td>19.822962</td>\n",
       "      <td>2021-11-04</td>\n",
       "      <td>11</td>\n",
       "      <td>8</td>\n",
       "      <td>50</td>\n",
       "      <td>0</td>\n",
       "    </tr>\n",
       "    <tr>\n",
       "      <th>11564</th>\n",
       "      <td>1534</td>\n",
       "      <td>Альберт</td>\n",
       "      <td>25</td>\n",
       "      <td>Краснодар</td>\n",
       "      <td>free</td>\n",
       "      <td>2840.0</td>\n",
       "      <td>21.409799</td>\n",
       "      <td>2021-11-16</td>\n",
       "      <td>11</td>\n",
       "      <td>8</td>\n",
       "      <td>50</td>\n",
       "      <td>0</td>\n",
       "    </tr>\n",
       "    <tr>\n",
       "      <th>11565</th>\n",
       "      <td>1534</td>\n",
       "      <td>Альберт</td>\n",
       "      <td>25</td>\n",
       "      <td>Краснодар</td>\n",
       "      <td>free</td>\n",
       "      <td>3826.0</td>\n",
       "      <td>18.435051</td>\n",
       "      <td>2021-11-18</td>\n",
       "      <td>11</td>\n",
       "      <td>8</td>\n",
       "      <td>50</td>\n",
       "      <td>0</td>\n",
       "    </tr>\n",
       "    <tr>\n",
       "      <th>11566</th>\n",
       "      <td>1534</td>\n",
       "      <td>Альберт</td>\n",
       "      <td>25</td>\n",
       "      <td>Краснодар</td>\n",
       "      <td>free</td>\n",
       "      <td>2902.0</td>\n",
       "      <td>16.674362</td>\n",
       "      <td>2021-11-27</td>\n",
       "      <td>11</td>\n",
       "      <td>8</td>\n",
       "      <td>50</td>\n",
       "      <td>0</td>\n",
       "    </tr>\n",
       "    <tr>\n",
       "      <th>11567</th>\n",
       "      <td>1534</td>\n",
       "      <td>Альберт</td>\n",
       "      <td>25</td>\n",
       "      <td>Краснодар</td>\n",
       "      <td>free</td>\n",
       "      <td>2372.0</td>\n",
       "      <td>15.893917</td>\n",
       "      <td>2021-12-29</td>\n",
       "      <td>12</td>\n",
       "      <td>8</td>\n",
       "      <td>50</td>\n",
       "      <td>0</td>\n",
       "    </tr>\n",
       "  </tbody>\n",
       "</table>\n",
       "<p>11568 rows × 12 columns</p>\n",
       "</div>"
      ],
      "text/plain": [
       "       user_id     name  age       city subscription_type  distance  \\\n",
       "0          700    Айдар   22       Омск              free    2516.0   \n",
       "1          700    Айдар   22       Омск              free     847.0   \n",
       "2          700    Айдар   22       Омск              free    4004.0   \n",
       "3          700    Айдар   22       Омск              free    1206.0   \n",
       "4          700    Айдар   22       Омск              free    3047.0   \n",
       "...        ...      ...  ...        ...               ...       ...   \n",
       "11563     1534  Альберт   25  Краснодар              free    3781.0   \n",
       "11564     1534  Альберт   25  Краснодар              free    2840.0   \n",
       "11565     1534  Альберт   25  Краснодар              free    3826.0   \n",
       "11566     1534  Альберт   25  Краснодар              free    2902.0   \n",
       "11567     1534  Альберт   25  Краснодар              free    2372.0   \n",
       "\n",
       "        duration       date  month  minute_price  start_ride_price  \\\n",
       "0      14.944286 2021-01-02      1             8                50   \n",
       "1      16.234663 2021-02-01      2             8                50   \n",
       "2      20.016628 2021-02-04      2             8                50   \n",
       "3       9.782872 2021-02-10      2             8                50   \n",
       "4      17.427673 2021-02-14      2             8                50   \n",
       "...          ...        ...    ...           ...               ...   \n",
       "11563  19.822962 2021-11-04     11             8                50   \n",
       "11564  21.409799 2021-11-16     11             8                50   \n",
       "11565  18.435051 2021-11-18     11             8                50   \n",
       "11566  16.674362 2021-11-27     11             8                50   \n",
       "11567  15.893917 2021-12-29     12             8                50   \n",
       "\n",
       "       subscription_fee  \n",
       "0                     0  \n",
       "1                     0  \n",
       "2                     0  \n",
       "3                     0  \n",
       "4                     0  \n",
       "...                 ...  \n",
       "11563                 0  \n",
       "11564                 0  \n",
       "11565                 0  \n",
       "11566                 0  \n",
       "11567                 0  \n",
       "\n",
       "[11568 rows x 12 columns]"
      ]
     },
     "execution_count": 16,
     "metadata": {},
     "output_type": "execute_result"
    }
   ],
   "source": [
    "frees=alls.query('subscription_type==\"free\"').reset_index(drop=True)\n",
    "frees"
   ]
  },
  {
   "cell_type": "markdown",
   "id": "b129b248",
   "metadata": {},
   "source": [
    "### Данные о пользователях с подпиской"
   ]
  },
  {
   "cell_type": "code",
   "execution_count": 17,
   "id": "98d8819e",
   "metadata": {},
   "outputs": [
    {
     "data": {
      "text/html": [
       "<div>\n",
       "<style scoped>\n",
       "    .dataframe tbody tr th:only-of-type {\n",
       "        vertical-align: middle;\n",
       "    }\n",
       "\n",
       "    .dataframe tbody tr th {\n",
       "        vertical-align: top;\n",
       "    }\n",
       "\n",
       "    .dataframe thead th {\n",
       "        text-align: right;\n",
       "    }\n",
       "</style>\n",
       "<table border=\"1\" class=\"dataframe\">\n",
       "  <thead>\n",
       "    <tr style=\"text-align: right;\">\n",
       "      <th></th>\n",
       "      <th>user_id</th>\n",
       "      <th>name</th>\n",
       "      <th>age</th>\n",
       "      <th>city</th>\n",
       "      <th>subscription_type</th>\n",
       "      <th>distance</th>\n",
       "      <th>duration</th>\n",
       "      <th>date</th>\n",
       "      <th>month</th>\n",
       "      <th>minute_price</th>\n",
       "      <th>start_ride_price</th>\n",
       "      <th>subscription_fee</th>\n",
       "    </tr>\n",
       "  </thead>\n",
       "  <tbody>\n",
       "    <tr>\n",
       "      <th>0</th>\n",
       "      <td>1</td>\n",
       "      <td>Кира</td>\n",
       "      <td>22</td>\n",
       "      <td>Тюмень</td>\n",
       "      <td>ultra</td>\n",
       "      <td>4410.0</td>\n",
       "      <td>25.599769</td>\n",
       "      <td>2021-01-01</td>\n",
       "      <td>1</td>\n",
       "      <td>6</td>\n",
       "      <td>0</td>\n",
       "      <td>199</td>\n",
       "    </tr>\n",
       "    <tr>\n",
       "      <th>1</th>\n",
       "      <td>1</td>\n",
       "      <td>Кира</td>\n",
       "      <td>22</td>\n",
       "      <td>Тюмень</td>\n",
       "      <td>ultra</td>\n",
       "      <td>2618.0</td>\n",
       "      <td>15.816871</td>\n",
       "      <td>2021-01-18</td>\n",
       "      <td>1</td>\n",
       "      <td>6</td>\n",
       "      <td>0</td>\n",
       "      <td>199</td>\n",
       "    </tr>\n",
       "    <tr>\n",
       "      <th>2</th>\n",
       "      <td>1</td>\n",
       "      <td>Кира</td>\n",
       "      <td>22</td>\n",
       "      <td>Тюмень</td>\n",
       "      <td>ultra</td>\n",
       "      <td>754.0</td>\n",
       "      <td>6.232113</td>\n",
       "      <td>2021-04-20</td>\n",
       "      <td>4</td>\n",
       "      <td>6</td>\n",
       "      <td>0</td>\n",
       "      <td>199</td>\n",
       "    </tr>\n",
       "    <tr>\n",
       "      <th>3</th>\n",
       "      <td>1</td>\n",
       "      <td>Кира</td>\n",
       "      <td>22</td>\n",
       "      <td>Тюмень</td>\n",
       "      <td>ultra</td>\n",
       "      <td>2695.0</td>\n",
       "      <td>18.511000</td>\n",
       "      <td>2021-08-11</td>\n",
       "      <td>8</td>\n",
       "      <td>6</td>\n",
       "      <td>0</td>\n",
       "      <td>199</td>\n",
       "    </tr>\n",
       "    <tr>\n",
       "      <th>4</th>\n",
       "      <td>1</td>\n",
       "      <td>Кира</td>\n",
       "      <td>22</td>\n",
       "      <td>Тюмень</td>\n",
       "      <td>ultra</td>\n",
       "      <td>4029.0</td>\n",
       "      <td>26.265803</td>\n",
       "      <td>2021-08-28</td>\n",
       "      <td>8</td>\n",
       "      <td>6</td>\n",
       "      <td>0</td>\n",
       "      <td>199</td>\n",
       "    </tr>\n",
       "    <tr>\n",
       "      <th>...</th>\n",
       "      <td>...</td>\n",
       "      <td>...</td>\n",
       "      <td>...</td>\n",
       "      <td>...</td>\n",
       "      <td>...</td>\n",
       "      <td>...</td>\n",
       "      <td>...</td>\n",
       "      <td>...</td>\n",
       "      <td>...</td>\n",
       "      <td>...</td>\n",
       "      <td>...</td>\n",
       "      <td>...</td>\n",
       "    </tr>\n",
       "    <tr>\n",
       "      <th>6495</th>\n",
       "      <td>699</td>\n",
       "      <td>Оксана</td>\n",
       "      <td>22</td>\n",
       "      <td>Москва</td>\n",
       "      <td>ultra</td>\n",
       "      <td>3973.0</td>\n",
       "      <td>24.671163</td>\n",
       "      <td>2021-08-29</td>\n",
       "      <td>8</td>\n",
       "      <td>6</td>\n",
       "      <td>0</td>\n",
       "      <td>199</td>\n",
       "    </tr>\n",
       "    <tr>\n",
       "      <th>6496</th>\n",
       "      <td>699</td>\n",
       "      <td>Оксана</td>\n",
       "      <td>22</td>\n",
       "      <td>Москва</td>\n",
       "      <td>ultra</td>\n",
       "      <td>3289.0</td>\n",
       "      <td>15.892886</td>\n",
       "      <td>2021-09-12</td>\n",
       "      <td>9</td>\n",
       "      <td>6</td>\n",
       "      <td>0</td>\n",
       "      <td>199</td>\n",
       "    </tr>\n",
       "    <tr>\n",
       "      <th>6497</th>\n",
       "      <td>699</td>\n",
       "      <td>Оксана</td>\n",
       "      <td>22</td>\n",
       "      <td>Москва</td>\n",
       "      <td>ultra</td>\n",
       "      <td>3076.0</td>\n",
       "      <td>14.389525</td>\n",
       "      <td>2021-09-26</td>\n",
       "      <td>9</td>\n",
       "      <td>6</td>\n",
       "      <td>0</td>\n",
       "      <td>199</td>\n",
       "    </tr>\n",
       "    <tr>\n",
       "      <th>6498</th>\n",
       "      <td>699</td>\n",
       "      <td>Оксана</td>\n",
       "      <td>22</td>\n",
       "      <td>Москва</td>\n",
       "      <td>ultra</td>\n",
       "      <td>4708.0</td>\n",
       "      <td>15.839579</td>\n",
       "      <td>2021-10-17</td>\n",
       "      <td>10</td>\n",
       "      <td>6</td>\n",
       "      <td>0</td>\n",
       "      <td>199</td>\n",
       "    </tr>\n",
       "    <tr>\n",
       "      <th>6499</th>\n",
       "      <td>699</td>\n",
       "      <td>Оксана</td>\n",
       "      <td>22</td>\n",
       "      <td>Москва</td>\n",
       "      <td>ultra</td>\n",
       "      <td>3203.0</td>\n",
       "      <td>25.217345</td>\n",
       "      <td>2021-12-03</td>\n",
       "      <td>12</td>\n",
       "      <td>6</td>\n",
       "      <td>0</td>\n",
       "      <td>199</td>\n",
       "    </tr>\n",
       "  </tbody>\n",
       "</table>\n",
       "<p>6500 rows × 12 columns</p>\n",
       "</div>"
      ],
      "text/plain": [
       "      user_id    name  age    city subscription_type  distance   duration  \\\n",
       "0           1    Кира   22  Тюмень             ultra    4410.0  25.599769   \n",
       "1           1    Кира   22  Тюмень             ultra    2618.0  15.816871   \n",
       "2           1    Кира   22  Тюмень             ultra     754.0   6.232113   \n",
       "3           1    Кира   22  Тюмень             ultra    2695.0  18.511000   \n",
       "4           1    Кира   22  Тюмень             ultra    4029.0  26.265803   \n",
       "...       ...     ...  ...     ...               ...       ...        ...   \n",
       "6495      699  Оксана   22  Москва             ultra    3973.0  24.671163   \n",
       "6496      699  Оксана   22  Москва             ultra    3289.0  15.892886   \n",
       "6497      699  Оксана   22  Москва             ultra    3076.0  14.389525   \n",
       "6498      699  Оксана   22  Москва             ultra    4708.0  15.839579   \n",
       "6499      699  Оксана   22  Москва             ultra    3203.0  25.217345   \n",
       "\n",
       "           date  month  minute_price  start_ride_price  subscription_fee  \n",
       "0    2021-01-01      1             6                 0               199  \n",
       "1    2021-01-18      1             6                 0               199  \n",
       "2    2021-04-20      4             6                 0               199  \n",
       "3    2021-08-11      8             6                 0               199  \n",
       "4    2021-08-28      8             6                 0               199  \n",
       "...         ...    ...           ...               ...               ...  \n",
       "6495 2021-08-29      8             6                 0               199  \n",
       "6496 2021-09-12      9             6                 0               199  \n",
       "6497 2021-09-26      9             6                 0               199  \n",
       "6498 2021-10-17     10             6                 0               199  \n",
       "6499 2021-12-03     12             6                 0               199  \n",
       "\n",
       "[6500 rows x 12 columns]"
      ]
     },
     "execution_count": 17,
     "metadata": {},
     "output_type": "execute_result"
    }
   ],
   "source": [
    "ultras=alls.query('subscription_type==\"ultra\"').reset_index(drop=True)\n",
    "ultras"
   ]
  },
  {
   "cell_type": "markdown",
   "id": "18ce330d",
   "metadata": {},
   "source": [
    "### Информация о расстоянии и времени поездок для пользователей обеих категорий."
   ]
  },
  {
   "cell_type": "code",
   "execution_count": 18,
   "id": "b1335b5e",
   "metadata": {},
   "outputs": [
    {
     "data": {
      "image/png": "[encoded data removed]",
      "text/plain": [
       "<Figure size 432x288 with 1 Axes>"
      ]
     },
     "metadata": {
      "needs_background": "light"
     },
     "output_type": "display_data"
    }
   ],
   "source": [
    "sns.histplot(data=alls,x='distance',bins=100,hue='subscription_type')\n",
    "\n",
    "plt.xlabel('Продолжительность')\n",
    "plt.ylabel('Частота')\n",
    "plt.title('Продолжительность поездок')\n",
    "plt.show()"
   ]
  },
  {
   "cell_type": "markdown",
   "id": "2d521e96",
   "metadata": {},
   "source": [
    "Большинство пользователей без подписки проезжают от 2000 до 4000 м, однако также локальный максимум можно обнаружить около 500 м, что говорит о том, что пользователи без подписки не всегда проезжают много(от 0 до 1000)"
   ]
  },
  {
   "cell_type": "markdown",
   "id": "cc804c9c",
   "metadata": {},
   "source": [
    "У пользователей с подпиской парабола более узкая,из-за того, что значений впринципе меньше, а также маленькое количество поездок до 2000 м(ни разу не встретилась частота>50). Самое популярное значение дистанции- 3200"
   ]
  },
  {
   "cell_type": "code",
   "execution_count": 19,
   "id": "a2096829",
   "metadata": {},
   "outputs": [
    {
     "data": {
      "image/png": "[encoded data removed]",
      "text/plain": [
       "<Figure size 432x288 with 1 Axes>"
      ]
     },
     "metadata": {
      "needs_background": "light"
     },
     "output_type": "display_data"
    }
   ],
   "source": [
    "sns.histplot(data=alls,x='duration',bins=100,hue='subscription_type')\n",
    "\n",
    "plt.xlabel('Продолжительность')\n",
    "plt.ylabel('Частота')\n",
    "plt.title('Продолжительность поездок')\n",
    "plt.show()"
   ]
  },
  {
   "cell_type": "markdown",
   "id": "23516d5a",
   "metadata": {},
   "source": [
    "Люди без подписки чаще всего катаются от 11 до 22 минут. Также аномально много тех, кто завершил сеанс за минуту(почти 100 значений)"
   ]
  },
  {
   "cell_type": "markdown",
   "id": "f3885aa9",
   "metadata": {},
   "source": [
    "Пользователи с подпиской чаще всего катаются от 14 до 22 минут. Распределение близко к нормальному."
   ]
  },
  {
   "cell_type": "markdown",
   "id": "402d620f",
   "metadata": {},
   "source": [
    "## Подсчёт выручки"
   ]
  },
  {
   "cell_type": "code",
   "execution_count": 20,
   "id": "53049e0a",
   "metadata": {},
   "outputs": [
    {
     "data": {
      "text/html": [
       "<div>\n",
       "<style scoped>\n",
       "    .dataframe tbody tr th:only-of-type {\n",
       "        vertical-align: middle;\n",
       "    }\n",
       "\n",
       "    .dataframe tbody tr th {\n",
       "        vertical-align: top;\n",
       "    }\n",
       "\n",
       "    .dataframe thead th {\n",
       "        text-align: right;\n",
       "    }\n",
       "</style>\n",
       "<table border=\"1\" class=\"dataframe\">\n",
       "  <thead>\n",
       "    <tr style=\"text-align: right;\">\n",
       "      <th></th>\n",
       "      <th></th>\n",
       "      <th>distance_sum</th>\n",
       "      <th>distance_count</th>\n",
       "      <th>duration</th>\n",
       "      <th>subscription_type</th>\n",
       "      <th>start_ride_price</th>\n",
       "      <th>minute_price</th>\n",
       "      <th>subscription_fee</th>\n",
       "      <th>revenue</th>\n",
       "    </tr>\n",
       "    <tr>\n",
       "      <th>user_id</th>\n",
       "      <th>month</th>\n",
       "      <th></th>\n",
       "      <th></th>\n",
       "      <th></th>\n",
       "      <th></th>\n",
       "      <th></th>\n",
       "      <th></th>\n",
       "      <th></th>\n",
       "      <th></th>\n",
       "    </tr>\n",
       "  </thead>\n",
       "  <tbody>\n",
       "    <tr>\n",
       "      <th rowspan=\"5\" valign=\"top\">1</th>\n",
       "      <th>1</th>\n",
       "      <td>7028.0</td>\n",
       "      <td>2</td>\n",
       "      <td>41.0</td>\n",
       "      <td>ultra</td>\n",
       "      <td>0</td>\n",
       "      <td>6</td>\n",
       "      <td>199</td>\n",
       "      <td>445.0</td>\n",
       "    </tr>\n",
       "    <tr>\n",
       "      <th>4</th>\n",
       "      <td>754.0</td>\n",
       "      <td>1</td>\n",
       "      <td>6.0</td>\n",
       "      <td>ultra</td>\n",
       "      <td>0</td>\n",
       "      <td>6</td>\n",
       "      <td>199</td>\n",
       "      <td>235.0</td>\n",
       "    </tr>\n",
       "    <tr>\n",
       "      <th>8</th>\n",
       "      <td>6724.0</td>\n",
       "      <td>2</td>\n",
       "      <td>45.0</td>\n",
       "      <td>ultra</td>\n",
       "      <td>0</td>\n",
       "      <td>6</td>\n",
       "      <td>199</td>\n",
       "      <td>469.0</td>\n",
       "    </tr>\n",
       "    <tr>\n",
       "      <th>10</th>\n",
       "      <td>5810.0</td>\n",
       "      <td>2</td>\n",
       "      <td>32.0</td>\n",
       "      <td>ultra</td>\n",
       "      <td>0</td>\n",
       "      <td>6</td>\n",
       "      <td>199</td>\n",
       "      <td>391.0</td>\n",
       "    </tr>\n",
       "    <tr>\n",
       "      <th>11</th>\n",
       "      <td>7004.0</td>\n",
       "      <td>3</td>\n",
       "      <td>53.0</td>\n",
       "      <td>ultra</td>\n",
       "      <td>0</td>\n",
       "      <td>6</td>\n",
       "      <td>199</td>\n",
       "      <td>517.0</td>\n",
       "    </tr>\n",
       "    <tr>\n",
       "      <th>...</th>\n",
       "      <th>...</th>\n",
       "      <td>...</td>\n",
       "      <td>...</td>\n",
       "      <td>...</td>\n",
       "      <td>...</td>\n",
       "      <td>...</td>\n",
       "      <td>...</td>\n",
       "      <td>...</td>\n",
       "      <td>...</td>\n",
       "    </tr>\n",
       "    <tr>\n",
       "      <th rowspan=\"5\" valign=\"top\">1534</th>\n",
       "      <th>6</th>\n",
       "      <td>3409.0</td>\n",
       "      <td>2</td>\n",
       "      <td>25.0</td>\n",
       "      <td>free</td>\n",
       "      <td>50</td>\n",
       "      <td>8</td>\n",
       "      <td>0</td>\n",
       "      <td>300.0</td>\n",
       "    </tr>\n",
       "    <tr>\n",
       "      <th>8</th>\n",
       "      <td>7623.0</td>\n",
       "      <td>2</td>\n",
       "      <td>47.0</td>\n",
       "      <td>free</td>\n",
       "      <td>50</td>\n",
       "      <td>8</td>\n",
       "      <td>0</td>\n",
       "      <td>476.0</td>\n",
       "    </tr>\n",
       "    <tr>\n",
       "      <th>9</th>\n",
       "      <td>4928.0</td>\n",
       "      <td>1</td>\n",
       "      <td>23.0</td>\n",
       "      <td>free</td>\n",
       "      <td>50</td>\n",
       "      <td>8</td>\n",
       "      <td>0</td>\n",
       "      <td>234.0</td>\n",
       "    </tr>\n",
       "    <tr>\n",
       "      <th>11</th>\n",
       "      <td>13349.0</td>\n",
       "      <td>4</td>\n",
       "      <td>76.0</td>\n",
       "      <td>free</td>\n",
       "      <td>50</td>\n",
       "      <td>8</td>\n",
       "      <td>0</td>\n",
       "      <td>808.0</td>\n",
       "    </tr>\n",
       "    <tr>\n",
       "      <th>12</th>\n",
       "      <td>2372.0</td>\n",
       "      <td>1</td>\n",
       "      <td>16.0</td>\n",
       "      <td>free</td>\n",
       "      <td>50</td>\n",
       "      <td>8</td>\n",
       "      <td>0</td>\n",
       "      <td>178.0</td>\n",
       "    </tr>\n",
       "  </tbody>\n",
       "</table>\n",
       "<p>11331 rows × 8 columns</p>\n",
       "</div>"
      ],
      "text/plain": [
       "               distance_sum  distance_count  duration subscription_type  \\\n",
       "user_id month                                                             \n",
       "1       1            7028.0               2      41.0             ultra   \n",
       "        4             754.0               1       6.0             ultra   \n",
       "        8            6724.0               2      45.0             ultra   \n",
       "        10           5810.0               2      32.0             ultra   \n",
       "        11           7004.0               3      53.0             ultra   \n",
       "...                     ...             ...       ...               ...   \n",
       "1534    6            3409.0               2      25.0              free   \n",
       "        8            7623.0               2      47.0              free   \n",
       "        9            4928.0               1      23.0              free   \n",
       "        11          13349.0               4      76.0              free   \n",
       "        12           2372.0               1      16.0              free   \n",
       "\n",
       "               start_ride_price  minute_price  subscription_fee  revenue  \n",
       "user_id month                                                             \n",
       "1       1                     0             6               199    445.0  \n",
       "        4                     0             6               199    235.0  \n",
       "        8                     0             6               199    469.0  \n",
       "        10                    0             6               199    391.0  \n",
       "        11                    0             6               199    517.0  \n",
       "...                         ...           ...               ...      ...  \n",
       "1534    6                    50             8                 0    300.0  \n",
       "        8                    50             8                 0    476.0  \n",
       "        9                    50             8                 0    234.0  \n",
       "        11                   50             8                 0    808.0  \n",
       "        12                   50             8                 0    178.0  \n",
       "\n",
       "[11331 rows x 8 columns]"
      ]
     },
     "execution_count": 20,
     "metadata": {},
     "output_type": "execute_result"
    }
   ],
   "source": [
    "viruch=alls.groupby(['user_id','month']).agg(distance_sum=('distance','sum'),distance_count=('distance','count'),duration=('duration','sum'),subscription_type=('subscription_type','first'),start_ride_price=('start_ride_price','first'),minute_price=('minute_price','first'),subscription_fee=('subscription_fee','first'))\n",
    "viruch['duration']=round(viruch['duration'])\n",
    "viruch['revenue']=np.ceil(viruch['start_ride_price']*viruch['distance_count']+(viruch['minute_price']*viruch['duration'])+viruch['subscription_fee'])\n",
    "viruch"
   ]
  },
  {
   "cell_type": "markdown",
   "id": "41545ac0",
   "metadata": {},
   "source": [
    "## Проверка гипотез"
   ]
  },
  {
   "cell_type": "markdown",
   "id": "9b523914",
   "metadata": {},
   "source": [
    "### Правда ли пользователи с подпиской тратят больше времени на поездки"
   ]
  },
  {
   "cell_type": "markdown",
   "id": "a337d628",
   "metadata": {},
   "source": [
    "Нулевая гипотеза: пользователи с подпиской тратят столько же или меньше времени на поездки, сколько и пользователи без подписки\n",
    "\n",
    "Альтернативная гипотеза: пользователи с подпиской тратят больше времени на поездки, чем пользователи без подписки"
   ]
  },
  {
   "cell_type": "code",
   "execution_count": 21,
   "id": "23ea867b",
   "metadata": {},
   "outputs": [
    {
     "name": "stdout",
     "output_type": "stream",
     "text": [
      "17.326890226082043\n",
      "18.17815320055055\n"
     ]
    },
    {
     "data": {
      "text/plain": [
       "1.2804098316645618e-34"
      ]
     },
     "execution_count": 21,
     "metadata": {},
     "output_type": "execute_result"
    }
   ],
   "source": [
    "arr1=pd.array(frees['duration'])\n",
    "print(arr1.median())\n",
    "arr2=pd.array(ultras['duration'])\n",
    "print(arr2.median())\n",
    "results=st.ttest_ind(arr2,arr1,alternative='greater')\n",
    "results.pvalue"
   ]
  },
  {
   "cell_type": "markdown",
   "id": "7d36013e",
   "metadata": {},
   "source": [
    "Поскольку p-value крайне мало, оно меньше статистической значимости, значит нулевая гипотеза отвергается в пользу альтернативной, соответственно пользователи с подпиской действительно тратят больше времени на поездки"
   ]
  },
  {
   "cell_type": "markdown",
   "id": "17773115",
   "metadata": {},
   "source": [
    "### Превышает ли среднее расстояние пользователей с подпиской 3130 метров."
   ]
  },
  {
   "cell_type": "markdown",
   "id": "7f07e625",
   "metadata": {},
   "source": [
    "Нулевая гипотеза: среднее расстояние пользователей не превышает 3130 метров\n",
    "    \n",
    "Альтернативная гипотеза: среднее расстояние пользователей превышает 3130 метров"
   ]
  },
  {
   "cell_type": "code",
   "execution_count": 22,
   "id": "91ce0ad9",
   "metadata": {},
   "outputs": [
    {
     "data": {
      "text/plain": [
       "0.9195649894697724"
      ]
     },
     "execution_count": 22,
     "metadata": {},
     "output_type": "execute_result"
    }
   ],
   "source": [
    "arr3=pd.array(ultras['distance'])\n",
    "results=st.ttest_1samp(arr3,3130,alternative='greater')\n",
    "results.pvalue"
   ]
  },
  {
   "cell_type": "markdown",
   "id": "e1ce48d5",
   "metadata": {},
   "source": [
    "Поскольку p-value больше статистической значимости, равной 1 и 5%, нулевая гипотеза о том, что среднее генеральной совокупности не превышает 3130 метров, не может быть отвергнута"
   ]
  },
  {
   "cell_type": "markdown",
   "id": "548b743b",
   "metadata": {},
   "source": [
    "### Будет ли помесячная выручка от пользователей с подпиской по месяцам выше, чем выручка от пользователей без подписки\n"
   ]
  },
  {
   "cell_type": "markdown",
   "id": "77312b52",
   "metadata": {},
   "source": [
    "Нулевая гипотеза: Помесячная выручка от пользователей с подпиской меньше или равна выручке от пользователей без подписки\n",
    "    \n",
    "Альтернативная гипотеза: пользователи с подпиской приносят больше выручки, чем пользователи без подписки"
   ]
  },
  {
   "cell_type": "code",
   "execution_count": 23,
   "id": "d400e9d8",
   "metadata": {},
   "outputs": [
    {
     "data": {
      "text/plain": [
       "2.3546897309064956e-37"
      ]
     },
     "execution_count": 23,
     "metadata": {},
     "output_type": "execute_result"
    }
   ],
   "source": [
    "arr4=pd.array(viruch.query('start_ride_price==0')['revenue'])\n",
    "arr5=pd.array(viruch.query('start_ride_price==50')['revenue'])\n",
    "results=st.ttest_ind(arr4,arr5,equal_var='False',alternative='greater')\n",
    "results.pvalue"
   ]
  },
  {
   "cell_type": "markdown",
   "id": "0f61e523",
   "metadata": {},
   "source": [
    "Поскольку p-value меньше статистической значимости, значит нулевая гипотеза отвергается, а альтернативная гипотеза не отвергается,значит помесячная выручка от пользователей с подпиской больше, чем от пользователей без подписки"
   ]
  },
  {
   "cell_type": "markdown",
   "id": "61213c5e",
   "metadata": {},
   "source": [
    "## Распределения"
   ]
  },
  {
   "cell_type": "markdown",
   "id": "27a3d32f",
   "metadata": {},
   "source": [
    "### Отделу маркетинга GoFast поставили задачу: нужно провести акцию с раздачей промокодов на один бесплатный месяц подписки, в рамках которой как минимум 100 существующих клиентов должны продлить эту подписку. То есть по завершении периода действия подписки пользователь может либо отказаться от неё, либо продлить, совершив соответствующий платёж. Эта акция уже проводилась ранее и по итогу выяснилось, что после бесплатного пробного периода подписку продлевают 10% пользователей. Какое минимальное количество промокодов нужно разослать, чтобы вероятность не выполнить план была примерно 5%?"
   ]
  },
  {
   "cell_type": "markdown",
   "id": "11ce22b0",
   "metadata": {},
   "source": [
    "С помощью цикла и метода binom.pmf найду минимальное значение n, при котором сумма вероятностей получить меньше 100 успехов не превышает 5%"
   ]
  },
  {
   "cell_type": "code",
   "execution_count": 24,
   "id": "6c9995a9",
   "metadata": {},
   "outputs": [
    {
     "name": "stdout",
     "output_type": "stream",
     "text": [
      "1161\n"
     ]
    },
    {
     "data": {
      "image/png": "[encoded data removed]",
      "text/plain": [
       "<Figure size 432x288 with 1 Axes>"
      ]
     },
     "metadata": {
      "needs_background": "light"
     },
     "output_type": "display_data"
    }
   ],
   "source": [
    "p=0.1\n",
    "flag=False\n",
    "distr=[]\n",
    "for n in range(100,1500):\n",
    "    val=st.binom.cdf(99,n,p)\n",
    "    distr.append(val)\n",
    "    if not flag and val<0.05:\n",
    "        print(n)\n",
    "        flag=True\n",
    "plt.plot(distr)\n",
    "plt.title(\"Вероятность не выполнить план в зависимости от количества промокодов\")\n",
    "plt.xlabel(\"Количество промокодов\")\n",
    "plt.ylabel(\"Вероятность\")\n",
    "plt.show()"
   ]
  },
  {
   "cell_type": "markdown",
   "id": "f301aebe",
   "metadata": {},
   "source": [
    "Таким образом, 1161- минимальное количество промокодов, которое нужно разослать."
   ]
  },
  {
   "cell_type": "markdown",
   "id": "da4c312e",
   "metadata": {},
   "source": [
    "### Отдел маркетинга рассылает клиентам push-уведомления в мобильном приложении. Клиенты могут открыть его или не открывать. Известно, что уведомления открывают около 40 %получивших клиентов. Отдел планирует разослать 1млн уведомлений. Какова вероятность того, что уведомление откроют не более 399,5тыс. пользователей?"
   ]
  },
  {
   "cell_type": "markdown",
   "id": "bd538510",
   "metadata": {},
   "source": [
    "Воспользуюсь нормальной аппроксимацией биноминального распределения и методом cdf."
   ]
  },
  {
   "cell_type": "code",
   "execution_count": 25,
   "id": "8af5c0cc",
   "metadata": {},
   "outputs": [
    {
     "data": {
      "text/plain": [
       "0.15371708296369768"
      ]
     },
     "execution_count": 25,
     "metadata": {},
     "output_type": "execute_result"
    }
   ],
   "source": [
    "from math import sqrt\n",
    "import scipy.stats as st\n",
    "n=1000000\n",
    "p=0.4\n",
    "mu = n * p\n",
    "sigma = sqrt(n * p * (1 - p))\n",
    "distr = st.norm(mu, sigma)\n",
    "distr.cdf(399500)"
   ]
  },
  {
   "cell_type": "markdown",
   "id": "bedb449c",
   "metadata": {},
   "source": [
    "Таким образом, вероятность того, что уведомление  откроют не более 399500 пользователей равно около 15.4%"
   ]
  },
  {
   "cell_type": "markdown",
   "id": "586d4312",
   "metadata": {},
   "source": [
    "## Вывод.\n",
    "\n",
    "Проанализировав данные датасеты, можно сказать, что сервисом GoFast за 2021 год пользовались люди от 12 до 43 лет из самых разных городов России: от Москвы(168 пользователей) до Пятигорска(219 пользователей). У сервиса также существует платная подписка, позволяющая снизить стоимость минуты катания(с 8р/мин до 6р/мин), а также избавляющая от платы за начало поездки.\n",
    "    \n",
    "Что касается самих поездок, их средняя продолжительность составляет 17 минут и длятся они в среднем 3 км. Можно заметить, что пользователи с подпиской редко проезжают меньше 2 км, возможно потому, что приобретающие подписку любят кататься много, а тариф позволяет им платить меньше. Также, удалось заметить, что пользователи без подписки аномально часто завершают сеанс за минуту(почти 100 значений). Возможно это связано с тем, что пользователи узнали о подписке сразу после начала сеанса и решили приобрести её, перед этим закончив предыдущую поезку.\n",
    "\n",
    "В целом, пользователи с подпиской тратят больше времени на поездки(18.2 мин против 17.3). Это логично, поскольку подписка позволяет тратить меньше денег, и пользователи с подпиской могут себе позволить более продолжительные поездки. Среднее проезжаемое расстояние пользователей не превышает 3130 метров, а это оптимальное расстояние по износу, поэтому самокаты смогут спокойно отслужить гарантийный срок. Помесячная выручка от пользователей с подпиской больше выручки от пользователей без подписки, а значит выгоднее всего компании продвигать подписку ultra, поскольку люди, имеющие подписку, приносят больше дохода, чем люди без нее."
   ]
  },
  {
   "cell_type": "code",
   "execution_count": null,
   "id": "7ac9215d",
   "metadata": {},
   "outputs": [],
   "source": []
  }
 ],
 "metadata": {
  "ExecuteTimeLog": [
   {
    "duration": 397,
    "start_time": "2024-08-05T14:25:39.852Z"
   },
   {
    "duration": 80,
    "start_time": "2024-08-05T14:25:41.605Z"
   },
   {
    "duration": 173,
    "start_time": "2024-08-05T14:25:50.232Z"
   },
   {
    "duration": 137,
    "start_time": "2024-08-05T14:25:55.137Z"
   },
   {
    "duration": 33,
    "start_time": "2024-08-05T14:26:01.688Z"
   },
   {
    "duration": 35,
    "start_time": "2024-08-05T14:26:11.992Z"
   },
   {
    "duration": 7,
    "start_time": "2024-08-05T14:27:38.482Z"
   },
   {
    "duration": 27,
    "start_time": "2024-08-05T14:27:46.282Z"
   },
   {
    "duration": 58,
    "start_time": "2024-08-05T14:30:26.524Z"
   },
   {
    "duration": 23,
    "start_time": "2024-08-05T14:30:54.085Z"
   },
   {
    "duration": 993,
    "start_time": "2024-08-05T14:41:51.694Z"
   },
   {
    "duration": 5,
    "start_time": "2024-08-05T14:42:03.809Z"
   },
   {
    "duration": 4,
    "start_time": "2024-08-05T14:42:14.155Z"
   },
   {
    "duration": 4,
    "start_time": "2024-08-05T14:43:06.692Z"
   },
   {
    "duration": 36,
    "start_time": "2024-08-05T14:43:19.309Z"
   },
   {
    "duration": 35,
    "start_time": "2024-08-05T14:43:38.568Z"
   },
   {
    "duration": 8,
    "start_time": "2024-08-05T15:39:09.285Z"
   },
   {
    "duration": 48,
    "start_time": "2024-08-05T15:39:36.449Z"
   },
   {
    "duration": 11,
    "start_time": "2024-08-05T15:40:41.943Z"
   },
   {
    "duration": 8,
    "start_time": "2024-08-05T15:40:51.886Z"
   },
   {
    "duration": 8,
    "start_time": "2024-08-05T15:44:10.205Z"
   },
   {
    "duration": 13,
    "start_time": "2024-08-05T15:44:36.339Z"
   },
   {
    "duration": 27,
    "start_time": "2024-08-05T15:45:46.285Z"
   },
   {
    "duration": 28,
    "start_time": "2024-08-05T15:45:58.006Z"
   },
   {
    "duration": 10,
    "start_time": "2024-08-05T15:46:08.597Z"
   },
   {
    "duration": 10,
    "start_time": "2024-08-05T15:46:47.317Z"
   },
   {
    "duration": 11,
    "start_time": "2024-08-05T15:46:52.970Z"
   },
   {
    "duration": 14,
    "start_time": "2024-08-05T15:48:18.598Z"
   },
   {
    "duration": 24,
    "start_time": "2024-08-05T15:50:19.635Z"
   },
   {
    "duration": 15,
    "start_time": "2024-08-05T15:51:30.567Z"
   },
   {
    "duration": 15,
    "start_time": "2024-08-05T15:51:38.225Z"
   },
   {
    "duration": 22,
    "start_time": "2024-08-05T15:52:03.826Z"
   },
   {
    "duration": 541,
    "start_time": "2024-08-05T15:53:12.523Z"
   },
   {
    "duration": 80,
    "start_time": "2024-08-05T15:53:38.923Z"
   },
   {
    "duration": 182,
    "start_time": "2024-08-05T15:53:45.309Z"
   },
   {
    "duration": 22,
    "start_time": "2024-08-05T15:54:08.393Z"
   },
   {
    "duration": 177,
    "start_time": "2024-08-05T15:54:35.670Z"
   },
   {
    "duration": 174,
    "start_time": "2024-08-05T15:54:46.835Z"
   },
   {
    "duration": 152,
    "start_time": "2024-08-05T15:56:10.671Z"
   },
   {
    "duration": 153,
    "start_time": "2024-08-05T15:56:22.781Z"
   },
   {
    "duration": 171,
    "start_time": "2024-08-05T15:56:38.950Z"
   },
   {
    "duration": 136,
    "start_time": "2024-08-05T15:59:18.671Z"
   },
   {
    "duration": 125,
    "start_time": "2024-08-05T15:59:25.251Z"
   },
   {
    "duration": 109,
    "start_time": "2024-08-05T15:59:29.881Z"
   },
   {
    "duration": 101,
    "start_time": "2024-08-05T15:59:38.911Z"
   },
   {
    "duration": 158,
    "start_time": "2024-08-05T15:59:43.681Z"
   },
   {
    "duration": 123,
    "start_time": "2024-08-05T15:59:51.501Z"
   },
   {
    "duration": 172,
    "start_time": "2024-08-05T16:00:01.072Z"
   },
   {
    "duration": 100,
    "start_time": "2024-08-05T16:00:12.584Z"
   },
   {
    "duration": 60,
    "start_time": "2024-08-05T16:01:24.721Z"
   },
   {
    "duration": 107,
    "start_time": "2024-08-05T16:05:33.844Z"
   },
   {
    "duration": 146,
    "start_time": "2024-08-05T16:05:39.738Z"
   },
   {
    "duration": 253,
    "start_time": "2024-08-05T16:05:44.497Z"
   },
   {
    "duration": 196,
    "start_time": "2024-08-05T16:05:58.214Z"
   },
   {
    "duration": 134,
    "start_time": "2024-08-05T16:06:09.625Z"
   },
   {
    "duration": 145,
    "start_time": "2024-08-05T16:06:15.834Z"
   },
   {
    "duration": 228,
    "start_time": "2024-08-05T16:06:21.777Z"
   },
   {
    "duration": 254,
    "start_time": "2024-08-05T16:06:26.834Z"
   },
   {
    "duration": 154,
    "start_time": "2024-08-05T16:06:33.465Z"
   },
   {
    "duration": 207,
    "start_time": "2024-08-05T16:06:37.865Z"
   },
   {
    "duration": 167,
    "start_time": "2024-08-05T16:06:43.996Z"
   },
   {
    "duration": 154,
    "start_time": "2024-08-05T16:06:47.305Z"
   },
   {
    "duration": 60,
    "start_time": "2024-08-05T16:07:31.544Z"
   },
   {
    "duration": 132,
    "start_time": "2024-08-05T16:08:11.643Z"
   },
   {
    "duration": 248,
    "start_time": "2024-08-05T16:08:24.231Z"
   },
   {
    "duration": 131,
    "start_time": "2024-08-05T16:13:35.233Z"
   },
   {
    "duration": 235,
    "start_time": "2024-08-05T16:13:43.312Z"
   },
   {
    "duration": 186,
    "start_time": "2024-08-05T16:13:48.134Z"
   },
   {
    "duration": 241,
    "start_time": "2024-08-05T16:13:55.026Z"
   },
   {
    "duration": 20,
    "start_time": "2024-08-05T16:19:13.086Z"
   },
   {
    "duration": 17,
    "start_time": "2024-08-05T16:19:56.088Z"
   },
   {
    "duration": 23,
    "start_time": "2024-08-05T16:21:05.181Z"
   },
   {
    "duration": 111,
    "start_time": "2024-08-05T16:21:55.621Z"
   },
   {
    "duration": 3381,
    "start_time": "2024-08-05T16:22:54.540Z"
   },
   {
    "duration": 2,
    "start_time": "2024-08-05T16:23:55.681Z"
   },
   {
    "duration": 43,
    "start_time": "2024-08-05T16:23:55.685Z"
   },
   {
    "duration": 32,
    "start_time": "2024-08-05T16:23:55.730Z"
   },
   {
    "duration": 21,
    "start_time": "2024-08-05T16:23:55.764Z"
   },
   {
    "duration": 17,
    "start_time": "2024-08-05T16:23:55.787Z"
   },
   {
    "duration": 32,
    "start_time": "2024-08-05T16:23:55.806Z"
   },
   {
    "duration": 182,
    "start_time": "2024-08-05T16:23:55.839Z"
   },
   {
    "duration": 117,
    "start_time": "2024-08-05T16:23:56.022Z"
   },
   {
    "duration": 156,
    "start_time": "2024-08-05T16:23:56.140Z"
   },
   {
    "duration": 242,
    "start_time": "2024-08-05T16:23:56.298Z"
   },
   {
    "duration": 232,
    "start_time": "2024-08-05T16:23:56.542Z"
   },
   {
    "duration": 26,
    "start_time": "2024-08-05T16:23:56.775Z"
   },
   {
    "duration": 78,
    "start_time": "2024-08-05T16:26:01.914Z"
   },
   {
    "duration": 23,
    "start_time": "2024-08-05T16:26:15.182Z"
   },
   {
    "duration": 21,
    "start_time": "2024-08-05T16:26:40.220Z"
   },
   {
    "duration": 21,
    "start_time": "2024-08-05T16:27:12.525Z"
   },
   {
    "duration": 126,
    "start_time": "2024-08-05T16:27:58.924Z"
   },
   {
    "duration": 19,
    "start_time": "2024-08-05T16:29:18.101Z"
   },
   {
    "duration": 18,
    "start_time": "2024-08-05T16:29:29.013Z"
   },
   {
    "duration": 24,
    "start_time": "2024-08-05T16:35:05.481Z"
   },
   {
    "duration": 22,
    "start_time": "2024-08-05T16:35:14.690Z"
   },
   {
    "duration": 22,
    "start_time": "2024-08-05T16:35:37.094Z"
   },
   {
    "duration": 23,
    "start_time": "2024-08-05T16:36:09.814Z"
   },
   {
    "duration": 22,
    "start_time": "2024-08-05T16:36:37.234Z"
   },
   {
    "duration": 61,
    "start_time": "2024-08-05T16:36:48.441Z"
   },
   {
    "duration": 21,
    "start_time": "2024-08-05T16:36:51.825Z"
   },
   {
    "duration": 24,
    "start_time": "2024-08-05T16:37:29.793Z"
   },
   {
    "duration": 67,
    "start_time": "2024-08-05T16:37:34.884Z"
   },
   {
    "duration": 23,
    "start_time": "2024-08-05T16:37:38.394Z"
   },
   {
    "duration": 22,
    "start_time": "2024-08-05T16:37:57.633Z"
   },
   {
    "duration": 21,
    "start_time": "2024-08-05T16:38:37.504Z"
   },
   {
    "duration": 21,
    "start_time": "2024-08-05T16:42:00.653Z"
   },
   {
    "duration": 20,
    "start_time": "2024-08-05T16:42:21.012Z"
   },
   {
    "duration": 125,
    "start_time": "2024-08-05T16:44:27.672Z"
   },
   {
    "duration": 174,
    "start_time": "2024-08-05T16:44:34.813Z"
   },
   {
    "duration": 194,
    "start_time": "2024-08-05T16:44:43.453Z"
   },
   {
    "duration": 183,
    "start_time": "2024-08-05T16:44:52.324Z"
   },
   {
    "duration": 265,
    "start_time": "2024-08-05T16:47:13.322Z"
   },
   {
    "duration": 224,
    "start_time": "2024-08-05T16:50:01.884Z"
   },
   {
    "duration": 279,
    "start_time": "2024-08-05T16:52:27.326Z"
   },
   {
    "duration": 209,
    "start_time": "2024-08-05T16:52:40.305Z"
   },
   {
    "duration": 360,
    "start_time": "2024-08-05T16:52:50.156Z"
   },
   {
    "duration": 228,
    "start_time": "2024-08-05T16:52:53.343Z"
   },
   {
    "duration": 224,
    "start_time": "2024-08-05T16:53:00.845Z"
   },
   {
    "duration": 226,
    "start_time": "2024-08-05T16:53:28.274Z"
   },
   {
    "duration": 230,
    "start_time": "2024-08-05T16:53:39.052Z"
   },
   {
    "duration": 231,
    "start_time": "2024-08-05T16:53:51.565Z"
   },
   {
    "duration": 245,
    "start_time": "2024-08-05T16:56:13.969Z"
   },
   {
    "duration": 87,
    "start_time": "2024-08-05T17:00:13.276Z"
   },
   {
    "duration": 10,
    "start_time": "2024-08-05T17:01:26.902Z"
   },
   {
    "duration": 18,
    "start_time": "2024-08-05T17:01:35.941Z"
   },
   {
    "duration": 15,
    "start_time": "2024-08-05T17:01:52.629Z"
   },
   {
    "duration": 25,
    "start_time": "2024-08-05T17:02:51.045Z"
   },
   {
    "duration": 178,
    "start_time": "2024-08-05T17:03:11.262Z"
   },
   {
    "duration": 48,
    "start_time": "2024-08-05T17:06:11.978Z"
   },
   {
    "duration": 30,
    "start_time": "2024-08-05T17:06:54.362Z"
   },
   {
    "duration": 45,
    "start_time": "2024-08-05T17:08:36.110Z"
   },
   {
    "duration": 1078,
    "start_time": "2024-08-05T17:12:07.555Z"
   },
   {
    "duration": 1050,
    "start_time": "2024-08-05T17:12:26.229Z"
   },
   {
    "duration": 1077,
    "start_time": "2024-08-05T17:14:44.670Z"
   },
   {
    "duration": 45,
    "start_time": "2024-08-05T17:15:07.520Z"
   },
   {
    "duration": 39,
    "start_time": "2024-08-05T17:15:44.870Z"
   },
   {
    "duration": 37,
    "start_time": "2024-08-05T17:15:56.230Z"
   },
   {
    "duration": 34,
    "start_time": "2024-08-05T17:17:02.712Z"
   },
   {
    "duration": 55,
    "start_time": "2024-08-05T17:17:08.072Z"
   },
   {
    "duration": 45,
    "start_time": "2024-08-05T17:17:41.285Z"
   },
   {
    "duration": 408,
    "start_time": "2024-08-05T17:21:06.381Z"
   },
   {
    "duration": 7,
    "start_time": "2024-08-05T17:23:03.430Z"
   },
   {
    "duration": 228,
    "start_time": "2024-08-05T17:23:58.160Z"
   },
   {
    "duration": 243,
    "start_time": "2024-08-05T17:24:01.360Z"
   },
   {
    "duration": 49,
    "start_time": "2024-08-05T19:12:43.650Z"
   },
   {
    "duration": 371,
    "start_time": "2024-08-05T19:12:54.498Z"
   },
   {
    "duration": 81,
    "start_time": "2024-08-05T19:12:54.871Z"
   },
   {
    "duration": 151,
    "start_time": "2024-08-05T19:12:54.954Z"
   },
   {
    "duration": 73,
    "start_time": "2024-08-05T19:12:55.107Z"
   },
   {
    "duration": 25,
    "start_time": "2024-08-05T19:12:55.183Z"
   },
   {
    "duration": 39,
    "start_time": "2024-08-05T19:12:55.210Z"
   },
   {
    "duration": 619,
    "start_time": "2024-08-05T19:12:55.250Z"
   },
   {
    "duration": 128,
    "start_time": "2024-08-05T19:12:55.871Z"
   },
   {
    "duration": 209,
    "start_time": "2024-08-05T19:12:56.002Z"
   },
   {
    "duration": 328,
    "start_time": "2024-08-05T19:12:56.213Z"
   },
   {
    "duration": 268,
    "start_time": "2024-08-05T19:12:56.545Z"
   },
   {
    "duration": 39,
    "start_time": "2024-08-05T19:12:56.814Z"
   },
   {
    "duration": 38,
    "start_time": "2024-08-05T19:12:56.855Z"
   },
   {
    "duration": 21,
    "start_time": "2024-08-05T19:12:56.896Z"
   },
   {
    "duration": 41,
    "start_time": "2024-08-05T19:12:56.919Z"
   },
   {
    "duration": 0,
    "start_time": "2024-08-05T19:12:56.962Z"
   },
   {
    "duration": 0,
    "start_time": "2024-08-05T19:12:56.963Z"
   },
   {
    "duration": 0,
    "start_time": "2024-08-05T19:12:56.964Z"
   },
   {
    "duration": 0,
    "start_time": "2024-08-05T19:12:56.965Z"
   },
   {
    "duration": 0,
    "start_time": "2024-08-05T19:12:56.966Z"
   },
   {
    "duration": 0,
    "start_time": "2024-08-05T19:12:56.967Z"
   },
   {
    "duration": 0,
    "start_time": "2024-08-05T19:12:56.968Z"
   },
   {
    "duration": 0,
    "start_time": "2024-08-05T19:12:56.969Z"
   },
   {
    "duration": 8,
    "start_time": "2024-08-05T19:13:15.221Z"
   },
   {
    "duration": 3,
    "start_time": "2024-08-05T19:13:27.277Z"
   },
   {
    "duration": 64,
    "start_time": "2024-08-05T19:13:27.282Z"
   },
   {
    "duration": 40,
    "start_time": "2024-08-05T19:13:27.348Z"
   },
   {
    "duration": 24,
    "start_time": "2024-08-05T19:13:27.389Z"
   },
   {
    "duration": 30,
    "start_time": "2024-08-05T19:13:27.415Z"
   },
   {
    "duration": 28,
    "start_time": "2024-08-05T19:13:27.446Z"
   },
   {
    "duration": 197,
    "start_time": "2024-08-05T19:13:27.476Z"
   },
   {
    "duration": 122,
    "start_time": "2024-08-05T19:13:27.674Z"
   },
   {
    "duration": 167,
    "start_time": "2024-08-05T19:13:27.798Z"
   },
   {
    "duration": 290,
    "start_time": "2024-08-05T19:13:27.966Z"
   },
   {
    "duration": 272,
    "start_time": "2024-08-05T19:13:28.258Z"
   },
   {
    "duration": 43,
    "start_time": "2024-08-05T19:13:28.532Z"
   },
   {
    "duration": 31,
    "start_time": "2024-08-05T19:13:28.577Z"
   },
   {
    "duration": 56,
    "start_time": "2024-08-05T19:13:28.612Z"
   },
   {
    "duration": 359,
    "start_time": "2024-08-05T19:13:28.670Z"
   },
   {
    "duration": 249,
    "start_time": "2024-08-05T19:13:29.031Z"
   },
   {
    "duration": 251,
    "start_time": "2024-08-05T19:13:29.282Z"
   },
   {
    "duration": 261,
    "start_time": "2024-08-05T19:13:29.536Z"
   },
   {
    "duration": 60,
    "start_time": "2024-08-05T19:13:29.799Z"
   },
   {
    "duration": 0,
    "start_time": "2024-08-05T19:13:29.861Z"
   },
   {
    "duration": 0,
    "start_time": "2024-08-05T19:13:29.863Z"
   },
   {
    "duration": 0,
    "start_time": "2024-08-05T19:13:29.864Z"
   },
   {
    "duration": 0,
    "start_time": "2024-08-05T19:13:29.866Z"
   },
   {
    "duration": 6,
    "start_time": "2024-08-05T19:13:40.686Z"
   },
   {
    "duration": 38,
    "start_time": "2024-08-05T19:13:40.695Z"
   },
   {
    "duration": 39,
    "start_time": "2024-08-05T19:13:40.734Z"
   },
   {
    "duration": 25,
    "start_time": "2024-08-05T19:13:40.774Z"
   },
   {
    "duration": 21,
    "start_time": "2024-08-05T19:13:40.802Z"
   },
   {
    "duration": 53,
    "start_time": "2024-08-05T19:13:40.825Z"
   },
   {
    "duration": 239,
    "start_time": "2024-08-05T19:13:40.880Z"
   },
   {
    "duration": 116,
    "start_time": "2024-08-05T19:13:41.121Z"
   },
   {
    "duration": 166,
    "start_time": "2024-08-05T19:13:41.246Z"
   },
   {
    "duration": 359,
    "start_time": "2024-08-05T19:13:41.414Z"
   },
   {
    "duration": 364,
    "start_time": "2024-08-05T19:13:41.775Z"
   },
   {
    "duration": 37,
    "start_time": "2024-08-05T19:13:42.141Z"
   },
   {
    "duration": 30,
    "start_time": "2024-08-05T19:13:42.181Z"
   },
   {
    "duration": 54,
    "start_time": "2024-08-05T19:13:42.213Z"
   },
   {
    "duration": 277,
    "start_time": "2024-08-05T19:13:42.269Z"
   },
   {
    "duration": 281,
    "start_time": "2024-08-05T19:13:42.548Z"
   },
   {
    "duration": 265,
    "start_time": "2024-08-05T19:13:42.831Z"
   },
   {
    "duration": 276,
    "start_time": "2024-08-05T19:13:43.098Z"
   },
   {
    "duration": 171,
    "start_time": "2024-08-05T19:13:43.375Z"
   },
   {
    "duration": 420,
    "start_time": "2024-08-05T19:13:43.548Z"
   },
   {
    "duration": 61,
    "start_time": "2024-08-05T19:13:43.970Z"
   },
   {
    "duration": 0,
    "start_time": "2024-08-05T19:13:44.033Z"
   },
   {
    "duration": 32,
    "start_time": "2024-08-05T19:13:59.013Z"
   },
   {
    "duration": 5,
    "start_time": "2024-08-05T19:14:09.001Z"
   },
   {
    "duration": 7,
    "start_time": "2024-08-05T19:17:26.993Z"
   },
   {
    "duration": 5,
    "start_time": "2024-08-05T19:17:34.900Z"
   },
   {
    "duration": 6,
    "start_time": "2024-08-05T19:19:53.737Z"
   },
   {
    "duration": 6,
    "start_time": "2024-08-05T19:20:03.484Z"
   },
   {
    "duration": 8,
    "start_time": "2024-08-05T19:26:27.168Z"
   },
   {
    "duration": 8,
    "start_time": "2024-08-05T19:26:35.149Z"
   },
   {
    "duration": 9,
    "start_time": "2024-08-05T19:29:54.864Z"
   },
   {
    "duration": 63,
    "start_time": "2024-08-05T19:39:14.689Z"
   },
   {
    "duration": 57,
    "start_time": "2024-08-05T19:39:34.012Z"
   },
   {
    "duration": 4,
    "start_time": "2024-08-05T19:39:44.247Z"
   },
   {
    "duration": 46,
    "start_time": "2024-08-05T19:39:44.253Z"
   },
   {
    "duration": 39,
    "start_time": "2024-08-05T19:39:44.301Z"
   },
   {
    "duration": 22,
    "start_time": "2024-08-05T19:39:44.342Z"
   },
   {
    "duration": 44,
    "start_time": "2024-08-05T19:39:44.366Z"
   },
   {
    "duration": 31,
    "start_time": "2024-08-05T19:39:44.411Z"
   },
   {
    "duration": 217,
    "start_time": "2024-08-05T19:39:44.444Z"
   },
   {
    "duration": 116,
    "start_time": "2024-08-05T19:39:44.662Z"
   },
   {
    "duration": 171,
    "start_time": "2024-08-05T19:39:44.779Z"
   },
   {
    "duration": 270,
    "start_time": "2024-08-05T19:39:44.952Z"
   },
   {
    "duration": 280,
    "start_time": "2024-08-05T19:39:45.223Z"
   },
   {
    "duration": 42,
    "start_time": "2024-08-05T19:39:45.505Z"
   },
   {
    "duration": 29,
    "start_time": "2024-08-05T19:39:45.549Z"
   },
   {
    "duration": 26,
    "start_time": "2024-08-05T19:39:45.581Z"
   },
   {
    "duration": 322,
    "start_time": "2024-08-05T19:39:45.609Z"
   },
   {
    "duration": 410,
    "start_time": "2024-08-05T19:39:45.932Z"
   },
   {
    "duration": 261,
    "start_time": "2024-08-05T19:39:46.346Z"
   },
   {
    "duration": 265,
    "start_time": "2024-08-05T19:39:46.609Z"
   },
   {
    "duration": 53,
    "start_time": "2024-08-05T19:39:46.875Z"
   },
   {
    "duration": 20,
    "start_time": "2024-08-05T19:39:46.929Z"
   },
   {
    "duration": 7,
    "start_time": "2024-08-05T19:39:46.951Z"
   },
   {
    "duration": 7,
    "start_time": "2024-08-05T19:39:46.960Z"
   },
   {
    "duration": 41,
    "start_time": "2024-08-05T19:40:10.659Z"
   },
   {
    "duration": 45,
    "start_time": "2024-08-05T19:40:38.996Z"
   },
   {
    "duration": 42,
    "start_time": "2024-08-05T19:40:51.757Z"
   },
   {
    "duration": 48,
    "start_time": "2024-08-05T19:40:59.155Z"
   },
   {
    "duration": 43,
    "start_time": "2024-08-05T19:41:16.992Z"
   },
   {
    "duration": 51,
    "start_time": "2024-08-05T19:41:23.173Z"
   },
   {
    "duration": 12,
    "start_time": "2024-08-05T19:41:46.600Z"
   },
   {
    "duration": 10,
    "start_time": "2024-08-05T19:42:13.944Z"
   },
   {
    "duration": 9,
    "start_time": "2024-08-05T20:15:28.646Z"
   },
   {
    "duration": 12,
    "start_time": "2024-08-05T20:24:07.399Z"
   },
   {
    "duration": 13,
    "start_time": "2024-08-05T20:25:40.348Z"
   },
   {
    "duration": 10,
    "start_time": "2024-08-05T20:25:53.625Z"
   },
   {
    "duration": 11,
    "start_time": "2024-08-05T20:25:59.862Z"
   },
   {
    "duration": 10,
    "start_time": "2024-08-05T20:29:46.164Z"
   },
   {
    "duration": 20,
    "start_time": "2024-08-05T20:35:28.786Z"
   },
   {
    "duration": 13,
    "start_time": "2024-08-05T20:35:44.488Z"
   },
   {
    "duration": 12,
    "start_time": "2024-08-05T20:36:30.877Z"
   },
   {
    "duration": 13,
    "start_time": "2024-08-05T20:36:37.317Z"
   },
   {
    "duration": 16,
    "start_time": "2024-08-05T20:38:11.729Z"
   },
   {
    "duration": 11,
    "start_time": "2024-08-05T20:38:30.293Z"
   },
   {
    "duration": 14,
    "start_time": "2024-08-05T21:20:33.757Z"
   },
   {
    "duration": 140,
    "start_time": "2024-08-05T21:20:54.256Z"
   },
   {
    "duration": 177,
    "start_time": "2024-08-05T21:21:09.334Z"
   },
   {
    "duration": 150,
    "start_time": "2024-08-05T21:21:34.984Z"
   },
   {
    "duration": 1695,
    "start_time": "2024-08-05T21:21:53.781Z"
   },
   {
    "duration": 561,
    "start_time": "2024-08-05T21:22:07.945Z"
   },
   {
    "duration": 227,
    "start_time": "2024-08-05T21:22:19.287Z"
   },
   {
    "duration": 48,
    "start_time": "2024-08-05T21:22:32.051Z"
   },
   {
    "duration": 225,
    "start_time": "2024-08-05T21:22:45.703Z"
   },
   {
    "duration": 501,
    "start_time": "2024-08-05T21:22:58.193Z"
   },
   {
    "duration": 144,
    "start_time": "2024-08-05T21:23:42.384Z"
   },
   {
    "duration": 271,
    "start_time": "2024-08-05T21:24:12.486Z"
   },
   {
    "duration": 256,
    "start_time": "2024-08-05T21:24:21.076Z"
   },
   {
    "duration": 334,
    "start_time": "2024-08-05T21:26:58.653Z"
   },
   {
    "duration": 330,
    "start_time": "2024-08-05T21:27:14.170Z"
   },
   {
    "duration": 296,
    "start_time": "2024-08-05T21:27:19.418Z"
   },
   {
    "duration": 324,
    "start_time": "2024-08-05T21:27:23.274Z"
   },
   {
    "duration": 172,
    "start_time": "2024-08-05T21:27:28.615Z"
   },
   {
    "duration": 684,
    "start_time": "2024-08-05T21:28:28.018Z"
   },
   {
    "duration": 1161,
    "start_time": "2024-08-06T12:34:40.110Z"
   },
   {
    "duration": 111,
    "start_time": "2024-08-06T12:34:56.105Z"
   },
   {
    "duration": 579,
    "start_time": "2024-08-06T12:39:18.680Z"
   },
   {
    "duration": 523,
    "start_time": "2024-08-06T12:39:39.263Z"
   },
   {
    "duration": 536,
    "start_time": "2024-08-06T12:39:55.396Z"
   },
   {
    "duration": 22,
    "start_time": "2024-08-06T13:05:12.618Z"
   },
   {
    "duration": 23,
    "start_time": "2024-08-06T13:05:24.643Z"
   },
   {
    "duration": 94,
    "start_time": "2024-08-06T13:05:55.674Z"
   },
   {
    "duration": 20,
    "start_time": "2024-08-06T13:06:04.825Z"
   },
   {
    "duration": 18,
    "start_time": "2024-08-06T13:06:11.976Z"
   },
   {
    "duration": 19,
    "start_time": "2024-08-06T13:06:17.760Z"
   },
   {
    "duration": 17,
    "start_time": "2024-08-06T13:06:24.539Z"
   },
   {
    "duration": 22,
    "start_time": "2024-08-06T13:06:29.115Z"
   },
   {
    "duration": 19,
    "start_time": "2024-08-06T13:06:34.186Z"
   },
   {
    "duration": 19,
    "start_time": "2024-08-06T13:09:11.576Z"
   },
   {
    "duration": 28,
    "start_time": "2024-08-06T13:09:37.114Z"
   },
   {
    "duration": 17,
    "start_time": "2024-08-06T13:09:43.709Z"
   },
   {
    "duration": 25,
    "start_time": "2024-08-06T13:10:00.231Z"
   },
   {
    "duration": 20,
    "start_time": "2024-08-06T13:10:20.502Z"
   },
   {
    "duration": 20,
    "start_time": "2024-08-06T13:10:24.832Z"
   },
   {
    "duration": 18,
    "start_time": "2024-08-06T13:10:35.559Z"
   },
   {
    "duration": 18,
    "start_time": "2024-08-06T13:10:39.147Z"
   },
   {
    "duration": 17,
    "start_time": "2024-08-06T13:10:42.820Z"
   },
   {
    "duration": 19,
    "start_time": "2024-08-06T13:18:18.461Z"
   },
   {
    "duration": 20,
    "start_time": "2024-08-06T13:18:21.727Z"
   },
   {
    "duration": 21,
    "start_time": "2024-08-06T13:18:27.602Z"
   },
   {
    "duration": 4,
    "start_time": "2024-08-06T13:54:43.089Z"
   },
   {
    "duration": 9,
    "start_time": "2024-08-06T14:00:17.714Z"
   },
   {
    "duration": 9,
    "start_time": "2024-08-06T14:00:34.501Z"
   },
   {
    "duration": 19,
    "start_time": "2024-08-06T14:00:41.246Z"
   },
   {
    "duration": 7,
    "start_time": "2024-08-06T14:00:43.873Z"
   },
   {
    "duration": 7,
    "start_time": "2024-08-06T14:01:03.276Z"
   },
   {
    "duration": 59,
    "start_time": "2024-08-06T14:04:15.688Z"
   },
   {
    "duration": 51,
    "start_time": "2024-08-06T14:04:25.614Z"
   },
   {
    "duration": 386,
    "start_time": "2024-08-06T15:56:33.588Z"
   },
   {
    "duration": 123,
    "start_time": "2024-08-06T15:56:33.975Z"
   },
   {
    "duration": 206,
    "start_time": "2024-08-06T15:56:34.100Z"
   },
   {
    "duration": 89,
    "start_time": "2024-08-06T15:56:34.307Z"
   },
   {
    "duration": 23,
    "start_time": "2024-08-06T15:56:34.397Z"
   },
   {
    "duration": 22,
    "start_time": "2024-08-06T15:56:34.421Z"
   },
   {
    "duration": 532,
    "start_time": "2024-08-06T15:56:34.444Z"
   },
   {
    "duration": 92,
    "start_time": "2024-08-06T15:56:34.978Z"
   },
   {
    "duration": 137,
    "start_time": "2024-08-06T15:56:35.081Z"
   },
   {
    "duration": 285,
    "start_time": "2024-08-06T15:56:35.221Z"
   },
   {
    "duration": 234,
    "start_time": "2024-08-06T15:56:35.508Z"
   },
   {
    "duration": 30,
    "start_time": "2024-08-06T15:56:35.743Z"
   },
   {
    "duration": 21,
    "start_time": "2024-08-06T15:56:35.781Z"
   },
   {
    "duration": 18,
    "start_time": "2024-08-06T15:56:35.803Z"
   },
   {
    "duration": 234,
    "start_time": "2024-08-06T15:56:35.823Z"
   },
   {
    "duration": 226,
    "start_time": "2024-08-06T15:56:36.058Z"
   },
   {
    "duration": 224,
    "start_time": "2024-08-06T15:56:36.286Z"
   },
   {
    "duration": 239,
    "start_time": "2024-08-06T15:56:36.511Z"
   },
   {
    "duration": 126,
    "start_time": "2024-08-06T15:56:36.751Z"
   },
   {
    "duration": 416,
    "start_time": "2024-08-06T15:56:36.878Z"
   },
   {
    "duration": 5,
    "start_time": "2024-08-06T15:56:37.296Z"
   },
   {
    "duration": 11,
    "start_time": "2024-08-06T15:56:37.302Z"
   },
   {
    "duration": 25,
    "start_time": "2024-08-06T15:56:37.314Z"
   },
   {
    "duration": 6,
    "start_time": "2024-08-06T15:56:37.340Z"
   },
   {
    "duration": 49,
    "start_time": "2024-08-06T19:13:00.517Z"
   },
   {
    "duration": 414,
    "start_time": "2024-08-06T19:13:04.487Z"
   },
   {
    "duration": 92,
    "start_time": "2024-08-06T19:13:04.903Z"
   },
   {
    "duration": 164,
    "start_time": "2024-08-06T19:13:04.996Z"
   },
   {
    "duration": 76,
    "start_time": "2024-08-06T19:13:05.162Z"
   },
   {
    "duration": 22,
    "start_time": "2024-08-06T19:13:05.241Z"
   },
   {
    "duration": 24,
    "start_time": "2024-08-06T19:13:05.265Z"
   },
   {
    "duration": 628,
    "start_time": "2024-08-06T19:13:05.291Z"
   },
   {
    "duration": 120,
    "start_time": "2024-08-06T19:13:05.920Z"
   },
   {
    "duration": 179,
    "start_time": "2024-08-06T19:13:06.042Z"
   },
   {
    "duration": 326,
    "start_time": "2024-08-06T19:13:06.223Z"
   },
   {
    "duration": 259,
    "start_time": "2024-08-06T19:13:06.551Z"
   },
   {
    "duration": 35,
    "start_time": "2024-08-06T19:13:06.812Z"
   },
   {
    "duration": 24,
    "start_time": "2024-08-06T19:13:06.848Z"
   },
   {
    "duration": 20,
    "start_time": "2024-08-06T19:13:06.874Z"
   },
   {
    "duration": 272,
    "start_time": "2024-08-06T19:13:06.895Z"
   },
   {
    "duration": 247,
    "start_time": "2024-08-06T19:13:07.168Z"
   },
   {
    "duration": 252,
    "start_time": "2024-08-06T19:13:07.419Z"
   },
   {
    "duration": 271,
    "start_time": "2024-08-06T19:13:07.673Z"
   },
   {
    "duration": 129,
    "start_time": "2024-08-06T19:13:07.946Z"
   },
   {
    "duration": 465,
    "start_time": "2024-08-06T19:13:08.077Z"
   },
   {
    "duration": 5,
    "start_time": "2024-08-06T19:13:08.544Z"
   },
   {
    "duration": 19,
    "start_time": "2024-08-06T19:13:08.551Z"
   },
   {
    "duration": 30,
    "start_time": "2024-08-06T19:13:08.571Z"
   },
   {
    "duration": 16,
    "start_time": "2024-08-06T19:13:08.603Z"
   },
   {
    "duration": 46,
    "start_time": "2024-08-08T19:02:03.582Z"
   },
   {
    "duration": 399,
    "start_time": "2024-08-08T19:02:07.701Z"
   },
   {
    "duration": 103,
    "start_time": "2024-08-08T19:02:08.102Z"
   },
   {
    "duration": 166,
    "start_time": "2024-08-08T19:02:08.206Z"
   },
   {
    "duration": 73,
    "start_time": "2024-08-08T19:02:08.374Z"
   },
   {
    "duration": 20,
    "start_time": "2024-08-08T19:02:08.450Z"
   },
   {
    "duration": 23,
    "start_time": "2024-08-08T19:02:08.472Z"
   },
   {
    "duration": 595,
    "start_time": "2024-08-08T19:02:08.497Z"
   },
   {
    "duration": 114,
    "start_time": "2024-08-08T19:02:09.094Z"
   },
   {
    "duration": 165,
    "start_time": "2024-08-08T19:02:09.210Z"
   },
   {
    "duration": 321,
    "start_time": "2024-08-08T19:02:09.376Z"
   },
   {
    "duration": 289,
    "start_time": "2024-08-08T19:02:09.699Z"
   },
   {
    "duration": 44,
    "start_time": "2024-08-08T19:02:09.990Z"
   },
   {
    "duration": 42,
    "start_time": "2024-08-08T19:02:10.036Z"
   },
   {
    "duration": 21,
    "start_time": "2024-08-08T19:02:10.081Z"
   },
   {
    "duration": 283,
    "start_time": "2024-08-08T19:02:10.104Z"
   },
   {
    "duration": 244,
    "start_time": "2024-08-08T19:02:10.388Z"
   },
   {
    "duration": 247,
    "start_time": "2024-08-08T19:02:10.634Z"
   },
   {
    "duration": 246,
    "start_time": "2024-08-08T19:02:10.882Z"
   },
   {
    "duration": 134,
    "start_time": "2024-08-08T19:02:11.130Z"
   },
   {
    "duration": 424,
    "start_time": "2024-08-08T19:02:11.265Z"
   },
   {
    "duration": 5,
    "start_time": "2024-08-08T19:02:11.690Z"
   },
   {
    "duration": 11,
    "start_time": "2024-08-08T19:02:11.696Z"
   },
   {
    "duration": 19,
    "start_time": "2024-08-08T19:02:11.708Z"
   },
   {
    "duration": 33,
    "start_time": "2024-08-08T19:02:11.729Z"
   },
   {
    "duration": 36,
    "start_time": "2024-08-08T19:02:24.362Z"
   },
   {
    "duration": 8,
    "start_time": "2024-08-08T20:09:30.404Z"
   },
   {
    "duration": 4,
    "start_time": "2024-08-08T20:09:37.524Z"
   },
   {
    "duration": 4,
    "start_time": "2024-08-08T20:09:42.532Z"
   },
   {
    "duration": 6,
    "start_time": "2024-08-08T20:09:48.337Z"
   },
   {
    "duration": 5,
    "start_time": "2024-08-08T20:09:54.464Z"
   },
   {
    "duration": 4,
    "start_time": "2024-08-08T20:10:21.884Z"
   },
   {
    "duration": 8,
    "start_time": "2024-08-08T20:11:17.489Z"
   },
   {
    "duration": 6,
    "start_time": "2024-08-08T20:12:05.747Z"
   },
   {
    "duration": 8,
    "start_time": "2024-08-08T20:12:18.230Z"
   },
   {
    "duration": 9,
    "start_time": "2024-08-08T20:12:51.179Z"
   },
   {
    "duration": 88,
    "start_time": "2024-08-08T20:41:14.090Z"
   },
   {
    "duration": 157,
    "start_time": "2024-08-08T20:41:22.284Z"
   },
   {
    "duration": 8,
    "start_time": "2024-08-08T20:43:05.538Z"
   },
   {
    "duration": 144,
    "start_time": "2024-08-08T20:43:14.409Z"
   },
   {
    "duration": 154,
    "start_time": "2024-08-08T20:44:17.780Z"
   },
   {
    "duration": 141,
    "start_time": "2024-08-08T20:44:51.423Z"
   },
   {
    "duration": 133,
    "start_time": "2024-08-08T20:45:01.438Z"
   },
   {
    "duration": 130,
    "start_time": "2024-08-08T20:52:19.870Z"
   },
   {
    "duration": 261,
    "start_time": "2024-08-08T20:52:35.332Z"
   },
   {
    "duration": 132,
    "start_time": "2024-08-08T20:52:40.442Z"
   },
   {
    "duration": 131,
    "start_time": "2024-08-08T20:52:46.190Z"
   },
   {
    "duration": 141,
    "start_time": "2024-08-08T20:53:45.172Z"
   },
   {
    "duration": 135,
    "start_time": "2024-08-08T20:54:03.333Z"
   },
   {
    "duration": 144,
    "start_time": "2024-08-08T21:40:37.529Z"
   },
   {
    "duration": 134,
    "start_time": "2024-08-08T21:40:52.584Z"
   },
   {
    "duration": 135,
    "start_time": "2024-08-08T21:41:01.528Z"
   },
   {
    "duration": 129,
    "start_time": "2024-08-08T21:41:05.719Z"
   },
   {
    "duration": 135,
    "start_time": "2024-08-08T21:41:10.029Z"
   },
   {
    "duration": 139,
    "start_time": "2024-08-08T21:41:16.229Z"
   },
   {
    "duration": 122,
    "start_time": "2024-08-08T21:41:23.704Z"
   },
   {
    "duration": 146,
    "start_time": "2024-08-08T21:41:27.954Z"
   },
   {
    "duration": 140,
    "start_time": "2024-08-08T21:41:46.960Z"
   },
   {
    "duration": 154,
    "start_time": "2024-08-08T21:41:52.445Z"
   },
   {
    "duration": 147,
    "start_time": "2024-08-08T21:42:02.662Z"
   },
   {
    "duration": 187,
    "start_time": "2024-08-08T21:42:50.124Z"
   },
   {
    "duration": 171,
    "start_time": "2024-08-08T21:42:57.623Z"
   },
   {
    "duration": 184,
    "start_time": "2024-08-08T21:43:02.623Z"
   },
   {
    "duration": 154,
    "start_time": "2024-08-08T21:43:12.823Z"
   },
   {
    "duration": 143,
    "start_time": "2024-08-08T21:43:44.224Z"
   },
   {
    "duration": 145,
    "start_time": "2024-08-08T21:44:06.229Z"
   },
   {
    "duration": 169,
    "start_time": "2024-08-08T21:44:30.399Z"
   },
   {
    "duration": 286,
    "start_time": "2024-08-08T21:44:56.494Z"
   },
   {
    "duration": 156,
    "start_time": "2024-08-08T21:45:02.494Z"
   },
   {
    "duration": 7,
    "start_time": "2024-08-08T21:49:36.849Z"
   },
   {
    "duration": 154,
    "start_time": "2024-08-08T21:51:06.222Z"
   },
   {
    "duration": 145,
    "start_time": "2024-08-08T21:51:44.632Z"
   },
   {
    "duration": 239,
    "start_time": "2024-08-08T21:51:50.501Z"
   },
   {
    "duration": 155,
    "start_time": "2024-08-08T21:51:56.894Z"
   },
   {
    "duration": 3,
    "start_time": "2024-08-08T21:52:19.444Z"
   },
   {
    "duration": 47,
    "start_time": "2024-08-08T21:52:19.450Z"
   },
   {
    "duration": 41,
    "start_time": "2024-08-08T21:52:19.498Z"
   },
   {
    "duration": 25,
    "start_time": "2024-08-08T21:52:19.541Z"
   },
   {
    "duration": 23,
    "start_time": "2024-08-08T21:52:19.568Z"
   },
   {
    "duration": 27,
    "start_time": "2024-08-08T21:52:19.593Z"
   },
   {
    "duration": 19,
    "start_time": "2024-08-08T21:52:19.622Z"
   },
   {
    "duration": 227,
    "start_time": "2024-08-08T21:52:19.643Z"
   },
   {
    "duration": 6,
    "start_time": "2024-08-08T21:52:19.872Z"
   },
   {
    "duration": 117,
    "start_time": "2024-08-08T21:52:19.879Z"
   },
   {
    "duration": 157,
    "start_time": "2024-08-08T21:52:19.997Z"
   },
   {
    "duration": 254,
    "start_time": "2024-08-08T21:52:20.155Z"
   },
   {
    "duration": 359,
    "start_time": "2024-08-08T21:52:20.411Z"
   },
   {
    "duration": 29,
    "start_time": "2024-08-08T21:52:20.772Z"
   },
   {
    "duration": 22,
    "start_time": "2024-08-08T21:52:20.803Z"
   },
   {
    "duration": 52,
    "start_time": "2024-08-08T21:52:20.827Z"
   },
   {
    "duration": 251,
    "start_time": "2024-08-08T21:52:20.881Z"
   },
   {
    "duration": 248,
    "start_time": "2024-08-08T21:52:21.134Z"
   },
   {
    "duration": 267,
    "start_time": "2024-08-08T21:52:21.383Z"
   },
   {
    "duration": 253,
    "start_time": "2024-08-08T21:52:21.651Z"
   },
   {
    "duration": 66,
    "start_time": "2024-08-08T21:52:21.905Z"
   },
   {
    "duration": 10,
    "start_time": "2024-08-08T21:52:21.973Z"
   },
   {
    "duration": 44,
    "start_time": "2024-08-08T21:52:21.985Z"
   },
   {
    "duration": 34,
    "start_time": "2024-08-08T21:52:22.031Z"
   },
   {
    "duration": 20,
    "start_time": "2024-08-08T21:52:22.066Z"
   },
   {
    "duration": 6,
    "start_time": "2024-08-08T21:52:22.088Z"
   },
   {
    "duration": 117,
    "start_time": "2024-08-08T21:53:50.860Z"
   },
   {
    "duration": 11,
    "start_time": "2024-08-08T21:54:11.488Z"
   },
   {
    "duration": 235,
    "start_time": "2024-08-08T21:54:22.947Z"
   },
   {
    "duration": 55,
    "start_time": "2024-08-08T21:54:41.119Z"
   },
   {
    "duration": 54,
    "start_time": "2024-08-08T21:59:49.195Z"
   },
   {
    "duration": 65,
    "start_time": "2024-08-08T22:01:03.179Z"
   },
   {
    "duration": 10,
    "start_time": "2024-08-08T22:01:54.624Z"
   },
   {
    "duration": 59,
    "start_time": "2024-08-08T22:02:22.340Z"
   },
   {
    "duration": 5,
    "start_time": "2024-08-08T22:05:32.459Z"
   },
   {
    "duration": 12,
    "start_time": "2024-08-08T22:05:41.944Z"
   },
   {
    "duration": 90,
    "start_time": "2024-08-08T22:05:47.874Z"
   },
   {
    "duration": 3,
    "start_time": "2024-08-08T22:14:35.879Z"
   },
   {
    "duration": 43,
    "start_time": "2024-08-08T22:14:35.888Z"
   },
   {
    "duration": 50,
    "start_time": "2024-08-08T22:14:35.934Z"
   },
   {
    "duration": 30,
    "start_time": "2024-08-08T22:14:35.987Z"
   },
   {
    "duration": 20,
    "start_time": "2024-08-08T22:14:36.018Z"
   },
   {
    "duration": 38,
    "start_time": "2024-08-08T22:14:36.041Z"
   },
   {
    "duration": 7,
    "start_time": "2024-08-08T22:14:36.081Z"
   },
   {
    "duration": 176,
    "start_time": "2024-08-08T22:14:36.090Z"
   },
   {
    "duration": 6,
    "start_time": "2024-08-08T22:14:36.267Z"
   },
   {
    "duration": 94,
    "start_time": "2024-08-08T22:14:36.275Z"
   },
   {
    "duration": 163,
    "start_time": "2024-08-08T22:14:36.371Z"
   },
   {
    "duration": 264,
    "start_time": "2024-08-08T22:14:36.535Z"
   },
   {
    "duration": 263,
    "start_time": "2024-08-08T22:14:36.800Z"
   },
   {
    "duration": 31,
    "start_time": "2024-08-08T22:14:37.064Z"
   },
   {
    "duration": 24,
    "start_time": "2024-08-08T22:14:37.098Z"
   },
   {
    "duration": 41,
    "start_time": "2024-08-08T22:14:37.123Z"
   },
   {
    "duration": 245,
    "start_time": "2024-08-08T22:14:37.166Z"
   },
   {
    "duration": 388,
    "start_time": "2024-08-08T22:14:37.413Z"
   },
   {
    "duration": 253,
    "start_time": "2024-08-08T22:14:37.803Z"
   },
   {
    "duration": 252,
    "start_time": "2024-08-08T22:14:38.057Z"
   },
   {
    "duration": 70,
    "start_time": "2024-08-08T22:14:38.310Z"
   },
   {
    "duration": 9,
    "start_time": "2024-08-08T22:14:38.382Z"
   },
   {
    "duration": 5,
    "start_time": "2024-08-08T22:14:38.393Z"
   },
   {
    "duration": 12,
    "start_time": "2024-08-08T22:14:38.400Z"
   },
   {
    "duration": 53,
    "start_time": "2024-08-08T22:14:38.414Z"
   },
   {
    "duration": 6,
    "start_time": "2024-08-08T22:14:38.469Z"
   },
   {
    "duration": 96,
    "start_time": "2024-08-08T22:15:27.308Z"
   },
   {
    "duration": 3,
    "start_time": "2024-08-08T22:15:43.143Z"
   },
   {
    "duration": 50,
    "start_time": "2024-08-08T22:15:43.150Z"
   },
   {
    "duration": 40,
    "start_time": "2024-08-08T22:15:43.202Z"
   },
   {
    "duration": 28,
    "start_time": "2024-08-08T22:15:43.244Z"
   },
   {
    "duration": 21,
    "start_time": "2024-08-08T22:15:43.274Z"
   },
   {
    "duration": 25,
    "start_time": "2024-08-08T22:15:43.297Z"
   },
   {
    "duration": 7,
    "start_time": "2024-08-08T22:15:43.323Z"
   },
   {
    "duration": 170,
    "start_time": "2024-08-08T22:15:43.362Z"
   },
   {
    "duration": 6,
    "start_time": "2024-08-08T22:15:43.534Z"
   },
   {
    "duration": 101,
    "start_time": "2024-08-08T22:15:43.542Z"
   },
   {
    "duration": 164,
    "start_time": "2024-08-08T22:16:50.062Z"
   },
   {
    "duration": 163,
    "start_time": "2024-08-08T22:17:46.115Z"
   },
   {
    "duration": 3,
    "start_time": "2024-08-08T22:19:53.761Z"
   },
   {
    "duration": 30,
    "start_time": "2024-08-08T22:22:16.835Z"
   },
   {
    "duration": 23,
    "start_time": "2024-08-08T22:22:27.774Z"
   },
   {
    "duration": 21,
    "start_time": "2024-08-08T22:22:34.003Z"
   },
   {
    "duration": 21,
    "start_time": "2024-08-08T22:23:25.143Z"
   },
   {
    "duration": 5,
    "start_time": "2024-08-08T22:23:43.544Z"
   },
   {
    "duration": 20,
    "start_time": "2024-08-08T22:27:20.718Z"
   },
   {
    "duration": 12,
    "start_time": "2024-08-08T22:27:31.491Z"
   },
   {
    "duration": 11,
    "start_time": "2024-08-08T22:28:05.480Z"
   },
   {
    "duration": 21,
    "start_time": "2024-08-08T22:28:32.526Z"
   },
   {
    "duration": 22,
    "start_time": "2024-08-08T22:28:37.558Z"
   },
   {
    "duration": 383,
    "start_time": "2024-08-08T22:29:52.086Z"
   },
   {
    "duration": 554,
    "start_time": "2024-08-08T22:30:18.318Z"
   },
   {
    "duration": 9,
    "start_time": "2024-08-08T22:32:30.527Z"
   },
   {
    "duration": 366,
    "start_time": "2024-08-08T22:32:34.906Z"
   },
   {
    "duration": 357,
    "start_time": "2024-08-08T22:33:25.959Z"
   },
   {
    "duration": 264,
    "start_time": "2024-08-08T22:38:40.372Z"
   },
   {
    "duration": 389,
    "start_time": "2024-08-08T22:38:45.900Z"
   },
   {
    "duration": 581,
    "start_time": "2024-08-08T22:38:54.163Z"
   },
   {
    "duration": 363,
    "start_time": "2024-08-08T22:38:58.976Z"
   },
   {
    "duration": 132,
    "start_time": "2024-08-08T22:41:15.137Z"
   },
   {
    "duration": 14,
    "start_time": "2024-08-08T22:41:25.755Z"
   },
   {
    "duration": 123,
    "start_time": "2024-08-08T22:42:23.795Z"
   },
   {
    "duration": 180,
    "start_time": "2024-08-08T22:42:44.184Z"
   },
   {
    "duration": 298,
    "start_time": "2024-08-08T22:43:12.010Z"
   },
   {
    "duration": 408,
    "start_time": "2024-08-08T22:43:20.532Z"
   },
   {
    "duration": 419,
    "start_time": "2024-08-08T22:43:32.204Z"
   },
   {
    "duration": 648,
    "start_time": "2024-08-08T22:43:41.354Z"
   },
   {
    "duration": 358,
    "start_time": "2024-08-08T22:44:27.714Z"
   },
   {
    "duration": 334,
    "start_time": "2024-08-08T22:44:37.655Z"
   },
   {
    "duration": 89,
    "start_time": "2024-08-08T22:47:07.561Z"
   },
   {
    "duration": 372,
    "start_time": "2024-08-08T22:47:57.834Z"
   },
   {
    "duration": 375,
    "start_time": "2024-08-08T22:48:06.013Z"
   },
   {
    "duration": 15,
    "start_time": "2024-08-08T22:49:36.200Z"
   },
   {
    "duration": 301,
    "start_time": "2024-08-08T22:49:48.193Z"
   },
   {
    "duration": 30,
    "start_time": "2024-08-08T22:50:02.025Z"
   },
   {
    "duration": 8,
    "start_time": "2024-08-08T22:50:27.333Z"
   },
   {
    "duration": 9,
    "start_time": "2024-08-08T22:50:42.736Z"
   },
   {
    "duration": 9,
    "start_time": "2024-08-08T22:50:48.505Z"
   },
   {
    "duration": 31,
    "start_time": "2024-08-08T22:50:55.989Z"
   },
   {
    "duration": 52,
    "start_time": "2024-08-08T22:51:08.899Z"
   },
   {
    "duration": 52,
    "start_time": "2024-08-09T19:49:55.253Z"
   },
   {
    "duration": 882,
    "start_time": "2024-08-09T19:50:01.169Z"
   },
   {
    "duration": 96,
    "start_time": "2024-08-09T19:50:02.055Z"
   },
   {
    "duration": 162,
    "start_time": "2024-08-09T19:50:02.153Z"
   },
   {
    "duration": 80,
    "start_time": "2024-08-09T19:50:02.317Z"
   },
   {
    "duration": 23,
    "start_time": "2024-08-09T19:50:02.399Z"
   },
   {
    "duration": 46,
    "start_time": "2024-08-09T19:50:02.424Z"
   },
   {
    "duration": 166,
    "start_time": "2024-08-09T19:50:02.472Z"
   },
   {
    "duration": 354,
    "start_time": "2024-08-09T19:50:02.640Z"
   },
   {
    "duration": 7,
    "start_time": "2024-08-09T19:50:02.996Z"
   },
   {
    "duration": 130,
    "start_time": "2024-08-09T19:50:03.005Z"
   },
   {
    "duration": 221,
    "start_time": "2024-08-09T19:50:03.141Z"
   },
   {
    "duration": 355,
    "start_time": "2024-08-09T19:50:03.363Z"
   },
   {
    "duration": 274,
    "start_time": "2024-08-09T19:50:03.721Z"
   },
   {
    "duration": 33,
    "start_time": "2024-08-09T19:50:03.998Z"
   },
   {
    "duration": 27,
    "start_time": "2024-08-09T19:50:04.032Z"
   },
   {
    "duration": 30,
    "start_time": "2024-08-09T19:50:04.061Z"
   },
   {
    "duration": 23,
    "start_time": "2024-08-09T19:50:04.092Z"
   },
   {
    "duration": 413,
    "start_time": "2024-08-09T19:50:04.117Z"
   },
   {
    "duration": 392,
    "start_time": "2024-08-09T19:50:04.532Z"
   },
   {
    "duration": 73,
    "start_time": "2024-08-09T19:50:04.926Z"
   },
   {
    "duration": 52,
    "start_time": "2024-08-09T19:55:38.487Z"
   },
   {
    "duration": 28,
    "start_time": "2024-08-09T20:03:26.923Z"
   },
   {
    "duration": 48,
    "start_time": "2024-08-09T20:28:30.046Z"
   },
   {
    "duration": 329,
    "start_time": "2024-08-09T20:29:52.101Z"
   },
   {
    "duration": 50,
    "start_time": "2024-08-09T20:30:05.916Z"
   },
   {
    "duration": 43,
    "start_time": "2024-08-09T20:31:14.287Z"
   },
   {
    "duration": 36,
    "start_time": "2024-08-09T20:31:29.871Z"
   },
   {
    "duration": 39,
    "start_time": "2024-08-09T20:31:45.578Z"
   },
   {
    "duration": 4,
    "start_time": "2024-08-09T20:32:08.046Z"
   },
   {
    "duration": 68,
    "start_time": "2024-08-09T20:32:08.052Z"
   },
   {
    "duration": 55,
    "start_time": "2024-08-09T20:32:08.122Z"
   },
   {
    "duration": 32,
    "start_time": "2024-08-09T20:32:08.179Z"
   },
   {
    "duration": 21,
    "start_time": "2024-08-09T20:32:08.213Z"
   },
   {
    "duration": 42,
    "start_time": "2024-08-09T20:32:08.235Z"
   },
   {
    "duration": 8,
    "start_time": "2024-08-09T20:32:08.280Z"
   },
   {
    "duration": 186,
    "start_time": "2024-08-09T20:32:08.290Z"
   },
   {
    "duration": 7,
    "start_time": "2024-08-09T20:32:08.479Z"
   },
   {
    "duration": 117,
    "start_time": "2024-08-09T20:32:08.488Z"
   },
   {
    "duration": 257,
    "start_time": "2024-08-09T20:32:08.607Z"
   },
   {
    "duration": 272,
    "start_time": "2024-08-09T20:32:08.866Z"
   },
   {
    "duration": 274,
    "start_time": "2024-08-09T20:32:09.141Z"
   },
   {
    "duration": 42,
    "start_time": "2024-08-09T20:32:09.417Z"
   },
   {
    "duration": 15,
    "start_time": "2024-08-09T20:32:09.461Z"
   },
   {
    "duration": 51,
    "start_time": "2024-08-09T20:32:09.478Z"
   },
   {
    "duration": 43,
    "start_time": "2024-08-09T20:32:09.531Z"
   },
   {
    "duration": 413,
    "start_time": "2024-08-09T20:32:09.577Z"
   },
   {
    "duration": 406,
    "start_time": "2024-08-09T20:32:09.992Z"
   },
   {
    "duration": 40,
    "start_time": "2024-08-09T20:32:10.400Z"
   },
   {
    "duration": 37,
    "start_time": "2024-08-09T20:32:26.171Z"
   },
   {
    "duration": 134,
    "start_time": "2024-08-09T20:32:52.156Z"
   },
   {
    "duration": 3,
    "start_time": "2024-08-09T20:33:08.487Z"
   },
   {
    "duration": 64,
    "start_time": "2024-08-09T20:33:08.492Z"
   },
   {
    "duration": 42,
    "start_time": "2024-08-09T20:33:08.558Z"
   },
   {
    "duration": 26,
    "start_time": "2024-08-09T20:33:08.601Z"
   },
   {
    "duration": 20,
    "start_time": "2024-08-09T20:33:08.630Z"
   },
   {
    "duration": 24,
    "start_time": "2024-08-09T20:33:08.656Z"
   },
   {
    "duration": 8,
    "start_time": "2024-08-09T20:33:08.682Z"
   },
   {
    "duration": 198,
    "start_time": "2024-08-09T20:33:08.693Z"
   },
   {
    "duration": 6,
    "start_time": "2024-08-09T20:33:08.893Z"
   },
   {
    "duration": 107,
    "start_time": "2024-08-09T20:33:08.901Z"
   },
   {
    "duration": 204,
    "start_time": "2024-08-09T20:33:09.010Z"
   },
   {
    "duration": 272,
    "start_time": "2024-08-09T20:33:09.216Z"
   },
   {
    "duration": 277,
    "start_time": "2024-08-09T20:33:09.491Z"
   },
   {
    "duration": 32,
    "start_time": "2024-08-09T20:33:09.770Z"
   },
   {
    "duration": 11,
    "start_time": "2024-08-09T20:33:09.804Z"
   },
   {
    "duration": 48,
    "start_time": "2024-08-09T20:33:09.816Z"
   },
   {
    "duration": 22,
    "start_time": "2024-08-09T20:33:09.866Z"
   },
   {
    "duration": 428,
    "start_time": "2024-08-09T20:33:09.890Z"
   },
   {
    "duration": 524,
    "start_time": "2024-08-09T20:33:10.321Z"
   },
   {
    "duration": 41,
    "start_time": "2024-08-09T20:33:10.848Z"
   },
   {
    "duration": 39,
    "start_time": "2024-08-09T20:33:20.185Z"
   },
   {
    "duration": 37,
    "start_time": "2024-08-09T20:34:40.957Z"
   },
   {
    "duration": 81,
    "start_time": "2024-08-09T20:39:12.603Z"
   },
   {
    "duration": 63,
    "start_time": "2024-08-09T20:40:03.154Z"
   },
   {
    "duration": 37,
    "start_time": "2024-08-09T20:40:46.804Z"
   },
   {
    "duration": 42,
    "start_time": "2024-08-09T20:42:16.527Z"
   },
   {
    "duration": 28,
    "start_time": "2024-08-09T20:43:27.793Z"
   },
   {
    "duration": 32,
    "start_time": "2024-08-09T20:43:31.194Z"
   },
   {
    "duration": 40,
    "start_time": "2024-08-09T20:43:37.219Z"
   },
   {
    "duration": 43,
    "start_time": "2024-08-09T20:43:45.292Z"
   },
   {
    "duration": 50,
    "start_time": "2024-08-09T20:43:51.395Z"
   },
   {
    "duration": 43,
    "start_time": "2024-08-09T20:44:57.677Z"
   },
   {
    "duration": 48,
    "start_time": "2024-08-09T20:46:34.157Z"
   },
   {
    "duration": 449,
    "start_time": "2024-08-09T20:47:06.780Z"
   },
   {
    "duration": 4,
    "start_time": "2024-08-09T20:48:08.480Z"
   },
   {
    "duration": 8,
    "start_time": "2024-08-09T20:50:52.801Z"
   },
   {
    "duration": 8,
    "start_time": "2024-08-09T20:51:01.770Z"
   },
   {
    "duration": 6,
    "start_time": "2024-08-09T20:51:56.738Z"
   },
   {
    "duration": 9,
    "start_time": "2024-08-09T20:54:52.820Z"
   },
   {
    "duration": 15,
    "start_time": "2024-08-09T21:02:19.478Z"
   },
   {
    "duration": 216,
    "start_time": "2024-08-09T21:04:12.269Z"
   },
   {
    "duration": 180,
    "start_time": "2024-08-09T21:04:31.944Z"
   },
   {
    "duration": 185,
    "start_time": "2024-08-09T21:04:39.764Z"
   },
   {
    "duration": 312,
    "start_time": "2024-08-09T21:04:47.025Z"
   },
   {
    "duration": 49,
    "start_time": "2024-08-10T04:07:18.208Z"
   },
   {
    "duration": 1393,
    "start_time": "2024-08-10T04:07:22.140Z"
   },
   {
    "duration": 96,
    "start_time": "2024-08-10T04:07:23.536Z"
   },
   {
    "duration": 155,
    "start_time": "2024-08-10T04:07:23.633Z"
   },
   {
    "duration": 81,
    "start_time": "2024-08-10T04:07:23.790Z"
   },
   {
    "duration": 20,
    "start_time": "2024-08-10T04:07:23.873Z"
   },
   {
    "duration": 25,
    "start_time": "2024-08-10T04:07:23.894Z"
   },
   {
    "duration": 7,
    "start_time": "2024-08-10T04:07:23.921Z"
   },
   {
    "duration": 177,
    "start_time": "2024-08-10T04:07:23.929Z"
   },
   {
    "duration": 7,
    "start_time": "2024-08-10T04:07:24.108Z"
   },
   {
    "duration": 109,
    "start_time": "2024-08-10T04:07:24.116Z"
   },
   {
    "duration": 173,
    "start_time": "2024-08-10T04:07:24.227Z"
   },
   {
    "duration": 268,
    "start_time": "2024-08-10T04:07:24.402Z"
   },
   {
    "duration": 254,
    "start_time": "2024-08-10T04:07:24.672Z"
   },
   {
    "duration": 40,
    "start_time": "2024-08-10T04:07:24.929Z"
   },
   {
    "duration": 11,
    "start_time": "2024-08-10T04:07:24.971Z"
   },
   {
    "duration": 24,
    "start_time": "2024-08-10T04:07:24.984Z"
   },
   {
    "duration": 48,
    "start_time": "2024-08-10T04:07:25.009Z"
   },
   {
    "duration": 467,
    "start_time": "2024-08-10T04:07:25.058Z"
   },
   {
    "duration": 392,
    "start_time": "2024-08-10T04:07:25.527Z"
   },
   {
    "duration": 60,
    "start_time": "2024-08-10T04:07:25.921Z"
   },
   {
    "duration": 7,
    "start_time": "2024-08-10T04:07:25.993Z"
   },
   {
    "duration": 7,
    "start_time": "2024-08-10T04:07:37.952Z"
   },
   {
    "duration": 8,
    "start_time": "2024-08-10T04:07:46.824Z"
   },
   {
    "duration": 10,
    "start_time": "2024-08-10T04:11:49.191Z"
   },
   {
    "duration": 5,
    "start_time": "2024-08-10T04:13:56.690Z"
   },
   {
    "duration": 6,
    "start_time": "2024-08-10T04:15:41.717Z"
   },
   {
    "duration": 5,
    "start_time": "2024-08-10T04:15:51.939Z"
   },
   {
    "duration": 17,
    "start_time": "2024-08-10T04:16:08.410Z"
   },
   {
    "duration": 1264,
    "start_time": "2024-08-11T05:11:31.728Z"
   },
   {
    "duration": 139,
    "start_time": "2024-08-11T05:11:32.994Z"
   },
   {
    "duration": 220,
    "start_time": "2024-08-11T05:11:33.134Z"
   },
   {
    "duration": 95,
    "start_time": "2024-08-11T05:11:33.356Z"
   },
   {
    "duration": 20,
    "start_time": "2024-08-11T05:11:33.453Z"
   },
   {
    "duration": 22,
    "start_time": "2024-08-11T05:11:33.475Z"
   },
   {
    "duration": 24,
    "start_time": "2024-08-11T05:11:33.499Z"
   },
   {
    "duration": 162,
    "start_time": "2024-08-11T05:11:33.525Z"
   },
   {
    "duration": 6,
    "start_time": "2024-08-11T05:11:33.689Z"
   },
   {
    "duration": 93,
    "start_time": "2024-08-11T05:11:33.696Z"
   },
   {
    "duration": 170,
    "start_time": "2024-08-11T05:11:33.790Z"
   },
   {
    "duration": 253,
    "start_time": "2024-08-11T05:11:33.961Z"
   },
   {
    "duration": 242,
    "start_time": "2024-08-11T05:11:34.215Z"
   },
   {
    "duration": 30,
    "start_time": "2024-08-11T05:11:34.460Z"
   },
   {
    "duration": 10,
    "start_time": "2024-08-11T05:11:34.492Z"
   },
   {
    "duration": 24,
    "start_time": "2024-08-11T05:11:34.524Z"
   },
   {
    "duration": 21,
    "start_time": "2024-08-11T05:11:34.549Z"
   },
   {
    "duration": 450,
    "start_time": "2024-08-11T05:11:34.572Z"
   },
   {
    "duration": 364,
    "start_time": "2024-08-11T05:11:35.027Z"
   },
   {
    "duration": 61,
    "start_time": "2024-08-11T05:11:35.393Z"
   },
   {
    "duration": 9,
    "start_time": "2024-08-11T05:11:35.456Z"
   },
   {
    "duration": 5,
    "start_time": "2024-08-11T05:11:35.467Z"
   },
   {
    "duration": 12,
    "start_time": "2024-08-11T05:11:35.474Z"
   },
   {
    "duration": 86,
    "start_time": "2024-08-11T05:11:35.487Z"
   },
   {
    "duration": 0,
    "start_time": "2024-08-11T05:11:35.575Z"
   },
   {
    "duration": 0,
    "start_time": "2024-08-11T08:18:33.470Z"
   },
   {
    "duration": 0,
    "start_time": "2024-08-11T08:18:33.472Z"
   },
   {
    "duration": 0,
    "start_time": "2024-08-11T08:18:33.473Z"
   },
   {
    "duration": 0,
    "start_time": "2024-08-11T08:18:33.474Z"
   },
   {
    "duration": 0,
    "start_time": "2024-08-11T08:18:33.475Z"
   },
   {
    "duration": 0,
    "start_time": "2024-08-11T08:18:33.476Z"
   },
   {
    "duration": 0,
    "start_time": "2024-08-11T08:18:33.477Z"
   },
   {
    "duration": 0,
    "start_time": "2024-08-11T08:18:33.478Z"
   },
   {
    "duration": 0,
    "start_time": "2024-08-11T08:18:33.479Z"
   },
   {
    "duration": 1,
    "start_time": "2024-08-11T08:18:33.479Z"
   },
   {
    "duration": 0,
    "start_time": "2024-08-11T08:18:33.481Z"
   },
   {
    "duration": 6,
    "start_time": "2024-08-11T08:35:41.685Z"
   },
   {
    "duration": 1153,
    "start_time": "2024-08-11T08:35:47.856Z"
   },
   {
    "duration": 88,
    "start_time": "2024-08-11T08:35:49.011Z"
   },
   {
    "duration": 166,
    "start_time": "2024-08-11T08:35:49.100Z"
   },
   {
    "duration": 78,
    "start_time": "2024-08-11T08:35:49.268Z"
   },
   {
    "duration": 15,
    "start_time": "2024-08-11T08:35:49.348Z"
   },
   {
    "duration": 18,
    "start_time": "2024-08-11T08:35:49.365Z"
   },
   {
    "duration": 5,
    "start_time": "2024-08-11T08:35:49.385Z"
   },
   {
    "duration": 174,
    "start_time": "2024-08-11T08:35:49.392Z"
   },
   {
    "duration": 5,
    "start_time": "2024-08-11T08:35:49.568Z"
   },
   {
    "duration": 82,
    "start_time": "2024-08-11T08:35:49.574Z"
   },
   {
    "duration": 150,
    "start_time": "2024-08-11T08:35:49.657Z"
   },
   {
    "duration": 195,
    "start_time": "2024-08-11T08:35:49.808Z"
   },
   {
    "duration": 184,
    "start_time": "2024-08-11T08:35:50.004Z"
   },
   {
    "duration": 28,
    "start_time": "2024-08-11T08:35:50.191Z"
   },
   {
    "duration": 8,
    "start_time": "2024-08-11T08:35:50.220Z"
   },
   {
    "duration": 80,
    "start_time": "2024-08-11T08:35:50.229Z"
   },
   {
    "duration": 16,
    "start_time": "2024-08-11T08:35:50.310Z"
   },
   {
    "duration": 269,
    "start_time": "2024-08-11T08:35:50.328Z"
   },
   {
    "duration": 265,
    "start_time": "2024-08-11T08:35:50.601Z"
   },
   {
    "duration": 48,
    "start_time": "2024-08-11T08:35:50.868Z"
   },
   {
    "duration": 8,
    "start_time": "2024-08-11T08:35:50.917Z"
   },
   {
    "duration": 39,
    "start_time": "2024-08-11T08:35:50.926Z"
   },
   {
    "duration": 15,
    "start_time": "2024-08-11T08:35:50.966Z"
   },
   {
    "duration": 59,
    "start_time": "2024-08-11T08:35:50.982Z"
   },
   {
    "duration": 0,
    "start_time": "2024-08-11T08:35:51.042Z"
   },
   {
    "duration": 140,
    "start_time": "2024-08-11T08:36:30.865Z"
   },
   {
    "duration": 142,
    "start_time": "2024-08-11T08:36:47.639Z"
   },
   {
    "duration": 140,
    "start_time": "2024-08-11T08:36:56.735Z"
   },
   {
    "duration": 147,
    "start_time": "2024-08-11T08:37:34.633Z"
   },
   {
    "duration": 199,
    "start_time": "2024-08-11T08:38:24.065Z"
   },
   {
    "duration": 129,
    "start_time": "2024-08-11T08:39:25.685Z"
   },
   {
    "duration": 122,
    "start_time": "2024-08-11T08:39:33.990Z"
   },
   {
    "duration": 159,
    "start_time": "2024-08-11T08:39:44.459Z"
   },
   {
    "duration": 130,
    "start_time": "2024-08-11T08:39:49.814Z"
   },
   {
    "duration": 130,
    "start_time": "2024-08-11T08:39:54.959Z"
   },
   {
    "duration": 134,
    "start_time": "2024-08-11T08:39:59.151Z"
   },
   {
    "duration": 195,
    "start_time": "2024-08-11T08:40:08.604Z"
   },
   {
    "duration": 159,
    "start_time": "2024-08-11T08:40:15.513Z"
   },
   {
    "duration": 252,
    "start_time": "2024-08-11T08:40:27.128Z"
   },
   {
    "duration": 159,
    "start_time": "2024-08-11T08:40:37.059Z"
   },
   {
    "duration": 160,
    "start_time": "2024-08-11T08:41:08.071Z"
   },
   {
    "duration": 1035,
    "start_time": "2024-08-11T08:41:48.455Z"
   },
   {
    "duration": 210,
    "start_time": "2024-08-11T08:42:17.157Z"
   },
   {
    "duration": 184,
    "start_time": "2024-08-11T08:43:11.525Z"
   },
   {
    "duration": 197,
    "start_time": "2024-08-11T08:43:13.983Z"
   },
   {
    "duration": 225,
    "start_time": "2024-08-11T08:48:52.784Z"
   },
   {
    "duration": 1220,
    "start_time": "2024-08-11T12:25:28.796Z"
   },
   {
    "duration": 137,
    "start_time": "2024-08-11T12:25:30.018Z"
   },
   {
    "duration": 197,
    "start_time": "2024-08-11T12:25:30.157Z"
   },
   {
    "duration": 87,
    "start_time": "2024-08-11T12:25:30.356Z"
   },
   {
    "duration": 19,
    "start_time": "2024-08-11T12:25:30.444Z"
   },
   {
    "duration": 68,
    "start_time": "2024-08-11T12:25:30.464Z"
   },
   {
    "duration": 56,
    "start_time": "2024-08-11T12:25:30.533Z"
   },
   {
    "duration": 197,
    "start_time": "2024-08-11T12:25:30.590Z"
   },
   {
    "duration": 6,
    "start_time": "2024-08-11T12:25:30.788Z"
   },
   {
    "duration": 142,
    "start_time": "2024-08-11T12:25:30.796Z"
   },
   {
    "duration": 184,
    "start_time": "2024-08-11T12:25:30.939Z"
   },
   {
    "duration": 239,
    "start_time": "2024-08-11T12:25:31.124Z"
   },
   {
    "duration": 228,
    "start_time": "2024-08-11T12:25:31.364Z"
   },
   {
    "duration": 28,
    "start_time": "2024-08-11T12:25:31.594Z"
   },
   {
    "duration": 88,
    "start_time": "2024-08-11T12:25:31.623Z"
   },
   {
    "duration": 61,
    "start_time": "2024-08-11T12:25:31.712Z"
   },
   {
    "duration": 35,
    "start_time": "2024-08-11T12:25:31.775Z"
   },
   {
    "duration": 442,
    "start_time": "2024-08-11T12:25:31.812Z"
   },
   {
    "duration": 336,
    "start_time": "2024-08-11T12:25:32.255Z"
   },
   {
    "duration": 39,
    "start_time": "2024-08-11T12:25:32.593Z"
   },
   {
    "duration": 7,
    "start_time": "2024-08-11T12:25:32.633Z"
   },
   {
    "duration": 16,
    "start_time": "2024-08-11T12:25:32.642Z"
   },
   {
    "duration": 23,
    "start_time": "2024-08-11T12:25:32.660Z"
   },
   {
    "duration": 76,
    "start_time": "2024-08-11T12:25:32.684Z"
   },
   {
    "duration": 0,
    "start_time": "2024-08-11T12:25:32.761Z"
   },
   {
    "duration": 50,
    "start_time": "2025-07-22T20:21:12.065Z"
   },
   {
    "duration": 1519,
    "start_time": "2025-07-22T20:21:18.170Z"
   },
   {
    "duration": 85,
    "start_time": "2025-07-22T20:21:19.692Z"
   },
   {
    "duration": 87,
    "start_time": "2025-07-22T20:21:19.779Z"
   },
   {
    "duration": 66,
    "start_time": "2025-07-22T20:21:19.868Z"
   },
   {
    "duration": 29,
    "start_time": "2025-07-22T20:21:19.936Z"
   },
   {
    "duration": 28,
    "start_time": "2025-07-22T20:21:19.967Z"
   },
   {
    "duration": 8,
    "start_time": "2025-07-22T20:21:19.997Z"
   },
   {
    "duration": 221,
    "start_time": "2025-07-22T20:21:20.006Z"
   },
   {
    "duration": 13,
    "start_time": "2025-07-22T20:21:20.229Z"
   },
   {
    "duration": 110,
    "start_time": "2025-07-22T20:21:20.246Z"
   },
   {
    "duration": 219,
    "start_time": "2025-07-22T20:21:20.358Z"
   },
   {
    "duration": 279,
    "start_time": "2025-07-22T20:21:20.579Z"
   },
   {
    "duration": 302,
    "start_time": "2025-07-22T20:21:20.860Z"
   },
   {
    "duration": 33,
    "start_time": "2025-07-22T20:21:21.164Z"
   },
   {
    "duration": 41,
    "start_time": "2025-07-22T20:21:21.199Z"
   },
   {
    "duration": 34,
    "start_time": "2025-07-22T20:21:21.242Z"
   },
   {
    "duration": 22,
    "start_time": "2025-07-22T20:21:21.277Z"
   },
   {
    "duration": 501,
    "start_time": "2025-07-22T20:21:21.301Z"
   },
   {
    "duration": 383,
    "start_time": "2025-07-22T20:21:21.804Z"
   },
   {
    "duration": 64,
    "start_time": "2025-07-22T20:21:22.190Z"
   },
   {
    "duration": 10,
    "start_time": "2025-07-22T20:21:22.256Z"
   },
   {
    "duration": 7,
    "start_time": "2025-07-22T20:21:22.268Z"
   },
   {
    "duration": 15,
    "start_time": "2025-07-22T20:21:22.276Z"
   },
   {
    "duration": 84,
    "start_time": "2025-07-22T20:21:22.293Z"
   },
   {
    "duration": 0,
    "start_time": "2025-07-22T20:21:22.379Z"
   },
   {
    "duration": 96,
    "start_time": "2025-07-22T20:21:39.256Z"
   },
   {
    "duration": 260,
    "start_time": "2025-07-22T20:22:21.620Z"
   },
   {
    "duration": 59,
    "start_time": "2025-07-22T20:23:28.679Z"
   },
   {
    "duration": 508,
    "start_time": "2025-07-22T20:23:59.079Z"
   },
   {
    "duration": 46,
    "start_time": "2025-08-12T17:30:56.966Z"
   },
   {
    "duration": 1292,
    "start_time": "2025-08-12T17:31:06.592Z"
   },
   {
    "duration": 44,
    "start_time": "2025-08-12T17:31:07.886Z"
   },
   {
    "duration": 49,
    "start_time": "2025-08-12T17:31:07.932Z"
   },
   {
    "duration": 25,
    "start_time": "2025-08-12T17:31:07.983Z"
   },
   {
    "duration": 19,
    "start_time": "2025-08-12T17:31:08.010Z"
   },
   {
    "duration": 34,
    "start_time": "2025-08-12T17:31:08.031Z"
   },
   {
    "duration": 6,
    "start_time": "2025-08-12T17:31:08.067Z"
   },
   {
    "duration": 152,
    "start_time": "2025-08-12T17:31:08.074Z"
   },
   {
    "duration": 6,
    "start_time": "2025-08-12T17:31:08.227Z"
   },
   {
    "duration": 87,
    "start_time": "2025-08-12T17:31:08.234Z"
   },
   {
    "duration": 186,
    "start_time": "2025-08-12T17:31:08.322Z"
   },
   {
    "duration": 235,
    "start_time": "2025-08-12T17:31:08.509Z"
   },
   {
    "duration": 239,
    "start_time": "2025-08-12T17:31:08.746Z"
   },
   {
    "duration": 29,
    "start_time": "2025-08-12T17:31:08.987Z"
   },
   {
    "duration": 9,
    "start_time": "2025-08-12T17:31:09.018Z"
   },
   {
    "duration": 117,
    "start_time": "2025-08-12T17:31:09.028Z"
   },
   {
    "duration": 26,
    "start_time": "2025-08-12T17:31:09.147Z"
   },
   {
    "duration": 464,
    "start_time": "2025-08-12T17:31:09.174Z"
   },
   {
    "duration": 448,
    "start_time": "2025-08-12T17:31:13.374Z"
   },
   {
    "duration": 61,
    "start_time": "2025-08-12T17:53:13.405Z"
   },
   {
    "duration": 3,
    "start_time": "2025-08-12T17:53:17.964Z"
   },
   {
    "duration": 38,
    "start_time": "2025-08-12T17:53:17.969Z"
   },
   {
    "duration": 39,
    "start_time": "2025-08-12T17:53:18.008Z"
   },
   {
    "duration": 25,
    "start_time": "2025-08-12T17:53:18.049Z"
   },
   {
    "duration": 17,
    "start_time": "2025-08-12T17:53:18.076Z"
   },
   {
    "duration": 86,
    "start_time": "2025-08-12T17:53:18.094Z"
   },
   {
    "duration": 7,
    "start_time": "2025-08-12T17:53:18.181Z"
   },
   {
    "duration": 142,
    "start_time": "2025-08-12T17:53:18.189Z"
   },
   {
    "duration": 5,
    "start_time": "2025-08-12T17:53:18.333Z"
   },
   {
    "duration": 87,
    "start_time": "2025-08-12T17:53:18.339Z"
   },
   {
    "duration": 188,
    "start_time": "2025-08-12T17:53:18.427Z"
   },
   {
    "duration": 330,
    "start_time": "2025-08-12T17:53:18.617Z"
   },
   {
    "duration": 224,
    "start_time": "2025-08-12T17:53:18.949Z"
   },
   {
    "duration": 27,
    "start_time": "2025-08-12T17:53:19.175Z"
   },
   {
    "duration": 11,
    "start_time": "2025-08-12T17:53:19.204Z"
   },
   {
    "duration": 47,
    "start_time": "2025-08-12T17:53:19.216Z"
   },
   {
    "duration": 21,
    "start_time": "2025-08-12T17:53:19.265Z"
   },
   {
    "duration": 465,
    "start_time": "2025-08-12T17:53:19.288Z"
   },
   {
    "duration": 480,
    "start_time": "2025-08-12T17:53:19.755Z"
   },
   {
    "duration": 51,
    "start_time": "2025-08-12T17:53:20.236Z"
   },
   {
    "duration": 8,
    "start_time": "2025-08-12T17:53:20.288Z"
   },
   {
    "duration": 17,
    "start_time": "2025-08-12T17:53:20.297Z"
   },
   {
    "duration": 11,
    "start_time": "2025-08-12T17:53:23.406Z"
   },
   {
    "duration": 12,
    "start_time": "2025-08-12T17:56:09.537Z"
   },
   {
    "duration": 11,
    "start_time": "2025-08-12T17:56:22.235Z"
   },
   {
    "duration": 10,
    "start_time": "2025-08-12T17:56:34.537Z"
   },
   {
    "duration": 125,
    "start_time": "2025-08-12T18:04:59.350Z"
   },
   {
    "duration": 253,
    "start_time": "2025-08-12T18:05:08.252Z"
   },
   {
    "duration": 248,
    "start_time": "2025-08-12T18:05:22.576Z"
   },
   {
    "duration": 6,
    "start_time": "2025-08-12T18:07:20.872Z"
   },
   {
    "duration": 355,
    "start_time": "2025-08-12T18:07:59.354Z"
   },
   {
    "duration": 248,
    "start_time": "2025-08-12T18:08:13.773Z"
   },
   {
    "duration": 105,
    "start_time": "2025-08-12T18:08:26.396Z"
   },
   {
    "duration": 299,
    "start_time": "2025-08-12T18:08:30.075Z"
   },
   {
    "duration": 274,
    "start_time": "2025-08-12T18:08:37.695Z"
   },
   {
    "duration": 225,
    "start_time": "2025-08-12T18:09:20.973Z"
   },
   {
    "duration": 302,
    "start_time": "2025-08-12T18:09:36.727Z"
   },
   {
    "duration": 283,
    "start_time": "2025-08-12T18:09:50.633Z"
   },
   {
    "duration": 280,
    "start_time": "2025-08-12T18:10:44.833Z"
   },
   {
    "duration": 304,
    "start_time": "2025-08-12T18:11:25.910Z"
   },
   {
    "duration": 97,
    "start_time": "2025-08-12T18:13:10.064Z"
   },
   {
    "duration": 316,
    "start_time": "2025-08-12T18:13:15.521Z"
   },
   {
    "duration": 310,
    "start_time": "2025-08-12T18:13:21.221Z"
   },
   {
    "duration": 305,
    "start_time": "2025-08-12T18:14:52.227Z"
   },
   {
    "duration": 17,
    "start_time": "2025-08-12T18:27:42.761Z"
   },
   {
    "duration": 1255,
    "start_time": "2025-08-12T18:32:40.646Z"
   },
   {
    "duration": 43,
    "start_time": "2025-08-12T18:32:41.903Z"
   },
   {
    "duration": 56,
    "start_time": "2025-08-12T18:32:41.947Z"
   },
   {
    "duration": 25,
    "start_time": "2025-08-12T18:32:42.005Z"
   },
   {
    "duration": 19,
    "start_time": "2025-08-12T18:32:42.032Z"
   },
   {
    "duration": 51,
    "start_time": "2025-08-12T18:32:42.053Z"
   },
   {
    "duration": 6,
    "start_time": "2025-08-12T18:32:42.106Z"
   },
   {
    "duration": 183,
    "start_time": "2025-08-12T18:32:42.113Z"
   },
   {
    "duration": 5,
    "start_time": "2025-08-12T18:32:42.298Z"
   },
   {
    "duration": 110,
    "start_time": "2025-08-12T18:32:42.306Z"
   },
   {
    "duration": 220,
    "start_time": "2025-08-12T18:32:42.418Z"
   },
   {
    "duration": 290,
    "start_time": "2025-08-12T18:32:42.640Z"
   },
   {
    "duration": 273,
    "start_time": "2025-08-12T18:32:42.931Z"
   },
   {
    "duration": 31,
    "start_time": "2025-08-12T18:32:43.206Z"
   },
   {
    "duration": 36,
    "start_time": "2025-08-12T18:32:43.239Z"
   },
   {
    "duration": 146,
    "start_time": "2025-08-12T18:32:43.277Z"
   },
   {
    "duration": 19,
    "start_time": "2025-08-12T18:32:43.425Z"
   },
   {
    "duration": 546,
    "start_time": "2025-08-12T18:32:43.446Z"
   },
   {
    "duration": 510,
    "start_time": "2025-08-12T18:32:43.994Z"
   },
   {
    "duration": 46,
    "start_time": "2025-08-12T18:32:44.505Z"
   },
   {
    "duration": 13,
    "start_time": "2025-08-12T18:32:44.563Z"
   },
   {
    "duration": 14,
    "start_time": "2025-08-12T18:32:44.579Z"
   },
   {
    "duration": 13,
    "start_time": "2025-08-12T18:32:44.595Z"
   },
   {
    "duration": 337,
    "start_time": "2025-08-12T18:32:44.611Z"
   },
   {
    "duration": 12,
    "start_time": "2025-08-12T18:32:44.950Z"
   }
  ],
  "kernelspec": {
   "display_name": "Python 3 (ipykernel)",
   "language": "python",
   "name": "python3"
  },
  "language_info": {
   "codemirror_mode": {
    "name": "ipython",
    "version": 3
   },
   "file_extension": ".py",
   "mimetype": "text/x-python",
   "name": "python",
   "nbconvert_exporter": "python",
   "pygments_lexer": "ipython3",
   "version": "3.9.5"
  },
  "toc": {
   "base_numbering": 1,
   "nav_menu": {},
   "number_sections": true,
   "sideBar": true,
   "skip_h1_title": true,
   "title_cell": "Table of Contents",
   "title_sidebar": "Contents",
   "toc_cell": false,
   "toc_position": {},
   "toc_section_display": true,
   "toc_window_display": false
  }
 },
 "nbformat": 4,
 "nbformat_minor": 5
}
